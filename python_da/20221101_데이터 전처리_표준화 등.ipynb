{
 "cells": [
  {
   "cell_type": "markdown",
   "id": "3e6aa28f",
   "metadata": {},
   "source": [
    "# 데이터 전처리\n",
    "\n",
    "- 데이터 형식에 대한 처리\n",
    "    - 공백 문자\n",
    "        - str.strip() : 양쪽 공백 제거\n",
    "        - str.lstrip() : 왼쪽 공백 제거\n",
    "        - str.rstip() : 오른쪽 공백 제거\n",
    "    - 데이터 타입\n",
    "    - 불규칙한 대소문자\n",
    "    - 불규칙한 구분기호\n",
    "    - 유효하지 않은 문자\n",
    "    - 불규칙한 날짜 및 시간 표기"
   ]
  },
  {
   "cell_type": "code",
   "execution_count": 1,
   "id": "331625ea",
   "metadata": {},
   "outputs": [],
   "source": [
    "# 라이브러리 불러오기\n",
    "\n",
    "import numpy as np\n",
    "import pandas as pd"
   ]
  },
  {
   "cell_type": "markdown",
   "id": "7b34c89a",
   "metadata": {},
   "source": [
    "#### 1. 날짜 형식"
   ]
  },
  {
   "cell_type": "code",
   "execution_count": 2,
   "id": "ee16c08b",
   "metadata": {},
   "outputs": [],
   "source": [
    "# 날짜 데이터1 : str 타입\n",
    "str_data = ['2022/11/01','2022.10.31','2021-10-09']"
   ]
  },
  {
   "cell_type": "code",
   "execution_count": 3,
   "id": "8f9cc650",
   "metadata": {},
   "outputs": [
    {
     "data": {
      "text/plain": [
       "0    2022/11/01\n",
       "1    2022.10.31\n",
       "2    2021-10-09\n",
       "dtype: object"
      ]
     },
     "execution_count": 3,
     "metadata": {},
     "output_type": "execute_result"
    }
   ],
   "source": [
    "# 시리즈 형태로 저장\n",
    "pd.Series(str_data)"
   ]
  },
  {
   "cell_type": "code",
   "execution_count": 5,
   "id": "98102849",
   "metadata": {},
   "outputs": [
    {
     "data": {
      "text/plain": [
       "0   2022-11-01\n",
       "1   2022-10-31\n",
       "2   2021-10-09\n",
       "dtype: datetime64[ns]"
      ]
     },
     "execution_count": 5,
     "metadata": {},
     "output_type": "execute_result"
    }
   ],
   "source": [
    "# 1) str 타입을 datetime 타입으로 변환 후 pandas 저장\n",
    "# pd.to_datetime()\n",
    "pd.Series(pd.to_datetime(str_data))"
   ]
  },
  {
   "cell_type": "code",
   "execution_count": 8,
   "id": "5a5464d7",
   "metadata": {},
   "outputs": [
    {
     "data": {
      "text/plain": [
       "0   2022-11-01\n",
       "1   2022-10-31\n",
       "2   2021-10-09\n",
       "dtype: datetime64[ns]"
      ]
     },
     "execution_count": 8,
     "metadata": {},
     "output_type": "execute_result"
    }
   ],
   "source": [
    "# 2) str 타입으로 저장 후 데이터 타입 변경\n",
    "# seriesdtype : 데이터타입 확인\n",
    "# series.astype() : 데이터타입 변경\n",
    "pd.Series(str_data).astype('datetime64')"
   ]
  },
  {
   "cell_type": "code",
   "execution_count": 11,
   "id": "6f747888",
   "metadata": {},
   "outputs": [],
   "source": [
    "# 날짜 데이터 2 : timestamp 타입\n",
    "# timestamp : 기준 시각(1970. 01. 01 00:00:00 UTC)로부터 몇 초가 경과했는지 표기(UNIX시간)\n",
    "stamp_date = [1234000, 1234101,1234202,1234300,1234500]"
   ]
  },
  {
   "cell_type": "code",
   "execution_count": 12,
   "id": "768c26b0",
   "metadata": {},
   "outputs": [
    {
     "data": {
      "text/plain": [
       "0    1234000\n",
       "1    1234101\n",
       "2    1234202\n",
       "3    1234300\n",
       "4    1234500\n",
       "dtype: int64"
      ]
     },
     "execution_count": 12,
     "metadata": {},
     "output_type": "execute_result"
    }
   ],
   "source": [
    "pd.Series(stamp_date)"
   ]
  },
  {
   "cell_type": "code",
   "execution_count": 17,
   "id": "b565dcf8",
   "metadata": {},
   "outputs": [
    {
     "data": {
      "text/plain": [
       "0   1970-01-01 00:00:00.001234000\n",
       "1   1970-01-01 00:00:00.001234101\n",
       "2   1970-01-01 00:00:00.001234202\n",
       "3   1970-01-01 00:00:00.001234300\n",
       "4   1970-01-01 00:00:00.001234500\n",
       "dtype: datetime64[ns]"
      ]
     },
     "execution_count": 17,
     "metadata": {},
     "output_type": "execute_result"
    }
   ],
   "source": [
    "# datetime 타입으로 변환 후 저장\n",
    "# timestamp의 기본 unit = ns(nano seconds)나노초 : 10억분의 1초\n",
    "# unit = ns(default), D(days), s(seconds), ms(milli seconds), us(micro seconds)\n",
    "pd.Series(pd.to_datetime(stamp_date))"
   ]
  },
  {
   "cell_type": "code",
   "execution_count": 18,
   "id": "8ecc1a66",
   "metadata": {},
   "outputs": [
    {
     "data": {
      "text/plain": [
       "0   1970-01-15 06:46:40\n",
       "1   1970-01-15 06:48:21\n",
       "2   1970-01-15 06:50:02\n",
       "3   1970-01-15 06:51:40\n",
       "4   1970-01-15 06:55:00\n",
       "dtype: datetime64[ns]"
      ]
     },
     "execution_count": 18,
     "metadata": {},
     "output_type": "execute_result"
    }
   ],
   "source": [
    "# unit = s(seconds)\n",
    "pd.Series(pd.to_datetime(stamp_date, unit='s'))"
   ]
  },
  {
   "cell_type": "code",
   "execution_count": 19,
   "id": "925a47ae",
   "metadata": {
    "collapsed": true
   },
   "outputs": [
    {
     "ename": "OutOfBoundsDatetime",
     "evalue": "cannot convert input 1234000 with the unit 'D'",
     "output_type": "error",
     "traceback": [
      "\u001b[1;31m---------------------------------------------------------------------------\u001b[0m",
      "\u001b[1;31mOverflowError\u001b[0m                             Traceback (most recent call last)",
      "File \u001b[1;32mC:\\ProgramData\\Anaconda3\\lib\\site-packages\\pandas\\_libs\\tslib.pyx:299\u001b[0m, in \u001b[0;36mpandas._libs.tslib.array_with_unit_to_datetime\u001b[1;34m()\u001b[0m\n",
      "File \u001b[1;32mC:\\ProgramData\\Anaconda3\\lib\\site-packages\\pandas\\_libs\\tslibs\\conversion.pyx:125\u001b[0m, in \u001b[0;36mpandas._libs.tslibs.conversion.cast_from_unit\u001b[1;34m()\u001b[0m\n",
      "\u001b[1;31mOverflowError\u001b[0m: int too big to convert",
      "\nDuring handling of the above exception, another exception occurred:\n",
      "\u001b[1;31mOutOfBoundsDatetime\u001b[0m                       Traceback (most recent call last)",
      "Input \u001b[1;32mIn [19]\u001b[0m, in \u001b[0;36m<cell line: 2>\u001b[1;34m()\u001b[0m\n\u001b[0;32m      1\u001b[0m \u001b[38;5;66;03m# unti = D\u001b[39;00m\n\u001b[1;32m----> 2\u001b[0m pd\u001b[38;5;241m.\u001b[39mSeries(\u001b[43mpd\u001b[49m\u001b[38;5;241;43m.\u001b[39;49m\u001b[43mto_datetime\u001b[49m\u001b[43m(\u001b[49m\u001b[43mstamp_date\u001b[49m\u001b[43m,\u001b[49m\u001b[43m \u001b[49m\u001b[43munit\u001b[49m\u001b[38;5;241;43m=\u001b[39;49m\u001b[38;5;124;43m'\u001b[39;49m\u001b[38;5;124;43mD\u001b[39;49m\u001b[38;5;124;43m'\u001b[39;49m\u001b[43m)\u001b[49m)\n",
      "File \u001b[1;32mC:\\ProgramData\\Anaconda3\\lib\\site-packages\\pandas\\core\\tools\\datetimes.py:1076\u001b[0m, in \u001b[0;36mto_datetime\u001b[1;34m(arg, errors, dayfirst, yearfirst, utc, format, exact, unit, infer_datetime_format, origin, cache)\u001b[0m\n\u001b[0;32m   1074\u001b[0m         result \u001b[38;5;241m=\u001b[39m _convert_and_box_cache(arg, cache_array)\n\u001b[0;32m   1075\u001b[0m     \u001b[38;5;28;01melse\u001b[39;00m:\n\u001b[1;32m-> 1076\u001b[0m         result \u001b[38;5;241m=\u001b[39m \u001b[43mconvert_listlike\u001b[49m\u001b[43m(\u001b[49m\u001b[43marg\u001b[49m\u001b[43m,\u001b[49m\u001b[43m \u001b[49m\u001b[38;5;28;43mformat\u001b[39;49m\u001b[43m)\u001b[49m\n\u001b[0;32m   1077\u001b[0m \u001b[38;5;28;01melse\u001b[39;00m:\n\u001b[0;32m   1078\u001b[0m     result \u001b[38;5;241m=\u001b[39m convert_listlike(np\u001b[38;5;241m.\u001b[39marray([arg]), \u001b[38;5;28mformat\u001b[39m)[\u001b[38;5;241m0\u001b[39m]\n",
      "File \u001b[1;32mC:\\ProgramData\\Anaconda3\\lib\\site-packages\\pandas\\core\\tools\\datetimes.py:357\u001b[0m, in \u001b[0;36m_convert_listlike_datetimes\u001b[1;34m(arg, format, name, tz, unit, errors, infer_datetime_format, dayfirst, yearfirst, exact)\u001b[0m\n\u001b[0;32m    355\u001b[0m     \u001b[38;5;28;01mif\u001b[39;00m \u001b[38;5;28mformat\u001b[39m \u001b[38;5;129;01mis\u001b[39;00m \u001b[38;5;129;01mnot\u001b[39;00m \u001b[38;5;28;01mNone\u001b[39;00m:\n\u001b[0;32m    356\u001b[0m         \u001b[38;5;28;01mraise\u001b[39;00m \u001b[38;5;167;01mValueError\u001b[39;00m(\u001b[38;5;124m\"\u001b[39m\u001b[38;5;124mcannot specify both format and unit\u001b[39m\u001b[38;5;124m\"\u001b[39m)\n\u001b[1;32m--> 357\u001b[0m     \u001b[38;5;28;01mreturn\u001b[39;00m \u001b[43m_to_datetime_with_unit\u001b[49m\u001b[43m(\u001b[49m\u001b[43marg\u001b[49m\u001b[43m,\u001b[49m\u001b[43m \u001b[49m\u001b[43munit\u001b[49m\u001b[43m,\u001b[49m\u001b[43m \u001b[49m\u001b[43mname\u001b[49m\u001b[43m,\u001b[49m\u001b[43m \u001b[49m\u001b[43mtz\u001b[49m\u001b[43m,\u001b[49m\u001b[43m \u001b[49m\u001b[43merrors\u001b[49m\u001b[43m)\u001b[49m\n\u001b[0;32m    358\u001b[0m \u001b[38;5;28;01melif\u001b[39;00m \u001b[38;5;28mgetattr\u001b[39m(arg, \u001b[38;5;124m\"\u001b[39m\u001b[38;5;124mndim\u001b[39m\u001b[38;5;124m\"\u001b[39m, \u001b[38;5;241m1\u001b[39m) \u001b[38;5;241m>\u001b[39m \u001b[38;5;241m1\u001b[39m:\n\u001b[0;32m    359\u001b[0m     \u001b[38;5;28;01mraise\u001b[39;00m \u001b[38;5;167;01mTypeError\u001b[39;00m(\n\u001b[0;32m    360\u001b[0m         \u001b[38;5;124m\"\u001b[39m\u001b[38;5;124marg must be a string, datetime, list, tuple, 1-d array, or Series\u001b[39m\u001b[38;5;124m\"\u001b[39m\n\u001b[0;32m    361\u001b[0m     )\n",
      "File \u001b[1;32mC:\\ProgramData\\Anaconda3\\lib\\site-packages\\pandas\\core\\tools\\datetimes.py:530\u001b[0m, in \u001b[0;36m_to_datetime_with_unit\u001b[1;34m(arg, unit, name, tz, errors)\u001b[0m\n\u001b[0;32m    528\u001b[0m \u001b[38;5;28;01melse\u001b[39;00m:\n\u001b[0;32m    529\u001b[0m     arg \u001b[38;5;241m=\u001b[39m np\u001b[38;5;241m.\u001b[39masarray(arg)\n\u001b[1;32m--> 530\u001b[0m     arr, tz_parsed \u001b[38;5;241m=\u001b[39m \u001b[43mtslib\u001b[49m\u001b[38;5;241;43m.\u001b[39;49m\u001b[43marray_with_unit_to_datetime\u001b[49m\u001b[43m(\u001b[49m\u001b[43marg\u001b[49m\u001b[43m,\u001b[49m\u001b[43m \u001b[49m\u001b[43munit\u001b[49m\u001b[43m,\u001b[49m\u001b[43m \u001b[49m\u001b[43merrors\u001b[49m\u001b[38;5;241;43m=\u001b[39;49m\u001b[43merrors\u001b[49m\u001b[43m)\u001b[49m\n\u001b[0;32m    532\u001b[0m \u001b[38;5;28;01mif\u001b[39;00m errors \u001b[38;5;241m==\u001b[39m \u001b[38;5;124m\"\u001b[39m\u001b[38;5;124mignore\u001b[39m\u001b[38;5;124m\"\u001b[39m:\n\u001b[0;32m    533\u001b[0m     \u001b[38;5;66;03m# Index constructor _may_ infer to DatetimeIndex\u001b[39;00m\n\u001b[0;32m    534\u001b[0m     result \u001b[38;5;241m=\u001b[39m Index\u001b[38;5;241m.\u001b[39m_with_infer(arr, name\u001b[38;5;241m=\u001b[39mname)\n",
      "File \u001b[1;32mC:\\ProgramData\\Anaconda3\\lib\\site-packages\\pandas\\_libs\\tslib.pyx:302\u001b[0m, in \u001b[0;36mpandas._libs.tslib.array_with_unit_to_datetime\u001b[1;34m()\u001b[0m\n",
      "\u001b[1;31mOutOfBoundsDatetime\u001b[0m: cannot convert input 1234000 with the unit 'D'"
     ]
    }
   ],
   "source": [
    "# unti = D\n",
    "pd.Series(pd.to_datetime(stamp_date, unit='D'))\n",
    "# 에러남 overflow오류"
   ]
  },
  {
   "cell_type": "code",
   "execution_count": 20,
   "id": "403c1061",
   "metadata": {},
   "outputs": [
    {
     "data": {
      "text/plain": [
       "0   1970-01-01 00:20:34.000\n",
       "1   1970-01-01 00:20:34.101\n",
       "2   1970-01-01 00:20:34.202\n",
       "3   1970-01-01 00:20:34.300\n",
       "4   1970-01-01 00:20:34.500\n",
       "dtype: datetime64[ns]"
      ]
     },
     "execution_count": 20,
     "metadata": {},
     "output_type": "execute_result"
    }
   ],
   "source": [
    "# unit = ms\n",
    "pd.Series(pd.to_datetime(stamp_date, unit='ms'))"
   ]
  },
  {
   "cell_type": "code",
   "execution_count": 22,
   "id": "daebe53a",
   "metadata": {},
   "outputs": [
    {
     "data": {
      "text/plain": [
       "0   1970-01-01 00:00:01.234000\n",
       "1   1970-01-01 00:00:01.234101\n",
       "2   1970-01-01 00:00:01.234202\n",
       "3   1970-01-01 00:00:01.234300\n",
       "4   1970-01-01 00:00:01.234500\n",
       "dtype: datetime64[ns]"
      ]
     },
     "execution_count": 22,
     "metadata": {},
     "output_type": "execute_result"
    }
   ],
   "source": [
    "# unit = us\n",
    "pd.Series(pd.to_datetime(stamp_date, unit='us'))"
   ]
  },
  {
   "cell_type": "markdown",
   "id": "90191943",
   "metadata": {},
   "source": [
    "#### 2. 라벨 형식 통일\n",
    "- 데이터의 인코딩 작업에 포함"
   ]
  },
  {
   "cell_type": "code",
   "execution_count": 23,
   "id": "f8b2e885",
   "metadata": {},
   "outputs": [
    {
     "data": {
      "text/html": [
       "<div>\n",
       "<style scoped>\n",
       "    .dataframe tbody tr th:only-of-type {\n",
       "        vertical-align: middle;\n",
       "    }\n",
       "\n",
       "    .dataframe tbody tr th {\n",
       "        vertical-align: top;\n",
       "    }\n",
       "\n",
       "    .dataframe thead th {\n",
       "        text-align: right;\n",
       "    }\n",
       "</style>\n",
       "<table border=\"1\" class=\"dataframe\">\n",
       "  <thead>\n",
       "    <tr style=\"text-align: right;\">\n",
       "      <th></th>\n",
       "      <th>gender</th>\n",
       "    </tr>\n",
       "  </thead>\n",
       "  <tbody>\n",
       "    <tr>\n",
       "      <th>0</th>\n",
       "      <td>0</td>\n",
       "    </tr>\n",
       "    <tr>\n",
       "      <th>1</th>\n",
       "      <td>0</td>\n",
       "    </tr>\n",
       "    <tr>\n",
       "      <th>2</th>\n",
       "      <td>0</td>\n",
       "    </tr>\n",
       "    <tr>\n",
       "      <th>3</th>\n",
       "      <td>1</td>\n",
       "    </tr>\n",
       "    <tr>\n",
       "      <th>4</th>\n",
       "      <td>0</td>\n",
       "    </tr>\n",
       "    <tr>\n",
       "      <th>5</th>\n",
       "      <td>1</td>\n",
       "    </tr>\n",
       "  </tbody>\n",
       "</table>\n",
       "</div>"
      ],
      "text/plain": [
       "   gender\n",
       "0       0\n",
       "1       0\n",
       "2       0\n",
       "3       1\n",
       "4       0\n",
       "5       1"
      ]
     },
     "execution_count": 23,
     "metadata": {},
     "output_type": "execute_result"
    }
   ],
   "source": [
    "# map()\n",
    "# dictionary 타입으로 encoding map을 생성해서 적용\n",
    "# gender = 0(남자), 1(여자)\n",
    "df = pd.DataFrame({'gender':[0,0,0,1,0,1]})\n",
    "gender_map = {0:'M',1:'F'}\n",
    "df"
   ]
  },
  {
   "cell_type": "code",
   "execution_count": 24,
   "id": "b5a21577",
   "metadata": {},
   "outputs": [
    {
     "data": {
      "text/plain": [
       "0    M\n",
       "1    M\n",
       "2    M\n",
       "3    F\n",
       "4    M\n",
       "5    F\n",
       "Name: gender, dtype: object"
      ]
     },
     "execution_count": 24,
     "metadata": {},
     "output_type": "execute_result"
    }
   ],
   "source": [
    "# df 변수의 'gender' 컬럼의 값을 map 함수를 이용해 0은 M으로, 1은 F로 변환\n",
    "df['gender'].map(gender_map)"
   ]
  },
  {
   "cell_type": "code",
   "execution_count": 26,
   "id": "d7fc090e",
   "metadata": {},
   "outputs": [
    {
     "data": {
      "text/plain": [
       "0    M\n",
       "1    M\n",
       "2    M\n",
       "3    1\n",
       "4    M\n",
       "5    1\n",
       "Name: gender, dtype: object"
      ]
     },
     "execution_count": 26,
     "metadata": {},
     "output_type": "execute_result"
    }
   ],
   "source": [
    "# 기존에 배운 파이썬 기본 문법으로 바꾸기\n",
    "# 찾아 바꾸기만 replace() 를 써도 됩니다.\n",
    "df['gender'].replace(0, \"M\")"
   ]
  },
  {
   "cell_type": "code",
   "execution_count": 36,
   "id": "88cd449f",
   "metadata": {},
   "outputs": [
    {
     "data": {
      "text/html": [
       "<div>\n",
       "<style scoped>\n",
       "    .dataframe tbody tr th:only-of-type {\n",
       "        vertical-align: middle;\n",
       "    }\n",
       "\n",
       "    .dataframe tbody tr th {\n",
       "        vertical-align: top;\n",
       "    }\n",
       "\n",
       "    .dataframe thead th {\n",
       "        text-align: right;\n",
       "    }\n",
       "</style>\n",
       "<table border=\"1\" class=\"dataframe\">\n",
       "  <thead>\n",
       "    <tr style=\"text-align: right;\">\n",
       "      <th></th>\n",
       "      <th>gender</th>\n",
       "    </tr>\n",
       "  </thead>\n",
       "  <tbody>\n",
       "    <tr>\n",
       "      <th>0</th>\n",
       "      <td>M</td>\n",
       "    </tr>\n",
       "    <tr>\n",
       "      <th>1</th>\n",
       "      <td>M</td>\n",
       "    </tr>\n",
       "    <tr>\n",
       "      <th>2</th>\n",
       "      <td>M</td>\n",
       "    </tr>\n",
       "    <tr>\n",
       "      <th>3</th>\n",
       "      <td>F</td>\n",
       "    </tr>\n",
       "    <tr>\n",
       "      <th>4</th>\n",
       "      <td>M</td>\n",
       "    </tr>\n",
       "    <tr>\n",
       "      <th>5</th>\n",
       "      <td>F</td>\n",
       "    </tr>\n",
       "  </tbody>\n",
       "</table>\n",
       "</div>"
      ],
      "text/plain": [
       "  gender\n",
       "0      M\n",
       "1      M\n",
       "2      M\n",
       "3      F\n",
       "4      M\n",
       "5      F"
      ]
     },
     "execution_count": 36,
     "metadata": {},
     "output_type": "execute_result"
    }
   ],
   "source": [
    "# 여러분들이 아래 코드를 응용해 M,F로 바뀐 df를 저장해주세요.\n",
    "df['gender'] = df['gender'].replace(0, \"M\").replace(1, \"F\").copy()\n",
    "# df['gender'] = df['gender'].replace([0,1], [\"M\",\"F\"])\n",
    "# df['gender'] = df['gender'].replace({0 :\"M\",1 :\"F\"})\n",
    "df"
   ]
  },
  {
   "cell_type": "markdown",
   "id": "40d7dca3",
   "metadata": {},
   "source": [
    "# 3. 문자 형식(대소문자, 기호 등) 통일"
   ]
  },
  {
   "cell_type": "code",
   "execution_count": 37,
   "id": "69a72c50",
   "metadata": {},
   "outputs": [
    {
     "data": {
      "text/html": [
       "<div>\n",
       "<style scoped>\n",
       "    .dataframe tbody tr th:only-of-type {\n",
       "        vertical-align: middle;\n",
       "    }\n",
       "\n",
       "    .dataframe tbody tr th {\n",
       "        vertical-align: top;\n",
       "    }\n",
       "\n",
       "    .dataframe thead th {\n",
       "        text-align: right;\n",
       "    }\n",
       "</style>\n",
       "<table border=\"1\" class=\"dataframe\">\n",
       "  <thead>\n",
       "    <tr style=\"text-align: right;\">\n",
       "      <th></th>\n",
       "      <th>Name</th>\n",
       "      <th>Age</th>\n",
       "    </tr>\n",
       "  </thead>\n",
       "  <tbody>\n",
       "    <tr>\n",
       "      <th>0</th>\n",
       "      <td>Jane</td>\n",
       "      <td>18</td>\n",
       "    </tr>\n",
       "    <tr>\n",
       "      <th>1</th>\n",
       "      <td>Albert</td>\n",
       "      <td>19</td>\n",
       "    </tr>\n",
       "    <tr>\n",
       "      <th>2</th>\n",
       "      <td>John</td>\n",
       "      <td>20</td>\n",
       "    </tr>\n",
       "  </tbody>\n",
       "</table>\n",
       "</div>"
      ],
      "text/plain": [
       "     Name  Age\n",
       "0    Jane   18\n",
       "1  Albert   19\n",
       "2    John   20"
      ]
     },
     "execution_count": 37,
     "metadata": {},
     "output_type": "execute_result"
    }
   ],
   "source": [
    "data = {'Name':['Jane','Albert','John'],\n",
    "       'Age':[18,19,20]}\n",
    "df1=pd.DataFrame(data)\n",
    "df1"
   ]
  },
  {
   "cell_type": "code",
   "execution_count": 38,
   "id": "179fa740",
   "metadata": {},
   "outputs": [
    {
     "name": "stdout",
     "output_type": "stream",
     "text": [
      "name\n",
      "age\n"
     ]
    }
   ],
   "source": [
    "# 컬럼명을 소문자로 바꾸는 첫 번째 방법\n",
    "# 빈 리스트에 소문자로 변경한 컬럼을 모두 적재한 뒤 대입\n",
    "new_cols = list()#[]\n",
    "for col in df1.columns:\n",
    "    print(col.lower())\n",
    "    new_cols.append(col.lower())"
   ]
  },
  {
   "cell_type": "code",
   "execution_count": 40,
   "id": "21f48ea8",
   "metadata": {},
   "outputs": [],
   "source": [
    "df1.columns = new_cols"
   ]
  },
  {
   "cell_type": "code",
   "execution_count": 41,
   "id": "3e1c6516",
   "metadata": {},
   "outputs": [
    {
     "data": {
      "text/html": [
       "<div>\n",
       "<style scoped>\n",
       "    .dataframe tbody tr th:only-of-type {\n",
       "        vertical-align: middle;\n",
       "    }\n",
       "\n",
       "    .dataframe tbody tr th {\n",
       "        vertical-align: top;\n",
       "    }\n",
       "\n",
       "    .dataframe thead th {\n",
       "        text-align: right;\n",
       "    }\n",
       "</style>\n",
       "<table border=\"1\" class=\"dataframe\">\n",
       "  <thead>\n",
       "    <tr style=\"text-align: right;\">\n",
       "      <th></th>\n",
       "      <th>name</th>\n",
       "      <th>age</th>\n",
       "    </tr>\n",
       "  </thead>\n",
       "  <tbody>\n",
       "    <tr>\n",
       "      <th>0</th>\n",
       "      <td>Jane</td>\n",
       "      <td>18</td>\n",
       "    </tr>\n",
       "    <tr>\n",
       "      <th>1</th>\n",
       "      <td>Albert</td>\n",
       "      <td>19</td>\n",
       "    </tr>\n",
       "    <tr>\n",
       "      <th>2</th>\n",
       "      <td>John</td>\n",
       "      <td>20</td>\n",
       "    </tr>\n",
       "  </tbody>\n",
       "</table>\n",
       "</div>"
      ],
      "text/plain": [
       "     name  age\n",
       "0    Jane   18\n",
       "1  Albert   19\n",
       "2    John   20"
      ]
     },
     "execution_count": 41,
     "metadata": {},
     "output_type": "execute_result"
    }
   ],
   "source": [
    "df1"
   ]
  },
  {
   "cell_type": "code",
   "execution_count": 43,
   "id": "7ea3a2f9",
   "metadata": {},
   "outputs": [
    {
     "data": {
      "text/plain": [
       "Index(['NAME', 'AGE'], dtype='object')"
      ]
     },
     "execution_count": 43,
     "metadata": {},
     "output_type": "execute_result"
    }
   ],
   "source": [
    "# df.columns.str에 바로 upper() 등을 걸 수 있음\n",
    "df1.columns.str.upper()"
   ]
  },
  {
   "cell_type": "code",
   "execution_count": 46,
   "id": "eeefcfa1",
   "metadata": {},
   "outputs": [
    {
     "data": {
      "text/html": [
       "<div>\n",
       "<style scoped>\n",
       "    .dataframe tbody tr th:only-of-type {\n",
       "        vertical-align: middle;\n",
       "    }\n",
       "\n",
       "    .dataframe tbody tr th {\n",
       "        vertical-align: top;\n",
       "    }\n",
       "\n",
       "    .dataframe thead th {\n",
       "        text-align: right;\n",
       "    }\n",
       "</style>\n",
       "<table border=\"1\" class=\"dataframe\">\n",
       "  <thead>\n",
       "    <tr style=\"text-align: right;\">\n",
       "      <th></th>\n",
       "      <th>NAME</th>\n",
       "      <th>AGE</th>\n",
       "    </tr>\n",
       "  </thead>\n",
       "  <tbody>\n",
       "    <tr>\n",
       "      <th>0</th>\n",
       "      <td>Jane</td>\n",
       "      <td>18</td>\n",
       "    </tr>\n",
       "    <tr>\n",
       "      <th>1</th>\n",
       "      <td>Albert</td>\n",
       "      <td>19</td>\n",
       "    </tr>\n",
       "    <tr>\n",
       "      <th>2</th>\n",
       "      <td>John</td>\n",
       "      <td>20</td>\n",
       "    </tr>\n",
       "  </tbody>\n",
       "</table>\n",
       "</div>"
      ],
      "text/plain": [
       "     NAME  AGE\n",
       "0    Jane   18\n",
       "1  Albert   19\n",
       "2    John   20"
      ]
     },
     "execution_count": 46,
     "metadata": {},
     "output_type": "execute_result"
    }
   ],
   "source": [
    "# 위 코드를 이용해 대문자로 교체해 주세요.\n",
    "df1.columns = df1.columns.str.upper()\n",
    "df1"
   ]
  },
  {
   "cell_type": "code",
   "execution_count": 53,
   "id": "510919c5",
   "metadata": {},
   "outputs": [],
   "source": [
    "# 내부 요소(NAME컬럼)의 모든 자료를 소문자로 통일\n",
    "# age : 정수 자료이므로 고칠 필요가 없음. 따라서 배제.\n",
    "# .apply(함수명) # 모든 함수 가능, Series 전체는 안됨\n",
    "# 해당 함수의 리턴값으로 컬럼 내부 값을 일괄적으로 교체해주는 명령어\n",
    "def change_lower(value):\n",
    "    return value.lower()"
   ]
  },
  {
   "cell_type": "code",
   "execution_count": 54,
   "id": "6642dbf8",
   "metadata": {},
   "outputs": [
    {
     "data": {
      "text/plain": [
       "0      jane\n",
       "1    albert\n",
       "2      john\n",
       "Name: NAME, dtype: object"
      ]
     },
     "execution_count": 54,
     "metadata": {},
     "output_type": "execute_result"
    }
   ],
   "source": [
    "df1['NAME'].apply(change_lower)"
   ]
  },
  {
   "cell_type": "code",
   "execution_count": 60,
   "id": "fdc7e45f",
   "metadata": {},
   "outputs": [
    {
     "data": {
      "text/plain": [
       "0      jane\n",
       "1    albert\n",
       "2      john\n",
       "Name: NAME, dtype: object"
      ]
     },
     "execution_count": 60,
     "metadata": {},
     "output_type": "execute_result"
    }
   ],
   "source": [
    "# apply는 map으로 대체 가능합니다.\n",
    "df1['NAME'].map(change_lower)"
   ]
  },
  {
   "cell_type": "code",
   "execution_count": 63,
   "id": "608e4818",
   "metadata": {},
   "outputs": [],
   "source": [
    "# AGE 컬럼의 값을 20이상이면 \"성인\", 19이하면 \"미성년자\" 를 return 하도록\n",
    "# is_adult() 함수를 아래에 정의해 주시고\n",
    "# 위 함수를 .apply()로 활용해 값을 일괄적으로 변경해 주세요.\n",
    "\n",
    "def is_adult(value):\n",
    "    if value >= 20:\n",
    "        value = \"성인\"\n",
    "    elif value <=19:\n",
    "        value = \"미성년자\"\n",
    "    return value"
   ]
  },
  {
   "cell_type": "code",
   "execution_count": 66,
   "id": "aececac8",
   "metadata": {},
   "outputs": [],
   "source": [
    "df1['AGE']=df1['AGE'].apply(is_adult)"
   ]
  },
  {
   "cell_type": "code",
   "execution_count": 67,
   "id": "05e4c3a6",
   "metadata": {},
   "outputs": [
    {
     "data": {
      "text/html": [
       "<div>\n",
       "<style scoped>\n",
       "    .dataframe tbody tr th:only-of-type {\n",
       "        vertical-align: middle;\n",
       "    }\n",
       "\n",
       "    .dataframe tbody tr th {\n",
       "        vertical-align: top;\n",
       "    }\n",
       "\n",
       "    .dataframe thead th {\n",
       "        text-align: right;\n",
       "    }\n",
       "</style>\n",
       "<table border=\"1\" class=\"dataframe\">\n",
       "  <thead>\n",
       "    <tr style=\"text-align: right;\">\n",
       "      <th></th>\n",
       "      <th>NAME</th>\n",
       "      <th>AGE</th>\n",
       "    </tr>\n",
       "  </thead>\n",
       "  <tbody>\n",
       "    <tr>\n",
       "      <th>0</th>\n",
       "      <td>Jane</td>\n",
       "      <td>미성년자</td>\n",
       "    </tr>\n",
       "    <tr>\n",
       "      <th>1</th>\n",
       "      <td>Albert</td>\n",
       "      <td>미성년자</td>\n",
       "    </tr>\n",
       "    <tr>\n",
       "      <th>2</th>\n",
       "      <td>John</td>\n",
       "      <td>성인</td>\n",
       "    </tr>\n",
       "  </tbody>\n",
       "</table>\n",
       "</div>"
      ],
      "text/plain": [
       "     NAME   AGE\n",
       "0    Jane  미성년자\n",
       "1  Albert  미성년자\n",
       "2    John    성인"
      ]
     },
     "execution_count": 67,
     "metadata": {},
     "output_type": "execute_result"
    }
   ],
   "source": [
    "df1"
   ]
  },
  {
   "cell_type": "markdown",
   "id": "6e417c45",
   "metadata": {},
   "source": [
    "#### 데이터 값에 대한 처리\n",
    "\n",
    "- 결측값(NaN)\n",
    "- 이상치(예측한 범위 밖의 값)\n",
    "- 단순 중복 데이터\n",
    "- 동일한 의미, 다른 명칭의 중복 데이터\n",
    "- 중복속성(다중공선성) # 비슷한게 많아 결과에 영향력이 큰 데이터\n",
    "- 불규칙한 데이터 수집(간격, 단위)"
   ]
  },
  {
   "cell_type": "code",
   "execution_count": 99,
   "id": "cb06df3c",
   "metadata": {},
   "outputs": [
    {
     "data": {
      "text/html": [
       "<div>\n",
       "<style scoped>\n",
       "    .dataframe tbody tr th:only-of-type {\n",
       "        vertical-align: middle;\n",
       "    }\n",
       "\n",
       "    .dataframe tbody tr th {\n",
       "        vertical-align: top;\n",
       "    }\n",
       "\n",
       "    .dataframe thead th {\n",
       "        text-align: right;\n",
       "    }\n",
       "</style>\n",
       "<table border=\"1\" class=\"dataframe\">\n",
       "  <thead>\n",
       "    <tr style=\"text-align: right;\">\n",
       "      <th></th>\n",
       "      <th>math</th>\n",
       "      <th>english</th>\n",
       "      <th>science</th>\n",
       "    </tr>\n",
       "  </thead>\n",
       "  <tbody>\n",
       "    <tr>\n",
       "      <th>0</th>\n",
       "      <td>70.0</td>\n",
       "      <td>NaN</td>\n",
       "      <td>NaN</td>\n",
       "    </tr>\n",
       "    <tr>\n",
       "      <th>1</th>\n",
       "      <td>75.0</td>\n",
       "      <td>65.0</td>\n",
       "      <td>80.0</td>\n",
       "    </tr>\n",
       "    <tr>\n",
       "      <th>2</th>\n",
       "      <td>NaN</td>\n",
       "      <td>NaN</td>\n",
       "      <td>NaN</td>\n",
       "    </tr>\n",
       "    <tr>\n",
       "      <th>3</th>\n",
       "      <td>56.0</td>\n",
       "      <td>89.0</td>\n",
       "      <td>NaN</td>\n",
       "    </tr>\n",
       "    <tr>\n",
       "      <th>4</th>\n",
       "      <td>89.0</td>\n",
       "      <td>95.0</td>\n",
       "      <td>83.0</td>\n",
       "    </tr>\n",
       "    <tr>\n",
       "      <th>5</th>\n",
       "      <td>90.0</td>\n",
       "      <td>100.0</td>\n",
       "      <td>89.0</td>\n",
       "    </tr>\n",
       "  </tbody>\n",
       "</table>\n",
       "</div>"
      ],
      "text/plain": [
       "   math  english  science\n",
       "0  70.0      NaN      NaN\n",
       "1  75.0     65.0     80.0\n",
       "2   NaN      NaN      NaN\n",
       "3  56.0     89.0      NaN\n",
       "4  89.0     95.0     83.0\n",
       "5  90.0    100.0     89.0"
      ]
     },
     "execution_count": 99,
     "metadata": {},
     "output_type": "execute_result"
    }
   ],
   "source": [
    "# 데이터 적재\n",
    "sample = pd.read_csv('data/csv_exam_nan.csv')\n",
    "sample"
   ]
  },
  {
   "cell_type": "markdown",
   "id": "bd5c95a3",
   "metadata": {},
   "source": [
    "#### 결측치 처리 - 삭제\n",
    "- 결측치가 하나라도 있는 레코드 삭제\n",
    "- 모든 값이 결측인 레코드 삭제\n",
    "- 결측치가 하나라도 있는 데이터만 삭제"
   ]
  },
  {
   "cell_type": "code",
   "execution_count": 69,
   "id": "715cfd80",
   "metadata": {},
   "outputs": [
    {
     "data": {
      "text/html": [
       "<div>\n",
       "<style scoped>\n",
       "    .dataframe tbody tr th:only-of-type {\n",
       "        vertical-align: middle;\n",
       "    }\n",
       "\n",
       "    .dataframe tbody tr th {\n",
       "        vertical-align: top;\n",
       "    }\n",
       "\n",
       "    .dataframe thead th {\n",
       "        text-align: right;\n",
       "    }\n",
       "</style>\n",
       "<table border=\"1\" class=\"dataframe\">\n",
       "  <thead>\n",
       "    <tr style=\"text-align: right;\">\n",
       "      <th></th>\n",
       "      <th>math</th>\n",
       "      <th>english</th>\n",
       "      <th>science</th>\n",
       "    </tr>\n",
       "  </thead>\n",
       "  <tbody>\n",
       "    <tr>\n",
       "      <th>1</th>\n",
       "      <td>75.0</td>\n",
       "      <td>65.0</td>\n",
       "      <td>80.0</td>\n",
       "    </tr>\n",
       "    <tr>\n",
       "      <th>4</th>\n",
       "      <td>89.0</td>\n",
       "      <td>95.0</td>\n",
       "      <td>83.0</td>\n",
       "    </tr>\n",
       "    <tr>\n",
       "      <th>5</th>\n",
       "      <td>90.0</td>\n",
       "      <td>100.0</td>\n",
       "      <td>89.0</td>\n",
       "    </tr>\n",
       "  </tbody>\n",
       "</table>\n",
       "</div>"
      ],
      "text/plain": [
       "   math  english  science\n",
       "1  75.0     65.0     80.0\n",
       "4  89.0     95.0     83.0\n",
       "5  90.0    100.0     89.0"
      ]
     },
     "execution_count": 69,
     "metadata": {},
     "output_type": "execute_result"
    }
   ],
   "source": [
    "# 결측치 하나 이상인 레코드(row) 삭제\n",
    "# df.dropna(how= 'any'(default), inplace=True)\n",
    "# inplace 파라미터 : 원본에 바로 반영\n",
    "sample.dropna() # how= 'any'"
   ]
  },
  {
   "cell_type": "code",
   "execution_count": 72,
   "id": "9a37d749",
   "metadata": {
    "scrolled": true
   },
   "outputs": [
    {
     "data": {
      "text/html": [
       "<div>\n",
       "<style scoped>\n",
       "    .dataframe tbody tr th:only-of-type {\n",
       "        vertical-align: middle;\n",
       "    }\n",
       "\n",
       "    .dataframe tbody tr th {\n",
       "        vertical-align: top;\n",
       "    }\n",
       "\n",
       "    .dataframe thead th {\n",
       "        text-align: right;\n",
       "    }\n",
       "</style>\n",
       "<table border=\"1\" class=\"dataframe\">\n",
       "  <thead>\n",
       "    <tr style=\"text-align: right;\">\n",
       "      <th></th>\n",
       "      <th>math</th>\n",
       "      <th>english</th>\n",
       "      <th>science</th>\n",
       "    </tr>\n",
       "  </thead>\n",
       "  <tbody>\n",
       "    <tr>\n",
       "      <th>0</th>\n",
       "      <td>70.0</td>\n",
       "      <td>NaN</td>\n",
       "      <td>NaN</td>\n",
       "    </tr>\n",
       "    <tr>\n",
       "      <th>1</th>\n",
       "      <td>75.0</td>\n",
       "      <td>65.0</td>\n",
       "      <td>80.0</td>\n",
       "    </tr>\n",
       "    <tr>\n",
       "      <th>3</th>\n",
       "      <td>56.0</td>\n",
       "      <td>89.0</td>\n",
       "      <td>NaN</td>\n",
       "    </tr>\n",
       "    <tr>\n",
       "      <th>4</th>\n",
       "      <td>89.0</td>\n",
       "      <td>95.0</td>\n",
       "      <td>83.0</td>\n",
       "    </tr>\n",
       "    <tr>\n",
       "      <th>5</th>\n",
       "      <td>90.0</td>\n",
       "      <td>100.0</td>\n",
       "      <td>89.0</td>\n",
       "    </tr>\n",
       "  </tbody>\n",
       "</table>\n",
       "</div>"
      ],
      "text/plain": [
       "   math  english  science\n",
       "0  70.0      NaN      NaN\n",
       "1  75.0     65.0     80.0\n",
       "3  56.0     89.0      NaN\n",
       "4  89.0     95.0     83.0\n",
       "5  90.0    100.0     89.0"
      ]
     },
     "execution_count": 72,
     "metadata": {},
     "output_type": "execute_result"
    }
   ],
   "source": [
    "# 모든 값이 결측치인 레코드만 삭제\n",
    "sample.dropna(how=\"all\")"
   ]
  },
  {
   "cell_type": "code",
   "execution_count": 73,
   "id": "dde2f6ab",
   "metadata": {},
   "outputs": [
    {
     "data": {
      "text/html": [
       "<div>\n",
       "<style scoped>\n",
       "    .dataframe tbody tr th:only-of-type {\n",
       "        vertical-align: middle;\n",
       "    }\n",
       "\n",
       "    .dataframe tbody tr th {\n",
       "        vertical-align: top;\n",
       "    }\n",
       "\n",
       "    .dataframe thead th {\n",
       "        text-align: right;\n",
       "    }\n",
       "</style>\n",
       "<table border=\"1\" class=\"dataframe\">\n",
       "  <thead>\n",
       "    <tr style=\"text-align: right;\">\n",
       "      <th></th>\n",
       "      <th>math</th>\n",
       "      <th>english</th>\n",
       "      <th>science</th>\n",
       "    </tr>\n",
       "  </thead>\n",
       "  <tbody>\n",
       "    <tr>\n",
       "      <th>0</th>\n",
       "      <td>70.0</td>\n",
       "      <td>NaN</td>\n",
       "      <td>NaN</td>\n",
       "    </tr>\n",
       "    <tr>\n",
       "      <th>2</th>\n",
       "      <td>NaN</td>\n",
       "      <td>NaN</td>\n",
       "      <td>NaN</td>\n",
       "    </tr>\n",
       "    <tr>\n",
       "      <th>3</th>\n",
       "      <td>56.0</td>\n",
       "      <td>89.0</td>\n",
       "      <td>NaN</td>\n",
       "    </tr>\n",
       "  </tbody>\n",
       "</table>\n",
       "</div>"
      ],
      "text/plain": [
       "   math  english  science\n",
       "0  70.0      NaN      NaN\n",
       "2   NaN      NaN      NaN\n",
       "3  56.0     89.0      NaN"
      ]
     },
     "execution_count": 73,
     "metadata": {},
     "output_type": "execute_result"
    }
   ],
   "source": [
    "# 결측치가 하나라도 있는 데이터만 선택\n",
    "# 조건색인으로 처리한 것이고, isnull().any()의 원리를 이해해주세요.\n",
    "# df[df.isnull().any(axis=1)]\n",
    "sample[sample.isnull().any(axis=1)]"
   ]
  },
  {
   "cell_type": "code",
   "execution_count": 75,
   "id": "22bf1e9e",
   "metadata": {},
   "outputs": [
    {
     "data": {
      "text/html": [
       "<div>\n",
       "<style scoped>\n",
       "    .dataframe tbody tr th:only-of-type {\n",
       "        vertical-align: middle;\n",
       "    }\n",
       "\n",
       "    .dataframe tbody tr th {\n",
       "        vertical-align: top;\n",
       "    }\n",
       "\n",
       "    .dataframe thead th {\n",
       "        text-align: right;\n",
       "    }\n",
       "</style>\n",
       "<table border=\"1\" class=\"dataframe\">\n",
       "  <thead>\n",
       "    <tr style=\"text-align: right;\">\n",
       "      <th></th>\n",
       "      <th>math</th>\n",
       "      <th>english</th>\n",
       "      <th>science</th>\n",
       "    </tr>\n",
       "  </thead>\n",
       "  <tbody>\n",
       "    <tr>\n",
       "      <th>0</th>\n",
       "      <td>False</td>\n",
       "      <td>True</td>\n",
       "      <td>True</td>\n",
       "    </tr>\n",
       "    <tr>\n",
       "      <th>1</th>\n",
       "      <td>False</td>\n",
       "      <td>False</td>\n",
       "      <td>False</td>\n",
       "    </tr>\n",
       "    <tr>\n",
       "      <th>2</th>\n",
       "      <td>True</td>\n",
       "      <td>True</td>\n",
       "      <td>True</td>\n",
       "    </tr>\n",
       "    <tr>\n",
       "      <th>3</th>\n",
       "      <td>False</td>\n",
       "      <td>False</td>\n",
       "      <td>True</td>\n",
       "    </tr>\n",
       "    <tr>\n",
       "      <th>4</th>\n",
       "      <td>False</td>\n",
       "      <td>False</td>\n",
       "      <td>False</td>\n",
       "    </tr>\n",
       "    <tr>\n",
       "      <th>5</th>\n",
       "      <td>False</td>\n",
       "      <td>False</td>\n",
       "      <td>False</td>\n",
       "    </tr>\n",
       "  </tbody>\n",
       "</table>\n",
       "</div>"
      ],
      "text/plain": [
       "    math  english  science\n",
       "0  False     True     True\n",
       "1  False    False    False\n",
       "2   True     True     True\n",
       "3  False    False     True\n",
       "4  False    False    False\n",
       "5  False    False    False"
      ]
     },
     "execution_count": 75,
     "metadata": {},
     "output_type": "execute_result"
    }
   ],
   "source": [
    "# .isnull()은 모든 셀을 구분해서 NaN가 있는 셀은 True, 아닌 셀은 False를 출력합니다.\n",
    "sample.isnull()"
   ]
  },
  {
   "cell_type": "code",
   "execution_count": 76,
   "id": "46ad906f",
   "metadata": {},
   "outputs": [
    {
     "data": {
      "text/plain": [
       "math       True\n",
       "english    True\n",
       "science    True\n",
       "dtype: bool"
      ]
     },
     "execution_count": 76,
     "metadata": {},
     "output_type": "execute_result"
    }
   ],
   "source": [
    "# any는 해당 컬럼에 isnull()의 결과값이 True인 셀이 존재하는지 체크해줍니다.\n",
    "# 디폴트는 axis=0(컬럼 기분으로 결측치 있음, 없음 여부 조사)\n",
    "sample.isnull().any()"
   ]
  },
  {
   "cell_type": "code",
   "execution_count": 77,
   "id": "4f6ae8cb",
   "metadata": {},
   "outputs": [
    {
     "data": {
      "text/plain": [
       "0     True\n",
       "1    False\n",
       "2     True\n",
       "3     True\n",
       "4    False\n",
       "5    False\n",
       "dtype: bool"
      ]
     },
     "execution_count": 77,
     "metadata": {},
     "output_type": "execute_result"
    }
   ],
   "source": [
    "# axis=1 을 기입하면 몇 번 row에 결측치가 있고, 몇 번에 없는지 True, False로 보여줍니다.\n",
    "sample.isnull().any(axis=1)"
   ]
  },
  {
   "cell_type": "code",
   "execution_count": 80,
   "id": "72d9e344",
   "metadata": {},
   "outputs": [
    {
     "data": {
      "text/plain": [
       "math       1\n",
       "english    2\n",
       "science    3\n",
       "dtype: int64"
      ]
     },
     "execution_count": 80,
     "metadata": {},
     "output_type": "execute_result"
    }
   ],
   "source": [
    "# 결측치 개수 세는 법\n",
    "sample.isnull().sum()"
   ]
  },
  {
   "cell_type": "markdown",
   "id": "bb7fa3f0",
   "metadata": {},
   "source": [
    "#### 결측치 처리 - 대체값\n",
    "- 연속형 : 임의값(0 등...), mean, median, 예측값, 도메인지식 활용\n",
    "- 명목형 : mode(최빈값), 예측값, 도메인지식 활용"
   ]
  },
  {
   "cell_type": "code",
   "execution_count": 81,
   "id": "12e9d005",
   "metadata": {},
   "outputs": [
    {
     "data": {
      "text/html": [
       "<div>\n",
       "<style scoped>\n",
       "    .dataframe tbody tr th:only-of-type {\n",
       "        vertical-align: middle;\n",
       "    }\n",
       "\n",
       "    .dataframe tbody tr th {\n",
       "        vertical-align: top;\n",
       "    }\n",
       "\n",
       "    .dataframe thead th {\n",
       "        text-align: right;\n",
       "    }\n",
       "</style>\n",
       "<table border=\"1\" class=\"dataframe\">\n",
       "  <thead>\n",
       "    <tr style=\"text-align: right;\">\n",
       "      <th></th>\n",
       "      <th>math</th>\n",
       "      <th>english</th>\n",
       "      <th>science</th>\n",
       "    </tr>\n",
       "  </thead>\n",
       "  <tbody>\n",
       "    <tr>\n",
       "      <th>0</th>\n",
       "      <td>70.0</td>\n",
       "      <td>0.0</td>\n",
       "      <td>0.0</td>\n",
       "    </tr>\n",
       "    <tr>\n",
       "      <th>1</th>\n",
       "      <td>75.0</td>\n",
       "      <td>65.0</td>\n",
       "      <td>80.0</td>\n",
       "    </tr>\n",
       "    <tr>\n",
       "      <th>2</th>\n",
       "      <td>0.0</td>\n",
       "      <td>0.0</td>\n",
       "      <td>0.0</td>\n",
       "    </tr>\n",
       "    <tr>\n",
       "      <th>3</th>\n",
       "      <td>56.0</td>\n",
       "      <td>89.0</td>\n",
       "      <td>0.0</td>\n",
       "    </tr>\n",
       "    <tr>\n",
       "      <th>4</th>\n",
       "      <td>89.0</td>\n",
       "      <td>95.0</td>\n",
       "      <td>83.0</td>\n",
       "    </tr>\n",
       "    <tr>\n",
       "      <th>5</th>\n",
       "      <td>90.0</td>\n",
       "      <td>100.0</td>\n",
       "      <td>89.0</td>\n",
       "    </tr>\n",
       "  </tbody>\n",
       "</table>\n",
       "</div>"
      ],
      "text/plain": [
       "   math  english  science\n",
       "0  70.0      0.0      0.0\n",
       "1  75.0     65.0     80.0\n",
       "2   0.0      0.0      0.0\n",
       "3  56.0     89.0      0.0\n",
       "4  89.0     95.0     83.0\n",
       "5  90.0    100.0     89.0"
      ]
     },
     "execution_count": 81,
     "metadata": {},
     "output_type": "execute_result"
    }
   ],
   "source": [
    "# 연속형 - 임의의 값으로 대체\n",
    "# df.fillna(v)\n",
    "sample.fillna(0)"
   ]
  },
  {
   "cell_type": "code",
   "execution_count": 82,
   "id": "8fcc565e",
   "metadata": {},
   "outputs": [
    {
     "data": {
      "text/plain": [
       "math       76.00\n",
       "english    87.25\n",
       "science    84.00\n",
       "dtype: float64"
      ]
     },
     "execution_count": 82,
     "metadata": {},
     "output_type": "execute_result"
    }
   ],
   "source": [
    "# mean - 1) 전체 데이터의 평균값\n",
    "# sample : 6 * 3 모든 데이터에 대한 평균\n",
    "# df.mean() : 컬럼별로 평균값\n",
    "# NaN를 없는 값으로 가정하고 구한 평균\n",
    "sample.mean()"
   ]
  },
  {
   "cell_type": "code",
   "execution_count": 91,
   "id": "482894c2",
   "metadata": {},
   "outputs": [
    {
     "data": {
      "text/html": [
       "<div>\n",
       "<style scoped>\n",
       "    .dataframe tbody tr th:only-of-type {\n",
       "        vertical-align: middle;\n",
       "    }\n",
       "\n",
       "    .dataframe tbody tr th {\n",
       "        vertical-align: top;\n",
       "    }\n",
       "\n",
       "    .dataframe thead th {\n",
       "        text-align: right;\n",
       "    }\n",
       "</style>\n",
       "<table border=\"1\" class=\"dataframe\">\n",
       "  <thead>\n",
       "    <tr style=\"text-align: right;\">\n",
       "      <th></th>\n",
       "      <th>math</th>\n",
       "      <th>english</th>\n",
       "      <th>science</th>\n",
       "    </tr>\n",
       "  </thead>\n",
       "  <tbody>\n",
       "    <tr>\n",
       "      <th>0</th>\n",
       "      <td>70.0</td>\n",
       "      <td>54.5</td>\n",
       "      <td>54.5</td>\n",
       "    </tr>\n",
       "    <tr>\n",
       "      <th>1</th>\n",
       "      <td>75.0</td>\n",
       "      <td>65.0</td>\n",
       "      <td>80.0</td>\n",
       "    </tr>\n",
       "    <tr>\n",
       "      <th>2</th>\n",
       "      <td>54.5</td>\n",
       "      <td>54.5</td>\n",
       "      <td>54.5</td>\n",
       "    </tr>\n",
       "    <tr>\n",
       "      <th>3</th>\n",
       "      <td>56.0</td>\n",
       "      <td>89.0</td>\n",
       "      <td>54.5</td>\n",
       "    </tr>\n",
       "    <tr>\n",
       "      <th>4</th>\n",
       "      <td>89.0</td>\n",
       "      <td>95.0</td>\n",
       "      <td>83.0</td>\n",
       "    </tr>\n",
       "    <tr>\n",
       "      <th>5</th>\n",
       "      <td>90.0</td>\n",
       "      <td>100.0</td>\n",
       "      <td>89.0</td>\n",
       "    </tr>\n",
       "  </tbody>\n",
       "</table>\n",
       "</div>"
      ],
      "text/plain": [
       "   math  english  science\n",
       "0  70.0     54.5     54.5\n",
       "1  75.0     65.0     80.0\n",
       "2  54.5     54.5     54.5\n",
       "3  56.0     89.0     54.5\n",
       "4  89.0     95.0     83.0\n",
       "5  90.0    100.0     89.0"
      ]
     },
     "execution_count": 91,
     "metadata": {},
     "output_type": "execute_result"
    }
   ],
   "source": [
    "# df.values.mean() : Array 타입의 연산으로 NaN값이 하나라도 있다면 최종결과도 NaN\n",
    "# sample.values.mean() -> 전체 평균을 구할 수 있지만 NaN \n",
    "# df.fillna(0) 으로 결측치를 보완하고 => mean()평균을 구해야 함\n",
    "# NaN가 0으로 대체된 평균을 먼저 구한다음, 그 평균값으로 결측치를 매꿔주세요.\n",
    "tot_avg = sample.fillna(0).values.mean()\n",
    "sample.fillna(tot_avg)"
   ]
  },
  {
   "cell_type": "code",
   "execution_count": 90,
   "id": "11bd523e",
   "metadata": {},
   "outputs": [
    {
     "name": "stdout",
     "output_type": "stream",
     "text": [
      "76.0\n",
      "87.25\n",
      "84.0\n"
     ]
    }
   ],
   "source": [
    "# mean - 2) 결측치가 존재하는 속성(변수 = 컬럼)의 평균값\n",
    "# sample : math/en/sc 컬럼에 존재하는 결측치 -> 각 컬럼의 평균값\n",
    "print(sample.mean()[0])\n",
    "print(sample.mean()[1])\n",
    "print(sample.mean()[2])"
   ]
  },
  {
   "cell_type": "code",
   "execution_count": 92,
   "id": "ada3141e",
   "metadata": {},
   "outputs": [
    {
     "data": {
      "text/plain": [
       "76.0"
      ]
     },
     "execution_count": 92,
     "metadata": {},
     "output_type": "execute_result"
    }
   ],
   "source": [
    "# 컬럼 지정 후 평균 구하기\n",
    "sample['math'].mean()"
   ]
  },
  {
   "cell_type": "code",
   "execution_count": 97,
   "id": "a8ccbb8d",
   "metadata": {},
   "outputs": [],
   "source": [
    "# fillna를 이용해 각 과목 평균을 NaN에 대체\n",
    "sample['math'].fillna(sample['math'].mean())\n",
    "sample['english'].fillna(sample['english'].mean())\n",
    "sample['science'].fillna(sample['science'].mean())\n",
    "sample1 = sample.copy()"
   ]
  },
  {
   "cell_type": "code",
   "execution_count": 100,
   "id": "0034585c",
   "metadata": {},
   "outputs": [
    {
     "data": {
      "text/html": [
       "<div>\n",
       "<style scoped>\n",
       "    .dataframe tbody tr th:only-of-type {\n",
       "        vertical-align: middle;\n",
       "    }\n",
       "\n",
       "    .dataframe tbody tr th {\n",
       "        vertical-align: top;\n",
       "    }\n",
       "\n",
       "    .dataframe thead th {\n",
       "        text-align: right;\n",
       "    }\n",
       "</style>\n",
       "<table border=\"1\" class=\"dataframe\">\n",
       "  <thead>\n",
       "    <tr style=\"text-align: right;\">\n",
       "      <th></th>\n",
       "      <th>math</th>\n",
       "      <th>english</th>\n",
       "      <th>science</th>\n",
       "    </tr>\n",
       "  </thead>\n",
       "  <tbody>\n",
       "    <tr>\n",
       "      <th>0</th>\n",
       "      <td>70.0</td>\n",
       "      <td>87.25</td>\n",
       "      <td>84.0</td>\n",
       "    </tr>\n",
       "    <tr>\n",
       "      <th>1</th>\n",
       "      <td>75.0</td>\n",
       "      <td>65.00</td>\n",
       "      <td>80.0</td>\n",
       "    </tr>\n",
       "    <tr>\n",
       "      <th>2</th>\n",
       "      <td>76.0</td>\n",
       "      <td>87.25</td>\n",
       "      <td>84.0</td>\n",
       "    </tr>\n",
       "    <tr>\n",
       "      <th>3</th>\n",
       "      <td>56.0</td>\n",
       "      <td>89.00</td>\n",
       "      <td>84.0</td>\n",
       "    </tr>\n",
       "    <tr>\n",
       "      <th>4</th>\n",
       "      <td>89.0</td>\n",
       "      <td>95.00</td>\n",
       "      <td>83.0</td>\n",
       "    </tr>\n",
       "    <tr>\n",
       "      <th>5</th>\n",
       "      <td>90.0</td>\n",
       "      <td>100.00</td>\n",
       "      <td>89.0</td>\n",
       "    </tr>\n",
       "  </tbody>\n",
       "</table>\n",
       "</div>"
      ],
      "text/plain": [
       "   math  english  science\n",
       "0  70.0    87.25     84.0\n",
       "1  75.0    65.00     80.0\n",
       "2  76.0    87.25     84.0\n",
       "3  56.0    89.00     84.0\n",
       "4  89.0    95.00     83.0\n",
       "5  90.0   100.00     89.0"
      ]
     },
     "execution_count": 100,
     "metadata": {},
     "output_type": "execute_result"
    }
   ],
   "source": [
    "# fillna를 이용해 수학 , 영어, 과학 컬럼에 각각 컬럼의 평균값을 결측지 대신 넣어보세요.\n",
    "sample1['math'] = sample['math'].fillna(sample['math'].mean())\n",
    "sample1['english'] = sample['english'].fillna(sample['english'].mean())\n",
    "sample1['science'] = sample['science'].fillna(sample['science'].mean())\n",
    "sample1"
   ]
  },
  {
   "cell_type": "code",
   "execution_count": 120,
   "id": "01f2843b",
   "metadata": {},
   "outputs": [
    {
     "data": {
      "text/plain": [
       "86.0"
      ]
     },
     "execution_count": 120,
     "metadata": {},
     "output_type": "execute_result"
    }
   ],
   "source": [
    "# median - 전체 데이터에 대한 중위값\n",
    "# tot_avg : 54.5\n",
    "# median() 을 이용해 몇인지 구해서 1:1로 보내주세요.\n",
    "# Series나 DataFrame은 백터 함수 연산자 자동으로 NaN를 배제합니다.\n",
    "# 따라서 전체데이터의 중위값을 구하기 위해 먼저 Series로 바꿔줍니다.\n",
    "# sample.size 를 .reshape()에 넣어주면 자동으로 1차원 배열로 크게 맞춰서 바꿔줍니다.\n",
    "tot_med=pd.Series(sample.values.reshape(18)).median()\n",
    "tot_med"
   ]
  },
  {
   "cell_type": "code",
   "execution_count": 118,
   "id": "1ac039f7",
   "metadata": {},
   "outputs": [
    {
     "data": {
      "text/plain": [
       "math       75.0\n",
       "english    92.0\n",
       "science    83.0\n",
       "dtype: float64"
      ]
     },
     "execution_count": 118,
     "metadata": {},
     "output_type": "execute_result"
    }
   ],
   "source": [
    "sample.median()"
   ]
  },
  {
   "cell_type": "code",
   "execution_count": 121,
   "id": "68fd043f",
   "metadata": {},
   "outputs": [
    {
     "data": {
      "text/html": [
       "<div>\n",
       "<style scoped>\n",
       "    .dataframe tbody tr th:only-of-type {\n",
       "        vertical-align: middle;\n",
       "    }\n",
       "\n",
       "    .dataframe tbody tr th {\n",
       "        vertical-align: top;\n",
       "    }\n",
       "\n",
       "    .dataframe thead th {\n",
       "        text-align: right;\n",
       "    }\n",
       "</style>\n",
       "<table border=\"1\" class=\"dataframe\">\n",
       "  <thead>\n",
       "    <tr style=\"text-align: right;\">\n",
       "      <th></th>\n",
       "      <th>math</th>\n",
       "      <th>english</th>\n",
       "      <th>science</th>\n",
       "    </tr>\n",
       "  </thead>\n",
       "  <tbody>\n",
       "    <tr>\n",
       "      <th>0</th>\n",
       "      <td>70.0</td>\n",
       "      <td>86.0</td>\n",
       "      <td>86.0</td>\n",
       "    </tr>\n",
       "    <tr>\n",
       "      <th>1</th>\n",
       "      <td>75.0</td>\n",
       "      <td>65.0</td>\n",
       "      <td>80.0</td>\n",
       "    </tr>\n",
       "    <tr>\n",
       "      <th>2</th>\n",
       "      <td>86.0</td>\n",
       "      <td>86.0</td>\n",
       "      <td>86.0</td>\n",
       "    </tr>\n",
       "    <tr>\n",
       "      <th>3</th>\n",
       "      <td>56.0</td>\n",
       "      <td>89.0</td>\n",
       "      <td>86.0</td>\n",
       "    </tr>\n",
       "    <tr>\n",
       "      <th>4</th>\n",
       "      <td>89.0</td>\n",
       "      <td>95.0</td>\n",
       "      <td>83.0</td>\n",
       "    </tr>\n",
       "    <tr>\n",
       "      <th>5</th>\n",
       "      <td>90.0</td>\n",
       "      <td>100.0</td>\n",
       "      <td>89.0</td>\n",
       "    </tr>\n",
       "  </tbody>\n",
       "</table>\n",
       "</div>"
      ],
      "text/plain": [
       "   math  english  science\n",
       "0  70.0     86.0     86.0\n",
       "1  75.0     65.0     80.0\n",
       "2  86.0     86.0     86.0\n",
       "3  56.0     89.0     86.0\n",
       "4  89.0     95.0     83.0\n",
       "5  90.0    100.0     89.0"
      ]
     },
     "execution_count": 121,
     "metadata": {},
     "output_type": "execute_result"
    }
   ],
   "source": [
    "sample.fillna(tot_med)"
   ]
  },
  {
   "cell_type": "code",
   "execution_count": 122,
   "id": "647a942a",
   "metadata": {},
   "outputs": [
    {
     "data": {
      "text/html": [
       "<div>\n",
       "<style scoped>\n",
       "    .dataframe tbody tr th:only-of-type {\n",
       "        vertical-align: middle;\n",
       "    }\n",
       "\n",
       "    .dataframe tbody tr th {\n",
       "        vertical-align: top;\n",
       "    }\n",
       "\n",
       "    .dataframe thead th {\n",
       "        text-align: right;\n",
       "    }\n",
       "</style>\n",
       "<table border=\"1\" class=\"dataframe\">\n",
       "  <thead>\n",
       "    <tr style=\"text-align: right;\">\n",
       "      <th></th>\n",
       "      <th>label</th>\n",
       "    </tr>\n",
       "  </thead>\n",
       "  <tbody>\n",
       "    <tr>\n",
       "      <th>0</th>\n",
       "      <td>A</td>\n",
       "    </tr>\n",
       "    <tr>\n",
       "      <th>1</th>\n",
       "      <td>B</td>\n",
       "    </tr>\n",
       "    <tr>\n",
       "      <th>2</th>\n",
       "      <td>B</td>\n",
       "    </tr>\n",
       "    <tr>\n",
       "      <th>3</th>\n",
       "      <td>C</td>\n",
       "    </tr>\n",
       "    <tr>\n",
       "      <th>4</th>\n",
       "      <td>C</td>\n",
       "    </tr>\n",
       "    <tr>\n",
       "      <th>5</th>\n",
       "      <td>C</td>\n",
       "    </tr>\n",
       "    <tr>\n",
       "      <th>6</th>\n",
       "      <td>D</td>\n",
       "    </tr>\n",
       "  </tbody>\n",
       "</table>\n",
       "</div>"
      ],
      "text/plain": [
       "  label\n",
       "0     A\n",
       "1     B\n",
       "2     B\n",
       "3     C\n",
       "4     C\n",
       "5     C\n",
       "6     D"
      ]
     },
     "execution_count": 122,
     "metadata": {},
     "output_type": "execute_result"
    }
   ],
   "source": [
    "# mode - 범주형 데이터에서는 최빈값을 사용\n",
    "# describe()\n",
    "# value_counts()\n",
    "# collections 라이브러리의 Couter 모듈\n",
    "df = pd.DataFrame({'label':['A','B','B','C','C','C','D']})\n",
    "df"
   ]
  },
  {
   "cell_type": "code",
   "execution_count": 128,
   "id": "89dbc0c0",
   "metadata": {},
   "outputs": [
    {
     "data": {
      "text/html": [
       "<div>\n",
       "<style scoped>\n",
       "    .dataframe tbody tr th:only-of-type {\n",
       "        vertical-align: middle;\n",
       "    }\n",
       "\n",
       "    .dataframe tbody tr th {\n",
       "        vertical-align: top;\n",
       "    }\n",
       "\n",
       "    .dataframe thead th {\n",
       "        text-align: right;\n",
       "    }\n",
       "</style>\n",
       "<table border=\"1\" class=\"dataframe\">\n",
       "  <thead>\n",
       "    <tr style=\"text-align: right;\">\n",
       "      <th></th>\n",
       "      <th>label</th>\n",
       "    </tr>\n",
       "  </thead>\n",
       "  <tbody>\n",
       "    <tr>\n",
       "      <th>count</th>\n",
       "      <td>7</td>\n",
       "    </tr>\n",
       "    <tr>\n",
       "      <th>unique</th>\n",
       "      <td>4</td>\n",
       "    </tr>\n",
       "    <tr>\n",
       "      <th>top</th>\n",
       "      <td>C</td>\n",
       "    </tr>\n",
       "    <tr>\n",
       "      <th>freq</th>\n",
       "      <td>3</td>\n",
       "    </tr>\n",
       "  </tbody>\n",
       "</table>\n",
       "</div>"
      ],
      "text/plain": [
       "       label\n",
       "count      7\n",
       "unique     4\n",
       "top        C\n",
       "freq       3"
      ]
     },
     "execution_count": 128,
     "metadata": {},
     "output_type": "execute_result"
    }
   ],
   "source": [
    "# descirbe()는 통계분석에 사용합니다.\n",
    "# count 로우는 총 데이터의 개수\n",
    "# unique는 데이터의 유형이 몇 개인지\n",
    "# top은 가장 많은 데이터\n",
    "# freq는 가장 많은 데이터의 개수\n",
    "df.describe()"
   ]
  },
  {
   "cell_type": "code",
   "execution_count": 124,
   "id": "5663c4a2",
   "metadata": {
    "scrolled": true
   },
   "outputs": [
    {
     "data": {
      "text/plain": [
       "label    C\n",
       "Name: top, dtype: object"
      ]
     },
     "execution_count": 124,
     "metadata": {},
     "output_type": "execute_result"
    }
   ],
   "source": [
    "df.describe().loc['top']"
   ]
  },
  {
   "cell_type": "code",
   "execution_count": 126,
   "id": "18cd5706",
   "metadata": {},
   "outputs": [
    {
     "data": {
      "text/plain": [
       "C    3\n",
       "B    2\n",
       "A    1\n",
       "D    1\n",
       "Name: label, dtype: int64"
      ]
     },
     "execution_count": 126,
     "metadata": {},
     "output_type": "execute_result"
    }
   ],
   "source": [
    "# Series로 변경하기 위해 label 컬럼을 지정한 후, value_counts()를 이용해\n",
    "# 각 범주별 개수를 구할 수 있음\n",
    "df['label'].value_counts()"
   ]
  },
  {
   "cell_type": "code",
   "execution_count": 129,
   "id": "5d42d843",
   "metadata": {},
   "outputs": [],
   "source": [
    "from collections import Counter\n",
    "# 1. 라이브러리를 가져오기\n",
    "# 2. Counter()를 이용해 Counter 타입의 자료 생성\n",
    "# 3. counter 객체 .most_common() => [(value1, count1),(value2,count2)]"
   ]
  },
  {
   "cell_type": "code",
   "execution_count": 130,
   "id": "beccbfa4",
   "metadata": {},
   "outputs": [],
   "source": [
    "colors = ['red', 'blue', 'pink', 'blue','blue','red']"
   ]
  },
  {
   "cell_type": "code",
   "execution_count": 131,
   "id": "ed2e99a3",
   "metadata": {},
   "outputs": [],
   "source": [
    "counter = Counter(colors)"
   ]
  },
  {
   "cell_type": "code",
   "execution_count": 132,
   "id": "42e799db",
   "metadata": {},
   "outputs": [
    {
     "data": {
      "text/plain": [
       "Counter({'red': 2, 'blue': 3, 'pink': 1})"
      ]
     },
     "execution_count": 132,
     "metadata": {},
     "output_type": "execute_result"
    }
   ],
   "source": [
    "counter"
   ]
  },
  {
   "cell_type": "code",
   "execution_count": 134,
   "id": "789b2af5",
   "metadata": {},
   "outputs": [
    {
     "data": {
      "text/plain": [
       "[('blue', 3), ('red', 2), ('pink', 1)]"
      ]
     },
     "execution_count": 134,
     "metadata": {},
     "output_type": "execute_result"
    }
   ],
   "source": [
    "# most_common()\n",
    "# 갯수순으로 나열해줌\n",
    "counter.most_common()"
   ]
  },
  {
   "cell_type": "code",
   "execution_count": 136,
   "id": "24c2c0fd",
   "metadata": {},
   "outputs": [
    {
     "data": {
      "text/html": [
       "<div>\n",
       "<style scoped>\n",
       "    .dataframe tbody tr th:only-of-type {\n",
       "        vertical-align: middle;\n",
       "    }\n",
       "\n",
       "    .dataframe tbody tr th {\n",
       "        vertical-align: top;\n",
       "    }\n",
       "\n",
       "    .dataframe thead th {\n",
       "        text-align: right;\n",
       "    }\n",
       "</style>\n",
       "<table border=\"1\" class=\"dataframe\">\n",
       "  <thead>\n",
       "    <tr style=\"text-align: right;\">\n",
       "      <th></th>\n",
       "      <th>label</th>\n",
       "    </tr>\n",
       "  </thead>\n",
       "  <tbody>\n",
       "    <tr>\n",
       "      <th>0</th>\n",
       "      <td>A</td>\n",
       "    </tr>\n",
       "    <tr>\n",
       "      <th>1</th>\n",
       "      <td>B</td>\n",
       "    </tr>\n",
       "    <tr>\n",
       "      <th>2</th>\n",
       "      <td>B</td>\n",
       "    </tr>\n",
       "    <tr>\n",
       "      <th>3</th>\n",
       "      <td>C</td>\n",
       "    </tr>\n",
       "    <tr>\n",
       "      <th>4</th>\n",
       "      <td>C</td>\n",
       "    </tr>\n",
       "    <tr>\n",
       "      <th>5</th>\n",
       "      <td>C</td>\n",
       "    </tr>\n",
       "    <tr>\n",
       "      <th>6</th>\n",
       "      <td>D</td>\n",
       "    </tr>\n",
       "  </tbody>\n",
       "</table>\n",
       "</div>"
      ],
      "text/plain": [
       "  label\n",
       "0     A\n",
       "1     B\n",
       "2     B\n",
       "3     C\n",
       "4     C\n",
       "5     C\n",
       "6     D"
      ]
     },
     "execution_count": 136,
     "metadata": {},
     "output_type": "execute_result"
    }
   ],
   "source": [
    "# 데이터프레임에도 Counter를 쓸 수 있습니다.\n",
    "df = pd.DataFrame({'label': ['A','B','B','C','C','C','D']})\n",
    "df"
   ]
  },
  {
   "cell_type": "code",
   "execution_count": 137,
   "id": "835ace8f",
   "metadata": {},
   "outputs": [
    {
     "data": {
      "text/plain": [
       "[('C', 3), ('B', 2), ('A', 1), ('D', 1)]"
      ]
     },
     "execution_count": 137,
     "metadata": {},
     "output_type": "execute_result"
    }
   ],
   "source": [
    "Counter(df['label']).most_common()"
   ]
  },
  {
   "cell_type": "markdown",
   "id": "3b9d186b",
   "metadata": {},
   "source": [
    "### 데이터 단위 통일\n",
    "\n",
    "#### 표준화(Standardization)\n",
    "\n",
    "- 평균을 기준으로 얼마나 떨어져 있는지를 파악\n",
    "- sklearn에서 제공하는 전처리 클래스\n",
    "    - preprocessing 클래스\n",
    "        - scaler() : 전체 자료의 분포를 평균 0, 표준편차 1이 되도록 스케일링\n",
    "        - minmax_scale() : 최대/최소값이 각각 1, 0이 되도록 스케일링\n",
    "        - StandardScaler() : scaler() 함수와 동일한 동작"
   ]
  },
  {
   "cell_type": "markdown",
   "id": "7a3159ba",
   "metadata": {},
   "source": [
    "- 표준화 : (요소값(하나의 데이터) - 평균) / 표준편차\n",
    "- 삼성전자 vs 작은회사 주식 시세\n",
    "- 몸무게 vs 키\n",
    "    - 표준화 결과 : 몸무게 음수, 키 양수\n",
    "    - 해석 : 몸무게는 평균 이하, 키는 평균 이상(=>마른몸)"
   ]
  },
  {
   "cell_type": "code",
   "execution_count": 138,
   "id": "03e867af",
   "metadata": {},
   "outputs": [],
   "source": [
    "# 전처리 기능을 제공하는 scikitlearn 라이브러리 및 모듈 가져오기\n",
    "from sklearn.preprocessing import scale, minmax_scale"
   ]
  },
  {
   "cell_type": "code",
   "execution_count": 139,
   "id": "65ce3b2e",
   "metadata": {},
   "outputs": [
    {
     "data": {
      "text/plain": [
       "array([0, 1, 2, 3, 4, 5, 6, 7, 8])"
      ]
     },
     "execution_count": 139,
     "metadata": {},
     "output_type": "execute_result"
    }
   ],
   "source": [
    "np.arange(9)"
   ]
  },
  {
   "cell_type": "code",
   "execution_count": 140,
   "id": "7c840d50",
   "metadata": {},
   "outputs": [
    {
     "data": {
      "text/plain": [
       "array([[-3],\n",
       "       [-2],\n",
       "       [-1],\n",
       "       [ 0],\n",
       "       [ 1],\n",
       "       [ 2],\n",
       "       [ 3],\n",
       "       [ 4],\n",
       "       [ 5]])"
      ]
     },
     "execution_count": 140,
     "metadata": {},
     "output_type": "execute_result"
    }
   ],
   "source": [
    "# -3이상, 5이하의 정수를 값으로 가지는 9행 1열 배열 생성\n",
    "x= (np.arange(9)-3).reshape(-1,1)\n",
    "x"
   ]
  },
  {
   "cell_type": "code",
   "execution_count": 141,
   "id": "92f1299e",
   "metadata": {},
   "outputs": [
    {
     "data": {
      "text/plain": [
       "numpy.ndarray"
      ]
     },
     "execution_count": 141,
     "metadata": {},
     "output_type": "execute_result"
    }
   ],
   "source": [
    "# 데이터프레임 생성\n",
    "# 3개 컬럼 : x, scale(x), minmax_scale(x)\n",
    "type(x)"
   ]
  },
  {
   "cell_type": "code",
   "execution_count": 142,
   "id": "877ec3d1",
   "metadata": {},
   "outputs": [
    {
     "data": {
      "text/plain": [
       "array([[-1.54919334],\n",
       "       [-1.161895  ],\n",
       "       [-0.77459667],\n",
       "       [-0.38729833],\n",
       "       [ 0.        ],\n",
       "       [ 0.38729833],\n",
       "       [ 0.77459667],\n",
       "       [ 1.161895  ],\n",
       "       [ 1.54919334]])"
      ]
     },
     "execution_count": 142,
     "metadata": {},
     "output_type": "execute_result"
    }
   ],
   "source": [
    "scale(x)"
   ]
  },
  {
   "cell_type": "code",
   "execution_count": 143,
   "id": "ae3b89c5",
   "metadata": {},
   "outputs": [
    {
     "data": {
      "text/html": [
       "<div>\n",
       "<style scoped>\n",
       "    .dataframe tbody tr th:only-of-type {\n",
       "        vertical-align: middle;\n",
       "    }\n",
       "\n",
       "    .dataframe tbody tr th {\n",
       "        vertical-align: top;\n",
       "    }\n",
       "\n",
       "    .dataframe thead th {\n",
       "        text-align: right;\n",
       "    }\n",
       "</style>\n",
       "<table border=\"1\" class=\"dataframe\">\n",
       "  <thead>\n",
       "    <tr style=\"text-align: right;\">\n",
       "      <th></th>\n",
       "      <th>x</th>\n",
       "      <th>scale(x)</th>\n",
       "      <th>minmax_scale(x)</th>\n",
       "    </tr>\n",
       "  </thead>\n",
       "  <tbody>\n",
       "    <tr>\n",
       "      <th>0</th>\n",
       "      <td>-3.0</td>\n",
       "      <td>-1.549193</td>\n",
       "      <td>0.000</td>\n",
       "    </tr>\n",
       "    <tr>\n",
       "      <th>1</th>\n",
       "      <td>-2.0</td>\n",
       "      <td>-1.161895</td>\n",
       "      <td>0.125</td>\n",
       "    </tr>\n",
       "    <tr>\n",
       "      <th>2</th>\n",
       "      <td>-1.0</td>\n",
       "      <td>-0.774597</td>\n",
       "      <td>0.250</td>\n",
       "    </tr>\n",
       "    <tr>\n",
       "      <th>3</th>\n",
       "      <td>0.0</td>\n",
       "      <td>-0.387298</td>\n",
       "      <td>0.375</td>\n",
       "    </tr>\n",
       "    <tr>\n",
       "      <th>4</th>\n",
       "      <td>1.0</td>\n",
       "      <td>0.000000</td>\n",
       "      <td>0.500</td>\n",
       "    </tr>\n",
       "    <tr>\n",
       "      <th>5</th>\n",
       "      <td>2.0</td>\n",
       "      <td>0.387298</td>\n",
       "      <td>0.625</td>\n",
       "    </tr>\n",
       "    <tr>\n",
       "      <th>6</th>\n",
       "      <td>3.0</td>\n",
       "      <td>0.774597</td>\n",
       "      <td>0.750</td>\n",
       "    </tr>\n",
       "    <tr>\n",
       "      <th>7</th>\n",
       "      <td>4.0</td>\n",
       "      <td>1.161895</td>\n",
       "      <td>0.875</td>\n",
       "    </tr>\n",
       "    <tr>\n",
       "      <th>8</th>\n",
       "      <td>5.0</td>\n",
       "      <td>1.549193</td>\n",
       "      <td>1.000</td>\n",
       "    </tr>\n",
       "  </tbody>\n",
       "</table>\n",
       "</div>"
      ],
      "text/plain": [
       "     x  scale(x)  minmax_scale(x)\n",
       "0 -3.0 -1.549193            0.000\n",
       "1 -2.0 -1.161895            0.125\n",
       "2 -1.0 -0.774597            0.250\n",
       "3  0.0 -0.387298            0.375\n",
       "4  1.0  0.000000            0.500\n",
       "5  2.0  0.387298            0.625\n",
       "6  3.0  0.774597            0.750\n",
       "7  4.0  1.161895            0.875\n",
       "8  5.0  1.549193            1.000"
      ]
     },
     "execution_count": 143,
     "metadata": {},
     "output_type": "execute_result"
    }
   ],
   "source": [
    "# np.hstack => 가로방향으로 붙여줌\n",
    "# np.vstack => 세로방향으로 붙여줌\n",
    "# 9 * 1 데이터 3개를 가로로 붙여서 9 * 3으로(세로로 붙였으면 27 * 1) 만들고\n",
    "# 붙여준 컬럼별로 수행한 연산을 컬럼명으로 정의\n",
    "df = pd.DataFrame(np.hstack([x, scale(x), minmax_scale(x)]),\n",
    "                 columns = ['x', 'scale(x)', 'minmax_scale(x)'])\n",
    "df"
   ]
  }
 ],
 "metadata": {
  "kernelspec": {
   "display_name": "Python 3 (ipykernel)",
   "language": "python",
   "name": "python3"
  },
  "language_info": {
   "codemirror_mode": {
    "name": "ipython",
    "version": 3
   },
   "file_extension": ".py",
   "mimetype": "text/x-python",
   "name": "python",
   "nbconvert_exporter": "python",
   "pygments_lexer": "ipython3",
   "version": "3.9.12"
  }
 },
 "nbformat": 4,
 "nbformat_minor": 5
}
