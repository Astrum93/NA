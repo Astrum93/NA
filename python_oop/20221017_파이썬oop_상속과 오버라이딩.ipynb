{
 "cells": [
  {
   "cell_type": "markdown",
   "id": "598df5d8",
   "metadata": {},
   "source": [
    "# 상속\n",
    "\n",
    "상속은 부모 클래스의 정보를 활용해 자식 클래스를 이끌어내는것을 의미합니다.\n",
    "\n",
    "문법은\n",
    "\n",
    "`classs 클래스명(부모클래스):\n",
    "    내부 정의\n",
    "    ...\n",
    "    `\n",
    "\n",
    "현실에서의 상속과 마찬가지로 프로그래밍의 상속에서도 부모는 자식에게\n",
    "\n",
    "자신이 가진 요소를 물려줍니다.(변수, 메서드)\n",
    "\n",
    "현실과 다른점은 프로그래밍의 상속은 자식이 부모를 지목해 이뤄지며\n",
    "\n",
    "부모쪽에서 물려받은 변수, 메서드 및 자식쪽에서 새로 정의한 변수, 메서드\n",
    "\n",
    "그리고 물려받은 메서드를 재정의(오버라이딩)해 사용할 수 있습니다."
   ]
  },
  {
   "cell_type": "code",
   "execution_count": 1,
   "id": "f41a903e",
   "metadata": {},
   "outputs": [],
   "source": [
    "class Person:\n",
    "    name = \"\"\n",
    "    age = 0\n",
    "    height = 0"
   ]
  },
  {
   "cell_type": "code",
   "execution_count": 2,
   "id": "ffb20d1a",
   "metadata": {},
   "outputs": [
    {
     "name": "stdout",
     "output_type": "stream",
     "text": [
      "홍길동 20 170\n"
     ]
    }
   ],
   "source": [
    "p1 = Person()\n",
    "p1.name = \"홍길동\"\n",
    "p1.age = 20\n",
    "p1.height = 170\n",
    "print(p1.name, p1.age, p1.height)"
   ]
  },
  {
   "cell_type": "code",
   "execution_count": 3,
   "id": "c902ac6a",
   "metadata": {},
   "outputs": [],
   "source": [
    "# Student는 Person의 상속을 받았음\n",
    "class Student(Person):\n",
    "    major = \"\""
   ]
  },
  {
   "cell_type": "code",
   "execution_count": 6,
   "id": "ff0ff492",
   "metadata": {},
   "outputs": [
    {
     "name": "stdout",
     "output_type": "stream",
     "text": [
      "이름 : 청길동, 나이 : 22, 키 : 180, 전공 : math\n"
     ]
    }
   ],
   "source": [
    "# Student를 하나 생성해서 Person처럼 print로 변수에 값을 저장한 뒤 찍어보세요.\n",
    "s1 = Student()\n",
    "s1.name = \"청길동\"\n",
    "s1.age = 22\n",
    "s1.height = 180\n",
    "s1.major = \"math\"\n",
    "\n",
    "print(\"이름 : %s, 나이 : %s, 키 : %s, 전공 : %s\" %(s1.name, s1.age, s1.height, s1.major))"
   ]
  },
  {
   "cell_type": "code",
   "execution_count": 32,
   "id": "a912911c",
   "metadata": {},
   "outputs": [],
   "source": [
    "# 샐러리맨 클래스를 선언해 주세요.\n",
    "# 샐러리맨은 연봉을 가집니다.\n",
    "# 샐러리맨 class는 person에 상속을 받습니다.\n",
    "\n",
    "class Salaryman(Person):\n",
    "    salary = 0"
   ]
  },
  {
   "cell_type": "code",
   "execution_count": 33,
   "id": "f74329a1",
   "metadata": {},
   "outputs": [
    {
     "name": "stdout",
     "output_type": "stream",
     "text": [
      "이름 : 아무개, 나이 : 30, 키 : 180, 연봉 : 10000000000\n"
     ]
    }
   ],
   "source": [
    "#샐러리맨 객체를 생성해주세요.\n",
    "# 이름은 여러분들 이름으로 해 주시고\n",
    "# 기타 인적사항은 원하는대로 입력해주시고\n",
    "# * 연봉은 받고싶은 금액을 적어주세요.\n",
    "\n",
    "sm1 = Salaryman()\n",
    "sm1.name = \"아무개\"\n",
    "sm1.age = 30\n",
    "sm1.height = 180\n",
    "sm1.salary = 10000000000\n",
    "\n",
    "print(\"이름 : %s, 나이 : %s, 키 : %s, 연봉 : %s\" %(sm1.name, sm1.age, sm1.height, sm1.salary))"
   ]
  },
  {
   "cell_type": "markdown",
   "id": "a962b4c5",
   "metadata": {},
   "source": [
    "### 22.10.18"
   ]
  },
  {
   "cell_type": "code",
   "execution_count": 26,
   "id": "181d35e9",
   "metadata": {},
   "outputs": [],
   "source": [
    "class Person:\n",
    "    name = \"\"\n",
    "    age = 0\n",
    "    height = 0\n",
    "    # 여러분들이 직접 get_info()를 이용해 이름, 나이 , 키를 보여주는 메서드를 작성해주세요.\n",
    "    def get_info(self):\n",
    "        print(\"이름 : %s, 나이: %s, 키: %s\" %(self.name, self.age, self.height))\n",
    "\n",
    "\n",
    "    "
   ]
  },
  {
   "cell_type": "code",
   "execution_count": 27,
   "id": "417e88ac",
   "metadata": {},
   "outputs": [
    {
     "name": "stdout",
     "output_type": "stream",
     "text": [
      "이름 : 홍길동, 나이: 20, 키: 170\n"
     ]
    }
   ],
   "source": [
    "p1 = Person()\n",
    "\n",
    "p1.name = \"홍길동\"\n",
    "p1.age = 20\n",
    "p1.height = 170\n",
    "\n",
    "p1.get_info()"
   ]
  },
  {
   "cell_type": "code",
   "execution_count": 28,
   "id": "925cd935",
   "metadata": {},
   "outputs": [],
   "source": [
    "class Student(Person):\n",
    "    major = \"\""
   ]
  },
  {
   "cell_type": "code",
   "execution_count": 31,
   "id": "abecfe84",
   "metadata": {},
   "outputs": [
    {
     "name": "stdout",
     "output_type": "stream",
     "text": [
      "이름 : 청길동, 나이: 22, 키: 180\n"
     ]
    }
   ],
   "source": [
    "s1 = Student()\n",
    "s1.name = \"청길동\"\n",
    "s1.age = 22\n",
    "s1.height = 180\n",
    "s1.major = \"math\"\n",
    "\n",
    "# Pertson의 get_info이므로 major가 없다. \n",
    "s1.get_info()"
   ]
  },
  {
   "cell_type": "markdown",
   "id": "70d73957",
   "metadata": {},
   "source": [
    "### 오버라이딩 (재정의)\n",
    "\n",
    "오버라이딩이란 부모가 물려준 메서드를 자식쪽에서 고쳐서 쓰는것을 의미합니다.\n",
    "\n",
    "위와 같이 부모쪽에서 이미 특정 메서드가 생성되었지만, 자식쪽에서 추가된 사항을 \n",
    "\n",
    "따로 반영하지 못한다던지 하는 이슈가 발생했을때\n",
    "\n",
    "자식쪽에서 물려받은 메서드를 고쳐서 현재 객체 상황에 맞게 쓰는것을 오버라이딩이라고 합니다.\n",
    "\n",
    "방법은 자식쪽 클래스 설계부분에 부모쪽과 동일한 메서드를 작성하고\n",
    "\n",
    "코드 내용을 새롭게 작성하면 됩니다."
   ]
  },
  {
   "cell_type": "code",
   "execution_count": 361,
   "id": "91eef64f",
   "metadata": {},
   "outputs": [],
   "source": [
    "class Airplane:\n",
    "    velocity = 0\n",
    "    gas = 0\n",
    "    flight_number = \"\"\n",
    "    \n",
    "    # 생성자를 만들어주세요\n",
    "    def __init__(self, velocity, gas, flight_number):\n",
    "        self.velocity = velocity\n",
    "        self.gas = gas\n",
    "        self.flight_number = flight_number\n",
    "    \n",
    "    # 비행기의 비행기능을 만들어 보겠습니다.\n",
    "    def fly(self):\n",
    "        # if문을 이용해서 최대속도를 900으로 맞춰주시고\n",
    "        # 연료가 0이면 작동하지 않게도 해 주세요.\n",
    "        if(self.gas <= 0):\n",
    "            print(\"연료가 없습니다.\")\n",
    "            return # break문 처럼 함수를 즉시 종료시킴\n",
    "        if(self.velocity + 200 > 900):\n",
    "            self.velocity = 900\n",
    "        else:\n",
    "            self.velocity += 200\n",
    "        self.gas -= 100\n",
    "        \n",
    "    \n",
    "        \n",
    "    # 여러분들이 비행기의 브레이크 기능을 만들어주세요.\n",
    "    # 실행시 연료는 소비하지 않지만 속도가 200씩 차감됩니다.\n",
    "    def break_(self):\n",
    "        # 최저 속도를 0으로 만들어주세요.\n",
    "        if(self.gas < 100 or self.velocity -200 <=0):\n",
    "            self.velocity = 0\n",
    "            print(\"엔진이 멈춥니다.\")\n",
    "        else:\n",
    "            self.velocity -= 200\n",
    "        \n",
    "    \n",
    "    # 비행기의 현재 상태\n",
    "    def get_info(self):\n",
    "        print(\"현재속도 : %skm/h, 현재 연료량 : %sL, 항공편명 : %s\" %(self.velocity, self.gas, self.flight_number))"
   ]
  },
  {
   "cell_type": "code",
   "execution_count": 267,
   "id": "952e33a7",
   "metadata": {},
   "outputs": [],
   "source": [
    "a1 = Airplane(0, 5000, \"KE9999\")"
   ]
  },
  {
   "cell_type": "code",
   "execution_count": 268,
   "id": "26e7f05d",
   "metadata": {},
   "outputs": [
    {
     "name": "stdout",
     "output_type": "stream",
     "text": [
      "현재속도 : 0km/h, 현재 연료량 : 5000L, 항공편명 : KE9999\n"
     ]
    }
   ],
   "source": [
    "a1.get_info()"
   ]
  },
  {
   "cell_type": "code",
   "execution_count": 285,
   "id": "d5fe6b0d",
   "metadata": {},
   "outputs": [
    {
     "name": "stdout",
     "output_type": "stream",
     "text": [
      "현재속도 : 900km/h, 현재 연료량 : 3800L, 항공편명 : KE9999\n"
     ]
    }
   ],
   "source": [
    "a1.fly()"
   ]
  },
  {
   "cell_type": "code",
   "execution_count": 291,
   "id": "08f58313",
   "metadata": {},
   "outputs": [
    {
     "name": "stdout",
     "output_type": "stream",
     "text": [
      "엔진이 멈춥니다.\n",
      "현재속도 : 0km/h, 현재 연료량 : 3800L, 항공편명 : KE9999\n"
     ]
    }
   ],
   "source": [
    "a1.break_()"
   ]
  },
  {
   "cell_type": "code",
   "execution_count": 367,
   "id": "69402254",
   "metadata": {},
   "outputs": [],
   "source": [
    "# 초음속비행기 (SupersonicAirplane) 을 선언해주세요. (Airplane에 상속합니다.)\n",
    "class SupersonicAirplane(Airplane):\n",
    "    # 오버라이딩이란 부모에게 물려받은 메서드가 마음에 안 들때\n",
    "    # 새롭게 정의하는것을 의미합니다.\n",
    "    # 같은 이름, 같은 파라미터선언으로 정의하면 됩니다.\n",
    "    def fly(self):\n",
    "        # 메서드명과 파라미터는 동일하나 코드가 바뀜\n",
    "        if(self.gas <= 0):\n",
    "            print(\"연료가 없습니다.\")\n",
    "            return # break문 처럼 함수를 즉시 종료시킴\n",
    "        if(self.velocity + 200 > 2000):\n",
    "            self.velocity = 2000\n",
    "        else:\n",
    "            self.velocity += 200\n",
    "        self.gas -= 100\n",
    "        \n",
    "        \n",
    "        \n",
    "    def break_(self):\n",
    "        # 최저 속도를 0으로 만들어주세요.\n",
    "        if(self.gas < 100 or self.velocity -200 <=0):\n",
    "            self.velocity = 0\n",
    "            print(\"엔진이 멈춥니다.\")\n",
    "        else:\n",
    "            self.velocity -= 200\n",
    "        sa1.get_info()   "
   ]
  },
  {
   "cell_type": "code",
   "execution_count": 368,
   "id": "109c5594",
   "metadata": {},
   "outputs": [],
   "source": [
    "sa1 = SupersonicAirplane(0, 5000, \"SE9999\")"
   ]
  },
  {
   "cell_type": "code",
   "execution_count": 369,
   "id": "59e09505",
   "metadata": {},
   "outputs": [
    {
     "name": "stdout",
     "output_type": "stream",
     "text": [
      "현재속도 : 0km/h, 현재 연료량 : 5000L, 항공편명 : SE9999\n"
     ]
    }
   ],
   "source": [
    "sa1.get_info()"
   ]
  },
  {
   "cell_type": "code",
   "execution_count": 370,
   "id": "8dca14bf",
   "metadata": {},
   "outputs": [],
   "source": [
    "sa1.fly()"
   ]
  },
  {
   "cell_type": "code",
   "execution_count": 371,
   "id": "2ce611da",
   "metadata": {},
   "outputs": [
    {
     "name": "stdout",
     "output_type": "stream",
     "text": [
      "엔진이 멈춥니다.\n",
      "현재속도 : 0km/h, 현재 연료량 : 4900L, 항공편명 : SE9999\n"
     ]
    }
   ],
   "source": [
    "sa1.break_()"
   ]
  },
  {
   "cell_type": "code",
   "execution_count": 372,
   "id": "9cdfe45a",
   "metadata": {},
   "outputs": [],
   "source": [
    "# 비행기 a2를 만들어서 최대 시속 over로 fly를 호출(5번 이상)해서 900이상 올라가지 않음을 확인해주고\n",
    "# 초음속비행기 sa1을 만들어서 최대시속 over로 fly를 호출(11번 이상) 해서 2000이상 올라가지 않도록 확인해주세요."
   ]
  },
  {
   "cell_type": "code",
   "execution_count": 373,
   "id": "d8d8d250",
   "metadata": {},
   "outputs": [
    {
     "name": "stdout",
     "output_type": "stream",
     "text": [
      "현재속도 : 900km/h, 현재 연료량 : 4200L, 항공편명 : SE7777\n",
      "현재속도 : 2000km/h, 현재 연료량 : 3200L, 항공편명 : SE9999\n"
     ]
    }
   ],
   "source": [
    "a2= Airplane(0, 5000, \"SE7777\")\n",
    "\n",
    "for i in range(8):\n",
    "    a2.fly()\n",
    "a2.get_info()\n",
    "\n",
    "for t in range(17):\n",
    "    sa1.fly()\n",
    "sa1.get_info()\n"
   ]
  },
  {
   "cell_type": "code",
   "execution_count": null,
   "id": "50487adf",
   "metadata": {},
   "outputs": [],
   "source": []
  },
  {
   "cell_type": "code",
   "execution_count": null,
   "id": "60c5bcc0",
   "metadata": {},
   "outputs": [],
   "source": []
  },
  {
   "cell_type": "code",
   "execution_count": null,
   "id": "7a60543a",
   "metadata": {},
   "outputs": [],
   "source": []
  },
  {
   "cell_type": "code",
   "execution_count": null,
   "id": "56f543ec",
   "metadata": {},
   "outputs": [],
   "source": []
  },
  {
   "cell_type": "code",
   "execution_count": null,
   "id": "1d049dfd",
   "metadata": {},
   "outputs": [],
   "source": []
  },
  {
   "cell_type": "code",
   "execution_count": null,
   "id": "1a909e64",
   "metadata": {},
   "outputs": [],
   "source": []
  },
  {
   "cell_type": "code",
   "execution_count": null,
   "id": "4a607375",
   "metadata": {},
   "outputs": [],
   "source": []
  },
  {
   "cell_type": "code",
   "execution_count": null,
   "id": "baee7081",
   "metadata": {},
   "outputs": [],
   "source": []
  },
  {
   "cell_type": "code",
   "execution_count": null,
   "id": "fadc09e9",
   "metadata": {},
   "outputs": [],
   "source": []
  },
  {
   "cell_type": "code",
   "execution_count": null,
   "id": "e956cd3a",
   "metadata": {},
   "outputs": [],
   "source": []
  },
  {
   "cell_type": "code",
   "execution_count": null,
   "id": "3991be70",
   "metadata": {},
   "outputs": [],
   "source": []
  }
 ],
 "metadata": {
  "kernelspec": {
   "display_name": "Python 3 (ipykernel)",
   "language": "python",
   "name": "python3"
  },
  "language_info": {
   "codemirror_mode": {
    "name": "ipython",
    "version": 3
   },
   "file_extension": ".py",
   "mimetype": "text/x-python",
   "name": "python",
   "nbconvert_exporter": "python",
   "pygments_lexer": "ipython3",
   "version": "3.9.12"
  }
 },
 "nbformat": 4,
 "nbformat_minor": 5
}
