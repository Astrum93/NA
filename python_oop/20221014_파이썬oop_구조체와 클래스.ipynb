{
 "cells": [
  {
   "cell_type": "markdown",
   "id": "163fd465",
   "metadata": {},
   "source": [
    "# 구조체\n",
    "\n",
    "클래스 이전에 구조체를 먼저 공부하는 이유는 클래스가 C언어의 구조체에서 확장된 개념이기 때문입니다.\n",
    "\n",
    "구조체란 배열과는 달리 인덱스가 아닌 \"변수명\"으로 특정 대상을 프로그래밍적으로 묘사하기 위해 사용합니다.\n",
    "\n",
    "## 추상화\n",
    "\n",
    "추상화는 대상을 간단하게 표현하는것을 의미합니다.\n",
    "\n",
    "이를테면 사람을 만약 컴퓨터적으로 표현한다면 원래대로라면 표현해야하는 요소가 너무 많습니다.\n",
    "\n",
    "하지만 프로그램적으로 표현 요소를 줄이고 줄여서 필수적인 요소만 표현하는것이 개발에 유리하기에 추상화를 하게 됩니다.\n",
    "\n",
    "\n",
    "#### 추상화 예시\n",
    "\n",
    "고양이의 요소 : 털 색깔, 수염 모수, 몸무게, 품종, 이름, 나이, 주인, 집, 성별, 건강상태, 점프력, 울음소리....\n",
    "\n",
    "동물병원에 등록하는데 필요한 요소: 주인, 이름, 나이, 품종(성별, 몸무게, 키, 방문기록)\n",
    "\n",
    "개발시에는 개발자가 고려할 수 있는(혹은 기능이 요구하는)최소한의 사항만을 정의합니다. = 단순화"
   ]
  },
  {
   "cell_type": "code",
   "execution_count": null,
   "id": "8e1b4c40",
   "metadata": {},
   "outputs": [],
   "source": [
    "# 리스트 안의 내용이 가독성이 떨어짐 정확하게 무슨 의미인지 안나타냄\n",
    "human1 = ['김철수', 20, '남']\n",
    "human2 = ['김영희', 10, '여']"
   ]
  },
  {
   "cell_type": "markdown",
   "id": "3fbdd679",
   "metadata": {},
   "source": [
    "## 변수로 나누는 분류\n",
    "\n",
    "### 동적 변수 언어 \n",
    " \n",
    " - 변수형을 정하지 않아서 넣고 싶은 자료형을 마음껏 넣을 수 있음\n",
    " - python...\n",
    " - ex) name = \"dkdkfjk\"\n",
    "\n",
    "### 정적 변수 언어\n",
    " \n",
    " - 변수자료형을 정해서 선언하면 그 때부터는 선언한 자료형으로만 저장할 수 있음\n",
    " - C 언어, java...\n",
    " - ex) String name = \"홍길동\", int a = 5"
   ]
  },
  {
   "cell_type": "code",
   "execution_count": 1,
   "id": "55ac6414",
   "metadata": {},
   "outputs": [],
   "source": [
    "# 클래스(구조체) 구현 문법\n",
    "# 설계도처럼 작용하기 때문에 실제로 변수를 생성하기 전까지는\n",
    "# 아래 적힌 코드는 따로 기능하지 않습니다.\n",
    "class Cat:\n",
    "    name = \"\"\n",
    "    age = 0\n",
    "    cat_type = \"\"\n",
    "    owner = \"\"\n"
   ]
  },
  {
   "cell_type": "code",
   "execution_count": 5,
   "id": "04a3ca92",
   "metadata": {},
   "outputs": [],
   "source": [
    "# 실제로는 생성을 해 줘야 가능합니다.\n",
    "# 클래스 생성을 저장받은 변수를 객체(object) 혹은 인스턴스(instance) 라고 호칭합니다.\n",
    "cat1 = Cat()\n",
    "cat2 = Cat()"
   ]
  },
  {
   "cell_type": "code",
   "execution_count": 6,
   "id": "5c8bd766",
   "metadata": {},
   "outputs": [
    {
     "name": "stdout",
     "output_type": "stream",
     "text": [
      "<__main__.Cat object at 0x0000017FA4B0BE80>\n",
      "<__main__.Cat object at 0x0000017FA4B0BF40>\n"
     ]
    }
   ],
   "source": [
    "print(cat1)\n",
    "print(cat2)"
   ]
  },
  {
   "cell_type": "code",
   "execution_count": 7,
   "id": "8cd8cdb3",
   "metadata": {},
   "outputs": [],
   "source": [
    "cat1.name = \"룰루\"\n",
    "cat1.age = 22\n",
    "cat1.cat_type= \"스코티시 폴드\"\n",
    "cat1.owner = \"이미영\""
   ]
  },
  {
   "cell_type": "code",
   "execution_count": 8,
   "id": "622d3b57",
   "metadata": {},
   "outputs": [],
   "source": [
    "cat2.name = \"랄라\"\n",
    "cat2.age = 22\n",
    "cat2.cat_type= \"스코티시 폴드\"\n",
    "cat2.owner = \"아직영\""
   ]
  },
  {
   "cell_type": "code",
   "execution_count": 9,
   "id": "735ed8b0",
   "metadata": {},
   "outputs": [
    {
     "name": "stdout",
     "output_type": "stream",
     "text": [
      "랄라\n"
     ]
    }
   ],
   "source": [
    "print(cat2.name)"
   ]
  },
  {
   "cell_type": "markdown",
   "id": "44f1a8f3",
   "metadata": {},
   "source": [
    "# 임의의 구조체를 생성해주세요."
   ]
  },
  {
   "cell_type": "code",
   "execution_count": 35,
   "id": "db06192e",
   "metadata": {},
   "outputs": [],
   "source": [
    "class Turtle:\n",
    "    name = \"\"\n",
    "    age = 0\n",
    "    tutle_type = \"\"\n",
    "    master = \"\"\n",
    "    \n",
    "turtle1 = Tutle()\n",
    "\n",
    "turtle1.name = \"거북이\"\n",
    "turtle1.age = 1000\n",
    "turtle1.turtle_type= \"sea tutle\"\n",
    "turtle1.master= \"용왕\"\n",
    "    "
   ]
  },
  {
   "cell_type": "code",
   "execution_count": 36,
   "id": "fa2f5ff8",
   "metadata": {},
   "outputs": [
    {
     "name": "stdout",
     "output_type": "stream",
     "text": [
      "거북이\n",
      "1000 살\n",
      "sea tutle\n",
      "용왕\n"
     ]
    }
   ],
   "source": [
    "print(turtle1.name)\n",
    "print(turtle1.age,\"살\")\n",
    "print(turtle1.turtle_type)\n",
    "print(turtle1.master)"
   ]
  },
  {
   "cell_type": "markdown",
   "id": "391d14ed",
   "metadata": {},
   "source": [
    "# 구조체와 전용 함수\n",
    "\n",
    "위에서 cat에 대한 정보를 기입했을때 하나하나 print() 구문으로 이름과 나이, 품종을 조사해야 해서 불편합니다.\n",
    "\n",
    "이 경우 함수를 선언해두면 편하게 조회할 수 있습니다."
   ]
  },
  {
   "cell_type": "code",
   "execution_count": 18,
   "id": "35e41bc1",
   "metadata": {},
   "outputs": [],
   "source": [
    "# cat을 한마리 더 만들어주세요.\n",
    "# 이름, 나이, 주인, 품종까지 모두 기입해주세요.\n",
    "\n",
    "cat3 = Cat()\n",
    "\n",
    "cat3.name = \"Tom\"\n",
    "cat3.age = 50\n",
    "cat3.cat_type = \"cartoon\"\n",
    "cat3.owner = \"WARNER BROS\""
   ]
  },
  {
   "cell_type": "code",
   "execution_count": 19,
   "id": "e0625640",
   "metadata": {},
   "outputs": [
    {
     "name": "stdout",
     "output_type": "stream",
     "text": [
      "이름 : Tom, 나이 : 50, 품종 : cartoon, 주인 : WARNER BROS \n"
     ]
    }
   ],
   "source": [
    "# 요렇게 짜면 불편하다.\n",
    "print(\"이름 : %s, 나이 : %s, 품종 : %s, 주인 : %s \" % (cat3.name, cat3.age, cat3.cat_type, cat3.owner))"
   ]
  },
  {
   "cell_type": "code",
   "execution_count": 20,
   "id": "2979c667",
   "metadata": {},
   "outputs": [],
   "source": [
    "# Cat 자료형의 전용 함수\n",
    "def show_cat_info(cat):\n",
    "    print(\"이름 : %s, 나이 : %s, 품종 : %s, 주인 : %s \" % (cat.name, cat.age, cat.cat_type, cat.owner))"
   ]
  },
  {
   "cell_type": "code",
   "execution_count": 24,
   "id": "7e51e045",
   "metadata": {},
   "outputs": [
    {
     "name": "stdout",
     "output_type": "stream",
     "text": [
      "이름 : 랄라, 나이 : 22, 품종 : 스코티시 폴드, 주인 : 아직영 \n"
     ]
    }
   ],
   "source": [
    "show_cat_info(cat2)"
   ]
  },
  {
   "cell_type": "code",
   "execution_count": 25,
   "id": "60160cfb",
   "metadata": {},
   "outputs": [],
   "source": [
    "# cat 전용인지 비교할 수 있도록 dog를 선언하겠습니다.\n",
    "class Dog:\n",
    "    name =\"\"\n",
    "    age=0\n",
    "    dog_type= \"\"\n",
    "    address = \"\"\n"
   ]
  },
  {
   "cell_type": "code",
   "execution_count": 27,
   "id": "10c8b015",
   "metadata": {},
   "outputs": [],
   "source": [
    "dog1 = Dog()\n",
    "\n",
    "dog1.name = \"구슬이\"\n",
    "dog1.age = 6\n",
    "dog1.dog_type= \"시고르자브종\"\n",
    "dog1.address = \"별내별가람\""
   ]
  },
  {
   "cell_type": "code",
   "execution_count": 29,
   "id": "9ba2a23d",
   "metadata": {},
   "outputs": [
    {
     "ename": "AttributeError",
     "evalue": "'Dog' object has no attribute 'cat_type'",
     "output_type": "error",
     "traceback": [
      "\u001b[1;31m---------------------------------------------------------------------------\u001b[0m",
      "\u001b[1;31mAttributeError\u001b[0m                            Traceback (most recent call last)",
      "Input \u001b[1;32mIn [29]\u001b[0m, in \u001b[0;36m<cell line: 1>\u001b[1;34m()\u001b[0m\n\u001b[1;32m----> 1\u001b[0m \u001b[43mshow_cat_info\u001b[49m\u001b[43m(\u001b[49m\u001b[43mdog1\u001b[49m\u001b[43m)\u001b[49m\n",
      "Input \u001b[1;32mIn [20]\u001b[0m, in \u001b[0;36mshow_cat_info\u001b[1;34m(cat)\u001b[0m\n\u001b[0;32m      2\u001b[0m \u001b[38;5;28;01mdef\u001b[39;00m \u001b[38;5;21mshow_cat_info\u001b[39m(cat):\n\u001b[1;32m----> 3\u001b[0m     \u001b[38;5;28mprint\u001b[39m(\u001b[38;5;124m\"\u001b[39m\u001b[38;5;124m이름 : \u001b[39m\u001b[38;5;132;01m%s\u001b[39;00m\u001b[38;5;124m, 나이 : \u001b[39m\u001b[38;5;132;01m%s\u001b[39;00m\u001b[38;5;124m, 품종 : \u001b[39m\u001b[38;5;132;01m%s\u001b[39;00m\u001b[38;5;124m, 주인 : \u001b[39m\u001b[38;5;132;01m%s\u001b[39;00m\u001b[38;5;124m \u001b[39m\u001b[38;5;124m\"\u001b[39m \u001b[38;5;241m%\u001b[39m (cat\u001b[38;5;241m.\u001b[39mname, cat\u001b[38;5;241m.\u001b[39mage, \u001b[43mcat\u001b[49m\u001b[38;5;241;43m.\u001b[39;49m\u001b[43mcat_type\u001b[49m, cat\u001b[38;5;241m.\u001b[39mowner))\n",
      "\u001b[1;31mAttributeError\u001b[0m: 'Dog' object has no attribute 'cat_type'"
     ]
    }
   ],
   "source": [
    "show_cat_info(dog1)"
   ]
  },
  {
   "cell_type": "markdown",
   "id": "3a0bee54",
   "metadata": {},
   "source": [
    "### 여러분들이 아까 임의로 만든 클래스 관련\n",
    "\n",
    "해당 클래스를 이용해 생성한 변수(객체)의 정보를 콘솔에 찍을 수 있는 \n",
    "\n",
    "전용 함수를 생성하고 실제로 사용까지 해주세요."
   ]
  },
  {
   "cell_type": "code",
   "execution_count": 41,
   "id": "2de7cc98",
   "metadata": {},
   "outputs": [],
   "source": [
    "def show_turtle_info(turtle):\n",
    "    print('\\\"이름\" : %s, \"나이\" : %s, \"품종\" : %s, \"주인\" : %s ' % (turtle.name, turtle.age, turtle.turtle_type, turtle.master))"
   ]
  },
  {
   "cell_type": "code",
   "execution_count": 42,
   "id": "ba1398cd",
   "metadata": {},
   "outputs": [
    {
     "name": "stdout",
     "output_type": "stream",
     "text": [
      "\"이름\" : 거북이, \"나이\" : 1000, \"품종\" : sea tutle, \"주인\" : 용왕 \n"
     ]
    }
   ],
   "source": [
    "show_turtle_info(turtle1)"
   ]
  },
  {
   "cell_type": "markdown",
   "id": "23f690ec",
   "metadata": {},
   "source": [
    "### 특정 구조체 전용 함수를 외부에 선언할 필요가 있는가?\n",
    "\n",
    "특정 구조체에서만 사용할 함수를, 굳이 외부에 빼서 혼란을 야기할 필요가 없다는 결론을 내렸습니다.\n",
    "\n",
    "그래서 클래스에서는 이제 변수와 함께 함수를 같은 소속으로 선언합니다.\n",
    "\n",
    "이렇게 클래스 내부에 선언된 함수를 가리켜 메서드라고 부릅니다."
   ]
  },
  {
   "cell_type": "code",
   "execution_count": 53,
   "id": "e2940a91",
   "metadata": {},
   "outputs": [],
   "source": [
    "class Computer:\n",
    "    cpu = \"\"\n",
    "    ram = 0\n",
    "    ssd = 0\n",
    "    \n",
    "    # 메서드는 기본적으로 대부분의 경우 self를 파라미터로 선언해주셔야합니다.\n",
    "    # 변수 지칭시에도 self.변수명을 사용합니다.\n",
    "def get_info(self): # 해당 객체의 주소가 들어가는 \n",
    "    print('\\\"cpu\" : %s, \"ram\" : %s, \"ssd\" : %s' % (self.cpu, self.ram, self.ssd))"
   ]
  },
  {
   "cell_type": "code",
   "execution_count": 58,
   "id": "a11e8929",
   "metadata": {},
   "outputs": [],
   "source": [
    "# 컴퓨터 객체를 생성하고, cpu, ram, ssd에 임의의 값을 지정해주신다음\n",
    "# 메서드 호출로 콘솔에 정보를 찍어주세요.\n",
    "\n",
    "self= Computer()\n",
    "self.cpu = \"\\'intel\\'\"\n",
    "self.ram = 32\n",
    "self.ssd = 2"
   ]
  },
  {
   "cell_type": "code",
   "execution_count": 59,
   "id": "2f954539",
   "metadata": {
    "scrolled": true
   },
   "outputs": [
    {
     "name": "stdout",
     "output_type": "stream",
     "text": [
      "\"cpu\" : 'intel', \"ram\" : 32, \"ssd\" : 2\n"
     ]
    }
   ],
   "source": [
    "get_info(self)"
   ]
  },
  {
   "cell_type": "markdown",
   "id": "c19dbe96",
   "metadata": {},
   "source": [
    "# 직접 \"클래스\"만들고\n",
    "\n",
    "조회메서드를 하나 생성해주세요.\n",
    "\n",
    "그리고 메모리 구조를 그려서 슬랙에 캡처 떠서 제출해 주세요."
   ]
  },
  {
   "cell_type": "code",
   "execution_count": 69,
   "id": "19162a30",
   "metadata": {},
   "outputs": [],
   "source": [
    "class 중국집:\n",
    "    밀가루 = \"\"\n",
    "    돼지고기 = \"\"\n",
    "    소고기 = \"\"\n",
    "    해산물 = \"\"\n",
    "\n",
    "def 중국집_info(짬뽕):\n",
    "    print('\\\"밀가루\" : %s, \"돼지고기\" : %s, \"소고기\" : %s,  \"해산물\" : %s' % (짬뽕.밀가루, 짬뽕.돼지고기, 짬뽕.소고기, 짬뽕.해산물))\n",
    "\n",
    "짬뽕 = 중국집()\n",
    "\n",
    "짬뽕.밀가루 = \"국내산\"\n",
    "짬뽕.돼지고기 = \"아르헨티나\"\n",
    "짬뽕.소고기 = \"미국\"\n",
    "짬뽕.해산물 = \"국내산\""
   ]
  },
  {
   "cell_type": "code",
   "execution_count": 70,
   "id": "72f6ed9f",
   "metadata": {},
   "outputs": [
    {
     "name": "stdout",
     "output_type": "stream",
     "text": [
      "\"밀가루\" : 국내산, \"돼지고기\" : 아르헨티나, \"소고기\" : 미국,  \"해산물\" : 국내산\n"
     ]
    }
   ],
   "source": [
    "중국집_info(짬뽕)"
   ]
  },
  {
   "cell_type": "markdown",
   "id": "809b8e05",
   "metadata": {},
   "source": [
    "# 2022.10.17"
   ]
  },
  {
   "cell_type": "markdown",
   "id": "e94c0ec8",
   "metadata": {},
   "source": [
    "### self 키워드\n",
    "\n",
    "self는 클래스로 생성한 변수(==인스턴스), 자신의 주소를 나타내는 키워드입니다.\n",
    "\n",
    "이렇게 자신의 주소를 나타내야 하는 이유는, 인스턴스는 양식은 같지만 내용물은 독립으로 저장되기 때문입니다."
   ]
  },
  {
   "cell_type": "code",
   "execution_count": 13,
   "id": "834a5fa4",
   "metadata": {},
   "outputs": [],
   "source": [
    "class Computer:\n",
    "    cpu = \"\"\n",
    "    ram = 0\n",
    "    ssd = 0\n",
    "    \n",
    "    # 메서드는 기본적으로 대부분의 경우 self를 파라미터로 선언해주셔야합니다.\n",
    "    # 변수 지칭시에도 self.변수명을 사용합니다.\n",
    "    def get_info(self): # 해당 객체의 주소가 들어가는 \n",
    "        print('\\\"cpu\" : %s, \"ram\" : %s, \"ssd\" : %s' % (self.cpu, self.ram, self.ssd))\n",
    "\n",
    "    def get_self_add(self):\n",
    "        print(self)"
   ]
  },
  {
   "cell_type": "code",
   "execution_count": 14,
   "id": "f6f50735",
   "metadata": {},
   "outputs": [],
   "source": [
    "# 컴퓨터 객체를 생성하고, cpu, ram, ssd에 임의의 값을 지정해주신다음\n",
    "# 메서드 호출로 콘솔에 정보를 찍어주세요.\n",
    "\n",
    "c1 = Computer()\n",
    "c2 = Computer()\n",
    "\n",
    "c1.cpu = \"\\'intel\\'\"\n",
    "c1.ram = 32\n",
    "c1.ssd = 2"
   ]
  },
  {
   "cell_type": "code",
   "execution_count": 15,
   "id": "a68e180b",
   "metadata": {},
   "outputs": [
    {
     "name": "stdout",
     "output_type": "stream",
     "text": [
      "<__main__.Computer object at 0x000001AE7C7B8EE0>\n",
      "<__main__.Computer object at 0x000001AE7C7B8EE0>\n"
     ]
    }
   ],
   "source": [
    "c1.get_self_add()\n",
    "print(c1)"
   ]
  },
  {
   "cell_type": "code",
   "execution_count": 15,
   "id": "2cc6c28f",
   "metadata": {},
   "outputs": [],
   "source": [
    "# 내용물을 좀 더 편하게 초기화시킬수 있도록 클래스를 다시 정의합니다.\n",
    "\n",
    "class Teacher:\n",
    "    name = \"\"\n",
    "    subject = \"\"\n",
    "    age = 0\n",
    "    \n",
    "    # 위 3개 변수에 값을 한 줄로 넣어주는 메서드(함수)\n",
    "    def save_info(self,n,s,a):\n",
    "        self.name = n\n",
    "        self.subject = s\n",
    "        self.age = a"
   ]
  },
  {
   "cell_type": "code",
   "execution_count": 18,
   "id": "335b6eb8",
   "metadata": {},
   "outputs": [
    {
     "name": "stdout",
     "output_type": "stream",
     "text": [
      "세종대왕 한글 805\n"
     ]
    }
   ],
   "source": [
    "# 강사 객체를 생성해보세요.\n",
    "# 이름은 알아서, 과목도 알아서, 나이도 알아서 지정해주시면됩니다.\n",
    "\n",
    "t1= Teacher()\n",
    "\n",
    "#t1.name = \"세종대왕\"\n",
    "#t1.subject = \"한글\"\n",
    "#t1.age = 805\n",
    "\n",
    "t1.save_info(\"세종대왕\", \"한글\", 805)\n",
    "\n",
    "print(t1.name, t1.subject, t1.age)"
   ]
  },
  {
   "cell_type": "markdown",
   "id": "b2bff324",
   "metadata": {},
   "source": [
    "###  생성자 함수\n",
    "\n",
    "클래스 내부에 `__init__` 이라는 명칭으로 선언한 함수는 생성자 함수가 됩니다.\n",
    "\n",
    "생성자 함수를 정의하면 사용자가 클래스의 인스턴스를 생성할 때 반드시 입력해야 하는 요소를 강제로 입력해야만 하는 상황을 만들어줄 수 있습니다."
   ]
  },
  {
   "cell_type": "code",
   "execution_count": 23,
   "id": "7d4fcfe1",
   "metadata": {},
   "outputs": [
    {
     "name": "stdout",
     "output_type": "stream",
     "text": [
      "\"name\" : 치즈, \"weight\" : 3, \"color\" : cheeze, \"cat_type\" : 샴, \"db\" : 20\n"
     ]
    },
    {
     "ename": "TypeError",
     "evalue": "unsupported operand type(s) for //: 'str' and 'int'",
     "output_type": "error",
     "traceback": [
      "\u001b[1;31m---------------------------------------------------------------------------\u001b[0m",
      "\u001b[1;31mTypeError\u001b[0m                                 Traceback (most recent call last)",
      "Input \u001b[1;32mIn [23]\u001b[0m, in \u001b[0;36m<cell line: 34>\u001b[1;34m()\u001b[0m\n\u001b[0;32m     31\u001b[0m catA \u001b[38;5;241m=\u001b[39m Cat(\u001b[38;5;124m\"\u001b[39m\u001b[38;5;124m치즈\u001b[39m\u001b[38;5;124m\"\u001b[39m, \u001b[38;5;241m3\u001b[39m, \u001b[38;5;124m\"\u001b[39m\u001b[38;5;124mcheeze\u001b[39m\u001b[38;5;124m\"\u001b[39m, \u001b[38;5;124m\"\u001b[39m\u001b[38;5;124m샴\u001b[39m\u001b[38;5;124m\"\u001b[39m, \u001b[38;5;124m\"\u001b[39m\u001b[38;5;124m20\u001b[39m\u001b[38;5;124m\"\u001b[39m)\n\u001b[0;32m     33\u001b[0m catA\u001b[38;5;241m.\u001b[39mget_info()\n\u001b[1;32m---> 34\u001b[0m \u001b[43mcatA\u001b[49m\u001b[38;5;241;43m.\u001b[39;49m\u001b[43mMeow\u001b[49m\u001b[43m(\u001b[49m\u001b[43m)\u001b[49m\n",
      "Input \u001b[1;32mIn [23]\u001b[0m, in \u001b[0;36mCat.Meow\u001b[1;34m(self)\u001b[0m\n\u001b[0;32m     28\u001b[0m \u001b[38;5;28;01mdef\u001b[39;00m \u001b[38;5;21mMeow\u001b[39m (\u001b[38;5;28mself\u001b[39m):\n\u001b[1;32m---> 29\u001b[0m     \u001b[38;5;28mprint\u001b[39m(\u001b[38;5;124m\"\u001b[39m\u001b[38;5;124m야옹야옹\u001b[39m\u001b[38;5;124m\"\u001b[39m \u001b[38;5;241m*\u001b[39m (\u001b[38;5;28;43mself\u001b[39;49m\u001b[38;5;241;43m.\u001b[39;49m\u001b[43mdb\u001b[49m\u001b[43m \u001b[49m\u001b[38;5;241;43m/\u001b[39;49m\u001b[38;5;241;43m/\u001b[39;49m\u001b[43m \u001b[49m\u001b[38;5;241;43m10\u001b[39;49m))\n",
      "\u001b[1;31mTypeError\u001b[0m: unsupported operand type(s) for //: 'str' and 'int'"
     ]
    }
   ],
   "source": [
    "class Cat:\n",
    "    # 변수는 특정 대상의 상태\n",
    "    name= \"\"   # 이름\n",
    "    weight = 0 # 체중\n",
    "    color = \"\" # 털 색깔\n",
    "    cat_type = \"\"# 종\n",
    "    db = 0     # 데시벨\n",
    "    \n",
    "    # 메서드는 특정 대상의 행동이며, 결과는 상태(변수)값에 따라 달라진다.\n",
    "    # 아래 함수는 생성자 함수로 생성시 자동으로 1번만 호출되는 함수\n",
    "    def __init__(self,name, weight, color, cat_type, db):\n",
    "        self.name = name\n",
    "        self.weight = weight\n",
    "        self.color = color\n",
    "        self.cat_type = cat_type\n",
    "        self.db = db\n",
    "        \n",
    "    # 1. cat1에 대해서 상세 정보를 조회할 수 있는 함수 get_info()와\n",
    "    # print(\"야옹야옹\")을 실행해주는 함수 meow()를 정의해주시고 호출해주세요.\n",
    "\n",
    "    def get_info(self): # 해당 객체의 주소가 들어가는 \n",
    "        print('\\\"name\" : %s, \"weight\" : %s, \"color\" : %s, \"cat_type\" : %s, \"db\" : %s' % (self.name, \n",
    "                                                                                         self.weight,\n",
    "                                                                                         self.color, \n",
    "                                                                                         self.cat_type, \n",
    "                                                                                         self.db))\n",
    "        \n",
    "    def Meow (self):\n",
    "        print(\"야옹야옹\" * (self.db // 10))\n",
    "\n",
    "catA = Cat(\"치즈\", 3, \"cheeze\", \"샴\", \"20\")\n",
    "\n",
    "catA.get_info()\n",
    "catA.Meow()"
   ]
  },
  {
   "cell_type": "code",
   "execution_count": 24,
   "id": "fcfab5d0",
   "metadata": {},
   "outputs": [],
   "source": [
    "class Cat:\n",
    "    # 변수는 특정 대상의 \"상태\"\n",
    "    name = \"\"#이름\n",
    "    weight = 0#체중\n",
    "    color = \"\"#털색깔\n",
    "    cat_type = \"\"#종\n",
    "    db = 0#데시벨\n",
    "    # 메서드는 특정 대상의 행동이며, 결과는 상태(변수)값에 따라 달라진다.\n",
    "    # 아래 함수는 생성자 함수로 생성시 자동으로 1번만 호출되는 함수\n",
    "    def __init__(self, name, weight, color, cat_type, db):\n",
    "        self.name = name\n",
    "        self.weight = weight\n",
    "        self.color = color\n",
    "        self.cat_type = cat_type\n",
    "        self.db = db\n",
    "    def get_info(self):\n",
    "        print(\"이름 : %s, 체중 : %skg, 색깔 : %s, 종 : %s, 울음소리 : %sdb\" %\n",
    "                      (self.name, self.weight, self.color, self.cat_type, self.db))\n",
    "    def meow(self):\n",
    "        print(\"야옹야옹\" * (self.db // 10))"
   ]
  },
  {
   "cell_type": "markdown",
   "id": "4f59114a",
   "metadata": {},
   "source": [
    "# 여러분들이 직접 뭔가에 대해서 클래스 정의를 해주세요.\n",
    "\n",
    "- 생성자로 생성합니다.\n",
    "- 정보를 조회하는 메서드를 추가해주세요.\n",
    "- moew처럼 해당하는 대상이 현실에서 수행할 수 있는 어떤 행동을 하나 임의로 추가해주세요.\n",
    "- 생성된 클래스를 토대로 객체를 생성해 돌려보세요."
   ]
  },
  {
   "cell_type": "code",
   "execution_count": 16,
   "id": "fa0944e0",
   "metadata": {},
   "outputs": [
    {
     "name": "stdout",
     "output_type": "stream",
     "text": [
      "\"name\" : eagle, \"color\" : white, \"live\" : tree, \"move\" : fly\n",
      "독수리가 날개를 펼칩니다.\n"
     ]
    }
   ],
   "source": [
    "class Bird:\n",
    "    name = \"\"\n",
    "    color = \"\"\n",
    "    live = \"\"\n",
    "    move = \"\"\n",
    "    \n",
    "    def __init__ (self,name, color, live, move):\n",
    "        self.name = name\n",
    "        self.color = color\n",
    "        self.live = live\n",
    "        self.move = move\n",
    "    def get_info (self):\n",
    "        print('\\\"name\" : %s, \"color\" : %s, \"live\" : %s, \"move\" : %s' %(self.name, self.color, self.live, self.move))\n",
    "    def action(self):\n",
    "        print(\"독수리가 날개를 펼칩니다.\")\n",
    "        \n",
    "bird1 = Bird(\"eagle\", \"white\", \"tree\", \"fly\")\n",
    "bird1.get_info()\n",
    "bird1.action()"
   ]
  },
  {
   "cell_type": "code",
   "execution_count": null,
   "id": "27a6be22",
   "metadata": {},
   "outputs": [],
   "source": []
  },
  {
   "cell_type": "code",
   "execution_count": null,
   "id": "f54c9f02",
   "metadata": {},
   "outputs": [],
   "source": []
  },
  {
   "cell_type": "code",
   "execution_count": null,
   "id": "fa0d3c6f",
   "metadata": {},
   "outputs": [],
   "source": []
  },
  {
   "cell_type": "code",
   "execution_count": null,
   "id": "5b260699",
   "metadata": {},
   "outputs": [],
   "source": [
    "class Cat:\n",
    "    name = \"\"\n",
    "    age = 0\n",
    "    cat_type = \"\"\n",
    "    owner = \"\"\n",
    "    \n",
    "cat1 = Cat()\n",
    "cat2 = Cat()\n",
    "\n",
    "print(cat1)\n",
    "print(cat2)\n",
    "\n",
    "cat1.name = \"룰루\"\n",
    "cat1.age = 22\n",
    "cat1.cat_type= \"스코티시 폴드\"\n",
    "cat1.owner = \"이미영\"\n",
    "\n",
    "cat2.name = \"랄라\"\n",
    "cat2.age = 22\n",
    "cat2.cat_type= \"스코티시 폴드\"\n",
    "cat2.owner = \"아직영\"\n",
    "\n",
    "print(cat1.name)\n",
    "print(cat2.name)"
   ]
  }
 ],
 "metadata": {
  "kernelspec": {
   "display_name": "Python 3 (ipykernel)",
   "language": "python",
   "name": "python3"
  },
  "language_info": {
   "codemirror_mode": {
    "name": "ipython",
    "version": 3
   },
   "file_extension": ".py",
   "mimetype": "text/x-python",
   "name": "python",
   "nbconvert_exporter": "python",
   "pygments_lexer": "ipython3",
   "version": "3.9.12"
  }
 },
 "nbformat": 4,
 "nbformat_minor": 5
}
