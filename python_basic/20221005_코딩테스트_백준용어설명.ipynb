{
 "cells": [
  {
   "cell_type": "markdown",
   "id": "82608dc3",
   "metadata": {},
   "source": [
    "# 백준 용어 및 대응 파이썬 코드\n",
    "\n",
    "### 입력\n",
    "\n",
    "- 입력은 사용자의 입력을 의미합니다.\n",
    "- 코드가 실행된 다음 사용자가 직접 입력할 수 있도록 할 수 있게 코딩해야하고\n",
    "- 파이썬에서는 input()을 기본적으로 사용합니다.\n",
    "- 성능향상이 필요한 경우는 sys.stdin.readline()을 사용합니다.\n",
    "- 브론즈 하위~중위 수준에서는 input()만으로도 풀리니 우선 input()만 쓰겠습니다.\n",
    "- 입력에 x이상 y이하의 범위를 주는경우도 있지만 무시해도 됩니다."
   ]
  },
  {
   "cell_type": "code",
   "execution_count": 1,
   "id": "3f89275a",
   "metadata": {},
   "outputs": [
    {
     "name": "stdout",
     "output_type": "stream",
     "text": [
      "입력해보세요.하이\n"
     ]
    },
    {
     "data": {
      "text/plain": [
       "'하이'"
      ]
     },
     "execution_count": 1,
     "metadata": {},
     "output_type": "execute_result"
    }
   ],
   "source": [
    "# input('안내문구') 를 입력하면\n",
    "# 사용자에게 입력할 수 있는 양식을 제공하고\n",
    "# 사용자가 입력한 자료를 문자형식으로 전달합니다.\n",
    "input('입력해보세요.')"
   ]
  },
  {
   "cell_type": "code",
   "execution_count": 3,
   "id": "45fa440f",
   "metadata": {},
   "outputs": [
    {
     "name": "stdout",
     "output_type": "stream",
     "text": [
      "변수넣기하이하이\n",
      "하이하이\n"
     ]
    }
   ],
   "source": [
    "# input()의 좌변에 변수를 대입받으면, 사용자가 입력한 자료가\n",
    "# 해당 변수에 대입됩니다.\n",
    "test = input('변수넣기')\n",
    "print(test)"
   ]
  },
  {
   "cell_type": "code",
   "execution_count": 4,
   "id": "e9edd3bf",
   "metadata": {},
   "outputs": [
    {
     "data": {
      "text/plain": [
       "'하이하이'"
      ]
     },
     "execution_count": 4,
     "metadata": {},
     "output_type": "execute_result"
    }
   ],
   "source": [
    "test"
   ]
  },
  {
   "cell_type": "code",
   "execution_count": 5,
   "id": "faadccbd",
   "metadata": {},
   "outputs": [
    {
     "name": "stdout",
     "output_type": "stream",
     "text": [
      "123\n",
      "456\n",
      "123456\n"
     ]
    }
   ],
   "source": [
    "A = input()\n",
    "B = input()\n",
    "print(A + B)"
   ]
  },
  {
   "cell_type": "code",
   "execution_count": 6,
   "id": "554ec97b",
   "metadata": {},
   "outputs": [
    {
     "name": "stdout",
     "output_type": "stream",
     "text": [
      "123\n",
      "456\n",
      "579\n"
     ]
    }
   ],
   "source": [
    "# input()으로 들어오는 자료를 숫자로 변경하기 위해서느\n",
    "# int() 로 input()을 감싸 int(input()) 형태로 만들어주면 됩니다.\n",
    "A = int(input())\n",
    "B = int(input())\n",
    "print(A + B)"
   ]
  },
  {
   "cell_type": "markdown",
   "id": "7fa31a29",
   "metadata": {},
   "source": [
    "### 출력\n",
    "\n",
    "- 출력은 콘솔창에 찍히는(print()로 찍히는) 메세지를 의미합니다.\n",
    "- 출력 결과를 보고 적절한 형태로, 입력에 의해 저장된 값을 가공하면 됩니다.\n",
    "- 입력이 한줄로 받아진다면 출력이 올바른 형태여도 입력도 한줄로 받도록 처리해야 합니다."
   ]
  },
  {
   "cell_type": "code",
   "execution_count": 9,
   "id": "db44373b",
   "metadata": {
    "scrolled": true
   },
   "outputs": [
    {
     "name": "stdout",
     "output_type": "stream",
     "text": [
      "1 2\n",
      "3\n"
     ]
    }
   ],
   "source": [
    "# 두 개 이상의 변수에 입력할때는 (띄어쓰기로 하나하나 구분) 아래 코드를 씁니다.\n",
    "A,B = map(int, input().split())\n",
    "print(A + B)"
   ]
  },
  {
   "cell_type": "code",
   "execution_count": 1,
   "id": "75cfe1a0",
   "metadata": {},
   "outputs": [
    {
     "name": "stdout",
     "output_type": "stream",
     "text": [
      "1\n",
      "2\n"
     ]
    }
   ],
   "source": [
    "# 파이썬의 print()는 기본적으로 실행되면 자동으로 줄바뀜이 일어납니다.\n",
    "print(1)\n",
    "print(2)"
   ]
  },
  {
   "cell_type": "code",
   "execution_count": 2,
   "id": "68c50f07",
   "metadata": {},
   "outputs": [
    {
     "name": "stdout",
     "output_type": "stream",
     "text": [
      "ab\n",
      "cd"
     ]
    }
   ],
   "source": [
    "# 다음줄로 내리지 않기 위해서는 print() 뒤에 end=\"\" 를 추가합니다.\n",
    "print('a', end=\"\") \n",
    "print('b', end=\"\")\n",
    "print() #커서를 다음줄로 내려주세요.\n",
    "print('c', end=\"\")\n",
    "print('d', end=\"\")"
   ]
  }
 ],
 "metadata": {
  "kernelspec": {
   "display_name": "Python 3 (ipykernel)",
   "language": "python",
   "name": "python3"
  },
  "language_info": {
   "codemirror_mode": {
    "name": "ipython",
    "version": 3
   },
   "file_extension": ".py",
   "mimetype": "text/x-python",
   "name": "python",
   "nbconvert_exporter": "python",
   "pygments_lexer": "ipython3",
   "version": "3.9.12"
  }
 },
 "nbformat": 4,
 "nbformat_minor": 5
}
