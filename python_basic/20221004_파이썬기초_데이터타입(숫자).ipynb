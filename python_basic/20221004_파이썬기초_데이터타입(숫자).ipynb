{
 "cells": [
  {
   "cell_type": "markdown",
   "id": "af9213ab",
   "metadata": {},
   "source": [
    "# 데이터 타입\n",
    "\n",
    "## > 숫자형\n",
    "- 종류\n",
    "   - 정수 : 0, 양수, 음수인 숫자\n",
    "   - 실수 : 소숫점을 포함하는 숫자\n",
    "   - 8진수(Oo 또는 OO(대문자o) 으로 시작) : Oo34, Oo25\n",
    "   - 16진수 (Ox로시작) : Ox2A, OxFF\n",
    "   - 2진수 (Ob로 시작) : Ob10, Ob11"
   ]
  },
  {
   "cell_type": "markdown",
   "id": "6b0c20ef",
   "metadata": {},
   "source": [
    "### 정수형"
   ]
  },
  {
   "cell_type": "code",
   "execution_count": 10,
   "id": "9a7ad684",
   "metadata": {},
   "outputs": [],
   "source": [
    "#양수, 음수, 0\n",
    "a = 10\n",
    "b = -20\n",
    "c = 0"
   ]
  },
  {
   "cell_type": "code",
   "execution_count": 11,
   "id": "17c1667e",
   "metadata": {},
   "outputs": [
    {
     "name": "stdout",
     "output_type": "stream",
     "text": [
      "10\n"
     ]
    }
   ],
   "source": [
    "# 출력 : print(자료)\n",
    "print(a)"
   ]
  },
  {
   "cell_type": "code",
   "execution_count": 13,
   "id": "243b0310",
   "metadata": {},
   "outputs": [
    {
     "name": "stdout",
     "output_type": "stream",
     "text": [
      "a\n"
     ]
    }
   ],
   "source": [
    "#따옴표로 싸여 있는 a는 \"a\"라는 문자로 출력\n",
    "print(\"a\")"
   ]
  },
  {
   "cell_type": "code",
   "execution_count": 14,
   "id": "315b7d18",
   "metadata": {},
   "outputs": [
    {
     "name": "stdout",
     "output_type": "stream",
     "text": [
      "Hello world\n"
     ]
    }
   ],
   "source": [
    "print(\"Hello world\")"
   ]
  },
  {
   "cell_type": "code",
   "execution_count": 21,
   "id": "bd082fa6",
   "metadata": {},
   "outputs": [
    {
     "data": {
      "text/plain": [
       "int"
      ]
     },
     "execution_count": 21,
     "metadata": {},
     "output_type": "execute_result"
    }
   ],
   "source": [
    "#정수 타입 : 타입(데이터종류)를 확인하는 내장함수 type()\n",
    "type(a)"
   ]
  },
  {
   "cell_type": "code",
   "execution_count": 16,
   "id": "dd523a39",
   "metadata": {},
   "outputs": [
    {
     "data": {
      "text/plain": [
       "int"
      ]
     },
     "execution_count": 16,
     "metadata": {},
     "output_type": "execute_result"
    }
   ],
   "source": [
    "type(b)"
   ]
  },
  {
   "cell_type": "code",
   "execution_count": 17,
   "id": "1cb69df9",
   "metadata": {},
   "outputs": [
    {
     "data": {
      "text/plain": [
       "int"
      ]
     },
     "execution_count": 17,
     "metadata": {},
     "output_type": "execute_result"
    }
   ],
   "source": [
    "type(c)"
   ]
  },
  {
   "cell_type": "markdown",
   "id": "44e0538e",
   "metadata": {},
   "source": [
    "### 실수형\n",
    "\n",
    "변수는 박스 하나당 한개가 들어가야한다"
   ]
  },
  {
   "cell_type": "code",
   "execution_count": 25,
   "id": "b58e6e4d",
   "metadata": {},
   "outputs": [],
   "source": [
    "# 양의 실수, 음의 실수 : float\n",
    "a = 1.3\n",
    "b = -2.4\n",
    "c = 0.0"
   ]
  },
  {
   "cell_type": "code",
   "execution_count": 26,
   "id": "490e6e61",
   "metadata": {},
   "outputs": [
    {
     "data": {
      "text/plain": [
       "float"
      ]
     },
     "execution_count": 26,
     "metadata": {},
     "output_type": "execute_result"
    }
   ],
   "source": [
    "type(a)"
   ]
  },
  {
   "cell_type": "code",
   "execution_count": 27,
   "id": "36fc0529",
   "metadata": {},
   "outputs": [
    {
     "data": {
      "text/plain": [
       "float"
      ]
     },
     "execution_count": 27,
     "metadata": {},
     "output_type": "execute_result"
    }
   ],
   "source": [
    "type(b)"
   ]
  },
  {
   "cell_type": "code",
   "execution_count": 28,
   "id": "0467ffbf",
   "metadata": {},
   "outputs": [
    {
     "data": {
      "text/plain": [
       "float"
      ]
     },
     "execution_count": 28,
     "metadata": {},
     "output_type": "execute_result"
    }
   ],
   "source": [
    "type(c)"
   ]
  },
  {
   "cell_type": "code",
   "execution_count": 30,
   "id": "fad06eb6",
   "metadata": {},
   "outputs": [
    {
     "name": "stdout",
     "output_type": "stream",
     "text": [
      "<class 'int'> <class 'float'>\n"
     ]
    }
   ],
   "source": [
    "# 0 vs 0.0\n",
    "print(type(0), type(0.0))"
   ]
  },
  {
   "cell_type": "code",
   "execution_count": null,
   "id": "1892d7ce",
   "metadata": {},
   "outputs": [],
   "source": [
    "# 정수와 실수가 다른 숫자로 인식되는 이유는\n",
    "# 2의 보수방식, 실수 이진수 표현 2개 키워드로 검색하면 확인할 수 있습니다."
   ]
  },
  {
   "cell_type": "markdown",
   "id": "61400b18",
   "metadata": {},
   "source": [
    "구글에 2의 보수방식, 부동소수점 검색"
   ]
  },
  {
   "cell_type": "markdown",
   "id": "70e39958",
   "metadata": {},
   "source": [
    "## > 연산자\n",
    "\n",
    "- 산술 : +, -, *, /, //(몫), %(나머지)\n",
    "- 비교 : ==(값이 같은지), !=(값이 다른지), <=, >=, <, >\n",
    "- 논리 : and, or\n",
    "- 할당 : =, +=(누적합), -=(누적차), *=(누적곱), /=(몫만 남기기), %=(나머지만 남기기)"
   ]
  },
  {
   "cell_type": "markdown",
   "id": "9586f43b",
   "metadata": {},
   "source": [
    "### 1) 산술연산자 : 숫자를 계산하기 위한 문법 기호"
   ]
  },
  {
   "cell_type": "code",
   "execution_count": 38,
   "id": "92f2e2d4",
   "metadata": {},
   "outputs": [
    {
     "data": {
      "text/plain": [
       "13.4"
      ]
     },
     "execution_count": 38,
     "metadata": {},
     "output_type": "execute_result"
    }
   ],
   "source": [
    "# 더하기 : +\n",
    "# 정수 + 정수 => 정수로 출력\n",
    "10 + 3\n",
    "# 실수 + 실수 => 실수로 출력\n",
    "13.3 + 2.4\n",
    "# 정수 + 실수 => 실수로 출력 (같은 자리수로 맞춰야 하기때문 작은걸 큰걸로 맞춤)\n",
    "10 + 3.4"
   ]
  },
  {
   "cell_type": "markdown",
   "id": "8cba1267",
   "metadata": {},
   "source": [
    "### 주피터 노트북은 print() 구분을 쓰지 않을 시 가장 마지막 줄의 결과만 화면에 보여줍니다.\n",
    "### 만약 모든 줄의 결과를 화면에 보여주고 싶다면 매 구분마다 print() 구분을 써줘야 합니다."
   ]
  },
  {
   "cell_type": "code",
   "execution_count": 39,
   "id": "d37f11be",
   "metadata": {},
   "outputs": [
    {
     "data": {
      "text/plain": [
       "-4.7"
      ]
     },
     "execution_count": 39,
     "metadata": {},
     "output_type": "execute_result"
    }
   ],
   "source": [
    "# 빼기 : -\n",
    "10- 3\n",
    "3 - 7.7"
   ]
  },
  {
   "cell_type": "code",
   "execution_count": 43,
   "id": "d98a5cce",
   "metadata": {},
   "outputs": [
    {
     "data": {
      "text/plain": [
       "1.0"
      ]
     },
     "execution_count": 43,
     "metadata": {},
     "output_type": "execute_result"
    }
   ],
   "source": [
    "# 나누기 ; /\n",
    "# 파이썬만 정수 나누기 정수도 실수로 출력합니다.\n",
    "# 자바, cpp 등의 대다수 언어는 정수 / 정수는 무조건 정수로 나옵니다.\n",
    "3 / 3 "
   ]
  },
  {
   "cell_type": "code",
   "execution_count": 45,
   "id": "f4cfffe8",
   "metadata": {},
   "outputs": [
    {
     "data": {
      "text/plain": [
       "-5"
      ]
     },
     "execution_count": 45,
     "metadata": {},
     "output_type": "execute_result"
    }
   ],
   "source": [
    "# 곱하기 : *\n",
    "3 * 4\n",
    "-3 * 5\n",
    "# 파이썬에서도 사칙연산의 우선순위를 ()로 조절할 수 잇습니다.\n",
    "(3 - 4) * 5"
   ]
  },
  {
   "cell_type": "code",
   "execution_count": 47,
   "id": "3663aeb5",
   "metadata": {},
   "outputs": [
    {
     "data": {
      "text/plain": [
       "-2"
      ]
     },
     "execution_count": 47,
     "metadata": {},
     "output_type": "execute_result"
    }
   ],
   "source": [
    "# 정수 몫 반환 : //\n",
    "# 나눗셈의 결과값보다 작은 정수중에 가장 큰 정수\n",
    "5 // 4\n",
    "-5 // 4"
   ]
  },
  {
   "cell_type": "code",
   "execution_count": 48,
   "id": "da8f3769",
   "metadata": {},
   "outputs": [
    {
     "data": {
      "text/plain": [
       "1"
      ]
     },
     "execution_count": 48,
     "metadata": {},
     "output_type": "execute_result"
    }
   ],
   "source": [
    "# 양수는 그냥 생각한대로 몫이 나옴\n",
    "4 // 3"
   ]
  },
  {
   "cell_type": "code",
   "execution_count": 49,
   "id": "0d26179f",
   "metadata": {},
   "outputs": [
    {
     "data": {
      "text/plain": [
       "3"
      ]
     },
     "execution_count": 49,
     "metadata": {},
     "output_type": "execute_result"
    }
   ],
   "source": [
    "# 정수 몫을 구하고 남은 나머지만 반환 : %\n",
    "3 % 4"
   ]
  },
  {
   "cell_type": "code",
   "execution_count": 53,
   "id": "737e04f4",
   "metadata": {},
   "outputs": [
    {
     "data": {
      "text/plain": [
       "1.4142135623730951"
      ]
     },
     "execution_count": 53,
     "metadata": {},
     "output_type": "execute_result"
    }
   ],
   "source": [
    "# 지수 : **\n",
    "2 ** 3\n",
    "# 제곱근, 세제곱근 등도 계산 가능\n",
    "2 ** 0.5"
   ]
  },
  {
   "cell_type": "markdown",
   "id": "4a4793c6",
   "metadata": {},
   "source": [
    "### 2) 비교연산자 : 자료를 비교하기 위한 문법 기호\n",
    "    -결과가 숫자가 아니라 bool type의 결과를 가진다.\n",
    "    \n",
    ">#### bool type (참 또는 거짓)\n",
    "    - True : 0이 아닌 숫자, 참인 조건식 등\n",
    "    - False : 0, 거짓의 조건식 등\n",
    "    \n",
    "- 값에 대한 비교(단순비교) : ==, !=\n",
    "- 크기에 대한 비교(대소비교) : >, <, >=, <="
   ]
  },
  {
   "cell_type": "code",
   "execution_count": 56,
   "id": "25012655",
   "metadata": {},
   "outputs": [
    {
     "data": {
      "text/plain": [
       "False"
      ]
     },
     "execution_count": 56,
     "metadata": {},
     "output_type": "execute_result"
    }
   ],
   "source": [
    "# 두 값이 같은지 비교 : ==\n",
    "1 == 1.0\n",
    "# 자료끼리는 같다고 나오지만 자료형(자료타입)으로 비교시 다릅니다.\n",
    "type(1) == type(1.0)"
   ]
  },
  {
   "cell_type": "code",
   "execution_count": 58,
   "id": "13c4dc2b",
   "metadata": {},
   "outputs": [
    {
     "data": {
      "text/plain": [
       "True"
      ]
     },
     "execution_count": 58,
     "metadata": {},
     "output_type": "execute_result"
    }
   ],
   "source": [
    "# 두 값이 다른지 비교 : !=\n",
    "# 두 값이 다르면 True, 같으면 False\n",
    "0 != 0.0\n",
    "type(0) != type(0.0)"
   ]
  },
  {
   "cell_type": "code",
   "execution_count": 60,
   "id": "5c9f5383",
   "metadata": {},
   "outputs": [
    {
     "data": {
      "text/plain": [
       "False"
      ]
     },
     "execution_count": 60,
     "metadata": {},
     "output_type": "execute_result"
    }
   ],
   "source": [
    "# 두 값의 크기를 비교 : >=, <=, <, >\n",
    "# 대소 비교는 숫자끼리 가능\n",
    "2 >= 3"
   ]
  },
  {
   "cell_type": "markdown",
   "id": "e603fe78",
   "metadata": {},
   "source": [
    "#### 3) 논리연산자\n",
    "- 여러 개의 조건식을 활용하기 위한 명령어\n",
    "- bool type 결과 반환 : True, False"
   ]
  },
  {
   "cell_type": "code",
   "execution_count": 63,
   "id": "2c71aa78",
   "metadata": {},
   "outputs": [
    {
     "data": {
      "text/plain": [
       "True"
      ]
     },
     "execution_count": 63,
     "metadata": {},
     "output_type": "execute_result"
    }
   ],
   "source": [
    "# and 연산자 : 조건식1 and 조건식2\n",
    "# 조건식1과 조건식2가 모두 True면 최종결과는 True\n",
    "# 둘 중 하나만 False여도 최종결과는 False\n",
    "# 둘다 False이면 최종결과는 False\n",
    "10 < 12 and 0 > -3"
   ]
  },
  {
   "cell_type": "code",
   "execution_count": 65,
   "id": "6f5e31ae",
   "metadata": {},
   "outputs": [
    {
     "data": {
      "text/plain": [
       "True"
      ]
     },
     "execution_count": 65,
     "metadata": {},
     "output_type": "execute_result"
    }
   ],
   "source": [
    "# bool(자료) 는 해당 자료의 참, 거짓을 판단해준다.\n",
    "# 단독 숫자 등도 판단이 가능하고, 0만 아니면 이외 모든 숫자는 True\n",
    "bool(10 <12)"
   ]
  },
  {
   "cell_type": "markdown",
   "id": "843ddc3a",
   "metadata": {},
   "source": [
    "#### 4) 할당연산자\n",
    "\n",
    "- 변수 할당\n",
    "- 누적 연산"
   ]
  },
  {
   "cell_type": "code",
   "execution_count": 77,
   "id": "138125e7",
   "metadata": {},
   "outputs": [],
   "source": [
    "# 변수명(왼쪽) 변수값(오른쪽)을 할당/선언/저장 : =\n",
    "# x에 10을 대입해주세요.\n",
    "x = 10"
   ]
  },
  {
   "cell_type": "code",
   "execution_count": 78,
   "id": "a9b5f5f2",
   "metadata": {},
   "outputs": [],
   "source": [
    "# 숫자형의 누적 합계 +=\n",
    "# result라는 변수에 누적합을 저장하기\n",
    "result = 0\n",
    "# result에 x만큼 더해서 저장하기 위해 원래 사용하던 코드\n",
    "result = result + x"
   ]
  },
  {
   "cell_type": "code",
   "execution_count": 79,
   "id": "963b3b13",
   "metadata": {},
   "outputs": [],
   "source": [
    "# result를 한 번 만 쓰고도 x만큼 더해서 저장까지 하는 코드\n",
    "result += x"
   ]
  },
  {
   "cell_type": "code",
   "execution_count": 80,
   "id": "ba3c66c0",
   "metadata": {},
   "outputs": [
    {
     "data": {
      "text/plain": [
       "20"
      ]
     },
     "execution_count": 80,
     "metadata": {},
     "output_type": "execute_result"
    }
   ],
   "source": [
    "result"
   ]
  },
  {
   "cell_type": "code",
   "execution_count": 81,
   "id": "1bf05175",
   "metadata": {},
   "outputs": [
    {
     "data": {
      "text/plain": [
       "19"
      ]
     },
     "execution_count": 81,
     "metadata": {},
     "output_type": "execute_result"
    }
   ],
   "source": [
    "# 숫자형의 누적 차\n",
    "result -= 1\n",
    "result"
   ]
  },
  {
   "cell_type": "code",
   "execution_count": 82,
   "id": "32340d11",
   "metadata": {},
   "outputs": [
    {
     "data": {
      "text/plain": [
       "38"
      ]
     },
     "execution_count": 82,
     "metadata": {},
     "output_type": "execute_result"
    }
   ],
   "source": [
    "# 누적 곱\n",
    "# result를 2배로 곱해서 저장해주세요.\n",
    "result *= 2\n",
    "result"
   ]
  },
  {
   "cell_type": "markdown",
   "id": "4dc8c612",
   "metadata": {},
   "source": [
    "### 1. 홍길동의 시험 성적 평균을 구하세요\n",
    "영어 80점  국어 72점 수학 90점 사회 66점\n",
    "* 변수를 사용해서 과목의 평균을 구해보세요.\n",
    "* 출력 양식 : <br>\n",
    "총합 308 <br>\n",
    "평균 77"
   ]
  },
  {
   "cell_type": "code",
   "execution_count": 83,
   "id": "ea57064d",
   "metadata": {},
   "outputs": [],
   "source": [
    "eng = 80\n",
    "kor = 72\n",
    "math = 90\n",
    "social = 66"
   ]
  },
  {
   "cell_type": "code",
   "execution_count": 86,
   "id": "59ad55eb",
   "metadata": {},
   "outputs": [
    {
     "data": {
      "text/plain": [
       "308"
      ]
     },
     "execution_count": 86,
     "metadata": {},
     "output_type": "execute_result"
    }
   ],
   "source": [
    "# 총합 구해서 total 변수에 저장하기\n",
    "total = eng + kor + math +social\n",
    "total"
   ]
  },
  {
   "cell_type": "code",
   "execution_count": 88,
   "id": "c484069e",
   "metadata": {},
   "outputs": [
    {
     "data": {
      "text/plain": [
       "77.0"
      ]
     },
     "execution_count": 88,
     "metadata": {},
     "output_type": "execute_result"
    }
   ],
   "source": [
    "# 평균 구해서 avg 변수에 저장하기\n",
    "avg = total / 4\n",
    "avg"
   ]
  },
  {
   "cell_type": "code",
   "execution_count": 90,
   "id": "f18de90c",
   "metadata": {},
   "outputs": [
    {
     "name": "stdout",
     "output_type": "stream",
     "text": [
      "총합 308\n",
      "평균 77.0\n"
     ]
    }
   ],
   "source": [
    "# print문을 이용해 총합과 평균 출력하기\n",
    "print(\"총합\" , total)\n",
    "print(\"평균\" , avg)"
   ]
  },
  {
   "cell_type": "code",
   "execution_count": null,
   "id": "0f909f99",
   "metadata": {},
   "outputs": [],
   "source": []
  },
  {
   "cell_type": "code",
   "execution_count": null,
   "id": "5402a96c",
   "metadata": {},
   "outputs": [],
   "source": []
  },
  {
   "cell_type": "code",
   "execution_count": null,
   "id": "c2a58b30",
   "metadata": {},
   "outputs": [],
   "source": []
  },
  {
   "cell_type": "code",
   "execution_count": null,
   "id": "1d6f0fc7",
   "metadata": {},
   "outputs": [],
   "source": []
  },
  {
   "cell_type": "code",
   "execution_count": null,
   "id": "eaf0d886",
   "metadata": {},
   "outputs": [],
   "source": []
  }
 ],
 "metadata": {
  "kernelspec": {
   "display_name": "Python 3 (ipykernel)",
   "language": "python",
   "name": "python3"
  },
  "language_info": {
   "codemirror_mode": {
    "name": "ipython",
    "version": 3
   },
   "file_extension": ".py",
   "mimetype": "text/x-python",
   "name": "python",
   "nbconvert_exporter": "python",
   "pygments_lexer": "ipython3",
   "version": "3.9.12"
  }
 },
 "nbformat": 4,
 "nbformat_minor": 5
}
