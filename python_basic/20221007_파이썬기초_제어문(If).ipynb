{
 "cells": [
  {
   "cell_type": "markdown",
   "id": "d9fd82e4",
   "metadata": {},
   "source": [
    "# << 제어문 >>\n",
    "## 1. 조건문(if , elif, else)\n",
    "\n",
    "주어진 조건을 판단하여 해당 조건이 참일 때와 거짓일 때에 맞는 명령문을 수행하는 것\n",
    "\n",
    "▶ 기본 문법\n",
    "\n",
    "* if 조건문1 :\n",
    "      조건문1이 참일 때 실행할 문장1\n",
    "      조건문1이 참일 때 실행할 문장2\n",
    "  \n",
    "* elif 조건문2 :\n",
    "      (조건문1이 거짓일 때 elif 블럭으로 이동)\n",
    "      조건문2가 참일 때 실행할 문장1\n",
    "      조건문2가 참일 때 실행할 문장2\n",
    "      조건문2가 참일 때 실행할 문장2\n",
    "  \n",
    "* else :\n",
    "      조건문1, 조건문2가 모두 거짓일 때 실행할 문장1\n",
    "      조건문1, 조건문2가 모두 거짓일 때 실행할 문장2\n",
    "        => elif, else는 상황에 따라 생략될 수 있다.\n",
    "\n",
    "▶ 주의해야할 문법 :<br>\n",
    "   - 조건문 및 else 뒤에 반드시 콜론(:)을 써야 한다.\n",
    "   - 조건문이 있는 문장 하위에 속하는 실행문장들은 반드시 한 번 들여쓰기 되어야 한다. ( 자동 / tab / space 4번)\n",
    "   - 각 조건문이 참/거짓일 때 실행되는 문장이 무엇인지 알아야 한다.\n",
    "   - else는 조건문을 작성하지 않는다.\n",
    "   \n",
    "▶ 조건문 : 참(True)과 거짓(False)으로 구분되는 문장<br>\n",
    "   - 비교 연산자를 사용한 조건문 : >, <, >=, <=, ==, !=\n",
    "   - 값을 이용한 조건문 : 무조건 참, 무조건 거짓\n",
    "   - 논리 연산자를 사용한 조건문 : and, or, not\n",
    "   - IN 연산자를 사용한 조건문\n",
    "   \n",
    "cf. True vs False<br>\n",
    "   - bool type : True, False 값의 타입"
   ]
  },
  {
   "cell_type": "markdown",
   "id": "78ddd761",
   "metadata": {},
   "source": [
    "### 1. if ~ else 조건문\n",
    "\n",
    "- 조건식 : 결과가 True 또는 False로 해석될 수 있는 명령어로 구성"
   ]
  },
  {
   "cell_type": "code",
   "execution_count": 5,
   "id": "edfa582d",
   "metadata": {},
   "outputs": [
    {
     "name": "stdout",
     "output_type": "stream",
     "text": [
      "책을 삽니다.\n",
      "집에 왔습니다.\n"
     ]
    }
   ],
   "source": [
    "# 가장 기초적인 조건문\n",
    "# 조건식에는 최종적으로 True or False가 남아야 한다!!\n",
    "money = True\n",
    "\n",
    "if money:\n",
    "    print(\"책을 삽니다.\")\n",
    "else:\n",
    "    print(\"책을 사지 못했습니다.\")\n",
    "    \n",
    "print(\"집에 왔습니다.\")"
   ]
  },
  {
   "cell_type": "code",
   "execution_count": 26,
   "id": "920c6694",
   "metadata": {},
   "outputs": [
    {
     "name": "stdout",
     "output_type": "stream",
     "text": [
      "굶습니다ㅜ\n"
     ]
    }
   ],
   "source": [
    "# 논리 연산자를 사용한 조건\n",
    "# 아래에 if문을 활용해서 돈이 6000원 이상이면\n",
    "# \"백반을 먹습니다.\" 를 띄워주는 구문을 작성해서 저한테 보내주세요.\n",
    "# 돈이 1000원 미만으로 있으면 \"굶습니다ㅜ\" 를 추가해주세요.\n",
    "# if, elif를 쓰지 않고 추가해주세요.\n",
    "money = 11\n",
    "\n",
    "if (money >= 6000):\n",
    "    print(\"백반을 먹습니다.\")\n",
    "elif (money >= 1000):\n",
    "    print(\"컵라면을 먹습니다.\")\n",
    "else :\n",
    "    print(\"굶습니다ㅜ\")"
   ]
  },
  {
   "cell_type": "code",
   "execution_count": 30,
   "id": "e7df1566",
   "metadata": {},
   "outputs": [
    {
     "name": "stdout",
     "output_type": "stream",
     "text": [
      "컵라면을 먹습니다.\n"
     ]
    }
   ],
   "source": [
    "# not 키워드를 이용해 논리연산자 뒤집기\n",
    "money = 5000\n",
    "\n",
    "if not money > 7000:\n",
    "    print(\"컵라면을 먹습니다.\")\n",
    "else :\n",
    "    print(\"제육볶음을 먹습니다.\")"
   ]
  },
  {
   "cell_type": "code",
   "execution_count": 33,
   "id": "5bd571fb",
   "metadata": {},
   "outputs": [
    {
     "name": "stdout",
     "output_type": "stream",
     "text": [
      "경품이 없습니다.\n"
     ]
    }
   ],
   "source": [
    "# in키워드를 사용한 조건문\n",
    "reward = ['상범', '상효', '상철']\n",
    "\n",
    "# 여러분들이 직접 아래에 미당첨자는 \"경품이 없습니다.\" 라고 찍히도록 개선해주세요.\n",
    "\n",
    "if ('종훈' in reward):\n",
    "    print(\"경품을 받습니다.\")\n",
    "else :\n",
    "    print(\"경품이 없습니다.\")"
   ]
  },
  {
   "cell_type": "markdown",
   "id": "cc242087",
   "metadata": {},
   "source": [
    "### 2. elif 조건문\n",
    "- 개수에 제한이 없다.\n",
    "- 여러 개의 조건문이 존재할 경우 각각의 시작 조건은 별도로 작성하지 않아도 자동으로 생성된다.\n",
    "\n",
    "* If <조건문1>:\n",
    "    - <수행할 문장1>\n",
    "    - <수행할 문장2><br>\n",
    "* elif <조건문2>:\n",
    "    - <수행할 문장1>\n",
    "    - <수행할 문장2><br>\n",
    "* elif <조건문3>:\n",
    "    - <수행할 문장1>\n",
    "    - <수행할 문장2>\n",
    "\n",
    "* ... (원하는 만큼 elif문 작성 가능)\n",
    "* else:\n",
    "    - <수행할 문장1>\n",
    "    - <수행할 문장2>"
   ]
  },
  {
   "cell_type": "code",
   "execution_count": 35,
   "id": "7ebb9fd1",
   "metadata": {},
   "outputs": [
    {
     "name": "stdout",
     "output_type": "stream",
     "text": [
      "판별할 정수를 넣어주세요0\n",
      "0 입니다.\n"
     ]
    }
   ],
   "source": [
    "# 주어진 정수가 양수인지 음수인지 0인지 판별하는 조건문\n",
    "# 0과 음수를 판별할수 있도록 코드를 완성시켜주세요\n",
    "integer = int(input('판별할 정수를 넣어주세요'))\n",
    "\n",
    "if(integer > 0):\n",
    "    print(\"양수입니다.\")\n",
    "elif(integer < 0):\n",
    "    print(\"음수입니다.\")\n",
    "else:\n",
    "    print(\"0 입니다.\")"
   ]
  }
 ],
 "metadata": {
  "kernelspec": {
   "display_name": "Python 3 (ipykernel)",
   "language": "python",
   "name": "python3"
  },
  "language_info": {
   "codemirror_mode": {
    "name": "ipython",
    "version": 3
   },
   "file_extension": ".py",
   "mimetype": "text/x-python",
   "name": "python",
   "nbconvert_exporter": "python",
   "pygments_lexer": "ipython3",
   "version": "3.9.12"
  }
 },
 "nbformat": 4,
 "nbformat_minor": 5
}
