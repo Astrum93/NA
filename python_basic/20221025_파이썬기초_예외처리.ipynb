{
 "cells": [
  {
   "cell_type": "markdown",
   "id": "c509dbe0",
   "metadata": {},
   "source": [
    "# 에러와 예외\n",
    "\n",
    "### 에러는 물리적인 이유로 발생하는(인터넷 안잡고 접속하기...등등) 것이고\n",
    "\n",
    "#### 예외는 논리적인 이유로 발생하는 것 입니다.\n",
    "\n",
    "예외가 발생하면 코드가 그 즉시 정지되어 다음 로직으로 진행할 수 없습니다.\n",
    "\n",
    "그러나 크롤링 등을 하다보면 종종 모종의 이유로 특정 단계 에서 발생한 예외를\n",
    "\n",
    "무시하고 다음단계로 넘어가야 할 수 있기때문에 이에 대해 사용하는\n",
    "\n",
    "'try~ except' 구문을 배워야 합니다."
   ]
  },
  {
   "cell_type": "code",
   "execution_count": 1,
   "id": "95f89237",
   "metadata": {},
   "outputs": [
    {
     "ename": "TypeError",
     "evalue": "unsupported operand type(s) for +: 'int' and 'str'",
     "output_type": "error",
     "traceback": [
      "\u001b[1;31m---------------------------------------------------------------------------\u001b[0m",
      "\u001b[1;31mTypeError\u001b[0m                                 Traceback (most recent call last)",
      "Input \u001b[1;32mIn [1]\u001b[0m, in \u001b[0;36m<cell line: 2>\u001b[1;34m()\u001b[0m\n\u001b[0;32m      1\u001b[0m \u001b[38;5;66;03m# 에러 상황(문법이 틀렸거나 틀린 구분을 사용함)\u001b[39;00m\n\u001b[1;32m----> 2\u001b[0m \u001b[38;5;28mprint\u001b[39m(\u001b[38;5;241;43m1\u001b[39;49m\u001b[43m \u001b[49m\u001b[38;5;241;43m+\u001b[39;49m\u001b[43m \u001b[49m\u001b[38;5;124;43m'\u001b[39;49m\u001b[38;5;124;43m가나다\u001b[39;49m\u001b[38;5;124;43m'\u001b[39;49m)\n",
      "\u001b[1;31mTypeError\u001b[0m: unsupported operand type(s) for +: 'int' and 'str'"
     ]
    }
   ],
   "source": [
    "# 에러 상황(문법이 틀렸거나 틀린 구분을 사용함)\n",
    "print(1 + '가나다')"
   ]
  },
  {
   "cell_type": "code",
   "execution_count": 2,
   "id": "753724d5",
   "metadata": {},
   "outputs": [],
   "source": [
    "# 예외 상황 : 문법도 맞고 논리적으로도 맞지만 연산이 불가능한 경우"
   ]
  },
  {
   "cell_type": "code",
   "execution_count": 1,
   "id": "f12be681",
   "metadata": {},
   "outputs": [
    {
     "name": "stdout",
     "output_type": "stream",
     "text": [
      "나눗셈에 사용할 분자를 입력해주세요.4\n",
      "나눗셈에 사용할 분모를 입력해주세요.0\n",
      "0으로 값을 나눌수 없습니다.\n",
      "연산이 완전히 끝났습니다.\n"
     ]
    }
   ],
   "source": [
    "# 예외 상황에 대한 처리1 : if문을 통한 검사\n",
    "a = int(input('나눗셈에 사용할 분자를 입력해주세요.'))\n",
    "b = int(input('나눗셈에 사용할 분모를 입력해주세요.'))\n",
    "# 위 숫자를 검사해서 나눗셈이 가능하면\n",
    "# 나눈 결과값을 콘솔에 띄우고\n",
    "# 나눗셈이 불가능한 경우\n",
    "# print(\"0으로 나눌수 없습니다.\")가 나오도록 아래 print(a/b)를 고쳐주세요.\n",
    "if b!=0:\n",
    "    print(a/b)\n",
    "else:\n",
    "    print(\"0으로 값을 나눌수 없습니다.\")\n",
    "\n",
    "print(\"연산이 완전히 끝났습니다.\")\n"
   ]
  },
  {
   "cell_type": "code",
   "execution_count": null,
   "id": "6a156659",
   "metadata": {},
   "outputs": [],
   "source": [
    "# try ~ except\n",
    "# try에는 예외가 발생할지도 모르는 구문을 넣습니다.\n",
    "# except에는 예외가 발생해서 구문이 멈췄을때 이어서 실행할 내용을 적습니다.\n",
    "\n",
    "a = int(input('나눗셈에 사용할 분자를 입력해주세요.'))\n",
    "b = int(input('나눗셈에 사용할 분모를 입력해주세요.'))\n",
    "try:\n",
    "    print(a/b) # b에 0이 들어오면 except로 자동 이동\n",
    "except:\n",
    "    print(\"분모로 0을 넣으면 안 됩니다.\")\n",
    "print(\"연산이 완전히 끝났습니다.\")"
   ]
  }
 ],
 "metadata": {
  "kernelspec": {
   "display_name": "Python 3 (ipykernel)",
   "language": "python",
   "name": "python3"
  },
  "language_info": {
   "codemirror_mode": {
    "name": "ipython",
    "version": 3
   },
   "file_extension": ".py",
   "mimetype": "text/x-python",
   "name": "python",
   "nbconvert_exporter": "python",
   "pygments_lexer": "ipython3",
   "version": "3.9.12"
  }
 },
 "nbformat": 4,
 "nbformat_minor": 5
}
