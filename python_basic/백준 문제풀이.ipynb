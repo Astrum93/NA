{
 "cells": [
  {
   "cell_type": "markdown",
   "id": "22c3f9a9",
   "metadata": {},
   "source": [
    "## 1000, 10998, 1001, 1008번\n",
    "두 정수 A와 B를 입력받은 다음, A/B를 출력하는 프로그램을 작성하시오."
   ]
  },
  {
   "cell_type": "code",
   "execution_count": 3,
   "id": "c3136d06",
   "metadata": {
    "collapsed": true
   },
   "outputs": [
    {
     "name": "stdout",
     "output_type": "stream",
     "text": [
      "1 3\n",
      "4\n"
     ]
    }
   ],
   "source": [
    "A,B = map(int, input().split())\n",
    "print(A + B)"
   ]
  },
  {
   "cell_type": "markdown",
   "id": "f7035c77",
   "metadata": {},
   "source": [
    "## 10869번\n",
    "- 두 자연수 A와 B가 주어진다. 이때, A+B, A-B, A*B, A/B(몫), A%B(나머지)를 출력하는 프로그램을 작성하시오. \n",
    "- 두 자연수 A와 B가 주어진다. (1 ≤ A, B ≤ 10,000)\n",
    "- 첫째 줄에 A+B, 둘째 줄에 A-B, 셋째 줄에 A*B, 넷째 줄에 A/B, 다섯째 줄에 A%B를 출력한다."
   ]
  },
  {
   "cell_type": "code",
   "execution_count": 2,
   "id": "5312ef83",
   "metadata": {},
   "outputs": [
    {
     "name": "stdout",
     "output_type": "stream",
     "text": [
      "3 7\n",
      "10\n",
      "-4\n",
      "21\n",
      "0\n",
      "3\n"
     ]
    }
   ],
   "source": [
    "A,B = map(int, input().split())\n",
    "print(A + B)\n",
    "print(A - B)\n",
    "print(A * B)\n",
    "print(A // B)\n",
    "print(A % B)"
   ]
  },
  {
   "cell_type": "markdown",
   "id": "b4e31938",
   "metadata": {},
   "source": [
    "### 10430번\n",
    "- (A+B)%C는 ((A%C) + (B%C))%C 와 같을까?\n",
    "\n",
    "- (A×B)%C는 ((A%C) × (B%C))%C 와 같을까?\n",
    "\n",
    "- 세 수 A, B, C가 주어졌을 때, 위의 네 가지 값을 구하는 프로그램을 작성하시오.\n",
    "\n",
    "- 입력\n",
    "  -- 첫째 줄에 A, B, C가 순서대로 주어진다. (2 ≤ A, B, C ≤ 10000)\n",
    "\n",
    "- 출력\n",
    "  -- 첫째 줄에 (A+B)%C, 둘째 줄에 ((A%C) + (B%C))%C, 셋째 줄에 (A×B)%C, 넷째 줄에 ((A%C) × (B%C))%C를 출력한다."
   ]
  },
  {
   "cell_type": "code",
   "execution_count": 29,
   "id": "265d3de4",
   "metadata": {},
   "outputs": [
    {
     "name": "stdout",
     "output_type": "stream",
     "text": [
      "5 8 4\n",
      "1\n",
      "1\n",
      "0\n",
      "0\n"
     ]
    }
   ],
   "source": [
    "A,B,C = map(int, input().split())\n",
    "\n",
    "print((A+B)%C)\n",
    "print(((A%C) + (B%C))%C)\n",
    "print((A*B)%C)\n",
    "print(((A%C) * (B%C))%C)"
   ]
  },
  {
   "cell_type": "markdown",
   "id": "e90a41cc",
   "metadata": {},
   "source": [
    "### 10718번\n",
    "*두 줄에 걸쳐 \"강한친구 대한육군\"을 한 줄에 한 번씩 출력한다."
   ]
  },
  {
   "cell_type": "code",
   "execution_count": 5,
   "id": "7a3ea45f",
   "metadata": {},
   "outputs": [
    {
     "name": "stdout",
     "output_type": "stream",
     "text": [
      "강한친구 대한육군 \n",
      "강한친구 대한육군\n"
     ]
    }
   ],
   "source": [
    "a = '강한친구 대한육군 \\n강한친구 대한육군'\n",
    "print(a)"
   ]
  },
  {
   "cell_type": "markdown",
   "id": "7bcde492",
   "metadata": {},
   "source": [
    "### 18108번\n",
    "* 석가모니가 열반한 해를 기준으로 연도를 세는 불기를 사용한다. 반면, 우리나라는 서기 연도를 사용하고 있다. 불기 연도가 주어질 때 이를 서기 연도로 바꿔 주는 프로그램을 작성하시오.\n",
    "* 서기 연도를 알아보고 싶은 불기 연도 y가 주어진다. (1000 ≤ y ≤ 3000)\n",
    "* 2541 = 1998"
   ]
  },
  {
   "cell_type": "code",
   "execution_count": 34,
   "id": "22152856",
   "metadata": {},
   "outputs": [
    {
     "name": "stdout",
     "output_type": "stream",
     "text": [
      "2541\n",
      "1998\n"
     ]
    }
   ],
   "source": [
    "A = int(input())\n",
    "print(A-543)"
   ]
  },
  {
   "cell_type": "markdown",
   "id": "c7443c06",
   "metadata": {},
   "source": [
    "### 25083번 새싹"
   ]
  },
  {
   "cell_type": "markdown",
   "id": "e8d04f71",
   "metadata": {},
   "source": [
    "         ,r'\"7\n",
    "r`-_   ,'  ,/\n",
    " \\. \". L_r'   \n",
    " `~\\/\n",
    "      |\n",
    "      |"
   ]
  },
  {
   "cell_type": "code",
   "execution_count": 11,
   "id": "bb737ad6",
   "metadata": {
    "scrolled": true
   },
   "outputs": [
    {
     "name": "stdout",
     "output_type": "stream",
     "text": [
      "         ,r'\"7\n",
      "r`-_   ,'  ,/\n",
      " \\. \". L_r'\n",
      "   `~\\/\n",
      "      |\n",
      "      |\n"
     ]
    }
   ],
   "source": [
    "print(\"         ,r'\\\"7\")\n",
    "print(\"r`-_   ,'  ,/\")\n",
    "print(\" \\. \\\". L_r'\")\n",
    "print(\"   `~\\/\")\n",
    "print(\"      |\")\n",
    "print(\"      |\")"
   ]
  },
  {
   "cell_type": "markdown",
   "id": "d7a15435",
   "metadata": {},
   "source": [
    "### 10171번 고양이"
   ]
  },
  {
   "cell_type": "markdown",
   "id": "ec412114",
   "metadata": {},
   "source": [
    "\\    /\\\n",
    " )  ( ')\n",
    "(  /  )\n",
    " \\(__)|"
   ]
  },
  {
   "cell_type": "code",
   "execution_count": 24,
   "id": "cff0529d",
   "metadata": {},
   "outputs": [
    {
     "name": "stdout",
     "output_type": "stream",
     "text": [
      "\\    /\\\n",
      " )  ( ')\n",
      "(  /  )\n",
      " \\(__)|\n"
     ]
    }
   ],
   "source": [
    "print(\"\\\\    /\\\\\")\n",
    "print(\" )  ( ')\")\n",
    "print(\"(  /  )\")\n",
    "print(\" \\\\(__)|\")"
   ]
  },
  {
   "cell_type": "markdown",
   "id": "d516c1b2",
   "metadata": {},
   "source": [
    "### 10172번 개"
   ]
  },
  {
   "cell_type": "markdown",
   "id": "0372cfec",
   "metadata": {},
   "source": [
    "|\\_/|\n",
    "|q p|   /}\n",
    "( 0 )\"\"\"\\\n",
    "|\"^\"`    |\n",
    "||_/=\\\\__|"
   ]
  },
  {
   "cell_type": "code",
   "execution_count": 32,
   "id": "abed0350",
   "metadata": {
    "scrolled": false
   },
   "outputs": [
    {
     "name": "stdout",
     "output_type": "stream",
     "text": [
      "|\\_/|\n",
      "|q p|   /}\n",
      "( 0 )\"\"\"\\\n",
      "|\"^\"`    |\n",
      "||_/=\\\\__|\n"
     ]
    }
   ],
   "source": [
    "print('|\\_/|')\n",
    "print('|q p|   /}')\n",
    "print('( 0 )\"\"\"\\\\''')\n",
    "print('|\"^\"`    |')\n",
    "print('||_/=\\\\\\__|')"
   ]
  },
  {
   "cell_type": "markdown",
   "id": "28c47f34",
   "metadata": {},
   "source": [
    "### 2438번 별찍기 1"
   ]
  },
  {
   "cell_type": "markdown",
   "id": "78879b38",
   "metadata": {},
   "source": [
    "* 첫째 줄에 N(1 ≤ N ≤ 100)이 주어진다.\n",
    "* 첫째 줄부터 N번째 줄까지 차례대로 별을 출력한다.\n",
    "5를 입력하면 아래와같이 나와야함\n",
    "\n",
    "*\n",
    "**\n",
    "***\n",
    "****\n",
    "*****"
   ]
  },
  {
   "cell_type": "code",
   "execution_count": 112,
   "id": "336797f6",
   "metadata": {
    "scrolled": true
   },
   "outputs": [
    {
     "name": "stdout",
     "output_type": "stream",
     "text": [
      "5\n",
      "*\n",
      "**\n",
      "***\n",
      "****\n",
      "*****\n"
     ]
    }
   ],
   "source": [
    "n=int(input())\n",
    "for x in range(1,n+1):\n",
    "    print(x*'*')"
   ]
  },
  {
   "cell_type": "markdown",
   "id": "732cb70c",
   "metadata": {},
   "source": [
    "### 2439번 별찍기 2"
   ]
  },
  {
   "cell_type": "markdown",
   "id": "e39d67db",
   "metadata": {},
   "source": [
    "    *\n",
    "   **\n",
    "  ***\n",
    " ****\n",
    "*****"
   ]
  },
  {
   "cell_type": "code",
   "execution_count": 174,
   "id": "3264d4ae",
   "metadata": {
    "scrolled": true
   },
   "outputs": [
    {
     "name": "stdout",
     "output_type": "stream",
     "text": [
      "5\n",
      "    *\n",
      "   **\n",
      "  ***\n",
      " ****\n",
      "*****\n"
     ]
    }
   ],
   "source": [
    "n=int(input())\n",
    "for y in range(1,n+1):\n",
    "    print((y * '*').rjust(n,' '))"
   ]
  },
  {
   "cell_type": "markdown",
   "id": "57ee30d1",
   "metadata": {},
   "source": [
    "### 2440 별찍기 3"
   ]
  },
  {
   "cell_type": "code",
   "execution_count": 113,
   "id": "e543e6b5",
   "metadata": {},
   "outputs": [
    {
     "name": "stdout",
     "output_type": "stream",
     "text": [
      "5\n",
      "*****\n",
      "****\n",
      "***\n",
      "**\n",
      "*\n"
     ]
    }
   ],
   "source": [
    "n=int(input())\n",
    "for x in range(n,0,-1):\n",
    "    print(x*'*')"
   ]
  },
  {
   "cell_type": "markdown",
   "id": "c6da577d",
   "metadata": {},
   "source": [
    "*****\n",
    "****\n",
    "***\n",
    "**\n",
    "*"
   ]
  },
  {
   "cell_type": "markdown",
   "id": "d0ce2941",
   "metadata": {},
   "source": [
    "### 2742 기찍 N\n",
    "\n",
    "- 첫째 줄부터 N번째 줄 까지 차례대로 출력한다."
   ]
  },
  {
   "cell_type": "code",
   "execution_count": null,
   "id": "477ac9bf",
   "metadata": {},
   "outputs": [],
   "source": [
    "5\n",
    "4\n",
    "3\n",
    "2\n",
    "1"
   ]
  },
  {
   "cell_type": "code",
   "execution_count": 23,
   "id": "119ba572",
   "metadata": {},
   "outputs": [
    {
     "name": "stdout",
     "output_type": "stream",
     "text": [
      "5\n",
      "5\n",
      "4\n",
      "3\n",
      "2\n",
      "1\n"
     ]
    }
   ],
   "source": [
    "n=int(input())\n",
    "for a in range(n,0,-1):\n",
    "    print(1*a)"
   ]
  },
  {
   "cell_type": "markdown",
   "id": "1b8283b9",
   "metadata": {},
   "source": [
    "### 11720번 숫자의 합\n",
    "\n",
    "N개의 숫자가 공백 없이 쓰여있다. \n",
    "\n",
    "이 숫자를 모두 합해서 출력하는 프로그램을 작성하시오.\n",
    "\n",
    "입력\n",
    "- 첫째 줄에 숫자의 개수 N (1 ≤ N ≤ 100)이 주어진다. 둘째 줄에 숫자 N개가 공백없이 주어진다.\n",
    "\n",
    "출력\n",
    "- 입력으로 주어진 숫자 N개의 합을 출력한다."
   ]
  },
  {
   "cell_type": "code",
   "execution_count": 25,
   "id": "0031d172",
   "metadata": {},
   "outputs": [
    {
     "name": "stdout",
     "output_type": "stream",
     "text": [
      "11\n",
      "1110987654321"
     ]
    }
   ],
   "source": [
    "n=int(input())\n",
    "for a in range(n,0,-1):\n",
    "    print(1*a, end=\"\")"
   ]
  },
  {
   "cell_type": "code",
   "execution_count": null,
   "id": "ebaadcec",
   "metadata": {},
   "outputs": [],
   "source": [
    "#예제 입력 1은 입력2의 길이\n",
    "#예제 입력 2는 아무숫자나 입력 \n",
    "#출력은 예제2 입력한 값의 합\n"
   ]
  },
  {
   "cell_type": "code",
   "execution_count": 19,
   "id": "dc25d740",
   "metadata": {},
   "outputs": [
    {
     "name": "stdout",
     "output_type": "stream",
     "text": [
      "12\n",
      "123456789876\n",
      "66\n"
     ]
    }
   ],
   "source": [
    "n = int(input())\n",
    "list_n = input()\n",
    "total = 0\n",
    "for i in range(n) :\n",
    "    total = total + int(list_n[i])\n",
    "print(total)\n",
    "    "
   ]
  },
  {
   "cell_type": "code",
   "execution_count": 17,
   "id": "0083e96c",
   "metadata": {},
   "outputs": [
    {
     "data": {
      "text/plain": [
       "int"
      ]
     },
     "execution_count": 17,
     "metadata": {},
     "output_type": "execute_result"
    }
   ],
   "source": [
    "type(total)"
   ]
  },
  {
   "cell_type": "markdown",
   "id": "ad381e7f",
   "metadata": {},
   "source": [
    "### 14681 사분면 고르기\n",
    "\n",
    "- 1사분면 둘다 양수\n",
    "- 2사분면 음수 양수\n",
    "- 3사분면 음수 음수\n",
    "- 4사분면 양수 음수"
   ]
  },
  {
   "cell_type": "code",
   "execution_count": null,
   "id": "fca7a644",
   "metadata": {},
   "outputs": [],
   "source": [
    "입력한 두개의 수가 양수냐 음수냐로 결과 보여주기"
   ]
  },
  {
   "cell_type": "code",
   "execution_count": 3,
   "id": "2203375f",
   "metadata": {},
   "outputs": [
    {
     "name": "stdout",
     "output_type": "stream",
     "text": [
      "1\n",
      "-1\n",
      "4\n"
     ]
    }
   ],
   "source": [
    "a = int(input())\n",
    "b = int(input())\n",
    "\n",
    "if (a > 0 and b > 0):\n",
    "    print(\"1\")\n",
    "if(a < 0 and b > 0):\n",
    "    print(\"2\")\n",
    "if (a < 0 and  b <0):\n",
    "    print(\"3\")\n",
    "if (a > 0 and b < 0):\n",
    "    print(\"4\")\n",
    "\n"
   ]
  },
  {
   "cell_type": "code",
   "execution_count": 71,
   "id": "1b411509",
   "metadata": {},
   "outputs": [],
   "source": [
    "x= [\"A\",\"B\",\"C\",\"D\",\"E\"]\n",
    "y= [\"기역\", \"니은\", \"디귿\", \"리을\", \"미음\"]\n",
    "z= [\"가\",\"나\",\"다\",\"라\",\"마\"]"
   ]
  },
  {
   "cell_type": "markdown",
   "id": "abc16066",
   "metadata": {},
   "source": [
    "### 크롤링 예제"
   ]
  },
  {
   "cell_type": "code",
   "execution_count": 101,
   "id": "416852e2",
   "metadata": {},
   "outputs": [
    {
     "name": "stdout",
     "output_type": "stream",
     "text": [
      "1등제목 A 1등가격 기역 1등저자 가\n",
      "\n"
     ]
    }
   ],
   "source": [
    "print(\"1등제목\"+\" \"+x[0]+\" \"+\"1등가격\"+ \" \"+y[0]+\" \"+\"1등저자\"+\" \"+ z[0] + \"\\n\")"
   ]
  },
  {
   "cell_type": "code",
   "execution_count": 102,
   "id": "22c39f76",
   "metadata": {},
   "outputs": [],
   "source": [
    "result=[]\n",
    "for a in range(5):\n",
    "    result.append(\"%s등제목\" % (a+1) +\" \"+ x[a] +\" \"+\"%s등가격\"% (a+1)+ \" \"+y[a]+\" \"+\"%s등저자\" %(a+1) +\" \"+ z[a])"
   ]
  },
  {
   "cell_type": "code",
   "execution_count": 103,
   "id": "a54ff0e4",
   "metadata": {},
   "outputs": [
    {
     "data": {
      "text/plain": [
       "['1등제목 A 1등가격 기역 1등저자 가',\n",
       " '2등제목 B 2등가격 니은 2등저자 나',\n",
       " '3등제목 C 3등가격 디귿 3등저자 다',\n",
       " '4등제목 D 4등가격 리을 4등저자 라',\n",
       " '5등제목 E 5등가격 미음 5등저자 마']"
      ]
     },
     "execution_count": 103,
     "metadata": {},
     "output_type": "execute_result"
    }
   ],
   "source": [
    "result"
   ]
  },
  {
   "cell_type": "markdown",
   "id": "5aa5b109",
   "metadata": {},
   "source": [
    "### "
   ]
  },
  {
   "cell_type": "markdown",
   "id": "6b5adb2c",
   "metadata": {},
   "source": [
    "### 2739번 구구단\n",
    "\n",
    "2 * 1 = 2\n",
    "\n",
    "2 * 2 = 4\n",
    "\n",
    "2 * 3 = 6\n",
    "\n",
    "2 * 4 = 8\n",
    "\n",
    "2 * 5 = 10\n",
    "\n",
    "2 * 6 = 12\n",
    "\n",
    "2 * 7 = 14\n",
    "\n",
    "2 * 8 = 16\n",
    "\n",
    "2 * 9 = 18"
   ]
  },
  {
   "cell_type": "code",
   "execution_count": 6,
   "id": "8e97091d",
   "metadata": {},
   "outputs": [
    {
     "name": "stdout",
     "output_type": "stream",
     "text": [
      "2\n",
      "2 * 1 = 2\n",
      "2 * 2 = 4\n",
      "2 * 3 = 6\n",
      "2 * 4 = 8\n",
      "2 * 5 = 10\n",
      "2 * 6 = 12\n",
      "2 * 7 = 14\n",
      "2 * 8 = 16\n",
      "2 * 9 = 18\n"
     ]
    }
   ],
   "source": [
    "num = int(input())\n",
    "\n",
    "for a in range(1,10):\n",
    "    print(num, '*', a, '=', a*num)"
   ]
  },
  {
   "cell_type": "markdown",
   "id": "62036d87",
   "metadata": {},
   "source": [
    "### 2480번 주사위 세개\n",
    "\n",
    "1에서부터 6까지의 눈을 가진 3개의 주사위를 던져서 다음과 같은 규칙에 따라 상금을 받는 게임이 있다. \n",
    "\n",
    "같은 눈이 3개가 나오면 10,000원+(같은 눈)×1,000원의 상금을 받게 된다. \n",
    "\n",
    "같은 눈이 2개만 나오는 경우에는 1,000원+(같은 눈)×100원의 상금을 받게 된다. \n",
    "\n",
    "모두 다른 눈이 나오는 경우에는 (그 중 가장 큰 눈)×100원의 상금을 받게 된다.  \n",
    "\n",
    "예를 들어, 3개의 눈 3, 3, 6이 주어지면 상금은 1,000+3×100으로 계산되어 1,300원을 받게 된다. \n",
    "\n",
    "또 3개의 눈이 2, 2, 2로 주어지면 10,000+2×1,000 으로 계산되어 12,000원을 받게 된다. \n",
    "\n",
    "3개의 눈이 6, 2, 5로 주어지면 그중 가장 큰 값이 6이므로 6×100으로 계산되어 600원을 상금으로 받게 된다.\n",
    "\n",
    "3개 주사위의 나온 눈이 주어질 때, 상금을 계산하는 프로그램을 작성 하시오.\n",
    "\n",
    "\n",
    "입력\n",
    "\n",
    "- 첫째 줄에 3개의 눈이 빈칸을 사이에 두고 각각 주어진다. \n",
    "\n",
    "출력\n",
    "\n",
    "- 첫째 줄에 게임의 상금을 출력 한다."
   ]
  },
  {
   "cell_type": "code",
   "execution_count": 74,
   "id": "7f5de577",
   "metadata": {},
   "outputs": [
    {
     "name": "stdout",
     "output_type": "stream",
     "text": [
      "2 6 5\n",
      "600\n"
     ]
    }
   ],
   "source": [
    "a,b,c = map(int, input().split())\n",
    "\n",
    "if (a==b==c):\n",
    "    print(10000 + (a * 1000))\n",
    "    \n",
    "if (a==b and b!=c):\n",
    "    print(1000 + (a* 100))\n",
    "\n",
    "if (b==c and c!=a):\n",
    "    print(1000 + (b* 100))\n",
    "\n",
    "if (a==c and c!=b):\n",
    "    print(1000 + (a* 100))\n",
    "\n",
    "if (a!=b!=c):\n",
    "    if (a>b>c or a>c>b):\n",
    "        print(a * 100)\n",
    "    if (b>a>c or b>c>a):\n",
    "        print(b * 100)\n",
    "    if (c>a>b or c>b>a):\n",
    "        print(c * 100)"
   ]
  },
  {
   "cell_type": "markdown",
   "id": "15aa03d4",
   "metadata": {},
   "source": [
    "### 2475번 검증수\n",
    "\n",
    "컴퓨터를 제조하는 회사인 KOI 전자에서는 제조하는 컴퓨터마다 6자리의 고유번호를 매긴다. \n",
    "\n",
    "고유번호의 처음 5자리에는 00000부터 99999까지의 수 중 하나가 주어지며 6번째 자리에는 검증수가 들어간다. \n",
    "\n",
    "검증수는 고유번호의 처음 5자리에 들어가는 5개의 숫자를 각각 제곱한 수의 합을 10으로 나눈 나머지이다.\n",
    "\n",
    "예를 들어 고유번호의 처음 5자리의 숫자들이 04256이면, \n",
    "\n",
    "각 숫자를 제곱한 수들의 합 0+16+4+25+36 = 81 을 10으로 나눈 나머지인 1이 검증수이다.\n",
    "\n",
    "입력  \n",
    "\n",
    "0 4 2 5 6\n",
    "\n",
    "출력  \n",
    "\n",
    "1"
   ]
  },
  {
   "cell_type": "code",
   "execution_count": 11,
   "id": "c239c71e",
   "metadata": {},
   "outputs": [
    {
     "name": "stdout",
     "output_type": "stream",
     "text": [
      "1 1 1 2 2\n",
      "1\n"
     ]
    }
   ],
   "source": [
    "a,b,c,d,e = map(int, input().split())\n",
    "list = [a,b,c,d,e]\n",
    "total = 0\n",
    "for i in range(5):\n",
    "    total += int(list[i] * list[i])\n",
    "\n",
    "print(total%10)"
   ]
  },
  {
   "cell_type": "markdown",
   "id": "d3e90eeb",
   "metadata": {},
   "source": [
    "### 2525번 오븐 시계\n",
    "\n",
    "KOI 전자에서는 건강에 좋고 맛있는 훈제오리구이 요리를 간편하게 만드는 인공지능 오븐을 개발하려고 한다. \n",
    "\n",
    "인공지능 오븐을 사용하는 방법은 적당한 양의 오리 훈제 재료를 인공지능 오븐에 넣으면 된다. \n",
    "\n",
    "그러면 인공지능 오븐은 오븐구이가 끝나는 시간을 분 단위로 자동적으로 계산한다. \n",
    "\n",
    "또한, KOI 전자의 인공지능 오븐 앞면에는 사용자에게 훈제오리구이 요리가 끝나는 시각을 알려 주는 디지털 시계가 있다. \n",
    "\n",
    "훈제오리구이를 시작하는 시각과 오븐구이를 하는 데 필요한 시간이 분단위로 주어졌을 때, 오븐구이가 끝나는 시각을 계산하는 프로그램을 작성하시오.\n",
    "\n",
    "\n",
    "입력\n",
    "\n",
    "- 첫째 줄에는 현재 시각이 나온다. 현재 시각은 시 A (0 ≤ A ≤ 23) 와 분 B (0 ≤ B ≤ 59)가 정수로 빈칸을 사이에 두고 순서대로 주어진다. \n",
    "- 두 번째 줄에는 요리하는 데 필요한 시간 C (0 ≤ C ≤ 1,000)가 분 단위로 주어진다. \n",
    "\n",
    "출력\n",
    "\n",
    "- 첫째 줄에 종료되는 시각의 시와 분을 공백을 사이에 두고 출력한다. \n",
    "- (단, 시는 0부터 23까지의 정수, 분은 0부터 59까지의 정수이다. 디지털 시계는 23시 59분에서 1분이 지나면 0시 0분이 된다.)\n",
    "\n",
    "\n",
    "예제 입력 \n",
    "- 23 48     \n",
    "- 25        \n",
    "\n",
    "예제 출력 \n",
    "- 0 13      \n",
    "\n",
    "\n",
    "## > 연산자\n",
    "\n",
    "- 산술 : +, -, *, /, //(몫), %(나머지)\n",
    "- 비교 : ==(값이 같은지), !=(값이 다른지), <=, >=, <, >\n",
    "- 논리 : and, or\n",
    "- 할당 : =, +=(누적합), -=(누적차), *=(누적곱), /=(몫만 남기기), %=(나머지만 남기기)"
   ]
  },
  {
   "cell_type": "code",
   "execution_count": null,
   "id": "2b185e7b",
   "metadata": {},
   "outputs": [],
   "source": [
    "#### 시계를 만들자\n",
    "\n",
    "# 시 ; 1 <=시<= 24 /만약 시 > 24이면 시-24\n",
    "# 분 ; 0 <=분<=59 / 만약 분 > 59이면 분 -60 그리고 시 + 1\n",
    "만약 분이나 시를 더할 경우 몫만 남기기 나머지만 남기기 사용한다\n",
    "h,m = map(int, input().split())\n",
    "plus_m = int(input())\n",
    "M = m + plus_m\n",
    "\n",
    "if M >= 60:\n",
    "    h += M//60\n",
    "    m = M%60\n",
    "else:\n",
    "    m = M\n",
    "\n",
    "if h >= 24:\n",
    "    h= h-24\n",
    "\n",
    "    \n",
    "print(h , m)"
   ]
  },
  {
   "cell_type": "markdown",
   "id": "9bc05b85",
   "metadata": {},
   "source": [
    "### 2884번 알람 시계\n",
    "\n",
    "상근이는 매일 아침 알람을 듣고 일어난다. \n",
    "\n",
    "알람을 듣고 바로 일어나면 다행이겠지만, 항상 조금만 더 자려는 마음 때문에 매일 학교를 지각하고 있다.\n",
    "\n",
    "상근이는 모든 방법을 동원해보았지만, 조금만 더 자려는 마음은 그 어떤 것도 없앨 수가 없었다.\n",
    "\n",
    "이런 상근이를 불쌍하게 보던, 창영이는 자신이 사용하는 방법을 추천해 주었다.\n",
    "\n",
    "바로 \"45분 일찍 알람 설정하기\"이다.\n",
    "\n",
    "이 방법은 단순하다. 원래 설정되어 있는 알람을 45분 앞서는 시간으로 바꾸는 것이다. \n",
    "\n",
    "어차피 알람 소리를 들으면, 알람을 끄고 조금 더 잘 것이기 때문이다. \n",
    "\n",
    "이 방법을 사용하면, 매일 아침 더 잤다는 기분을 느낄 수 있고, 학교도 지각하지 않게 된다.\n",
    "\n",
    "현재 상근이가 설정한 알람 시각이 주어졌을 때, 창영이의 방법을 사용한다면, 이를 언제로 고쳐야 하는지 구하는 프로그램을 작성하시오.\n",
    "\n",
    "\n",
    "입력\n",
    "- 첫째 줄에 두 정수 H와 M이 주어진다. (0 ≤ H ≤ 23, 0 ≤ M ≤ 59) \n",
    "- 그리고 이것은 현재 상근이가 설정한 놓은 알람 시간 H시 M분을 의미한다.\n",
    "\n",
    "입력 시간은 24시간 표현을 사용한다. 24시간 표현에서 하루의 시작은 0:0(자정)이고, 끝은 23:59(다음날 자정 1분 전)이다. \n",
    "\n",
    "시간을 나타낼 때, 불필요한 0은 사용하지 않는다.\n",
    "\n",
    "출력\n",
    "- 첫째 줄에 상근이가 창영이의 방법을 사용할 때, 설정해야 하는 알람 시간을 출력한다. (입력과 같은 형태로 출력하면 된다.)\n",
    "\n",
    "\n",
    "예제 입력 2 \n",
    "- 0 30\n",
    "\n",
    "예제 출력 2 \n",
    "- 23 45"
   ]
  },
  {
   "cell_type": "code",
   "execution_count": 11,
   "id": "ccaee548",
   "metadata": {},
   "outputs": [
    {
     "name": "stdout",
     "output_type": "stream",
     "text": [
      "23 40\n",
      "22 55\n"
     ]
    }
   ],
   "source": [
    "h,m = map(int, input().split())\n",
    "M = m-45\n",
    "if M >= 60:\n",
    "    h += M//60\n",
    "    M = M%60\n",
    "if M < 0:\n",
    "    M = M+60\n",
    "    h = h-1\n",
    "    if h < 0:\n",
    "        h= 24 + h\n",
    "print(h , M)"
   ]
  },
  {
   "cell_type": "markdown",
   "id": "577f0ffc",
   "metadata": {},
   "source": [
    "### 10818번 최소, 최대\n",
    "\n",
    "N개의 정수가 주어진다. 이때, 최솟값과 최댓값을 구하는 프로그램을 작성하시오.\n",
    "\n",
    "입력\n",
    "- 첫째 줄에 정수의 개수 N (1 ≤ N ≤ 1,000,000)이 주어진다. 둘째 줄에는 N개의 정수를 공백으로 구분해서 주어진다. \n",
    "- 모든 정수는 -1,000,000보다 크거나 같고, 1,000,000보다 작거나 같은 정수이다.\n",
    "\n",
    "출력\n",
    "\n",
    "- 첫째 줄에 주어진 정수 N개의 최솟값과 최댓값을 공백으로 구분해 출력한다.\n",
    "\n",
    "예제 입력 1 \n",
    "- 5\n",
    "- 20 10 35 30 7\n",
    "\n",
    "예제 출력 1 \n",
    "- 7 35"
   ]
  },
  {
   "cell_type": "code",
   "execution_count": 30,
   "id": "fcd1da11",
   "metadata": {},
   "outputs": [
    {
     "name": "stdout",
     "output_type": "stream",
     "text": [
      "5\n",
      "35 20 10 30 7\n",
      "7 35\n"
     ]
    }
   ],
   "source": [
    "n = int(input())\n",
    "listn = map(int, input().split())\n",
    "lista = []\n",
    "\n",
    "for a in listn:\n",
    "    lista += [a]\n",
    "    lista.sort()\n",
    "\n",
    "print(lista[0],lista[-1])"
   ]
  },
  {
   "cell_type": "code",
   "execution_count": 23,
   "id": "b0c9a3b6",
   "metadata": {},
   "outputs": [
    {
     "data": {
      "text/plain": [
       "[7, 10, 20, 30, 35]"
      ]
     },
     "execution_count": 23,
     "metadata": {},
     "output_type": "execute_result"
    }
   ],
   "source": [
    "lista"
   ]
  },
  {
   "cell_type": "markdown",
   "id": "9e9fce81",
   "metadata": {},
   "source": [
    "위에거 시간 초과 뜸"
   ]
  },
  {
   "cell_type": "code",
   "execution_count": 28,
   "id": "fd34af7f",
   "metadata": {},
   "outputs": [
    {
     "name": "stdout",
     "output_type": "stream",
     "text": [
      "5\n",
      "35 20 10 30 7\n",
      "7 35\n"
     ]
    }
   ],
   "source": [
    "n = int(input())\n",
    "nums = list(map(int, input().split()))\n",
    "max_num = nums[0]\n",
    "min_num = nums[0]\n",
    "\n",
    "for i in nums:\n",
    "    if i > max_num:\n",
    "        max_num = i\n",
    "    \n",
    "    elif i < min_num:\n",
    "        min_num = i\n",
    "\n",
    "print(min_num, max_num)"
   ]
  },
  {
   "cell_type": "markdown",
   "id": "59747443",
   "metadata": {},
   "source": [
    "### 2588번 곱셈"
   ]
  },
  {
   "cell_type": "markdown",
   "id": "7dd24365",
   "metadata": {},
   "source": [
    "\n",
    "\n",
    "(세 자리 수) × (세 자리 수)는 다음과 같은 과정을 통하여 이루어진다.\n",
    "-  . . .4.7.2\n",
    "-  . .X.3.8.5\n",
    "- -----------------------\n",
    "-  . .2.3.6.0\n",
    "-  .3.7.7.6\n",
    "- 1.4.1.6\n",
    "- -------------------------------\n",
    "- 1.8.1.7.2.0\n",
    "\n",
    "\n",
    "(1)과 (2)위치에 들어갈 세 자리 자연수가 주어질 때 (3), (4), (5), (6)위치에 들어갈 값을 구하는 프로그램을 작성하시오."
   ]
  },
  {
   "cell_type": "code",
   "execution_count": 20,
   "id": "0ed80862",
   "metadata": {
    "collapsed": true
   },
   "outputs": [
    {
     "name": "stdout",
     "output_type": "stream",
     "text": [
      "472\n",
      "385\n",
      "2360\n",
      "3776\n",
      "1416\n",
      "[3, 8, 5, 3, 8, 5, 3, 8, 5, 3, 8, 5, 3, 8, 5, 3, 8, 5, 3, 8, 5, 3, 8, 5, 3, 8, 5, 3, 8, 5, 3, 8, 5, 3, 8, 5, 3, 8, 5, 3, 8, 5, 3, 8, 5, 3, 8, 5, 3, 8, 5, 3, 8, 5, 3, 8, 5, 3, 8, 5, 3, 8, 5, 3, 8, 5, 3, 8, 5, 3, 8, 5, 3, 8, 5, 3, 8, 5, 3, 8, 5, 3, 8, 5, 3, 8, 5, 3, 8, 5, 3, 8, 5, 3, 8, 5, 3, 8, 5, 3, 8, 5, 3, 8, 5, 3, 8, 5, 3, 8, 5, 3, 8, 5, 3, 8, 5, 3, 8, 5, 3, 8, 5, 3, 8, 5, 3, 8, 5, 3, 8, 5, 3, 8, 5, 3, 8, 5, 3, 8, 5, 3, 8, 5, 3, 8, 5, 3, 8, 5, 3, 8, 5, 3, 8, 5, 3, 8, 5, 3, 8, 5, 3, 8, 5, 3, 8, 5, 3, 8, 5, 3, 8, 5, 3, 8, 5, 3, 8, 5, 3, 8, 5, 3, 8, 5, 3, 8, 5, 3, 8, 5, 3, 8, 5, 3, 8, 5, 3, 8, 5, 3, 8, 5, 3, 8, 5, 3, 8, 5, 3, 8, 5, 3, 8, 5, 3, 8, 5, 3, 8, 5, 3, 8, 5, 3, 8, 5, 3, 8, 5, 3, 8, 5, 3, 8, 5, 3, 8, 5, 3, 8, 5, 3, 8, 5, 3, 8, 5, 3, 8, 5, 3, 8, 5, 3, 8, 5, 3, 8, 5, 3, 8, 5, 3, 8, 5, 3, 8, 5, 3, 8, 5, 3, 8, 5, 3, 8, 5, 3, 8, 5, 3, 8, 5, 3, 8, 5, 3, 8, 5, 3, 8, 5, 3, 8, 5, 3, 8, 5, 3, 8, 5, 3, 8, 5, 3, 8, 5, 3, 8, 5, 3, 8, 5, 3, 8, 5, 3, 8, 5, 3, 8, 5, 3, 8, 5, 3, 8, 5, 3, 8, 5, 3, 8, 5, 3, 8, 5, 3, 8, 5, 3, 8, 5, 3, 8, 5, 3, 8, 5, 3, 8, 5, 3, 8, 5, 3, 8, 5, 3, 8, 5, 3, 8, 5, 3, 8, 5, 3, 8, 5, 3, 8, 5, 3, 8, 5, 3, 8, 5, 3, 8, 5, 3, 8, 5, 3, 8, 5, 3, 8, 5, 3, 8, 5, 3, 8, 5, 3, 8, 5, 3, 8, 5, 3, 8, 5, 3, 8, 5, 3, 8, 5, 3, 8, 5, 3, 8, 5, 3, 8, 5, 3, 8, 5, 3, 8, 5, 3, 8, 5, 3, 8, 5, 3, 8, 5, 3, 8, 5, 3, 8, 5, 3, 8, 5, 3, 8, 5, 3, 8, 5, 3, 8, 5, 3, 8, 5, 3, 8, 5, 3, 8, 5, 3, 8, 5, 3, 8, 5, 3, 8, 5, 3, 8, 5, 3, 8, 5, 3, 8, 5, 3, 8, 5, 3, 8, 5, 3, 8, 5, 3, 8, 5, 3, 8, 5, 3, 8, 5, 3, 8, 5, 3, 8, 5, 3, 8, 5, 3, 8, 5, 3, 8, 5, 3, 8, 5, 3, 8, 5, 3, 8, 5, 3, 8, 5, 3, 8, 5, 3, 8, 5, 3, 8, 5, 3, 8, 5, 3, 8, 5, 3, 8, 5, 3, 8, 5, 3, 8, 5, 3, 8, 5, 3, 8, 5, 3, 8, 5, 3, 8, 5, 3, 8, 5, 3, 8, 5, 3, 8, 5, 3, 8, 5, 3, 8, 5, 3, 8, 5, 3, 8, 5, 3, 8, 5, 3, 8, 5, 3, 8, 5, 3, 8, 5, 3, 8, 5, 3, 8, 5, 3, 8, 5, 3, 8, 5, 3, 8, 5, 3, 8, 5, 3, 8, 5, 3, 8, 5, 3, 8, 5, 3, 8, 5, 3, 8, 5, 3, 8, 5, 3, 8, 5, 3, 8, 5, 3, 8, 5, 3, 8, 5, 3, 8, 5, 3, 8, 5, 3, 8, 5, 3, 8, 5, 3, 8, 5, 3, 8, 5, 3, 8, 5, 3, 8, 5, 3, 8, 5, 3, 8, 5, 3, 8, 5, 3, 8, 5, 3, 8, 5, 3, 8, 5, 3, 8, 5, 3, 8, 5, 3, 8, 5, 3, 8, 5, 3, 8, 5, 3, 8, 5, 3, 8, 5, 3, 8, 5, 3, 8, 5, 3, 8, 5, 3, 8, 5, 3, 8, 5, 3, 8, 5, 3, 8, 5, 3, 8, 5, 3, 8, 5, 3, 8, 5, 3, 8, 5, 3, 8, 5, 3, 8, 5, 3, 8, 5, 3, 8, 5, 3, 8, 5, 3, 8, 5, 3, 8, 5, 3, 8, 5, 3, 8, 5, 3, 8, 5, 3, 8, 5, 3, 8, 5, 3, 8, 5, 3, 8, 5, 3, 8, 5, 3, 8, 5, 3, 8, 5, 3, 8, 5, 3, 8, 5, 3, 8, 5, 3, 8, 5, 3, 8, 5, 3, 8, 5, 3, 8, 5, 3, 8, 5, 3, 8, 5, 3, 8, 5, 3, 8, 5, 3, 8, 5, 3, 8, 5, 3, 8, 5, 3, 8, 5, 3, 8, 5, 3, 8, 5, 3, 8, 5, 3, 8, 5, 3, 8, 5, 3, 8, 5, 3, 8, 5, 3, 8, 5, 3, 8, 5, 3, 8, 5, 3, 8, 5, 3, 8, 5, 3, 8, 5, 3, 8, 5, 3, 8, 5, 3, 8, 5, 3, 8, 5, 3, 8, 5, 3, 8, 5, 3, 8, 5, 3, 8, 5, 3, 8, 5, 3, 8, 5, 3, 8, 5, 3, 8, 5, 3, 8, 5, 3, 8, 5, 3, 8, 5, 3, 8, 5, 3, 8, 5, 3, 8, 5, 3, 8, 5, 3, 8, 5, 3, 8, 5, 3, 8, 5, 3, 8, 5, 3, 8, 5, 3, 8, 5, 3, 8, 5, 3, 8, 5, 3, 8, 5, 3, 8, 5, 3, 8, 5, 3, 8, 5, 3, 8, 5, 3, 8, 5, 3, 8, 5, 3, 8, 5, 3, 8, 5, 3, 8, 5, 3, 8, 5, 3, 8, 5, 3, 8, 5, 3, 8, 5, 3, 8, 5, 3, 8, 5, 3, 8, 5, 3, 8, 5, 3, 8, 5, 3, 8, 5, 3, 8, 5, 3, 8, 5, 3, 8, 5, 3, 8, 5, 3, 8, 5, 3, 8, 5, 3, 8, 5, 3, 8, 5, 3, 8, 5, 3, 8, 5, 3, 8, 5, 3, 8, 5, 3, 8, 5, 3, 8, 5, 3, 8, 5, 3, 8, 5, 3, 8, 5, 3, 8, 5, 3, 8, 5, 3, 8, 5, 3, 8, 5, 3, 8, 5, 3, 8, 5, 3, 8, 5, 3, 8, 5, 3, 8, 5, 3, 8, 5, 3, 8, 5, 3, 8, 5, 3, 8, 5, 3, 8, 5, 3, 8, 5, 3, 8, 5, 3, 8, 5, 3, 8, 5, 3, 8, 5, 3, 8, 5, 3, 8, 5, 3, 8, 5, 3, 8, 5, 3, 8, 5, 3, 8, 5, 3, 8, 5, 3, 8, 5, 3, 8, 5, 3, 8, 5, 3, 8, 5, 3, 8, 5, 3, 8, 5, 3, 8, 5, 3, 8, 5, 3, 8, 5, 3, 8, 5, 3, 8, 5, 3, 8, 5, 3, 8, 5, 3, 8, 5, 3, 8, 5, 3, 8, 5, 3, 8, 5, 3, 8, 5, 3, 8, 5, 3, 8, 5, 3, 8, 5, 3, 8, 5, 3, 8, 5, 3, 8, 5, 3, 8, 5, 3, 8, 5, 3, 8, 5, 3, 8, 5, 3, 8, 5, 3, 8, 5, 3, 8, 5, 3, 8, 5, 3, 8, 5, 3, 8, 5, 3, 8, 5, 3, 8, 5, 3, 8, 5, 3, 8, 5, 3, 8, 5, 3, 8, 5, 3, 8, 5, 3, 8, 5, 3, 8, 5, 3, 8, 5, 3, 8, 5, 3, 8, 5, 3, 8, 5, 3, 8, 5, 3, 8, 5, 3, 8, 5, 3, 8, 5, 3, 8, 5, 3, 8, 5, 3, 8, 5, 3, 8, 5, 3, 8, 5, 3, 8, 5, 3, 8, 5, 3, 8, 5, 3, 8, 5, 3, 8, 5, 3, 8, 5, 3, 8, 5, 3, 8, 5, 3, 8, 5, 3, 8, 5, 3, 8, 5, 3, 8, 5, 3, 8, 5, 3, 8, 5, 3, 8, 5, 3, 8, 5, 3, 8, 5, 3, 8, 5, 3, 8, 5, 3, 8, 5, 3, 8, 5, 3, 8, 5, 3, 8, 5, 3, 8, 5, 3, 8, 5, 3, 8, 5, 3, 8, 5, 3, 8, 5, 3, 8, 5, 3, 8, 5, 3, 8, 5, 3, 8, 5, 3, 8, 5, 3, 8, 5]\n"
     ]
    }
   ],
   "source": [
    "nums = int(input())\n",
    "nums1 = list(map(int, input()))\n",
    "\n",
    "print(nums * int(nums1[2]))\n",
    "print(nums * int(nums1[1]))\n",
    "print(nums * int(nums1[0]))\n",
    "print(nums * nums1)"
   ]
  },
  {
   "cell_type": "code",
   "execution_count": 22,
   "id": "c07851bc",
   "metadata": {
    "scrolled": true
   },
   "outputs": [
    {
     "name": "stdout",
     "output_type": "stream",
     "text": [
      "472\n",
      "385\n",
      "2360\n",
      "3776\n",
      "1416\n",
      "181720\n"
     ]
    }
   ],
   "source": [
    "nums = int(input())\n",
    "nums1 = list(map(int, input()))\n",
    "\n",
    "print(nums * int(nums1[2]))\n",
    "print(nums * int(nums1[1]))\n",
    "print(nums * int(nums1[0]))\n",
    "print(nums *((100* nums1[0]) +(10* nums1[1]) + nums1[2]))"
   ]
  },
  {
   "cell_type": "markdown",
   "id": "bfef3e22",
   "metadata": {},
   "source": [
    "### 2562번 최댓값\n",
    "\n",
    "9개의 서로 다른 자연수가 주어질 때, 이들 중 최댓값을 찾고 그 최댓값이 몇 번째 수인지를 구하는 프로그램을 작성하시오.\n",
    "\n",
    "예를 들어, 서로 다른 9개의 자연수\n",
    "\n",
    "3, 29, 38, 12, 57, 74, 40, 85, 61\n",
    "\n",
    "이 주어지면, 이들 중 최댓값은 85이고, 이 값은 8번째 수이다.\n",
    "\n",
    "입력\n",
    "- 첫째 줄부터 아홉 번째 줄까지 한 줄에 하나의 자연수가 주어진다. 주어지는 자연수는 100 보다 작다.\n",
    "\n",
    "출력\n",
    "- 첫째 줄에 최댓값을 출력하고, 둘째 줄에 최댓값이 몇 번째 수인지를 출력한다.\n"
   ]
  },
  {
   "cell_type": "code",
   "execution_count": 38,
   "id": "bacd943c",
   "metadata": {},
   "outputs": [
    {
     "name": "stdout",
     "output_type": "stream",
     "text": [
      "3\n",
      "29\n",
      "38\n",
      "12\n",
      "57\n",
      "74\n",
      "40\n",
      "85\n",
      "61\n",
      "85\n",
      "8\n"
     ]
    }
   ],
   "source": [
    "nums = []\n",
    "\n",
    "for i in range(9):\n",
    "    nums.append(int(input()))\n",
    "    max_num = nums[0]\n",
    "    for i in nums:\n",
    "        if i > max_num:\n",
    "            max_num = i\n",
    "\n",
    "            \n",
    "print(max_num)\n",
    "print(nums.index(max_num)+1)"
   ]
  },
  {
   "cell_type": "markdown",
   "id": "e0a06502",
   "metadata": {},
   "source": [
    "### 8958번 OX퀴즈\n",
    "\n",
    "\"OOXXOXXOOO\"와 같은 OX퀴즈의 결과가 있다. O는 문제를 맞은 것이고, X는 문제를 틀린 것이다. \n",
    "\n",
    "문제를 맞은 경우 그 문제의 점수는 그 문제까지 연속된 O의 개수가 된다. 예를 들어, 10번 문제의 점수는 3이 된다.\n",
    "\n",
    "\"OOXXOXXOOO\"의 점수는 1+2+0+0+1+0+0+1+2+3 = 10점이다.\n",
    "\n",
    "OX퀴즈의 결과가 주어졌을 때, 점수를 구하는 프로그램을 작성하시오.\n",
    "\n",
    "* 입력\n",
    "\n",
    "첫째 줄에 테스트 케이스의 개수가 주어진다. 각 테스트 케이스는 한 줄로 이루어져 있고, 길이가 0보다 크고 80보다 작은 문자열이 주어진다. 문자열은 O와 X만으로 이루어져 있다.\n",
    "\n",
    "* 출력\n",
    "\n",
    "각 테스트 케이스마다 점수를 출력한다."
   ]
  },
  {
   "cell_type": "code",
   "execution_count": 2,
   "id": "72349e65",
   "metadata": {},
   "outputs": [
    {
     "name": "stdout",
     "output_type": "stream",
     "text": [
      "5\n",
      "OOXXOXXOOO\n",
      "0\n",
      "oxoxoooxoxoxo\n",
      "0\n",
      "oxooooxoxoxo\n",
      "0\n",
      "oooooo\n",
      "0\n",
      "ooooooooo\n",
      "0\n"
     ]
    }
   ],
   "source": [
    "n= int(input())\n",
    "ox = []\n",
    "\n",
    "for i in range(n):\n",
    "    ox=list(input())\n",
    "    s= 0\n",
    "    sum_s= 0\n",
    "    for i in ox:\n",
    "        if i == \"O\":\n",
    "            s += 1\n",
    "            sum_s += s\n",
    "        elif i == \"X\":\n",
    "            s = 0\n",
    "    print(sum_s)\n"
   ]
  },
  {
   "cell_type": "code",
   "execution_count": 2,
   "id": "23fd6e98",
   "metadata": {},
   "outputs": [
    {
     "data": {
      "text/plain": [
       "['o', 'x', 'o', 'o', 'o', 'x', 'o', 'x', 'o', 'x', 'o']"
      ]
     },
     "execution_count": 2,
     "metadata": {},
     "output_type": "execute_result"
    }
   ],
   "source": [
    "ox"
   ]
  },
  {
   "cell_type": "code",
   "execution_count": 153,
   "id": "7bb495d4",
   "metadata": {},
   "outputs": [],
   "source": [
    "s= 0\n",
    "for i in range(n):\n",
    "    if i == \"o\":\n",
    "        s +=1\n",
    "        \n",
    "    elif i == \"x\":\n",
    "        s + 0\n",
    "        \n",
    "\n"
   ]
  },
  {
   "cell_type": "code",
   "execution_count": 154,
   "id": "28cf6ef8",
   "metadata": {},
   "outputs": [
    {
     "data": {
      "text/plain": [
       "0"
      ]
     },
     "execution_count": 154,
     "metadata": {},
     "output_type": "execute_result"
    }
   ],
   "source": [
    "s"
   ]
  },
  {
   "cell_type": "code",
   "execution_count": null,
   "id": "0bac76f8",
   "metadata": {},
   "outputs": [],
   "source": [
    "n= int(input())\n",
    "ox = []\n",
    "\n",
    "for i in range(n):\n",
    "    ox.append(\"%s\" %(list(input())))"
   ]
  },
  {
   "cell_type": "code",
   "execution_count": null,
   "id": "9b119c23",
   "metadata": {},
   "outputs": [],
   "source": []
  },
  {
   "cell_type": "code",
   "execution_count": null,
   "id": "14e71a59",
   "metadata": {},
   "outputs": [],
   "source": []
  },
  {
   "cell_type": "code",
   "execution_count": null,
   "id": "1f1333d0",
   "metadata": {},
   "outputs": [],
   "source": []
  },
  {
   "cell_type": "code",
   "execution_count": 3,
   "id": "f49d503b",
   "metadata": {},
   "outputs": [
    {
     "name": "stdout",
     "output_type": "stream",
     "text": [
      "5\n",
      "xoxoooxoxoxoxoxo\n",
      "12\n",
      "xooxoxoooxoxo\n",
      "12\n",
      "oooooooo\n",
      "36\n",
      "oxoxoxooxoxoxo\n",
      "9\n",
      "oooooxoxoxo\n",
      "18\n"
     ]
    }
   ],
   "source": [
    "n= int(input())\n",
    "ox = []\n",
    "\n",
    "for i in range(n):\n",
    "    ox=str(input())\n",
    "    s= 0\n",
    "    sum_s= 0\n",
    "    for i in ox:\n",
    "        if i == \"O\":\n",
    "            s +=1\n",
    "            sum_s+= s\n",
    "        elif i == \"X\":\n",
    "            s = 0\n",
    "    print(sum_s)"
   ]
  },
  {
   "cell_type": "markdown",
   "id": "a9a335c9",
   "metadata": {},
   "source": [
    "### 3046번 R2\n",
    "\n",
    "두 숫자 R1과 R2가 있을 때, 두 수의 평균 S는 (R1+R2)/2와 같다. \n",
    "\n",
    "상근이는 정인이 생일 선물로 두 숫자 R1과 R2를 주려고 한다. \n",
    "\n",
    "생일 파티에서 상근이는 정인이에게 이 두 숫자를 말해주고, 정인이는 이 숫자를 받아 적는다. \n",
    "\n",
    "그리고 나서 기쁜 마음으로 1년동안 이 숫자를 외우면서 산다.\n",
    "\n",
    "상근이는 R1과 R2를 엄청난 고민 끝에 정했다. \n",
    "\n",
    "작년에는 R1과 R2를 까먹어서 아무 숫자나 정해서 주었기 때문에, 올해는 까먹지 않기 위해서 평균 S도 같이 기억하려고 한다.\n",
    "\n",
    "오늘은 정인이 생일이다. 5분 후에 상근이는 생일 선물로 두 숫자 R1과 R2를 말해주어야 하지만, 안타깝게도 R2를 까먹고 말았다. \n",
    "\n",
    "하지만 R1과 S는 기억하고 있다!\n",
    "\n",
    "상근이를 도와 R2가 몇 인지 구하는 프로그램을 작성하시오.\n",
    "\n",
    "\n",
    "* 입력\n",
    "\n",
    "첫째 줄에 두 정수 R1과 S가 주어진다. 두 수는 -1000보다 크거나 같고, 1000보다 작거나 같다.\n",
    "\n",
    "* 출력\n",
    "\n",
    "첫째 줄에 R2를 출력한다.\n"
   ]
  },
  {
   "cell_type": "code",
   "execution_count": 5,
   "id": "d71aba14",
   "metadata": {},
   "outputs": [
    {
     "name": "stdout",
     "output_type": "stream",
     "text": [
      "4 3\n",
      "2\n"
     ]
    }
   ],
   "source": [
    "# (a + b)/2 = A\n",
    "\n",
    "# 2A =a + b\n",
    "\n",
    "# r1 -2s = r2\n",
    "\n",
    "r1,s = map(int, input().split())\n",
    "r2=0\n",
    "\n",
    "for i in range(1):\n",
    "    r2 += r1+(-2 *s)\n",
    "    print(-r2)"
   ]
  },
  {
   "cell_type": "markdown",
   "id": "3df9cd62",
   "metadata": {},
   "source": [
    "### 1978번 소수찾기\n",
    "\n",
    "주어진 수 N개 중에서 소수가 몇 개인지 찾아서 출력하는 프로그램을 작성하시오.\n",
    "\n",
    "- 입력\n",
    "    첫 줄에 수의 개수 N이 주어진다. N은 100이하이다. 다음으로 N개의 수가 주어지는데 수는 1,000 이하의 자연수이다.\n",
    "\n",
    "- 출력\n",
    "    주어진 수들 중 소수의 개수를 출력한다.\n",
    "    \n",
    "    \n",
    "- 예제 입력 1 \n",
    "    \n",
    "    - 4\n",
    "    - 1 3 5 7\n",
    "\n",
    "- 예제 출력 1 \n",
    "    \n",
    "    - 3\n",
    "    \n",
    "## > 연산자\n",
    "\n",
    "- 산술 : +, -, *, /, //(몫), %(나머지)\n",
    "- 비교 : ==(값이 같은지), !=(값이 다른지), <=, >=, <, >\n",
    "- 논리 : and, or\n",
    "- 할당 : =, +=(누적합), -=(누적차), *=(누적곱), /=(몫만 남기기), %=(나머지만 남기기)"
   ]
  },
  {
   "cell_type": "code",
   "execution_count": null,
   "id": "46cdb015",
   "metadata": {},
   "outputs": [],
   "source": [
    "n = int(input())\n",
    "nums = list(map(int, input().split()))\n",
    "sosu = []\n",
    "nums <= 1000\n",
    "for i in nums:\n",
    "    if i < 10:\n",
    "        if i==2 or i==3 or i==5 or i==7:\n",
    "            sosu.append(i)\n",
    "        elif i!= 2 or i!=3 or i!=5 or i!=7:\n",
    "            i == \"\"\n",
    "    if i >= 10:\n",
    "        if (i%2==0 or i%3==0 or i%5==0 or i%7==0):\n",
    "            i == \"\"\n",
    "        elif (i%2!=0 or i%3!=0 or i%5!=0 or i%7!=0):\n",
    "            sosu.append(i)\n",
    "\n",
    "print(sosu)\n",
    "print(len(sosu))"
   ]
  },
  {
   "cell_type": "markdown",
   "id": "04af19d8",
   "metadata": {},
   "source": []
  },
  {
   "cell_type": "markdown",
   "id": "9c7e8d90",
   "metadata": {},
   "source": []
  },
  {
   "cell_type": "code",
   "execution_count": null,
   "id": "cee822e6",
   "metadata": {},
   "outputs": [],
   "source": []
  },
  {
   "cell_type": "code",
   "execution_count": null,
   "id": "cb030570",
   "metadata": {},
   "outputs": [],
   "source": []
  },
  {
   "cell_type": "code",
   "execution_count": null,
   "id": "9a5d41eb",
   "metadata": {},
   "outputs": [],
   "source": []
  },
  {
   "cell_type": "code",
   "execution_count": null,
   "id": "78f6e104",
   "metadata": {},
   "outputs": [],
   "source": []
  },
  {
   "cell_type": "code",
   "execution_count": null,
   "id": "40d206a8",
   "metadata": {},
   "outputs": [],
   "source": []
  },
  {
   "cell_type": "code",
   "execution_count": null,
   "id": "cf7475dc",
   "metadata": {},
   "outputs": [],
   "source": []
  },
  {
   "cell_type": "code",
   "execution_count": null,
   "id": "1e3bd17f",
   "metadata": {},
   "outputs": [],
   "source": []
  },
  {
   "cell_type": "code",
   "execution_count": null,
   "id": "b4364a49",
   "metadata": {},
   "outputs": [],
   "source": []
  },
  {
   "cell_type": "code",
   "execution_count": null,
   "id": "bfd1547c",
   "metadata": {},
   "outputs": [],
   "source": []
  },
  {
   "cell_type": "code",
   "execution_count": null,
   "id": "9f7a577a",
   "metadata": {},
   "outputs": [],
   "source": []
  },
  {
   "cell_type": "code",
   "execution_count": null,
   "id": "7045c4fe",
   "metadata": {},
   "outputs": [],
   "source": []
  },
  {
   "cell_type": "code",
   "execution_count": null,
   "id": "3f7f963b",
   "metadata": {},
   "outputs": [],
   "source": []
  }
 ],
 "metadata": {
  "kernelspec": {
   "display_name": "Python 3 (ipykernel)",
   "language": "python",
   "name": "python3"
  },
  "language_info": {
   "codemirror_mode": {
    "name": "ipython",
    "version": 3
   },
   "file_extension": ".py",
   "mimetype": "text/x-python",
   "name": "python",
   "nbconvert_exporter": "python",
   "pygments_lexer": "ipython3",
   "version": "3.9.12"
  }
 },
 "nbformat": 4,
 "nbformat_minor": 5
}
