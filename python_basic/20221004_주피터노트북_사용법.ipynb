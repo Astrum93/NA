{
 "cells": [
  {
   "cell_type": "markdown",
   "id": "6e79afb5",
   "metadata": {},
   "source": [
    "주피터 노트북 사용법\n",
    "\n",
    "셀을 클릭하면 녹색으로 선택 영역이 저장됨<br>\n",
    "녹색으로 선택된 셀에는 키보드 입력시 코드/입력문이 직접 입력됨.<br>\n",
    "녹색으로 선택된 셀에 esc키를 입력하거나 셀 바깥쪽 클릭시 파란색으로 전환됨\n",
    "\n",
    "파란색으로 선택된 셀에<br>\n",
    "b입력 => 선택된 셀 아래에 입력용 셀 추가<br>\n",
    "a입력 => 선택된 셀 위에 입력용 셀 추가\n",
    "\n",
    "dd(두 번) 입력 => 선택된 셀 삭제\n",
    "\n",
    "m=> 선택된 셀을 코드 입력용이 아닌 필기용으로 전환 ( 수정시 더블클릭 )<br>\n",
    "y=> 선택된 셀을 필기용에서 코드 입력용으로 전환\n",
    "\n",
    "ctrl + enter 혹은 shift + enter 입력시<br>\n",
    "필기용 셀은 필기가 박제되고<br>\n",
    "코드 실행용 셀은 내부 문자를 인식에 명령을 수행합니다."
   ]
  },
  {
   "cell_type": "markdown",
   "id": "c40b9540",
   "metadata": {},
   "source": [
    "# 주피터노트북 필기<br>\n",
    "#### 문자를 이용하면 글씨 크기 조절이<br>\n",
    "### 가능합니다<br>\n",
    "###### 개수가 많아지면 많아질수록<br>\n",
    "###### ###### 글씨 크기는 작아집니다.<br>\n",
    "###### #은 6개까지 쓸 수 있습니다.(h1~h6태그 적용)<br>\n",
    "\n",
    "-나열해서 필기하고 싶다면\n",
    "- - 한칸 뒤에 필기를 합니다.\n",
    "- 이렇게 나열이 됩니다.\n",
    "    - 띄어쓰기 네 칸 + 대시(-)를 붙이면\n",
    "    - 도트 아래 하위 항목으로 간주됩니다.\n",
    "        - 도트 아래에서 다시 띄어쓰기를 네 번 더 추가로 하면\n",
    "        - 하위 항목의 하위 항목으로 간주됩니다."
   ]
  },
  {
   "cell_type": "code",
   "execution_count": null,
   "id": "10a100ab",
   "metadata": {},
   "outputs": [],
   "source": []
  }
 ],
 "metadata": {
  "kernelspec": {
   "display_name": "Python 3 (ipykernel)",
   "language": "python",
   "name": "python3"
  },
  "language_info": {
   "codemirror_mode": {
    "name": "ipython",
    "version": 3
   },
   "file_extension": ".py",
   "mimetype": "text/x-python",
   "name": "python",
   "nbconvert_exporter": "python",
   "pygments_lexer": "ipython3",
   "version": "3.9.12"
  }
 },
 "nbformat": 4,
 "nbformat_minor": 5
}
