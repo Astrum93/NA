{
 "cells": [
  {
   "cell_type": "markdown",
   "id": "11797337",
   "metadata": {},
   "source": [
    "# << 제어문 >>\n",
    "# 2-2. for 반복문\n",
    "\n",
    "자료형(리스트, 튜플, 문자열)의 모든 아이템에 대하여 처음부터 마지막까지 차례대로 접근하여 실행문을 적용한다.\n",
    "\n",
    "▶기본 문법\n",
    "\n",
    " - for 임시변수 in 자료형 :\n",
    "            수행할 문장1\n",
    "            수행할 문장2\n",
    "            ...\n",
    "\n",
    "▶임시변수\n",
    "\n",
    " - for 반복문이 실행되면 자료형의 아이템이 차례대로 임시변수에 할당된다.\n",
    " - 기본적으로 변수는 할당문이 존재해야 하지만 임시변수는 할당문이 필요 없는 객체이다."
   ]
  },
  {
   "cell_type": "code",
   "execution_count": 1,
   "id": "e79c0a84",
   "metadata": {},
   "outputs": [
    {
     "name": "stdout",
     "output_type": "stream",
     "text": [
      "Hello world\n",
      "Hello world\n",
      "Hello world\n"
     ]
    }
   ],
   "source": [
    "# 하나의 아이템에 접근 : 리스트 자료형\n",
    "a = [1, 2, 3]\n",
    "for i in a:\n",
    "    print(\"Hello world\")"
   ]
  },
  {
   "cell_type": "code",
   "execution_count": 3,
   "id": "af3c9737",
   "metadata": {},
   "outputs": [
    {
     "name": "stdout",
     "output_type": "stream",
     "text": [
      "10\n",
      "20\n",
      "30\n"
     ]
    }
   ],
   "source": [
    "# 하나의 아이템에 접근 : 튜플 자료형\n",
    "tu = 10, 20, 30\n",
    "# for in문과 print구분을 이용해 10, 20, 30을 순차적으로 찍어주세요.\n",
    "for i in tu:\n",
    "    print(i)"
   ]
  },
  {
   "cell_type": "code",
   "execution_count": 7,
   "id": "2a9f8898",
   "metadata": {},
   "outputs": [
    {
     "data": {
      "text/plain": [
       "False"
      ]
     },
     "execution_count": 7,
     "metadata": {},
     "output_type": "execute_result"
    }
   ],
   "source": [
    "# 하나의 아이템에 접근 : 딕셔너리 자료형\n",
    "# 딕셔너리 자료형에 대해서는 반복문 접근시 key값 기준으로 접근됨\n",
    "# 따라서 딕셔너리 접근은 .keys()요소에 접근하는것과 결과가 동일함\n",
    "d1 = {'a':1, 'b':2, 'c':3}\n",
    "'1' in d1"
   ]
  },
  {
   "cell_type": "code",
   "execution_count": 5,
   "id": "1d12c439",
   "metadata": {},
   "outputs": [
    {
     "name": "stdout",
     "output_type": "stream",
     "text": [
      "a\n",
      "b\n",
      "c\n"
     ]
    }
   ],
   "source": [
    "for key in d1:\n",
    "    print(key)"
   ]
  },
  {
   "cell_type": "code",
   "execution_count": 8,
   "id": "c566d632",
   "metadata": {},
   "outputs": [
    {
     "name": "stdout",
     "output_type": "stream",
     "text": [
      "a\n",
      "b\n",
      "c\n"
     ]
    }
   ],
   "source": [
    "for key in d1.keys():\n",
    "    print(key)"
   ]
  },
  {
   "cell_type": "code",
   "execution_count": 9,
   "id": "dc51bf0c",
   "metadata": {},
   "outputs": [
    {
     "data": {
      "text/plain": [
       "dict_items([('a', 1), ('b', 2), ('c', 3)])"
      ]
     },
     "execution_count": 9,
     "metadata": {},
     "output_type": "execute_result"
    }
   ],
   "source": [
    "# 딕셔너리에 대해서 items()로 접근시 key, value 쌍으로 묶인 자료가 출력됩니다.\n",
    "d1.items()"
   ]
  },
  {
   "cell_type": "code",
   "execution_count": 12,
   "id": "390e50e6",
   "metadata": {},
   "outputs": [
    {
     "data": {
      "text/plain": [
       "('c', 3)"
      ]
     },
     "execution_count": 12,
     "metadata": {},
     "output_type": "execute_result"
    }
   ],
   "source": [
    "list_d1 = list(d1.items())\n",
    "list_d1[2]"
   ]
  },
  {
   "cell_type": "code",
   "execution_count": 11,
   "id": "f4e29fea",
   "metadata": {},
   "outputs": [
    {
     "name": "stdout",
     "output_type": "stream",
     "text": [
      "키값 a 벨류값 1\n",
      "키값 b 벨류값 2\n",
      "키값 c 벨류값 3\n"
     ]
    }
   ],
   "source": [
    "# 튜플을 대상으로 대입받을때는 요소 개수만큼 좌변에 대입하면\n",
    "# 나눠서 대입되는 점을 이용한 테크닉\n",
    "for k, v in d1.items():\n",
    "    print('키값', k, '벨류값', v)"
   ]
  },
  {
   "cell_type": "markdown",
   "id": "d4ec01b8",
   "metadata": {},
   "source": [
    "## range 함수\n",
    " \n",
    " 지정된 시작값과 끝값 사이의 숫자들을 자동으로 생성하여 range 객체로 반환하는 함수\n",
    "- 문법 : range(시작하는 값, 끝나는 값, [간격])\n",
    "- 특징 : 슬라이싱과 유사하게 끝나는 값은 포함되지 않는다."
   ]
  },
  {
   "cell_type": "code",
   "execution_count": 14,
   "id": "aa0a201b",
   "metadata": {},
   "outputs": [
    {
     "data": {
      "text/plain": [
       "[1, 2, 3, 4, 5]"
      ]
     },
     "execution_count": 14,
     "metadata": {},
     "output_type": "execute_result"
    }
   ],
   "source": [
    "# range()를 list로 감싸야 변환됨, 그러나 변환하지 않아도 for문에서 사용가능\n",
    "list(range(1, 6)) #뒤에숫자 - 앞에숫자 갯수만큼 나온다."
   ]
  },
  {
   "cell_type": "code",
   "execution_count": 15,
   "id": "90ad1772",
   "metadata": {},
   "outputs": [
    {
     "name": "stdout",
     "output_type": "stream",
     "text": [
      "1\n",
      "2\n",
      "3\n",
      "4\n",
      "5\n"
     ]
    }
   ],
   "source": [
    "# 1~ 5까지 출력하기 위해 사용하는 range() 함수의 예\n",
    "for i in range(1, 6):\n",
    "    print(i)"
   ]
  },
  {
   "cell_type": "code",
   "execution_count": 16,
   "id": "7e93e038",
   "metadata": {},
   "outputs": [
    {
     "name": "stdout",
     "output_type": "stream",
     "text": [
      "0\n",
      "1\n",
      "2\n",
      "3\n",
      "4\n"
     ]
    }
   ],
   "source": [
    "# range의 시작값이 0이라면 숫자를 하나만 넣는다.\n",
    "# range(숫자하나) 를 넣으면 적힌 숫자바퀴만큼 돕니다.\n",
    "for i in range(5):\n",
    "    print(i)"
   ]
  },
  {
   "cell_type": "code",
   "execution_count": 17,
   "id": "b7d32c11",
   "metadata": {},
   "outputs": [
    {
     "name": "stdout",
     "output_type": "stream",
     "text": [
      "5\n",
      "4\n",
      "3\n",
      "2\n",
      "1\n"
     ]
    }
   ],
   "source": [
    "# 세 번째 숫자는 증가값이 아닌 증감값이므로 음수가 들어갈 수 있다.\n",
    "# 이 경우 시작숫자가 목표값보다 큰 숫자에서 시작 해야한다.\n",
    "for i in range(5, 0, -1):\n",
    "    print(i)"
   ]
  },
  {
   "cell_type": "markdown",
   "id": "2f62a624",
   "metadata": {},
   "source": [
    "## 중첩 반복문\n",
    "\n",
    "- 반복문 내부에 반복문을 작성하는것을 중첩 반복문이라고 합니다.\n",
    "\n",
    "- 반복 횟수는 안쪽 반복문 * 바깥쪽 반복문입니다.\n",
    "\n",
    "- 동작 이해가 상당히 어렵기 때문에 여러번 연습해주세요."
   ]
  },
  {
   "cell_type": "code",
   "execution_count": null,
   "id": "64aa46c7",
   "metadata": {},
   "outputs": [],
   "source": [
    "#인터벌 트레이닝\n",
    "#좌 우로 5번씩 다녀오시면 그게 1세트입니다.\n",
    "\n",
    "#5세트 10세트"
   ]
  },
  {
   "cell_type": "code",
   "execution_count": 20,
   "id": "c5d8e075",
   "metadata": {},
   "outputs": [
    {
     "name": "stdout",
     "output_type": "stream",
     "text": [
      "회원님 좌로가세요!\n",
      "회원님 우로가세요!\n",
      "회원님 좌로가세요!\n",
      "회원님 우로가세요!\n",
      "회원님 좌로가세요!\n",
      "회원님 우로가세요!\n",
      "회원님 좌로가세요!\n",
      "회원님 우로가세요!\n",
      "회원님 좌로가세요!\n",
      "회원님 우로가세요!\n",
      "회원님 수고하셨어요 한세트 끝났어요!\n"
     ]
    }
   ],
   "source": [
    "# 인터벌을 한 세트 도는 케이스\n",
    "for i in range(5):\n",
    "    print(\"회원님 좌로가세요!\")\n",
    "    print(\"회원님 우로가세요!\")\n",
    "print(\"회원님 수고하셨어요 한세트 끝났어요!\")"
   ]
  },
  {
   "cell_type": "code",
   "execution_count": 23,
   "id": "85aa039b",
   "metadata": {},
   "outputs": [
    {
     "name": "stdout",
     "output_type": "stream",
     "text": [
      "회원님 좌로가세요!\n",
      "회원님 우로가세요!\n",
      "회원님 좌로가세요!\n",
      "회원님 우로가세요!\n",
      "회원님 수고하셨어요 한세트 끝났어요!\n",
      "회원님 좌로가세요!\n",
      "회원님 우로가세요!\n",
      "회원님 좌로가세요!\n",
      "회원님 우로가세요!\n",
      "회원님 수고하셨어요 한세트 끝났어요!\n",
      "회원님 집에가세요!\n"
     ]
    }
   ],
   "source": [
    "for j in range(2): #j블럭\n",
    "    for i in range(2): #i블럭\n",
    "        print(\"회원님 좌로가세요!\")\n",
    "        print(\"회원님 우로가세요!\")\n",
    "    print(\"회원님 수고하셨어요 한세트 끝났어요!\")\n",
    "print(\"회원님 집에가세요!\")"
   ]
  },
  {
   "cell_type": "code",
   "execution_count": 24,
   "id": "a3e21d79",
   "metadata": {},
   "outputs": [
    {
     "name": "stdout",
     "output_type": "stream",
     "text": [
      "1\n",
      "2\n"
     ]
    }
   ],
   "source": [
    "# 파이썬의 print()는 기본적으로 실행되면 자동으로 줄바뀜이 일어납니다.\n",
    "print(1)\n",
    "print(2)"
   ]
  },
  {
   "cell_type": "code",
   "execution_count": 25,
   "id": "d4b1cbe1",
   "metadata": {},
   "outputs": [
    {
     "name": "stdout",
     "output_type": "stream",
     "text": [
      "ab\n",
      "cd"
     ]
    }
   ],
   "source": [
    "# 다음줄로 내리지 않기 위해서는 print() 뒤에 end=\"\" 를 추가합니다.\n",
    "print('a', end=\"\") \n",
    "print('b', end=\"\")\n",
    "print()\n",
    "print('c', end=\"\")\n",
    "print('d', end=\"\")"
   ]
  },
  {
   "cell_type": "code",
   "execution_count": null,
   "id": "f98f815b",
   "metadata": {},
   "outputs": [],
   "source": []
  },
  {
   "cell_type": "code",
   "execution_count": null,
   "id": "047f8619",
   "metadata": {},
   "outputs": [],
   "source": []
  },
  {
   "cell_type": "code",
   "execution_count": null,
   "id": "31a588be",
   "metadata": {},
   "outputs": [],
   "source": []
  }
 ],
 "metadata": {
  "kernelspec": {
   "display_name": "Python 3 (ipykernel)",
   "language": "python",
   "name": "python3"
  },
  "language_info": {
   "codemirror_mode": {
    "name": "ipython",
    "version": 3
   },
   "file_extension": ".py",
   "mimetype": "text/x-python",
   "name": "python",
   "nbconvert_exporter": "python",
   "pygments_lexer": "ipython3",
   "version": "3.9.12"
  }
 },
 "nbformat": 4,
 "nbformat_minor": 5
}
