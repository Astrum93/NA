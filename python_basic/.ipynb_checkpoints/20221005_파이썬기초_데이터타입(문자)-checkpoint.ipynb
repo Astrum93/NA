{
 "cells": [
  {
   "cell_type": "markdown",
   "id": "e9475566",
   "metadata": {},
   "source": [
    "# 데이터 타입\n",
    "# 문자형\n"
   ]
  },
  {
   "cell_type": "markdown",
   "id": "00d8d4aa",
   "metadata": {},
   "source": [
    "# > 생성하기\n",
    "> 여닫는 따옴표는 반드시 문자의 앞 뒤에서 한 쌍으로 완성해야 한다.\n",
    "### 1) 한 줄 문자열: ',\""
   ]
  },
  {
   "cell_type": "code",
   "execution_count": 1,
   "id": "a725ecd1",
   "metadata": {},
   "outputs": [
    {
     "data": {
      "text/plain": [
       "'123'"
      ]
     },
     "execution_count": 1,
     "metadata": {},
     "output_type": "execute_result"
    }
   ],
   "source": [
    "\"123\""
   ]
  },
  {
   "cell_type": "code",
   "execution_count": 4,
   "id": "bcbfe8d5",
   "metadata": {},
   "outputs": [
    {
     "ename": "SyntaxError",
     "evalue": "EOL while scanning string literal (3589106398.py, line 1)",
     "output_type": "error",
     "traceback": [
      "\u001b[1;36m  Input \u001b[1;32mIn [4]\u001b[1;36m\u001b[0m\n\u001b[1;33m    '안녕\u001b[0m\n\u001b[1;37m        ^\u001b[0m\n\u001b[1;31mSyntaxError\u001b[0m\u001b[1;31m:\u001b[0m EOL while scanning string literal\n"
     ]
    }
   ],
   "source": [
    "'안녕 \n",
    "반가워'"
   ]
  },
  {
   "cell_type": "markdown",
   "id": "a47985e7",
   "metadata": {},
   "source": [
    "\\n 은 엔터키의 입력값이다."
   ]
  },
  {
   "cell_type": "code",
   "execution_count": 6,
   "id": "16495d9e",
   "metadata": {},
   "outputs": [
    {
     "name": "stdout",
     "output_type": "stream",
     "text": [
      "안녕 \n",
      "반가워\n"
     ]
    }
   ],
   "source": [
    "a = '안녕 \\n반가워'\n",
    "print(a)"
   ]
  },
  {
   "cell_type": "markdown",
   "id": "0f90a7ae",
   "metadata": {},
   "source": [
    "# 2) 여러 줄 문자열 : '''('x3), \"\"\"(\"x3)\n",
    "\n",
    "- print() 했을 때 enter(줄바꿈)이 그대로 반영되는 문자열로 처리 가능.\n",
    "- 단 화면에서 보기를 하면(print 없이 주피터노트북 결과로 보면)\n",
    "- 줄바꿈이 바로 나타나지 않고 \\n으로 처리한다."
   ]
  },
  {
   "cell_type": "code",
   "execution_count": 7,
   "id": "2ac1a03f",
   "metadata": {},
   "outputs": [
    {
     "name": "stdout",
     "output_type": "stream",
     "text": [
      "안녕\n",
      "반가워\n"
     ]
    }
   ],
   "source": [
    "a = \"\"\"안녕\n",
    "반가워\"\"\"\n",
    "print(a)"
   ]
  },
  {
   "cell_type": "code",
   "execution_count": 8,
   "id": "9eb95ac4",
   "metadata": {},
   "outputs": [
    {
     "data": {
      "text/plain": [
       "'안녕\\n반가워'"
      ]
     },
     "execution_count": 8,
     "metadata": {},
     "output_type": "execute_result"
    }
   ],
   "source": [
    "a"
   ]
  },
  {
   "cell_type": "markdown",
   "id": "ab97e791",
   "metadata": {},
   "source": [
    "### 3) 문자 속에 문자열 기호 사용하기\n",
    "- 문자열에서 자주 쓰는 기호 : ', \""
   ]
  },
  {
   "cell_type": "code",
   "execution_count": 11,
   "id": "4d3c2c2d",
   "metadata": {},
   "outputs": [
    {
     "name": "stdout",
     "output_type": "stream",
     "text": [
      "she's happy.\n"
     ]
    }
   ],
   "source": [
    "# 언어, 문자에서 많이 쓰이는 기호 : she`s, \"설렁탕을 사왔는데 왜 먹지를 못하나...\"\n",
    "a = \"she's happy.\"\n",
    "print(a)"
   ]
  },
  {
   "cell_type": "code",
   "execution_count": 12,
   "id": "edb27148",
   "metadata": {},
   "outputs": [
    {
     "name": "stdout",
     "output_type": "stream",
     "text": [
      "오늘은 \"미세먼지\" 좋음.\n"
     ]
    }
   ],
   "source": [
    "title = '오늘은 \"미세먼지\" 좋음.'\n",
    "print(title)"
   ]
  },
  {
   "cell_type": "code",
   "execution_count": 16,
   "id": "12242775",
   "metadata": {},
   "outputs": [
    {
     "name": "stdout",
     "output_type": "stream",
     "text": [
      "\"He's sad\"\n"
     ]
    }
   ],
   "source": [
    "# 같은 종류의 따옴표 내부에서 문자 따옴표를 쓸 때는\n",
    "# 따옴표 왼쪽에 \\를 붙여 해당 따옴표가 여닫는 용도로 쓰이지 않았음을 보여줘도 됩니다.\n",
    "b = \"\\\"He's sad\\\"\"\n",
    "print(b)\n"
   ]
  },
  {
   "cell_type": "code",
   "execution_count": 19,
   "id": "2634bc23",
   "metadata": {},
   "outputs": [
    {
     "name": "stdout",
     "output_type": "stream",
     "text": [
      "aaaaaaaaaaaaaaaaaaaaaaaaaaaaaaaaaaaaaaaaaaaaaaaaaaaaaaaaaaaaaaaaaaaaaaaaaaaaaaaaaaaaaaaaaaaaaaaaaaaaaaaaaaaaaaaaaaaaaaaaaaaaaaaaaaaaaaaaaaaaaaaaaaaaaaaaaaaaaaaaaaaaaaaaaaaaa\n"
     ]
    }
   ],
   "source": [
    "# 만약 문자열이 너무 길어서 보는데 불편한 경우, \\만 써 주고 엔터로 줄을 넘기면\n",
    "# 표기상으로는 두 줄이지만 실제 개념적으로는 한 줄로 인식되는 문자열이 됩니다.\n",
    "c = 'aaaaaaaaaaaaaaaaaaaaaaaaaaaaaaa\\\n",
    "aaaaaaaaaaaaaaaaaaaaaaaaaaaaaaaaaaaaa\\\n",
    "aaaaaaaaaaaaaaaaaaaaaaaaaaaaaaaaaaaaaa\\\n",
    "aaaaaaaaaaaaaaaaaaaaaaaaaaaaaaaaaaaaaaa\\\n",
    "aaaaaaaaaaaaaaaaaaaaaaaaaaaa'\n",
    "print(c)"
   ]
  },
  {
   "cell_type": "markdown",
   "id": "97fd225d",
   "metadata": {},
   "source": [
    "# <<연습문제>>\n",
    "\n",
    "### 1. 아래와 같은 여러 줄의 문장을 문자열로 만들어서 lines라는 변수에 할당하세요\n",
    "\n",
    "> 파이썬도 배우고\n",
    "\n",
    "> 장고도 배우고\n",
    "\n",
    "> 할게 너무 많아\n",
    "    \n",
    "    방법1) 여러 줄 문자열 활용하기 (lines 변수에 할당)\n",
    "    방법2) 한 줄 문자열 내부에서 \\n 사이사이에 활용하기. (line 변수에 할당)"
   ]
  },
  {
   "cell_type": "code",
   "execution_count": 24,
   "id": "fb13ec9e",
   "metadata": {},
   "outputs": [
    {
     "name": "stdout",
     "output_type": "stream",
     "text": [
      "파이썬도 배우고\n",
      "장고도 배우고\n",
      "할게 너무 많아\n"
     ]
    }
   ],
   "source": [
    "lines = \"파이썬도 배우고\\n장고도 배우고\\n할게 너무 많아\"\n",
    "print(lines)"
   ]
  },
  {
   "cell_type": "code",
   "execution_count": 23,
   "id": "d96fb462",
   "metadata": {},
   "outputs": [
    {
     "name": "stdout",
     "output_type": "stream",
     "text": [
      "파이썬도 배우고\n",
      "장고도 배우고\n",
      "할게 너무 많아\n"
     ]
    }
   ],
   "source": [
    "lines = \"\"\"파이썬도 배우고\n",
    "장고도 배우고\n",
    "할게 너무 많아\"\"\"\n",
    "print(lines)"
   ]
  },
  {
   "cell_type": "markdown",
   "id": "45ca7585",
   "metadata": {},
   "source": [
    "## >연산하기\n",
    "### 1) 산술연산자 : 문자, 술자를 함께 연산하기 위한 문법 기호\n",
    "\n",
    "- 문자와 문자를 연결\n",
    "- 동일한 문자를 반복해서 연결"
   ]
  },
  {
   "cell_type": "code",
   "execution_count": 25,
   "id": "33e3fdfa",
   "metadata": {},
   "outputs": [
    {
     "data": {
      "text/plain": [
       "'가나'"
      ]
     },
     "execution_count": 25,
     "metadata": {},
     "output_type": "execute_result"
    }
   ],
   "source": [
    "# 문자와 문자를 연결 : + \n",
    "\"가\" + \"나\""
   ]
  },
  {
   "cell_type": "code",
   "execution_count": 29,
   "id": "8535740f",
   "metadata": {},
   "outputs": [
    {
     "data": {
      "text/plain": [
       "'가 나'"
      ]
     },
     "execution_count": 29,
     "metadata": {},
     "output_type": "execute_result"
    }
   ],
   "source": [
    "# 1. 문자열 자체에 공백 추가하기('가 나' 로 출력되게 만들기)\n",
    "'가 ' + '나'\n",
    "'가' + ' ' + '나'"
   ]
  },
  {
   "cell_type": "code",
   "execution_count": 30,
   "id": "d3c8cb58",
   "metadata": {},
   "outputs": [
    {
     "ename": "TypeError",
     "evalue": "can only concatenate str (not \"int\") to str",
     "output_type": "error",
     "traceback": [
      "\u001b[1;31m---------------------------------------------------------------------------\u001b[0m",
      "\u001b[1;31mTypeError\u001b[0m                                 Traceback (most recent call last)",
      "Input \u001b[1;32mIn [30]\u001b[0m, in \u001b[0;36m<cell line: 3>\u001b[1;34m()\u001b[0m\n\u001b[0;32m      1\u001b[0m \u001b[38;5;66;03m# 파이썬의 더하기는 양변 자료가 같거나 논리적으로 비슷하다고 인정되어야 함\u001b[39;00m\n\u001b[0;32m      2\u001b[0m \u001b[38;5;66;03m# 2.. 문자 + 숫자 = Error\u001b[39;00m\n\u001b[1;32m----> 3\u001b[0m \u001b[38;5;124;43m'\u001b[39;49m\u001b[38;5;124;43m가\u001b[39;49m\u001b[38;5;124;43m'\u001b[39;49m\u001b[43m \u001b[49m\u001b[38;5;241;43m+\u001b[39;49m\u001b[43m \u001b[49m\u001b[38;5;241;43m1\u001b[39;49m\n",
      "\u001b[1;31mTypeError\u001b[0m: can only concatenate str (not \"int\") to str"
     ]
    }
   ],
   "source": [
    "# 파이썬의 더하기는 양변 자료가 같거나 논리적으로 비슷하다고 인정되어야 함(Java, Java script 가능)\n",
    "# 2.. 문자 + 숫자 = Error\n",
    "'가' + 1"
   ]
  },
  {
   "cell_type": "code",
   "execution_count": 31,
   "id": "f451bcb7",
   "metadata": {},
   "outputs": [
    {
     "data": {
      "text/plain": [
       "'abcabcabc'"
      ]
     },
     "execution_count": 31,
     "metadata": {},
     "output_type": "execute_result"
    }
   ],
   "source": [
    "# 3. 문자를 여러 번 반복하기 : *\n",
    "# 동일한 문자열을 여러 번 반복 연결시켜줌\n",
    "'abc' * 3\n",
    "# 'abc' + 'abc' + 'abc'"
   ]
  },
  {
   "cell_type": "code",
   "execution_count": 32,
   "id": "76b2d196",
   "metadata": {},
   "outputs": [
    {
     "ename": "TypeError",
     "evalue": "can't multiply sequence by non-int of type 'str'",
     "output_type": "error",
     "traceback": [
      "\u001b[1;31m---------------------------------------------------------------------------\u001b[0m",
      "\u001b[1;31mTypeError\u001b[0m                                 Traceback (most recent call last)",
      "Input \u001b[1;32mIn [32]\u001b[0m, in \u001b[0;36m<cell line: 2>\u001b[1;34m()\u001b[0m\n\u001b[0;32m      1\u001b[0m \u001b[38;5;66;03m# 문자 + 문자 = Error\u001b[39;00m\n\u001b[1;32m----> 2\u001b[0m \u001b[38;5;124;43m'\u001b[39;49m\u001b[38;5;124;43mabc\u001b[39;49m\u001b[38;5;124;43m'\u001b[39;49m\u001b[43m \u001b[49m\u001b[38;5;241;43m*\u001b[39;49m\u001b[43m \u001b[49m\u001b[38;5;124;43m'\u001b[39;49m\u001b[38;5;124;43ma\u001b[39;49m\u001b[38;5;124;43m'\u001b[39;49m\n",
      "\u001b[1;31mTypeError\u001b[0m: can't multiply sequence by non-int of type 'str'"
     ]
    }
   ],
   "source": [
    "# 문자 + 문자 = Error\n",
    "'abc' * 'a'"
   ]
  },
  {
   "cell_type": "markdown",
   "id": "d55a1aa3",
   "metadata": {},
   "source": [
    "### 2) 비교연산자 : 문자의 크기를 비교하기 위한 문법 기호\n",
    "\n",
    "> 문자의 비교\n",
    "* 대문자 Vs 소문자 : 대문자 < 소문자 크기가 더 크다.\n",
    "* 알파벳 : 알파벳 순서가 뒤에 있을수록 크기가 더 크다.\n",
    "* 문자 길이 : 문자의 길이가 길 수록 크기가 더 크다."
   ]
  },
  {
   "cell_type": "markdown",
   "id": "0e463992",
   "metadata": {},
   "source": [
    "### 컴퓨터는 숫자를 문자화 한다. \n",
    "* A = 65 \n",
    "  B = 66 \n",
    "  C = 67 \n",
    "  a = 97\n",
    "* 0 = 48\n",
    "* ' ' = 32\n",
    "* null = 0"
   ]
  },
  {
   "cell_type": "code",
   "execution_count": 33,
   "id": "db5c1f8e",
   "metadata": {},
   "outputs": [
    {
     "data": {
      "text/plain": [
       "True"
      ]
     },
     "execution_count": 33,
     "metadata": {},
     "output_type": "execute_result"
    }
   ],
   "source": [
    "# 대문자 vs 소문자 : 비교연산자 (==, !=, <, >)\n",
    "'A' < 'a'"
   ]
  },
  {
   "cell_type": "code",
   "execution_count": 37,
   "id": "652365e1",
   "metadata": {},
   "outputs": [
    {
     "data": {
      "text/plain": [
       "True"
      ]
     },
     "execution_count": 37,
     "metadata": {},
     "output_type": "execute_result"
    }
   ],
   "source": [
    "# 문자열을 대상으로 할 때에는 무조건 첫 글자끼리만 비교한다.\n",
    "# 문자열의 길이는 실제 크기 비교에 영향을 미치지 않는다.\n",
    "# 만약 맨 앞글자가 같다면 다음 글자가 비교의 대상이 됩니다.\n",
    "'b' < 'bUS'"
   ]
  },
  {
   "cell_type": "code",
   "execution_count": 38,
   "id": "5381b2dc",
   "metadata": {},
   "outputs": [
    {
     "data": {
      "text/plain": [
       "True"
      ]
     },
     "execution_count": 38,
     "metadata": {},
     "output_type": "execute_result"
    }
   ],
   "source": [
    "# 영문자와 영문자 이외의 다른 문자간 비교는 무조건 영문자가 작게 나온다\n",
    "# ascii code Vs unicode\n",
    "'B' < '가'"
   ]
  },
  {
   "cell_type": "code",
   "execution_count": 39,
   "id": "5dd9ff47",
   "metadata": {},
   "outputs": [
    {
     "data": {
      "text/plain": [
       "44032"
      ]
     },
     "execution_count": 39,
     "metadata": {},
     "output_type": "execute_result"
    }
   ],
   "source": [
    "# 문자에 배정된 코드값을 확인하는 방법\n",
    "# ord('확인할 문자') 를 입력시 해당 문자의 코드가 나옵니다.\n",
    "ord('가')"
   ]
  },
  {
   "cell_type": "code",
   "execution_count": 40,
   "id": "3cdd94f6",
   "metadata": {},
   "outputs": [
    {
     "data": {
      "text/plain": [
       "36"
      ]
     },
     "execution_count": 40,
     "metadata": {},
     "output_type": "execute_result"
    }
   ],
   "source": [
    "# 해당 문자열이 몇 글자인지는 len(문자열) 으로 직어서 확인 가능합니다.\n",
    "len('dkdjkfjkjkjdkjemdmdkdjsksjdkdjfkdjfk')"
   ]
  },
  {
   "cell_type": "markdown",
   "id": "6f72560d",
   "metadata": {},
   "source": [
    "# >인덱스\n",
    "- 아이템(대상이 가지고 있는 최소 단위의 값)의 위치를 나타내는 고유한 번호\n",
    "- 첫 번재 위치는 0부터 시작\n",
    "- 마지막 위치는 -1부터 시작\n",
    "\n",
    "### 1) 인덱싱(indexing) : 특정 위치의 하나의 아이템에 접근하기\n",
    "\n",
    "- 인덱싱 문법기호 : 객체[인덱스번호]"
   ]
  },
  {
   "cell_type": "code",
   "execution_count": 41,
   "id": "216941c5",
   "metadata": {},
   "outputs": [],
   "source": [
    "# banana 라는 문자열에 대해 인덱싱\n",
    "text = 'banana'"
   ]
  },
  {
   "cell_type": "code",
   "execution_count": 42,
   "id": "29fab92f",
   "metadata": {},
   "outputs": [
    {
     "data": {
      "text/plain": [
       "'b'"
      ]
     },
     "execution_count": 42,
     "metadata": {},
     "output_type": "execute_result"
    }
   ],
   "source": [
    "# banana라는 문자열에서 첫 번째 아이템 = 0번째 인덱스번호로 접근\n",
    "# 인덱싱 문법 : 객체 (대상 : 값, 자료형)[인덱스번호]\n",
    "text[0]"
   ]
  },
  {
   "cell_type": "code",
   "execution_count": 48,
   "id": "1379c192",
   "metadata": {},
   "outputs": [
    {
     "data": {
      "text/plain": [
       "'a'"
      ]
     },
     "execution_count": 48,
     "metadata": {},
     "output_type": "execute_result"
    }
   ],
   "source": [
    "# 마지막 요소인 a에 접근\n",
    "text[-1] #text[5]"
   ]
  },
  {
   "cell_type": "markdown",
   "id": "2fc72dd6",
   "metadata": {},
   "source": [
    "### 2) 슬라이싱 : 연속된 범위의 여러 아이템에 접근\n",
    "\n",
    "* 대상객체[처음인덱스:마지막인덱스(간격)]\n",
    "* 처음 인덱스 번호는 포함(n부터~)\n",
    "* 마지막 인덱스번호는 포함하지 않음(~ n-1 까지)\n",
    "* 간격조정은 할 수도 있고 하지 않을수도 있음(기본 1식 증가)"
   ]
  },
  {
   "cell_type": "code",
   "execution_count": 49,
   "id": "91c0bab9",
   "metadata": {},
   "outputs": [],
   "source": [
    "# 문자열 생성\n",
    "text = \"hello python world\""
   ]
  },
  {
   "cell_type": "code",
   "execution_count": 52,
   "id": "04486f36",
   "metadata": {},
   "outputs": [
    {
     "data": {
      "text/plain": [
       "'hello python'"
      ]
     },
     "execution_count": 52,
     "metadata": {},
     "output_type": "execute_result"
    }
   ],
   "source": [
    "# 처음부터 특정 위치까지 : ~python\n",
    "# 처음 인덱스 : 0\n",
    "# 마지막 인덱스 : ~7(뒤에서 7번째까지 가져와야 하므로 실제로는 ~6까지를 타겟으로) 마지막번호 + 1\n",
    "# 간격 : 기본값(1)\n",
    "#text[0:-6]\n",
    "text[0:12]"
   ]
  },
  {
   "cell_type": "code",
   "execution_count": 53,
   "id": "07181dee",
   "metadata": {},
   "outputs": [
    {
     "data": {
      "text/plain": [
       "'hello python'"
      ]
     },
     "execution_count": 53,
     "metadata": {},
     "output_type": "execute_result"
    }
   ],
   "source": [
    "# 첫 인덱스가 0이므로 스타트를 끊는다면 생략해도 됩니다.\n",
    "text[:12]"
   ]
  },
  {
   "cell_type": "code",
   "execution_count": 56,
   "id": "06ed8333",
   "metadata": {},
   "outputs": [
    {
     "data": {
      "text/plain": [
       "'python'"
      ]
     },
     "execution_count": 56,
     "metadata": {},
     "output_type": "execute_result"
    }
   ],
   "source": [
    "# 특정 위치부터 마지막 아이템까지 : python\n",
    "# 처음 인덱스 : 6\n",
    "# 마지막 인덱스 : 11 or -7\n",
    "# 간격 : 기본값(1)\n",
    "text[6:-6]"
   ]
  },
  {
   "cell_type": "code",
   "execution_count": 57,
   "id": "eee22b73",
   "metadata": {},
   "outputs": [
    {
     "data": {
      "text/plain": [
       "'hello python world'"
      ]
     },
     "execution_count": 57,
     "metadata": {},
     "output_type": "execute_result"
    }
   ],
   "source": [
    "# 전체 범위 지정 : 처음 인덱스와 마지막 인덱스를 모두 쓰지 않으면 전체지점\n",
    "# 처음 인덱스 기본값 : 0 자동 입력\n",
    "# 마지막 인덱스 기본값 : 마지막까지로 자동 입력\n",
    "text[:]"
   ]
  },
  {
   "cell_type": "code",
   "execution_count": 59,
   "id": "652aac15",
   "metadata": {},
   "outputs": [
    {
     "data": {
      "text/plain": [
       "'hlopto ol'"
      ]
     },
     "execution_count": 59,
     "metadata": {},
     "output_type": "execute_result"
    }
   ],
   "source": [
    "# 전체 범위 지정 + 간격을 넣었을때\n",
    "text[::2]"
   ]
  },
  {
   "cell_type": "code",
   "execution_count": 60,
   "id": "dd52e4b7",
   "metadata": {},
   "outputs": [
    {
     "data": {
      "text/plain": [
       "'dlrow nohtyp olleh'"
      ]
     },
     "execution_count": 60,
     "metadata": {},
     "output_type": "execute_result"
    }
   ],
   "source": [
    "# 간격을 음수로 주면 뒤에서부터 셉니다.\n",
    "text[ : :-1]"
   ]
  },
  {
   "cell_type": "markdown",
   "id": "4340ca3e",
   "metadata": {},
   "source": [
    "## > 연습문제\n",
    "\n",
    "### 20221005미세먼지양호함\n",
    "#### 위의 문장을 weather 변수에 저장한 다음\n",
    "#### 날짜는 date 변수에 슬라이싱으로 받아오고,\n",
    "#### dust 변수에 미세먼지 정도를 슬라이싱으로 받아오도록 만들어서 출력해주세요.\n",
    "\n",
    "출력양식 : <br>\n",
    "날짜 : 20221005\n",
    "날씨 : 미세먼지양호함"
   ]
  },
  {
   "cell_type": "code",
   "execution_count": 73,
   "id": "5bde98f8",
   "metadata": {},
   "outputs": [],
   "source": [
    "weather = '20221005미세먼지양호함'\n",
    "date = weather[:8]\n",
    "dust = weather[8:16]"
   ]
  },
  {
   "cell_type": "code",
   "execution_count": 79,
   "id": "e6bbea60",
   "metadata": {},
   "outputs": [
    {
     "name": "stdout",
     "output_type": "stream",
     "text": [
      "날짜 20221005\n",
      "날씨 미세먼지양호함\n"
     ]
    }
   ],
   "source": [
    "print('날짜', date)\n",
    "print('날씨 ' + dust)"
   ]
  },
  {
   "cell_type": "markdown",
   "id": "723e69a7",
   "metadata": {},
   "source": [
    "# > 포매팅(Formatting)\n",
    "\n",
    "특정 값만 바뀌고 일정한 형식을 가지는 문자열을 작성할 수 있는 기법"
   ]
  },
  {
   "cell_type": "markdown",
   "id": "62c8efed",
   "metadata": {},
   "source": [
    "### % 포매팅\n",
    "\n",
    "    - 데이터 타입에 따른 분류 : 정수, 실수, 문자\n",
    "    - 옵션 : 문자열 길이, 표현할 아이템 개수, 공백\n",
    "    \n",
    "### 1) 숫자 값 대입"
   ]
  },
  {
   "cell_type": "code",
   "execution_count": null,
   "id": "08b7db9a",
   "metadata": {},
   "outputs": [],
   "source": [
    "# 1. 가변자료가 들어갈 자리( 땡땡...에 해당하는)에 구멍(%자료형)을 낸다.\n",
    "# 2. 구멍이 뚫린 문자열 뒤에 %로 연결한 다음 집어넣을 값을 적는다."
   ]
  },
  {
   "cell_type": "code",
   "execution_count": 80,
   "id": "ed2eb773",
   "metadata": {},
   "outputs": [
    {
     "data": {
      "text/plain": [
       "'오늘은 31일 입니다'"
      ]
     },
     "execution_count": 80,
     "metadata": {},
     "output_type": "execute_result"
    }
   ],
   "source": [
    "# 정수 값 포매팅 : 정수(int) -> %d\n",
    "'오늘은 %d일 입니다' % 31"
   ]
  },
  {
   "cell_type": "code",
   "execution_count": 81,
   "id": "b0cf3a88",
   "metadata": {},
   "outputs": [
    {
     "data": {
      "text/plain": [
       "'오늘은 5일 입니다.'"
      ]
     },
     "execution_count": 81,
     "metadata": {},
     "output_type": "execute_result"
    }
   ],
   "source": [
    "# 정수 자리의 의미 : 지금 집어넣은 자료를 정수로 변환해 출력해주세요 라는 의미\n",
    "# 실수를 제공하면, 정수로 강제로 바꿔서 출력합니다.(소수점 아래를 버림, 반올림 아님)\n",
    "'오늘은 %d일 입니다.' %5.7"
   ]
  },
  {
   "cell_type": "code",
   "execution_count": 82,
   "id": "3f2ec6a0",
   "metadata": {},
   "outputs": [
    {
     "data": {
      "text/plain": [
       "'15.000000 표기'"
      ]
     },
     "execution_count": 82,
     "metadata": {},
     "output_type": "execute_result"
    }
   ],
   "source": [
    "# 실수(float)값 포매팅\n",
    "# %f를 이용하여 값에 대한 구멍을 낸다.\n",
    "# %f는 기본적으로 소수점 6자리까지 표현\n",
    "'%f 표기' % 15"
   ]
  },
  {
   "cell_type": "code",
   "execution_count": 83,
   "id": "17fc8781",
   "metadata": {},
   "outputs": [
    {
     "data": {
      "text/plain": [
       "'1.123457 표기'"
      ]
     },
     "execution_count": 83,
     "metadata": {},
     "output_type": "execute_result"
    }
   ],
   "source": [
    "# 실수값 포매팅 2 : %f에 실수 적용시\n",
    "# 소수점 아래 7자리에서 반올림이 일어납니다.\n",
    "'%f 표기' % 1.123456789"
   ]
  },
  {
   "cell_type": "code",
   "execution_count": 85,
   "id": "5bc6b410",
   "metadata": {},
   "outputs": [
    {
     "data": {
      "text/plain": [
       "'1.123 표기'"
      ]
     },
     "execution_count": 85,
     "metadata": {},
     "output_type": "execute_result"
    }
   ],
   "source": [
    "# 옵션 : 소수점 아래 자리를 몇 자리까지 출력할지 정할 수 있음\n",
    "# %0.nf : 소수점 아래 n자리까지만 표현하는 실수\n",
    "'%0.3f 표기' % 1.123456789"
   ]
  },
  {
   "cell_type": "code",
   "execution_count": 89,
   "id": "866bfbbe",
   "metadata": {},
   "outputs": [
    {
     "data": {
      "text/plain": [
       "'오늘은 10월 5일 입니다.'"
      ]
     },
     "execution_count": 89,
     "metadata": {},
     "output_type": "execute_result"
    }
   ],
   "source": [
    "# 가변자료를 2개 이상 넣는 케이스\n",
    "# 집어넣는 값은 왼쪽부터 하나씩 전달됨\n",
    "# 2개 이상을 집어넣는 경우는 % (첫 번재 값, 두 번째 값, ...) 과 같이 괄호로 전달한다.\n",
    "'오늘은 %d월 %d일 입니다.' % (10,5)"
   ]
  },
  {
   "cell_type": "code",
   "execution_count": 90,
   "id": "92774cef",
   "metadata": {},
   "outputs": [
    {
     "ename": "TypeError",
     "evalue": "%d format: a number is required, not str",
     "output_type": "error",
     "traceback": [
      "\u001b[1;31m---------------------------------------------------------------------------\u001b[0m",
      "\u001b[1;31mTypeError\u001b[0m                                 Traceback (most recent call last)",
      "Input \u001b[1;32mIn [90]\u001b[0m, in \u001b[0;36m<cell line: 2>\u001b[1;34m()\u001b[0m\n\u001b[0;32m      1\u001b[0m \u001b[38;5;66;03m# %d, %f에 숫자가 아닌 자료를 넣으면 에러 발생\u001b[39;00m\n\u001b[1;32m----> 2\u001b[0m \u001b[38;5;124;43m'\u001b[39;49m\u001b[38;5;132;43;01m%d\u001b[39;49;00m\u001b[38;5;124;43m'\u001b[39;49m\u001b[43m \u001b[49m\u001b[38;5;241;43m%\u001b[39;49m\u001b[43m \u001b[49m\u001b[38;5;124;43m'\u001b[39;49m\u001b[38;5;124;43m1\u001b[39;49m\u001b[38;5;124;43m'\u001b[39;49m\n",
      "\u001b[1;31mTypeError\u001b[0m: %d format: a number is required, not str"
     ]
    }
   ],
   "source": [
    "# %d, %f에 숫자가 아닌 자료를 넣으면 에러 발생\n",
    "'%d' % '1'"
   ]
  },
  {
   "cell_type": "markdown",
   "id": "634092bd",
   "metadata": {},
   "source": [
    "# 2) 문자 대입\n",
    "- %s로 구멍 뚫기\n",
    "- 집어넣는 값에 대해서는 제한이 없다\n",
    "- 만능 포매팅"
   ]
  },
  {
   "cell_type": "code",
   "execution_count": 92,
   "id": "c8c44964",
   "metadata": {},
   "outputs": [
    {
     "data": {
      "text/plain": [
       "'나정민님 접속을 환영합니다.'"
      ]
     },
     "execution_count": 92,
     "metadata": {},
     "output_type": "execute_result"
    }
   ],
   "source": [
    "# 집어넣는 값 : 문자 타입\n",
    "'%s님 접속을 환영합니다.' % '나정민'"
   ]
  },
  {
   "cell_type": "code",
   "execution_count": 93,
   "id": "86578c27",
   "metadata": {},
   "outputs": [
    {
     "data": {
      "text/plain": [
       "'100, 숫자도 입력 가능'"
      ]
     },
     "execution_count": 93,
     "metadata": {},
     "output_type": "execute_result"
    }
   ],
   "source": [
    "# 문자 이외의 타입도 가능\n",
    "'%s, 숫자도 입력 가능' % 100"
   ]
  },
  {
   "cell_type": "markdown",
   "id": "bce5b485",
   "metadata": {},
   "source": [
    "## > 문자열 내장함수* = 문자열 메서드\n",
    "    └≫ 내장함수 : 특정 데이터 타입이 자체적으로 가지고 있는 속성으로 존재하는 함수\n",
    "    └≫ 문법 : 변수.함수명()\n",
    "* count( ) : 특정 문자의 개수\n",
    "* find( ) :특정 문자의 인덱스 번호(위치)\n",
    "* join( ) : 특정 기호를 문자열 아이템 사이에 입력\n",
    "* upper( ) : 문자열을 대문자로 변경\n",
    "* lower( ) : 문자열을 소문자로 변경\n",
    "* capitalize( ) : 문자열의 첫 글자를 대문자로\n",
    "* swapcase( ) : 대문자는 소문자로, 소문자는 대문자로 전환\n",
    "* lstrip( ) / rstrip( ) / strip( ) : 좌 / 우 / 앞뒤 공백(기본) 및 특정 문자 지우기\n",
    "* replace( ) : 기존 문자를 새로운 문자로 바꾸기\n",
    "* split( ) : 특정 기호를 기준으로 문자열을 아이템 단위로 나누어 리스트로 반환\n",
    "* center( ) : 문자열 길이를 지정하여 대상 문자열을 중앙 정렬\n",
    "* ljust( ) : 문자열 길이를 지정하여 대상 문자열을 왼쪽 정렬\n",
    "* rjust( ) : 문자열 길이를 지정하여 대상 문자열을 오른쪽 정렬"
   ]
  },
  {
   "cell_type": "code",
   "execution_count": 95,
   "id": "0712b6cb",
   "metadata": {},
   "outputs": [],
   "source": [
    "# 문자열 생성\n",
    "text = 'tomato juice'"
   ]
  },
  {
   "cell_type": "code",
   "execution_count": 96,
   "id": "a1d6f3b6",
   "metadata": {},
   "outputs": [
    {
     "data": {
      "text/plain": [
       "1"
      ]
     },
     "execution_count": 96,
     "metadata": {},
     "output_type": "execute_result"
    }
   ],
   "source": [
    "# count()\n",
    "# text 문자열에서의 a의 갯수\n",
    "text.count('a')"
   ]
  },
  {
   "cell_type": "code",
   "execution_count": 97,
   "id": "62e2d3cd",
   "metadata": {},
   "outputs": [
    {
     "data": {
      "text/plain": [
       "2"
      ]
     },
     "execution_count": 97,
     "metadata": {},
     "output_type": "execute_result"
    }
   ],
   "source": [
    "# .count() 는 2글자 이상에 대해서도 집계가 가능합니다.\n",
    "text.count('to')"
   ]
  },
  {
   "cell_type": "code",
   "execution_count": 100,
   "id": "5f2bcbce",
   "metadata": {},
   "outputs": [
    {
     "data": {
      "text/plain": [
       "4"
      ]
     },
     "execution_count": 100,
     "metadata": {},
     "output_type": "execute_result"
    }
   ],
   "source": [
    "# .find() : 특정 값의 인덱스 번호를 반환\n",
    "# txt 문자열에서의 a의 인덱스 번호\n",
    "#.find('찾을자료', 시작번호) 입력으로 0번이 아닌 이후 번호를 시작점으로 지정 가능\n",
    "#text.find('j') #text.find('to') \n",
    "text.find('to', 1)"
   ]
  },
  {
   "cell_type": "code",
   "execution_count": 101,
   "id": "76ee3ae4",
   "metadata": {},
   "outputs": [
    {
     "data": {
      "text/plain": [
       "'TOMATO JUICE'"
      ]
     },
     "execution_count": 101,
     "metadata": {},
     "output_type": "execute_result"
    }
   ],
   "source": [
    "# .upper()\n",
    "# 소문자를 전부 대문자로(대문자는 변동 없음)\n",
    "# 변경된 결과를 시뮬레이션 해서 보여줌 (원본자료는 대문자를 되지 않음)\n",
    "text.upper()"
   ]
  },
  {
   "cell_type": "code",
   "execution_count": 102,
   "id": "147f6a87",
   "metadata": {},
   "outputs": [
    {
     "data": {
      "text/plain": [
       "'tomato juice'"
      ]
     },
     "execution_count": 102,
     "metadata": {},
     "output_type": "execute_result"
    }
   ],
   "source": [
    "text"
   ]
  },
  {
   "cell_type": "code",
   "execution_count": 103,
   "id": "3004bbe0",
   "metadata": {},
   "outputs": [
    {
     "data": {
      "text/plain": [
       "'TOMATO JUICE'"
      ]
     },
     "execution_count": 103,
     "metadata": {},
     "output_type": "execute_result"
    }
   ],
   "source": [
    "# lower()\n",
    "# 대문자를 전부 소문자로(소문자는 변동 없음)\n",
    "text2 = text.upper()\n",
    "text2"
   ]
  },
  {
   "cell_type": "code",
   "execution_count": 104,
   "id": "557a1a4e",
   "metadata": {},
   "outputs": [
    {
     "data": {
      "text/plain": [
       "'TOMATO JUICE'"
      ]
     },
     "execution_count": 104,
     "metadata": {},
     "output_type": "execute_result"
    }
   ],
   "source": [
    "text2"
   ]
  },
  {
   "cell_type": "code",
   "execution_count": 105,
   "id": "751cff57",
   "metadata": {},
   "outputs": [
    {
     "data": {
      "text/plain": [
       "'tomato juice'"
      ]
     },
     "execution_count": 105,
     "metadata": {},
     "output_type": "execute_result"
    }
   ],
   "source": [
    "text2.lower()"
   ]
  },
  {
   "cell_type": "code",
   "execution_count": 106,
   "id": "695dd611",
   "metadata": {},
   "outputs": [
    {
     "data": {
      "text/plain": [
       "'TOMATO JUICE'"
      ]
     },
     "execution_count": 106,
     "metadata": {},
     "output_type": "execute_result"
    }
   ],
   "source": [
    "text2"
   ]
  },
  {
   "cell_type": "code",
   "execution_count": 107,
   "id": "25c2a1ba",
   "metadata": {},
   "outputs": [],
   "source": [
    "text = '          123          123          '"
   ]
  },
  {
   "cell_type": "code",
   "execution_count": 108,
   "id": "ab83a881",
   "metadata": {},
   "outputs": [
    {
     "data": {
      "text/plain": [
       "'123          123          '"
      ]
     },
     "execution_count": 108,
     "metadata": {},
     "output_type": "execute_result"
    }
   ],
   "source": [
    "# .lstrip()\n",
    "# 문자열의 왼쪽에 잇는 공백 전부 제거(가운데는 제거 안함)\n",
    "# 시뮬레이션 결과만 보여줌(원본에 반영 X)\n",
    "text.lstrip()"
   ]
  },
  {
   "cell_type": "code",
   "execution_count": 109,
   "id": "af8da81b",
   "metadata": {},
   "outputs": [
    {
     "data": {
      "text/plain": [
       "'          123          123          '"
      ]
     },
     "execution_count": 109,
     "metadata": {},
     "output_type": "execute_result"
    }
   ],
   "source": [
    "text"
   ]
  },
  {
   "cell_type": "code",
   "execution_count": 110,
   "id": "22ce4317",
   "metadata": {},
   "outputs": [
    {
     "data": {
      "text/plain": [
       "'          123          123'"
      ]
     },
     "execution_count": 110,
     "metadata": {},
     "output_type": "execute_result"
    }
   ],
   "source": [
    "# .rstrip()\n",
    "text.rstrip()"
   ]
  },
  {
   "cell_type": "code",
   "execution_count": 112,
   "id": "123302a9",
   "metadata": {},
   "outputs": [
    {
     "data": {
      "text/plain": [
       "'123          123'"
      ]
     },
     "execution_count": 112,
     "metadata": {},
     "output_type": "execute_result"
    }
   ],
   "source": [
    "# .strip()\n",
    "# 양쪽 다 없애줌\n",
    "text.strip()"
   ]
  },
  {
   "cell_type": "code",
   "execution_count": 115,
   "id": "2a8b45f2",
   "metadata": {},
   "outputs": [
    {
     "data": {
      "text/plain": [
       "'          456          456          '"
      ]
     },
     "execution_count": 115,
     "metadata": {},
     "output_type": "execute_result"
    }
   ],
   "source": [
    "# replace(old, new)\n",
    "# 찾아바꾸기, 문자열 내에서 old에 해당하는 문자를 찾아 new로 싹 다 교체\n",
    "# 공백 찾아 없애기에 쓸 수 있음.\n",
    "# 역시 원본자료에는 영향을 미치지 않고 일시적으로 변경\n",
    "text.replace('123' , '456')"
   ]
  },
  {
   "cell_type": "code",
   "execution_count": 116,
   "id": "3dd85d3f",
   "metadata": {},
   "outputs": [
    {
     "data": {
      "text/plain": [
       "'          123          123          '"
      ]
     },
     "execution_count": 116,
     "metadata": {},
     "output_type": "execute_result"
    }
   ],
   "source": [
    "text"
   ]
  },
  {
   "cell_type": "code",
   "execution_count": 117,
   "id": "50925c70",
   "metadata": {},
   "outputs": [
    {
     "data": {
      "text/plain": [
       "'123123'"
      ]
     },
     "execution_count": 117,
     "metadata": {},
     "output_type": "execute_result"
    }
   ],
   "source": [
    "text.replace(' ', '')"
   ]
  },
  {
   "cell_type": "code",
   "execution_count": 118,
   "id": "50f955e2",
   "metadata": {},
   "outputs": [],
   "source": [
    "text2 = 'a b c'"
   ]
  },
  {
   "cell_type": "code",
   "execution_count": 119,
   "id": "40bbd850",
   "metadata": {},
   "outputs": [
    {
     "data": {
      "text/plain": [
       "['a', 'b', 'c']"
      ]
     },
     "execution_count": 119,
     "metadata": {},
     "output_type": "execute_result"
    }
   ],
   "source": [
    "# .split('기준')\n",
    "# 쪼개기\n",
    "# 기준 입력시 기준점을 기준으로 쪼개고\n",
    "# 입력 만 하면 ' ', \\n, \\t 등을 기준으로 쪼개줌\n",
    "text2.split()"
   ]
  },
  {
   "cell_type": "code",
   "execution_count": 120,
   "id": "5dca474b",
   "metadata": {},
   "outputs": [
    {
     "data": {
      "text/plain": [
       "['a ', ' c']"
      ]
     },
     "execution_count": 120,
     "metadata": {},
     "output_type": "execute_result"
    }
   ],
   "source": [
    "text2.split('b')"
   ]
  },
  {
   "cell_type": "code",
   "execution_count": 121,
   "id": "36bdb0ce",
   "metadata": {},
   "outputs": [],
   "source": [
    "# 두 글자 이상도 쪼개기의 기준이 될 수 있음\n",
    "text3 = 'a,b,c,ddes'"
   ]
  },
  {
   "cell_type": "code",
   "execution_count": 122,
   "id": "eadeaf5b",
   "metadata": {},
   "outputs": [
    {
     "data": {
      "text/plain": [
       "['a,b,c,', 's']"
      ]
     },
     "execution_count": 122,
     "metadata": {},
     "output_type": "execute_result"
    }
   ],
   "source": [
    "text3.split('dde')"
   ]
  },
  {
   "cell_type": "code",
   "execution_count": 123,
   "id": "70b1e2f7",
   "metadata": {},
   "outputs": [
    {
     "data": {
      "text/plain": [
       "'a,b,c'"
      ]
     },
     "execution_count": 123,
     "metadata": {},
     "output_type": "execute_result"
    }
   ],
   "source": [
    "# join()\n",
    "# 왼쪽에 있는 요소를 .join(자료)의\n",
    "# 자료 인덱스 사이사이에 입력해줌\n",
    "text = 'abc'\n",
    "\",\".join(text)"
   ]
  },
  {
   "cell_type": "code",
   "execution_count": 124,
   "id": "41f382e6",
   "metadata": {},
   "outputs": [],
   "source": [
    "# 마지막 인덱스 번호 가변적으로 구하기\n",
    "# len(문자열) - 1\n",
    "x= 'abcdefghijklnmopqrstuvwxyz'"
   ]
  },
  {
   "cell_type": "code",
   "execution_count": 125,
   "id": "195d89dc",
   "metadata": {},
   "outputs": [
    {
     "data": {
      "text/plain": [
       "26"
      ]
     },
     "execution_count": 125,
     "metadata": {},
     "output_type": "execute_result"
    }
   ],
   "source": [
    "# 26글자이므로 글자를 세줌\n",
    "len(x)"
   ]
  },
  {
   "cell_type": "code",
   "execution_count": 127,
   "id": "4b86e758",
   "metadata": {},
   "outputs": [
    {
     "data": {
      "text/plain": [
       "25"
      ]
     },
     "execution_count": 127,
     "metadata": {},
     "output_type": "execute_result"
    }
   ],
   "source": [
    "# 마지막 인덱스 번호는 0부터 시작이므로 길이-1\n",
    "len(x) - 1"
   ]
  },
  {
   "cell_type": "code",
   "execution_count": 128,
   "id": "6e16c7d6",
   "metadata": {},
   "outputs": [],
   "source": [
    "# x의 마지막 글자를 len()을 활용한 인덱싱으로 출력해보세요."
   ]
  },
  {
   "cell_type": "code",
   "execution_count": 134,
   "id": "578590f4",
   "metadata": {},
   "outputs": [
    {
     "data": {
      "text/plain": [
       "'z'"
      ]
     },
     "execution_count": 134,
     "metadata": {},
     "output_type": "execute_result"
    }
   ],
   "source": [
    "x[25]"
   ]
  },
  {
   "cell_type": "code",
   "execution_count": 135,
   "id": "f9a617bc",
   "metadata": {},
   "outputs": [
    {
     "data": {
      "text/plain": [
       "'z'"
      ]
     },
     "execution_count": 135,
     "metadata": {},
     "output_type": "execute_result"
    }
   ],
   "source": [
    "x[len(x)-1]"
   ]
  }
 ],
 "metadata": {
  "kernelspec": {
   "display_name": "Python 3 (ipykernel)",
   "language": "python",
   "name": "python3"
  },
  "language_info": {
   "codemirror_mode": {
    "name": "ipython",
    "version": 3
   },
   "file_extension": ".py",
   "mimetype": "text/x-python",
   "name": "python",
   "nbconvert_exporter": "python",
   "pygments_lexer": "ipython3",
   "version": "3.9.12"
  }
 },
 "nbformat": 4,
 "nbformat_minor": 5
}
