{
 "cells": [
  {
   "cell_type": "markdown",
   "id": "089139ba",
   "metadata": {},
   "source": [
    "# 별 찍기 문제 풀이\n",
    "\n",
    "### 기본 별 찍기\n",
    "\n",
    "★<br>\n",
    "★★<br>\n",
    "★★★<br>\n",
    "★★★★<br>\n",
    "\n",
    "위의 기본 형태 별찍기에 대해 풀이합니다."
   ]
  },
  {
   "cell_type": "code",
   "execution_count": 2,
   "id": "776c6a55",
   "metadata": {},
   "outputs": [
    {
     "name": "stdout",
     "output_type": "stream",
     "text": [
      "*\n",
      "**\n",
      "***\n",
      "****\n"
     ]
    }
   ],
   "source": [
    "# 중첩 없는 반복문으로 푸는 방법\n",
    "for i in range(1, 5):\n",
    "    print(\"*\" * i, end=\"\")\n",
    "    print()"
   ]
  },
  {
   "cell_type": "markdown",
   "id": "df53529c",
   "metadata": {},
   "source": [
    "\n",
    "★★★★<br>\n",
    "★★★★<br>\n",
    "★★★★<br>\n",
    "★★★★<br>"
   ]
  },
  {
   "cell_type": "code",
   "execution_count": 7,
   "id": "44acebe0",
   "metadata": {},
   "outputs": [
    {
     "name": "stdout",
     "output_type": "stream",
     "text": [
      "****\n",
      "****\n",
      "****\n",
      "****\n"
     ]
    }
   ],
   "source": [
    "for i in range(4):    # i는 줄바꿈 담당 print()\n",
    "    for j in range(4):    # j는 별 개수 담당\n",
    "        print(\"*\",end=\"\")\n",
    "    print()"
   ]
  },
  {
   "cell_type": "code",
   "execution_count": 8,
   "id": "5a71065e",
   "metadata": {},
   "outputs": [
    {
     "name": "stdout",
     "output_type": "stream",
     "text": [
      "*\n",
      "**\n",
      "***\n",
      "****\n"
     ]
    }
   ],
   "source": [
    "for i in range(1,5):    # i는 줄바꿈 담당 print()\n",
    "    for j in range(i):    # j는 별 개수 담당\n",
    "        print(\"*\", end=\"\")\n",
    "    print()"
   ]
  },
  {
   "cell_type": "markdown",
   "id": "f15164cd",
   "metadata": {},
   "source": [
    "### for 반복문 문제\n",
    "\n",
    "학생들의 점수가 저장되어 있는 리스트에서 50점 이상인 학생의 점수만 합한 결과를 출력하세요.\n",
    "\n",
    "[20, 55, 67,82, 45, 33, 90, 100,25]"
   ]
  },
  {
   "cell_type": "code",
   "execution_count": 25,
   "id": "89d8506e",
   "metadata": {},
   "outputs": [],
   "source": [
    "scores = [20, 55, 67, 82, 45, 33, 90, 87, 100, 25]"
   ]
  },
  {
   "cell_type": "code",
   "execution_count": 26,
   "id": "5666b72f",
   "metadata": {},
   "outputs": [
    {
     "name": "stdout",
     "output_type": "stream",
     "text": [
      "481\n"
     ]
    }
   ],
   "source": [
    "total = 0\n",
    "# 아래쪽에 반복문 정의\n",
    "for score in scores:\n",
    "    if(score >= 50):\n",
    "        total += score\n",
    "print(total)"
   ]
  },
  {
   "cell_type": "markdown",
   "id": "af123f22",
   "metadata": {},
   "source": [
    "# << 함수 >>\n",
    "반복적으로 사용하는 기능을 묶어서 함수로 정의하면 간편하게 사용할 수 있다.\n",
    "\n",
    "- 함수는 자료다.\n",
    "\n",
    "▶기본 문법\n",
    "   - def 함수이름(매개변수) :\n",
    "         \n",
    "         <수행할 내용1>\n",
    "         <수행할 내용2>\n",
    "         <수행할 내용3>\n",
    "          \n",
    "          return\n",
    "\n",
    "▶매개변수\n",
    "\n",
    "   - 함수 안에서 사용할 값을 전달하는 변수로 <수행할 내용> 문장에서 변수로 사용된다.\n",
    "   - 함수 정의문에서는 매개변수로서 선언되며 실제로 함수를 호출할 때는 인자값으로 전달된다.\n",
    "\n",
    "▶용어\n",
    "\n",
    "   - def : 함수를 정의할 때 사용하는 키워드\n",
    "   - return : 함수의 결과값을 반환하는 키워드\n",
    "   - 입력값 = 인수, 입력 인수, 인자\n",
    "   - 결과값 = 출력값, 리턴값, 돌려주는 값, 반환 값"
   ]
  },
  {
   "cell_type": "code",
   "execution_count": 27,
   "id": "b8936b8f",
   "metadata": {},
   "outputs": [],
   "source": [
    "# 기본적인 함수의 예제(완전한 실행문)\n",
    "def 디귿춤():\n",
    "    print(\"팔을 얼굴 앞으로\")\n",
    "    print(\"관절을 역으로 꺾고\")\n",
    "    print(\"디귿자 모양으로 만듭니다.\")"
   ]
  },
  {
   "cell_type": "code",
   "execution_count": 28,
   "id": "e658fade",
   "metadata": {},
   "outputs": [
    {
     "name": "stdout",
     "output_type": "stream",
     "text": [
      "팔을 얼굴 앞으로\n",
      "관절을 역으로 꺾고\n",
      "디귿자 모양으로 만듭니다.\n"
     ]
    }
   ],
   "source": [
    "print(\"팔을 얼굴 앞으로\")\n",
    "print(\"관절을 역으로 꺾고\")\n",
    "print(\"디귿자 모양으로 만듭니다.\")"
   ]
  },
  {
   "cell_type": "code",
   "execution_count": 29,
   "id": "9633cbb4",
   "metadata": {},
   "outputs": [
    {
     "name": "stdout",
     "output_type": "stream",
     "text": [
      "팔을 얼굴 앞으로\n",
      "관절을 역으로 꺾고\n",
      "디귿자 모양으로 만듭니다.\n"
     ]
    }
   ],
   "source": [
    "디귿춤()"
   ]
  },
  {
   "cell_type": "code",
   "execution_count": 31,
   "id": "5d14322b",
   "metadata": {},
   "outputs": [],
   "source": [
    "# 기본적인 함수의 예제(불완전한 실행문)\n",
    "def plus(a):\n",
    "    print(a + 1)"
   ]
  },
  {
   "cell_type": "code",
   "execution_count": 33,
   "id": "4f939b06",
   "metadata": {},
   "outputs": [
    {
     "name": "stdout",
     "output_type": "stream",
     "text": [
      "6\n",
      "함수 끝나면 실행\n"
     ]
    }
   ],
   "source": [
    "plus(5)\n",
    "print(\"함수 끝나면 실행\")"
   ]
  },
  {
   "cell_type": "code",
   "execution_count": 9,
   "id": "f8664d59",
   "metadata": {},
   "outputs": [
    {
     "name": "stdout",
     "output_type": "stream",
     "text": [
      "6\n",
      "함수 끝나면 실행\n",
      "20\n",
      "함수 2번째\n"
     ]
    }
   ],
   "source": [
    "# 기본적인 함수의 예제(불완전한 실행문)\n",
    "def plus(a):\n",
    "    print(a + 1)\n",
    "plus(5)\n",
    "print(\"함수 끝나면 실행\")\n",
    "plus(19)\n",
    "print(\"함수 2번째\")"
   ]
  },
  {
   "cell_type": "code",
   "execution_count": 34,
   "id": "5a720a5d",
   "metadata": {},
   "outputs": [
    {
     "ename": "NameError",
     "evalue": "name 'a' is not defined",
     "output_type": "error",
     "traceback": [
      "\u001b[1;31m---------------------------------------------------------------------------\u001b[0m",
      "\u001b[1;31mNameError\u001b[0m                                 Traceback (most recent call last)",
      "Input \u001b[1;32mIn [34]\u001b[0m, in \u001b[0;36m<cell line: 4>\u001b[1;34m()\u001b[0m\n\u001b[0;32m      1\u001b[0m \u001b[38;5;66;03m# 함수 내부에 선언된 변수는 함수 외부에서 호출할 수 없습니다.\u001b[39;00m\n\u001b[0;32m      2\u001b[0m \u001b[38;5;66;03m# 함수나 기타 블록 내부에 선언된 변수를 \"지역변수\" 라고 부릅니다.\u001b[39;00m\n\u001b[0;32m      3\u001b[0m \u001b[38;5;66;03m# 지역화폐가 해당 지역내에서만 통용되듯, 지역변수도 다른 지역에서 호출할 수 없습니다.\u001b[39;00m\n\u001b[1;32m----> 4\u001b[0m \u001b[38;5;28mprint\u001b[39m(\u001b[43ma\u001b[49m)\n",
      "\u001b[1;31mNameError\u001b[0m: name 'a' is not defined"
     ]
    }
   ],
   "source": [
    "# 함수 내부에 선언된 변수는 함수 외부에서 호출할 수 없습니다.\n",
    "# 함수나 기타 블록 내부에 선언된 변수를 \"지역변수\" 라고 부릅니다.\n",
    "# 지역화폐가 해당 지역내에서만 통용되듯, 지역변수도 다른 지역에서 호출할 수 없습니다.\n",
    "print(a)"
   ]
  },
  {
   "cell_type": "code",
   "execution_count": 35,
   "id": "279361a8",
   "metadata": {},
   "outputs": [
    {
     "name": "stdout",
     "output_type": "stream",
     "text": [
      "6\n",
      "None\n"
     ]
    }
   ],
   "source": [
    "# plus를 호출했을때 지정숫자 a +1이 콘솔에 찍힙니다.\n",
    "# print(plus(5)) => 몇이 찍힐까요?\n",
    "print(plus(5))"
   ]
  },
  {
   "cell_type": "code",
   "execution_count": 10,
   "id": "f5a33ff3",
   "metadata": {},
   "outputs": [
    {
     "name": "stdout",
     "output_type": "stream",
     "text": [
      "6\n"
     ]
    }
   ],
   "source": [
    "# return 구문은, 함수 내 마지막 지점에 사용할 수 있습니다.\n",
    "# return 구문이 실행되면, 함수가 종료되며 동시에 해당 함수의 결과값이\n",
    "# 호출한 위치에 할당됩니다.\n",
    "def plus2(a):\n",
    "    return a + 1\n",
    "print(plus2(5))"
   ]
  },
  {
   "cell_type": "markdown",
   "id": "dcd85904",
   "metadata": {},
   "source": [
    "### (참고) 매개변수와 인수\n",
    "\n",
    "#### 매개변수(parameter, 입력인자, 입력값)\n",
    "함수에 전달된 값을 저장하는 변수 / 함수를 선언할 때 정의하는 변수\n",
    "\n",
    "\n",
    "#### 인수 / 인자 (argument)\n",
    "함수를 호출(=사용)할 때 전달하는 입력 값"
   ]
  },
  {
   "cell_type": "code",
   "execution_count": null,
   "id": "f0903c41",
   "metadata": {},
   "outputs": [],
   "source": [
    "# 매개변수를 2개 이상 받는 케이스\n",
    "# sum_func 이라는 이름으로 함수를 선언해주세요\n",
    "# 이 함수는 num1, num2 2개의 변수를 입력받고\n",
    "# 둘을 합산한 값을 리턴합니다."
   ]
  },
  {
   "cell_type": "code",
   "execution_count": 11,
   "id": "515686cd",
   "metadata": {},
   "outputs": [],
   "source": [
    "def sum_func(num1, num2):\n",
    "    result = num1 + num2\n",
    "    return result"
   ]
  },
  {
   "cell_type": "code",
   "execution_count": 12,
   "id": "efe7f522",
   "metadata": {},
   "outputs": [
    {
     "data": {
      "text/plain": [
       "8"
      ]
     },
     "execution_count": 12,
     "metadata": {},
     "output_type": "execute_result"
    }
   ],
   "source": [
    "sum_func(3, 5)"
   ]
  },
  {
   "cell_type": "markdown",
   "id": "77dadefb",
   "metadata": {},
   "source": [
    "### 2. 매개변수 있는 함수\n",
    "\n",
    "- 인자 값을 전달 할 때 값만 입력하면 순서대로 매개변수에 할당된다.\n",
    "- 매개변수명을 지정하여 전달할 수 있다."
   ]
  },
  {
   "cell_type": "code",
   "execution_count": 58,
   "id": "6f1315e4",
   "metadata": {},
   "outputs": [],
   "source": [
    "# 매개변수가 3개인 함수를 설정해주세요.\n",
    "# 매개변수명 3개는 자율적으로 만들어주세요.\n",
    "# print()로 매개변수 3개가 뭐였는지 콘솔에 찍어준다음\n",
    "# result() 변수에 3개 합을 저장한 뒤 리턴합니다.\n",
    "# 함수명은 test1입니다.\n",
    "\n",
    "def test1 (a,b,c):\n",
    "    print(a, b, c)\n",
    "    result = a + b + c\n",
    "    return result"
   ]
  },
  {
   "cell_type": "code",
   "execution_count": 59,
   "id": "a134e7a1",
   "metadata": {},
   "outputs": [
    {
     "name": "stdout",
     "output_type": "stream",
     "text": [
      "1 2 3\n"
     ]
    },
    {
     "data": {
      "text/plain": [
       "6"
      ]
     },
     "execution_count": 59,
     "metadata": {},
     "output_type": "execute_result"
    }
   ],
   "source": [
    "test1(1,2,3)"
   ]
  },
  {
   "cell_type": "code",
   "execution_count": 60,
   "id": "6a2d737b",
   "metadata": {},
   "outputs": [
    {
     "name": "stdout",
     "output_type": "stream",
     "text": [
      "10 30 20\n"
     ]
    },
    {
     "data": {
      "text/plain": [
       "60"
      ]
     },
     "execution_count": 60,
     "metadata": {},
     "output_type": "execute_result"
    }
   ],
   "source": [
    "# 매개변수에 순서를 다르게 전달하고 싶다면 매개변수를 지목해 값을 대입한다.\n",
    "test1(c= 20, a=10, b=30)"
   ]
  },
  {
   "cell_type": "markdown",
   "id": "7e48f703",
   "metadata": {},
   "source": [
    "### 2-1. 매개변수 초기 값 설정\n",
    "\n",
    "- 함수 정의문에서 매개변수 값을 할당하면 초기 값으로 설정\n",
    "\n",
    "- 함수 호출 시 값을 입력하지 않으면 초기 값으로 사용\n",
    "\n",
    "- 초기화시키고 싶은 매개변수들을 항상 뒤쪽에 위치\n",
    "\n",
    "(참고) 포매팅함수에서 인덱스 번호, 변수명 사용했던 규칙과 유사"
   ]
  },
  {
   "cell_type": "code",
   "execution_count": 61,
   "id": "b7a28305",
   "metadata": {},
   "outputs": [],
   "source": [
    "# 디폴트값 선언을 사용한 예시\n",
    "def test2(a=1, b=2, c=3):\n",
    "    result = a + b + c \n",
    "    return result"
   ]
  },
  {
   "cell_type": "code",
   "execution_count": 62,
   "id": "b2456773",
   "metadata": {},
   "outputs": [
    {
     "data": {
      "text/plain": [
       "6"
      ]
     },
     "execution_count": 62,
     "metadata": {},
     "output_type": "execute_result"
    }
   ],
   "source": [
    "test2()"
   ]
  },
  {
   "cell_type": "code",
   "execution_count": 63,
   "id": "689ddf67",
   "metadata": {},
   "outputs": [
    {
     "data": {
      "text/plain": [
       "15"
      ]
     },
     "execution_count": 63,
     "metadata": {},
     "output_type": "execute_result"
    }
   ],
   "source": [
    "test2(10)"
   ]
  },
  {
   "cell_type": "code",
   "execution_count": 64,
   "id": "0729f136",
   "metadata": {},
   "outputs": [
    {
     "data": {
      "text/plain": [
       "33"
      ]
     },
     "execution_count": 64,
     "metadata": {},
     "output_type": "execute_result"
    }
   ],
   "source": [
    "test2(10, 20)"
   ]
  },
  {
   "cell_type": "code",
   "execution_count": 69,
   "id": "12a077af",
   "metadata": {},
   "outputs": [
    {
     "ename": "SyntaxError",
     "evalue": "invalid syntax (4227541443.py, line 2)",
     "output_type": "error",
     "traceback": [
      "\u001b[1;36m  Input \u001b[1;32mIn [69]\u001b[1;36m\u001b[0m\n\u001b[1;33m    def test3 (a=1, b=2, c=):\u001b[0m\n\u001b[1;37m                           ^\u001b[0m\n\u001b[1;31mSyntaxError\u001b[0m\u001b[1;31m:\u001b[0m invalid syntax\n"
     ]
    }
   ],
   "source": [
    "# 디폴트값 설정은 반드시 오른쪽 요소부터 지정한다.\n",
    "def test3 (a=1, b=2, c=):\n",
    "    result = a + b + c\n",
    "    return result"
   ]
  },
  {
   "cell_type": "markdown",
   "id": "bb7053f5",
   "metadata": {},
   "source": [
    "### 가변인자 리스트\n",
    "\n",
    "- 입력할 파라미터의 계수가 몇 개인지 모를때 사용함.\n",
    "- 파라미터명 왼쪽에 *을 붙인다."
   ]
  },
  {
   "cell_type": "code",
   "execution_count": 73,
   "id": "2e4da3f7",
   "metadata": {},
   "outputs": [],
   "source": [
    "def get_member_list(p1):\n",
    "    print(\"출석학생은 %s님 입니다.\" %p1)"
   ]
  },
  {
   "cell_type": "code",
   "execution_count": 76,
   "id": "d3691254",
   "metadata": {},
   "outputs": [
    {
     "name": "stdout",
     "output_type": "stream",
     "text": [
      "출석학생은 피카츄님 입니다.\n"
     ]
    }
   ],
   "source": [
    "get_member_list(\"피카츄\")"
   ]
  },
  {
   "cell_type": "code",
   "execution_count": 77,
   "id": "52ec2853",
   "metadata": {},
   "outputs": [],
   "source": [
    "def get_member_list2(p1,p2):\n",
    "    print(\"출석학생은 %s님, %s님 입니다.\" % (p1, p2))"
   ]
  },
  {
   "cell_type": "code",
   "execution_count": 80,
   "id": "77dda957",
   "metadata": {},
   "outputs": [
    {
     "name": "stdout",
     "output_type": "stream",
     "text": [
      "출석학생은 피카츄님, 라이츄님 입니다.\n"
     ]
    }
   ],
   "source": [
    "get_member_list2(\"피카츄\", \"라이츄\")"
   ]
  },
  {
   "cell_type": "code",
   "execution_count": 84,
   "id": "64fdc2c3",
   "metadata": {},
   "outputs": [],
   "source": [
    "def get_members(*stu):\n",
    "    print(stu)"
   ]
  },
  {
   "cell_type": "code",
   "execution_count": 87,
   "id": "1df61fb7",
   "metadata": {},
   "outputs": [
    {
     "name": "stdout",
     "output_type": "stream",
     "text": [
      "('피카츄', '라이츄', '파이리', '꼬부기', '버터플', '야도란', '피존투', '또가스')\n"
     ]
    }
   ],
   "source": [
    "get_members(\"피카츄\", \"라이츄\", \"파이리\", \"꼬부기\", \"버터플\", \"야도란\", \"피존투\", \"또가스\")"
   ]
  },
  {
   "cell_type": "code",
   "execution_count": 101,
   "id": "584b1a39",
   "metadata": {},
   "outputs": [],
   "source": [
    "# 가변 파라미터(*변수명)을 이용해서 학생들의 점수를 입력받는대로 다 저장했다가\n",
    "# 총점을 얻어서 평균값을 구해 리턴하도록 코드를 작성해주세요.\n",
    "# 반복문으로 total에 점수 다 저장\n",
    "# scores에 몇 개건 모든 데이터를 다 때려넣음.\n",
    "def get_average(*scores):\n",
    "    # 들어온 데이터 체크\n",
    "    print(scores)\n",
    "    # 총점 집계를 위해 total 변수 생성 및 0 대입\n",
    "    total = 0\n",
    "    # scores에 있는 모든 점수를 score에 번갈아가면서 대입\n",
    "    for score in scores:\n",
    "        # 개별 점수를 total에 더해서 누적시킴\n",
    "        total += score\n",
    "        # 평균은 총점 / 더한 횟수 이므로, scores내부 자료 개수만큼으로\n",
    "        # 총점을 나누면 평균이 나옴\n",
    "    return \"총점 : %s, 평균 : %s\" % (total , total / len(scores))"
   ]
  },
  {
   "cell_type": "code",
   "execution_count": 102,
   "id": "913a4ec8",
   "metadata": {},
   "outputs": [
    {
     "name": "stdout",
     "output_type": "stream",
     "text": [
      "(70, 80, 90, 80, 50)\n"
     ]
    },
    {
     "data": {
      "text/plain": [
       "'총점 : 370, 평균 : 74.0'"
      ]
     },
     "execution_count": 102,
     "metadata": {},
     "output_type": "execute_result"
    }
   ],
   "source": [
    "get_average(70, 80, 90, 80, 50)"
   ]
  },
  {
   "cell_type": "markdown",
   "id": "c8f8b63b",
   "metadata": {},
   "source": [
    "### 6. 키워드 파라미터 kwargs (keyword arguments)\n",
    "\n",
    "딕셔너리 형태로 저장되는 매개변수로 정의"
   ]
  },
  {
   "cell_type": "code",
   "execution_count": 103,
   "id": "5d5fb7a7",
   "metadata": {},
   "outputs": [],
   "source": [
    "# ** 두 개가 붙으면 딕셔너리 형태로 가변인자를 받습니다.\n",
    "# 이경우, 변수명=값 형식으로 호출해야 전달됩니다.\n",
    "def test4(**kwargs):\n",
    "    return kwargs"
   ]
  },
  {
   "cell_type": "code",
   "execution_count": 104,
   "id": "8b260dfb",
   "metadata": {},
   "outputs": [
    {
     "data": {
      "text/plain": [
       "{'name': '홍길동', 'age': 19, 'gender': 'male'}"
      ]
     },
     "execution_count": 104,
     "metadata": {},
     "output_type": "execute_result"
    }
   ],
   "source": [
    "test4(name=\"홍길동\", age=19, gender=\"male\")"
   ]
  },
  {
   "cell_type": "markdown",
   "id": "5b256eea",
   "metadata": {},
   "source": [
    "### 7. 함수의 결과 값\n",
    "- 함수의 결과 값은 항상 1개\n",
    "- 여러 개의 결과를 가질 수 있지만 하나의 튜플로 전달\n",
    "\n",
    "- 기본 문법\n",
    "      def 함수이름(매개변수이름):\n",
    "      return 결과값 1 , 결과값 2"
   ]
  },
  {
   "cell_type": "code",
   "execution_count": 130,
   "id": "cbc491e7",
   "metadata": {},
   "outputs": [],
   "source": [
    "# return 키워드는 전달받은 결과들을 하나의 '튜플' 로 묶어서 반환\n",
    "# 최종적으로 '하나의 변수' 에 담을 수 있는 '하나의 값'으로 처리된다.\n",
    "def test(a,b):\n",
    "    sum_= a + b\n",
    "    mul = a * b\n",
    "    return sum_, mul"
   ]
  },
  {
   "cell_type": "code",
   "execution_count": 131,
   "id": "d594df60",
   "metadata": {},
   "outputs": [
    {
     "name": "stdout",
     "output_type": "stream",
     "text": [
      "(7, 12)\n"
     ]
    }
   ],
   "source": [
    "# 결과를 통째로 가져오기\n",
    "z = test(3,4)\n",
    "print(z)"
   ]
  },
  {
   "cell_type": "code",
   "execution_count": 132,
   "id": "716aa624",
   "metadata": {},
   "outputs": [
    {
     "name": "stdout",
     "output_type": "stream",
     "text": [
      "11\n",
      "30\n"
     ]
    }
   ],
   "source": [
    "# 결과를 개별 변수에 쪼개서 가져오기\n",
    "# 튜플 리턴시 좌변에 튜플 내부요소 개수만큼 변수를 선언하면 따로따로 저장받습니다.\n",
    "s, m = test(5,6)\n",
    "print(s)\n",
    "print(m)"
   ]
  },
  {
   "cell_type": "markdown",
   "id": "8fb50785",
   "metadata": {},
   "source": [
    "리스트로 입력받은 수들에 대해 양수만 필터링하여 반환해주는 함수를 작성해보세요.\n",
    "\n",
    "- 조건1. 입력값은 인자값으로 가변인자 리스트를 전달\n",
    "\n",
    "- 조건2. 결과값은 양수로만 구성된 새로운 리스트"
   ]
  },
  {
   "cell_type": "code",
   "execution_count": 121,
   "id": "fc7cd1c0",
   "metadata": {},
   "outputs": [],
   "source": [
    "def yangsu (*int_):\n",
    "    print(int_)\n",
    "    for ints in int_:\n",
    "        if ints > 0:\n",
    "            yangsus = ints\n",
    "            print(yangsus)\n"
   ]
  },
  {
   "cell_type": "code",
   "execution_count": 125,
   "id": "bbedef4a",
   "metadata": {},
   "outputs": [
    {
     "name": "stdout",
     "output_type": "stream",
     "text": [
      "(1, 2, 3, 100, 200, -1, -2, -3, -4, -5, -6)\n",
      "1\n",
      "2\n",
      "3\n",
      "100\n",
      "200\n"
     ]
    }
   ],
   "source": [
    "yangsu(1, 2, 3, 100, 200, -1,-2, -3, -4, -5, -6)"
   ]
  },
  {
   "cell_type": "code",
   "execution_count": 128,
   "id": "08e4a4d6",
   "metadata": {},
   "outputs": [],
   "source": [
    "def positive_list(*numbers):\n",
    "    # 양수를 적재할 빈 리스트 생성\n",
    "    positive_nums = []\n",
    "    # numbers 내부에 있던 숫자들을 순차적으로 number에 대입해 검사\n",
    "    for number in numbers:\n",
    "        # 현재 대입된 숫자가 0보다 크면\n",
    "        if number > 0:\n",
    "            positive_nums.append(number)\n",
    "    # 리스트 리턴\n",
    "    return positive_nums"
   ]
  },
  {
   "cell_type": "code",
   "execution_count": 129,
   "id": "e21071d7",
   "metadata": {},
   "outputs": [
    {
     "data": {
      "text/plain": [
       "[1, 29, 31, 52, 37]"
      ]
     },
     "execution_count": 129,
     "metadata": {},
     "output_type": "execute_result"
    }
   ],
   "source": [
    "positive_list(1, -4, 29, 31, -66, 52, 0, 37)"
   ]
  },
  {
   "cell_type": "code",
   "execution_count": null,
   "id": "c98fa2f8",
   "metadata": {},
   "outputs": [],
   "source": []
  },
  {
   "cell_type": "code",
   "execution_count": null,
   "id": "404a1748",
   "metadata": {},
   "outputs": [],
   "source": []
  },
  {
   "cell_type": "code",
   "execution_count": null,
   "id": "da52156f",
   "metadata": {},
   "outputs": [],
   "source": []
  },
  {
   "cell_type": "code",
   "execution_count": null,
   "id": "5ee3a5fc",
   "metadata": {},
   "outputs": [],
   "source": []
  }
 ],
 "metadata": {
  "kernelspec": {
   "display_name": "Python 3 (ipykernel)",
   "language": "python",
   "name": "python3"
  },
  "language_info": {
   "codemirror_mode": {
    "name": "ipython",
    "version": 3
   },
   "file_extension": ".py",
   "mimetype": "text/x-python",
   "name": "python",
   "nbconvert_exporter": "python",
   "pygments_lexer": "ipython3",
   "version": "3.9.12"
  }
 },
 "nbformat": 4,
 "nbformat_minor": 5
}
