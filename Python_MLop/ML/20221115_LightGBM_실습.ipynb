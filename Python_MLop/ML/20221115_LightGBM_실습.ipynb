{
  "nbformat": 4,
  "nbformat_minor": 0,
  "metadata": {
    "colab": {
      "provenance": []
    },
    "kernelspec": {
      "name": "python3",
      "display_name": "Python 3"
    },
    "language_info": {
      "name": "python"
    }
  },
  "cells": [
    {
      "cell_type": "code",
      "execution_count": null,
      "metadata": {
        "id": "flVcy87PHDFr"
      },
      "outputs": [],
      "source": [
        "import pandas as pd\n",
        "import numpy as np\n",
        "import matplotlib.pyplot as plt\n",
        "import seaborn as sns"
      ]
    },
    {
      "cell_type": "code",
      "source": [
        "# https://www.kaggle.com/datasets/kartik2112/fraud-detection\n",
        "file_url = 'https://media.githubusercontent.com/media/musthave-ML10/data_source/main/fraud.csv'\n",
        "df = pd.read_csv(file_url)"
      ],
      "metadata": {
        "id": "4ZXj-qlbHavu"
      },
      "execution_count": null,
      "outputs": []
    },
    {
      "cell_type": "code",
      "source": [
        "df.head()"
      ],
      "metadata": {
        "colab": {
          "base_uri": "https://localhost:8080/",
          "height": 577
        },
        "id": "ykfsXKevHwVF",
        "outputId": "bcd5c7dd-176c-4f31-f227-142c808f3788"
      },
      "execution_count": null,
      "outputs": [
        {
          "output_type": "execute_result",
          "data": {
            "text/plain": [
              "  trans_date_trans_time            cc_num                            merchant  \\\n",
              "0   2019-01-01 00:00:18  2703186189652095          fraud_Rippin, Kub and Mann   \n",
              "1   2019-01-01 00:00:44      630423337322     fraud_Heller, Gutmann and Zieme   \n",
              "2   2019-01-01 00:00:51    38859492057661                fraud_Lind-Buckridge   \n",
              "3   2019-01-01 00:01:16  3534093764340240  fraud_Kutch, Hermiston and Farrell   \n",
              "4   2019-01-01 00:03:06   375534208663984                 fraud_Keeling-Crist   \n",
              "\n",
              "        category     amt      first     last gender  \\\n",
              "0       misc_net    4.97   Jennifer    Banks      F   \n",
              "1    grocery_pos  107.23  Stephanie     Gill      F   \n",
              "2  entertainment  220.11     Edward  Sanchez      M   \n",
              "3  gas_transport   45.00     Jeremy    White      M   \n",
              "4       misc_pos   41.96      Tyler   Garcia      M   \n",
              "\n",
              "                         street            city  ...      lat      long  \\\n",
              "0                561 Perry Cove  Moravian Falls  ...  36.0788  -81.1781   \n",
              "1  43039 Riley Greens Suite 393          Orient  ...  48.8878 -118.2105   \n",
              "2      594 White Dale Suite 530      Malad City  ...  42.1808 -112.2620   \n",
              "3   9443 Cynthia Court Apt. 038         Boulder  ...  46.2306 -112.1138   \n",
              "4              408 Bradley Rest        Doe Hill  ...  38.4207  -79.4629   \n",
              "\n",
              "   city_pop                                job         dob  \\\n",
              "0      3495          Psychologist, counselling  1988-03-09   \n",
              "1       149  Special educational needs teacher  1978-06-21   \n",
              "2      4154        Nature conservation officer  1962-01-19   \n",
              "3      1939                    Patent attorney  1967-01-12   \n",
              "4        99     Dance movement psychotherapist  1986-03-28   \n",
              "\n",
              "                          trans_num   unix_time  merch_lat  merch_long  \\\n",
              "0  0b242abb623afc578575680df30655b9  1325376018  36.011293  -82.048315   \n",
              "1  1f76529f8574734946361c461b024d99  1325376044  49.159047 -118.186462   \n",
              "2  a1a22d70485983eac12b5b88dad1cf95  1325376051  43.150704 -112.154481   \n",
              "3  6b849c168bdad6f867558c3793159a81  1325376076  47.034331 -112.561071   \n",
              "4  a41d7549acf90789359a9aa5346dcb46  1325376186  38.674999  -78.632459   \n",
              "\n",
              "   is_fraud  \n",
              "0         0  \n",
              "1         0  \n",
              "2         0  \n",
              "3         0  \n",
              "4         0  \n",
              "\n",
              "[5 rows x 22 columns]"
            ],
            "text/html": [
              "\n",
              "  <div id=\"df-906e6402-84f0-4aaa-a945-0f9e78a9f519\">\n",
              "    <div class=\"colab-df-container\">\n",
              "      <div>\n",
              "<style scoped>\n",
              "    .dataframe tbody tr th:only-of-type {\n",
              "        vertical-align: middle;\n",
              "    }\n",
              "\n",
              "    .dataframe tbody tr th {\n",
              "        vertical-align: top;\n",
              "    }\n",
              "\n",
              "    .dataframe thead th {\n",
              "        text-align: right;\n",
              "    }\n",
              "</style>\n",
              "<table border=\"1\" class=\"dataframe\">\n",
              "  <thead>\n",
              "    <tr style=\"text-align: right;\">\n",
              "      <th></th>\n",
              "      <th>trans_date_trans_time</th>\n",
              "      <th>cc_num</th>\n",
              "      <th>merchant</th>\n",
              "      <th>category</th>\n",
              "      <th>amt</th>\n",
              "      <th>first</th>\n",
              "      <th>last</th>\n",
              "      <th>gender</th>\n",
              "      <th>street</th>\n",
              "      <th>city</th>\n",
              "      <th>...</th>\n",
              "      <th>lat</th>\n",
              "      <th>long</th>\n",
              "      <th>city_pop</th>\n",
              "      <th>job</th>\n",
              "      <th>dob</th>\n",
              "      <th>trans_num</th>\n",
              "      <th>unix_time</th>\n",
              "      <th>merch_lat</th>\n",
              "      <th>merch_long</th>\n",
              "      <th>is_fraud</th>\n",
              "    </tr>\n",
              "  </thead>\n",
              "  <tbody>\n",
              "    <tr>\n",
              "      <th>0</th>\n",
              "      <td>2019-01-01 00:00:18</td>\n",
              "      <td>2703186189652095</td>\n",
              "      <td>fraud_Rippin, Kub and Mann</td>\n",
              "      <td>misc_net</td>\n",
              "      <td>4.97</td>\n",
              "      <td>Jennifer</td>\n",
              "      <td>Banks</td>\n",
              "      <td>F</td>\n",
              "      <td>561 Perry Cove</td>\n",
              "      <td>Moravian Falls</td>\n",
              "      <td>...</td>\n",
              "      <td>36.0788</td>\n",
              "      <td>-81.1781</td>\n",
              "      <td>3495</td>\n",
              "      <td>Psychologist, counselling</td>\n",
              "      <td>1988-03-09</td>\n",
              "      <td>0b242abb623afc578575680df30655b9</td>\n",
              "      <td>1325376018</td>\n",
              "      <td>36.011293</td>\n",
              "      <td>-82.048315</td>\n",
              "      <td>0</td>\n",
              "    </tr>\n",
              "    <tr>\n",
              "      <th>1</th>\n",
              "      <td>2019-01-01 00:00:44</td>\n",
              "      <td>630423337322</td>\n",
              "      <td>fraud_Heller, Gutmann and Zieme</td>\n",
              "      <td>grocery_pos</td>\n",
              "      <td>107.23</td>\n",
              "      <td>Stephanie</td>\n",
              "      <td>Gill</td>\n",
              "      <td>F</td>\n",
              "      <td>43039 Riley Greens Suite 393</td>\n",
              "      <td>Orient</td>\n",
              "      <td>...</td>\n",
              "      <td>48.8878</td>\n",
              "      <td>-118.2105</td>\n",
              "      <td>149</td>\n",
              "      <td>Special educational needs teacher</td>\n",
              "      <td>1978-06-21</td>\n",
              "      <td>1f76529f8574734946361c461b024d99</td>\n",
              "      <td>1325376044</td>\n",
              "      <td>49.159047</td>\n",
              "      <td>-118.186462</td>\n",
              "      <td>0</td>\n",
              "    </tr>\n",
              "    <tr>\n",
              "      <th>2</th>\n",
              "      <td>2019-01-01 00:00:51</td>\n",
              "      <td>38859492057661</td>\n",
              "      <td>fraud_Lind-Buckridge</td>\n",
              "      <td>entertainment</td>\n",
              "      <td>220.11</td>\n",
              "      <td>Edward</td>\n",
              "      <td>Sanchez</td>\n",
              "      <td>M</td>\n",
              "      <td>594 White Dale Suite 530</td>\n",
              "      <td>Malad City</td>\n",
              "      <td>...</td>\n",
              "      <td>42.1808</td>\n",
              "      <td>-112.2620</td>\n",
              "      <td>4154</td>\n",
              "      <td>Nature conservation officer</td>\n",
              "      <td>1962-01-19</td>\n",
              "      <td>a1a22d70485983eac12b5b88dad1cf95</td>\n",
              "      <td>1325376051</td>\n",
              "      <td>43.150704</td>\n",
              "      <td>-112.154481</td>\n",
              "      <td>0</td>\n",
              "    </tr>\n",
              "    <tr>\n",
              "      <th>3</th>\n",
              "      <td>2019-01-01 00:01:16</td>\n",
              "      <td>3534093764340240</td>\n",
              "      <td>fraud_Kutch, Hermiston and Farrell</td>\n",
              "      <td>gas_transport</td>\n",
              "      <td>45.00</td>\n",
              "      <td>Jeremy</td>\n",
              "      <td>White</td>\n",
              "      <td>M</td>\n",
              "      <td>9443 Cynthia Court Apt. 038</td>\n",
              "      <td>Boulder</td>\n",
              "      <td>...</td>\n",
              "      <td>46.2306</td>\n",
              "      <td>-112.1138</td>\n",
              "      <td>1939</td>\n",
              "      <td>Patent attorney</td>\n",
              "      <td>1967-01-12</td>\n",
              "      <td>6b849c168bdad6f867558c3793159a81</td>\n",
              "      <td>1325376076</td>\n",
              "      <td>47.034331</td>\n",
              "      <td>-112.561071</td>\n",
              "      <td>0</td>\n",
              "    </tr>\n",
              "    <tr>\n",
              "      <th>4</th>\n",
              "      <td>2019-01-01 00:03:06</td>\n",
              "      <td>375534208663984</td>\n",
              "      <td>fraud_Keeling-Crist</td>\n",
              "      <td>misc_pos</td>\n",
              "      <td>41.96</td>\n",
              "      <td>Tyler</td>\n",
              "      <td>Garcia</td>\n",
              "      <td>M</td>\n",
              "      <td>408 Bradley Rest</td>\n",
              "      <td>Doe Hill</td>\n",
              "      <td>...</td>\n",
              "      <td>38.4207</td>\n",
              "      <td>-79.4629</td>\n",
              "      <td>99</td>\n",
              "      <td>Dance movement psychotherapist</td>\n",
              "      <td>1986-03-28</td>\n",
              "      <td>a41d7549acf90789359a9aa5346dcb46</td>\n",
              "      <td>1325376186</td>\n",
              "      <td>38.674999</td>\n",
              "      <td>-78.632459</td>\n",
              "      <td>0</td>\n",
              "    </tr>\n",
              "  </tbody>\n",
              "</table>\n",
              "<p>5 rows × 22 columns</p>\n",
              "</div>\n",
              "      <button class=\"colab-df-convert\" onclick=\"convertToInteractive('df-906e6402-84f0-4aaa-a945-0f9e78a9f519')\"\n",
              "              title=\"Convert this dataframe to an interactive table.\"\n",
              "              style=\"display:none;\">\n",
              "        \n",
              "  <svg xmlns=\"http://www.w3.org/2000/svg\" height=\"24px\"viewBox=\"0 0 24 24\"\n",
              "       width=\"24px\">\n",
              "    <path d=\"M0 0h24v24H0V0z\" fill=\"none\"/>\n",
              "    <path d=\"M18.56 5.44l.94 2.06.94-2.06 2.06-.94-2.06-.94-.94-2.06-.94 2.06-2.06.94zm-11 1L8.5 8.5l.94-2.06 2.06-.94-2.06-.94L8.5 2.5l-.94 2.06-2.06.94zm10 10l.94 2.06.94-2.06 2.06-.94-2.06-.94-.94-2.06-.94 2.06-2.06.94z\"/><path d=\"M17.41 7.96l-1.37-1.37c-.4-.4-.92-.59-1.43-.59-.52 0-1.04.2-1.43.59L10.3 9.45l-7.72 7.72c-.78.78-.78 2.05 0 2.83L4 21.41c.39.39.9.59 1.41.59.51 0 1.02-.2 1.41-.59l7.78-7.78 2.81-2.81c.8-.78.8-2.07 0-2.86zM5.41 20L4 18.59l7.72-7.72 1.47 1.35L5.41 20z\"/>\n",
              "  </svg>\n",
              "      </button>\n",
              "      \n",
              "  <style>\n",
              "    .colab-df-container {\n",
              "      display:flex;\n",
              "      flex-wrap:wrap;\n",
              "      gap: 12px;\n",
              "    }\n",
              "\n",
              "    .colab-df-convert {\n",
              "      background-color: #E8F0FE;\n",
              "      border: none;\n",
              "      border-radius: 50%;\n",
              "      cursor: pointer;\n",
              "      display: none;\n",
              "      fill: #1967D2;\n",
              "      height: 32px;\n",
              "      padding: 0 0 0 0;\n",
              "      width: 32px;\n",
              "    }\n",
              "\n",
              "    .colab-df-convert:hover {\n",
              "      background-color: #E2EBFA;\n",
              "      box-shadow: 0px 1px 2px rgba(60, 64, 67, 0.3), 0px 1px 3px 1px rgba(60, 64, 67, 0.15);\n",
              "      fill: #174EA6;\n",
              "    }\n",
              "\n",
              "    [theme=dark] .colab-df-convert {\n",
              "      background-color: #3B4455;\n",
              "      fill: #D2E3FC;\n",
              "    }\n",
              "\n",
              "    [theme=dark] .colab-df-convert:hover {\n",
              "      background-color: #434B5C;\n",
              "      box-shadow: 0px 1px 3px 1px rgba(0, 0, 0, 0.15);\n",
              "      filter: drop-shadow(0px 1px 2px rgba(0, 0, 0, 0.3));\n",
              "      fill: #FFFFFF;\n",
              "    }\n",
              "  </style>\n",
              "\n",
              "      <script>\n",
              "        const buttonEl =\n",
              "          document.querySelector('#df-906e6402-84f0-4aaa-a945-0f9e78a9f519 button.colab-df-convert');\n",
              "        buttonEl.style.display =\n",
              "          google.colab.kernel.accessAllowed ? 'block' : 'none';\n",
              "\n",
              "        async function convertToInteractive(key) {\n",
              "          const element = document.querySelector('#df-906e6402-84f0-4aaa-a945-0f9e78a9f519');\n",
              "          const dataTable =\n",
              "            await google.colab.kernel.invokeFunction('convertToInteractive',\n",
              "                                                     [key], {});\n",
              "          if (!dataTable) return;\n",
              "\n",
              "          const docLinkHtml = 'Like what you see? Visit the ' +\n",
              "            '<a target=\"_blank\" href=https://colab.research.google.com/notebooks/data_table.ipynb>data table notebook</a>'\n",
              "            + ' to learn more about interactive tables.';\n",
              "          element.innerHTML = '';\n",
              "          dataTable['output_type'] = 'display_data';\n",
              "          await google.colab.output.renderOutput(dataTable, element);\n",
              "          const docLink = document.createElement('div');\n",
              "          docLink.innerHTML = docLinkHtml;\n",
              "          element.appendChild(docLink);\n",
              "        }\n",
              "      </script>\n",
              "    </div>\n",
              "  </div>\n",
              "  "
            ]
          },
          "metadata": {},
          "execution_count": 3
        }
      ]
    },
    {
      "cell_type": "code",
      "source": [
        "df.columns"
      ],
      "metadata": {
        "colab": {
          "base_uri": "https://localhost:8080/"
        },
        "id": "7raYoIHkJrzG",
        "outputId": "830be539-f6e9-4415-df7f-44713ab17914"
      },
      "execution_count": null,
      "outputs": [
        {
          "output_type": "execute_result",
          "data": {
            "text/plain": [
              "Index(['trans_date_trans_time', 'cc_num', 'merchant', 'category', 'amt',\n",
              "       'first', 'last', 'gender', 'street', 'city', 'state', 'zip', 'lat',\n",
              "       'long', 'city_pop', 'job', 'dob', 'trans_num', 'unix_time', 'merch_lat',\n",
              "       'merch_long', 'is_fraud'],\n",
              "      dtype='object')"
            ]
          },
          "metadata": {},
          "execution_count": 4
        }
      ]
    },
    {
      "cell_type": "markdown",
      "source": [
        "* trans_date_trans_time : 거래 시간\n",
        "* cc_num : 카드 번호. 고윳값이기 때문에 여기서는 id처럼 활용할 수 있음\n",
        "* merchant : 거래 상점\n",
        "* category : 거래 상점의 범주(애완용품, 여행, 엔터테인먼트 등)\n",
        "* amt: 거래금액 (amount)\n",
        "* first / last : 이름\n",
        "* gender : 성별\n",
        "* street / state / zip : 고객 거주지 정보\n",
        "* lat / long : 고객주소에 대한 위도 및 경도\n",
        "* city_pop : 고객의 zipcode 속하는 인구 수\n",
        "* job : 직업\n",
        "* dob : 생년월일\n",
        "* trans_num : 거래번호\n",
        "* unix_time : 거래시간 (유닉스 타임스탬프)\n",
        "* merch_lat / merch_long : 상점의 위경도\n",
        "---\n",
        "* is_fraud : 사기거래 여부 (이상거래 여부) -> 종속변수"
      ],
      "metadata": {
        "id": "H6aqaLvvJaU5"
      }
    },
    {
      "cell_type": "code",
      "source": [
        "df.info()"
      ],
      "metadata": {
        "colab": {
          "base_uri": "https://localhost:8080/"
        },
        "id": "Ykp70rVtJOb9",
        "outputId": "aab4328c-a1e0-4e54-a3a2-85a73cdeebe1"
      },
      "execution_count": null,
      "outputs": [
        {
          "output_type": "stream",
          "name": "stdout",
          "text": [
            "<class 'pandas.core.frame.DataFrame'>\n",
            "RangeIndex: 1852394 entries, 0 to 1852393\n",
            "Data columns (total 22 columns):\n",
            " #   Column                 Dtype  \n",
            "---  ------                 -----  \n",
            " 0   trans_date_trans_time  object \n",
            " 1   cc_num                 int64  \n",
            " 2   merchant               object \n",
            " 3   category               object \n",
            " 4   amt                    float64\n",
            " 5   first                  object \n",
            " 6   last                   object \n",
            " 7   gender                 object \n",
            " 8   street                 object \n",
            " 9   city                   object \n",
            " 10  state                  object \n",
            " 11  zip                    int64  \n",
            " 12  lat                    float64\n",
            " 13  long                   float64\n",
            " 14  city_pop               int64  \n",
            " 15  job                    object \n",
            " 16  dob                    object \n",
            " 17  trans_num              object \n",
            " 18  unix_time              int64  \n",
            " 19  merch_lat              float64\n",
            " 20  merch_long             float64\n",
            " 21  is_fraud               int64  \n",
            "dtypes: float64(5), int64(5), object(12)\n",
            "memory usage: 310.9+ MB\n"
          ]
        }
      ]
    },
    {
      "cell_type": "code",
      "source": [
        "df.info(show_counts=True)"
      ],
      "metadata": {
        "colab": {
          "base_uri": "https://localhost:8080/"
        },
        "id": "s5-Fml3KKsoN",
        "outputId": "e3244b4a-c3a7-4bf9-a929-09eec4b94f74"
      },
      "execution_count": null,
      "outputs": [
        {
          "output_type": "stream",
          "name": "stdout",
          "text": [
            "<class 'pandas.core.frame.DataFrame'>\n",
            "RangeIndex: 1852394 entries, 0 to 1852393\n",
            "Data columns (total 22 columns):\n",
            " #   Column                 Non-Null Count    Dtype  \n",
            "---  ------                 --------------    -----  \n",
            " 0   trans_date_trans_time  1852394 non-null  object \n",
            " 1   cc_num                 1852394 non-null  int64  \n",
            " 2   merchant               1852394 non-null  object \n",
            " 3   category               1852394 non-null  object \n",
            " 4   amt                    1852394 non-null  float64\n",
            " 5   first                  1852394 non-null  object \n",
            " 6   last                   1852394 non-null  object \n",
            " 7   gender                 1852394 non-null  object \n",
            " 8   street                 1852394 non-null  object \n",
            " 9   city                   1852394 non-null  object \n",
            " 10  state                  1852394 non-null  object \n",
            " 11  zip                    1852394 non-null  int64  \n",
            " 12  lat                    1852394 non-null  float64\n",
            " 13  long                   1852394 non-null  float64\n",
            " 14  city_pop               1852394 non-null  int64  \n",
            " 15  job                    1852394 non-null  object \n",
            " 16  dob                    1852394 non-null  object \n",
            " 17  trans_num              1852394 non-null  object \n",
            " 18  unix_time              1852394 non-null  int64  \n",
            " 19  merch_lat              1852394 non-null  float64\n",
            " 20  merch_long             1852394 non-null  float64\n",
            " 21  is_fraud               1852394 non-null  int64  \n",
            "dtypes: float64(5), int64(5), object(12)\n",
            "memory usage: 310.9+ MB\n"
          ]
        }
      ]
    },
    {
      "cell_type": "code",
      "source": [
        "pd.options.display.float_format = '{:.2f}'.format\n",
        "df.describe()"
      ],
      "metadata": {
        "colab": {
          "base_uri": "https://localhost:8080/",
          "height": 364
        },
        "id": "TO5J4YGCLDJL",
        "outputId": "752f2d10-9e16-4069-e58d-a41141eeeed2"
      },
      "execution_count": null,
      "outputs": [
        {
          "output_type": "execute_result",
          "data": {
            "text/plain": [
              "                      cc_num        amt        zip        lat       long  \\\n",
              "count             1852394.00 1852394.00 1852394.00 1852394.00 1852394.00   \n",
              "mean   417386038393710400.00      70.06   48813.26      38.54     -90.23   \n",
              "std   1309115265318734848.00     159.25   26881.85       5.07      13.75   \n",
              "min           60416207185.00       1.00    1257.00      20.03    -165.67   \n",
              "25%       180042946491150.00       9.64   26237.00      34.67     -96.80   \n",
              "50%      3521417320836166.00      47.45   48174.00      39.35     -87.48   \n",
              "75%      4642255475285942.00      83.10   72042.00      41.94     -80.16   \n",
              "max   4992346398065154048.00   28948.90   99921.00      66.69     -67.95   \n",
              "\n",
              "        city_pop     unix_time  merch_lat  merch_long   is_fraud  \n",
              "count 1852394.00    1852394.00 1852394.00  1852394.00 1852394.00  \n",
              "mean    88643.67 1358674218.83      38.54      -90.23       0.01  \n",
              "std    301487.62   18195081.39       5.11       13.76       0.07  \n",
              "min        23.00 1325376018.00      19.03     -166.67       0.00  \n",
              "25%       741.00 1343016823.75      34.74      -96.90       0.00  \n",
              "50%      2443.00 1357089331.00      39.37      -87.44       0.00  \n",
              "75%     20328.00 1374581485.25      41.96      -80.25       0.00  \n",
              "max   2906700.00 1388534374.00      67.51      -66.95       1.00  "
            ],
            "text/html": [
              "\n",
              "  <div id=\"df-b4349057-2d7c-4baf-a650-14393561c131\">\n",
              "    <div class=\"colab-df-container\">\n",
              "      <div>\n",
              "<style scoped>\n",
              "    .dataframe tbody tr th:only-of-type {\n",
              "        vertical-align: middle;\n",
              "    }\n",
              "\n",
              "    .dataframe tbody tr th {\n",
              "        vertical-align: top;\n",
              "    }\n",
              "\n",
              "    .dataframe thead th {\n",
              "        text-align: right;\n",
              "    }\n",
              "</style>\n",
              "<table border=\"1\" class=\"dataframe\">\n",
              "  <thead>\n",
              "    <tr style=\"text-align: right;\">\n",
              "      <th></th>\n",
              "      <th>cc_num</th>\n",
              "      <th>amt</th>\n",
              "      <th>zip</th>\n",
              "      <th>lat</th>\n",
              "      <th>long</th>\n",
              "      <th>city_pop</th>\n",
              "      <th>unix_time</th>\n",
              "      <th>merch_lat</th>\n",
              "      <th>merch_long</th>\n",
              "      <th>is_fraud</th>\n",
              "    </tr>\n",
              "  </thead>\n",
              "  <tbody>\n",
              "    <tr>\n",
              "      <th>count</th>\n",
              "      <td>1852394.00</td>\n",
              "      <td>1852394.00</td>\n",
              "      <td>1852394.00</td>\n",
              "      <td>1852394.00</td>\n",
              "      <td>1852394.00</td>\n",
              "      <td>1852394.00</td>\n",
              "      <td>1852394.00</td>\n",
              "      <td>1852394.00</td>\n",
              "      <td>1852394.00</td>\n",
              "      <td>1852394.00</td>\n",
              "    </tr>\n",
              "    <tr>\n",
              "      <th>mean</th>\n",
              "      <td>417386038393710400.00</td>\n",
              "      <td>70.06</td>\n",
              "      <td>48813.26</td>\n",
              "      <td>38.54</td>\n",
              "      <td>-90.23</td>\n",
              "      <td>88643.67</td>\n",
              "      <td>1358674218.83</td>\n",
              "      <td>38.54</td>\n",
              "      <td>-90.23</td>\n",
              "      <td>0.01</td>\n",
              "    </tr>\n",
              "    <tr>\n",
              "      <th>std</th>\n",
              "      <td>1309115265318734848.00</td>\n",
              "      <td>159.25</td>\n",
              "      <td>26881.85</td>\n",
              "      <td>5.07</td>\n",
              "      <td>13.75</td>\n",
              "      <td>301487.62</td>\n",
              "      <td>18195081.39</td>\n",
              "      <td>5.11</td>\n",
              "      <td>13.76</td>\n",
              "      <td>0.07</td>\n",
              "    </tr>\n",
              "    <tr>\n",
              "      <th>min</th>\n",
              "      <td>60416207185.00</td>\n",
              "      <td>1.00</td>\n",
              "      <td>1257.00</td>\n",
              "      <td>20.03</td>\n",
              "      <td>-165.67</td>\n",
              "      <td>23.00</td>\n",
              "      <td>1325376018.00</td>\n",
              "      <td>19.03</td>\n",
              "      <td>-166.67</td>\n",
              "      <td>0.00</td>\n",
              "    </tr>\n",
              "    <tr>\n",
              "      <th>25%</th>\n",
              "      <td>180042946491150.00</td>\n",
              "      <td>9.64</td>\n",
              "      <td>26237.00</td>\n",
              "      <td>34.67</td>\n",
              "      <td>-96.80</td>\n",
              "      <td>741.00</td>\n",
              "      <td>1343016823.75</td>\n",
              "      <td>34.74</td>\n",
              "      <td>-96.90</td>\n",
              "      <td>0.00</td>\n",
              "    </tr>\n",
              "    <tr>\n",
              "      <th>50%</th>\n",
              "      <td>3521417320836166.00</td>\n",
              "      <td>47.45</td>\n",
              "      <td>48174.00</td>\n",
              "      <td>39.35</td>\n",
              "      <td>-87.48</td>\n",
              "      <td>2443.00</td>\n",
              "      <td>1357089331.00</td>\n",
              "      <td>39.37</td>\n",
              "      <td>-87.44</td>\n",
              "      <td>0.00</td>\n",
              "    </tr>\n",
              "    <tr>\n",
              "      <th>75%</th>\n",
              "      <td>4642255475285942.00</td>\n",
              "      <td>83.10</td>\n",
              "      <td>72042.00</td>\n",
              "      <td>41.94</td>\n",
              "      <td>-80.16</td>\n",
              "      <td>20328.00</td>\n",
              "      <td>1374581485.25</td>\n",
              "      <td>41.96</td>\n",
              "      <td>-80.25</td>\n",
              "      <td>0.00</td>\n",
              "    </tr>\n",
              "    <tr>\n",
              "      <th>max</th>\n",
              "      <td>4992346398065154048.00</td>\n",
              "      <td>28948.90</td>\n",
              "      <td>99921.00</td>\n",
              "      <td>66.69</td>\n",
              "      <td>-67.95</td>\n",
              "      <td>2906700.00</td>\n",
              "      <td>1388534374.00</td>\n",
              "      <td>67.51</td>\n",
              "      <td>-66.95</td>\n",
              "      <td>1.00</td>\n",
              "    </tr>\n",
              "  </tbody>\n",
              "</table>\n",
              "</div>\n",
              "      <button class=\"colab-df-convert\" onclick=\"convertToInteractive('df-b4349057-2d7c-4baf-a650-14393561c131')\"\n",
              "              title=\"Convert this dataframe to an interactive table.\"\n",
              "              style=\"display:none;\">\n",
              "        \n",
              "  <svg xmlns=\"http://www.w3.org/2000/svg\" height=\"24px\"viewBox=\"0 0 24 24\"\n",
              "       width=\"24px\">\n",
              "    <path d=\"M0 0h24v24H0V0z\" fill=\"none\"/>\n",
              "    <path d=\"M18.56 5.44l.94 2.06.94-2.06 2.06-.94-2.06-.94-.94-2.06-.94 2.06-2.06.94zm-11 1L8.5 8.5l.94-2.06 2.06-.94-2.06-.94L8.5 2.5l-.94 2.06-2.06.94zm10 10l.94 2.06.94-2.06 2.06-.94-2.06-.94-.94-2.06-.94 2.06-2.06.94z\"/><path d=\"M17.41 7.96l-1.37-1.37c-.4-.4-.92-.59-1.43-.59-.52 0-1.04.2-1.43.59L10.3 9.45l-7.72 7.72c-.78.78-.78 2.05 0 2.83L4 21.41c.39.39.9.59 1.41.59.51 0 1.02-.2 1.41-.59l7.78-7.78 2.81-2.81c.8-.78.8-2.07 0-2.86zM5.41 20L4 18.59l7.72-7.72 1.47 1.35L5.41 20z\"/>\n",
              "  </svg>\n",
              "      </button>\n",
              "      \n",
              "  <style>\n",
              "    .colab-df-container {\n",
              "      display:flex;\n",
              "      flex-wrap:wrap;\n",
              "      gap: 12px;\n",
              "    }\n",
              "\n",
              "    .colab-df-convert {\n",
              "      background-color: #E8F0FE;\n",
              "      border: none;\n",
              "      border-radius: 50%;\n",
              "      cursor: pointer;\n",
              "      display: none;\n",
              "      fill: #1967D2;\n",
              "      height: 32px;\n",
              "      padding: 0 0 0 0;\n",
              "      width: 32px;\n",
              "    }\n",
              "\n",
              "    .colab-df-convert:hover {\n",
              "      background-color: #E2EBFA;\n",
              "      box-shadow: 0px 1px 2px rgba(60, 64, 67, 0.3), 0px 1px 3px 1px rgba(60, 64, 67, 0.15);\n",
              "      fill: #174EA6;\n",
              "    }\n",
              "\n",
              "    [theme=dark] .colab-df-convert {\n",
              "      background-color: #3B4455;\n",
              "      fill: #D2E3FC;\n",
              "    }\n",
              "\n",
              "    [theme=dark] .colab-df-convert:hover {\n",
              "      background-color: #434B5C;\n",
              "      box-shadow: 0px 1px 3px 1px rgba(0, 0, 0, 0.15);\n",
              "      filter: drop-shadow(0px 1px 2px rgba(0, 0, 0, 0.3));\n",
              "      fill: #FFFFFF;\n",
              "    }\n",
              "  </style>\n",
              "\n",
              "      <script>\n",
              "        const buttonEl =\n",
              "          document.querySelector('#df-b4349057-2d7c-4baf-a650-14393561c131 button.colab-df-convert');\n",
              "        buttonEl.style.display =\n",
              "          google.colab.kernel.accessAllowed ? 'block' : 'none';\n",
              "\n",
              "        async function convertToInteractive(key) {\n",
              "          const element = document.querySelector('#df-b4349057-2d7c-4baf-a650-14393561c131');\n",
              "          const dataTable =\n",
              "            await google.colab.kernel.invokeFunction('convertToInteractive',\n",
              "                                                     [key], {});\n",
              "          if (!dataTable) return;\n",
              "\n",
              "          const docLinkHtml = 'Like what you see? Visit the ' +\n",
              "            '<a target=\"_blank\" href=https://colab.research.google.com/notebooks/data_table.ipynb>data table notebook</a>'\n",
              "            + ' to learn more about interactive tables.';\n",
              "          element.innerHTML = '';\n",
              "          dataTable['output_type'] = 'display_data';\n",
              "          await google.colab.output.renderOutput(dataTable, element);\n",
              "          const docLink = document.createElement('div');\n",
              "          docLink.innerHTML = docLinkHtml;\n",
              "          element.appendChild(docLink);\n",
              "        }\n",
              "      </script>\n",
              "    </div>\n",
              "  </div>\n",
              "  "
            ]
          },
          "metadata": {},
          "execution_count": 39
        }
      ]
    },
    {
      "cell_type": "markdown",
      "source": [
        "## 전처리"
      ],
      "metadata": {
        "id": "ROYYlt9mLqF5"
      }
    },
    {
      "cell_type": "code",
      "source": [
        "# 사용되지 않는 변수 제거\n",
        "df.drop(['first', 'last', # 이름\n",
        "         'street', 'city', 'state', 'zip', # 주소\n",
        "         'trans_num', 'unix_time', # 거래번호 / 유닉스타임 (중복)\n",
        "         'job', 'merchant' # 직업, 가게\n",
        "         ], axis=1, inplace=True)"
      ],
      "metadata": {
        "id": "0RDxgl75LMNk"
      },
      "execution_count": null,
      "outputs": []
    },
    {
      "cell_type": "code",
      "source": [
        "# 날짜 형태의 데이터 Object 문자열로 저장되어있다\n",
        "df['trans_date_trans_time'] = pd.to_datetime(df['trans_date_trans_time'])\n",
        "df.info()"
      ],
      "metadata": {
        "colab": {
          "base_uri": "https://localhost:8080/"
        },
        "id": "sQ4v1QMAMnfE",
        "outputId": "1d2f447c-45e1-4d5e-80d1-b49339697a52"
      },
      "execution_count": null,
      "outputs": [
        {
          "output_type": "stream",
          "name": "stdout",
          "text": [
            "<class 'pandas.core.frame.DataFrame'>\n",
            "RangeIndex: 1852394 entries, 0 to 1852393\n",
            "Data columns (total 12 columns):\n",
            " #   Column                 Dtype         \n",
            "---  ------                 -----         \n",
            " 0   trans_date_trans_time  datetime64[ns]\n",
            " 1   cc_num                 int64         \n",
            " 2   category               object        \n",
            " 3   amt                    float64       \n",
            " 4   gender                 object        \n",
            " 5   lat                    float64       \n",
            " 6   long                   float64       \n",
            " 7   city_pop               int64         \n",
            " 8   dob                    object        \n",
            " 9   merch_lat              float64       \n",
            " 10  merch_long             float64       \n",
            " 11  is_fraud               int64         \n",
            "dtypes: datetime64[ns](1), float64(5), int64(3), object(3)\n",
            "memory usage: 169.6+ MB\n"
          ]
        }
      ]
    },
    {
      "cell_type": "markdown",
      "source": [
        "### 피처 엔지니어링\n",
        "* 원래 고객의 거래패턴에서 벗어나는 거래"
      ],
      "metadata": {
        "id": "Ae8xyw5NNQwR"
      }
    },
    {
      "cell_type": "code",
      "source": [
        "#@title 결제 금액\n",
        "# Z 점수 (정규분포) <- (x - 평균) / 표준편차\n",
        "# amt_info = df.groupby('cc_num').agg(['mean', 'std'])\n",
        "# cc_num : 카드번호별 그룹을 묶어서, agg -> 여러 그룹함수(여러개의 값들을 통해 계산하는 통계값)\n",
        "# mean = 평균 / std = 표준편차 => amt(결제금액) => cc_num\n",
        "amt_info = df.groupby('cc_num').agg(['mean', 'std']).amt.reset_index()\n",
        "amt_info.head()"
      ],
      "metadata": {
        "colab": {
          "base_uri": "https://localhost:8080/",
          "height": 206
        },
        "id": "DPgUTuFfM-GE",
        "outputId": "5b6ec3bd-254c-4f70-c157-ab180820876f"
      },
      "execution_count": null,
      "outputs": [
        {
          "output_type": "execute_result",
          "data": {
            "text/plain": [
              "        cc_num        mean          std\n",
              "0  60416207185   59.257796   142.869746\n",
              "1  60422928733   65.483159    92.042844\n",
              "2  60423098130   96.376084  1000.693872\n",
              "3  60427851591  107.487550   131.014534\n",
              "4  60487002085   64.096925   153.207660"
            ],
            "text/html": [
              "\n",
              "  <div id=\"df-7e39b682-febb-4e3e-8d27-8e8dd17af7ca\">\n",
              "    <div class=\"colab-df-container\">\n",
              "      <div>\n",
              "<style scoped>\n",
              "    .dataframe tbody tr th:only-of-type {\n",
              "        vertical-align: middle;\n",
              "    }\n",
              "\n",
              "    .dataframe tbody tr th {\n",
              "        vertical-align: top;\n",
              "    }\n",
              "\n",
              "    .dataframe thead th {\n",
              "        text-align: right;\n",
              "    }\n",
              "</style>\n",
              "<table border=\"1\" class=\"dataframe\">\n",
              "  <thead>\n",
              "    <tr style=\"text-align: right;\">\n",
              "      <th></th>\n",
              "      <th>cc_num</th>\n",
              "      <th>mean</th>\n",
              "      <th>std</th>\n",
              "    </tr>\n",
              "  </thead>\n",
              "  <tbody>\n",
              "    <tr>\n",
              "      <th>0</th>\n",
              "      <td>60416207185</td>\n",
              "      <td>59.257796</td>\n",
              "      <td>142.869746</td>\n",
              "    </tr>\n",
              "    <tr>\n",
              "      <th>1</th>\n",
              "      <td>60422928733</td>\n",
              "      <td>65.483159</td>\n",
              "      <td>92.042844</td>\n",
              "    </tr>\n",
              "    <tr>\n",
              "      <th>2</th>\n",
              "      <td>60423098130</td>\n",
              "      <td>96.376084</td>\n",
              "      <td>1000.693872</td>\n",
              "    </tr>\n",
              "    <tr>\n",
              "      <th>3</th>\n",
              "      <td>60427851591</td>\n",
              "      <td>107.487550</td>\n",
              "      <td>131.014534</td>\n",
              "    </tr>\n",
              "    <tr>\n",
              "      <th>4</th>\n",
              "      <td>60487002085</td>\n",
              "      <td>64.096925</td>\n",
              "      <td>153.207660</td>\n",
              "    </tr>\n",
              "  </tbody>\n",
              "</table>\n",
              "</div>\n",
              "      <button class=\"colab-df-convert\" onclick=\"convertToInteractive('df-7e39b682-febb-4e3e-8d27-8e8dd17af7ca')\"\n",
              "              title=\"Convert this dataframe to an interactive table.\"\n",
              "              style=\"display:none;\">\n",
              "        \n",
              "  <svg xmlns=\"http://www.w3.org/2000/svg\" height=\"24px\"viewBox=\"0 0 24 24\"\n",
              "       width=\"24px\">\n",
              "    <path d=\"M0 0h24v24H0V0z\" fill=\"none\"/>\n",
              "    <path d=\"M18.56 5.44l.94 2.06.94-2.06 2.06-.94-2.06-.94-.94-2.06-.94 2.06-2.06.94zm-11 1L8.5 8.5l.94-2.06 2.06-.94-2.06-.94L8.5 2.5l-.94 2.06-2.06.94zm10 10l.94 2.06.94-2.06 2.06-.94-2.06-.94-.94-2.06-.94 2.06-2.06.94z\"/><path d=\"M17.41 7.96l-1.37-1.37c-.4-.4-.92-.59-1.43-.59-.52 0-1.04.2-1.43.59L10.3 9.45l-7.72 7.72c-.78.78-.78 2.05 0 2.83L4 21.41c.39.39.9.59 1.41.59.51 0 1.02-.2 1.41-.59l7.78-7.78 2.81-2.81c.8-.78.8-2.07 0-2.86zM5.41 20L4 18.59l7.72-7.72 1.47 1.35L5.41 20z\"/>\n",
              "  </svg>\n",
              "      </button>\n",
              "      \n",
              "  <style>\n",
              "    .colab-df-container {\n",
              "      display:flex;\n",
              "      flex-wrap:wrap;\n",
              "      gap: 12px;\n",
              "    }\n",
              "\n",
              "    .colab-df-convert {\n",
              "      background-color: #E8F0FE;\n",
              "      border: none;\n",
              "      border-radius: 50%;\n",
              "      cursor: pointer;\n",
              "      display: none;\n",
              "      fill: #1967D2;\n",
              "      height: 32px;\n",
              "      padding: 0 0 0 0;\n",
              "      width: 32px;\n",
              "    }\n",
              "\n",
              "    .colab-df-convert:hover {\n",
              "      background-color: #E2EBFA;\n",
              "      box-shadow: 0px 1px 2px rgba(60, 64, 67, 0.3), 0px 1px 3px 1px rgba(60, 64, 67, 0.15);\n",
              "      fill: #174EA6;\n",
              "    }\n",
              "\n",
              "    [theme=dark] .colab-df-convert {\n",
              "      background-color: #3B4455;\n",
              "      fill: #D2E3FC;\n",
              "    }\n",
              "\n",
              "    [theme=dark] .colab-df-convert:hover {\n",
              "      background-color: #434B5C;\n",
              "      box-shadow: 0px 1px 3px 1px rgba(0, 0, 0, 0.15);\n",
              "      filter: drop-shadow(0px 1px 2px rgba(0, 0, 0, 0.3));\n",
              "      fill: #FFFFFF;\n",
              "    }\n",
              "  </style>\n",
              "\n",
              "      <script>\n",
              "        const buttonEl =\n",
              "          document.querySelector('#df-7e39b682-febb-4e3e-8d27-8e8dd17af7ca button.colab-df-convert');\n",
              "        buttonEl.style.display =\n",
              "          google.colab.kernel.accessAllowed ? 'block' : 'none';\n",
              "\n",
              "        async function convertToInteractive(key) {\n",
              "          const element = document.querySelector('#df-7e39b682-febb-4e3e-8d27-8e8dd17af7ca');\n",
              "          const dataTable =\n",
              "            await google.colab.kernel.invokeFunction('convertToInteractive',\n",
              "                                                     [key], {});\n",
              "          if (!dataTable) return;\n",
              "\n",
              "          const docLinkHtml = 'Like what you see? Visit the ' +\n",
              "            '<a target=\"_blank\" href=https://colab.research.google.com/notebooks/data_table.ipynb>data table notebook</a>'\n",
              "            + ' to learn more about interactive tables.';\n",
              "          element.innerHTML = '';\n",
              "          dataTable['output_type'] = 'display_data';\n",
              "          await google.colab.output.renderOutput(dataTable, element);\n",
              "          const docLink = document.createElement('div');\n",
              "          docLink.innerHTML = docLinkHtml;\n",
              "          element.appendChild(docLink);\n",
              "        }\n",
              "      </script>\n",
              "    </div>\n",
              "  </div>\n",
              "  "
            ]
          },
          "metadata": {},
          "execution_count": 7
        }
      ]
    },
    {
      "cell_type": "code",
      "source": [
        "# A.merge(B, on = KEY, how=WAY)\n",
        "# A라는 데이터프레임에 B를 합쳐주겠다 => (index?) => cc_num\n",
        "# LEFT\n",
        "df = df.merge(amt_info, on = 'cc_num', how='left')"
      ],
      "metadata": {
        "id": "YVbqGjdHPIks"
      },
      "execution_count": null,
      "outputs": []
    },
    {
      "cell_type": "code",
      "source": [
        "df.columns"
      ],
      "metadata": {
        "colab": {
          "base_uri": "https://localhost:8080/"
        },
        "id": "yr1S8nyMOQwr",
        "outputId": "844ed2da-614a-4190-e68b-215d96ee0e1e"
      },
      "execution_count": null,
      "outputs": [
        {
          "output_type": "execute_result",
          "data": {
            "text/plain": [
              "Index(['trans_date_trans_time', 'cc_num', 'category', 'amt', 'gender', 'lat',\n",
              "       'long', 'city_pop', 'dob', 'merch_lat', 'merch_long', 'is_fraud',\n",
              "       'mean', 'std'],\n",
              "      dtype='object')"
            ]
          },
          "metadata": {},
          "execution_count": 44
        }
      ]
    },
    {
      "cell_type": "code",
      "source": [
        "df[['cc_num', 'amt', 'mean', 'std']].head()"
      ],
      "metadata": {
        "colab": {
          "base_uri": "https://localhost:8080/",
          "height": 206
        },
        "id": "NwsKVTy9QOsU",
        "outputId": "2e8220f7-8aef-4b97-ae8c-f1e7bdea4e58"
      },
      "execution_count": null,
      "outputs": [
        {
          "output_type": "execute_result",
          "data": {
            "text/plain": [
              "             cc_num    amt  mean    std\n",
              "0  2703186189652095   4.97 89.41 127.53\n",
              "1      630423337322 107.23 56.08 159.20\n",
              "2    38859492057661 220.11 69.92 116.69\n",
              "3  3534093764340240  45.00 80.09 280.08\n",
              "4   375534208663984  41.96 95.34  94.32"
            ],
            "text/html": [
              "\n",
              "  <div id=\"df-d40ca65c-f2ab-4313-aac1-642db4f03fd5\">\n",
              "    <div class=\"colab-df-container\">\n",
              "      <div>\n",
              "<style scoped>\n",
              "    .dataframe tbody tr th:only-of-type {\n",
              "        vertical-align: middle;\n",
              "    }\n",
              "\n",
              "    .dataframe tbody tr th {\n",
              "        vertical-align: top;\n",
              "    }\n",
              "\n",
              "    .dataframe thead th {\n",
              "        text-align: right;\n",
              "    }\n",
              "</style>\n",
              "<table border=\"1\" class=\"dataframe\">\n",
              "  <thead>\n",
              "    <tr style=\"text-align: right;\">\n",
              "      <th></th>\n",
              "      <th>cc_num</th>\n",
              "      <th>amt</th>\n",
              "      <th>mean</th>\n",
              "      <th>std</th>\n",
              "    </tr>\n",
              "  </thead>\n",
              "  <tbody>\n",
              "    <tr>\n",
              "      <th>0</th>\n",
              "      <td>2703186189652095</td>\n",
              "      <td>4.97</td>\n",
              "      <td>89.41</td>\n",
              "      <td>127.53</td>\n",
              "    </tr>\n",
              "    <tr>\n",
              "      <th>1</th>\n",
              "      <td>630423337322</td>\n",
              "      <td>107.23</td>\n",
              "      <td>56.08</td>\n",
              "      <td>159.20</td>\n",
              "    </tr>\n",
              "    <tr>\n",
              "      <th>2</th>\n",
              "      <td>38859492057661</td>\n",
              "      <td>220.11</td>\n",
              "      <td>69.92</td>\n",
              "      <td>116.69</td>\n",
              "    </tr>\n",
              "    <tr>\n",
              "      <th>3</th>\n",
              "      <td>3534093764340240</td>\n",
              "      <td>45.00</td>\n",
              "      <td>80.09</td>\n",
              "      <td>280.08</td>\n",
              "    </tr>\n",
              "    <tr>\n",
              "      <th>4</th>\n",
              "      <td>375534208663984</td>\n",
              "      <td>41.96</td>\n",
              "      <td>95.34</td>\n",
              "      <td>94.32</td>\n",
              "    </tr>\n",
              "  </tbody>\n",
              "</table>\n",
              "</div>\n",
              "      <button class=\"colab-df-convert\" onclick=\"convertToInteractive('df-d40ca65c-f2ab-4313-aac1-642db4f03fd5')\"\n",
              "              title=\"Convert this dataframe to an interactive table.\"\n",
              "              style=\"display:none;\">\n",
              "        \n",
              "  <svg xmlns=\"http://www.w3.org/2000/svg\" height=\"24px\"viewBox=\"0 0 24 24\"\n",
              "       width=\"24px\">\n",
              "    <path d=\"M0 0h24v24H0V0z\" fill=\"none\"/>\n",
              "    <path d=\"M18.56 5.44l.94 2.06.94-2.06 2.06-.94-2.06-.94-.94-2.06-.94 2.06-2.06.94zm-11 1L8.5 8.5l.94-2.06 2.06-.94-2.06-.94L8.5 2.5l-.94 2.06-2.06.94zm10 10l.94 2.06.94-2.06 2.06-.94-2.06-.94-.94-2.06-.94 2.06-2.06.94z\"/><path d=\"M17.41 7.96l-1.37-1.37c-.4-.4-.92-.59-1.43-.59-.52 0-1.04.2-1.43.59L10.3 9.45l-7.72 7.72c-.78.78-.78 2.05 0 2.83L4 21.41c.39.39.9.59 1.41.59.51 0 1.02-.2 1.41-.59l7.78-7.78 2.81-2.81c.8-.78.8-2.07 0-2.86zM5.41 20L4 18.59l7.72-7.72 1.47 1.35L5.41 20z\"/>\n",
              "  </svg>\n",
              "      </button>\n",
              "      \n",
              "  <style>\n",
              "    .colab-df-container {\n",
              "      display:flex;\n",
              "      flex-wrap:wrap;\n",
              "      gap: 12px;\n",
              "    }\n",
              "\n",
              "    .colab-df-convert {\n",
              "      background-color: #E8F0FE;\n",
              "      border: none;\n",
              "      border-radius: 50%;\n",
              "      cursor: pointer;\n",
              "      display: none;\n",
              "      fill: #1967D2;\n",
              "      height: 32px;\n",
              "      padding: 0 0 0 0;\n",
              "      width: 32px;\n",
              "    }\n",
              "\n",
              "    .colab-df-convert:hover {\n",
              "      background-color: #E2EBFA;\n",
              "      box-shadow: 0px 1px 2px rgba(60, 64, 67, 0.3), 0px 1px 3px 1px rgba(60, 64, 67, 0.15);\n",
              "      fill: #174EA6;\n",
              "    }\n",
              "\n",
              "    [theme=dark] .colab-df-convert {\n",
              "      background-color: #3B4455;\n",
              "      fill: #D2E3FC;\n",
              "    }\n",
              "\n",
              "    [theme=dark] .colab-df-convert:hover {\n",
              "      background-color: #434B5C;\n",
              "      box-shadow: 0px 1px 3px 1px rgba(0, 0, 0, 0.15);\n",
              "      filter: drop-shadow(0px 1px 2px rgba(0, 0, 0, 0.3));\n",
              "      fill: #FFFFFF;\n",
              "    }\n",
              "  </style>\n",
              "\n",
              "      <script>\n",
              "        const buttonEl =\n",
              "          document.querySelector('#df-d40ca65c-f2ab-4313-aac1-642db4f03fd5 button.colab-df-convert');\n",
              "        buttonEl.style.display =\n",
              "          google.colab.kernel.accessAllowed ? 'block' : 'none';\n",
              "\n",
              "        async function convertToInteractive(key) {\n",
              "          const element = document.querySelector('#df-d40ca65c-f2ab-4313-aac1-642db4f03fd5');\n",
              "          const dataTable =\n",
              "            await google.colab.kernel.invokeFunction('convertToInteractive',\n",
              "                                                     [key], {});\n",
              "          if (!dataTable) return;\n",
              "\n",
              "          const docLinkHtml = 'Like what you see? Visit the ' +\n",
              "            '<a target=\"_blank\" href=https://colab.research.google.com/notebooks/data_table.ipynb>data table notebook</a>'\n",
              "            + ' to learn more about interactive tables.';\n",
              "          element.innerHTML = '';\n",
              "          dataTable['output_type'] = 'display_data';\n",
              "          await google.colab.output.renderOutput(dataTable, element);\n",
              "          const docLink = document.createElement('div');\n",
              "          docLink.innerHTML = docLinkHtml;\n",
              "          element.appendChild(docLink);\n",
              "        }\n",
              "      </script>\n",
              "    </div>\n",
              "  </div>\n",
              "  "
            ]
          },
          "metadata": {},
          "execution_count": 45
        }
      ]
    },
    {
      "cell_type": "code",
      "source": [
        "# (x - 평균)/표준편차\n",
        "df['amt_z_score'] = (df['amt'] - df['mean']) / df['std']"
      ],
      "metadata": {
        "id": "19F4yQk6P0wy"
      },
      "execution_count": null,
      "outputs": []
    },
    {
      "cell_type": "code",
      "source": [
        "df['amt_z_score'].head()"
      ],
      "metadata": {
        "colab": {
          "base_uri": "https://localhost:8080/"
        },
        "id": "z0TfK1NhQhSz",
        "outputId": "74e2cc52-4354-41c9-f889-a7991b7190a8"
      },
      "execution_count": null,
      "outputs": [
        {
          "output_type": "execute_result",
          "data": {
            "text/plain": [
              "0   -0.66\n",
              "1    0.32\n",
              "2    1.29\n",
              "3   -0.13\n",
              "4   -0.57\n",
              "Name: amt_z_score, dtype: float64"
            ]
          },
          "metadata": {},
          "execution_count": 47
        }
      ]
    },
    {
      "cell_type": "code",
      "source": [
        "df.drop(['mean', 'std'], axis=1, inplace=True)"
      ],
      "metadata": {
        "id": "b60RKih5Qtvz"
      },
      "execution_count": null,
      "outputs": []
    },
    {
      "cell_type": "code",
      "source": [
        "#@title 범주별 결제금액\n",
        "# 결제를 한 사람의 카드번호 / 결제가 일어난 상점의 종류(분류)\n",
        "# agg -> 그룹을 대상으로 통계값. 그룹함수\n",
        "# mean : 평균 / std : 표준편차\n",
        "category_info = df.groupby(['cc_num', 'category']).agg(['mean', 'std'])['amt'].reset_index()"
      ],
      "metadata": {
        "id": "-UFHz35DQzOC"
      },
      "execution_count": null,
      "outputs": []
    },
    {
      "cell_type": "code",
      "source": [
        "category_info.head()"
      ],
      "metadata": {
        "colab": {
          "base_uri": "https://localhost:8080/",
          "height": 206
        },
        "id": "yElTq4P-U-8K",
        "outputId": "48d400f4-3f80-4ec6-9661-df1fee5b99ef"
      },
      "execution_count": null,
      "outputs": [
        {
          "output_type": "execute_result",
          "data": {
            "text/plain": [
              "        cc_num       category   mean   std\n",
              "0  60416207185  entertainment  51.84 65.49\n",
              "1  60416207185    food_dining  26.74 46.38\n",
              "2  60416207185  gas_transport  59.78 15.76\n",
              "3  60416207185    grocery_net  52.15 17.69\n",
              "4  60416207185    grocery_pos 101.56 21.89"
            ],
            "text/html": [
              "\n",
              "  <div id=\"df-94139691-ee5c-4c3f-99ed-87116c37da14\">\n",
              "    <div class=\"colab-df-container\">\n",
              "      <div>\n",
              "<style scoped>\n",
              "    .dataframe tbody tr th:only-of-type {\n",
              "        vertical-align: middle;\n",
              "    }\n",
              "\n",
              "    .dataframe tbody tr th {\n",
              "        vertical-align: top;\n",
              "    }\n",
              "\n",
              "    .dataframe thead th {\n",
              "        text-align: right;\n",
              "    }\n",
              "</style>\n",
              "<table border=\"1\" class=\"dataframe\">\n",
              "  <thead>\n",
              "    <tr style=\"text-align: right;\">\n",
              "      <th></th>\n",
              "      <th>cc_num</th>\n",
              "      <th>category</th>\n",
              "      <th>mean</th>\n",
              "      <th>std</th>\n",
              "    </tr>\n",
              "  </thead>\n",
              "  <tbody>\n",
              "    <tr>\n",
              "      <th>0</th>\n",
              "      <td>60416207185</td>\n",
              "      <td>entertainment</td>\n",
              "      <td>51.84</td>\n",
              "      <td>65.49</td>\n",
              "    </tr>\n",
              "    <tr>\n",
              "      <th>1</th>\n",
              "      <td>60416207185</td>\n",
              "      <td>food_dining</td>\n",
              "      <td>26.74</td>\n",
              "      <td>46.38</td>\n",
              "    </tr>\n",
              "    <tr>\n",
              "      <th>2</th>\n",
              "      <td>60416207185</td>\n",
              "      <td>gas_transport</td>\n",
              "      <td>59.78</td>\n",
              "      <td>15.76</td>\n",
              "    </tr>\n",
              "    <tr>\n",
              "      <th>3</th>\n",
              "      <td>60416207185</td>\n",
              "      <td>grocery_net</td>\n",
              "      <td>52.15</td>\n",
              "      <td>17.69</td>\n",
              "    </tr>\n",
              "    <tr>\n",
              "      <th>4</th>\n",
              "      <td>60416207185</td>\n",
              "      <td>grocery_pos</td>\n",
              "      <td>101.56</td>\n",
              "      <td>21.89</td>\n",
              "    </tr>\n",
              "  </tbody>\n",
              "</table>\n",
              "</div>\n",
              "      <button class=\"colab-df-convert\" onclick=\"convertToInteractive('df-94139691-ee5c-4c3f-99ed-87116c37da14')\"\n",
              "              title=\"Convert this dataframe to an interactive table.\"\n",
              "              style=\"display:none;\">\n",
              "        \n",
              "  <svg xmlns=\"http://www.w3.org/2000/svg\" height=\"24px\"viewBox=\"0 0 24 24\"\n",
              "       width=\"24px\">\n",
              "    <path d=\"M0 0h24v24H0V0z\" fill=\"none\"/>\n",
              "    <path d=\"M18.56 5.44l.94 2.06.94-2.06 2.06-.94-2.06-.94-.94-2.06-.94 2.06-2.06.94zm-11 1L8.5 8.5l.94-2.06 2.06-.94-2.06-.94L8.5 2.5l-.94 2.06-2.06.94zm10 10l.94 2.06.94-2.06 2.06-.94-2.06-.94-.94-2.06-.94 2.06-2.06.94z\"/><path d=\"M17.41 7.96l-1.37-1.37c-.4-.4-.92-.59-1.43-.59-.52 0-1.04.2-1.43.59L10.3 9.45l-7.72 7.72c-.78.78-.78 2.05 0 2.83L4 21.41c.39.39.9.59 1.41.59.51 0 1.02-.2 1.41-.59l7.78-7.78 2.81-2.81c.8-.78.8-2.07 0-2.86zM5.41 20L4 18.59l7.72-7.72 1.47 1.35L5.41 20z\"/>\n",
              "  </svg>\n",
              "      </button>\n",
              "      \n",
              "  <style>\n",
              "    .colab-df-container {\n",
              "      display:flex;\n",
              "      flex-wrap:wrap;\n",
              "      gap: 12px;\n",
              "    }\n",
              "\n",
              "    .colab-df-convert {\n",
              "      background-color: #E8F0FE;\n",
              "      border: none;\n",
              "      border-radius: 50%;\n",
              "      cursor: pointer;\n",
              "      display: none;\n",
              "      fill: #1967D2;\n",
              "      height: 32px;\n",
              "      padding: 0 0 0 0;\n",
              "      width: 32px;\n",
              "    }\n",
              "\n",
              "    .colab-df-convert:hover {\n",
              "      background-color: #E2EBFA;\n",
              "      box-shadow: 0px 1px 2px rgba(60, 64, 67, 0.3), 0px 1px 3px 1px rgba(60, 64, 67, 0.15);\n",
              "      fill: #174EA6;\n",
              "    }\n",
              "\n",
              "    [theme=dark] .colab-df-convert {\n",
              "      background-color: #3B4455;\n",
              "      fill: #D2E3FC;\n",
              "    }\n",
              "\n",
              "    [theme=dark] .colab-df-convert:hover {\n",
              "      background-color: #434B5C;\n",
              "      box-shadow: 0px 1px 3px 1px rgba(0, 0, 0, 0.15);\n",
              "      filter: drop-shadow(0px 1px 2px rgba(0, 0, 0, 0.3));\n",
              "      fill: #FFFFFF;\n",
              "    }\n",
              "  </style>\n",
              "\n",
              "      <script>\n",
              "        const buttonEl =\n",
              "          document.querySelector('#df-94139691-ee5c-4c3f-99ed-87116c37da14 button.colab-df-convert');\n",
              "        buttonEl.style.display =\n",
              "          google.colab.kernel.accessAllowed ? 'block' : 'none';\n",
              "\n",
              "        async function convertToInteractive(key) {\n",
              "          const element = document.querySelector('#df-94139691-ee5c-4c3f-99ed-87116c37da14');\n",
              "          const dataTable =\n",
              "            await google.colab.kernel.invokeFunction('convertToInteractive',\n",
              "                                                     [key], {});\n",
              "          if (!dataTable) return;\n",
              "\n",
              "          const docLinkHtml = 'Like what you see? Visit the ' +\n",
              "            '<a target=\"_blank\" href=https://colab.research.google.com/notebooks/data_table.ipynb>data table notebook</a>'\n",
              "            + ' to learn more about interactive tables.';\n",
              "          element.innerHTML = '';\n",
              "          dataTable['output_type'] = 'display_data';\n",
              "          await google.colab.output.renderOutput(dataTable, element);\n",
              "          const docLink = document.createElement('div');\n",
              "          docLink.innerHTML = docLinkHtml;\n",
              "          element.appendChild(docLink);\n",
              "        }\n",
              "      </script>\n",
              "    </div>\n",
              "  </div>\n",
              "  "
            ]
          },
          "metadata": {},
          "execution_count": 50
        }
      ]
    },
    {
      "cell_type": "code",
      "source": [
        "# cc_num, category -> merge. / mean, std => z_score / mean, std? drop\n",
        "df = df.merge(category_info, on=['cc_num', 'category'], how='left')\n",
        "df[['cc_num', 'category', 'amt', 'mean', 'std']].head()"
      ],
      "metadata": {
        "colab": {
          "base_uri": "https://localhost:8080/",
          "height": 206
        },
        "id": "EEA6potRVA_B",
        "outputId": "a9d5735b-4f9b-4076-b3c5-281c0026cd12"
      },
      "execution_count": null,
      "outputs": [
        {
          "output_type": "execute_result",
          "data": {
            "text/plain": [
              "             cc_num       category     amt       mean         std\n",
              "0  2703186189652095       misc_net    4.97  84.860809  116.070300\n",
              "1      630423337322    grocery_pos  107.23  99.637224   23.904424\n",
              "2    38859492057661  entertainment  220.11  46.653103   60.385161\n",
              "3  3534093764340240  gas_transport   45.00  61.537283   15.746841\n",
              "4   375534208663984       misc_pos   41.96  35.481357    4.934731"
            ],
            "text/html": [
              "\n",
              "  <div id=\"df-96ee6f11-e6f4-460c-8f6d-5f1c43efcd6d\">\n",
              "    <div class=\"colab-df-container\">\n",
              "      <div>\n",
              "<style scoped>\n",
              "    .dataframe tbody tr th:only-of-type {\n",
              "        vertical-align: middle;\n",
              "    }\n",
              "\n",
              "    .dataframe tbody tr th {\n",
              "        vertical-align: top;\n",
              "    }\n",
              "\n",
              "    .dataframe thead th {\n",
              "        text-align: right;\n",
              "    }\n",
              "</style>\n",
              "<table border=\"1\" class=\"dataframe\">\n",
              "  <thead>\n",
              "    <tr style=\"text-align: right;\">\n",
              "      <th></th>\n",
              "      <th>cc_num</th>\n",
              "      <th>category</th>\n",
              "      <th>amt</th>\n",
              "      <th>mean</th>\n",
              "      <th>std</th>\n",
              "    </tr>\n",
              "  </thead>\n",
              "  <tbody>\n",
              "    <tr>\n",
              "      <th>0</th>\n",
              "      <td>2703186189652095</td>\n",
              "      <td>misc_net</td>\n",
              "      <td>4.97</td>\n",
              "      <td>84.860809</td>\n",
              "      <td>116.070300</td>\n",
              "    </tr>\n",
              "    <tr>\n",
              "      <th>1</th>\n",
              "      <td>630423337322</td>\n",
              "      <td>grocery_pos</td>\n",
              "      <td>107.23</td>\n",
              "      <td>99.637224</td>\n",
              "      <td>23.904424</td>\n",
              "    </tr>\n",
              "    <tr>\n",
              "      <th>2</th>\n",
              "      <td>38859492057661</td>\n",
              "      <td>entertainment</td>\n",
              "      <td>220.11</td>\n",
              "      <td>46.653103</td>\n",
              "      <td>60.385161</td>\n",
              "    </tr>\n",
              "    <tr>\n",
              "      <th>3</th>\n",
              "      <td>3534093764340240</td>\n",
              "      <td>gas_transport</td>\n",
              "      <td>45.00</td>\n",
              "      <td>61.537283</td>\n",
              "      <td>15.746841</td>\n",
              "    </tr>\n",
              "    <tr>\n",
              "      <th>4</th>\n",
              "      <td>375534208663984</td>\n",
              "      <td>misc_pos</td>\n",
              "      <td>41.96</td>\n",
              "      <td>35.481357</td>\n",
              "      <td>4.934731</td>\n",
              "    </tr>\n",
              "  </tbody>\n",
              "</table>\n",
              "</div>\n",
              "      <button class=\"colab-df-convert\" onclick=\"convertToInteractive('df-96ee6f11-e6f4-460c-8f6d-5f1c43efcd6d')\"\n",
              "              title=\"Convert this dataframe to an interactive table.\"\n",
              "              style=\"display:none;\">\n",
              "        \n",
              "  <svg xmlns=\"http://www.w3.org/2000/svg\" height=\"24px\"viewBox=\"0 0 24 24\"\n",
              "       width=\"24px\">\n",
              "    <path d=\"M0 0h24v24H0V0z\" fill=\"none\"/>\n",
              "    <path d=\"M18.56 5.44l.94 2.06.94-2.06 2.06-.94-2.06-.94-.94-2.06-.94 2.06-2.06.94zm-11 1L8.5 8.5l.94-2.06 2.06-.94-2.06-.94L8.5 2.5l-.94 2.06-2.06.94zm10 10l.94 2.06.94-2.06 2.06-.94-2.06-.94-.94-2.06-.94 2.06-2.06.94z\"/><path d=\"M17.41 7.96l-1.37-1.37c-.4-.4-.92-.59-1.43-.59-.52 0-1.04.2-1.43.59L10.3 9.45l-7.72 7.72c-.78.78-.78 2.05 0 2.83L4 21.41c.39.39.9.59 1.41.59.51 0 1.02-.2 1.41-.59l7.78-7.78 2.81-2.81c.8-.78.8-2.07 0-2.86zM5.41 20L4 18.59l7.72-7.72 1.47 1.35L5.41 20z\"/>\n",
              "  </svg>\n",
              "      </button>\n",
              "      \n",
              "  <style>\n",
              "    .colab-df-container {\n",
              "      display:flex;\n",
              "      flex-wrap:wrap;\n",
              "      gap: 12px;\n",
              "    }\n",
              "\n",
              "    .colab-df-convert {\n",
              "      background-color: #E8F0FE;\n",
              "      border: none;\n",
              "      border-radius: 50%;\n",
              "      cursor: pointer;\n",
              "      display: none;\n",
              "      fill: #1967D2;\n",
              "      height: 32px;\n",
              "      padding: 0 0 0 0;\n",
              "      width: 32px;\n",
              "    }\n",
              "\n",
              "    .colab-df-convert:hover {\n",
              "      background-color: #E2EBFA;\n",
              "      box-shadow: 0px 1px 2px rgba(60, 64, 67, 0.3), 0px 1px 3px 1px rgba(60, 64, 67, 0.15);\n",
              "      fill: #174EA6;\n",
              "    }\n",
              "\n",
              "    [theme=dark] .colab-df-convert {\n",
              "      background-color: #3B4455;\n",
              "      fill: #D2E3FC;\n",
              "    }\n",
              "\n",
              "    [theme=dark] .colab-df-convert:hover {\n",
              "      background-color: #434B5C;\n",
              "      box-shadow: 0px 1px 3px 1px rgba(0, 0, 0, 0.15);\n",
              "      filter: drop-shadow(0px 1px 2px rgba(0, 0, 0, 0.3));\n",
              "      fill: #FFFFFF;\n",
              "    }\n",
              "  </style>\n",
              "\n",
              "      <script>\n",
              "        const buttonEl =\n",
              "          document.querySelector('#df-96ee6f11-e6f4-460c-8f6d-5f1c43efcd6d button.colab-df-convert');\n",
              "        buttonEl.style.display =\n",
              "          google.colab.kernel.accessAllowed ? 'block' : 'none';\n",
              "\n",
              "        async function convertToInteractive(key) {\n",
              "          const element = document.querySelector('#df-96ee6f11-e6f4-460c-8f6d-5f1c43efcd6d');\n",
              "          const dataTable =\n",
              "            await google.colab.kernel.invokeFunction('convertToInteractive',\n",
              "                                                     [key], {});\n",
              "          if (!dataTable) return;\n",
              "\n",
              "          const docLinkHtml = 'Like what you see? Visit the ' +\n",
              "            '<a target=\"_blank\" href=https://colab.research.google.com/notebooks/data_table.ipynb>data table notebook</a>'\n",
              "            + ' to learn more about interactive tables.';\n",
              "          element.innerHTML = '';\n",
              "          dataTable['output_type'] = 'display_data';\n",
              "          await google.colab.output.renderOutput(dataTable, element);\n",
              "          const docLink = document.createElement('div');\n",
              "          docLink.innerHTML = docLinkHtml;\n",
              "          element.appendChild(docLink);\n",
              "        }\n",
              "      </script>\n",
              "    </div>\n",
              "  </div>\n",
              "  "
            ]
          },
          "metadata": {},
          "execution_count": 12
        }
      ]
    },
    {
      "cell_type": "code",
      "source": [
        "df['cat_z_score'] = (df['amt'] - df['mean']) / df['std']"
      ],
      "metadata": {
        "id": "65XqAJTAV4Ox"
      },
      "execution_count": null,
      "outputs": []
    },
    {
      "cell_type": "code",
      "source": [
        "df['cat_z_score'].head()"
      ],
      "metadata": {
        "colab": {
          "base_uri": "https://localhost:8080/"
        },
        "id": "WKwmDXO3WRiD",
        "outputId": "4b5e81fd-78ac-49a9-ae4a-3ed52130ee46"
      },
      "execution_count": null,
      "outputs": [
        {
          "output_type": "execute_result",
          "data": {
            "text/plain": [
              "0   -0.688297\n",
              "1    0.317631\n",
              "2    2.872509\n",
              "3   -1.050197\n",
              "4    1.312866\n",
              "Name: cat_z_score, dtype: float64"
            ]
          },
          "metadata": {},
          "execution_count": 14
        }
      ]
    },
    {
      "cell_type": "code",
      "source": [
        "df.drop(['mean', 'std'], axis=1, inplace=True)"
      ],
      "metadata": {
        "id": "bQKne6tKaD0b"
      },
      "execution_count": null,
      "outputs": []
    },
    {
      "cell_type": "code",
      "source": [
        "import geopy.distance"
      ],
      "metadata": {
        "id": "D5s0MzFQWdic"
      },
      "execution_count": null,
      "outputs": []
    },
    {
      "cell_type": "code",
      "source": [
        "# 두 지점 간의 거리 (위경도)\n",
        "# geopy.distance.distance((lat1, lng1), (lat2, lng2))"
      ],
      "metadata": {
        "id": "xRLMlcYUWiIw"
      },
      "execution_count": null,
      "outputs": []
    },
    {
      "cell_type": "code",
      "source": [
        "# coordinate 좌표 (위.경도)\n",
        "# -- 좌표 : (위도, 경도) - latitude(위도)->북/남 / longitude(경도)->동/서\n",
        "# 1. 상점의 위치 (merchant)\n",
        "# 2. 고객의 위치 (customer)\n",
        "df['merch_coord'] = pd.Series(zip(df.merch_lat, df.merch_long))\n",
        "df['cust_coord'] = pd.Series(zip(df['lat'], df['long']))"
      ],
      "metadata": {
        "id": "zUhy7LBAXIbp"
      },
      "execution_count": null,
      "outputs": []
    },
    {
      "cell_type": "code",
      "source": [
        "df['distance'] = df.apply(lambda x: geopy.distance.distance(x['merch_coord'], x['cust_coord']).km, axis=1)"
      ],
      "metadata": {
        "id": "GooNby3oXpWw"
      },
      "execution_count": null,
      "outputs": []
    },
    {
      "cell_type": "code",
      "source": [
        "df2 = df.copy()"
      ],
      "metadata": {
        "id": "mP8enfkvdIgk"
      },
      "execution_count": null,
      "outputs": []
    },
    {
      "cell_type": "code",
      "source": [
        "df2.distance"
      ],
      "metadata": {
        "colab": {
          "base_uri": "https://localhost:8080/"
        },
        "id": "0h1dGZxDdNW2",
        "outputId": "4c17262d-da13-4956-e1ab-da332aeaef45"
      },
      "execution_count": null,
      "outputs": [
        {
          "output_type": "execute_result",
          "data": {
            "text/plain": [
              "0          78.77\n",
              "1          30.22\n",
              "2         108.10\n",
              "3          95.69\n",
              "4          77.70\n",
              "           ...  \n",
              "1852389    77.03\n",
              "1852390   100.02\n",
              "1852391    80.89\n",
              "1852392    53.06\n",
              "1852393    72.38\n",
              "Name: distance, Length: 1852394, dtype: float64"
            ]
          },
          "metadata": {},
          "execution_count": 70
        }
      ]
    },
    {
      "cell_type": "code",
      "source": [
        "# .km 빼먹으면 -> 단위를 포함해서 object -> object => float\n",
        "# df['distance'] = df['distance'].str.split(expand=True)[0].astype('float64')"
      ],
      "metadata": {
        "id": "Gjfa_RF8amep"
      },
      "execution_count": null,
      "outputs": []
    },
    {
      "cell_type": "code",
      "source": [
        "distance_info = df.groupby('cc_num').agg(['mean', 'std'])['distance'].reset_index()"
      ],
      "metadata": {
        "id": "pWCy7ftYYAXA"
      },
      "execution_count": null,
      "outputs": []
    },
    {
      "cell_type": "code",
      "source": [
        "distance_info"
      ],
      "metadata": {
        "colab": {
          "base_uri": "https://localhost:8080/",
          "height": 424
        },
        "id": "So-YkM-edRNf",
        "outputId": "e9e7ecb2-e8f1-4bdb-f395-c526d7bbcaec"
      },
      "execution_count": null,
      "outputs": [
        {
          "output_type": "execute_result",
          "data": {
            "text/plain": [
              "                  cc_num       mean        std\n",
              "0            60416207185  73.534542  28.698149\n",
              "1            60422928733  78.986422  29.299240\n",
              "2            60423098130  77.826916  28.187560\n",
              "3            60427851591  75.711544  28.977432\n",
              "4            60487002085  79.442907  28.767086\n",
              "..                   ...        ...        ...\n",
              "994  4958589671582726883  76.735763  29.123745\n",
              "995  4973530368125489546  78.753844  29.450837\n",
              "996  4980323467523543940  72.272008  28.279840\n",
              "997  4989847570577635369  76.969707  29.386961\n",
              "998  4992346398065154184  74.863047  29.070233\n",
              "\n",
              "[999 rows x 3 columns]"
            ],
            "text/html": [
              "\n",
              "  <div id=\"df-5fa754de-2cec-4b04-9bc9-d004d0710bb4\">\n",
              "    <div class=\"colab-df-container\">\n",
              "      <div>\n",
              "<style scoped>\n",
              "    .dataframe tbody tr th:only-of-type {\n",
              "        vertical-align: middle;\n",
              "    }\n",
              "\n",
              "    .dataframe tbody tr th {\n",
              "        vertical-align: top;\n",
              "    }\n",
              "\n",
              "    .dataframe thead th {\n",
              "        text-align: right;\n",
              "    }\n",
              "</style>\n",
              "<table border=\"1\" class=\"dataframe\">\n",
              "  <thead>\n",
              "    <tr style=\"text-align: right;\">\n",
              "      <th></th>\n",
              "      <th>cc_num</th>\n",
              "      <th>mean</th>\n",
              "      <th>std</th>\n",
              "    </tr>\n",
              "  </thead>\n",
              "  <tbody>\n",
              "    <tr>\n",
              "      <th>0</th>\n",
              "      <td>60416207185</td>\n",
              "      <td>73.534542</td>\n",
              "      <td>28.698149</td>\n",
              "    </tr>\n",
              "    <tr>\n",
              "      <th>1</th>\n",
              "      <td>60422928733</td>\n",
              "      <td>78.986422</td>\n",
              "      <td>29.299240</td>\n",
              "    </tr>\n",
              "    <tr>\n",
              "      <th>2</th>\n",
              "      <td>60423098130</td>\n",
              "      <td>77.826916</td>\n",
              "      <td>28.187560</td>\n",
              "    </tr>\n",
              "    <tr>\n",
              "      <th>3</th>\n",
              "      <td>60427851591</td>\n",
              "      <td>75.711544</td>\n",
              "      <td>28.977432</td>\n",
              "    </tr>\n",
              "    <tr>\n",
              "      <th>4</th>\n",
              "      <td>60487002085</td>\n",
              "      <td>79.442907</td>\n",
              "      <td>28.767086</td>\n",
              "    </tr>\n",
              "    <tr>\n",
              "      <th>...</th>\n",
              "      <td>...</td>\n",
              "      <td>...</td>\n",
              "      <td>...</td>\n",
              "    </tr>\n",
              "    <tr>\n",
              "      <th>994</th>\n",
              "      <td>4958589671582726883</td>\n",
              "      <td>76.735763</td>\n",
              "      <td>29.123745</td>\n",
              "    </tr>\n",
              "    <tr>\n",
              "      <th>995</th>\n",
              "      <td>4973530368125489546</td>\n",
              "      <td>78.753844</td>\n",
              "      <td>29.450837</td>\n",
              "    </tr>\n",
              "    <tr>\n",
              "      <th>996</th>\n",
              "      <td>4980323467523543940</td>\n",
              "      <td>72.272008</td>\n",
              "      <td>28.279840</td>\n",
              "    </tr>\n",
              "    <tr>\n",
              "      <th>997</th>\n",
              "      <td>4989847570577635369</td>\n",
              "      <td>76.969707</td>\n",
              "      <td>29.386961</td>\n",
              "    </tr>\n",
              "    <tr>\n",
              "      <th>998</th>\n",
              "      <td>4992346398065154184</td>\n",
              "      <td>74.863047</td>\n",
              "      <td>29.070233</td>\n",
              "    </tr>\n",
              "  </tbody>\n",
              "</table>\n",
              "<p>999 rows × 3 columns</p>\n",
              "</div>\n",
              "      <button class=\"colab-df-convert\" onclick=\"convertToInteractive('df-5fa754de-2cec-4b04-9bc9-d004d0710bb4')\"\n",
              "              title=\"Convert this dataframe to an interactive table.\"\n",
              "              style=\"display:none;\">\n",
              "        \n",
              "  <svg xmlns=\"http://www.w3.org/2000/svg\" height=\"24px\"viewBox=\"0 0 24 24\"\n",
              "       width=\"24px\">\n",
              "    <path d=\"M0 0h24v24H0V0z\" fill=\"none\"/>\n",
              "    <path d=\"M18.56 5.44l.94 2.06.94-2.06 2.06-.94-2.06-.94-.94-2.06-.94 2.06-2.06.94zm-11 1L8.5 8.5l.94-2.06 2.06-.94-2.06-.94L8.5 2.5l-.94 2.06-2.06.94zm10 10l.94 2.06.94-2.06 2.06-.94-2.06-.94-.94-2.06-.94 2.06-2.06.94z\"/><path d=\"M17.41 7.96l-1.37-1.37c-.4-.4-.92-.59-1.43-.59-.52 0-1.04.2-1.43.59L10.3 9.45l-7.72 7.72c-.78.78-.78 2.05 0 2.83L4 21.41c.39.39.9.59 1.41.59.51 0 1.02-.2 1.41-.59l7.78-7.78 2.81-2.81c.8-.78.8-2.07 0-2.86zM5.41 20L4 18.59l7.72-7.72 1.47 1.35L5.41 20z\"/>\n",
              "  </svg>\n",
              "      </button>\n",
              "      \n",
              "  <style>\n",
              "    .colab-df-container {\n",
              "      display:flex;\n",
              "      flex-wrap:wrap;\n",
              "      gap: 12px;\n",
              "    }\n",
              "\n",
              "    .colab-df-convert {\n",
              "      background-color: #E8F0FE;\n",
              "      border: none;\n",
              "      border-radius: 50%;\n",
              "      cursor: pointer;\n",
              "      display: none;\n",
              "      fill: #1967D2;\n",
              "      height: 32px;\n",
              "      padding: 0 0 0 0;\n",
              "      width: 32px;\n",
              "    }\n",
              "\n",
              "    .colab-df-convert:hover {\n",
              "      background-color: #E2EBFA;\n",
              "      box-shadow: 0px 1px 2px rgba(60, 64, 67, 0.3), 0px 1px 3px 1px rgba(60, 64, 67, 0.15);\n",
              "      fill: #174EA6;\n",
              "    }\n",
              "\n",
              "    [theme=dark] .colab-df-convert {\n",
              "      background-color: #3B4455;\n",
              "      fill: #D2E3FC;\n",
              "    }\n",
              "\n",
              "    [theme=dark] .colab-df-convert:hover {\n",
              "      background-color: #434B5C;\n",
              "      box-shadow: 0px 1px 3px 1px rgba(0, 0, 0, 0.15);\n",
              "      filter: drop-shadow(0px 1px 2px rgba(0, 0, 0, 0.3));\n",
              "      fill: #FFFFFF;\n",
              "    }\n",
              "  </style>\n",
              "\n",
              "      <script>\n",
              "        const buttonEl =\n",
              "          document.querySelector('#df-5fa754de-2cec-4b04-9bc9-d004d0710bb4 button.colab-df-convert');\n",
              "        buttonEl.style.display =\n",
              "          google.colab.kernel.accessAllowed ? 'block' : 'none';\n",
              "\n",
              "        async function convertToInteractive(key) {\n",
              "          const element = document.querySelector('#df-5fa754de-2cec-4b04-9bc9-d004d0710bb4');\n",
              "          const dataTable =\n",
              "            await google.colab.kernel.invokeFunction('convertToInteractive',\n",
              "                                                     [key], {});\n",
              "          if (!dataTable) return;\n",
              "\n",
              "          const docLinkHtml = 'Like what you see? Visit the ' +\n",
              "            '<a target=\"_blank\" href=https://colab.research.google.com/notebooks/data_table.ipynb>data table notebook</a>'\n",
              "            + ' to learn more about interactive tables.';\n",
              "          element.innerHTML = '';\n",
              "          dataTable['output_type'] = 'display_data';\n",
              "          await google.colab.output.renderOutput(dataTable, element);\n",
              "          const docLink = document.createElement('div');\n",
              "          docLink.innerHTML = docLinkHtml;\n",
              "          element.appendChild(docLink);\n",
              "        }\n",
              "      </script>\n",
              "    </div>\n",
              "  </div>\n",
              "  "
            ]
          },
          "metadata": {},
          "execution_count": 22
        }
      ]
    },
    {
      "cell_type": "code",
      "source": [
        "df = df.merge(distance_info, on = 'cc_num', how='left')\n",
        "df['distance_z_score'] = (df['distance'] - df['mean']) / df['std']"
      ],
      "metadata": {
        "id": "yeqfe9rtaduI"
      },
      "execution_count": null,
      "outputs": []
    },
    {
      "cell_type": "code",
      "source": [
        "df['distance_z_score']"
      ],
      "metadata": {
        "colab": {
          "base_uri": "https://localhost:8080/"
        },
        "id": "M2PQ72efdVqP",
        "outputId": "9137f203-4b3a-4abd-f117-76d76dc86ab3"
      },
      "execution_count": null,
      "outputs": [
        {
          "output_type": "execute_result",
          "data": {
            "text/plain": [
              "0          0.030974\n",
              "1         -1.475224\n",
              "2          1.160572\n",
              "3          0.818063\n",
              "4          0.064037\n",
              "             ...   \n",
              "1852389    0.052081\n",
              "1852390    0.693848\n",
              "1852391    0.288293\n",
              "1852392   -0.730061\n",
              "1852393   -0.159439\n",
              "Name: distance_z_score, Length: 1852394, dtype: float64"
            ]
          },
          "metadata": {},
          "execution_count": 24
        }
      ]
    },
    {
      "cell_type": "code",
      "source": [
        "df.drop(['mean', 'std'], axis=1, inplace=True)"
      ],
      "metadata": {
        "id": "tFZI6rHxbRW6"
      },
      "execution_count": null,
      "outputs": []
    },
    {
      "cell_type": "code",
      "source": [
        "df.head()"
      ],
      "metadata": {
        "colab": {
          "base_uri": "https://localhost:8080/",
          "height": 357
        },
        "id": "Q4sDWkEmbTgo",
        "outputId": "39de7a7b-9bf2-4e02-b774-8af4c1a4fed9"
      },
      "execution_count": null,
      "outputs": [
        {
          "output_type": "execute_result",
          "data": {
            "text/plain": [
              "  trans_date_trans_time            cc_num       category     amt gender  \\\n",
              "0   2019-01-01 00:00:18  2703186189652095       misc_net    4.97      F   \n",
              "1   2019-01-01 00:00:44      630423337322    grocery_pos  107.23      F   \n",
              "2   2019-01-01 00:00:51    38859492057661  entertainment  220.11      M   \n",
              "3   2019-01-01 00:01:16  3534093764340240  gas_transport   45.00      M   \n",
              "4   2019-01-01 00:03:06   375534208663984       misc_pos   41.96      M   \n",
              "\n",
              "       lat      long  city_pop         dob  merch_lat  merch_long  is_fraud  \\\n",
              "0  36.0788  -81.1781      3495  1988-03-09  36.011293  -82.048315         0   \n",
              "1  48.8878 -118.2105       149  1978-06-21  49.159047 -118.186462         0   \n",
              "2  42.1808 -112.2620      4154  1962-01-19  43.150704 -112.154481         0   \n",
              "3  46.2306 -112.1138      1939  1967-01-12  47.034331 -112.561071         0   \n",
              "4  38.4207  -79.4629        99  1986-03-28  38.674999  -78.632459         0   \n",
              "\n",
              "   amt_z_score  cat_z_score               merch_coord            cust_coord  \\\n",
              "0    -0.662108    -0.688297   (36.011293, -82.048315)   (36.0788, -81.1781)   \n",
              "1     0.321302     0.317631  (49.159047, -118.186462)  (48.8878, -118.2105)   \n",
              "2     1.287064     2.872509  (43.150704, -112.154481)   (42.1808, -112.262)   \n",
              "3    -0.125287    -1.050197  (47.034331, -112.561071)  (46.2306, -112.1138)   \n",
              "4    -0.565941     1.312866   (38.674999, -78.632459)   (38.4207, -79.4629)   \n",
              "\n",
              "     distance  distance_z_score  \n",
              "0   78.773821          0.030974  \n",
              "1   30.216618         -1.475224  \n",
              "2  108.102912          1.160572  \n",
              "3   95.685115          0.818063  \n",
              "4   77.702395          0.064037  "
            ],
            "text/html": [
              "\n",
              "  <div id=\"df-fb5a04af-51df-4dc8-a5b9-d1faa47d7224\">\n",
              "    <div class=\"colab-df-container\">\n",
              "      <div>\n",
              "<style scoped>\n",
              "    .dataframe tbody tr th:only-of-type {\n",
              "        vertical-align: middle;\n",
              "    }\n",
              "\n",
              "    .dataframe tbody tr th {\n",
              "        vertical-align: top;\n",
              "    }\n",
              "\n",
              "    .dataframe thead th {\n",
              "        text-align: right;\n",
              "    }\n",
              "</style>\n",
              "<table border=\"1\" class=\"dataframe\">\n",
              "  <thead>\n",
              "    <tr style=\"text-align: right;\">\n",
              "      <th></th>\n",
              "      <th>trans_date_trans_time</th>\n",
              "      <th>cc_num</th>\n",
              "      <th>category</th>\n",
              "      <th>amt</th>\n",
              "      <th>gender</th>\n",
              "      <th>lat</th>\n",
              "      <th>long</th>\n",
              "      <th>city_pop</th>\n",
              "      <th>dob</th>\n",
              "      <th>merch_lat</th>\n",
              "      <th>merch_long</th>\n",
              "      <th>is_fraud</th>\n",
              "      <th>amt_z_score</th>\n",
              "      <th>cat_z_score</th>\n",
              "      <th>merch_coord</th>\n",
              "      <th>cust_coord</th>\n",
              "      <th>distance</th>\n",
              "      <th>distance_z_score</th>\n",
              "    </tr>\n",
              "  </thead>\n",
              "  <tbody>\n",
              "    <tr>\n",
              "      <th>0</th>\n",
              "      <td>2019-01-01 00:00:18</td>\n",
              "      <td>2703186189652095</td>\n",
              "      <td>misc_net</td>\n",
              "      <td>4.97</td>\n",
              "      <td>F</td>\n",
              "      <td>36.0788</td>\n",
              "      <td>-81.1781</td>\n",
              "      <td>3495</td>\n",
              "      <td>1988-03-09</td>\n",
              "      <td>36.011293</td>\n",
              "      <td>-82.048315</td>\n",
              "      <td>0</td>\n",
              "      <td>-0.662108</td>\n",
              "      <td>-0.688297</td>\n",
              "      <td>(36.011293, -82.048315)</td>\n",
              "      <td>(36.0788, -81.1781)</td>\n",
              "      <td>78.773821</td>\n",
              "      <td>0.030974</td>\n",
              "    </tr>\n",
              "    <tr>\n",
              "      <th>1</th>\n",
              "      <td>2019-01-01 00:00:44</td>\n",
              "      <td>630423337322</td>\n",
              "      <td>grocery_pos</td>\n",
              "      <td>107.23</td>\n",
              "      <td>F</td>\n",
              "      <td>48.8878</td>\n",
              "      <td>-118.2105</td>\n",
              "      <td>149</td>\n",
              "      <td>1978-06-21</td>\n",
              "      <td>49.159047</td>\n",
              "      <td>-118.186462</td>\n",
              "      <td>0</td>\n",
              "      <td>0.321302</td>\n",
              "      <td>0.317631</td>\n",
              "      <td>(49.159047, -118.186462)</td>\n",
              "      <td>(48.8878, -118.2105)</td>\n",
              "      <td>30.216618</td>\n",
              "      <td>-1.475224</td>\n",
              "    </tr>\n",
              "    <tr>\n",
              "      <th>2</th>\n",
              "      <td>2019-01-01 00:00:51</td>\n",
              "      <td>38859492057661</td>\n",
              "      <td>entertainment</td>\n",
              "      <td>220.11</td>\n",
              "      <td>M</td>\n",
              "      <td>42.1808</td>\n",
              "      <td>-112.2620</td>\n",
              "      <td>4154</td>\n",
              "      <td>1962-01-19</td>\n",
              "      <td>43.150704</td>\n",
              "      <td>-112.154481</td>\n",
              "      <td>0</td>\n",
              "      <td>1.287064</td>\n",
              "      <td>2.872509</td>\n",
              "      <td>(43.150704, -112.154481)</td>\n",
              "      <td>(42.1808, -112.262)</td>\n",
              "      <td>108.102912</td>\n",
              "      <td>1.160572</td>\n",
              "    </tr>\n",
              "    <tr>\n",
              "      <th>3</th>\n",
              "      <td>2019-01-01 00:01:16</td>\n",
              "      <td>3534093764340240</td>\n",
              "      <td>gas_transport</td>\n",
              "      <td>45.00</td>\n",
              "      <td>M</td>\n",
              "      <td>46.2306</td>\n",
              "      <td>-112.1138</td>\n",
              "      <td>1939</td>\n",
              "      <td>1967-01-12</td>\n",
              "      <td>47.034331</td>\n",
              "      <td>-112.561071</td>\n",
              "      <td>0</td>\n",
              "      <td>-0.125287</td>\n",
              "      <td>-1.050197</td>\n",
              "      <td>(47.034331, -112.561071)</td>\n",
              "      <td>(46.2306, -112.1138)</td>\n",
              "      <td>95.685115</td>\n",
              "      <td>0.818063</td>\n",
              "    </tr>\n",
              "    <tr>\n",
              "      <th>4</th>\n",
              "      <td>2019-01-01 00:03:06</td>\n",
              "      <td>375534208663984</td>\n",
              "      <td>misc_pos</td>\n",
              "      <td>41.96</td>\n",
              "      <td>M</td>\n",
              "      <td>38.4207</td>\n",
              "      <td>-79.4629</td>\n",
              "      <td>99</td>\n",
              "      <td>1986-03-28</td>\n",
              "      <td>38.674999</td>\n",
              "      <td>-78.632459</td>\n",
              "      <td>0</td>\n",
              "      <td>-0.565941</td>\n",
              "      <td>1.312866</td>\n",
              "      <td>(38.674999, -78.632459)</td>\n",
              "      <td>(38.4207, -79.4629)</td>\n",
              "      <td>77.702395</td>\n",
              "      <td>0.064037</td>\n",
              "    </tr>\n",
              "  </tbody>\n",
              "</table>\n",
              "</div>\n",
              "      <button class=\"colab-df-convert\" onclick=\"convertToInteractive('df-fb5a04af-51df-4dc8-a5b9-d1faa47d7224')\"\n",
              "              title=\"Convert this dataframe to an interactive table.\"\n",
              "              style=\"display:none;\">\n",
              "        \n",
              "  <svg xmlns=\"http://www.w3.org/2000/svg\" height=\"24px\"viewBox=\"0 0 24 24\"\n",
              "       width=\"24px\">\n",
              "    <path d=\"M0 0h24v24H0V0z\" fill=\"none\"/>\n",
              "    <path d=\"M18.56 5.44l.94 2.06.94-2.06 2.06-.94-2.06-.94-.94-2.06-.94 2.06-2.06.94zm-11 1L8.5 8.5l.94-2.06 2.06-.94-2.06-.94L8.5 2.5l-.94 2.06-2.06.94zm10 10l.94 2.06.94-2.06 2.06-.94-2.06-.94-.94-2.06-.94 2.06-2.06.94z\"/><path d=\"M17.41 7.96l-1.37-1.37c-.4-.4-.92-.59-1.43-.59-.52 0-1.04.2-1.43.59L10.3 9.45l-7.72 7.72c-.78.78-.78 2.05 0 2.83L4 21.41c.39.39.9.59 1.41.59.51 0 1.02-.2 1.41-.59l7.78-7.78 2.81-2.81c.8-.78.8-2.07 0-2.86zM5.41 20L4 18.59l7.72-7.72 1.47 1.35L5.41 20z\"/>\n",
              "  </svg>\n",
              "      </button>\n",
              "      \n",
              "  <style>\n",
              "    .colab-df-container {\n",
              "      display:flex;\n",
              "      flex-wrap:wrap;\n",
              "      gap: 12px;\n",
              "    }\n",
              "\n",
              "    .colab-df-convert {\n",
              "      background-color: #E8F0FE;\n",
              "      border: none;\n",
              "      border-radius: 50%;\n",
              "      cursor: pointer;\n",
              "      display: none;\n",
              "      fill: #1967D2;\n",
              "      height: 32px;\n",
              "      padding: 0 0 0 0;\n",
              "      width: 32px;\n",
              "    }\n",
              "\n",
              "    .colab-df-convert:hover {\n",
              "      background-color: #E2EBFA;\n",
              "      box-shadow: 0px 1px 2px rgba(60, 64, 67, 0.3), 0px 1px 3px 1px rgba(60, 64, 67, 0.15);\n",
              "      fill: #174EA6;\n",
              "    }\n",
              "\n",
              "    [theme=dark] .colab-df-convert {\n",
              "      background-color: #3B4455;\n",
              "      fill: #D2E3FC;\n",
              "    }\n",
              "\n",
              "    [theme=dark] .colab-df-convert:hover {\n",
              "      background-color: #434B5C;\n",
              "      box-shadow: 0px 1px 3px 1px rgba(0, 0, 0, 0.15);\n",
              "      filter: drop-shadow(0px 1px 2px rgba(0, 0, 0, 0.3));\n",
              "      fill: #FFFFFF;\n",
              "    }\n",
              "  </style>\n",
              "\n",
              "      <script>\n",
              "        const buttonEl =\n",
              "          document.querySelector('#df-fb5a04af-51df-4dc8-a5b9-d1faa47d7224 button.colab-df-convert');\n",
              "        buttonEl.style.display =\n",
              "          google.colab.kernel.accessAllowed ? 'block' : 'none';\n",
              "\n",
              "        async function convertToInteractive(key) {\n",
              "          const element = document.querySelector('#df-fb5a04af-51df-4dc8-a5b9-d1faa47d7224');\n",
              "          const dataTable =\n",
              "            await google.colab.kernel.invokeFunction('convertToInteractive',\n",
              "                                                     [key], {});\n",
              "          if (!dataTable) return;\n",
              "\n",
              "          const docLinkHtml = 'Like what you see? Visit the ' +\n",
              "            '<a target=\"_blank\" href=https://colab.research.google.com/notebooks/data_table.ipynb>data table notebook</a>'\n",
              "            + ' to learn more about interactive tables.';\n",
              "          element.innerHTML = '';\n",
              "          dataTable['output_type'] = 'display_data';\n",
              "          await google.colab.output.renderOutput(dataTable, element);\n",
              "          const docLink = document.createElement('div');\n",
              "          docLink.innerHTML = docLinkHtml;\n",
              "          element.appendChild(docLink);\n",
              "        }\n",
              "      </script>\n",
              "    </div>\n",
              "  </div>\n",
              "  "
            ]
          },
          "metadata": {},
          "execution_count": 26
        }
      ]
    },
    {
      "cell_type": "code",
      "source": [
        "df.isna().mean()"
      ],
      "metadata": {
        "colab": {
          "base_uri": "https://localhost:8080/"
        },
        "id": "ifoOyTnNdbpz",
        "outputId": "f9189aef-f748-476c-affa-7fb5a5a27df7"
      },
      "execution_count": null,
      "outputs": [
        {
          "output_type": "execute_result",
          "data": {
            "text/plain": [
              "trans_date_trans_time   0.00\n",
              "cc_num                  0.00\n",
              "category                0.00\n",
              "amt                     0.00\n",
              "gender                  0.00\n",
              "lat                     0.00\n",
              "long                    0.00\n",
              "city_pop                0.00\n",
              "dob                     0.00\n",
              "merch_lat               0.00\n",
              "merch_long              0.00\n",
              "is_fraud                0.00\n",
              "amt_z_score             0.00\n",
              "cat_z_score             0.00\n",
              "merch_coord             0.00\n",
              "cust_coord              0.00\n",
              "distance                0.00\n",
              "distance_z_score        0.00\n",
              "dtype: float64"
            ]
          },
          "metadata": {},
          "execution_count": 77
        }
      ]
    },
    {
      "cell_type": "code",
      "source": [
        "df['dob'] # yyyy-MM-dd"
      ],
      "metadata": {
        "colab": {
          "base_uri": "https://localhost:8080/"
        },
        "id": "XDSAlqUwaNMN",
        "outputId": "71025bae-aa71-4b2f-eb0c-a8f993e9bc07"
      },
      "execution_count": null,
      "outputs": [
        {
          "output_type": "execute_result",
          "data": {
            "text/plain": [
              "0          1988-03-09\n",
              "1          1978-06-21\n",
              "2          1962-01-19\n",
              "3          1967-01-12\n",
              "4          1986-03-28\n",
              "              ...    \n",
              "1852389    1966-02-13\n",
              "1852390    1999-12-27\n",
              "1852391    1981-11-29\n",
              "1852392    1965-12-15\n",
              "1852393    1993-05-10\n",
              "Name: dob, Length: 1852394, dtype: object"
            ]
          },
          "metadata": {},
          "execution_count": 29
        }
      ]
    },
    {
      "cell_type": "code",
      "source": [
        "pd.to_datetime(df['dob'])"
      ],
      "metadata": {
        "colab": {
          "base_uri": "https://localhost:8080/"
        },
        "id": "XgytbVOiaTja",
        "outputId": "9ce2e353-7288-48a2-cd56-ac70a600c1ad"
      },
      "execution_count": null,
      "outputs": [
        {
          "output_type": "execute_result",
          "data": {
            "text/plain": [
              "0         1988-03-09\n",
              "1         1978-06-21\n",
              "2         1962-01-19\n",
              "3         1967-01-12\n",
              "4         1986-03-28\n",
              "             ...    \n",
              "1852389   1966-02-13\n",
              "1852390   1999-12-27\n",
              "1852391   1981-11-29\n",
              "1852392   1965-12-15\n",
              "1852393   1993-05-10\n",
              "Name: dob, Length: 1852394, dtype: datetime64[ns]"
            ]
          },
          "metadata": {},
          "execution_count": 30
        }
      ]
    },
    {
      "cell_type": "code",
      "source": [
        "# pd.to_datetime(df['dob']).dt # 날짜/시간 관련된 메소드.프로퍼티\n",
        "pd.to_datetime(df['dob']).dt.year"
      ],
      "metadata": {
        "colab": {
          "base_uri": "https://localhost:8080/"
        },
        "id": "UP2e3hARabSj",
        "outputId": "5f3e0934-4ca9-450b-d5ec-1f8445cbbd72"
      },
      "execution_count": null,
      "outputs": [
        {
          "output_type": "execute_result",
          "data": {
            "text/plain": [
              "0          1988\n",
              "1          1978\n",
              "2          1962\n",
              "3          1967\n",
              "4          1986\n",
              "           ... \n",
              "1852389    1966\n",
              "1852390    1999\n",
              "1852391    1981\n",
              "1852392    1965\n",
              "1852393    1993\n",
              "Name: dob, Length: 1852394, dtype: int64"
            ]
          },
          "metadata": {},
          "execution_count": 34
        }
      ]
    },
    {
      "cell_type": "code",
      "source": [
        "df['age'] = 2021 - pd.to_datetime(df['dob']).dt.year # 만 나이"
      ],
      "metadata": {
        "id": "oJPksOEAcT1E"
      },
      "execution_count": null,
      "outputs": []
    },
    {
      "cell_type": "code",
      "source": [
        "df.age"
      ],
      "metadata": {
        "colab": {
          "base_uri": "https://localhost:8080/"
        },
        "id": "KKNzNY_VdpXH",
        "outputId": "04bcc540-08fb-45e7-d1ae-25a34fd64750"
      },
      "execution_count": null,
      "outputs": [
        {
          "output_type": "execute_result",
          "data": {
            "text/plain": [
              "0          33\n",
              "1          43\n",
              "2          59\n",
              "3          54\n",
              "4          35\n",
              "           ..\n",
              "1852389    55\n",
              "1852390    22\n",
              "1852391    40\n",
              "1852392    56\n",
              "1852393    28\n",
              "Name: age, Length: 1852394, dtype: int64"
            ]
          },
          "metadata": {},
          "execution_count": 28
        }
      ]
    },
    {
      "cell_type": "code",
      "source": [
        "df.drop(['cc_num', 'lat', 'long',\n",
        "         'merch_lat', 'merch_long', 'dob',\n",
        "         'merch_coord', 'cust_coord'], axis=1, inplace=True)"
      ],
      "metadata": {
        "id": "yyoOwF1Idoz3"
      },
      "execution_count": null,
      "outputs": []
    },
    {
      "cell_type": "code",
      "source": [
        "df = pd.get_dummies(df, columns = ['category', 'gender'], drop_first=True)"
      ],
      "metadata": {
        "id": "Qn28aEd_c4mo"
      },
      "execution_count": null,
      "outputs": []
    },
    {
      "cell_type": "code",
      "source": [
        "df # 과거의 데이터 -> 미래를 예측 / 과거데이터 (훈련셋) - 미래 데이터 (시험셋)\n",
        "# trans_date_trans_time => 인덱스 -> 훈련셋 / 시험셋"
      ],
      "metadata": {
        "colab": {
          "base_uri": "https://localhost:8080/",
          "height": 488
        },
        "id": "t3dV5ax9d1nP",
        "outputId": "8a33ba80-d615-4517-8c9d-d3611355dec8"
      },
      "execution_count": null,
      "outputs": [
        {
          "output_type": "execute_result",
          "data": {
            "text/plain": [
              "        trans_date_trans_time     amt  city_pop  is_fraud  amt_z_score  \\\n",
              "0         2019-01-01 00:00:18    4.97      3495         0    -0.662108   \n",
              "1         2019-01-01 00:00:44  107.23       149         0     0.321302   \n",
              "2         2019-01-01 00:00:51  220.11      4154         0     1.287064   \n",
              "3         2019-01-01 00:01:16   45.00      1939         0    -0.125287   \n",
              "4         2019-01-01 00:03:06   41.96        99         0    -0.565941   \n",
              "...                       ...     ...       ...       ...          ...   \n",
              "1852389   2020-12-31 23:59:07   43.77       519         0    -0.167639   \n",
              "1852390   2020-12-31 23:59:09  111.84     28739         0     0.364619   \n",
              "1852391   2020-12-31 23:59:15   86.88      3684         0    -0.015209   \n",
              "1852392   2020-12-31 23:59:24    7.99       129         0    -0.592099   \n",
              "1852393   2020-12-31 23:59:34   38.13    116001         0    -0.152588   \n",
              "\n",
              "         cat_z_score    distance  distance_z_score  age  category_food_dining  \\\n",
              "0          -0.688297   78.773821          0.030974   33                     0   \n",
              "1           0.317631   30.216618         -1.475224   43                     0   \n",
              "2           2.872509  108.102912          1.160572   59                     0   \n",
              "3          -1.050197   95.685115          0.818063   54                     0   \n",
              "4           1.312866   77.702395          0.064037   35                     0   \n",
              "...              ...         ...               ...  ...                   ...   \n",
              "1852389    -0.047862   77.032467          0.052081   55                     0   \n",
              "1852390     1.163822  100.023736          0.693848   22                     0   \n",
              "1852391     0.440137   80.887812          0.288293   40                     0   \n",
              "1852392    -0.007423   53.060882         -0.730061   56                     0   \n",
              "1852393    -0.380698   72.380990         -0.159439   28                     0   \n",
              "\n",
              "         ...  category_health_fitness  category_home  category_kids_pets  \\\n",
              "0        ...                        0              0                   0   \n",
              "1        ...                        0              0                   0   \n",
              "2        ...                        0              0                   0   \n",
              "3        ...                        0              0                   0   \n",
              "4        ...                        0              0                   0   \n",
              "...      ...                      ...            ...                 ...   \n",
              "1852389  ...                        1              0                   0   \n",
              "1852390  ...                        0              0                   1   \n",
              "1852391  ...                        0              0                   1   \n",
              "1852392  ...                        0              0                   0   \n",
              "1852393  ...                        0              0                   0   \n",
              "\n",
              "         category_misc_net  category_misc_pos  category_personal_care  \\\n",
              "0                        1                  0                       0   \n",
              "1                        0                  0                       0   \n",
              "2                        0                  0                       0   \n",
              "3                        0                  0                       0   \n",
              "4                        0                  1                       0   \n",
              "...                    ...                ...                     ...   \n",
              "1852389                  0                  0                       0   \n",
              "1852390                  0                  0                       0   \n",
              "1852391                  0                  0                       0   \n",
              "1852392                  0                  0                       0   \n",
              "1852393                  0                  0                       0   \n",
              "\n",
              "         category_shopping_net  category_shopping_pos  category_travel  \\\n",
              "0                            0                      0                0   \n",
              "1                            0                      0                0   \n",
              "2                            0                      0                0   \n",
              "3                            0                      0                0   \n",
              "4                            0                      0                0   \n",
              "...                        ...                    ...              ...   \n",
              "1852389                      0                      0                0   \n",
              "1852390                      0                      0                0   \n",
              "1852391                      0                      0                0   \n",
              "1852392                      0                      0                1   \n",
              "1852393                      0                      0                0   \n",
              "\n",
              "         gender_M  \n",
              "0               0  \n",
              "1               0  \n",
              "2               1  \n",
              "3               1  \n",
              "4               1  \n",
              "...           ...  \n",
              "1852389         1  \n",
              "1852390         1  \n",
              "1852391         0  \n",
              "1852392         1  \n",
              "1852393         1  \n",
              "\n",
              "[1852394 rows x 23 columns]"
            ],
            "text/html": [
              "\n",
              "  <div id=\"df-b1abeed4-08b3-4e25-b745-905a93e8b0f8\">\n",
              "    <div class=\"colab-df-container\">\n",
              "      <div>\n",
              "<style scoped>\n",
              "    .dataframe tbody tr th:only-of-type {\n",
              "        vertical-align: middle;\n",
              "    }\n",
              "\n",
              "    .dataframe tbody tr th {\n",
              "        vertical-align: top;\n",
              "    }\n",
              "\n",
              "    .dataframe thead th {\n",
              "        text-align: right;\n",
              "    }\n",
              "</style>\n",
              "<table border=\"1\" class=\"dataframe\">\n",
              "  <thead>\n",
              "    <tr style=\"text-align: right;\">\n",
              "      <th></th>\n",
              "      <th>trans_date_trans_time</th>\n",
              "      <th>amt</th>\n",
              "      <th>city_pop</th>\n",
              "      <th>is_fraud</th>\n",
              "      <th>amt_z_score</th>\n",
              "      <th>cat_z_score</th>\n",
              "      <th>distance</th>\n",
              "      <th>distance_z_score</th>\n",
              "      <th>age</th>\n",
              "      <th>category_food_dining</th>\n",
              "      <th>...</th>\n",
              "      <th>category_health_fitness</th>\n",
              "      <th>category_home</th>\n",
              "      <th>category_kids_pets</th>\n",
              "      <th>category_misc_net</th>\n",
              "      <th>category_misc_pos</th>\n",
              "      <th>category_personal_care</th>\n",
              "      <th>category_shopping_net</th>\n",
              "      <th>category_shopping_pos</th>\n",
              "      <th>category_travel</th>\n",
              "      <th>gender_M</th>\n",
              "    </tr>\n",
              "  </thead>\n",
              "  <tbody>\n",
              "    <tr>\n",
              "      <th>0</th>\n",
              "      <td>2019-01-01 00:00:18</td>\n",
              "      <td>4.97</td>\n",
              "      <td>3495</td>\n",
              "      <td>0</td>\n",
              "      <td>-0.662108</td>\n",
              "      <td>-0.688297</td>\n",
              "      <td>78.773821</td>\n",
              "      <td>0.030974</td>\n",
              "      <td>33</td>\n",
              "      <td>0</td>\n",
              "      <td>...</td>\n",
              "      <td>0</td>\n",
              "      <td>0</td>\n",
              "      <td>0</td>\n",
              "      <td>1</td>\n",
              "      <td>0</td>\n",
              "      <td>0</td>\n",
              "      <td>0</td>\n",
              "      <td>0</td>\n",
              "      <td>0</td>\n",
              "      <td>0</td>\n",
              "    </tr>\n",
              "    <tr>\n",
              "      <th>1</th>\n",
              "      <td>2019-01-01 00:00:44</td>\n",
              "      <td>107.23</td>\n",
              "      <td>149</td>\n",
              "      <td>0</td>\n",
              "      <td>0.321302</td>\n",
              "      <td>0.317631</td>\n",
              "      <td>30.216618</td>\n",
              "      <td>-1.475224</td>\n",
              "      <td>43</td>\n",
              "      <td>0</td>\n",
              "      <td>...</td>\n",
              "      <td>0</td>\n",
              "      <td>0</td>\n",
              "      <td>0</td>\n",
              "      <td>0</td>\n",
              "      <td>0</td>\n",
              "      <td>0</td>\n",
              "      <td>0</td>\n",
              "      <td>0</td>\n",
              "      <td>0</td>\n",
              "      <td>0</td>\n",
              "    </tr>\n",
              "    <tr>\n",
              "      <th>2</th>\n",
              "      <td>2019-01-01 00:00:51</td>\n",
              "      <td>220.11</td>\n",
              "      <td>4154</td>\n",
              "      <td>0</td>\n",
              "      <td>1.287064</td>\n",
              "      <td>2.872509</td>\n",
              "      <td>108.102912</td>\n",
              "      <td>1.160572</td>\n",
              "      <td>59</td>\n",
              "      <td>0</td>\n",
              "      <td>...</td>\n",
              "      <td>0</td>\n",
              "      <td>0</td>\n",
              "      <td>0</td>\n",
              "      <td>0</td>\n",
              "      <td>0</td>\n",
              "      <td>0</td>\n",
              "      <td>0</td>\n",
              "      <td>0</td>\n",
              "      <td>0</td>\n",
              "      <td>1</td>\n",
              "    </tr>\n",
              "    <tr>\n",
              "      <th>3</th>\n",
              "      <td>2019-01-01 00:01:16</td>\n",
              "      <td>45.00</td>\n",
              "      <td>1939</td>\n",
              "      <td>0</td>\n",
              "      <td>-0.125287</td>\n",
              "      <td>-1.050197</td>\n",
              "      <td>95.685115</td>\n",
              "      <td>0.818063</td>\n",
              "      <td>54</td>\n",
              "      <td>0</td>\n",
              "      <td>...</td>\n",
              "      <td>0</td>\n",
              "      <td>0</td>\n",
              "      <td>0</td>\n",
              "      <td>0</td>\n",
              "      <td>0</td>\n",
              "      <td>0</td>\n",
              "      <td>0</td>\n",
              "      <td>0</td>\n",
              "      <td>0</td>\n",
              "      <td>1</td>\n",
              "    </tr>\n",
              "    <tr>\n",
              "      <th>4</th>\n",
              "      <td>2019-01-01 00:03:06</td>\n",
              "      <td>41.96</td>\n",
              "      <td>99</td>\n",
              "      <td>0</td>\n",
              "      <td>-0.565941</td>\n",
              "      <td>1.312866</td>\n",
              "      <td>77.702395</td>\n",
              "      <td>0.064037</td>\n",
              "      <td>35</td>\n",
              "      <td>0</td>\n",
              "      <td>...</td>\n",
              "      <td>0</td>\n",
              "      <td>0</td>\n",
              "      <td>0</td>\n",
              "      <td>0</td>\n",
              "      <td>1</td>\n",
              "      <td>0</td>\n",
              "      <td>0</td>\n",
              "      <td>0</td>\n",
              "      <td>0</td>\n",
              "      <td>1</td>\n",
              "    </tr>\n",
              "    <tr>\n",
              "      <th>...</th>\n",
              "      <td>...</td>\n",
              "      <td>...</td>\n",
              "      <td>...</td>\n",
              "      <td>...</td>\n",
              "      <td>...</td>\n",
              "      <td>...</td>\n",
              "      <td>...</td>\n",
              "      <td>...</td>\n",
              "      <td>...</td>\n",
              "      <td>...</td>\n",
              "      <td>...</td>\n",
              "      <td>...</td>\n",
              "      <td>...</td>\n",
              "      <td>...</td>\n",
              "      <td>...</td>\n",
              "      <td>...</td>\n",
              "      <td>...</td>\n",
              "      <td>...</td>\n",
              "      <td>...</td>\n",
              "      <td>...</td>\n",
              "      <td>...</td>\n",
              "    </tr>\n",
              "    <tr>\n",
              "      <th>1852389</th>\n",
              "      <td>2020-12-31 23:59:07</td>\n",
              "      <td>43.77</td>\n",
              "      <td>519</td>\n",
              "      <td>0</td>\n",
              "      <td>-0.167639</td>\n",
              "      <td>-0.047862</td>\n",
              "      <td>77.032467</td>\n",
              "      <td>0.052081</td>\n",
              "      <td>55</td>\n",
              "      <td>0</td>\n",
              "      <td>...</td>\n",
              "      <td>1</td>\n",
              "      <td>0</td>\n",
              "      <td>0</td>\n",
              "      <td>0</td>\n",
              "      <td>0</td>\n",
              "      <td>0</td>\n",
              "      <td>0</td>\n",
              "      <td>0</td>\n",
              "      <td>0</td>\n",
              "      <td>1</td>\n",
              "    </tr>\n",
              "    <tr>\n",
              "      <th>1852390</th>\n",
              "      <td>2020-12-31 23:59:09</td>\n",
              "      <td>111.84</td>\n",
              "      <td>28739</td>\n",
              "      <td>0</td>\n",
              "      <td>0.364619</td>\n",
              "      <td>1.163822</td>\n",
              "      <td>100.023736</td>\n",
              "      <td>0.693848</td>\n",
              "      <td>22</td>\n",
              "      <td>0</td>\n",
              "      <td>...</td>\n",
              "      <td>0</td>\n",
              "      <td>0</td>\n",
              "      <td>1</td>\n",
              "      <td>0</td>\n",
              "      <td>0</td>\n",
              "      <td>0</td>\n",
              "      <td>0</td>\n",
              "      <td>0</td>\n",
              "      <td>0</td>\n",
              "      <td>1</td>\n",
              "    </tr>\n",
              "    <tr>\n",
              "      <th>1852391</th>\n",
              "      <td>2020-12-31 23:59:15</td>\n",
              "      <td>86.88</td>\n",
              "      <td>3684</td>\n",
              "      <td>0</td>\n",
              "      <td>-0.015209</td>\n",
              "      <td>0.440137</td>\n",
              "      <td>80.887812</td>\n",
              "      <td>0.288293</td>\n",
              "      <td>40</td>\n",
              "      <td>0</td>\n",
              "      <td>...</td>\n",
              "      <td>0</td>\n",
              "      <td>0</td>\n",
              "      <td>1</td>\n",
              "      <td>0</td>\n",
              "      <td>0</td>\n",
              "      <td>0</td>\n",
              "      <td>0</td>\n",
              "      <td>0</td>\n",
              "      <td>0</td>\n",
              "      <td>0</td>\n",
              "    </tr>\n",
              "    <tr>\n",
              "      <th>1852392</th>\n",
              "      <td>2020-12-31 23:59:24</td>\n",
              "      <td>7.99</td>\n",
              "      <td>129</td>\n",
              "      <td>0</td>\n",
              "      <td>-0.592099</td>\n",
              "      <td>-0.007423</td>\n",
              "      <td>53.060882</td>\n",
              "      <td>-0.730061</td>\n",
              "      <td>56</td>\n",
              "      <td>0</td>\n",
              "      <td>...</td>\n",
              "      <td>0</td>\n",
              "      <td>0</td>\n",
              "      <td>0</td>\n",
              "      <td>0</td>\n",
              "      <td>0</td>\n",
              "      <td>0</td>\n",
              "      <td>0</td>\n",
              "      <td>0</td>\n",
              "      <td>1</td>\n",
              "      <td>1</td>\n",
              "    </tr>\n",
              "    <tr>\n",
              "      <th>1852393</th>\n",
              "      <td>2020-12-31 23:59:34</td>\n",
              "      <td>38.13</td>\n",
              "      <td>116001</td>\n",
              "      <td>0</td>\n",
              "      <td>-0.152588</td>\n",
              "      <td>-0.380698</td>\n",
              "      <td>72.380990</td>\n",
              "      <td>-0.159439</td>\n",
              "      <td>28</td>\n",
              "      <td>0</td>\n",
              "      <td>...</td>\n",
              "      <td>0</td>\n",
              "      <td>0</td>\n",
              "      <td>0</td>\n",
              "      <td>0</td>\n",
              "      <td>0</td>\n",
              "      <td>0</td>\n",
              "      <td>0</td>\n",
              "      <td>0</td>\n",
              "      <td>0</td>\n",
              "      <td>1</td>\n",
              "    </tr>\n",
              "  </tbody>\n",
              "</table>\n",
              "<p>1852394 rows × 23 columns</p>\n",
              "</div>\n",
              "      <button class=\"colab-df-convert\" onclick=\"convertToInteractive('df-b1abeed4-08b3-4e25-b745-905a93e8b0f8')\"\n",
              "              title=\"Convert this dataframe to an interactive table.\"\n",
              "              style=\"display:none;\">\n",
              "        \n",
              "  <svg xmlns=\"http://www.w3.org/2000/svg\" height=\"24px\"viewBox=\"0 0 24 24\"\n",
              "       width=\"24px\">\n",
              "    <path d=\"M0 0h24v24H0V0z\" fill=\"none\"/>\n",
              "    <path d=\"M18.56 5.44l.94 2.06.94-2.06 2.06-.94-2.06-.94-.94-2.06-.94 2.06-2.06.94zm-11 1L8.5 8.5l.94-2.06 2.06-.94-2.06-.94L8.5 2.5l-.94 2.06-2.06.94zm10 10l.94 2.06.94-2.06 2.06-.94-2.06-.94-.94-2.06-.94 2.06-2.06.94z\"/><path d=\"M17.41 7.96l-1.37-1.37c-.4-.4-.92-.59-1.43-.59-.52 0-1.04.2-1.43.59L10.3 9.45l-7.72 7.72c-.78.78-.78 2.05 0 2.83L4 21.41c.39.39.9.59 1.41.59.51 0 1.02-.2 1.41-.59l7.78-7.78 2.81-2.81c.8-.78.8-2.07 0-2.86zM5.41 20L4 18.59l7.72-7.72 1.47 1.35L5.41 20z\"/>\n",
              "  </svg>\n",
              "      </button>\n",
              "      \n",
              "  <style>\n",
              "    .colab-df-container {\n",
              "      display:flex;\n",
              "      flex-wrap:wrap;\n",
              "      gap: 12px;\n",
              "    }\n",
              "\n",
              "    .colab-df-convert {\n",
              "      background-color: #E8F0FE;\n",
              "      border: none;\n",
              "      border-radius: 50%;\n",
              "      cursor: pointer;\n",
              "      display: none;\n",
              "      fill: #1967D2;\n",
              "      height: 32px;\n",
              "      padding: 0 0 0 0;\n",
              "      width: 32px;\n",
              "    }\n",
              "\n",
              "    .colab-df-convert:hover {\n",
              "      background-color: #E2EBFA;\n",
              "      box-shadow: 0px 1px 2px rgba(60, 64, 67, 0.3), 0px 1px 3px 1px rgba(60, 64, 67, 0.15);\n",
              "      fill: #174EA6;\n",
              "    }\n",
              "\n",
              "    [theme=dark] .colab-df-convert {\n",
              "      background-color: #3B4455;\n",
              "      fill: #D2E3FC;\n",
              "    }\n",
              "\n",
              "    [theme=dark] .colab-df-convert:hover {\n",
              "      background-color: #434B5C;\n",
              "      box-shadow: 0px 1px 3px 1px rgba(0, 0, 0, 0.15);\n",
              "      filter: drop-shadow(0px 1px 2px rgba(0, 0, 0, 0.3));\n",
              "      fill: #FFFFFF;\n",
              "    }\n",
              "  </style>\n",
              "\n",
              "      <script>\n",
              "        const buttonEl =\n",
              "          document.querySelector('#df-b1abeed4-08b3-4e25-b745-905a93e8b0f8 button.colab-df-convert');\n",
              "        buttonEl.style.display =\n",
              "          google.colab.kernel.accessAllowed ? 'block' : 'none';\n",
              "\n",
              "        async function convertToInteractive(key) {\n",
              "          const element = document.querySelector('#df-b1abeed4-08b3-4e25-b745-905a93e8b0f8');\n",
              "          const dataTable =\n",
              "            await google.colab.kernel.invokeFunction('convertToInteractive',\n",
              "                                                     [key], {});\n",
              "          if (!dataTable) return;\n",
              "\n",
              "          const docLinkHtml = 'Like what you see? Visit the ' +\n",
              "            '<a target=\"_blank\" href=https://colab.research.google.com/notebooks/data_table.ipynb>data table notebook</a>'\n",
              "            + ' to learn more about interactive tables.';\n",
              "          element.innerHTML = '';\n",
              "          dataTable['output_type'] = 'display_data';\n",
              "          await google.colab.output.renderOutput(dataTable, element);\n",
              "          const docLink = document.createElement('div');\n",
              "          docLink.innerHTML = docLinkHtml;\n",
              "          element.appendChild(docLink);\n",
              "        }\n",
              "      </script>\n",
              "    </div>\n",
              "  </div>\n",
              "  "
            ]
          },
          "metadata": {},
          "execution_count": 37
        }
      ]
    },
    {
      "cell_type": "code",
      "source": [
        "df.set_index('trans_date_trans_time', inplace=True)"
      ],
      "metadata": {
        "id": "rVeyzlYveDem"
      },
      "execution_count": null,
      "outputs": []
    },
    {
      "cell_type": "code",
      "source": [
        "df.index # 2020-07-01"
      ],
      "metadata": {
        "colab": {
          "base_uri": "https://localhost:8080/"
        },
        "id": "1S1T1PwXeIh3",
        "outputId": "f410144d-fc32-43ee-eea9-ba1dbfc139a0"
      },
      "execution_count": null,
      "outputs": [
        {
          "output_type": "execute_result",
          "data": {
            "text/plain": [
              "DatetimeIndex(['2019-01-01 00:00:18', '2019-01-01 00:00:44',\n",
              "               '2019-01-01 00:00:51', '2019-01-01 00:01:16',\n",
              "               '2019-01-01 00:03:06', '2019-01-01 00:04:08',\n",
              "               '2019-01-01 00:04:42', '2019-01-01 00:05:08',\n",
              "               '2019-01-01 00:05:18', '2019-01-01 00:06:01',\n",
              "               ...\n",
              "               '2020-12-31 23:57:18', '2020-12-31 23:57:50',\n",
              "               '2020-12-31 23:57:56', '2020-12-31 23:58:04',\n",
              "               '2020-12-31 23:58:34', '2020-12-31 23:59:07',\n",
              "               '2020-12-31 23:59:09', '2020-12-31 23:59:15',\n",
              "               '2020-12-31 23:59:24', '2020-12-31 23:59:34'],\n",
              "              dtype='datetime64[ns]', name='trans_date_trans_time', length=1852394, freq=None)"
            ]
          },
          "metadata": {},
          "execution_count": 39
        }
      ]
    },
    {
      "cell_type": "code",
      "source": [
        "train = df[df.index < '2020-07-01']\n",
        "test = df[df.index >= '2020-07-01']"
      ],
      "metadata": {
        "id": "0Jg6HirieOR7"
      },
      "execution_count": null,
      "outputs": []
    },
    {
      "cell_type": "code",
      "source": [
        "X_train = train.drop('is_fraud', axis=1)\n",
        "y_train = train['is_fraud']\n",
        "X_test = test.drop('is_fraud', axis=1)\n",
        "y_test = test['is_fraud']"
      ],
      "metadata": {
        "id": "husdMbmreV3f"
      },
      "execution_count": null,
      "outputs": []
    },
    {
      "cell_type": "code",
      "source": [
        "import lightgbm as lgb"
      ],
      "metadata": {
        "id": "FikLB697ekAW"
      },
      "execution_count": null,
      "outputs": []
    },
    {
      "cell_type": "code",
      "source": [
        "model = lgb.LGBMClassifier(random_state=100)\n",
        "model.fit(X_train, y_train)\n",
        "pred = model.predict(X_test)"
      ],
      "metadata": {
        "id": "WbayZd4den7v"
      },
      "execution_count": null,
      "outputs": []
    },
    {
      "cell_type": "code",
      "source": [
        "from sklearn.metrics import accuracy_score\n",
        "accuracy_score(y_test, pred)"
      ],
      "metadata": {
        "colab": {
          "base_uri": "https://localhost:8080/"
        },
        "id": "d6vZINjXezBV",
        "outputId": "9a47b182-9ba2-4895-8f85-d132ebaf84f8"
      },
      "execution_count": null,
      "outputs": [
        {
          "output_type": "execute_result",
          "data": {
            "text/plain": [
              "0.9964749144410561"
            ]
          },
          "metadata": {},
          "execution_count": 44
        }
      ]
    },
    {
      "cell_type": "code",
      "source": [
        "1 - df.is_fraud.mean()"
      ],
      "metadata": {
        "colab": {
          "base_uri": "https://localhost:8080/"
        },
        "id": "56Vu3hKAbm3Y",
        "outputId": "5c9b1ddc-6a5b-48a7-cabd-619a7ee3f248"
      },
      "execution_count": null,
      "outputs": [
        {
          "output_type": "execute_result",
          "data": {
            "text/plain": [
              "0.9947899852839083"
            ]
          },
          "metadata": {},
          "execution_count": 46
        }
      ]
    },
    {
      "cell_type": "code",
      "source": [
        "from sklearn.metrics import confusion_matrix, classification_report, roc_auc_score"
      ],
      "metadata": {
        "id": "ZTIT2AT7b-dh"
      },
      "execution_count": null,
      "outputs": []
    },
    {
      "cell_type": "code",
      "source": [
        "def confusion_matrix_view(y_test, pred):\n",
        "    cf_matrix = confusion_matrix(y_test, pred)\n",
        "    print(cf_matrix)\n",
        "    group_names = ['TN','FP','FN','TP']\n",
        "    group_counts = [\"{0:0.0f}\".format(value) for value in\n",
        "                    cf_matrix.flatten()]\n",
        "    group_percentages = [\"{0:.2%}\".format(value) for value in\n",
        "                        cf_matrix.flatten()/np.sum(cf_matrix)]\n",
        "    labels = [f\"{v1}\\n{v2}\\n{v3}\" for v1, v2, v3 in\n",
        "            zip(group_names,group_counts,group_percentages)]\n",
        "    labels = np.asarray(labels).reshape(2,2)\n",
        "    sns.heatmap(cf_matrix, annot=labels, fmt='', cmap='coolwarm')\n",
        "    plt.ylabel('True')\n",
        "    plt.xlabel('Predicted')\n",
        "    plt.show()\n",
        "    print(classification_report(y_test, pred))\n",
        "\n",
        "cf_matrix = confusion_matrix(y_test, pred)\n",
        "print(cf_matrix)\n",
        "group_names = ['TN','FP','FN','TP']\n",
        "group_counts = [\"{0:0.0f}\".format(value) for value in\n",
        "                cf_matrix.flatten()]\n",
        "group_percentages = [\"{0:.2%}\".format(value) for value in\n",
        "                     cf_matrix.flatten()/np.sum(cf_matrix)]\n",
        "labels = [f\"{v1}\\n{v2}\\n{v3}\" for v1, v2, v3 in\n",
        "          zip(group_names,group_counts,group_percentages)]\n",
        "labels = np.asarray(labels).reshape(2,2)\n",
        "sns.heatmap(cf_matrix, annot=labels, fmt='', cmap='coolwarm')\n",
        "plt.ylabel('True')\n",
        "plt.xlabel('Predicted')\n",
        "plt.show()"
      ],
      "metadata": {
        "colab": {
          "base_uri": "https://localhost:8080/",
          "height": 315
        },
        "id": "nt_TARkVcggM",
        "outputId": "30554c9e-59f3-4432-9a3a-81fd19983e01"
      },
      "execution_count": null,
      "outputs": [
        {
          "output_type": "stream",
          "name": "stdout",
          "text": [
            "[[522626   1023]\n",
            " [   830   1182]]\n"
          ]
        },
        {
          "output_type": "display_data",
          "data": {
            "text/plain": [
              "<Figure size 432x288 with 2 Axes>"
            ],
            "image/png": "[encoded data removed]"
          },
          "metadata": {
            "needs_background": "light"
          }
        }
      ]
    },
    {
      "cell_type": "code",
      "source": [
        "# 정밀도(1종오류), 재현도(2종오류), f1-점수(전체)\n",
        "print(classification_report(y_test, pred))"
      ],
      "metadata": {
        "colab": {
          "base_uri": "https://localhost:8080/"
        },
        "id": "cPjpBbiac8x8",
        "outputId": "09d829cf-38aa-4867-ab93-3f19f4bf6e2a"
      },
      "execution_count": null,
      "outputs": [
        {
          "output_type": "stream",
          "name": "stdout",
          "text": [
            "              precision    recall  f1-score   support\n",
            "\n",
            "           0       1.00      1.00      1.00    523649\n",
            "           1       0.54      0.59      0.56      2012\n",
            "\n",
            "    accuracy                           1.00    525661\n",
            "   macro avg       0.77      0.79      0.78    525661\n",
            "weighted avg       1.00      1.00      1.00    525661\n",
            "\n"
          ]
        }
      ]
    },
    {
      "cell_type": "code",
      "source": [
        "# 0, 1 => 분류되기 전에 얼마나 가까운지? -> 0.5? 0.4? 0.8? (확률)\n",
        "proba = model.predict_proba(X_test)\n",
        "proba\n",
        "# 각행 -> 입력받은 test별로\n",
        "# 1열 : 0에 대한 예측값\n",
        "# 2열 : 1에 대한 예측값 <= 이상거래 여부"
      ],
      "metadata": {
        "colab": {
          "base_uri": "https://localhost:8080/"
        },
        "id": "gfl9Yshrdmby",
        "outputId": "063cbdbc-d5e0-4099-bbde-8b7285ad2415"
      },
      "execution_count": null,
      "outputs": [
        {
          "output_type": "execute_result",
          "data": {
            "text/plain": [
              "array([[9.99944636e-01, 5.53639581e-05],\n",
              "       [9.99912715e-01, 8.72847343e-05],\n",
              "       [1.00000000e+00, 0.00000000e+00],\n",
              "       ...,\n",
              "       [9.99890545e-01, 1.09455330e-04],\n",
              "       [9.99624117e-01, 3.75882664e-04],\n",
              "       [9.99868882e-01, 1.31118203e-04]])"
            ]
          },
          "metadata": {},
          "execution_count": 53
        }
      ]
    },
    {
      "cell_type": "code",
      "source": [
        "proba[:, 1] # 모든 행의 2열을 불러옴 -> 1에 대한 예측값 (이상거래 여부)"
      ],
      "metadata": {
        "colab": {
          "base_uri": "https://localhost:8080/"
        },
        "id": "yqKrnp5Cd75W",
        "outputId": "c58a4c8d-e495-42bf-9c40-7595fd5142cb"
      },
      "execution_count": null,
      "outputs": [
        {
          "output_type": "execute_result",
          "data": {
            "text/plain": [
              "array([5.53639581e-05, 8.72847343e-05, 0.00000000e+00, ...,\n",
              "       1.09455330e-04, 3.75882664e-04, 1.31118203e-04])"
            ]
          },
          "metadata": {},
          "execution_count": 56
        }
      ]
    },
    {
      "cell_type": "code",
      "source": [
        "proba = proba[:, 1]"
      ],
      "metadata": {
        "id": "Yqpob_4Temek"
      },
      "execution_count": null,
      "outputs": []
    },
    {
      "cell_type": "code",
      "source": [
        "# default : 0.5 -> 크면은 1로 쳐주자\n",
        "# case1 : 0.2 더 헐겁게 하자\n",
        "# case2 : 0.8 엄격하게 하자\n",
        "# T/F -> 1/0 -> int -> 1.0.10....\n",
        "proba_int1 = (proba > 0.2).astype('int')\n",
        "proba_int2 = (proba > 0.8).astype('int')"
      ],
      "metadata": {
        "id": "UpqVDr1aenw9"
      },
      "execution_count": null,
      "outputs": []
    },
    {
      "cell_type": "code",
      "source": [
        "confusion_matrix_view(y_test, pred)"
      ],
      "metadata": {
        "colab": {
          "base_uri": "https://localhost:8080/",
          "height": 475
        },
        "id": "GidqFY0efh-E",
        "outputId": "91966088-a896-480c-b4f0-b97d288235ba"
      },
      "execution_count": null,
      "outputs": [
        {
          "output_type": "stream",
          "name": "stdout",
          "text": [
            "[[522626   1023]\n",
            " [   830   1182]]\n"
          ]
        },
        {
          "output_type": "display_data",
          "data": {
            "text/plain": [
              "<Figure size 432x288 with 2 Axes>"
            ],
            "image/png": "[encoded data removed]"
          },
          "metadata": {
            "needs_background": "light"
          }
        },
        {
          "output_type": "stream",
          "name": "stdout",
          "text": [
            "              precision    recall  f1-score   support\n",
            "\n",
            "           0       1.00      1.00      1.00    523649\n",
            "           1       0.54      0.59      0.56      2012\n",
            "\n",
            "    accuracy                           1.00    525661\n",
            "   macro avg       0.77      0.79      0.78    525661\n",
            "weighted avg       1.00      1.00      1.00    525661\n",
            "\n"
          ]
        }
      ]
    },
    {
      "cell_type": "code",
      "source": [
        "# 0.2 -> 1종오류는 늘고, 2종오류는 줄었어요\n",
        "confusion_matrix_view(y_test, proba_int1)"
      ],
      "metadata": {
        "colab": {
          "base_uri": "https://localhost:8080/",
          "height": 475
        },
        "id": "B7n6DyDdfPRF",
        "outputId": "cc29ee02-46df-49a3-e15e-1c8c0e7abc4c"
      },
      "execution_count": null,
      "outputs": [
        {
          "output_type": "stream",
          "name": "stdout",
          "text": [
            "[[522007   1642]\n",
            " [   657   1355]]\n"
          ]
        },
        {
          "output_type": "display_data",
          "data": {
            "text/plain": [
              "<Figure size 432x288 with 2 Axes>"
            ],
            "image/png": "[encoded data removed]"
          },
          "metadata": {
            "needs_background": "light"
          }
        },
        {
          "output_type": "stream",
          "name": "stdout",
          "text": [
            "              precision    recall  f1-score   support\n",
            "\n",
            "           0       1.00      1.00      1.00    523649\n",
            "           1       0.45      0.67      0.54      2012\n",
            "\n",
            "    accuracy                           1.00    525661\n",
            "   macro avg       0.73      0.84      0.77    525661\n",
            "weighted avg       1.00      1.00      1.00    525661\n",
            "\n"
          ]
        }
      ]
    },
    {
      "cell_type": "code",
      "source": [
        "# 0.8 -> 2종오류는 늘고, 1종오류는 줄었어요\n",
        "confusion_matrix_view(y_test, proba_int2)"
      ],
      "metadata": {
        "colab": {
          "base_uri": "https://localhost:8080/",
          "height": 475
        },
        "id": "6AbzIdYuft_P",
        "outputId": "907d4b67-cde2-4a63-b097-cc0de07528bb"
      },
      "execution_count": null,
      "outputs": [
        {
          "output_type": "stream",
          "name": "stdout",
          "text": [
            "[[522910    739]\n",
            " [  1007   1005]]\n"
          ]
        },
        {
          "output_type": "display_data",
          "data": {
            "text/plain": [
              "<Figure size 432x288 with 2 Axes>"
            ],
            "image/png": "[encoded data removed]"
          },
          "metadata": {
            "needs_background": "light"
          }
        },
        {
          "output_type": "stream",
          "name": "stdout",
          "text": [
            "              precision    recall  f1-score   support\n",
            "\n",
            "           0       1.00      1.00      1.00    523649\n",
            "           1       0.58      0.50      0.54      2012\n",
            "\n",
            "    accuracy                           1.00    525661\n",
            "   macro avg       0.79      0.75      0.77    525661\n",
            "weighted avg       1.00      1.00      1.00    525661\n",
            "\n"
          ]
        }
      ]
    },
    {
      "cell_type": "code",
      "source": [
        "# 0과 1 얼마나 잘 분리하는지 \n",
        "roc_auc_score(y_test, proba)"
      ],
      "metadata": {
        "colab": {
          "base_uri": "https://localhost:8080/"
        },
        "id": "TKCy3czBgYkv",
        "outputId": "7b349c06-b64d-4129-b0cb-04766eb940c4"
      },
      "execution_count": null,
      "outputs": [
        {
          "output_type": "execute_result",
          "data": {
            "text/plain": [
              "0.9031275287192038"
            ]
          },
          "metadata": {},
          "execution_count": 68
        }
      ]
    },
    {
      "cell_type": "markdown",
      "source": [
        "## 랜덤 그리드 서치\n",
        "* 그리드 서치 : 모든 조합에 대해서 모델링 <- 더 좋은?\n",
        "* 랜덤 그리드 서치 : 더 넓은 영역의 하이퍼파라미터 값을 더 짧은 시간에 다양하게 활용 -> 일부만 추출해서 하기 대문에. <- 더 짧은 시간."
      ],
      "metadata": {
        "id": "F9tZbElZgruF"
      }
    },
    {
      "cell_type": "code",
      "source": [
        "from sklearn.model_selection import RandomizedSearchCV"
      ],
      "metadata": {
        "id": "hn1iNh4OhLgT"
      },
      "execution_count": null,
      "outputs": []
    },
    {
      "cell_type": "code",
      "source": [
        "params = {\n",
        "    \"n_esimators\": [100, 500, 1000],\n",
        "    \"learning_rate\": [0.01, 0.05, 0.1, 0.3],\n",
        "    \"lambda_l1\": [0, 10, 20, 30, 50],\n",
        "    \"lambda_l2\": [0, 10, 20, 30, 50],\n",
        "    \"max_depth\": [5, 10, 15, 20],\n",
        "    \"subsmaple\": [0.6, 0.8, 1]\n",
        "}"
      ],
      "metadata": {
        "id": "PvC9Bd6uhYqU"
      },
      "execution_count": null,
      "outputs": []
    },
    {
      "cell_type": "code",
      "source": [
        "model2 = lgb.LGBMClassifier(random_state=100)\n",
        "rs = RandomizedSearchCV(model2, param_distributions=params, n_iter=30, \n",
        "                        scoring='roc_auc', random_state=100, n_jobs=-1)"
      ],
      "metadata": {
        "id": "9cnsjxUHhyUr"
      },
      "execution_count": null,
      "outputs": []
    },
    {
      "cell_type": "code",
      "source": [
        "import time\n",
        "start = time.time() # 시작시간 설정\n",
        "rs.fit(X_train, y_train)\n",
        "print(time.time() - start)"
      ],
      "metadata": {
        "colab": {
          "base_uri": "https://localhost:8080/"
        },
        "id": "tmjBrHhHiMT0",
        "outputId": "a4c112c6-6d4f-45c8-fc9a-1fa4e1df71fc"
      },
      "execution_count": null,
      "outputs": [
        {
          "output_type": "stream",
          "name": "stdout",
          "text": [
            "1658.1668543815613\n"
          ]
        }
      ]
    },
    {
      "cell_type": "code",
      "source": [
        "rs.best_params_"
      ],
      "metadata": {
        "colab": {
          "base_uri": "https://localhost:8080/"
        },
        "id": "qFQdemI92w2A",
        "outputId": "87eaf38a-97e7-4cfc-d6b2-5ca7e56d8009"
      },
      "execution_count": null,
      "outputs": [
        {
          "output_type": "execute_result",
          "data": {
            "text/plain": [
              "{'subsmaple': 1,\n",
              " 'n_esimators': 1000,\n",
              " 'max_depth': 10,\n",
              " 'learning_rate': 0.05,\n",
              " 'lambda_l2': 0,\n",
              " 'lambda_l1': 0}"
            ]
          },
          "metadata": {},
          "execution_count": 75
        }
      ]
    },
    {
      "cell_type": "code",
      "source": [
        "rs_proba = rs.predict_proba(X_test)"
      ],
      "metadata": {
        "id": "y2iX2BRJ3CKu"
      },
      "execution_count": null,
      "outputs": []
    },
    {
      "cell_type": "code",
      "source": [
        "roc_auc_score(y_test, rs_proba[:, 1])"
      ],
      "metadata": {
        "colab": {
          "base_uri": "https://localhost:8080/"
        },
        "id": "T7CfVFgw3KOg",
        "outputId": "09ad23da-659b-4082-abb3-1f28e0757131"
      },
      "execution_count": null,
      "outputs": [
        {
          "output_type": "execute_result",
          "data": {
            "text/plain": [
              "0.9945726012302711"
            ]
          },
          "metadata": {},
          "execution_count": 78
        }
      ]
    },
    {
      "cell_type": "code",
      "source": [
        "rs_proba_int = (rs_proba[:, 1] > 0.2).astype('int')\n",
        "confusion_matrix_view(y_test, rs_proba_int)"
      ],
      "metadata": {
        "colab": {
          "base_uri": "https://localhost:8080/",
          "height": 475
        },
        "id": "H_dr6llu35tf",
        "outputId": "8ebae40b-3a77-4003-ef2d-88afbc2c8cfd"
      },
      "execution_count": null,
      "outputs": [
        {
          "output_type": "stream",
          "name": "stdout",
          "text": [
            "[[522616   1033]\n",
            " [   514   1498]]\n"
          ]
        },
        {
          "output_type": "display_data",
          "data": {
            "text/plain": [
              "<Figure size 432x288 with 2 Axes>"
            ],
            "image/png": "[encoded data removed]"
          },
          "metadata": {
            "needs_background": "light"
          }
        },
        {
          "output_type": "stream",
          "name": "stdout",
          "text": [
            "              precision    recall  f1-score   support\n",
            "\n",
            "           0       1.00      1.00      1.00    523649\n",
            "           1       0.59      0.74      0.66      2012\n",
            "\n",
            "    accuracy                           1.00    525661\n",
            "   macro avg       0.80      0.87      0.83    525661\n",
            "weighted avg       1.00      1.00      1.00    525661\n",
            "\n"
          ]
        }
      ]
    },
    {
      "cell_type": "code",
      "source": [
        "confusion_matrix_view(y_test, proba_int1)"
      ],
      "metadata": {
        "colab": {
          "base_uri": "https://localhost:8080/",
          "height": 475
        },
        "id": "BzP2cGfX4bv2",
        "outputId": "92132b16-fa2a-4eeb-c833-98eea9eea1c9"
      },
      "execution_count": null,
      "outputs": [
        {
          "output_type": "stream",
          "name": "stdout",
          "text": [
            "[[522007   1642]\n",
            " [   657   1355]]\n"
          ]
        },
        {
          "output_type": "display_data",
          "data": {
            "text/plain": [
              "<Figure size 432x288 with 2 Axes>"
            ],
            "image/png": "[encoded data removed]"
          },
          "metadata": {
            "needs_background": "light"
          }
        },
        {
          "output_type": "stream",
          "name": "stdout",
          "text": [
            "              precision    recall  f1-score   support\n",
            "\n",
            "           0       1.00      1.00      1.00    523649\n",
            "           1       0.45      0.67      0.54      2012\n",
            "\n",
            "    accuracy                           1.00    525661\n",
            "   macro avg       0.73      0.84      0.77    525661\n",
            "weighted avg       1.00      1.00      1.00    525661\n",
            "\n"
          ]
        }
      ]
    },
    {
      "cell_type": "markdown",
      "source": [
        "## train() 함수\n",
        "* model.fit(X_train, y_train) => 학습\n",
        "* model.train. <- fit.\n",
        "---\n",
        "||train|fit|\n",
        "|-|-|-|\n",
        "|검증셋|모델링 - 검증셋|검증 X|\n",
        "|데이터셋|데이터프레임->별도포맷변환|데이터프레임,시리즈|\n",
        "|하이퍼패러미터|하이퍼패러미터 Default X|기본값|\n",
        "|사이킷런 연동|X|O(그리드 서치...)|\n",
        "\n",
        "학습 -> 학습셋 => model => 시험셋\n",
        "학습 -> 학습셋과는 별개로 (검증셋) => model"
      ],
      "metadata": {
        "id": "QU_d4U_L4uK1"
      }
    },
    {
      "cell_type": "code",
      "source": [
        "# 훈련셋 / 시험셋 (fit)\n",
        "# 훈련셋 / 검증셋 / 시험셋 (train)\n",
        "train = df[df.index < '2020-01-01']\n",
        "val = df[(df.index >= '2020-01-01') & (df.index < '2020-07-01')]\n",
        "test = df[df.index >= '2020-07-01']"
      ],
      "metadata": {
        "id": "-0BK8ZI85CUw"
      },
      "execution_count": null,
      "outputs": []
    },
    {
      "cell_type": "code",
      "source": [
        "def get_X_y(df):\n",
        "    X = df.drop('is_fraud', axis=1)\n",
        "    y = df.is_fraud\n",
        "    return (X, y)"
      ],
      "metadata": {
        "id": "ph1Swf-J6vEM"
      },
      "execution_count": null,
      "outputs": []
    },
    {
      "cell_type": "code",
      "source": [
        "# 훈련셋, 검증셋, 시험셋 (X, y)\n",
        "X_train, y_train = get_X_y(train)\n",
        "X_val, y_val = get_X_y(val)\n",
        "X_test, y_test = get_X_y(test)"
      ],
      "metadata": {
        "id": "3Oofm5_E7C6N"
      },
      "execution_count": null,
      "outputs": []
    },
    {
      "cell_type": "code",
      "source": [
        "# 데이터셋 변환\n",
        "d_train = lgb.Dataset(X_train, label=y_train)\n",
        "d_val = lgb.Dataset(X_val, label=y_val)"
      ],
      "metadata": {
        "id": "mN-Ifewg7QyF"
      },
      "execution_count": null,
      "outputs": []
    },
    {
      "cell_type": "code",
      "source": [
        "param_set = rs.best_params_\n",
        "param_set['metrics'] = 'auc'"
      ],
      "metadata": {
        "id": "gcqsjEUF7zll"
      },
      "execution_count": null,
      "outputs": []
    },
    {
      "cell_type": "code",
      "source": [
        "param_set"
      ],
      "metadata": {
        "colab": {
          "base_uri": "https://localhost:8080/"
        },
        "id": "b-4PRbl88CCG",
        "outputId": "3d2f7235-ef20-479b-e08b-545aa5355f10"
      },
      "execution_count": null,
      "outputs": [
        {
          "output_type": "execute_result",
          "data": {
            "text/plain": [
              "{'subsmaple': 1,\n",
              " 'n_esimators': 1000,\n",
              " 'max_depth': 10,\n",
              " 'learning_rate': 0.05,\n",
              " 'lambda_l2': 0,\n",
              " 'lambda_l1': 0,\n",
              " 'metrics': 'auc'}"
            ]
          },
          "metadata": {},
          "execution_count": 87
        }
      ]
    },
    {
      "cell_type": "code",
      "source": [
        "model_train = lgb.train(param_set, d_train, valid_sets=[d_val],\n",
        "                        # early_stopping_rounds : 학습시간을 제한\n",
        "                        # verbose_eval : 중간결과를 특정 간격으로 출력\n",
        "                        early_stopping_rounds=100, verbose_eval=100)"
      ],
      "metadata": {
        "colab": {
          "base_uri": "https://localhost:8080/"
        },
        "id": "QMaQYmsS8FT2",
        "outputId": "10e93ea3-3371-4d38-b3c3-764821409a68"
      },
      "execution_count": null,
      "outputs": [
        {
          "output_type": "stream",
          "name": "stdout",
          "text": [
            "Training until validation scores don't improve for 100 rounds.\n",
            "[100]\tvalid_0's auc: 0.97198\n",
            "Did not meet early stopping. Best iteration is:\n",
            "[100]\tvalid_0's auc: 0.97198\n"
          ]
        }
      ]
    },
    {
      "cell_type": "code",
      "source": [
        "pred_train = model_train.predict(X_test)"
      ],
      "metadata": {
        "id": "JHq885Af8g5s"
      },
      "execution_count": null,
      "outputs": []
    },
    {
      "cell_type": "code",
      "source": [
        "roc_auc_score(y_test, pred_train)"
      ],
      "metadata": {
        "colab": {
          "base_uri": "https://localhost:8080/"
        },
        "id": "J_ueNgM885nt",
        "outputId": "8b286bf6-8035-4c5e-8065-edd5c7787cb3"
      },
      "execution_count": null,
      "outputs": [
        {
          "output_type": "execute_result",
          "data": {
            "text/plain": [
              "0.9626722543537362"
            ]
          },
          "metadata": {},
          "execution_count": 94
        }
      ]
    },
    {
      "cell_type": "code",
      "source": [
        "feature_imp = pd.DataFrame({'features': X_train.columns, 'values': model.feature_importances_})\n",
        "plt.figure(figsize=(20, 10))\n",
        "sns.barplot(x='values', y='features',\n",
        "            data=feature_imp.sort_values(by='values', ascending=False).head(10))"
      ],
      "metadata": {
        "colab": {
          "base_uri": "https://localhost:8080/",
          "height": 427
        },
        "id": "hSAZlKvl9Ep2",
        "outputId": "b6aa9c22-dd4e-4bb0-f3b0-3b4d141ebe5f"
      },
      "execution_count": null,
      "outputs": [
        {
          "output_type": "execute_result",
          "data": {
            "text/plain": [
              "<matplotlib.axes._subplots.AxesSubplot at 0x7f8e6144ebd0>"
            ]
          },
          "metadata": {},
          "execution_count": 95
        },
        {
          "output_type": "display_data",
          "data": {
            "text/plain": [
              "<Figure size 1440x720 with 1 Axes>"
            ],
            "image/png": "[encoded data removed]"
          },
          "metadata": {
            "needs_background": "light"
          }
        }
      ]
    }
  ]
}