{
  "nbformat": 4,
  "nbformat_minor": 0,
  "metadata": {
    "colab": {
      "provenance": [],
      "collapsed_sections": []
    },
    "kernelspec": {
      "name": "python3",
      "display_name": "Python 3"
    },
    "language_info": {
      "name": "python"
    }
  },
  "cells": [
    {
      "cell_type": "code",
      "execution_count": null,
      "metadata": {
        "id": "A78FsLzoCD12"
      },
      "outputs": [],
      "source": [
        "import pandas as pd\n",
        "import numpy as np\n",
        "import matplotlib.pyplot as plt\n",
        "import seaborn as sns"
      ]
    },
    {
      "cell_type": "code",
      "source": [
        "#@title 데이터 불러오기\n",
        "# https://archive.ics.uci.edu/ml/datasets/wine\n",
        "# https://www.kaggle.com/datasets/akhil0007/wine-data\n",
        "file_url = 'https://raw.githubusercontent.com/bigdata-young/bigdata_16th/main/data/wine.csv'\n",
        "df = pd.read_csv(file_url)"
      ],
      "metadata": {
        "id": "XS7yhigtDBq3"
      },
      "execution_count": null,
      "outputs": []
    },
    {
      "cell_type": "code",
      "source": [
        "df.info()"
      ],
      "metadata": {
        "colab": {
          "base_uri": "https://localhost:8080/"
        },
        "id": "dvttM5SsD4RA",
        "outputId": "815f0e65-c067-49c1-abaf-9ecadafa1d9e"
      },
      "execution_count": null,
      "outputs": [
        {
          "output_type": "stream",
          "name": "stdout",
          "text": [
            "<class 'pandas.core.frame.DataFrame'>\n",
            "RangeIndex: 178 entries, 0 to 177\n",
            "Data columns (total 14 columns):\n",
            " #   Column                Non-Null Count  Dtype  \n",
            "---  ------                --------------  -----  \n",
            " 0   Class                 178 non-null    int64  \n",
            " 1   Alcohol               178 non-null    float64\n",
            " 2   Malic_Acid            178 non-null    float64\n",
            " 3   Ash                   178 non-null    float64\n",
            " 4   Ash_Alcanity          178 non-null    float64\n",
            " 5   Magnesium             178 non-null    int64  \n",
            " 6   Total_Phenols         178 non-null    float64\n",
            " 7   Flavanoids            178 non-null    float64\n",
            " 8   Nonflavanoid_Phenols  178 non-null    float64\n",
            " 9   Proanthocyanins       178 non-null    float64\n",
            " 10  Color_Intensity       178 non-null    float64\n",
            " 11  Hue                   178 non-null    float64\n",
            " 12  OD280                 178 non-null    float64\n",
            " 13  Proline               178 non-null    int64  \n",
            "dtypes: float64(11), int64(3)\n",
            "memory usage: 19.6 KB\n"
          ]
        }
      ]
    },
    {
      "cell_type": "code",
      "source": [
        "pd.options.display.float_format = '{:,.4f}'.format \n",
        "df.describe() # KNN -> 거리기반, 숫자 단위에 민감 -> 스케일링 (전처리)"
      ],
      "metadata": {
        "colab": {
          "base_uri": "https://localhost:8080/",
          "height": 364
        },
        "id": "g2uziygPEEFb",
        "outputId": "4a45be88-5225-4e9f-8893-97d821f05d99"
      },
      "execution_count": null,
      "outputs": [
        {
          "output_type": "execute_result",
          "data": {
            "text/plain": [
              "         Class  Alcohol  Malic_Acid      Ash  Ash_Alcanity  Magnesium  \\\n",
              "count 178.0000 178.0000    178.0000 178.0000      178.0000   178.0000   \n",
              "mean    1.9382  13.0006      2.3363   2.3665       19.4949    99.7416   \n",
              "std     0.7750   0.8118      1.1171   0.2743        3.3396    14.2825   \n",
              "min     1.0000  11.0300      0.7400   1.3600       10.6000    70.0000   \n",
              "25%     1.0000  12.3625      1.6025   2.2100       17.2000    88.0000   \n",
              "50%     2.0000  13.0500      1.8650   2.3600       19.5000    98.0000   \n",
              "75%     3.0000  13.6775      3.0825   2.5575       21.5000   107.0000   \n",
              "max     3.0000  14.8300      5.8000   3.2300       30.0000   162.0000   \n",
              "\n",
              "       Total_Phenols  Flavanoids  Nonflavanoid_Phenols  Proanthocyanins  \\\n",
              "count       178.0000    178.0000              178.0000         178.0000   \n",
              "mean          2.2951      2.0293                0.3619           1.5909   \n",
              "std           0.6259      0.9989                0.1245           0.5724   \n",
              "min           0.9800      0.3400                0.1300           0.4100   \n",
              "25%           1.7425      1.2050                0.2700           1.2500   \n",
              "50%           2.3550      2.1350                0.3400           1.5550   \n",
              "75%           2.8000      2.8750                0.4375           1.9500   \n",
              "max           3.8800      5.0800                0.6600           3.5800   \n",
              "\n",
              "       Color_Intensity      Hue    OD280    Proline  \n",
              "count         178.0000 178.0000 178.0000   178.0000  \n",
              "mean            5.0581   0.9574   2.6117   746.8933  \n",
              "std             2.3183   0.2286   0.7100   314.9075  \n",
              "min             1.2800   0.4800   1.2700   278.0000  \n",
              "25%             3.2200   0.7825   1.9375   500.5000  \n",
              "50%             4.6900   0.9650   2.7800   673.5000  \n",
              "75%             6.2000   1.1200   3.1700   985.0000  \n",
              "max            13.0000   1.7100   4.0000 1,680.0000  "
            ],
            "text/html": [
              "\n",
              "  <div id=\"df-6cb6e409-37ed-442a-a1ce-2e480468bb90\">\n",
              "    <div class=\"colab-df-container\">\n",
              "      <div>\n",
              "<style scoped>\n",
              "    .dataframe tbody tr th:only-of-type {\n",
              "        vertical-align: middle;\n",
              "    }\n",
              "\n",
              "    .dataframe tbody tr th {\n",
              "        vertical-align: top;\n",
              "    }\n",
              "\n",
              "    .dataframe thead th {\n",
              "        text-align: right;\n",
              "    }\n",
              "</style>\n",
              "<table border=\"1\" class=\"dataframe\">\n",
              "  <thead>\n",
              "    <tr style=\"text-align: right;\">\n",
              "      <th></th>\n",
              "      <th>Class</th>\n",
              "      <th>Alcohol</th>\n",
              "      <th>Malic_Acid</th>\n",
              "      <th>Ash</th>\n",
              "      <th>Ash_Alcanity</th>\n",
              "      <th>Magnesium</th>\n",
              "      <th>Total_Phenols</th>\n",
              "      <th>Flavanoids</th>\n",
              "      <th>Nonflavanoid_Phenols</th>\n",
              "      <th>Proanthocyanins</th>\n",
              "      <th>Color_Intensity</th>\n",
              "      <th>Hue</th>\n",
              "      <th>OD280</th>\n",
              "      <th>Proline</th>\n",
              "    </tr>\n",
              "  </thead>\n",
              "  <tbody>\n",
              "    <tr>\n",
              "      <th>count</th>\n",
              "      <td>178.0000</td>\n",
              "      <td>178.0000</td>\n",
              "      <td>178.0000</td>\n",
              "      <td>178.0000</td>\n",
              "      <td>178.0000</td>\n",
              "      <td>178.0000</td>\n",
              "      <td>178.0000</td>\n",
              "      <td>178.0000</td>\n",
              "      <td>178.0000</td>\n",
              "      <td>178.0000</td>\n",
              "      <td>178.0000</td>\n",
              "      <td>178.0000</td>\n",
              "      <td>178.0000</td>\n",
              "      <td>178.0000</td>\n",
              "    </tr>\n",
              "    <tr>\n",
              "      <th>mean</th>\n",
              "      <td>1.9382</td>\n",
              "      <td>13.0006</td>\n",
              "      <td>2.3363</td>\n",
              "      <td>2.3665</td>\n",
              "      <td>19.4949</td>\n",
              "      <td>99.7416</td>\n",
              "      <td>2.2951</td>\n",
              "      <td>2.0293</td>\n",
              "      <td>0.3619</td>\n",
              "      <td>1.5909</td>\n",
              "      <td>5.0581</td>\n",
              "      <td>0.9574</td>\n",
              "      <td>2.6117</td>\n",
              "      <td>746.8933</td>\n",
              "    </tr>\n",
              "    <tr>\n",
              "      <th>std</th>\n",
              "      <td>0.7750</td>\n",
              "      <td>0.8118</td>\n",
              "      <td>1.1171</td>\n",
              "      <td>0.2743</td>\n",
              "      <td>3.3396</td>\n",
              "      <td>14.2825</td>\n",
              "      <td>0.6259</td>\n",
              "      <td>0.9989</td>\n",
              "      <td>0.1245</td>\n",
              "      <td>0.5724</td>\n",
              "      <td>2.3183</td>\n",
              "      <td>0.2286</td>\n",
              "      <td>0.7100</td>\n",
              "      <td>314.9075</td>\n",
              "    </tr>\n",
              "    <tr>\n",
              "      <th>min</th>\n",
              "      <td>1.0000</td>\n",
              "      <td>11.0300</td>\n",
              "      <td>0.7400</td>\n",
              "      <td>1.3600</td>\n",
              "      <td>10.6000</td>\n",
              "      <td>70.0000</td>\n",
              "      <td>0.9800</td>\n",
              "      <td>0.3400</td>\n",
              "      <td>0.1300</td>\n",
              "      <td>0.4100</td>\n",
              "      <td>1.2800</td>\n",
              "      <td>0.4800</td>\n",
              "      <td>1.2700</td>\n",
              "      <td>278.0000</td>\n",
              "    </tr>\n",
              "    <tr>\n",
              "      <th>25%</th>\n",
              "      <td>1.0000</td>\n",
              "      <td>12.3625</td>\n",
              "      <td>1.6025</td>\n",
              "      <td>2.2100</td>\n",
              "      <td>17.2000</td>\n",
              "      <td>88.0000</td>\n",
              "      <td>1.7425</td>\n",
              "      <td>1.2050</td>\n",
              "      <td>0.2700</td>\n",
              "      <td>1.2500</td>\n",
              "      <td>3.2200</td>\n",
              "      <td>0.7825</td>\n",
              "      <td>1.9375</td>\n",
              "      <td>500.5000</td>\n",
              "    </tr>\n",
              "    <tr>\n",
              "      <th>50%</th>\n",
              "      <td>2.0000</td>\n",
              "      <td>13.0500</td>\n",
              "      <td>1.8650</td>\n",
              "      <td>2.3600</td>\n",
              "      <td>19.5000</td>\n",
              "      <td>98.0000</td>\n",
              "      <td>2.3550</td>\n",
              "      <td>2.1350</td>\n",
              "      <td>0.3400</td>\n",
              "      <td>1.5550</td>\n",
              "      <td>4.6900</td>\n",
              "      <td>0.9650</td>\n",
              "      <td>2.7800</td>\n",
              "      <td>673.5000</td>\n",
              "    </tr>\n",
              "    <tr>\n",
              "      <th>75%</th>\n",
              "      <td>3.0000</td>\n",
              "      <td>13.6775</td>\n",
              "      <td>3.0825</td>\n",
              "      <td>2.5575</td>\n",
              "      <td>21.5000</td>\n",
              "      <td>107.0000</td>\n",
              "      <td>2.8000</td>\n",
              "      <td>2.8750</td>\n",
              "      <td>0.4375</td>\n",
              "      <td>1.9500</td>\n",
              "      <td>6.2000</td>\n",
              "      <td>1.1200</td>\n",
              "      <td>3.1700</td>\n",
              "      <td>985.0000</td>\n",
              "    </tr>\n",
              "    <tr>\n",
              "      <th>max</th>\n",
              "      <td>3.0000</td>\n",
              "      <td>14.8300</td>\n",
              "      <td>5.8000</td>\n",
              "      <td>3.2300</td>\n",
              "      <td>30.0000</td>\n",
              "      <td>162.0000</td>\n",
              "      <td>3.8800</td>\n",
              "      <td>5.0800</td>\n",
              "      <td>0.6600</td>\n",
              "      <td>3.5800</td>\n",
              "      <td>13.0000</td>\n",
              "      <td>1.7100</td>\n",
              "      <td>4.0000</td>\n",
              "      <td>1,680.0000</td>\n",
              "    </tr>\n",
              "  </tbody>\n",
              "</table>\n",
              "</div>\n",
              "      <button class=\"colab-df-convert\" onclick=\"convertToInteractive('df-6cb6e409-37ed-442a-a1ce-2e480468bb90')\"\n",
              "              title=\"Convert this dataframe to an interactive table.\"\n",
              "              style=\"display:none;\">\n",
              "        \n",
              "  <svg xmlns=\"http://www.w3.org/2000/svg\" height=\"24px\"viewBox=\"0 0 24 24\"\n",
              "       width=\"24px\">\n",
              "    <path d=\"M0 0h24v24H0V0z\" fill=\"none\"/>\n",
              "    <path d=\"M18.56 5.44l.94 2.06.94-2.06 2.06-.94-2.06-.94-.94-2.06-.94 2.06-2.06.94zm-11 1L8.5 8.5l.94-2.06 2.06-.94-2.06-.94L8.5 2.5l-.94 2.06-2.06.94zm10 10l.94 2.06.94-2.06 2.06-.94-2.06-.94-.94-2.06-.94 2.06-2.06.94z\"/><path d=\"M17.41 7.96l-1.37-1.37c-.4-.4-.92-.59-1.43-.59-.52 0-1.04.2-1.43.59L10.3 9.45l-7.72 7.72c-.78.78-.78 2.05 0 2.83L4 21.41c.39.39.9.59 1.41.59.51 0 1.02-.2 1.41-.59l7.78-7.78 2.81-2.81c.8-.78.8-2.07 0-2.86zM5.41 20L4 18.59l7.72-7.72 1.47 1.35L5.41 20z\"/>\n",
              "  </svg>\n",
              "      </button>\n",
              "      \n",
              "  <style>\n",
              "    .colab-df-container {\n",
              "      display:flex;\n",
              "      flex-wrap:wrap;\n",
              "      gap: 12px;\n",
              "    }\n",
              "\n",
              "    .colab-df-convert {\n",
              "      background-color: #E8F0FE;\n",
              "      border: none;\n",
              "      border-radius: 50%;\n",
              "      cursor: pointer;\n",
              "      display: none;\n",
              "      fill: #1967D2;\n",
              "      height: 32px;\n",
              "      padding: 0 0 0 0;\n",
              "      width: 32px;\n",
              "    }\n",
              "\n",
              "    .colab-df-convert:hover {\n",
              "      background-color: #E2EBFA;\n",
              "      box-shadow: 0px 1px 2px rgba(60, 64, 67, 0.3), 0px 1px 3px 1px rgba(60, 64, 67, 0.15);\n",
              "      fill: #174EA6;\n",
              "    }\n",
              "\n",
              "    [theme=dark] .colab-df-convert {\n",
              "      background-color: #3B4455;\n",
              "      fill: #D2E3FC;\n",
              "    }\n",
              "\n",
              "    [theme=dark] .colab-df-convert:hover {\n",
              "      background-color: #434B5C;\n",
              "      box-shadow: 0px 1px 3px 1px rgba(0, 0, 0, 0.15);\n",
              "      filter: drop-shadow(0px 1px 2px rgba(0, 0, 0, 0.3));\n",
              "      fill: #FFFFFF;\n",
              "    }\n",
              "  </style>\n",
              "\n",
              "      <script>\n",
              "        const buttonEl =\n",
              "          document.querySelector('#df-6cb6e409-37ed-442a-a1ce-2e480468bb90 button.colab-df-convert');\n",
              "        buttonEl.style.display =\n",
              "          google.colab.kernel.accessAllowed ? 'block' : 'none';\n",
              "\n",
              "        async function convertToInteractive(key) {\n",
              "          const element = document.querySelector('#df-6cb6e409-37ed-442a-a1ce-2e480468bb90');\n",
              "          const dataTable =\n",
              "            await google.colab.kernel.invokeFunction('convertToInteractive',\n",
              "                                                     [key], {});\n",
              "          if (!dataTable) return;\n",
              "\n",
              "          const docLinkHtml = 'Like what you see? Visit the ' +\n",
              "            '<a target=\"_blank\" href=https://colab.research.google.com/notebooks/data_table.ipynb>data table notebook</a>'\n",
              "            + ' to learn more about interactive tables.';\n",
              "          element.innerHTML = '';\n",
              "          dataTable['output_type'] = 'display_data';\n",
              "          await google.colab.output.renderOutput(dataTable, element);\n",
              "          const docLink = document.createElement('div');\n",
              "          docLink.innerHTML = docLinkHtml;\n",
              "          element.appendChild(docLink);\n",
              "        }\n",
              "      </script>\n",
              "    </div>\n",
              "  </div>\n",
              "  "
            ]
          },
          "metadata": {},
          "execution_count": 31
        }
      ]
    },
    {
      "cell_type": "code",
      "source": [
        "df.Class.value_counts()"
      ],
      "metadata": {
        "colab": {
          "base_uri": "https://localhost:8080/"
        },
        "id": "RzJtgmamEG9e",
        "outputId": "bfa2b58f-0672-4f3b-9df0-8933cbd0c8e6"
      },
      "execution_count": null,
      "outputs": [
        {
          "output_type": "execute_result",
          "data": {
            "text/plain": [
              "2    71\n",
              "1    59\n",
              "3    48\n",
              "Name: Class, dtype: int64"
            ]
          },
          "metadata": {},
          "execution_count": 32
        }
      ]
    },
    {
      "cell_type": "code",
      "source": [
        "value_counts = df.Class.value_counts()\n",
        "sns.barplot(x= value_counts.index, y = value_counts)"
      ],
      "metadata": {
        "colab": {
          "base_uri": "https://localhost:8080/",
          "height": 283
        },
        "id": "fVjthm3QEzOJ",
        "outputId": "2562c407-dc61-4fab-d3c2-f392b5792ab4"
      },
      "execution_count": null,
      "outputs": [
        {
          "output_type": "execute_result",
          "data": {
            "text/plain": [
              "<matplotlib.axes._subplots.AxesSubplot at 0x7f111c1afd10>"
            ]
          },
          "metadata": {},
          "execution_count": 33
        },
        {
          "output_type": "display_data",
          "data": {
            "text/plain": [
              "<Figure size 432x288 with 1 Axes>"
            ],
            "image/png": "[encoded data removed]"
          },
          "metadata": {
            "needs_background": "light"
          }
        }
      ]
    },
    {
      "cell_type": "code",
      "source": [
        "# https://plotly.com/python/\n",
        "# barplot 숫자 표시\n",
        "value_counts = df.Class.value_counts()\n",
        "bar = sns.barplot(x= value_counts.index, y = value_counts)\n",
        "for p in bar.patches:\n",
        "    height = p.get_height()\n",
        "    bar.text(p.get_x() + p.get_width() / 2., height + 3, height, ha = 'center', size = 9)\n",
        "bar.set_ylim(-5, 100)\n",
        "plt.show()"
      ],
      "metadata": {
        "colab": {
          "base_uri": "https://localhost:8080/",
          "height": 269
        },
        "id": "YKL9iwHxFHZT",
        "outputId": "f2353abf-f7d1-43ef-edf2-7c19d7028871"
      },
      "execution_count": null,
      "outputs": [
        {
          "output_type": "display_data",
          "data": {
            "text/plain": [
              "<Figure size 432x288 with 1 Axes>"
            ],
            "image/png": "[encoded data removed]"
          },
          "metadata": {
            "needs_background": "light"
          }
        }
      ]
    },
    {
      "cell_type": "code",
      "source": [
        "# 데이터 특성 보기 (info, describe)\n",
        "# 결측치 채워주기\n",
        "# 범주형 -> 더미 변수\n",
        "# 훈련셋/시험셋 !!!\n",
        "# 스케일링 <- 훈련셋을 통해서 만들어진 스케일러로 시험셋 스케일링\n",
        "# 스케일링 : 아웃라이어의 영향을 줄이거나 범위에 따른 거리의 왜곡\n",
        "# 훈련하는 대상이 되는 데이터 <-> 시험을 대상으로 하는 데이터는 구분, 독립\n",
        "# 둘을 합쳐서 스케일링을 하면, 최소-최대? 평균? 25,50,75% 값이 공유\n",
        "# 훈련셋을 대상으로만 스케일링함 => 스케일러 학습 (훈련셋 학습 스케일러)\n",
        "# => 시험셋도 이미 학습된(훈련셋학습된 스케일러) 스케일러로 스케일링을 진행"
      ],
      "metadata": {
        "id": "aAqzioFqIbGm"
      },
      "execution_count": null,
      "outputs": []
    },
    {
      "cell_type": "code",
      "source": [
        "# 훈련셋과 시험셋 분리\n",
        "from sklearn.model_selection import train_test_split\n",
        "X_train, X_test, y_train, y_test = train_test_split(\n",
        "    df.drop('Class', axis=1), # axis=0 행, axis=1 축\n",
        "    df.Class, test_size=0.2, random_state=100\n",
        ")"
      ],
      "metadata": {
        "id": "g9FgGK_LNo7b"
      },
      "execution_count": null,
      "outputs": []
    },
    {
      "cell_type": "code",
      "source": [
        "# 최대-최소 스케일러 사용\n",
        "from sklearn.preprocessing import MinMaxScaler"
      ],
      "metadata": {
        "id": "csJc6MOEOPvE"
      },
      "execution_count": null,
      "outputs": []
    },
    {
      "cell_type": "code",
      "source": [
        "mm_scaler = MinMaxScaler()\n",
        "mm_scaler.fit(X_train)"
      ],
      "metadata": {
        "colab": {
          "base_uri": "https://localhost:8080/"
        },
        "id": "ho7cK_IXOgej",
        "outputId": "33e0dfcb-a31b-40bf-eb31-63a44b478261"
      },
      "execution_count": null,
      "outputs": [
        {
          "output_type": "execute_result",
          "data": {
            "text/plain": [
              "MinMaxScaler()"
            ]
          },
          "metadata": {},
          "execution_count": 38
        }
      ]
    },
    {
      "cell_type": "code",
      "source": [
        "X_train_scaled = mm_scaler.transform(X_train)\n",
        "X_train_scaled"
      ],
      "metadata": {
        "colab": {
          "base_uri": "https://localhost:8080/"
        },
        "id": "kQppqd24Ov8r",
        "outputId": "16011954-fff0-4272-892f-ad0c364eab3e"
      },
      "execution_count": null,
      "outputs": [
        {
          "output_type": "execute_result",
          "data": {
            "text/plain": [
              "array([[0.39210526, 0.33399209, 0.43315508, ..., 0.30172414, 0.55311355,\n",
              "        0.03352354],\n",
              "       [0.25526316, 0.53162055, 0.34224599, ..., 0.32758621, 0.65201465,\n",
              "        0.20399429],\n",
              "       [0.30789474, 0.45256917, 0.51336898, ..., 0.09482759, 0.20512821,\n",
              "        0.16547789],\n",
              "       ...,\n",
              "       [0.35263158, 0.08498024, 0.29946524, ..., 0.49137931, 0.80952381,\n",
              "        0.16547789],\n",
              "       [0.65      , 0.21146245, 0.6684492 , ..., 0.49137931, 0.93406593,\n",
              "        0.40442225],\n",
              "       [1.        , 0.17786561, 0.43315508, ..., 0.45689655, 0.57875458,\n",
              "        0.54707561]])"
            ]
          },
          "metadata": {},
          "execution_count": 39
        }
      ]
    },
    {
      "cell_type": "code",
      "source": [
        "mm_scaler = MinMaxScaler()\n",
        "X_train_scaled = mm_scaler.fit_transform(X_train)\n",
        "X_test_scaled = mm_scaler.transform(X_test)\n",
        "X_test_scaled"
      ],
      "metadata": {
        "colab": {
          "base_uri": "https://localhost:8080/"
        },
        "id": "XLz61RknPFhh",
        "outputId": "3e39eaaa-1333-4dda-cf4a-d66a6684d9b5"
      },
      "execution_count": null,
      "outputs": [
        {
          "output_type": "execute_result",
          "data": {
            "text/plain": [
              "array([[ 0.16052632,  0.26086957,  0.58823529,  0.56701031,  0.20289855,\n",
              "         0.3057554 ,  0.26464208,  0.63265306,  0.29652997,  0.16170213,\n",
              "         0.38793103,  0.54212454,  0.28673324],\n",
              "       [ 0.64473684,  0.18379447,  0.68449198,  0.61340206,  0.27536232,\n",
              "         0.53956835,  0.13665944,  0.71428571,  0.59305994,  1.11382979,\n",
              "         0.01724138,  0.18681319,  0.24393723],\n",
              "       [ 0.81315789,  0.14624506,  0.51336898,  0.31958763,  0.36231884,\n",
              "         0.39568345,  0.42516269,  0.18367347,  0.3659306 ,  0.39574468,\n",
              "         0.53448276,  0.56776557,  0.7146933 ],\n",
              "       [ 0.24473684,  0.06916996,  0.5026738 ,  0.53608247,  0.44927536,\n",
              "         0.82014388,  0.36225597, -0.08163265,  0.39116719,  0.20531915,\n",
              "         0.37931034,  0.68131868,  0.43366619],\n",
              "       [ 0.87105263,  0.18577075,  0.71657754,  0.74226804,  0.4057971 ,\n",
              "         0.61151079,  0.18221258,  0.73469388,  0.72239748,  1.24680851,\n",
              "         0.01724138,  0.25274725,  0.2724679 ],\n",
              "       [ 0.53947368,  0.62450593,  0.53475936,  0.56185567,  0.62318841,\n",
              "         0.11151079,  0.19956616,  0.34693878,  0.23028391,  0.86382979,\n",
              "         0.01724138,  0.02197802,  0.19400856],\n",
              "       [ 0.33157895,  0.48023715,  0.45454545,  0.3814433 ,  0.26086957,\n",
              "         0.6294964 ,  0.54663774,  0.57142857,  0.75709779,  0.10851064,\n",
              "         0.75      ,  0.57142857,  0.09129815],\n",
              "       [ 0.20526316,  0.27272727,  0.73796791,  0.56185567,  0.92753623,\n",
              "         0.17985612,  0.11279826, -0.06122449,  0.36277603,  0.12978723,\n",
              "         0.34482759,  0.36263736,  0.24750357],\n",
              "       [ 0.27631579,  0.21541502,  0.51336898,  0.40721649,  0.15942029,\n",
              "         0.17985612,  0.22342733,  0.71428571,  0.38801262,  0.11914894,\n",
              "         0.45689655,  0.36630037,  0.14407989],\n",
              "       [ 0.37894737,  0.1541502 ,  0.44919786,  0.43298969,  1.33333333,\n",
              "         0.50359712,  0.39045553,  0.30612245,  0.90536278,  0.14042553,\n",
              "         0.52586207,  0.4981685 ,  0.4700428 ],\n",
              "       [ 0.38947368,  0.09881423,  0.47593583,  0.3556701 ,  0.2173913 ,\n",
              "         0.32374101,  0.02386117,  0.87755102,  0.26498423,  0.44361702,\n",
              "         0.17241379,  0.08791209,  0.26533524],\n",
              "       [ 0.35263158,  0.09288538,  0.64171123,  0.38659794,  0.4057971 ,\n",
              "         0.47482014,  0.47288503,  0.40816327,  0.52681388,  0.35319149,\n",
              "         0.55172414,  0.37728938,  0.2853067 ],\n",
              "       [ 0.45789474,  0.32608696,  0.49197861,  0.45876289,  0.23188406,\n",
              "         0.10431655,  0.00867679,  0.63265306,  0.07255521,  0.91702117,\n",
              "         0.01724138,  0.13186813,  0.13694722],\n",
              "       [ 0.71052632,  0.71541502,  0.48128342,  0.61340206,  0.26086957,\n",
              "         0.0647482 ,  0.        ,  0.71428571,  0.23343849,  0.56808511,\n",
              "         0.19827586,  0.17582418,  0.17261056],\n",
              "       [ 0.62368421,  0.76284585,  0.80213904,  0.74226804,  0.60869565,\n",
              "         0.31654676,  0.10629067,  0.20408163,  0.22082019,  0.76808511,\n",
              "         0.10344828,  0.23809524,  0.2510699 ],\n",
              "       [ 0.68421053,  0.21146245,  0.71657754,  0.34020619,  0.60869565,\n",
              "         0.6294964 ,  0.52928416,  0.26530612,  0.33123028,  0.64042553,\n",
              "         0.62931034,  0.58974359,  0.7360913 ],\n",
              "       [ 0.56052632,  0.55928854,  0.42245989,  0.53608247,  0.46376812,\n",
              "         0.14388489,  0.01735358,  0.53061224,  0.2807571 ,  0.2893617 ,\n",
              "         0.04310345,  0.15018315,  0.39372325],\n",
              "       [ 0.79736842,  0.27865613,  0.6684492 ,  0.36082474,  0.73913043,\n",
              "         0.53956835,  0.44251627,  0.28571429,  0.26498423,  0.40106383,\n",
              "         0.43965517,  0.84615385,  0.7253923 ],\n",
              "       [ 0.21315789,  0.42490119,  0.46524064,  0.3814433 ,  0.60869565,\n",
              "         0.22302158,  0.18438178,  0.53061224,  0.170347  ,  0.14574468,\n",
              "         0.35344828,  0.45787546,  0.15834522],\n",
              "       [ 0.62631579,  0.61264822,  0.40641711,  0.42268041,  0.28985507,\n",
              "         0.48561151,  0.47939262,  0.20408163,  0.33753943,  0.31914894,\n",
              "         0.31034483,  0.63369963,  0.53994294],\n",
              "       [ 0.65      ,  0.47035573,  0.67379679,  0.69072165,  0.76811594,\n",
              "         0.10791367,  0.23861171,  0.10204082,  0.26498423,  0.7787234 ,\n",
              "         0.03448276,  0.01098901,  0.15834522],\n",
              "       [ 0.69736842,  0.21541502,  0.53475936,  0.34020619,  0.49275362,\n",
              "         0.47482014,  0.48156182,  0.51020408,  0.49211356,  0.27234043,\n",
              "         0.5862069 ,  0.58608059,  0.50784593],\n",
              "       [ 0.45789474,  0.53162055,  0.3315508 ,  0.27835052,  0.14492754,\n",
              "         0.19064748,  0.1691974 ,  0.53061224,  0.13249211,  0.22553191,\n",
              "         0.12931034,  0.31135531,  0.06704708],\n",
              "       [ 0.43684211,  0.15612648,  0.48128342,  0.52061856,  0.14492754,\n",
              "         0.10071942,  0.21475054,  0.83673469,  0.38170347,  0.18829787,\n",
              "         0.35344828,  0.28937729,  0.15477889],\n",
              "       [ 0.66578947,  0.1916996 ,  0.50802139,  0.28865979,  0.68115942,\n",
              "         0.73741007,  0.61171367,  0.34693878,  0.60883281,  0.51595745,\n",
              "         0.34482759,  0.77289377,  0.36875892],\n",
              "       [ 0.57105263,  0.2055336 ,  0.4171123 ,  0.03092784,  0.43478261,\n",
              "         0.55755396,  0.4967462 ,  0.18367347,  0.27444795,  0.32978723,\n",
              "         0.43103448,  0.78021978,  0.55064194],\n",
              "       [ 0.16578947,  0.22529644,  0.29946524,  0.27835052,  0.39130435,\n",
              "         0.18345324,  0.23861171,  0.34693878,  0.23343849,  0.26808511,\n",
              "         0.5862069 ,  0.31868132,  0.10699001],\n",
              "       [ 0.27631579,  0.1284585 ,  0.60962567,  0.61340206,  0.20289855,\n",
              "         0.52517986,  0.39479393,  0.53061224,  0.19873817,  0.17234043,\n",
              "         0.32758621,  0.7032967 ,  0.07631954],\n",
              "       [ 0.3       ,  0.14031621,  0.62566845,  0.43298969,  0.49275362,\n",
              "         0.28417266,  0.27765727,  0.57142857,  0.1955836 ,  0.17765957,\n",
              "         0.77586207,  0.35164835,  0.05492154],\n",
              "       [ 0.50789474,  0.53557312,  0.52941176,  0.40721649,  0.52173913,\n",
              "         0.10431655,  0.04989154,  0.46938776,  0.16719243,  0.42553191,\n",
              "         0.11206897,  0.17582418,  0.2831669 ],\n",
              "       [ 0.48421053,  0.76482213,  0.59893048,  0.56185567,  0.23188406,\n",
              "         0.21582734,  0.03904555,  0.6122449 ,  0.14195584,  0.67765957,\n",
              "        -0.00862069,  0.21611722,  0.24750357],\n",
              "       [ 0.31052632,  0.08893281,  0.20855615,  0.31958763,  1.17391304,\n",
              "         0.26978417,  0.17570499, -0.06122449,  0.65930599,  0.16702128,\n",
              "         0.62931034,  0.65934066,  0.31383738],\n",
              "       [ 0.62105263,  0.20355731,  0.67379679,  0.28350515,  0.33333333,\n",
              "         0.6294964 ,  0.53579176,  0.34693878,  0.32807571,  0.37446809,\n",
              "         0.31896552,  0.71428571,  0.65406562],\n",
              "       [ 0.33157895,  0.13241107,  0.3315508 ,  0.27835052,  0.2173913 ,\n",
              "         0.52158273,  0.44034707,  0.24489796,  0.42902208,  0.17234043,\n",
              "         0.5862069 ,  0.53846154,  0.10699001],\n",
              "       [ 0.75      ,  0.84980237,  0.46524064,  0.48453608,  0.14492754,\n",
              "        -0.04316547, -0.02819957,  0.46938776,  0.0851735 ,  0.38510638,\n",
              "         0.02586207,  0.02197802,  0.09771755],\n",
              "       [ 0.46315789,  0.38142292,  0.59893048,  0.58762887,  0.60869565,\n",
              "         0.13669065,  0.19305857,  0.14285714,  0.2681388 ,  1.01276596,\n",
              "        -0.06034483,  0.07326007,  0.14407989]])"
            ]
          },
          "metadata": {},
          "execution_count": 40
        }
      ]
    },
    {
      "cell_type": "code",
      "source": [
        "#@title 모델링\n",
        "from sklearn.neighbors import KNeighborsClassifier"
      ],
      "metadata": {
        "id": "YpC_L-l2Pfu1"
      },
      "execution_count": null,
      "outputs": []
    },
    {
      "cell_type": "code",
      "source": [
        "knn = KNeighborsClassifier()\n",
        "knn.fit(X_train_scaled, y_train)\n",
        "pred = knn.predict(X_test_scaled)"
      ],
      "metadata": {
        "id": "v_bsY8tGPsWj"
      },
      "execution_count": null,
      "outputs": []
    },
    {
      "cell_type": "code",
      "source": [
        "pred"
      ],
      "metadata": {
        "colab": {
          "base_uri": "https://localhost:8080/"
        },
        "id": "Z173s2pvP6aD",
        "outputId": "4397b385-5827-4795-c4da-b2522e4be2aa"
      },
      "execution_count": null,
      "outputs": [
        {
          "output_type": "execute_result",
          "data": {
            "text/plain": [
              "array([2, 3, 1, 2, 3, 3, 2, 3, 2, 1, 3, 1, 3, 3, 3, 1, 3, 1, 2, 1, 3, 1,\n",
              "       3, 2, 1, 1, 2, 2, 2, 3, 3, 2, 1, 2, 3, 3])"
            ]
          },
          "metadata": {},
          "execution_count": 43
        }
      ]
    },
    {
      "cell_type": "code",
      "source": [
        "from sklearn.metrics import accuracy_score\n",
        "accuracy_score(y_test, pred)"
      ],
      "metadata": {
        "colab": {
          "base_uri": "https://localhost:8080/"
        },
        "id": "_6dpFTzsP-zc",
        "outputId": "3908deba-fe86-4090-f68e-f7d4242f8750"
      },
      "execution_count": null,
      "outputs": [
        {
          "output_type": "execute_result",
          "data": {
            "text/plain": [
              "0.8888888888888888"
            ]
          },
          "metadata": {},
          "execution_count": 44
        }
      ]
    },
    {
      "cell_type": "code",
      "source": [
        "knn2 = KNeighborsClassifier()\n",
        "knn2.fit(X_train, y_train)\n",
        "pred2 = knn2.predict(X_test)\n",
        "accuracy_score(y_test, pred2)"
      ],
      "metadata": {
        "colab": {
          "base_uri": "https://localhost:8080/"
        },
        "id": "rtUgOR2QQMnR",
        "outputId": "a9eddd30-562c-4e88-d5a8-5eb155bf769b"
      },
      "execution_count": null,
      "outputs": [
        {
          "output_type": "execute_result",
          "data": {
            "text/plain": [
              "0.6388888888888888"
            ]
          },
          "metadata": {},
          "execution_count": 45
        }
      ]
    },
    {
      "cell_type": "code",
      "source": [
        "# n은 정수형 int를 패러미터로 받고, 최종 return으로 실수형 float를 돌려준다\n",
        "def tuning(n: int) -> float:\n",
        "    knn = KNeighborsClassifier(n_neighbors=n)\n",
        "    knn.fit(X_train_scaled, y_train)\n",
        "    pred = knn.predict(X_test_scaled)\n",
        "    score = accuracy_score(y_test, pred)\n",
        "    return score"
      ],
      "metadata": {
        "id": "nxtrlBGfQVCb"
      },
      "execution_count": null,
      "outputs": []
    },
    {
      "cell_type": "code",
      "source": [
        "tuning(1)"
      ],
      "metadata": {
        "colab": {
          "base_uri": "https://localhost:8080/"
        },
        "id": "WiF3XhPSQGWE",
        "outputId": "010e3f90-a63c-45c2-eea1-651a5145fbb7"
      },
      "execution_count": null,
      "outputs": [
        {
          "output_type": "execute_result",
          "data": {
            "text/plain": [
              "0.9166666666666666"
            ]
          },
          "metadata": {},
          "execution_count": 47
        }
      ]
    },
    {
      "cell_type": "code",
      "source": [
        "# for i in range(1, 21):\n",
        "#     print(tuning(i))\n",
        "# for i in range(20):\n",
        "#     print(tuning(i+1))\n",
        "[tuning(i+1) for i in range(20)]"
      ],
      "metadata": {
        "colab": {
          "base_uri": "https://localhost:8080/"
        },
        "id": "RsWhWsHjW9C8",
        "outputId": "b4f340d8-85ca-4a64-9267-d47f75ccde0e"
      },
      "execution_count": null,
      "outputs": [
        {
          "output_type": "execute_result",
          "data": {
            "text/plain": [
              "[0.9166666666666666,\n",
              " 0.8611111111111112,\n",
              " 0.9166666666666666,\n",
              " 0.9166666666666666,\n",
              " 0.8888888888888888,\n",
              " 0.9166666666666666,\n",
              " 0.9444444444444444,\n",
              " 0.9166666666666666,\n",
              " 0.8888888888888888,\n",
              " 0.8888888888888888,\n",
              " 0.9444444444444444,\n",
              " 0.9444444444444444,\n",
              " 0.9722222222222222,\n",
              " 0.9444444444444444,\n",
              " 0.9444444444444444,\n",
              " 0.9444444444444444,\n",
              " 0.9166666666666666,\n",
              " 0.9722222222222222,\n",
              " 0.9444444444444444,\n",
              " 0.9722222222222222]"
            ]
          },
          "metadata": {},
          "execution_count": 48
        }
      ]
    },
    {
      "cell_type": "code",
      "source": [
        "k_list = [(i, tuning(i)) for i in range(1, 21)]\n",
        "k_list"
      ],
      "metadata": {
        "colab": {
          "base_uri": "https://localhost:8080/"
        },
        "id": "Tzhg4MJvXw7p",
        "outputId": "397d553b-729d-4a63-f084-c7720a54793c"
      },
      "execution_count": null,
      "outputs": [
        {
          "output_type": "execute_result",
          "data": {
            "text/plain": [
              "[(1, 0.9166666666666666),\n",
              " (2, 0.8611111111111112),\n",
              " (3, 0.9166666666666666),\n",
              " (4, 0.9166666666666666),\n",
              " (5, 0.8888888888888888),\n",
              " (6, 0.9166666666666666),\n",
              " (7, 0.9444444444444444),\n",
              " (8, 0.9166666666666666),\n",
              " (9, 0.8888888888888888),\n",
              " (10, 0.8888888888888888),\n",
              " (11, 0.9444444444444444),\n",
              " (12, 0.9444444444444444),\n",
              " (13, 0.9722222222222222),\n",
              " (14, 0.9444444444444444),\n",
              " (15, 0.9444444444444444),\n",
              " (16, 0.9444444444444444),\n",
              " (17, 0.9166666666666666),\n",
              " (18, 0.9722222222222222),\n",
              " (19, 0.9444444444444444),\n",
              " (20, 0.9722222222222222)]"
            ]
          },
          "metadata": {},
          "execution_count": 49
        }
      ]
    },
    {
      "cell_type": "code",
      "source": [
        "sorted(k_list, key=lambda x: x[1], reverse = True)"
      ],
      "metadata": {
        "id": "eKcieMIVX8sx",
        "colab": {
          "base_uri": "https://localhost:8080/"
        },
        "outputId": "3239f46d-a0b9-4518-cce2-c99e7cb4cff0"
      },
      "execution_count": null,
      "outputs": [
        {
          "output_type": "execute_result",
          "data": {
            "text/plain": [
              "[(13, 0.9722222222222222),\n",
              " (18, 0.9722222222222222),\n",
              " (20, 0.9722222222222222),\n",
              " (7, 0.9444444444444444),\n",
              " (11, 0.9444444444444444),\n",
              " (12, 0.9444444444444444),\n",
              " (14, 0.9444444444444444),\n",
              " (15, 0.9444444444444444),\n",
              " (16, 0.9444444444444444),\n",
              " (19, 0.9444444444444444),\n",
              " (1, 0.9166666666666666),\n",
              " (3, 0.9166666666666666),\n",
              " (4, 0.9166666666666666),\n",
              " (6, 0.9166666666666666),\n",
              " (8, 0.9166666666666666),\n",
              " (17, 0.9166666666666666),\n",
              " (5, 0.8888888888888888),\n",
              " (9, 0.8888888888888888),\n",
              " (10, 0.8888888888888888),\n",
              " (2, 0.8611111111111112)]"
            ]
          },
          "metadata": {},
          "execution_count": 52
        }
      ]
    },
    {
      "cell_type": "code",
      "source": [],
      "metadata": {
        "id": "xYnosUPxYPJy"
      },
      "execution_count": null,
      "outputs": []
    }
  ]
}