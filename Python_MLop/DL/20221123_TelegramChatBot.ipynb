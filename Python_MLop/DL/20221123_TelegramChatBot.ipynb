{
  "nbformat": 4,
  "nbformat_minor": 0,
  "metadata": {
    "colab": {
      "provenance": []
    },
    "kernelspec": {
      "name": "python3",
      "display_name": "Python 3"
    },
    "language_info": {
      "name": "python"
    }
  },
  "cells": [
    {
      "cell_type": "markdown",
      "source": [
        "Telegram 가입 -> 검색 -> BotFather\n",
        "> /newbot > 봇닉네임 > 봇아이디(Bot)\n",
        "\n",
        "주소 : https://web.telegram.org/k/#@IHateDataBot\n",
        "API Key: 5893545238:AAGxP__jjbmEtyV5V0sne4jIGoBfj_m_wt0\n",
        "\n",
        "해당 주소로 가서 말 한 번 걸어주기"
      ],
      "metadata": {
        "id": "KKsh8xxmkkHH"
      }
    },
    {
      "cell_type": "code",
      "execution_count": null,
      "metadata": {
        "id": "OZ9VwOs-kW0T"
      },
      "outputs": [],
      "source": [
        "# Restful API\n",
        "# -> WebURL 주소 -> 특정 요청 -> 처리\n",
        "import requests"
      ]
    },
    {
      "cell_type": "code",
      "source": [
        "bot_token = \"5893545238:AAGxP__jjbmEtyV5V0sne4jIGoBfj_m_wt0\"\n",
        "url = f'https://api.telegram.org/bot{bot_token}'\n",
        "\n",
        "# get : 받아올 때\n",
        "# post : 보내줄 때\n",
        "res = requests.get(f\"{url}/getUpdates\") # url로 보낸 요청에 대한 응답"
      ],
      "metadata": {
        "id": "irqZOJ5jkwVB"
      },
      "execution_count": null,
      "outputs": []
    },
    {
      "cell_type": "code",
      "source": [
        "# res.text\n",
        "json = res.json()\n",
        "json # json 포맷 표현"
      ],
      "metadata": {
        "colab": {
          "base_uri": "https://localhost:8080/"
        },
        "id": "9T7TEs19lgYH",
        "outputId": "4044aff4-66f6-42d3-f071-dfcee74035bf"
      },
      "execution_count": null,
      "outputs": [
        {
          "output_type": "execute_result",
          "data": {
            "text/plain": [
              "{'ok': True,\n",
              " 'result': [{'update_id': 45129692,\n",
              "   'message': {'message_id': 3,\n",
              "    'from': {'id': 5261784013,\n",
              "     'is_bot': False,\n",
              "     'first_name': '영인',\n",
              "     'last_name': '변',\n",
              "     'language_code': 'ko'},\n",
              "    'chat': {'id': 5261784013,\n",
              "     'first_name': '영인',\n",
              "     'last_name': '변',\n",
              "     'type': 'private'},\n",
              "    'date': 1669175089,\n",
              "    'text': '왜 내 인사 안 받아줘?'}}]}"
            ]
          },
          "metadata": {},
          "execution_count": 10
        }
      ]
    },
    {
      "cell_type": "code",
      "source": [
        "# chat_id : 5261784013\n",
        "# res = requests.post(\n",
        "#     f\"{url}/sendMessage\", {\n",
        "#         'chat_id': '5261784013',\n",
        "#         'text': '내가 언제 너 무시했다고 그래?'\n",
        "#     }\n",
        "# )\n",
        "res = requests.post(\n",
        "    f\"{url}/sendMessage\", {\n",
        "        'chat_id': '5261784013',\n",
        "        'text': '내일 날씨는 맑을 예정입니다!'\n",
        "    }\n",
        ")"
      ],
      "metadata": {
        "id": "jbzy1HbumNin"
      },
      "execution_count": null,
      "outputs": []
    }
  ]
}