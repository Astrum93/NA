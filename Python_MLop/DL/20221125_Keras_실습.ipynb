{
  "nbformat": 4,
  "nbformat_minor": 0,
  "metadata": {
    "colab": {
      "provenance": []
    },
    "kernelspec": {
      "name": "python3",
      "display_name": "Python 3"
    },
    "language_info": {
      "name": "python"
    },
    "accelerator": "GPU",
    "gpuClass": "standard"
  },
  "cells": [
    {
      "cell_type": "code",
      "execution_count": 49,
      "metadata": {
        "id": "8PfPThsuGHXr"
      },
      "outputs": [],
      "source": [
        "# 런타임 > GPU\n",
        "# 런타임 > 런타임 유형 변경 > 하드웨어 가속기 (None) > GPU > 저장 > 연결\n",
        "# Keras - Tensorflow 고수준 API - 많은게 이미 정해진 대신 커스터마이징이 어렵다\n",
        "from keras.models import Sequential # 순전파 모델 클래스\n",
        "from keras.layers import Dense # 층을 쌓아주는 클래스 (model.add...)"
      ]
    },
    {
      "cell_type": "code",
      "source": [
        "# Sequential 모델\n",
        "model = Sequential()"
      ],
      "metadata": {
        "id": "APFKAoB2JFO-"
      },
      "execution_count": 50,
      "outputs": []
    },
    {
      "cell_type": "code",
      "source": [
        "# 입력층 3이고 -> 은닉층이 2인 레이어 추가\n",
        "model.add(Dense(input_shape=(3,), units=2, activation='sigmoid')) # 활성함수 sigmoid\n",
        "# 출력층 추가\n",
        "model.add(Dense(1))"
      ],
      "metadata": {
        "id": "kdAjvfR0JKrl"
      },
      "execution_count": 51,
      "outputs": []
    },
    {
      "cell_type": "code",
      "source": [
        "# Layer 정보\n",
        "model.summary() # 입력층 dense는 별도로 표기 X\n",
        "# Param - 연결된 노드의 줄 갯수 + 노드 자체의 수"
      ],
      "metadata": {
        "colab": {
          "base_uri": "https://localhost:8080/"
        },
        "id": "EEXexbFXJq9G",
        "outputId": "e336ded6-1b6e-4c74-eb4b-c4946ba62670"
      },
      "execution_count": 52,
      "outputs": [
        {
          "output_type": "stream",
          "name": "stdout",
          "text": [
            "Model: \"sequential_5\"\n",
            "_________________________________________________________________\n",
            " Layer (type)                Output Shape              Param #   \n",
            "=================================================================\n",
            " dense_11 (Dense)            (None, 2)                 8         \n",
            "                                                                 \n",
            " dense_12 (Dense)            (None, 1)                 3         \n",
            "                                                                 \n",
            "=================================================================\n",
            "Total params: 11\n",
            "Trainable params: 11\n",
            "Non-trainable params: 0\n",
            "_________________________________________________________________\n"
          ]
        }
      ]
    },
    {
      "cell_type": "code",
      "source": [
        "from keras.optimizers.optimizer_v2.optimizer_v2 import optimizer_utils\n",
        "# 모델 학습 -> epoch, 최적화, 손실 함수(loss)\n",
        "from keras import optimizers\n",
        "# 최적화 함수\n",
        "sgd = optimizers.SGD()\n",
        "# 손실 함수 설정\n",
        "model.compile(loss='mse', optimizer=sgd) # 회귀, 연속된 값\n",
        "# 분류 문제에 대한 손실 함수\n",
        "model.compile(loss='categorical_crossentropy', optimizer=sgd,\n",
        "              metrics=['accuracy']) # 회귀, 연속된 값"
      ],
      "metadata": {
        "id": "CL40AxQYKL81"
      },
      "execution_count": 53,
      "outputs": []
    },
    {
      "cell_type": "code",
      "source": [
        "# IMDB - 왓챠피디아? 영화 리뷰 데이터셋 -> ( BOW ) => (1, 0)\n",
        "from keras.datasets import imdb"
      ],
      "metadata": {
        "id": "bXiI56HGK40O"
      },
      "execution_count": 54,
      "outputs": []
    },
    {
      "cell_type": "code",
      "source": [
        "# IMDB 데이터 로드\n",
        "(train_data, train_labels), (test_data, test_labels) = imdb.load_data(\n",
        "    num_words=10000 # 가장 자주 나타나는 1만개 단어만 사용\n",
        ")"
      ],
      "metadata": {
        "id": "qCrwy1tQLILn"
      },
      "execution_count": 55,
      "outputs": []
    },
    {
      "cell_type": "code",
      "source": [
        "print(train_data[0]) # BOW"
      ],
      "metadata": {
        "colab": {
          "base_uri": "https://localhost:8080/"
        },
        "id": "nOeMDnoILcxM",
        "outputId": "0641ef01-4d7a-407f-9215-50ff201383cb"
      },
      "execution_count": 56,
      "outputs": [
        {
          "output_type": "stream",
          "name": "stdout",
          "text": [
            "[1, 14, 22, 16, 43, 530, 973, 1622, 1385, 65, 458, 4468, 66, 3941, 4, 173, 36, 256, 5, 25, 100, 43, 838, 112, 50, 670, 2, 9, 35, 480, 284, 5, 150, 4, 172, 112, 167, 2, 336, 385, 39, 4, 172, 4536, 1111, 17, 546, 38, 13, 447, 4, 192, 50, 16, 6, 147, 2025, 19, 14, 22, 4, 1920, 4613, 469, 4, 22, 71, 87, 12, 16, 43, 530, 38, 76, 15, 13, 1247, 4, 22, 17, 515, 17, 12, 16, 626, 18, 2, 5, 62, 386, 12, 8, 316, 8, 106, 5, 4, 2223, 5244, 16, 480, 66, 3785, 33, 4, 130, 12, 16, 38, 619, 5, 25, 124, 51, 36, 135, 48, 25, 1415, 33, 6, 22, 12, 215, 28, 77, 52, 5, 14, 407, 16, 82, 2, 8, 4, 107, 117, 5952, 15, 256, 4, 2, 7, 3766, 5, 723, 36, 71, 43, 530, 476, 26, 400, 317, 46, 7, 4, 2, 1029, 13, 104, 88, 4, 381, 15, 297, 98, 32, 2071, 56, 26, 141, 6, 194, 7486, 18, 4, 226, 22, 21, 134, 476, 26, 480, 5, 144, 30, 5535, 18, 51, 36, 28, 224, 92, 25, 104, 4, 226, 65, 16, 38, 1334, 88, 12, 16, 283, 5, 16, 4472, 113, 103, 32, 15, 16, 5345, 19, 178, 32]\n"
          ]
        }
      ]
    },
    {
      "cell_type": "code",
      "source": [
        "print(train_labels) # 1, 0"
      ],
      "metadata": {
        "colab": {
          "base_uri": "https://localhost:8080/"
        },
        "id": "jUTByraxLrju",
        "outputId": "419f4fc7-8188-4c9a-82df-71cd46c2ec95"
      },
      "execution_count": 57,
      "outputs": [
        {
          "output_type": "stream",
          "name": "stdout",
          "text": [
            "[1 0 0 ... 0 1 0]\n"
          ]
        }
      ]
    },
    {
      "cell_type": "code",
      "source": [
        "max([max(sequence) for sequence in train_data])"
      ],
      "metadata": {
        "colab": {
          "base_uri": "https://localhost:8080/"
        },
        "id": "GkuR-mBUL6sk",
        "outputId": "fd4abfe3-fa7d-4042-da0f-8438d9be5922"
      },
      "execution_count": 58,
      "outputs": [
        {
          "output_type": "execute_result",
          "data": {
            "text/plain": [
              "9999"
            ]
          },
          "metadata": {},
          "execution_count": 58
        }
      ]
    },
    {
      "cell_type": "code",
      "source": [
        "# 리스트 데이터 딥러닝 X -> 텐서\n",
        "import numpy as np\n",
        "\n",
        "def vectorize_sequence(sequences, dimension=10000):\n",
        "    # [1, 14, 22, 16, 43, 530 ....]\n",
        "    # [[0, 1, 0, 0, 0 ....], [0000000...1],]\n",
        "    results = np.zeros((len(sequences), dimension)) # [[]] <- 1, 문장에 있는 단어수 / 2. 고유 단어수 (BOW)\n",
        "    for i, seq in enumerate(sequences):\n",
        "        results[i, seq] = 1,\n",
        "    return results\n",
        "\n",
        "x_train = vectorize_sequence(train_data)\n",
        "x_test = vectorize_sequence(test_data)"
      ],
      "metadata": {
        "id": "D7XtGmETMEYN"
      },
      "execution_count": 59,
      "outputs": []
    },
    {
      "cell_type": "code",
      "source": [
        "print(x_train)"
      ],
      "metadata": {
        "colab": {
          "base_uri": "https://localhost:8080/"
        },
        "id": "3na5bqfcNIUX",
        "outputId": "04756179-6a01-46a5-ba38-ea9782cf76ef"
      },
      "execution_count": 60,
      "outputs": [
        {
          "output_type": "stream",
          "name": "stdout",
          "text": [
            "[[0. 1. 1. ... 0. 0. 0.]\n",
            " [0. 1. 1. ... 0. 0. 0.]\n",
            " [0. 1. 1. ... 0. 0. 0.]\n",
            " ...\n",
            " [0. 1. 1. ... 0. 0. 0.]\n",
            " [0. 1. 1. ... 0. 0. 0.]\n",
            " [0. 1. 1. ... 0. 0. 0.]]\n"
          ]
        }
      ]
    },
    {
      "cell_type": "code",
      "source": [
        "y_train = np.asarray(train_labels).astype('float32')\n",
        "y_test = np.asarray(test_labels).astype('float32')"
      ],
      "metadata": {
        "id": "VFnRpavSNax0"
      },
      "execution_count": 61,
      "outputs": []
    },
    {
      "cell_type": "code",
      "source": [
        "# 모델 설계\n",
        "from keras import models\n",
        "from keras import layers\n",
        "\n",
        "model = models.Sequential()\n",
        "# 입력층 10000개 / 은닉층 16층 / 활성화 Relu\n",
        "model.add(layers.Dense(16, activation='relu', input_shape=(10000,)))\n",
        "model.add(layers.Dense(16, activation='relu')) # relu -> 음수 0\n",
        "# 출력층 1 / 확률 (0~1) sigmoid\n",
        "model.add(layers.Dense(1, activation='sigmoid'))"
      ],
      "metadata": {
        "id": "-mXBrexBNio-"
      },
      "execution_count": 62,
      "outputs": []
    },
    {
      "cell_type": "code",
      "source": [
        "model.summary()"
      ],
      "metadata": {
        "colab": {
          "base_uri": "https://localhost:8080/"
        },
        "id": "13n2A3tpOgZv",
        "outputId": "2ac73b32-bb14-41cf-976e-f176d2675df1"
      },
      "execution_count": 63,
      "outputs": [
        {
          "output_type": "stream",
          "name": "stdout",
          "text": [
            "Model: \"sequential_6\"\n",
            "_________________________________________________________________\n",
            " Layer (type)                Output Shape              Param #   \n",
            "=================================================================\n",
            " dense_13 (Dense)            (None, 16)                160016    \n",
            "                                                                 \n",
            " dense_14 (Dense)            (None, 16)                272       \n",
            "                                                                 \n",
            " dense_15 (Dense)            (None, 1)                 17        \n",
            "                                                                 \n",
            "=================================================================\n",
            "Total params: 160,305\n",
            "Trainable params: 160,305\n",
            "Non-trainable params: 0\n",
            "_________________________________________________________________\n"
          ]
        }
      ]
    },
    {
      "cell_type": "code",
      "source": [
        "# 검증셋\n",
        "x_val = x_train[:10000]\n",
        "p_x_train = x_train[10000:]\n",
        "y_val = y_train[:10000]\n",
        "p_y_train = y_train[10000:]"
      ],
      "metadata": {
        "id": "rvJyd_OnOmNW"
      },
      "execution_count": 64,
      "outputs": []
    },
    {
      "cell_type": "code",
      "source": [
        "# 손실함수, 최적화함수\n",
        "model.compile(optimizer='rmsprop', loss='binary_crossentropy', metrics=['acc'])\n",
        "\n",
        "history = model.fit(\n",
        "    p_x_train, p_y_train,\n",
        "    epochs=20, batch_size=512,\n",
        "    validation_data=(x_val, y_val)\n",
        ")\n",
        "\n",
        "results = model.evaluate(x_test, y_test)"
      ],
      "metadata": {
        "colab": {
          "base_uri": "https://localhost:8080/"
        },
        "id": "WKcoMIyQO0MG",
        "outputId": "ab61db23-a525-4824-8fe9-7131dceae32d"
      },
      "execution_count": 65,
      "outputs": [
        {
          "output_type": "stream",
          "name": "stdout",
          "text": [
            "Epoch 1/20\n",
            "30/30 [==============================] - 2s 46ms/step - loss: 0.5111 - acc: 0.7793 - val_loss: 0.3895 - val_acc: 0.8583\n",
            "Epoch 2/20\n",
            "30/30 [==============================] - 1s 21ms/step - loss: 0.3050 - acc: 0.9003 - val_loss: 0.3109 - val_acc: 0.8820\n",
            "Epoch 3/20\n",
            "30/30 [==============================] - 1s 22ms/step - loss: 0.2247 - acc: 0.9249 - val_loss: 0.3046 - val_acc: 0.8758\n",
            "Epoch 4/20\n",
            "30/30 [==============================] - 1s 22ms/step - loss: 0.1746 - acc: 0.9441 - val_loss: 0.2755 - val_acc: 0.8896\n",
            "Epoch 5/20\n",
            "30/30 [==============================] - 1s 22ms/step - loss: 0.1448 - acc: 0.9525 - val_loss: 0.2802 - val_acc: 0.8867\n",
            "Epoch 6/20\n",
            "30/30 [==============================] - 1s 22ms/step - loss: 0.1175 - acc: 0.9633 - val_loss: 0.2955 - val_acc: 0.8830\n",
            "Epoch 7/20\n",
            "30/30 [==============================] - 1s 22ms/step - loss: 0.0978 - acc: 0.9707 - val_loss: 0.3509 - val_acc: 0.8698\n",
            "Epoch 8/20\n",
            "30/30 [==============================] - 1s 21ms/step - loss: 0.0811 - acc: 0.9766 - val_loss: 0.3285 - val_acc: 0.8788\n",
            "Epoch 9/20\n",
            "30/30 [==============================] - 1s 22ms/step - loss: 0.0677 - acc: 0.9811 - val_loss: 0.3492 - val_acc: 0.8772\n",
            "Epoch 10/20\n",
            "30/30 [==============================] - 1s 21ms/step - loss: 0.0539 - acc: 0.9864 - val_loss: 0.3706 - val_acc: 0.8772\n",
            "Epoch 11/20\n",
            "30/30 [==============================] - 1s 21ms/step - loss: 0.0465 - acc: 0.9889 - val_loss: 0.4089 - val_acc: 0.8777\n",
            "Epoch 12/20\n",
            "30/30 [==============================] - 1s 24ms/step - loss: 0.0335 - acc: 0.9937 - val_loss: 0.4290 - val_acc: 0.8765\n",
            "Epoch 13/20\n",
            "30/30 [==============================] - 1s 21ms/step - loss: 0.0298 - acc: 0.9935 - val_loss: 0.4549 - val_acc: 0.8732\n",
            "Epoch 14/20\n",
            "30/30 [==============================] - 1s 22ms/step - loss: 0.0225 - acc: 0.9955 - val_loss: 0.4812 - val_acc: 0.8739\n",
            "Epoch 15/20\n",
            "30/30 [==============================] - 1s 24ms/step - loss: 0.0190 - acc: 0.9965 - val_loss: 0.5169 - val_acc: 0.8708\n",
            "Epoch 16/20\n",
            "30/30 [==============================] - 1s 36ms/step - loss: 0.0122 - acc: 0.9990 - val_loss: 0.6599 - val_acc: 0.8563\n",
            "Epoch 17/20\n",
            "30/30 [==============================] - 1s 34ms/step - loss: 0.0097 - acc: 0.9991 - val_loss: 0.5791 - val_acc: 0.8702\n",
            "Epoch 18/20\n",
            "30/30 [==============================] - 1s 42ms/step - loss: 0.0088 - acc: 0.9991 - val_loss: 0.6457 - val_acc: 0.8686\n",
            "Epoch 19/20\n",
            "30/30 [==============================] - 1s 39ms/step - loss: 0.0085 - acc: 0.9987 - val_loss: 0.6482 - val_acc: 0.8710\n",
            "Epoch 20/20\n",
            "30/30 [==============================] - 1s 40ms/step - loss: 0.0036 - acc: 0.9999 - val_loss: 0.6958 - val_acc: 0.8688\n",
            "782/782 [==============================] - 5s 6ms/step - loss: 0.7543 - acc: 0.8520\n"
          ]
        }
      ]
    },
    {
      "cell_type": "code",
      "source": [
        "results # loss / accuracy"
      ],
      "metadata": {
        "colab": {
          "base_uri": "https://localhost:8080/"
        },
        "id": "bh-71RwNPWNW",
        "outputId": "3ff6cc42-ea5d-49ff-eed2-3cb6f03ca71a"
      },
      "execution_count": 66,
      "outputs": [
        {
          "output_type": "execute_result",
          "data": {
            "text/plain": [
              "[0.7543497681617737, 0.8519600033760071]"
            ]
          },
          "metadata": {},
          "execution_count": 66
        }
      ]
    },
    {
      "cell_type": "code",
      "source": [
        "(model.predict(x_test) >= 0.5).astype('float32')"
      ],
      "metadata": {
        "colab": {
          "base_uri": "https://localhost:8080/"
        },
        "id": "Ik1A2DFPPlb_",
        "outputId": "200ebddb-ee2b-41f7-dee5-1a069a9dccf6"
      },
      "execution_count": 67,
      "outputs": [
        {
          "output_type": "stream",
          "name": "stdout",
          "text": [
            "782/782 [==============================] - 2s 2ms/step\n"
          ]
        },
        {
          "output_type": "execute_result",
          "data": {
            "text/plain": [
              "array([[0.],\n",
              "       [1.],\n",
              "       [1.],\n",
              "       ...,\n",
              "       [0.],\n",
              "       [0.],\n",
              "       [1.]], dtype=float32)"
            ]
          },
          "metadata": {},
          "execution_count": 67
        }
      ]
    },
    {
      "cell_type": "code",
      "source": [
        "history_dict = history.history\n",
        "history_dict.keys()"
      ],
      "metadata": {
        "id": "fWMLbWvRP23d",
        "outputId": "e37a3e0d-6fb7-4208-b982-e3462fa0eb8b",
        "colab": {
          "base_uri": "https://localhost:8080/"
        }
      },
      "execution_count": 68,
      "outputs": [
        {
          "output_type": "execute_result",
          "data": {
            "text/plain": [
              "dict_keys(['loss', 'acc', 'val_loss', 'val_acc'])"
            ]
          },
          "metadata": {},
          "execution_count": 68
        }
      ]
    },
    {
      "cell_type": "code",
      "source": [
        "# 훈련과 검증 데이터에 대한 손실 시각화\n",
        "import matplotlib.pyplot as plt\n",
        "history_dict = history.history\n",
        "loss = history_dict['loss']\n",
        "val_loss = history_dict['val_loss']\n",
        "epochs = range(1, len(loss) + 1)\n",
        "plt.subplot(1, 2, 1)\n",
        "plt.plot(epochs, loss, 'bo', label='Training loss')\n",
        "plt.plot(epochs, val_loss, 'b', label='Validation loss')\n",
        "plt.title('Training and validation loss')\n",
        "plt.xlabel('Epochs')\n",
        "plt.ylabel('Loss')\n",
        "plt.legend()\n",
        "# 훈련과 검증 데이터에 대한 정확도 시각화\n",
        "plt.subplot(1, 2, 2)\n",
        "acc = history_dict['acc']\n",
        "val_acc = history_dict['val_acc']\n",
        "plt.plot(epochs, acc, 'bo', label='Training acc')\n",
        "plt.plot(epochs, val_acc, 'b', label='Validation acc')\n",
        "plt.title('Training and validation accuracy')\n",
        "plt.xlabel('Epochs')\n",
        "plt.ylabel('Accuracy')\n",
        "plt.legend()\n",
        "plt.tight_layout()\n",
        "plt.show()\n",
        "# 훈련 손실이 에포크마다 감소하고 훈련 정확도는 에포크마다 증가\n",
        "# 검증 손실과 정확도는 일치하지 않음 -> 오버피팅"
      ],
      "metadata": {
        "id": "tBl4kvn2P_7g",
        "outputId": "117a98d2-47a6-48de-bf10-1a0be7121909",
        "colab": {
          "base_uri": "https://localhost:8080/",
          "height": 297
        }
      },
      "execution_count": 69,
      "outputs": [
        {
          "output_type": "display_data",
          "data": {
            "text/plain": [
              "<Figure size 432x288 with 2 Axes>"
            ],
            "image/png": "[encoded data removed]"
          },
          "metadata": {
            "needs_background": "light"
          }
        }
      ]
    },
    {
      "cell_type": "code",
      "source": [
        "model2 = models.Sequential()\n",
        "model2.add(layers.Dense(16, activation='relu', input_shape=(10000,)))\n",
        "model2.add(layers.Dense(16, activation='relu'))\n",
        "model2.add(layers.Dense(1, activation='sigmoid'))\n",
        "model2.compile(optimizer='rmsprop',\n",
        "              loss='binary_crossentropy',\n",
        "              metrics=['acc'])\n",
        "model2.fit(x_train, y_train, epochs=4, batch_size=512)\n",
        "results2 = model2.evaluate(x_test, y_test)"
      ],
      "metadata": {
        "id": "HQONsXsdQMVR",
        "outputId": "496dd7b9-59ac-410b-9bbb-90789508fd57",
        "colab": {
          "base_uri": "https://localhost:8080/"
        }
      },
      "execution_count": 70,
      "outputs": [
        {
          "output_type": "stream",
          "name": "stdout",
          "text": [
            "Epoch 1/4\n",
            "49/49 [==============================] - 3s 21ms/step - loss: 0.4410 - acc: 0.8241\n",
            "Epoch 2/4\n",
            "49/49 [==============================] - 1s 18ms/step - loss: 0.2548 - acc: 0.9101\n",
            "Epoch 3/4\n",
            "49/49 [==============================] - 1s 14ms/step - loss: 0.1972 - acc: 0.9293\n",
            "Epoch 4/4\n",
            "49/49 [==============================] - 1s 13ms/step - loss: 0.1658 - acc: 0.9403\n",
            "782/782 [==============================] - 2s 3ms/step - loss: 0.3024 - acc: 0.8798\n"
          ]
        }
      ]
    },
    {
      "cell_type": "code",
      "source": [
        "history_dict = history.history\n",
        "loss = history_dict['loss']\n",
        "val_loss = history_dict['val_loss']\n",
        "epochs = range(1, len(loss) + 1)\n",
        "plt.subplot(1, 2, 1)\n",
        "plt.plot(epochs, loss, 'bo', label='Training loss')\n",
        "plt.plot(epochs, val_loss, 'b', label='Validation loss')\n",
        "plt.title('Training and validation loss')\n",
        "plt.xlabel('Epochs')\n",
        "plt.ylabel('Loss')\n",
        "plt.legend()\n",
        "# 훈련과 검증 데이터에 대한 정확도 시각화\n",
        "plt.subplot(1, 2, 2)\n",
        "acc = history_dict['acc']\n",
        "val_acc = history_dict['val_acc']\n",
        "plt.plot(epochs, acc, 'bo', label='Training acc')\n",
        "plt.plot(epochs, val_acc, 'b', label='Validation acc')\n",
        "plt.title('Training and validation accuracy')\n",
        "plt.xlabel('Epochs')\n",
        "plt.ylabel('Accuracy')\n",
        "plt.legend()\n",
        "plt.tight_layout()"
      ],
      "metadata": {
        "id": "S-bCJVRrQguX"
      },
      "execution_count": null,
      "outputs": []
    }
  ]
}