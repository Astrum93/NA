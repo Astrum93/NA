{
 "cells": [
  {
   "cell_type": "markdown",
   "id": "95477210",
   "metadata": {
    "slideshow": {
     "slide_type": "slide"
    }
   },
   "source": [
    "> # 5조 - 주택전세 가격과 거시경제 변수간의 상관관계<br>\n",
    "- ## 데이터 병합 및 시각화"
   ]
  },
  {
   "cell_type": "code",
   "execution_count": 2,
   "id": "bc52a1ce",
   "metadata": {
    "collapsed": true,
    "slideshow": {
     "slide_type": "slide"
    }
   },
   "outputs": [
    {
     "ename": "FileNotFoundError",
     "evalue": "[WinError 3] 지정된 경로를 찾을 수 없습니다: 'C:/Users/dhj98/mini_project1/data/result_data'",
     "output_type": "error",
     "traceback": [
      "\u001b[1;31m---------------------------------------------------------------------------\u001b[0m",
      "\u001b[1;31mFileNotFoundError\u001b[0m                         Traceback (most recent call last)",
      "Input \u001b[1;32mIn [2]\u001b[0m, in \u001b[0;36m<cell line: 3>\u001b[1;34m()\u001b[0m\n\u001b[0;32m      1\u001b[0m \u001b[38;5;66;03m# folders라는 변수에 csv 파일만 따로 추출\u001b[39;00m\n\u001b[0;32m      2\u001b[0m \u001b[38;5;28;01mimport\u001b[39;00m \u001b[38;5;21;01mos\u001b[39;00m\n\u001b[1;32m----> 3\u001b[0m folders \u001b[38;5;241m=\u001b[39m \u001b[43mos\u001b[49m\u001b[38;5;241;43m.\u001b[39;49m\u001b[43mlistdir\u001b[49m\u001b[43m(\u001b[49m\u001b[38;5;124;43m\"\u001b[39;49m\u001b[38;5;124;43mC:/Users/dhj98/mini_project1/data/result_data\u001b[39;49m\u001b[38;5;124;43m\"\u001b[39;49m\u001b[43m)\u001b[49m\n\u001b[0;32m      4\u001b[0m folders \u001b[38;5;241m=\u001b[39m folders[\u001b[38;5;241m-\u001b[39m\u001b[38;5;241m5\u001b[39m:] \u001b[38;5;66;03m# csv파일만 뽑기 위해서\u001b[39;00m\n\u001b[0;32m      5\u001b[0m folders\n",
      "\u001b[1;31mFileNotFoundError\u001b[0m: [WinError 3] 지정된 경로를 찾을 수 없습니다: 'C:/Users/dhj98/mini_project1/data/result_data'"
     ]
    }
   ],
   "source": [
    "# folders라는 변수에 csv 파일만 따로 추출\n",
    "import os\n",
    "folders = os.listdir(\"C:/Users/dhj98/mini_project1/data/result_data\")\n",
    "folders = folders[-5:] # csv파일만 뽑기 위해서\n",
    "folders"
   ]
  },
  {
   "cell_type": "code",
   "execution_count": 35,
   "id": "f5e14642",
   "metadata": {
    "slideshow": {
     "slide_type": "slide"
    }
   },
   "outputs": [],
   "source": [
    "# 경로 오류 방지를 위한 경로 설정\n",
    "#cd C:/Users/dhj98/mini_project1/data/result_data"
   ]
  },
  {
   "cell_type": "code",
   "execution_count": 49,
   "id": "1db815a4",
   "metadata": {
    "scrolled": true,
    "slideshow": {
     "slide_type": "slide"
    }
   },
   "outputs": [
    {
     "data": {
      "text/html": [
       "<div>\n",
       "<style scoped>\n",
       "    .dataframe tbody tr th:only-of-type {\n",
       "        vertical-align: middle;\n",
       "    }\n",
       "\n",
       "    .dataframe tbody tr th {\n",
       "        vertical-align: top;\n",
       "    }\n",
       "\n",
       "    .dataframe thead th {\n",
       "        text-align: right;\n",
       "    }\n",
       "</style>\n",
       "<table border=\"1\" class=\"dataframe\">\n",
       "  <thead>\n",
       "    <tr style=\"text-align: right;\">\n",
       "      <th></th>\n",
       "      <th>Unnamed: 0</th>\n",
       "      <th>datetime</th>\n",
       "      <th>가계대출금리</th>\n",
       "      <th>Unnamed: 0</th>\n",
       "      <th>datetime</th>\n",
       "      <th>가계예금총금액</th>\n",
       "      <th>Unnamed: 0</th>\n",
       "      <th>datetime</th>\n",
       "      <th>주택매매가격지수</th>\n",
       "      <th>Unnamed: 0</th>\n",
       "      <th>datetime</th>\n",
       "      <th>주택전세가격지수</th>\n",
       "      <th>Unnamed: 0</th>\n",
       "      <th>datetime</th>\n",
       "      <th>취업자수</th>\n",
       "    </tr>\n",
       "  </thead>\n",
       "  <tbody>\n",
       "    <tr>\n",
       "      <th>0</th>\n",
       "      <td>0.0</td>\n",
       "      <td>2000-01-01</td>\n",
       "      <td>10.14</td>\n",
       "      <td>0.0</td>\n",
       "      <td>2000-01-01</td>\n",
       "      <td>194322.4</td>\n",
       "      <td>0</td>\n",
       "      <td>2000-01-01</td>\n",
       "      <td>38.995</td>\n",
       "      <td>0</td>\n",
       "      <td>2000-01-01</td>\n",
       "      <td>37.418</td>\n",
       "      <td>0.0</td>\n",
       "      <td>2000-01-01</td>\n",
       "      <td>20792.0</td>\n",
       "    </tr>\n",
       "    <tr>\n",
       "      <th>1</th>\n",
       "      <td>1.0</td>\n",
       "      <td>2000-02-01</td>\n",
       "      <td>10.04</td>\n",
       "      <td>1.0</td>\n",
       "      <td>2000-02-01</td>\n",
       "      <td>205468.8</td>\n",
       "      <td>1</td>\n",
       "      <td>2000-02-01</td>\n",
       "      <td>39.161</td>\n",
       "      <td>1</td>\n",
       "      <td>2000-02-01</td>\n",
       "      <td>38.501</td>\n",
       "      <td>1.0</td>\n",
       "      <td>2000-02-01</td>\n",
       "      <td>20844.0</td>\n",
       "    </tr>\n",
       "    <tr>\n",
       "      <th>2</th>\n",
       "      <td>2.0</td>\n",
       "      <td>2000-03-01</td>\n",
       "      <td>10.05</td>\n",
       "      <td>2.0</td>\n",
       "      <td>2000-03-01</td>\n",
       "      <td>208458.2</td>\n",
       "      <td>2</td>\n",
       "      <td>2000-03-01</td>\n",
       "      <td>39.327</td>\n",
       "      <td>2</td>\n",
       "      <td>2000-03-01</td>\n",
       "      <td>39.368</td>\n",
       "      <td>2.0</td>\n",
       "      <td>2000-03-01</td>\n",
       "      <td>20954.0</td>\n",
       "    </tr>\n",
       "    <tr>\n",
       "      <th>3</th>\n",
       "      <td>3.0</td>\n",
       "      <td>2000-04-01</td>\n",
       "      <td>9.96</td>\n",
       "      <td>3.0</td>\n",
       "      <td>2000-04-01</td>\n",
       "      <td>212110.6</td>\n",
       "      <td>3</td>\n",
       "      <td>2000-04-01</td>\n",
       "      <td>39.368</td>\n",
       "      <td>3</td>\n",
       "      <td>2000-04-01</td>\n",
       "      <td>39.874</td>\n",
       "      <td>3.0</td>\n",
       "      <td>2000-04-01</td>\n",
       "      <td>20990.0</td>\n",
       "    </tr>\n",
       "    <tr>\n",
       "      <th>4</th>\n",
       "      <td>4.0</td>\n",
       "      <td>2000-05-01</td>\n",
       "      <td>9.96</td>\n",
       "      <td>4.0</td>\n",
       "      <td>2000-05-01</td>\n",
       "      <td>215776.1</td>\n",
       "      <td>4</td>\n",
       "      <td>2000-05-01</td>\n",
       "      <td>39.327</td>\n",
       "      <td>4</td>\n",
       "      <td>2000-05-01</td>\n",
       "      <td>39.910</td>\n",
       "      <td>4.0</td>\n",
       "      <td>2000-05-01</td>\n",
       "      <td>21118.0</td>\n",
       "    </tr>\n",
       "  </tbody>\n",
       "</table>\n",
       "</div>"
      ],
      "text/plain": [
       "   Unnamed: 0    datetime  가계대출금리  Unnamed: 0    datetime   가계예금총금액  \\\n",
       "0         0.0  2000-01-01   10.14         0.0  2000-01-01  194322.4   \n",
       "1         1.0  2000-02-01   10.04         1.0  2000-02-01  205468.8   \n",
       "2         2.0  2000-03-01   10.05         2.0  2000-03-01  208458.2   \n",
       "3         3.0  2000-04-01    9.96         3.0  2000-04-01  212110.6   \n",
       "4         4.0  2000-05-01    9.96         4.0  2000-05-01  215776.1   \n",
       "\n",
       "   Unnamed: 0    datetime  주택매매가격지수  Unnamed: 0    datetime  주택전세가격지수  \\\n",
       "0           0  2000-01-01    38.995           0  2000-01-01    37.418   \n",
       "1           1  2000-02-01    39.161           1  2000-02-01    38.501   \n",
       "2           2  2000-03-01    39.327           2  2000-03-01    39.368   \n",
       "3           3  2000-04-01    39.368           3  2000-04-01    39.874   \n",
       "4           4  2000-05-01    39.327           4  2000-05-01    39.910   \n",
       "\n",
       "   Unnamed: 0    datetime     취업자수  \n",
       "0         0.0  2000-01-01  20792.0  \n",
       "1         1.0  2000-02-01  20844.0  \n",
       "2         2.0  2000-03-01  20954.0  \n",
       "3         3.0  2000-04-01  20990.0  \n",
       "4         4.0  2000-05-01  21118.0  "
      ]
     },
     "execution_count": 49,
     "metadata": {},
     "output_type": "execute_result"
    }
   ],
   "source": [
    "import pandas as pd\n",
    "df = pd.DataFrame()\n",
    "\n",
    "# 폴더에서 반복문을 통해 csv 차례대로 concat하기\n",
    "for files in folders:\n",
    "    df_b= pd.read_csv(files,encoding='cp949')\n",
    "    df = pd.concat([df, df_b],axis=1)\n",
    "df.head()\n",
    "\n",
    "# 결과 상 'Unnamed: 0'라는 쓸모 없는 컬럼이 존재함 + datetime이 여러개 존재\n",
    "# df를 저장할 때, ignore_index or index=False를 이용하면 처음부터 csv로 저장할때 불필요한 컬럼 삭제\n",
    "# (참고) header 설정을 통해서 컬럼을 취사선택할 수 있음."
   ]
  },
  {
   "cell_type": "code",
   "execution_count": 50,
   "id": "8bb83674",
   "metadata": {
    "slideshow": {
     "slide_type": "slide"
    }
   },
   "outputs": [
    {
     "data": {
      "text/html": [
       "<div>\n",
       "<style scoped>\n",
       "    .dataframe tbody tr th:only-of-type {\n",
       "        vertical-align: middle;\n",
       "    }\n",
       "\n",
       "    .dataframe tbody tr th {\n",
       "        vertical-align: top;\n",
       "    }\n",
       "\n",
       "    .dataframe thead th {\n",
       "        text-align: right;\n",
       "    }\n",
       "</style>\n",
       "<table border=\"1\" class=\"dataframe\">\n",
       "  <thead>\n",
       "    <tr style=\"text-align: right;\">\n",
       "      <th></th>\n",
       "      <th>datetime</th>\n",
       "      <th>가계대출금리</th>\n",
       "      <th>datetime</th>\n",
       "      <th>가계예금총금액</th>\n",
       "      <th>datetime</th>\n",
       "      <th>주택매매가격지수</th>\n",
       "      <th>datetime</th>\n",
       "      <th>주택전세가격지수</th>\n",
       "      <th>datetime</th>\n",
       "      <th>취업자수</th>\n",
       "    </tr>\n",
       "  </thead>\n",
       "  <tbody>\n",
       "    <tr>\n",
       "      <th>0</th>\n",
       "      <td>2000-01-01</td>\n",
       "      <td>10.14</td>\n",
       "      <td>2000-01-01</td>\n",
       "      <td>194322.4</td>\n",
       "      <td>2000-01-01</td>\n",
       "      <td>38.995</td>\n",
       "      <td>2000-01-01</td>\n",
       "      <td>37.418</td>\n",
       "      <td>2000-01-01</td>\n",
       "      <td>20792.0</td>\n",
       "    </tr>\n",
       "    <tr>\n",
       "      <th>1</th>\n",
       "      <td>2000-02-01</td>\n",
       "      <td>10.04</td>\n",
       "      <td>2000-02-01</td>\n",
       "      <td>205468.8</td>\n",
       "      <td>2000-02-01</td>\n",
       "      <td>39.161</td>\n",
       "      <td>2000-02-01</td>\n",
       "      <td>38.501</td>\n",
       "      <td>2000-02-01</td>\n",
       "      <td>20844.0</td>\n",
       "    </tr>\n",
       "    <tr>\n",
       "      <th>2</th>\n",
       "      <td>2000-03-01</td>\n",
       "      <td>10.05</td>\n",
       "      <td>2000-03-01</td>\n",
       "      <td>208458.2</td>\n",
       "      <td>2000-03-01</td>\n",
       "      <td>39.327</td>\n",
       "      <td>2000-03-01</td>\n",
       "      <td>39.368</td>\n",
       "      <td>2000-03-01</td>\n",
       "      <td>20954.0</td>\n",
       "    </tr>\n",
       "    <tr>\n",
       "      <th>3</th>\n",
       "      <td>2000-04-01</td>\n",
       "      <td>9.96</td>\n",
       "      <td>2000-04-01</td>\n",
       "      <td>212110.6</td>\n",
       "      <td>2000-04-01</td>\n",
       "      <td>39.368</td>\n",
       "      <td>2000-04-01</td>\n",
       "      <td>39.874</td>\n",
       "      <td>2000-04-01</td>\n",
       "      <td>20990.0</td>\n",
       "    </tr>\n",
       "    <tr>\n",
       "      <th>4</th>\n",
       "      <td>2000-05-01</td>\n",
       "      <td>9.96</td>\n",
       "      <td>2000-05-01</td>\n",
       "      <td>215776.1</td>\n",
       "      <td>2000-05-01</td>\n",
       "      <td>39.327</td>\n",
       "      <td>2000-05-01</td>\n",
       "      <td>39.910</td>\n",
       "      <td>2000-05-01</td>\n",
       "      <td>21118.0</td>\n",
       "    </tr>\n",
       "  </tbody>\n",
       "</table>\n",
       "</div>"
      ],
      "text/plain": [
       "     datetime  가계대출금리    datetime   가계예금총금액    datetime  주택매매가격지수    datetime  \\\n",
       "0  2000-01-01   10.14  2000-01-01  194322.4  2000-01-01    38.995  2000-01-01   \n",
       "1  2000-02-01   10.04  2000-02-01  205468.8  2000-02-01    39.161  2000-02-01   \n",
       "2  2000-03-01   10.05  2000-03-01  208458.2  2000-03-01    39.327  2000-03-01   \n",
       "3  2000-04-01    9.96  2000-04-01  212110.6  2000-04-01    39.368  2000-04-01   \n",
       "4  2000-05-01    9.96  2000-05-01  215776.1  2000-05-01    39.327  2000-05-01   \n",
       "\n",
       "   주택전세가격지수    datetime     취업자수  \n",
       "0    37.418  2000-01-01  20792.0  \n",
       "1    38.501  2000-02-01  20844.0  \n",
       "2    39.368  2000-03-01  20954.0  \n",
       "3    39.874  2000-04-01  20990.0  \n",
       "4    39.910  2000-05-01  21118.0  "
      ]
     },
     "execution_count": 50,
     "metadata": {},
     "output_type": "execute_result"
    }
   ],
   "source": [
    "# 불필요한 'Unnamed: 0'컬럼 삭제\n",
    "del df['Unnamed: 0']\n",
    "df.head()"
   ]
  },
  {
   "cell_type": "code",
   "execution_count": 51,
   "id": "6deeb6c1",
   "metadata": {
    "slideshow": {
     "slide_type": "slide"
    }
   },
   "outputs": [
    {
     "name": "stdout",
     "output_type": "stream",
     "text": [
      "DF의 컬럼: \n",
      "      datetime  가계대출금리    datetime   가계예금총금액    datetime  주택매매가격지수    datetime  \\\n",
      "0  2000-01-01   10.14  2000-01-01  194322.4  2000-01-01    38.995  2000-01-01   \n",
      "1  2000-02-01   10.04  2000-02-01  205468.8  2000-02-01    39.161  2000-02-01   \n",
      "2  2000-03-01   10.05  2000-03-01  208458.2  2000-03-01    39.327  2000-03-01   \n",
      "3  2000-04-01    9.96  2000-04-01  212110.6  2000-04-01    39.368  2000-04-01   \n",
      "4  2000-05-01    9.96  2000-05-01  215776.1  2000-05-01    39.327  2000-05-01   \n",
      "\n",
      "   주택전세가격지수    datetime     취업자수  \n",
      "0    37.418  2000-01-01  20792.0  \n",
      "1    38.501  2000-02-01  20844.0  \n",
      "2    39.368  2000-03-01  20954.0  \n",
      "3    39.874  2000-04-01  20990.0  \n",
      "4    39.910  2000-05-01  21118.0  \n",
      "\n",
      "drop+컬럼명\n",
      " Index(['가계대출금리', '가계예금총금액', '주택매매가격지수', '주택전세가격지수', '취업자수'], dtype='object')\n",
      "\n",
      "drop+인덱싱\n",
      " Index(['가계대출금리', '가계예금총금액', '주택매매가격지수', '주택전세가격지수', '취업자수'], dtype='object')\n"
     ]
    }
   ],
   "source": [
    "# 'datetime'이라는 불필한 컬럼 제거하기\n",
    "# 그냥 del을 사용하면 모두 사라진다.\n",
    "# 단순히 drop + (인덱싱 or 컬럼명)을 이용해도 모두 같은 컬럼으로 인식되는 것이 확인 됨.\n",
    "print('DF의 컬럼: \\n',df.head())\n",
    "print('\\ndrop+컬럼명\\n',df.drop('datetime',axis=1).columns)\n",
    "print('\\ndrop+인덱싱\\n',df.drop(df.columns[[2,4,6,8]], axis=1).columns)"
   ]
  },
  {
   "cell_type": "code",
   "execution_count": 52,
   "id": "6ab264cb",
   "metadata": {
    "slideshow": {
     "slide_type": "slide"
    }
   },
   "outputs": [
    {
     "data": {
      "text/html": [
       "<div>\n",
       "<style scoped>\n",
       "    .dataframe tbody tr th:only-of-type {\n",
       "        vertical-align: middle;\n",
       "    }\n",
       "\n",
       "    .dataframe tbody tr th {\n",
       "        vertical-align: top;\n",
       "    }\n",
       "\n",
       "    .dataframe thead th {\n",
       "        text-align: right;\n",
       "    }\n",
       "</style>\n",
       "<table border=\"1\" class=\"dataframe\">\n",
       "  <thead>\n",
       "    <tr style=\"text-align: right;\">\n",
       "      <th></th>\n",
       "      <th>datetime</th>\n",
       "      <th>가계대출금리</th>\n",
       "      <th>datetime</th>\n",
       "      <th>가계예금총금액</th>\n",
       "      <th>datetime</th>\n",
       "      <th>주택매매가격지수</th>\n",
       "      <th>datetime</th>\n",
       "      <th>주택전세가격지수</th>\n",
       "      <th>datetime</th>\n",
       "      <th>취업자수</th>\n",
       "    </tr>\n",
       "  </thead>\n",
       "  <tbody>\n",
       "    <tr>\n",
       "      <th>0</th>\n",
       "      <td>2000-01-01</td>\n",
       "      <td>10.14</td>\n",
       "      <td>2000-01-01</td>\n",
       "      <td>194322.4</td>\n",
       "      <td>2000-01-01</td>\n",
       "      <td>38.995</td>\n",
       "      <td>2000-01-01</td>\n",
       "      <td>37.418</td>\n",
       "      <td>2000-01-01</td>\n",
       "      <td>20792.0</td>\n",
       "    </tr>\n",
       "    <tr>\n",
       "      <th>1</th>\n",
       "      <td>2000-02-01</td>\n",
       "      <td>10.04</td>\n",
       "      <td>2000-02-01</td>\n",
       "      <td>205468.8</td>\n",
       "      <td>2000-02-01</td>\n",
       "      <td>39.161</td>\n",
       "      <td>2000-02-01</td>\n",
       "      <td>38.501</td>\n",
       "      <td>2000-02-01</td>\n",
       "      <td>20844.0</td>\n",
       "    </tr>\n",
       "    <tr>\n",
       "      <th>2</th>\n",
       "      <td>2000-03-01</td>\n",
       "      <td>10.05</td>\n",
       "      <td>2000-03-01</td>\n",
       "      <td>208458.2</td>\n",
       "      <td>2000-03-01</td>\n",
       "      <td>39.327</td>\n",
       "      <td>2000-03-01</td>\n",
       "      <td>39.368</td>\n",
       "      <td>2000-03-01</td>\n",
       "      <td>20954.0</td>\n",
       "    </tr>\n",
       "    <tr>\n",
       "      <th>3</th>\n",
       "      <td>2000-04-01</td>\n",
       "      <td>9.96</td>\n",
       "      <td>2000-04-01</td>\n",
       "      <td>212110.6</td>\n",
       "      <td>2000-04-01</td>\n",
       "      <td>39.368</td>\n",
       "      <td>2000-04-01</td>\n",
       "      <td>39.874</td>\n",
       "      <td>2000-04-01</td>\n",
       "      <td>20990.0</td>\n",
       "    </tr>\n",
       "    <tr>\n",
       "      <th>4</th>\n",
       "      <td>2000-05-01</td>\n",
       "      <td>9.96</td>\n",
       "      <td>2000-05-01</td>\n",
       "      <td>215776.1</td>\n",
       "      <td>2000-05-01</td>\n",
       "      <td>39.327</td>\n",
       "      <td>2000-05-01</td>\n",
       "      <td>39.910</td>\n",
       "      <td>2000-05-01</td>\n",
       "      <td>21118.0</td>\n",
       "    </tr>\n",
       "  </tbody>\n",
       "</table>\n",
       "</div>"
      ],
      "text/plain": [
       "     datetime  가계대출금리    datetime   가계예금총금액    datetime  주택매매가격지수    datetime  \\\n",
       "0  2000-01-01   10.14  2000-01-01  194322.4  2000-01-01    38.995  2000-01-01   \n",
       "1  2000-02-01   10.04  2000-02-01  205468.8  2000-02-01    39.161  2000-02-01   \n",
       "2  2000-03-01   10.05  2000-03-01  208458.2  2000-03-01    39.327  2000-03-01   \n",
       "3  2000-04-01    9.96  2000-04-01  212110.6  2000-04-01    39.368  2000-04-01   \n",
       "4  2000-05-01    9.96  2000-05-01  215776.1  2000-05-01    39.327  2000-05-01   \n",
       "\n",
       "   주택전세가격지수    datetime     취업자수  \n",
       "0    37.418  2000-01-01  20792.0  \n",
       "1    38.501  2000-02-01  20844.0  \n",
       "2    39.368  2000-03-01  20954.0  \n",
       "3    39.874  2000-04-01  20990.0  \n",
       "4    39.910  2000-05-01  21118.0  "
      ]
     },
     "execution_count": 52,
     "metadata": {},
     "output_type": "execute_result"
    }
   ],
   "source": [
    "# df.drop에 inplace를 사용하지 않았기 때문에 본 df 변경 X\n",
    "df.head()"
   ]
  },
  {
   "cell_type": "code",
   "execution_count": 53,
   "id": "85b9cf46",
   "metadata": {
    "slideshow": {
     "slide_type": "slide"
    }
   },
   "outputs": [
    {
     "data": {
      "text/html": [
       "<div>\n",
       "<style scoped>\n",
       "    .dataframe tbody tr th:only-of-type {\n",
       "        vertical-align: middle;\n",
       "    }\n",
       "\n",
       "    .dataframe tbody tr th {\n",
       "        vertical-align: top;\n",
       "    }\n",
       "\n",
       "    .dataframe thead th {\n",
       "        text-align: right;\n",
       "    }\n",
       "</style>\n",
       "<table border=\"1\" class=\"dataframe\">\n",
       "  <thead>\n",
       "    <tr style=\"text-align: right;\">\n",
       "      <th></th>\n",
       "      <th>datetime</th>\n",
       "      <th>datetime</th>\n",
       "      <th>datetime</th>\n",
       "      <th>datetime</th>\n",
       "      <th>datetime</th>\n",
       "      <th>가계예금총금액</th>\n",
       "      <th>주택매매가격지수</th>\n",
       "      <th>취업자수</th>\n",
       "      <th>가계대출금리</th>\n",
       "      <th>주택전세가격지수</th>\n",
       "    </tr>\n",
       "  </thead>\n",
       "  <tbody>\n",
       "    <tr>\n",
       "      <th>0</th>\n",
       "      <td>2000-01-01</td>\n",
       "      <td>2000-01-01</td>\n",
       "      <td>2000-01-01</td>\n",
       "      <td>2000-01-01</td>\n",
       "      <td>2000-01-01</td>\n",
       "      <td>194322.4</td>\n",
       "      <td>38.995</td>\n",
       "      <td>20792.0</td>\n",
       "      <td>10.14</td>\n",
       "      <td>37.418</td>\n",
       "    </tr>\n",
       "    <tr>\n",
       "      <th>1</th>\n",
       "      <td>2000-02-01</td>\n",
       "      <td>2000-02-01</td>\n",
       "      <td>2000-02-01</td>\n",
       "      <td>2000-02-01</td>\n",
       "      <td>2000-02-01</td>\n",
       "      <td>205468.8</td>\n",
       "      <td>39.161</td>\n",
       "      <td>20844.0</td>\n",
       "      <td>10.04</td>\n",
       "      <td>38.501</td>\n",
       "    </tr>\n",
       "    <tr>\n",
       "      <th>2</th>\n",
       "      <td>2000-03-01</td>\n",
       "      <td>2000-03-01</td>\n",
       "      <td>2000-03-01</td>\n",
       "      <td>2000-03-01</td>\n",
       "      <td>2000-03-01</td>\n",
       "      <td>208458.2</td>\n",
       "      <td>39.327</td>\n",
       "      <td>20954.0</td>\n",
       "      <td>10.05</td>\n",
       "      <td>39.368</td>\n",
       "    </tr>\n",
       "    <tr>\n",
       "      <th>3</th>\n",
       "      <td>2000-04-01</td>\n",
       "      <td>2000-04-01</td>\n",
       "      <td>2000-04-01</td>\n",
       "      <td>2000-04-01</td>\n",
       "      <td>2000-04-01</td>\n",
       "      <td>212110.6</td>\n",
       "      <td>39.368</td>\n",
       "      <td>20990.0</td>\n",
       "      <td>9.96</td>\n",
       "      <td>39.874</td>\n",
       "    </tr>\n",
       "    <tr>\n",
       "      <th>4</th>\n",
       "      <td>2000-05-01</td>\n",
       "      <td>2000-05-01</td>\n",
       "      <td>2000-05-01</td>\n",
       "      <td>2000-05-01</td>\n",
       "      <td>2000-05-01</td>\n",
       "      <td>215776.1</td>\n",
       "      <td>39.327</td>\n",
       "      <td>21118.0</td>\n",
       "      <td>9.96</td>\n",
       "      <td>39.910</td>\n",
       "    </tr>\n",
       "  </tbody>\n",
       "</table>\n",
       "</div>"
      ],
      "text/plain": [
       "     datetime    datetime    datetime    datetime    datetime   가계예금총금액  \\\n",
       "0  2000-01-01  2000-01-01  2000-01-01  2000-01-01  2000-01-01  194322.4   \n",
       "1  2000-02-01  2000-02-01  2000-02-01  2000-02-01  2000-02-01  205468.8   \n",
       "2  2000-03-01  2000-03-01  2000-03-01  2000-03-01  2000-03-01  208458.2   \n",
       "3  2000-04-01  2000-04-01  2000-04-01  2000-04-01  2000-04-01  212110.6   \n",
       "4  2000-05-01  2000-05-01  2000-05-01  2000-05-01  2000-05-01  215776.1   \n",
       "\n",
       "   주택매매가격지수     취업자수  가계대출금리  주택전세가격지수  \n",
       "0    38.995  20792.0   10.14    37.418  \n",
       "1    39.161  20844.0   10.04    38.501  \n",
       "2    39.327  20954.0   10.05    39.368  \n",
       "3    39.368  20990.0    9.96    39.874  \n",
       "4    39.327  21118.0    9.96    39.910  "
      ]
     },
     "execution_count": 53,
     "metadata": {},
     "output_type": "execute_result"
    }
   ],
   "source": [
    "# 편하게 컬럼이름 재정의를 위해, 앞으로 datetime을 모음\n",
    "df=df[['datetime','가계예금총금액','주택매매가격지수','취업자수','가계대출금리','주택전세가격지수']]\n",
    "df.head()"
   ]
  },
  {
   "cell_type": "code",
   "execution_count": 54,
   "id": "4b4e4348",
   "metadata": {
    "slideshow": {
     "slide_type": "slide"
    }
   },
   "outputs": [
    {
     "data": {
      "text/html": [
       "<div>\n",
       "<style scoped>\n",
       "    .dataframe tbody tr th:only-of-type {\n",
       "        vertical-align: middle;\n",
       "    }\n",
       "\n",
       "    .dataframe tbody tr th {\n",
       "        vertical-align: top;\n",
       "    }\n",
       "\n",
       "    .dataframe thead th {\n",
       "        text-align: right;\n",
       "    }\n",
       "</style>\n",
       "<table border=\"1\" class=\"dataframe\">\n",
       "  <thead>\n",
       "    <tr style=\"text-align: right;\">\n",
       "      <th></th>\n",
       "      <th>datetime1</th>\n",
       "      <th>datetime2</th>\n",
       "      <th>datetime3</th>\n",
       "      <th>datetime4</th>\n",
       "      <th>datetime</th>\n",
       "      <th>가계예금총금액</th>\n",
       "      <th>주택매매가격지수</th>\n",
       "      <th>취업자수</th>\n",
       "      <th>가계대출금리</th>\n",
       "      <th>주택전세가격지수</th>\n",
       "    </tr>\n",
       "  </thead>\n",
       "  <tbody>\n",
       "    <tr>\n",
       "      <th>0</th>\n",
       "      <td>2000-01-01</td>\n",
       "      <td>2000-01-01</td>\n",
       "      <td>2000-01-01</td>\n",
       "      <td>2000-01-01</td>\n",
       "      <td>2000-01-01</td>\n",
       "      <td>194322.4</td>\n",
       "      <td>38.995</td>\n",
       "      <td>20792.0</td>\n",
       "      <td>10.14</td>\n",
       "      <td>37.418</td>\n",
       "    </tr>\n",
       "    <tr>\n",
       "      <th>1</th>\n",
       "      <td>2000-02-01</td>\n",
       "      <td>2000-02-01</td>\n",
       "      <td>2000-02-01</td>\n",
       "      <td>2000-02-01</td>\n",
       "      <td>2000-02-01</td>\n",
       "      <td>205468.8</td>\n",
       "      <td>39.161</td>\n",
       "      <td>20844.0</td>\n",
       "      <td>10.04</td>\n",
       "      <td>38.501</td>\n",
       "    </tr>\n",
       "    <tr>\n",
       "      <th>2</th>\n",
       "      <td>2000-03-01</td>\n",
       "      <td>2000-03-01</td>\n",
       "      <td>2000-03-01</td>\n",
       "      <td>2000-03-01</td>\n",
       "      <td>2000-03-01</td>\n",
       "      <td>208458.2</td>\n",
       "      <td>39.327</td>\n",
       "      <td>20954.0</td>\n",
       "      <td>10.05</td>\n",
       "      <td>39.368</td>\n",
       "    </tr>\n",
       "    <tr>\n",
       "      <th>3</th>\n",
       "      <td>2000-04-01</td>\n",
       "      <td>2000-04-01</td>\n",
       "      <td>2000-04-01</td>\n",
       "      <td>2000-04-01</td>\n",
       "      <td>2000-04-01</td>\n",
       "      <td>212110.6</td>\n",
       "      <td>39.368</td>\n",
       "      <td>20990.0</td>\n",
       "      <td>9.96</td>\n",
       "      <td>39.874</td>\n",
       "    </tr>\n",
       "    <tr>\n",
       "      <th>4</th>\n",
       "      <td>2000-05-01</td>\n",
       "      <td>2000-05-01</td>\n",
       "      <td>2000-05-01</td>\n",
       "      <td>2000-05-01</td>\n",
       "      <td>2000-05-01</td>\n",
       "      <td>215776.1</td>\n",
       "      <td>39.327</td>\n",
       "      <td>21118.0</td>\n",
       "      <td>9.96</td>\n",
       "      <td>39.910</td>\n",
       "    </tr>\n",
       "  </tbody>\n",
       "</table>\n",
       "</div>"
      ],
      "text/plain": [
       "    datetime1   datetime2   datetime3   datetime4    datetime   가계예금총금액  \\\n",
       "0  2000-01-01  2000-01-01  2000-01-01  2000-01-01  2000-01-01  194322.4   \n",
       "1  2000-02-01  2000-02-01  2000-02-01  2000-02-01  2000-02-01  205468.8   \n",
       "2  2000-03-01  2000-03-01  2000-03-01  2000-03-01  2000-03-01  208458.2   \n",
       "3  2000-04-01  2000-04-01  2000-04-01  2000-04-01  2000-04-01  212110.6   \n",
       "4  2000-05-01  2000-05-01  2000-05-01  2000-05-01  2000-05-01  215776.1   \n",
       "\n",
       "   주택매매가격지수     취업자수  가계대출금리  주택전세가격지수  \n",
       "0    38.995  20792.0   10.14    37.418  \n",
       "1    39.161  20844.0   10.04    38.501  \n",
       "2    39.327  20954.0   10.05    39.368  \n",
       "3    39.368  20990.0    9.96    39.874  \n",
       "4    39.327  21118.0    9.96    39.910  "
      ]
     },
     "execution_count": 54,
     "metadata": {},
     "output_type": "execute_result"
    }
   ],
   "source": [
    "# 컬럼이름 재정의\n",
    "df.columns = ['datetime1', 'datetime2', 'datetime3', 'datetime4','datetime', '가계예금총금액', '주택매매가격지수','취업자수','가계대출금리','주택전세가격지수']\n",
    "df.head()"
   ]
  },
  {
   "cell_type": "code",
   "execution_count": 55,
   "id": "f2f445b6",
   "metadata": {
    "slideshow": {
     "slide_type": "slide"
    }
   },
   "outputs": [
    {
     "data": {
      "text/html": [
       "<div>\n",
       "<style scoped>\n",
       "    .dataframe tbody tr th:only-of-type {\n",
       "        vertical-align: middle;\n",
       "    }\n",
       "\n",
       "    .dataframe tbody tr th {\n",
       "        vertical-align: top;\n",
       "    }\n",
       "\n",
       "    .dataframe thead th {\n",
       "        text-align: right;\n",
       "    }\n",
       "</style>\n",
       "<table border=\"1\" class=\"dataframe\">\n",
       "  <thead>\n",
       "    <tr style=\"text-align: right;\">\n",
       "      <th></th>\n",
       "      <th>datetime</th>\n",
       "      <th>가계예금총금액</th>\n",
       "      <th>주택매매가격지수</th>\n",
       "      <th>취업자수</th>\n",
       "      <th>가계대출금리</th>\n",
       "      <th>주택전세가격지수</th>\n",
       "    </tr>\n",
       "  </thead>\n",
       "  <tbody>\n",
       "    <tr>\n",
       "      <th>0</th>\n",
       "      <td>2000-01-01</td>\n",
       "      <td>194322.4</td>\n",
       "      <td>38.995</td>\n",
       "      <td>20792.0</td>\n",
       "      <td>10.14</td>\n",
       "      <td>37.418</td>\n",
       "    </tr>\n",
       "    <tr>\n",
       "      <th>1</th>\n",
       "      <td>2000-02-01</td>\n",
       "      <td>205468.8</td>\n",
       "      <td>39.161</td>\n",
       "      <td>20844.0</td>\n",
       "      <td>10.04</td>\n",
       "      <td>38.501</td>\n",
       "    </tr>\n",
       "    <tr>\n",
       "      <th>2</th>\n",
       "      <td>2000-03-01</td>\n",
       "      <td>208458.2</td>\n",
       "      <td>39.327</td>\n",
       "      <td>20954.0</td>\n",
       "      <td>10.05</td>\n",
       "      <td>39.368</td>\n",
       "    </tr>\n",
       "    <tr>\n",
       "      <th>3</th>\n",
       "      <td>2000-04-01</td>\n",
       "      <td>212110.6</td>\n",
       "      <td>39.368</td>\n",
       "      <td>20990.0</td>\n",
       "      <td>9.96</td>\n",
       "      <td>39.874</td>\n",
       "    </tr>\n",
       "    <tr>\n",
       "      <th>4</th>\n",
       "      <td>2000-05-01</td>\n",
       "      <td>215776.1</td>\n",
       "      <td>39.327</td>\n",
       "      <td>21118.0</td>\n",
       "      <td>9.96</td>\n",
       "      <td>39.910</td>\n",
       "    </tr>\n",
       "  </tbody>\n",
       "</table>\n",
       "</div>"
      ],
      "text/plain": [
       "     datetime   가계예금총금액  주택매매가격지수     취업자수  가계대출금리  주택전세가격지수\n",
       "0  2000-01-01  194322.4    38.995  20792.0   10.14    37.418\n",
       "1  2000-02-01  205468.8    39.161  20844.0   10.04    38.501\n",
       "2  2000-03-01  208458.2    39.327  20954.0   10.05    39.368\n",
       "3  2000-04-01  212110.6    39.368  20990.0    9.96    39.874\n",
       "4  2000-05-01  215776.1    39.327  21118.0    9.96    39.910"
      ]
     },
     "execution_count": 55,
     "metadata": {},
     "output_type": "execute_result"
    }
   ],
   "source": [
    "# 이름이 달라져 인덱싱을 해도 문제가 생기지 않음.\n",
    "df.drop(df.columns[[0,1,2,3]], axis=1, inplace=True)\n",
    "df.head()"
   ]
  },
  {
   "cell_type": "code",
   "execution_count": 66,
   "id": "2367675b",
   "metadata": {
    "slideshow": {
     "slide_type": "slide"
    }
   },
   "outputs": [
    {
     "name": "stdout",
     "output_type": "stream",
     "text": [
      "1. DF의 NaN값 존재 확인: \n",
      "\n",
      "      datetime  가계예금총금액  주택매매가격지수   취업자수  가계대출금리  주택전세가격지수\n",
      "0       False    False     False  False   False     False\n",
      "1       False    False     False  False   False     False\n",
      "2       False    False     False  False   False     False\n",
      "3       False    False     False  False   False     False\n",
      "4       False    False     False  False   False     False\n",
      "..        ...      ...       ...    ...     ...       ...\n",
      "269     False    False     False  False   False     False\n",
      "270     False    False     False  False   False     False\n",
      "271     False    False     False  False   False     False\n",
      "272     False     True     False  False    True     False\n",
      "273      True     True     False   True    True     False\n",
      "\n",
      "[274 rows x 6 columns] \n",
      "\n",
      "------------------------------------------\n",
      "2. 컬럼병 NaN값: \n",
      "\n",
      " datetime    1\n",
      "가계예금총금액     2\n",
      "주택매매가격지수    0\n",
      "취업자수        1\n",
      "가계대출금리      2\n",
      "주택전세가격지수    0\n",
      "dtype: int64 \n",
      "\n",
      "------------------------------------------\n",
      "3. DF의 모든 NaN값:  6\n"
     ]
    }
   ],
   "source": [
    "# 컬럼 별 NaN값 존재 확인\n",
    "print('1. DF의 NaN값 존재 확인: \\n\\n',df.isnull(),'\\n')\n",
    "print('------------------------------------------')\n",
    "print('2. 컬럼병 NaN값: \\n\\n',df.isnull().sum(),'\\n')\n",
    "print('------------------------------------------')\n",
    "print('3. DF의 모든 NaN값: ',df.isnull().sum().sum())"
   ]
  },
  {
   "cell_type": "code",
   "execution_count": 67,
   "id": "6eb7b29b",
   "metadata": {
    "slideshow": {
     "slide_type": "slide"
    }
   },
   "outputs": [
    {
     "data": {
      "text/html": [
       "<div>\n",
       "<style scoped>\n",
       "    .dataframe tbody tr th:only-of-type {\n",
       "        vertical-align: middle;\n",
       "    }\n",
       "\n",
       "    .dataframe tbody tr th {\n",
       "        vertical-align: top;\n",
       "    }\n",
       "\n",
       "    .dataframe thead th {\n",
       "        text-align: right;\n",
       "    }\n",
       "</style>\n",
       "<table border=\"1\" class=\"dataframe\">\n",
       "  <thead>\n",
       "    <tr style=\"text-align: right;\">\n",
       "      <th></th>\n",
       "      <th>datetime</th>\n",
       "      <th>가계예금총금액</th>\n",
       "      <th>주택매매가격지수</th>\n",
       "      <th>취업자수</th>\n",
       "      <th>가계대출금리</th>\n",
       "      <th>주택전세가격지수</th>\n",
       "    </tr>\n",
       "  </thead>\n",
       "  <tbody>\n",
       "    <tr>\n",
       "      <th>269</th>\n",
       "      <td>2022-06-01</td>\n",
       "      <td>830333.7</td>\n",
       "      <td>100.869</td>\n",
       "      <td>28153.0</td>\n",
       "      <td>4.23</td>\n",
       "      <td>100.928</td>\n",
       "    </tr>\n",
       "    <tr>\n",
       "      <th>270</th>\n",
       "      <td>2022-07-01</td>\n",
       "      <td>836014.5</td>\n",
       "      <td>100.869</td>\n",
       "      <td>28172.0</td>\n",
       "      <td>4.53</td>\n",
       "      <td>100.965</td>\n",
       "    </tr>\n",
       "    <tr>\n",
       "      <th>271</th>\n",
       "      <td>2022-08-01</td>\n",
       "      <td>836379.2</td>\n",
       "      <td>100.728</td>\n",
       "      <td>28194.0</td>\n",
       "      <td>4.76</td>\n",
       "      <td>100.876</td>\n",
       "    </tr>\n",
       "    <tr>\n",
       "      <th>272</th>\n",
       "      <td>2022-09-01</td>\n",
       "      <td>NaN</td>\n",
       "      <td>100.568</td>\n",
       "      <td>28172.0</td>\n",
       "      <td>NaN</td>\n",
       "      <td>100.773</td>\n",
       "    </tr>\n",
       "    <tr>\n",
       "      <th>273</th>\n",
       "      <td>NaN</td>\n",
       "      <td>NaN</td>\n",
       "      <td>100.014</td>\n",
       "      <td>NaN</td>\n",
       "      <td>NaN</td>\n",
       "      <td>100.264</td>\n",
       "    </tr>\n",
       "  </tbody>\n",
       "</table>\n",
       "</div>"
      ],
      "text/plain": [
       "       datetime   가계예금총금액  주택매매가격지수     취업자수  가계대출금리  주택전세가격지수\n",
       "269  2022-06-01  830333.7   100.869  28153.0    4.23   100.928\n",
       "270  2022-07-01  836014.5   100.869  28172.0    4.53   100.965\n",
       "271  2022-08-01  836379.2   100.728  28194.0    4.76   100.876\n",
       "272  2022-09-01       NaN   100.568  28172.0     NaN   100.773\n",
       "273         NaN       NaN   100.014      NaN     NaN   100.264"
      ]
     },
     "execution_count": 67,
     "metadata": {},
     "output_type": "execute_result"
    }
   ],
   "source": [
    "# NaN 존재 이유는 무엇일까?\n",
    "# 크롤링한 데이터의 기간이 저 시기까지 밖에 없기 때문이다.\n",
    "df.tail()"
   ]
  },
  {
   "cell_type": "code",
   "execution_count": 68,
   "id": "b30494c0",
   "metadata": {
    "slideshow": {
     "slide_type": "slide"
    }
   },
   "outputs": [
    {
     "data": {
      "text/html": [
       "<div>\n",
       "<style scoped>\n",
       "    .dataframe tbody tr th:only-of-type {\n",
       "        vertical-align: middle;\n",
       "    }\n",
       "\n",
       "    .dataframe tbody tr th {\n",
       "        vertical-align: top;\n",
       "    }\n",
       "\n",
       "    .dataframe thead th {\n",
       "        text-align: right;\n",
       "    }\n",
       "</style>\n",
       "<table border=\"1\" class=\"dataframe\">\n",
       "  <thead>\n",
       "    <tr style=\"text-align: right;\">\n",
       "      <th></th>\n",
       "      <th>datetime</th>\n",
       "      <th>가계예금총금액</th>\n",
       "      <th>주택매매가격지수</th>\n",
       "      <th>취업자수</th>\n",
       "      <th>가계대출금리</th>\n",
       "      <th>주택전세가격지수</th>\n",
       "    </tr>\n",
       "  </thead>\n",
       "  <tbody>\n",
       "    <tr>\n",
       "      <th>0</th>\n",
       "      <td>2000-01-01</td>\n",
       "      <td>194322.4</td>\n",
       "      <td>38.995</td>\n",
       "      <td>20792.0</td>\n",
       "      <td>10.14</td>\n",
       "      <td>37.418</td>\n",
       "    </tr>\n",
       "    <tr>\n",
       "      <th>1</th>\n",
       "      <td>2000-02-01</td>\n",
       "      <td>205468.8</td>\n",
       "      <td>39.161</td>\n",
       "      <td>20844.0</td>\n",
       "      <td>10.04</td>\n",
       "      <td>38.501</td>\n",
       "    </tr>\n",
       "    <tr>\n",
       "      <th>2</th>\n",
       "      <td>2000-03-01</td>\n",
       "      <td>208458.2</td>\n",
       "      <td>39.327</td>\n",
       "      <td>20954.0</td>\n",
       "      <td>10.05</td>\n",
       "      <td>39.368</td>\n",
       "    </tr>\n",
       "    <tr>\n",
       "      <th>3</th>\n",
       "      <td>2000-04-01</td>\n",
       "      <td>212110.6</td>\n",
       "      <td>39.368</td>\n",
       "      <td>20990.0</td>\n",
       "      <td>9.96</td>\n",
       "      <td>39.874</td>\n",
       "    </tr>\n",
       "    <tr>\n",
       "      <th>4</th>\n",
       "      <td>2000-05-01</td>\n",
       "      <td>215776.1</td>\n",
       "      <td>39.327</td>\n",
       "      <td>21118.0</td>\n",
       "      <td>9.96</td>\n",
       "      <td>39.910</td>\n",
       "    </tr>\n",
       "  </tbody>\n",
       "</table>\n",
       "</div>"
      ],
      "text/plain": [
       "     datetime   가계예금총금액  주택매매가격지수     취업자수  가계대출금리  주택전세가격지수\n",
       "0  2000-01-01  194322.4    38.995  20792.0   10.14    37.418\n",
       "1  2000-02-01  205468.8    39.161  20844.0   10.04    38.501\n",
       "2  2000-03-01  208458.2    39.327  20954.0   10.05    39.368\n",
       "3  2000-04-01  212110.6    39.368  20990.0    9.96    39.874\n",
       "4  2000-05-01  215776.1    39.327  21118.0    9.96    39.910"
      ]
     },
     "execution_count": 68,
     "metadata": {},
     "output_type": "execute_result"
    }
   ],
   "source": [
    "# NaN값이 존재하는 행(axis=0)삭제\n",
    "df.dropna(axis=0,inplace=True)\n",
    "df.tail()"
   ]
  },
  {
   "cell_type": "code",
   "execution_count": 69,
   "id": "3a01ee9a",
   "metadata": {
    "slideshow": {
     "slide_type": "slide"
    }
   },
   "outputs": [
    {
     "data": {
      "text/plain": [
       "datetime    0\n",
       "가계예금총금액     0\n",
       "주택매매가격지수    0\n",
       "취업자수        0\n",
       "가계대출금리      0\n",
       "주택전세가격지수    0\n",
       "dtype: int64"
      ]
     },
     "execution_count": 69,
     "metadata": {},
     "output_type": "execute_result"
    }
   ],
   "source": [
    "# 모든 컬럼에 NaN값이 사라짐을 확인\n",
    "df.isnull().sum()"
   ]
  },
  {
   "cell_type": "code",
   "execution_count": 13,
   "id": "c0c527a4",
   "metadata": {
    "slideshow": {
     "slide_type": "slide"
    }
   },
   "outputs": [],
   "source": [
    "df.to_csv('5조.csv',encoding='cp949')\n",
    "# , index=False를 추가하는게 좋지만 이후 코드 실행을 위해 수정하지 않음"
   ]
  },
  {
   "cell_type": "markdown",
   "id": "4eaaa2ba",
   "metadata": {
    "slideshow": {
     "slide_type": "slide"
    }
   },
   "source": [
    "# 필요 모듈 import"
   ]
  },
  {
   "cell_type": "code",
   "execution_count": 70,
   "id": "16cdaec7",
   "metadata": {
    "slideshow": {
     "slide_type": "slide"
    }
   },
   "outputs": [],
   "source": [
    "import pandas as pd\n",
    "import plotly.graph_objects as go\n",
    "import plotly.express as px\n",
    "from plotly.subplots import make_subplots"
   ]
  },
  {
   "attachments": {
    "image.png": {
     "image/png": "[encoded data removed]"
    }
   },
   "cell_type": "markdown",
   "id": "72d80d82",
   "metadata": {
    "slideshow": {
     "slide_type": "slide"
    }
   },
   "source": [
    "## plotly란?\n",
    "- matplotlib이나 seaborn보다 동적인 라이브러리\n",
    "- https://plotly.com/python/\n",
    "![image.png](attachment:image.png)"
   ]
  },
  {
   "cell_type": "markdown",
   "id": "d85a41ff",
   "metadata": {
    "slideshow": {
     "slide_type": "slide"
    }
   },
   "source": [
    "# DF불러오기"
   ]
  },
  {
   "cell_type": "code",
   "execution_count": 71,
   "id": "d8c44e8d",
   "metadata": {
    "slideshow": {
     "slide_type": "slide"
    }
   },
   "outputs": [
    {
     "data": {
      "text/html": [
       "<div>\n",
       "<style scoped>\n",
       "    .dataframe tbody tr th:only-of-type {\n",
       "        vertical-align: middle;\n",
       "    }\n",
       "\n",
       "    .dataframe tbody tr th {\n",
       "        vertical-align: top;\n",
       "    }\n",
       "\n",
       "    .dataframe thead th {\n",
       "        text-align: right;\n",
       "    }\n",
       "</style>\n",
       "<table border=\"1\" class=\"dataframe\">\n",
       "  <thead>\n",
       "    <tr style=\"text-align: right;\">\n",
       "      <th></th>\n",
       "      <th>가계예금총금액</th>\n",
       "      <th>주택매매가격지수</th>\n",
       "      <th>취업자수</th>\n",
       "      <th>가계대출금리</th>\n",
       "      <th>주택전세가격지수</th>\n",
       "    </tr>\n",
       "    <tr>\n",
       "      <th>datetime</th>\n",
       "      <th></th>\n",
       "      <th></th>\n",
       "      <th></th>\n",
       "      <th></th>\n",
       "      <th></th>\n",
       "    </tr>\n",
       "  </thead>\n",
       "  <tbody>\n",
       "    <tr>\n",
       "      <th>2000-01-01</th>\n",
       "      <td>194322.4</td>\n",
       "      <td>38.995</td>\n",
       "      <td>20792.0</td>\n",
       "      <td>10.14</td>\n",
       "      <td>37.418</td>\n",
       "    </tr>\n",
       "    <tr>\n",
       "      <th>2000-02-01</th>\n",
       "      <td>205468.8</td>\n",
       "      <td>39.161</td>\n",
       "      <td>20844.0</td>\n",
       "      <td>10.04</td>\n",
       "      <td>38.501</td>\n",
       "    </tr>\n",
       "    <tr>\n",
       "      <th>2000-03-01</th>\n",
       "      <td>208458.2</td>\n",
       "      <td>39.327</td>\n",
       "      <td>20954.0</td>\n",
       "      <td>10.05</td>\n",
       "      <td>39.368</td>\n",
       "    </tr>\n",
       "    <tr>\n",
       "      <th>2000-04-01</th>\n",
       "      <td>212110.6</td>\n",
       "      <td>39.368</td>\n",
       "      <td>20990.0</td>\n",
       "      <td>9.96</td>\n",
       "      <td>39.874</td>\n",
       "    </tr>\n",
       "    <tr>\n",
       "      <th>2000-05-01</th>\n",
       "      <td>215776.1</td>\n",
       "      <td>39.327</td>\n",
       "      <td>21118.0</td>\n",
       "      <td>9.96</td>\n",
       "      <td>39.910</td>\n",
       "    </tr>\n",
       "  </tbody>\n",
       "</table>\n",
       "</div>"
      ],
      "text/plain": [
       "             가계예금총금액  주택매매가격지수     취업자수  가계대출금리  주택전세가격지수\n",
       "datetime                                                 \n",
       "2000-01-01  194322.4    38.995  20792.0   10.14    37.418\n",
       "2000-02-01  205468.8    39.161  20844.0   10.04    38.501\n",
       "2000-03-01  208458.2    39.327  20954.0   10.05    39.368\n",
       "2000-04-01  212110.6    39.368  20990.0    9.96    39.874\n",
       "2000-05-01  215776.1    39.327  21118.0    9.96    39.910"
      ]
     },
     "execution_count": 71,
     "metadata": {},
     "output_type": "execute_result"
    }
   ],
   "source": [
    "df = pd.read_csv('5조.csv',encoding='cp949')\n",
    "\n",
    "# index = False를 지정하지 않아, 불필요한 컬럼 존재\n",
    "del df['Unnamed: 0']\n",
    "\n",
    "# 이후 시각화 편의를 위해 x축에 들어올 'datetime'을 인덱스로 설정\n",
    "# df.index를 인덱스 조회 가능해짐\n",
    "df.set_index(\"datetime\",inplace=True)\n",
    "df.head()"
   ]
  },
  {
   "cell_type": "markdown",
   "id": "24e64061",
   "metadata": {
    "slideshow": {
     "slide_type": "slide"
    }
   },
   "source": [
    "## 시각화 with plotly"
   ]
  },
  {
   "cell_type": "code",
   "execution_count": 1,
   "id": "50e6341b",
   "metadata": {
    "code_folding": [
     13
    ],
    "scrolled": false,
    "slideshow": {
     "slide_type": "slide"
    }
   },
   "outputs": [
    {
     "ename": "NameError",
     "evalue": "name 'go' is not defined",
     "output_type": "error",
     "traceback": [
      "\u001b[1;31m---------------------------------------------------------------------------\u001b[0m",
      "\u001b[1;31mNameError\u001b[0m                                 Traceback (most recent call last)",
      "Input \u001b[1;32mIn [1]\u001b[0m, in \u001b[0;36m<cell line: 2>\u001b[1;34m()\u001b[0m\n\u001b[0;32m      1\u001b[0m \u001b[38;5;66;03m# 데이터 그리기\u001b[39;00m\n\u001b[1;32m----> 2\u001b[0m fig \u001b[38;5;241m=\u001b[39m \u001b[43mgo\u001b[49m\u001b[38;5;241m.\u001b[39mFigure([\n\u001b[0;32m      3\u001b[0m     go\u001b[38;5;241m.\u001b[39mScatter(name\u001b[38;5;241m=\u001b[39m\u001b[38;5;124m\"\u001b[39m\u001b[38;5;124m가계예금총금액\u001b[39m\u001b[38;5;124m\"\u001b[39m,x\u001b[38;5;241m=\u001b[39mdf\u001b[38;5;241m.\u001b[39mindex,y\u001b[38;5;241m=\u001b[39mdf[\u001b[38;5;124m'\u001b[39m\u001b[38;5;124m가계예금총금액\u001b[39m\u001b[38;5;124m'\u001b[39m],mode\u001b[38;5;241m=\u001b[39m\u001b[38;5;124m'\u001b[39m\u001b[38;5;124mlines\u001b[39m\u001b[38;5;124m'\u001b[39m,line\u001b[38;5;241m=\u001b[39m\u001b[38;5;28mdict\u001b[39m(color\u001b[38;5;241m=\u001b[39m\u001b[38;5;124m'\u001b[39m\u001b[38;5;124m#ffeead\u001b[39m\u001b[38;5;124m'\u001b[39m,width\u001b[38;5;241m=\u001b[39m\u001b[38;5;241m2\u001b[39m)),\n\u001b[0;32m      4\u001b[0m     go\u001b[38;5;241m.\u001b[39mScatter(name\u001b[38;5;241m=\u001b[39m\u001b[38;5;124m\"\u001b[39m\u001b[38;5;124m주택매매가격지수\u001b[39m\u001b[38;5;124m\"\u001b[39m,x\u001b[38;5;241m=\u001b[39mdf\u001b[38;5;241m.\u001b[39mindex,y\u001b[38;5;241m=\u001b[39mdf[\u001b[38;5;124m'\u001b[39m\u001b[38;5;124m주택매매가격지수\u001b[39m\u001b[38;5;124m'\u001b[39m],mode\u001b[38;5;241m=\u001b[39m\u001b[38;5;124m'\u001b[39m\u001b[38;5;124mlines\u001b[39m\u001b[38;5;124m'\u001b[39m,line\u001b[38;5;241m=\u001b[39m\u001b[38;5;28mdict\u001b[39m(color\u001b[38;5;241m=\u001b[39m\u001b[38;5;124m'\u001b[39m\u001b[38;5;124m#96ceb4\u001b[39m\u001b[38;5;124m'\u001b[39m,width\u001b[38;5;241m=\u001b[39m\u001b[38;5;241m2\u001b[39m)),\n\u001b[0;32m      5\u001b[0m     go\u001b[38;5;241m.\u001b[39mScatter(name\u001b[38;5;241m=\u001b[39m\u001b[38;5;124m\"\u001b[39m\u001b[38;5;124m취업자수\u001b[39m\u001b[38;5;124m\"\u001b[39m,x\u001b[38;5;241m=\u001b[39mdf\u001b[38;5;241m.\u001b[39mindex,y\u001b[38;5;241m=\u001b[39mdf[\u001b[38;5;124m'\u001b[39m\u001b[38;5;124m취업자수\u001b[39m\u001b[38;5;124m'\u001b[39m],mode\u001b[38;5;241m=\u001b[39m\u001b[38;5;124m'\u001b[39m\u001b[38;5;124mlines\u001b[39m\u001b[38;5;124m'\u001b[39m,line\u001b[38;5;241m=\u001b[39m\u001b[38;5;28mdict\u001b[39m(color\u001b[38;5;241m=\u001b[39m\u001b[38;5;124m'\u001b[39m\u001b[38;5;124m#88d8b0\u001b[39m\u001b[38;5;124m'\u001b[39m,width\u001b[38;5;241m=\u001b[39m\u001b[38;5;241m2\u001b[39m)),\n\u001b[0;32m      6\u001b[0m     go\u001b[38;5;241m.\u001b[39mScatter(name\u001b[38;5;241m=\u001b[39m\u001b[38;5;124m\"\u001b[39m\u001b[38;5;124m가계대출금리\u001b[39m\u001b[38;5;124m\"\u001b[39m,x\u001b[38;5;241m=\u001b[39mdf\u001b[38;5;241m.\u001b[39mindex,y\u001b[38;5;241m=\u001b[39mdf[\u001b[38;5;124m'\u001b[39m\u001b[38;5;124m가계대출금리\u001b[39m\u001b[38;5;124m'\u001b[39m],mode\u001b[38;5;241m=\u001b[39m\u001b[38;5;124m'\u001b[39m\u001b[38;5;124mlines\u001b[39m\u001b[38;5;124m'\u001b[39m,line\u001b[38;5;241m=\u001b[39m\u001b[38;5;28mdict\u001b[39m(color\u001b[38;5;241m=\u001b[39m\u001b[38;5;124m'\u001b[39m\u001b[38;5;124m#ffcc5c\u001b[39m\u001b[38;5;124m'\u001b[39m,width\u001b[38;5;241m=\u001b[39m\u001b[38;5;241m2\u001b[39m)),\n\u001b[0;32m      7\u001b[0m     go\u001b[38;5;241m.\u001b[39mScatter(name\u001b[38;5;241m=\u001b[39m\u001b[38;5;124m\"\u001b[39m\u001b[38;5;124m주택전세가격지수\u001b[39m\u001b[38;5;124m\"\u001b[39m,x\u001b[38;5;241m=\u001b[39mdf\u001b[38;5;241m.\u001b[39mindex,y\u001b[38;5;241m=\u001b[39mdf[\u001b[38;5;124m'\u001b[39m\u001b[38;5;124m주택전세가격지수\u001b[39m\u001b[38;5;124m'\u001b[39m],mode\u001b[38;5;241m=\u001b[39m\u001b[38;5;124m'\u001b[39m\u001b[38;5;124mlines\u001b[39m\u001b[38;5;124m'\u001b[39m,line\u001b[38;5;241m=\u001b[39m\u001b[38;5;28mdict\u001b[39m(color\u001b[38;5;241m=\u001b[39m\u001b[38;5;124m'\u001b[39m\u001b[38;5;124m#ff6f69\u001b[39m\u001b[38;5;124m'\u001b[39m,width \u001b[38;5;241m=\u001b[39m \u001b[38;5;241m6\u001b[39m))\n\u001b[0;32m      8\u001b[0m     ])\n\u001b[0;32m     10\u001b[0m \u001b[38;5;66;03m# 배경 설정\u001b[39;00m\n\u001b[0;32m     11\u001b[0m fig\u001b[38;5;241m.\u001b[39mupdate_layout(plot_bgcolor\u001b[38;5;241m=\u001b[39m\u001b[38;5;124m'\u001b[39m\u001b[38;5;124mrgb(249,249,249)\u001b[39m\u001b[38;5;124m'\u001b[39m, margin\u001b[38;5;241m=\u001b[39m\u001b[38;5;28mdict\u001b[39m(l\u001b[38;5;241m=\u001b[39m\u001b[38;5;241m0\u001b[39m, r\u001b[38;5;241m=\u001b[39m\u001b[38;5;241m0\u001b[39m, t\u001b[38;5;241m=\u001b[39m\u001b[38;5;241m0\u001b[39m, b\u001b[38;5;241m=\u001b[39m\u001b[38;5;241m0\u001b[39m))\n",
      "\u001b[1;31mNameError\u001b[0m: name 'go' is not defined"
     ]
    }
   ],
   "source": [
    "# 데이터 그리기\n",
    "fig = go.Figure([\n",
    "    go.Scatter(name=\"가계예금총금액\",x=df.index,y=df['가계예금총금액'],mode='lines',line=dict(color='#ffeead',width=2)),\n",
    "    go.Scatter(name=\"주택매매가격지수\",x=df.index,y=df['주택매매가격지수'],mode='lines',line=dict(color='#96ceb4',width=2)),\n",
    "    go.Scatter(name=\"취업자수\",x=df.index,y=df['취업자수'],mode='lines',line=dict(color='#88d8b0',width=2)),\n",
    "    go.Scatter(name=\"가계대출금리\",x=df.index,y=df['가계대출금리'],mode='lines',line=dict(color='#ffcc5c',width=2)),\n",
    "    go.Scatter(name=\"주택전세가격지수\",x=df.index,y=df['주택전세가격지수'],mode='lines',line=dict(color='#ff6f69',width = 6))\n",
    "    ])\n",
    "\n",
    "# 배경 설정\n",
    "fig.update_layout(plot_bgcolor='rgb(249,249,249)', margin=dict(l=0, r=0, t=0, b=0))\n",
    "\n",
    "# 기간 버튼 설정\n",
    "fig.update_layout(\n",
    "    title_text='정규화 이전 추이 그래프',\n",
    "    title_x=0.5,\n",
    "        xaxis=dict(\n",
    "            rangeselector=dict(\n",
    "                buttons=list([\n",
    "                    dict(count=1,\n",
    "                         label=\"한달\",\n",
    "                         step=\"month\",\n",
    "                         stepmode=\"backward\"),\n",
    "                    dict(count=6,\n",
    "                         label=\"6개월\",\n",
    "                         step=\"month\",\n",
    "                         stepmode=\"backward\"),\n",
    "                    dict(count=1,\n",
    "                         label=\"1년\",\n",
    "                         step=\"year\",\n",
    "                         stepmode=\"backward\"),\n",
    "                    dict(count=1,\n",
    "                         label=\"올해\",\n",
    "                         step=\"year\",\n",
    "                         stepmode=\"todate\"),\n",
    "                    dict(label=\"전체(2000.01~2022.08)\",\n",
    "                         step=\"all\")\n",
    "                ])\n",
    "            ),\n",
    "            rangeslider=dict(\n",
    "                visible=True\n",
    "            ),\n",
    "            type=\"date\"\n",
    "        )\n",
    "    )\n",
    "\n",
    "\n",
    "fig.show()"
   ]
  },
  {
   "cell_type": "markdown",
   "id": "c96593cf",
   "metadata": {
    "slideshow": {
     "slide_type": "slide"
    }
   },
   "source": [
    "## 상관계수 with Heatmap"
   ]
  },
  {
   "cell_type": "code",
   "execution_count": 73,
   "id": "0c27d6f4",
   "metadata": {
    "slideshow": {
     "slide_type": "slide"
    }
   },
   "outputs": [
    {
     "data": {
      "text/html": [
       "<div>\n",
       "<style scoped>\n",
       "    .dataframe tbody tr th:only-of-type {\n",
       "        vertical-align: middle;\n",
       "    }\n",
       "\n",
       "    .dataframe tbody tr th {\n",
       "        vertical-align: top;\n",
       "    }\n",
       "\n",
       "    .dataframe thead th {\n",
       "        text-align: right;\n",
       "    }\n",
       "</style>\n",
       "<table border=\"1\" class=\"dataframe\">\n",
       "  <thead>\n",
       "    <tr style=\"text-align: right;\">\n",
       "      <th></th>\n",
       "      <th>가계예금총금액</th>\n",
       "      <th>주택매매가격지수</th>\n",
       "      <th>취업자수</th>\n",
       "      <th>가계대출금리</th>\n",
       "      <th>주택전세가격지수</th>\n",
       "    </tr>\n",
       "  </thead>\n",
       "  <tbody>\n",
       "    <tr>\n",
       "      <th>가계예금총금액</th>\n",
       "      <td>1.000000</td>\n",
       "      <td>0.947513</td>\n",
       "      <td>0.960399</td>\n",
       "      <td>-0.860786</td>\n",
       "      <td>0.979447</td>\n",
       "    </tr>\n",
       "    <tr>\n",
       "      <th>주택매매가격지수</th>\n",
       "      <td>0.947513</td>\n",
       "      <td>1.000000</td>\n",
       "      <td>0.963824</td>\n",
       "      <td>-0.844617</td>\n",
       "      <td>0.957685</td>\n",
       "    </tr>\n",
       "    <tr>\n",
       "      <th>취업자수</th>\n",
       "      <td>0.960399</td>\n",
       "      <td>0.963824</td>\n",
       "      <td>1.000000</td>\n",
       "      <td>-0.901368</td>\n",
       "      <td>0.983995</td>\n",
       "    </tr>\n",
       "    <tr>\n",
       "      <th>가계대출금리</th>\n",
       "      <td>-0.860786</td>\n",
       "      <td>-0.844617</td>\n",
       "      <td>-0.901368</td>\n",
       "      <td>1.000000</td>\n",
       "      <td>-0.884745</td>\n",
       "    </tr>\n",
       "    <tr>\n",
       "      <th>주택전세가격지수</th>\n",
       "      <td>0.979447</td>\n",
       "      <td>0.957685</td>\n",
       "      <td>0.983995</td>\n",
       "      <td>-0.884745</td>\n",
       "      <td>1.000000</td>\n",
       "    </tr>\n",
       "  </tbody>\n",
       "</table>\n",
       "</div>"
      ],
      "text/plain": [
       "           가계예금총금액  주택매매가격지수      취업자수    가계대출금리  주택전세가격지수\n",
       "가계예금총금액   1.000000  0.947513  0.960399 -0.860786  0.979447\n",
       "주택매매가격지수  0.947513  1.000000  0.963824 -0.844617  0.957685\n",
       "취업자수      0.960399  0.963824  1.000000 -0.901368  0.983995\n",
       "가계대출금리   -0.860786 -0.844617 -0.901368  1.000000 -0.884745\n",
       "주택전세가격지수  0.979447  0.957685  0.983995 -0.884745  1.000000"
      ]
     },
     "execution_count": 73,
     "metadata": {},
     "output_type": "execute_result"
    }
   ],
   "source": [
    "df_corr_1 = df.corr()\n",
    "df_corr_1"
   ]
  },
  {
   "cell_type": "code",
   "execution_count": 74,
   "id": "a9f9595c",
   "metadata": {
    "slideshow": {
     "slide_type": "slide"
    }
   },
   "outputs": [
    {
     "data": {
      "application/vnd.plotly.v1+json": {
       "config": {
        "plotlyServerURL": "https://plot.ly"
       },
       "data": [
        {
         "coloraxis": "coloraxis",
         "hovertemplate": "x: %{x}<br>y: %{y}<br>color: %{z}<extra></extra>",
         "name": "0",
         "texttemplate": "%{z}",
         "type": "heatmap",
         "x": [
          "가계예금총금액",
          "주택매매가격지수",
          "취업자수",
          "가계대출금리",
          "주택전세가격지수"
         ],
         "xaxis": "x",
         "y": [
          "가계예금총금액",
          "주택매매가격지수",
          "취업자수",
          "가계대출금리",
          "주택전세가격지수"
         ],
         "yaxis": "y",
         "z": [
          [
           1,
           0.9475127231093449,
           0.9603993558912717,
           -0.8607864920157067,
           0.9794473848594608
          ],
          [
           0.9475127231093449,
           1,
           0.9638238397010305,
           -0.8446165667445625,
           0.9576850871023371
          ],
          [
           0.9603993558912717,
           0.9638238397010305,
           1,
           -0.9013681133207553,
           0.9839948982002003
          ],
          [
           -0.8607864920157067,
           -0.8446165667445625,
           -0.9013681133207553,
           1,
           -0.8847449838742213
          ],
          [
           0.9794473848594608,
           0.9576850871023371,
           0.9839948982002003,
           -0.8847449838742213,
           1
          ]
         ]
        }
       ],
       "layout": {
        "coloraxis": {
         "colorscale": [
          [
           0,
           "rgb(5,48,97)"
          ],
          [
           0.1,
           "rgb(33,102,172)"
          ],
          [
           0.2,
           "rgb(67,147,195)"
          ],
          [
           0.3,
           "rgb(146,197,222)"
          ],
          [
           0.4,
           "rgb(209,229,240)"
          ],
          [
           0.5,
           "rgb(247,247,247)"
          ],
          [
           0.6,
           "rgb(253,219,199)"
          ],
          [
           0.7,
           "rgb(244,165,130)"
          ],
          [
           0.8,
           "rgb(214,96,77)"
          ],
          [
           0.9,
           "rgb(178,24,43)"
          ],
          [
           1,
           "rgb(103,0,31)"
          ]
         ]
        },
        "template": {
         "data": {
          "bar": [
           {
            "error_x": {
             "color": "#2a3f5f"
            },
            "error_y": {
             "color": "#2a3f5f"
            },
            "marker": {
             "line": {
              "color": "#E5ECF6",
              "width": 0.5
             },
             "pattern": {
              "fillmode": "overlay",
              "size": 10,
              "solidity": 0.2
             }
            },
            "type": "bar"
           }
          ],
          "barpolar": [
           {
            "marker": {
             "line": {
              "color": "#E5ECF6",
              "width": 0.5
             },
             "pattern": {
              "fillmode": "overlay",
              "size": 10,
              "solidity": 0.2
             }
            },
            "type": "barpolar"
           }
          ],
          "carpet": [
           {
            "aaxis": {
             "endlinecolor": "#2a3f5f",
             "gridcolor": "white",
             "linecolor": "white",
             "minorgridcolor": "white",
             "startlinecolor": "#2a3f5f"
            },
            "baxis": {
             "endlinecolor": "#2a3f5f",
             "gridcolor": "white",
             "linecolor": "white",
             "minorgridcolor": "white",
             "startlinecolor": "#2a3f5f"
            },
            "type": "carpet"
           }
          ],
          "choropleth": [
           {
            "colorbar": {
             "outlinewidth": 0,
             "ticks": ""
            },
            "type": "choropleth"
           }
          ],
          "contour": [
           {
            "colorbar": {
             "outlinewidth": 0,
             "ticks": ""
            },
            "colorscale": [
             [
              0,
              "#0d0887"
             ],
             [
              0.1111111111111111,
              "#46039f"
             ],
             [
              0.2222222222222222,
              "#7201a8"
             ],
             [
              0.3333333333333333,
              "#9c179e"
             ],
             [
              0.4444444444444444,
              "#bd3786"
             ],
             [
              0.5555555555555556,
              "#d8576b"
             ],
             [
              0.6666666666666666,
              "#ed7953"
             ],
             [
              0.7777777777777778,
              "#fb9f3a"
             ],
             [
              0.8888888888888888,
              "#fdca26"
             ],
             [
              1,
              "#f0f921"
             ]
            ],
            "type": "contour"
           }
          ],
          "contourcarpet": [
           {
            "colorbar": {
             "outlinewidth": 0,
             "ticks": ""
            },
            "type": "contourcarpet"
           }
          ],
          "heatmap": [
           {
            "colorbar": {
             "outlinewidth": 0,
             "ticks": ""
            },
            "colorscale": [
             [
              0,
              "#0d0887"
             ],
             [
              0.1111111111111111,
              "#46039f"
             ],
             [
              0.2222222222222222,
              "#7201a8"
             ],
             [
              0.3333333333333333,
              "#9c179e"
             ],
             [
              0.4444444444444444,
              "#bd3786"
             ],
             [
              0.5555555555555556,
              "#d8576b"
             ],
             [
              0.6666666666666666,
              "#ed7953"
             ],
             [
              0.7777777777777778,
              "#fb9f3a"
             ],
             [
              0.8888888888888888,
              "#fdca26"
             ],
             [
              1,
              "#f0f921"
             ]
            ],
            "type": "heatmap"
           }
          ],
          "heatmapgl": [
           {
            "colorbar": {
             "outlinewidth": 0,
             "ticks": ""
            },
            "colorscale": [
             [
              0,
              "#0d0887"
             ],
             [
              0.1111111111111111,
              "#46039f"
             ],
             [
              0.2222222222222222,
              "#7201a8"
             ],
             [
              0.3333333333333333,
              "#9c179e"
             ],
             [
              0.4444444444444444,
              "#bd3786"
             ],
             [
              0.5555555555555556,
              "#d8576b"
             ],
             [
              0.6666666666666666,
              "#ed7953"
             ],
             [
              0.7777777777777778,
              "#fb9f3a"
             ],
             [
              0.8888888888888888,
              "#fdca26"
             ],
             [
              1,
              "#f0f921"
             ]
            ],
            "type": "heatmapgl"
           }
          ],
          "histogram": [
           {
            "marker": {
             "pattern": {
              "fillmode": "overlay",
              "size": 10,
              "solidity": 0.2
             }
            },
            "type": "histogram"
           }
          ],
          "histogram2d": [
           {
            "colorbar": {
             "outlinewidth": 0,
             "ticks": ""
            },
            "colorscale": [
             [
              0,
              "#0d0887"
             ],
             [
              0.1111111111111111,
              "#46039f"
             ],
             [
              0.2222222222222222,
              "#7201a8"
             ],
             [
              0.3333333333333333,
              "#9c179e"
             ],
             [
              0.4444444444444444,
              "#bd3786"
             ],
             [
              0.5555555555555556,
              "#d8576b"
             ],
             [
              0.6666666666666666,
              "#ed7953"
             ],
             [
              0.7777777777777778,
              "#fb9f3a"
             ],
             [
              0.8888888888888888,
              "#fdca26"
             ],
             [
              1,
              "#f0f921"
             ]
            ],
            "type": "histogram2d"
           }
          ],
          "histogram2dcontour": [
           {
            "colorbar": {
             "outlinewidth": 0,
             "ticks": ""
            },
            "colorscale": [
             [
              0,
              "#0d0887"
             ],
             [
              0.1111111111111111,
              "#46039f"
             ],
             [
              0.2222222222222222,
              "#7201a8"
             ],
             [
              0.3333333333333333,
              "#9c179e"
             ],
             [
              0.4444444444444444,
              "#bd3786"
             ],
             [
              0.5555555555555556,
              "#d8576b"
             ],
             [
              0.6666666666666666,
              "#ed7953"
             ],
             [
              0.7777777777777778,
              "#fb9f3a"
             ],
             [
              0.8888888888888888,
              "#fdca26"
             ],
             [
              1,
              "#f0f921"
             ]
            ],
            "type": "histogram2dcontour"
           }
          ],
          "mesh3d": [
           {
            "colorbar": {
             "outlinewidth": 0,
             "ticks": ""
            },
            "type": "mesh3d"
           }
          ],
          "parcoords": [
           {
            "line": {
             "colorbar": {
              "outlinewidth": 0,
              "ticks": ""
             }
            },
            "type": "parcoords"
           }
          ],
          "pie": [
           {
            "automargin": true,
            "type": "pie"
           }
          ],
          "scatter": [
           {
            "fillpattern": {
             "fillmode": "overlay",
             "size": 10,
             "solidity": 0.2
            },
            "type": "scatter"
           }
          ],
          "scatter3d": [
           {
            "line": {
             "colorbar": {
              "outlinewidth": 0,
              "ticks": ""
             }
            },
            "marker": {
             "colorbar": {
              "outlinewidth": 0,
              "ticks": ""
             }
            },
            "type": "scatter3d"
           }
          ],
          "scattercarpet": [
           {
            "marker": {
             "colorbar": {
              "outlinewidth": 0,
              "ticks": ""
             }
            },
            "type": "scattercarpet"
           }
          ],
          "scattergeo": [
           {
            "marker": {
             "colorbar": {
              "outlinewidth": 0,
              "ticks": ""
             }
            },
            "type": "scattergeo"
           }
          ],
          "scattergl": [
           {
            "marker": {
             "colorbar": {
              "outlinewidth": 0,
              "ticks": ""
             }
            },
            "type": "scattergl"
           }
          ],
          "scattermapbox": [
           {
            "marker": {
             "colorbar": {
              "outlinewidth": 0,
              "ticks": ""
             }
            },
            "type": "scattermapbox"
           }
          ],
          "scatterpolar": [
           {
            "marker": {
             "colorbar": {
              "outlinewidth": 0,
              "ticks": ""
             }
            },
            "type": "scatterpolar"
           }
          ],
          "scatterpolargl": [
           {
            "marker": {
             "colorbar": {
              "outlinewidth": 0,
              "ticks": ""
             }
            },
            "type": "scatterpolargl"
           }
          ],
          "scatterternary": [
           {
            "marker": {
             "colorbar": {
              "outlinewidth": 0,
              "ticks": ""
             }
            },
            "type": "scatterternary"
           }
          ],
          "surface": [
           {
            "colorbar": {
             "outlinewidth": 0,
             "ticks": ""
            },
            "colorscale": [
             [
              0,
              "#0d0887"
             ],
             [
              0.1111111111111111,
              "#46039f"
             ],
             [
              0.2222222222222222,
              "#7201a8"
             ],
             [
              0.3333333333333333,
              "#9c179e"
             ],
             [
              0.4444444444444444,
              "#bd3786"
             ],
             [
              0.5555555555555556,
              "#d8576b"
             ],
             [
              0.6666666666666666,
              "#ed7953"
             ],
             [
              0.7777777777777778,
              "#fb9f3a"
             ],
             [
              0.8888888888888888,
              "#fdca26"
             ],
             [
              1,
              "#f0f921"
             ]
            ],
            "type": "surface"
           }
          ],
          "table": [
           {
            "cells": {
             "fill": {
              "color": "#EBF0F8"
             },
             "line": {
              "color": "white"
             }
            },
            "header": {
             "fill": {
              "color": "#C8D4E3"
             },
             "line": {
              "color": "white"
             }
            },
            "type": "table"
           }
          ]
         },
         "layout": {
          "annotationdefaults": {
           "arrowcolor": "#2a3f5f",
           "arrowhead": 0,
           "arrowwidth": 1
          },
          "autotypenumbers": "strict",
          "coloraxis": {
           "colorbar": {
            "outlinewidth": 0,
            "ticks": ""
           }
          },
          "colorscale": {
           "diverging": [
            [
             0,
             "#8e0152"
            ],
            [
             0.1,
             "#c51b7d"
            ],
            [
             0.2,
             "#de77ae"
            ],
            [
             0.3,
             "#f1b6da"
            ],
            [
             0.4,
             "#fde0ef"
            ],
            [
             0.5,
             "#f7f7f7"
            ],
            [
             0.6,
             "#e6f5d0"
            ],
            [
             0.7,
             "#b8e186"
            ],
            [
             0.8,
             "#7fbc41"
            ],
            [
             0.9,
             "#4d9221"
            ],
            [
             1,
             "#276419"
            ]
           ],
           "sequential": [
            [
             0,
             "#0d0887"
            ],
            [
             0.1111111111111111,
             "#46039f"
            ],
            [
             0.2222222222222222,
             "#7201a8"
            ],
            [
             0.3333333333333333,
             "#9c179e"
            ],
            [
             0.4444444444444444,
             "#bd3786"
            ],
            [
             0.5555555555555556,
             "#d8576b"
            ],
            [
             0.6666666666666666,
             "#ed7953"
            ],
            [
             0.7777777777777778,
             "#fb9f3a"
            ],
            [
             0.8888888888888888,
             "#fdca26"
            ],
            [
             1,
             "#f0f921"
            ]
           ],
           "sequentialminus": [
            [
             0,
             "#0d0887"
            ],
            [
             0.1111111111111111,
             "#46039f"
            ],
            [
             0.2222222222222222,
             "#7201a8"
            ],
            [
             0.3333333333333333,
             "#9c179e"
            ],
            [
             0.4444444444444444,
             "#bd3786"
            ],
            [
             0.5555555555555556,
             "#d8576b"
            ],
            [
             0.6666666666666666,
             "#ed7953"
            ],
            [
             0.7777777777777778,
             "#fb9f3a"
            ],
            [
             0.8888888888888888,
             "#fdca26"
            ],
            [
             1,
             "#f0f921"
            ]
           ]
          },
          "colorway": [
           "#636efa",
           "#EF553B",
           "#00cc96",
           "#ab63fa",
           "#FFA15A",
           "#19d3f3",
           "#FF6692",
           "#B6E880",
           "#FF97FF",
           "#FECB52"
          ],
          "font": {
           "color": "#2a3f5f"
          },
          "geo": {
           "bgcolor": "white",
           "lakecolor": "white",
           "landcolor": "#E5ECF6",
           "showlakes": true,
           "showland": true,
           "subunitcolor": "white"
          },
          "hoverlabel": {
           "align": "left"
          },
          "hovermode": "closest",
          "mapbox": {
           "style": "light"
          },
          "paper_bgcolor": "white",
          "plot_bgcolor": "#E5ECF6",
          "polar": {
           "angularaxis": {
            "gridcolor": "white",
            "linecolor": "white",
            "ticks": ""
           },
           "bgcolor": "#E5ECF6",
           "radialaxis": {
            "gridcolor": "white",
            "linecolor": "white",
            "ticks": ""
           }
          },
          "scene": {
           "xaxis": {
            "backgroundcolor": "#E5ECF6",
            "gridcolor": "white",
            "gridwidth": 2,
            "linecolor": "white",
            "showbackground": true,
            "ticks": "",
            "zerolinecolor": "white"
           },
           "yaxis": {
            "backgroundcolor": "#E5ECF6",
            "gridcolor": "white",
            "gridwidth": 2,
            "linecolor": "white",
            "showbackground": true,
            "ticks": "",
            "zerolinecolor": "white"
           },
           "zaxis": {
            "backgroundcolor": "#E5ECF6",
            "gridcolor": "white",
            "gridwidth": 2,
            "linecolor": "white",
            "showbackground": true,
            "ticks": "",
            "zerolinecolor": "white"
           }
          },
          "shapedefaults": {
           "line": {
            "color": "#2a3f5f"
           }
          },
          "ternary": {
           "aaxis": {
            "gridcolor": "white",
            "linecolor": "white",
            "ticks": ""
           },
           "baxis": {
            "gridcolor": "white",
            "linecolor": "white",
            "ticks": ""
           },
           "bgcolor": "#E5ECF6",
           "caxis": {
            "gridcolor": "white",
            "linecolor": "white",
            "ticks": ""
           }
          },
          "title": {
           "x": 0.05
          },
          "xaxis": {
           "automargin": true,
           "gridcolor": "white",
           "linecolor": "white",
           "ticks": "",
           "title": {
            "standoff": 15
           },
           "zerolinecolor": "white",
           "zerolinewidth": 2
          },
          "yaxis": {
           "automargin": true,
           "gridcolor": "white",
           "linecolor": "white",
           "ticks": "",
           "title": {
            "standoff": 15
           },
           "zerolinecolor": "white",
           "zerolinewidth": 2
          }
         }
        },
        "title": {
         "text": "일반화 이전_상관관계 히트맵"
        },
        "xaxis": {
         "anchor": "y",
         "constrain": "domain",
         "domain": [
          0,
          1
         ],
         "scaleanchor": "y"
        },
        "yaxis": {
         "anchor": "x",
         "autorange": "reversed",
         "constrain": "domain",
         "domain": [
          0,
          1
         ]
        }
       }
      },
      "text/html": [
       "<div>                            <div id=\"2767646e-5a54-4605-aeb7-8382600a342a\" class=\"plotly-graph-div\" style=\"height:525px; width:100%;\"></div>            <script type=\"text/javascript\">                require([\"plotly\"], function(Plotly) {                    window.PLOTLYENV=window.PLOTLYENV || {};                                    if (document.getElementById(\"2767646e-5a54-4605-aeb7-8382600a342a\")) {                    Plotly.newPlot(                        \"2767646e-5a54-4605-aeb7-8382600a342a\",                        [{\"coloraxis\":\"coloraxis\",\"name\":\"0\",\"texttemplate\":\"%{z}\",\"x\":[\"\\uac00\\uacc4\\uc608\\uae08\\ucd1d\\uae08\\uc561\",\"\\uc8fc\\ud0dd\\ub9e4\\ub9e4\\uac00\\uaca9\\uc9c0\\uc218\",\"\\ucde8\\uc5c5\\uc790\\uc218\",\"\\uac00\\uacc4\\ub300\\ucd9c\\uae08\\ub9ac\",\"\\uc8fc\\ud0dd\\uc804\\uc138\\uac00\\uaca9\\uc9c0\\uc218\"],\"y\":[\"\\uac00\\uacc4\\uc608\\uae08\\ucd1d\\uae08\\uc561\",\"\\uc8fc\\ud0dd\\ub9e4\\ub9e4\\uac00\\uaca9\\uc9c0\\uc218\",\"\\ucde8\\uc5c5\\uc790\\uc218\",\"\\uac00\\uacc4\\ub300\\ucd9c\\uae08\\ub9ac\",\"\\uc8fc\\ud0dd\\uc804\\uc138\\uac00\\uaca9\\uc9c0\\uc218\"],\"z\":[[1.0,0.9475127231093449,0.9603993558912717,-0.8607864920157067,0.9794473848594608],[0.9475127231093449,1.0,0.9638238397010305,-0.8446165667445625,0.9576850871023371],[0.9603993558912717,0.9638238397010305,1.0,-0.9013681133207553,0.9839948982002003],[-0.8607864920157067,-0.8446165667445625,-0.9013681133207553,1.0,-0.8847449838742213],[0.9794473848594608,0.9576850871023371,0.9839948982002003,-0.8847449838742213,1.0]],\"type\":\"heatmap\",\"xaxis\":\"x\",\"yaxis\":\"y\",\"hovertemplate\":\"x: %{x}<br>y: %{y}<br>color: %{z}<extra></extra>\"}],                        {\"template\":{\"data\":{\"histogram2dcontour\":[{\"type\":\"histogram2dcontour\",\"colorbar\":{\"outlinewidth\":0,\"ticks\":\"\"},\"colorscale\":[[0.0,\"#0d0887\"],[0.1111111111111111,\"#46039f\"],[0.2222222222222222,\"#7201a8\"],[0.3333333333333333,\"#9c179e\"],[0.4444444444444444,\"#bd3786\"],[0.5555555555555556,\"#d8576b\"],[0.6666666666666666,\"#ed7953\"],[0.7777777777777778,\"#fb9f3a\"],[0.8888888888888888,\"#fdca26\"],[1.0,\"#f0f921\"]]}],\"choropleth\":[{\"type\":\"choropleth\",\"colorbar\":{\"outlinewidth\":0,\"ticks\":\"\"}}],\"histogram2d\":[{\"type\":\"histogram2d\",\"colorbar\":{\"outlinewidth\":0,\"ticks\":\"\"},\"colorscale\":[[0.0,\"#0d0887\"],[0.1111111111111111,\"#46039f\"],[0.2222222222222222,\"#7201a8\"],[0.3333333333333333,\"#9c179e\"],[0.4444444444444444,\"#bd3786\"],[0.5555555555555556,\"#d8576b\"],[0.6666666666666666,\"#ed7953\"],[0.7777777777777778,\"#fb9f3a\"],[0.8888888888888888,\"#fdca26\"],[1.0,\"#f0f921\"]]}],\"heatmap\":[{\"type\":\"heatmap\",\"colorbar\":{\"outlinewidth\":0,\"ticks\":\"\"},\"colorscale\":[[0.0,\"#0d0887\"],[0.1111111111111111,\"#46039f\"],[0.2222222222222222,\"#7201a8\"],[0.3333333333333333,\"#9c179e\"],[0.4444444444444444,\"#bd3786\"],[0.5555555555555556,\"#d8576b\"],[0.6666666666666666,\"#ed7953\"],[0.7777777777777778,\"#fb9f3a\"],[0.8888888888888888,\"#fdca26\"],[1.0,\"#f0f921\"]]}],\"heatmapgl\":[{\"type\":\"heatmapgl\",\"colorbar\":{\"outlinewidth\":0,\"ticks\":\"\"},\"colorscale\":[[0.0,\"#0d0887\"],[0.1111111111111111,\"#46039f\"],[0.2222222222222222,\"#7201a8\"],[0.3333333333333333,\"#9c179e\"],[0.4444444444444444,\"#bd3786\"],[0.5555555555555556,\"#d8576b\"],[0.6666666666666666,\"#ed7953\"],[0.7777777777777778,\"#fb9f3a\"],[0.8888888888888888,\"#fdca26\"],[1.0,\"#f0f921\"]]}],\"contourcarpet\":[{\"type\":\"contourcarpet\",\"colorbar\":{\"outlinewidth\":0,\"ticks\":\"\"}}],\"contour\":[{\"type\":\"contour\",\"colorbar\":{\"outlinewidth\":0,\"ticks\":\"\"},\"colorscale\":[[0.0,\"#0d0887\"],[0.1111111111111111,\"#46039f\"],[0.2222222222222222,\"#7201a8\"],[0.3333333333333333,\"#9c179e\"],[0.4444444444444444,\"#bd3786\"],[0.5555555555555556,\"#d8576b\"],[0.6666666666666666,\"#ed7953\"],[0.7777777777777778,\"#fb9f3a\"],[0.8888888888888888,\"#fdca26\"],[1.0,\"#f0f921\"]]}],\"surface\":[{\"type\":\"surface\",\"colorbar\":{\"outlinewidth\":0,\"ticks\":\"\"},\"colorscale\":[[0.0,\"#0d0887\"],[0.1111111111111111,\"#46039f\"],[0.2222222222222222,\"#7201a8\"],[0.3333333333333333,\"#9c179e\"],[0.4444444444444444,\"#bd3786\"],[0.5555555555555556,\"#d8576b\"],[0.6666666666666666,\"#ed7953\"],[0.7777777777777778,\"#fb9f3a\"],[0.8888888888888888,\"#fdca26\"],[1.0,\"#f0f921\"]]}],\"mesh3d\":[{\"type\":\"mesh3d\",\"colorbar\":{\"outlinewidth\":0,\"ticks\":\"\"}}],\"scatter\":[{\"fillpattern\":{\"fillmode\":\"overlay\",\"size\":10,\"solidity\":0.2},\"type\":\"scatter\"}],\"parcoords\":[{\"type\":\"parcoords\",\"line\":{\"colorbar\":{\"outlinewidth\":0,\"ticks\":\"\"}}}],\"scatterpolargl\":[{\"type\":\"scatterpolargl\",\"marker\":{\"colorbar\":{\"outlinewidth\":0,\"ticks\":\"\"}}}],\"bar\":[{\"error_x\":{\"color\":\"#2a3f5f\"},\"error_y\":{\"color\":\"#2a3f5f\"},\"marker\":{\"line\":{\"color\":\"#E5ECF6\",\"width\":0.5},\"pattern\":{\"fillmode\":\"overlay\",\"size\":10,\"solidity\":0.2}},\"type\":\"bar\"}],\"scattergeo\":[{\"type\":\"scattergeo\",\"marker\":{\"colorbar\":{\"outlinewidth\":0,\"ticks\":\"\"}}}],\"scatterpolar\":[{\"type\":\"scatterpolar\",\"marker\":{\"colorbar\":{\"outlinewidth\":0,\"ticks\":\"\"}}}],\"histogram\":[{\"marker\":{\"pattern\":{\"fillmode\":\"overlay\",\"size\":10,\"solidity\":0.2}},\"type\":\"histogram\"}],\"scattergl\":[{\"type\":\"scattergl\",\"marker\":{\"colorbar\":{\"outlinewidth\":0,\"ticks\":\"\"}}}],\"scatter3d\":[{\"type\":\"scatter3d\",\"line\":{\"colorbar\":{\"outlinewidth\":0,\"ticks\":\"\"}},\"marker\":{\"colorbar\":{\"outlinewidth\":0,\"ticks\":\"\"}}}],\"scattermapbox\":[{\"type\":\"scattermapbox\",\"marker\":{\"colorbar\":{\"outlinewidth\":0,\"ticks\":\"\"}}}],\"scatterternary\":[{\"type\":\"scatterternary\",\"marker\":{\"colorbar\":{\"outlinewidth\":0,\"ticks\":\"\"}}}],\"scattercarpet\":[{\"type\":\"scattercarpet\",\"marker\":{\"colorbar\":{\"outlinewidth\":0,\"ticks\":\"\"}}}],\"carpet\":[{\"aaxis\":{\"endlinecolor\":\"#2a3f5f\",\"gridcolor\":\"white\",\"linecolor\":\"white\",\"minorgridcolor\":\"white\",\"startlinecolor\":\"#2a3f5f\"},\"baxis\":{\"endlinecolor\":\"#2a3f5f\",\"gridcolor\":\"white\",\"linecolor\":\"white\",\"minorgridcolor\":\"white\",\"startlinecolor\":\"#2a3f5f\"},\"type\":\"carpet\"}],\"table\":[{\"cells\":{\"fill\":{\"color\":\"#EBF0F8\"},\"line\":{\"color\":\"white\"}},\"header\":{\"fill\":{\"color\":\"#C8D4E3\"},\"line\":{\"color\":\"white\"}},\"type\":\"table\"}],\"barpolar\":[{\"marker\":{\"line\":{\"color\":\"#E5ECF6\",\"width\":0.5},\"pattern\":{\"fillmode\":\"overlay\",\"size\":10,\"solidity\":0.2}},\"type\":\"barpolar\"}],\"pie\":[{\"automargin\":true,\"type\":\"pie\"}]},\"layout\":{\"autotypenumbers\":\"strict\",\"colorway\":[\"#636efa\",\"#EF553B\",\"#00cc96\",\"#ab63fa\",\"#FFA15A\",\"#19d3f3\",\"#FF6692\",\"#B6E880\",\"#FF97FF\",\"#FECB52\"],\"font\":{\"color\":\"#2a3f5f\"},\"hovermode\":\"closest\",\"hoverlabel\":{\"align\":\"left\"},\"paper_bgcolor\":\"white\",\"plot_bgcolor\":\"#E5ECF6\",\"polar\":{\"bgcolor\":\"#E5ECF6\",\"angularaxis\":{\"gridcolor\":\"white\",\"linecolor\":\"white\",\"ticks\":\"\"},\"radialaxis\":{\"gridcolor\":\"white\",\"linecolor\":\"white\",\"ticks\":\"\"}},\"ternary\":{\"bgcolor\":\"#E5ECF6\",\"aaxis\":{\"gridcolor\":\"white\",\"linecolor\":\"white\",\"ticks\":\"\"},\"baxis\":{\"gridcolor\":\"white\",\"linecolor\":\"white\",\"ticks\":\"\"},\"caxis\":{\"gridcolor\":\"white\",\"linecolor\":\"white\",\"ticks\":\"\"}},\"coloraxis\":{\"colorbar\":{\"outlinewidth\":0,\"ticks\":\"\"}},\"colorscale\":{\"sequential\":[[0.0,\"#0d0887\"],[0.1111111111111111,\"#46039f\"],[0.2222222222222222,\"#7201a8\"],[0.3333333333333333,\"#9c179e\"],[0.4444444444444444,\"#bd3786\"],[0.5555555555555556,\"#d8576b\"],[0.6666666666666666,\"#ed7953\"],[0.7777777777777778,\"#fb9f3a\"],[0.8888888888888888,\"#fdca26\"],[1.0,\"#f0f921\"]],\"sequentialminus\":[[0.0,\"#0d0887\"],[0.1111111111111111,\"#46039f\"],[0.2222222222222222,\"#7201a8\"],[0.3333333333333333,\"#9c179e\"],[0.4444444444444444,\"#bd3786\"],[0.5555555555555556,\"#d8576b\"],[0.6666666666666666,\"#ed7953\"],[0.7777777777777778,\"#fb9f3a\"],[0.8888888888888888,\"#fdca26\"],[1.0,\"#f0f921\"]],\"diverging\":[[0,\"#8e0152\"],[0.1,\"#c51b7d\"],[0.2,\"#de77ae\"],[0.3,\"#f1b6da\"],[0.4,\"#fde0ef\"],[0.5,\"#f7f7f7\"],[0.6,\"#e6f5d0\"],[0.7,\"#b8e186\"],[0.8,\"#7fbc41\"],[0.9,\"#4d9221\"],[1,\"#276419\"]]},\"xaxis\":{\"gridcolor\":\"white\",\"linecolor\":\"white\",\"ticks\":\"\",\"title\":{\"standoff\":15},\"zerolinecolor\":\"white\",\"automargin\":true,\"zerolinewidth\":2},\"yaxis\":{\"gridcolor\":\"white\",\"linecolor\":\"white\",\"ticks\":\"\",\"title\":{\"standoff\":15},\"zerolinecolor\":\"white\",\"automargin\":true,\"zerolinewidth\":2},\"scene\":{\"xaxis\":{\"backgroundcolor\":\"#E5ECF6\",\"gridcolor\":\"white\",\"linecolor\":\"white\",\"showbackground\":true,\"ticks\":\"\",\"zerolinecolor\":\"white\",\"gridwidth\":2},\"yaxis\":{\"backgroundcolor\":\"#E5ECF6\",\"gridcolor\":\"white\",\"linecolor\":\"white\",\"showbackground\":true,\"ticks\":\"\",\"zerolinecolor\":\"white\",\"gridwidth\":2},\"zaxis\":{\"backgroundcolor\":\"#E5ECF6\",\"gridcolor\":\"white\",\"linecolor\":\"white\",\"showbackground\":true,\"ticks\":\"\",\"zerolinecolor\":\"white\",\"gridwidth\":2}},\"shapedefaults\":{\"line\":{\"color\":\"#2a3f5f\"}},\"annotationdefaults\":{\"arrowcolor\":\"#2a3f5f\",\"arrowhead\":0,\"arrowwidth\":1},\"geo\":{\"bgcolor\":\"white\",\"landcolor\":\"#E5ECF6\",\"subunitcolor\":\"white\",\"showland\":true,\"showlakes\":true,\"lakecolor\":\"white\"},\"title\":{\"x\":0.05},\"mapbox\":{\"style\":\"light\"}}},\"xaxis\":{\"anchor\":\"y\",\"domain\":[0.0,1.0],\"scaleanchor\":\"y\",\"constrain\":\"domain\"},\"yaxis\":{\"anchor\":\"x\",\"domain\":[0.0,1.0],\"autorange\":\"reversed\",\"constrain\":\"domain\"},\"coloraxis\":{\"colorscale\":[[0.0,\"rgb(5,48,97)\"],[0.1,\"rgb(33,102,172)\"],[0.2,\"rgb(67,147,195)\"],[0.3,\"rgb(146,197,222)\"],[0.4,\"rgb(209,229,240)\"],[0.5,\"rgb(247,247,247)\"],[0.6,\"rgb(253,219,199)\"],[0.7,\"rgb(244,165,130)\"],[0.8,\"rgb(214,96,77)\"],[0.9,\"rgb(178,24,43)\"],[1.0,\"rgb(103,0,31)\"]]},\"title\":{\"text\":\"\\uc77c\\ubc18\\ud654 \\uc774\\uc804_\\uc0c1\\uad00\\uad00\\uacc4 \\ud788\\ud2b8\\ub9f5\"}},                        {\"responsive\": true}                    ).then(function(){\n",
       "                            \n",
       "var gd = document.getElementById('2767646e-5a54-4605-aeb7-8382600a342a');\n",
       "var x = new MutationObserver(function (mutations, observer) {{\n",
       "        var display = window.getComputedStyle(gd).display;\n",
       "        if (!display || display === 'none') {{\n",
       "            console.log([gd, 'removed!']);\n",
       "            Plotly.purge(gd);\n",
       "            observer.disconnect();\n",
       "        }}\n",
       "}});\n",
       "\n",
       "// Listen for the removal of the full notebook cells\n",
       "var notebookContainer = gd.closest('#notebook-container');\n",
       "if (notebookContainer) {{\n",
       "    x.observe(notebookContainer, {childList: true});\n",
       "}}\n",
       "\n",
       "// Listen for the clearing of the current output cell\n",
       "var outputEl = gd.closest('.output');\n",
       "if (outputEl) {{\n",
       "    x.observe(outputEl, {childList: true});\n",
       "}}\n",
       "\n",
       "                        })                };                });            </script>        </div>"
      ]
     },
     "metadata": {},
     "output_type": "display_data"
    }
   ],
   "source": [
    "fig = px.imshow(df_corr_1,text_auto=True, color_continuous_scale='RdBu_r',title='일반화 이전_상관관계 히트맵')\n",
    "fig.show()"
   ]
  },
  {
   "cell_type": "markdown",
   "id": "fe7ca2d4",
   "metadata": {
    "slideshow": {
     "slide_type": "slide"
    }
   },
   "source": [
    "# 원하는 기간만큼 슬라이싱을 통해 기간 설정"
   ]
  },
  {
   "cell_type": "code",
   "execution_count": 81,
   "id": "deeeae91",
   "metadata": {
    "scrolled": true,
    "slideshow": {
     "slide_type": "slide"
    }
   },
   "outputs": [
    {
     "data": {
      "text/html": [
       "<div>\n",
       "<style scoped>\n",
       "    .dataframe tbody tr th:only-of-type {\n",
       "        vertical-align: middle;\n",
       "    }\n",
       "\n",
       "    .dataframe tbody tr th {\n",
       "        vertical-align: top;\n",
       "    }\n",
       "\n",
       "    .dataframe thead th {\n",
       "        text-align: right;\n",
       "    }\n",
       "</style>\n",
       "<table border=\"1\" class=\"dataframe\">\n",
       "  <thead>\n",
       "    <tr style=\"text-align: right;\">\n",
       "      <th></th>\n",
       "      <th>가계예금총금액</th>\n",
       "      <th>주택매매가격지수</th>\n",
       "      <th>취업자수</th>\n",
       "      <th>가계대출금리</th>\n",
       "      <th>주택전세가격지수</th>\n",
       "    </tr>\n",
       "    <tr>\n",
       "      <th>datetime</th>\n",
       "      <th></th>\n",
       "      <th></th>\n",
       "      <th></th>\n",
       "      <th></th>\n",
       "      <th></th>\n",
       "    </tr>\n",
       "  </thead>\n",
       "  <tbody>\n",
       "    <tr>\n",
       "      <th>2007-01-01</th>\n",
       "      <td>0.181218</td>\n",
       "      <td>0.348337</td>\n",
       "      <td>0.361104</td>\n",
       "      <td>0.480896</td>\n",
       "      <td>0.266338</td>\n",
       "    </tr>\n",
       "    <tr>\n",
       "      <th>2007-02-01</th>\n",
       "      <td>0.184841</td>\n",
       "      <td>0.351893</td>\n",
       "      <td>0.362853</td>\n",
       "      <td>0.487484</td>\n",
       "      <td>0.268888</td>\n",
       "    </tr>\n",
       "    <tr>\n",
       "      <th>2007-03-01</th>\n",
       "      <td>0.182938</td>\n",
       "      <td>0.353703</td>\n",
       "      <td>0.366756</td>\n",
       "      <td>0.496706</td>\n",
       "      <td>0.272381</td>\n",
       "    </tr>\n",
       "    <tr>\n",
       "      <th>2007-04-01</th>\n",
       "      <td>0.184165</td>\n",
       "      <td>0.354979</td>\n",
       "      <td>0.364603</td>\n",
       "      <td>0.494071</td>\n",
       "      <td>0.275434</td>\n",
       "    </tr>\n",
       "    <tr>\n",
       "      <th>2007-05-01</th>\n",
       "      <td>0.176991</td>\n",
       "      <td>0.355303</td>\n",
       "      <td>0.365545</td>\n",
       "      <td>0.505929</td>\n",
       "      <td>0.275953</td>\n",
       "    </tr>\n",
       "  </tbody>\n",
       "</table>\n",
       "</div>"
      ],
      "text/plain": [
       "             가계예금총금액  주택매매가격지수      취업자수    가계대출금리  주택전세가격지수\n",
       "datetime                                                    \n",
       "2007-01-01  0.181218  0.348337  0.361104  0.480896  0.266338\n",
       "2007-02-01  0.184841  0.351893  0.362853  0.487484  0.268888\n",
       "2007-03-01  0.182938  0.353703  0.366756  0.496706  0.272381\n",
       "2007-04-01  0.184165  0.354979  0.364603  0.494071  0.275434\n",
       "2007-05-01  0.176991  0.355303  0.365545  0.505929  0.275953"
      ]
     },
     "execution_count": 81,
     "metadata": {},
     "output_type": "execute_result"
    }
   ],
   "source": [
    "df_ex = df['2007-01':'2012-01']\n",
    "df_ex.head()"
   ]
  },
  {
   "cell_type": "code",
   "execution_count": 82,
   "id": "4500f480",
   "metadata": {
    "code_folding": [
     9
    ],
    "scrolled": false,
    "slideshow": {
     "slide_type": "slide"
    }
   },
   "outputs": [
    {
     "data": {
      "application/vnd.plotly.v1+json": {
       "config": {
        "plotlyServerURL": "https://plot.ly"
       },
       "data": [
        {
         "line": {
          "color": "#ffeead",
          "width": 2
         },
         "mode": "lines",
         "name": "가계예금총금액",
         "type": "scatter",
         "x": [
          "2007-01-01",
          "2007-02-01",
          "2007-03-01",
          "2007-04-01",
          "2007-05-01",
          "2007-06-01",
          "2007-07-01",
          "2007-08-01",
          "2007-09-01",
          "2007-10-01",
          "2007-11-01",
          "2007-12-01",
          "2008-01-01",
          "2008-02-01",
          "2008-03-01",
          "2008-04-01",
          "2008-05-01",
          "2008-06-01",
          "2008-07-01",
          "2008-08-01",
          "2008-09-01",
          "2008-10-01",
          "2008-11-01",
          "2008-12-01",
          "2009-01-01",
          "2009-02-01",
          "2009-03-01",
          "2009-04-01",
          "2009-05-01",
          "2009-06-01",
          "2009-07-01",
          "2009-08-01",
          "2009-09-01",
          "2009-10-01",
          "2009-11-01",
          "2009-12-01",
          "2010-01-01",
          "2010-02-01",
          "2010-03-01",
          "2010-04-01",
          "2010-05-01",
          "2010-06-01",
          "2010-07-01",
          "2010-08-01",
          "2010-09-01",
          "2010-10-01",
          "2010-11-01",
          "2010-12-01",
          "2011-01-01",
          "2011-02-01",
          "2011-03-01",
          "2011-04-01",
          "2011-05-01",
          "2011-06-01",
          "2011-07-01",
          "2011-08-01",
          "2011-09-01",
          "2011-10-01",
          "2011-11-01",
          "2011-12-01"
         ],
         "y": [
          0.18121792339867754,
          0.18484096734120725,
          0.18293802043682122,
          0.18416532618297948,
          0.17699135029797997,
          0.17470837471077327,
          0.16679521188779567,
          0.16178724374541326,
          0.16476034519064364,
          0.15471341476330452,
          0.15162412422078553,
          0.15781687850669912,
          0.1629164273316629,
          0.16261863436381335,
          0.1629668901567588,
          0.1621242855772263,
          0.160187696789443,
          0.1577844826189833,
          0.15317881533222616,
          0.15311386780733427,
          0.16597472373160754,
          0.18292166674350313,
          0.18628149409834155,
          0.20604516609745438,
          0.21362720556810555,
          0.21663986737621976,
          0.20719506436190704,
          0.21274862286327323,
          0.2153937159453806,
          0.22305300714827725,
          0.225192381733205,
          0.23210142778645138,
          0.24334466981737446,
          0.24512582064390565,
          0.2473098953239029,
          0.2588733582449404,
          0.26428487323862937,
          0.2943099426717387,
          0.2958174416967472,
          0.30136866395621076,
          0.2993554464340227,
          0.31111437492757654,
          0.31986360085275956,
          0.3195511674356538,
          0.3274562312867024,
          0.3264016516918753,
          0.3290515730072481,
          0.3428811905737935,
          0.34659877443864784,
          0.34601705020490403,
          0.35198583676708983,
          0.3589226062242469,
          0.3565234415397517,
          0.36356113664710044,
          0.3626786602057638,
          0.35665909931956186,
          0.366438607923785,
          0.37235630866303426,
          0.37541818730056287,
          0.3911085436677877
         ]
        },
        {
         "line": {
          "color": "#96ceb4",
          "width": 2
         },
         "mode": "lines",
         "name": "주택매매가격지수",
         "type": "scatter",
         "x": [
          "2007-01-01",
          "2007-02-01",
          "2007-03-01",
          "2007-04-01",
          "2007-05-01",
          "2007-06-01",
          "2007-07-01",
          "2007-08-01",
          "2007-09-01",
          "2007-10-01",
          "2007-11-01",
          "2007-12-01",
          "2008-01-01",
          "2008-02-01",
          "2008-03-01",
          "2008-04-01",
          "2008-05-01",
          "2008-06-01",
          "2008-07-01",
          "2008-08-01",
          "2008-09-01",
          "2008-10-01",
          "2008-11-01",
          "2008-12-01",
          "2009-01-01",
          "2009-02-01",
          "2009-03-01",
          "2009-04-01",
          "2009-05-01",
          "2009-06-01",
          "2009-07-01",
          "2009-08-01",
          "2009-09-01",
          "2009-10-01",
          "2009-11-01",
          "2009-12-01",
          "2010-01-01",
          "2010-02-01",
          "2010-03-01",
          "2010-04-01",
          "2010-05-01",
          "2010-06-01",
          "2010-07-01",
          "2010-08-01",
          "2010-09-01",
          "2010-10-01",
          "2010-11-01",
          "2010-12-01",
          "2011-01-01",
          "2011-02-01",
          "2011-03-01",
          "2011-04-01",
          "2011-05-01",
          "2011-06-01",
          "2011-07-01",
          "2011-08-01",
          "2011-09-01",
          "2011-10-01",
          "2011-11-01",
          "2011-12-01"
         ],
         "y": [
          0.34833694281927796,
          0.35189255583928636,
          0.3537026861040179,
          0.3549794744157482,
          0.35530271196302166,
          0.3566441477842066,
          0.3592138862850308,
          0.3610725021818535,
          0.36369072631476873,
          0.3662443029382293,
          0.36894333645796296,
          0.3703494197886026,
          0.3730969389404273,
          0.3761838575168892,
          0.38386074926463465,
          0.3927174580599282,
          0.3989397808449431,
          0.4051621036299575,
          0.40920257297087614,
          0.4112712932734266,
          0.41367941300061406,
          0.4131299091702494,
          0.4089278210556939,
          0.40142870995894886,
          0.39570740537220805,
          0.39313766687138374,
          0.39134369848401596,
          0.39195784982383564,
          0.3930568574845654,
          0.39504476840029756,
          0.39784077318421307,
          0.4010893105343116,
          0.40845912661214734,
          0.4124026246888839,
          0.4150531725765265,
          0.4165400652939846,
          0.41788150111516953,
          0.4209360959369042,
          0.42353815819245555,
          0.4255745547402787,
          0.4260755729385526,
          0.4261887060800982,
          0.42518666968355046,
          0.42466948960791284,
          0.4256715260044608,
          0.42786954132592037,
          0.4319423344215665,
          0.4363060413097586,
          0.4413000614151339,
          0.44986585641788146,
          0.4604034004589974,
          0.4693732423958368,
          0.47703397226621846,
          0.4824805249377768,
          0.4870220124769695,
          0.49253321265798244,
          0.4986424023014513,
          0.503135404208553,
          0.5076122442382909,
          0.5095193457672045
         ]
        },
        {
         "line": {
          "color": "#88d8b0",
          "width": 2
         },
         "mode": "lines",
         "name": "취업자수",
         "type": "scatter",
         "x": [
          "2007-01-01",
          "2007-02-01",
          "2007-03-01",
          "2007-04-01",
          "2007-05-01",
          "2007-06-01",
          "2007-07-01",
          "2007-08-01",
          "2007-09-01",
          "2007-10-01",
          "2007-11-01",
          "2007-12-01",
          "2008-01-01",
          "2008-02-01",
          "2008-03-01",
          "2008-04-01",
          "2008-05-01",
          "2008-06-01",
          "2008-07-01",
          "2008-08-01",
          "2008-09-01",
          "2008-10-01",
          "2008-11-01",
          "2008-12-01",
          "2009-01-01",
          "2009-02-01",
          "2009-03-01",
          "2009-04-01",
          "2009-05-01",
          "2009-06-01",
          "2009-07-01",
          "2009-08-01",
          "2009-09-01",
          "2009-10-01",
          "2009-11-01",
          "2009-12-01",
          "2010-01-01",
          "2010-02-01",
          "2010-03-01",
          "2010-04-01",
          "2010-05-01",
          "2010-06-01",
          "2010-07-01",
          "2010-08-01",
          "2010-09-01",
          "2010-10-01",
          "2010-11-01",
          "2010-12-01",
          "2011-01-01",
          "2011-02-01",
          "2011-03-01",
          "2011-04-01",
          "2011-05-01",
          "2011-06-01",
          "2011-07-01",
          "2011-08-01",
          "2011-09-01",
          "2011-10-01",
          "2011-11-01",
          "2011-12-01"
         ],
         "y": [
          0.3611036339165543,
          0.36285329744279915,
          0.36675639300134577,
          0.36460296096904443,
          0.36554508748317627,
          0.3701211305518166,
          0.37025572005383545,
          0.3699865410497978,
          0.37321668909825023,
          0.3816958277254372,
          0.3899057873485865,
          0.3950201884253026,
          0.4028263795423954,
          0.4018842530282636,
          0.4014804845222071,
          0.4022880215343201,
          0.4022880215343201,
          0.40336473755047075,
          0.40471063257065953,
          0.4006729475100941,
          0.3962314939434721,
          0.4002691790040376,
          0.4044414535666214,
          0.3962314939434721,
          0.3916554508748318,
          0.38304172274562553,
          0.37456258411843857,
          0.37577388963660807,
          0.3707940780619112,
          0.4002691790040376,
          0.39017496635262416,
          0.3946164199192461,
          0.4028263795423954,
          0.4006729475100941,
          0.4006729475100941,
          0.3909825033647376,
          0.3890982503364735,
          0.39811574697173624,
          0.41144010767160166,
          0.43095558546433343,
          0.44966352624495265,
          0.4440107671601612,
          0.4551816958277253,
          0.4487213997308208,
          0.4411843876177657,
          0.4499327052489903,
          0.45006729475100915,
          0.46218034993270507,
          0.443337819650067,
          0.47146702557200504,
          0.48775235531628525,
          0.49434724091520854,
          0.5113055181695825,
          0.5218034993270524,
          0.5123822341857331,
          0.5227456258411842,
          0.4858681022880216,
          0.5266487213997308,
          0.5224764468371466,
          0.5278600269179003
         ]
        },
        {
         "line": {
          "color": "#ffcc5c",
          "width": 2
         },
         "mode": "lines",
         "name": "가계대출금리",
         "type": "scatter",
         "x": [
          "2007-01-01",
          "2007-02-01",
          "2007-03-01",
          "2007-04-01",
          "2007-05-01",
          "2007-06-01",
          "2007-07-01",
          "2007-08-01",
          "2007-09-01",
          "2007-10-01",
          "2007-11-01",
          "2007-12-01",
          "2008-01-01",
          "2008-02-01",
          "2008-03-01",
          "2008-04-01",
          "2008-05-01",
          "2008-06-01",
          "2008-07-01",
          "2008-08-01",
          "2008-09-01",
          "2008-10-01",
          "2008-11-01",
          "2008-12-01",
          "2009-01-01",
          "2009-02-01",
          "2009-03-01",
          "2009-04-01",
          "2009-05-01",
          "2009-06-01",
          "2009-07-01",
          "2009-08-01",
          "2009-09-01",
          "2009-10-01",
          "2009-11-01",
          "2009-12-01",
          "2010-01-01",
          "2010-02-01",
          "2010-03-01",
          "2010-04-01",
          "2010-05-01",
          "2010-06-01",
          "2010-07-01",
          "2010-08-01",
          "2010-09-01",
          "2010-10-01",
          "2010-11-01",
          "2010-12-01",
          "2011-01-01",
          "2011-02-01",
          "2011-03-01",
          "2011-04-01",
          "2011-05-01",
          "2011-06-01",
          "2011-07-01",
          "2011-08-01",
          "2011-09-01",
          "2011-10-01",
          "2011-11-01",
          "2011-12-01"
         ],
         "y": [
          0.4808959156785243,
          0.48748353096179176,
          0.4967061923583662,
          0.4940711462450592,
          0.5059288537549406,
          0.49802371541501966,
          0.5046113306982871,
          0.5217391304347825,
          0.541501976284585,
          0.5480895915678523,
          0.5533596837944663,
          0.5849802371541502,
          0.6139657444005269,
          0.5797101449275361,
          0.5718050065876151,
          0.5849802371541502,
          0.5797101449275361,
          0.5770750988142291,
          0.6021080368906455,
          0.6324110671936758,
          0.6455862977602107,
          0.6877470355731224,
          0.66798418972332,
          0.587615283267457,
          0.43346508563899855,
          0.4189723320158103,
          0.40447957839262183,
          0.3886693017127799,
          0.386034255599473,
          0.38471673254281946,
          0.3992094861660078,
          0.4057971014492753,
          0.44927536231884047,
          0.46113306982872193,
          0.4545454545454545,
          0.447957839262187,
          0.45718050065876137,
          0.44400527009222657,
          0.42819499341238465,
          0.3833992094861659,
          0.3438735177865613,
          0.3425559947299077,
          0.3399209486166007,
          0.3570487483530961,
          0.3517786561264822,
          0.3504611330698286,
          0.3425559947299077,
          0.33333333333333326,
          0.3623188405797101,
          0.3570487483530961,
          0.37681159420289856,
          0.378129117259552,
          0.38735177865612647,
          0.38471673254281946,
          0.3833992094861659,
          0.3992094861660078,
          0.40974967061923584,
          0.3965744400527008,
          0.4018445322793148,
          0.37154150197628455
         ]
        },
        {
         "line": {
          "color": "#ff6f69",
          "width": 6
         },
         "mode": "lines",
         "name": "주택전세가격지수",
         "type": "scatter",
         "x": [
          "2007-01-01",
          "2007-02-01",
          "2007-03-01",
          "2007-04-01",
          "2007-05-01",
          "2007-06-01",
          "2007-07-01",
          "2007-08-01",
          "2007-09-01",
          "2007-10-01",
          "2007-11-01",
          "2007-12-01",
          "2008-01-01",
          "2008-02-01",
          "2008-03-01",
          "2008-04-01",
          "2008-05-01",
          "2008-06-01",
          "2008-07-01",
          "2008-08-01",
          "2008-09-01",
          "2008-10-01",
          "2008-11-01",
          "2008-12-01",
          "2009-01-01",
          "2009-02-01",
          "2009-03-01",
          "2009-04-01",
          "2009-05-01",
          "2009-06-01",
          "2009-07-01",
          "2009-08-01",
          "2009-09-01",
          "2009-10-01",
          "2009-11-01",
          "2009-12-01",
          "2010-01-01",
          "2010-02-01",
          "2010-03-01",
          "2010-04-01",
          "2010-05-01",
          "2010-06-01",
          "2010-07-01",
          "2010-08-01",
          "2010-09-01",
          "2010-10-01",
          "2010-11-01",
          "2010-12-01",
          "2011-01-01",
          "2011-02-01",
          "2011-03-01",
          "2011-04-01",
          "2011-05-01",
          "2011-06-01",
          "2011-07-01",
          "2011-08-01",
          "2011-09-01",
          "2011-10-01",
          "2011-11-01",
          "2011-12-01"
         ],
         "y": [
          0.2663383007852457,
          0.2688875950084191,
          0.2723810722772121,
          0.2754339307913828,
          0.27595323146647366,
          0.27607912253922307,
          0.2768816781279998,
          0.2779517522463689,
          0.28056399200591686,
          0.2825939855539994,
          0.2838214235133052,
          0.2844036697247707,
          0.2857569987568257,
          0.2881961382913434,
          0.29384550018096844,
          0.29894408862731525,
          0.30147764646639497,
          0.3043416683714417,
          0.3062929799990558,
          0.3077249909515791,
          0.311045367995342,
          0.31220986041827314,
          0.3091884746722898,
          0.29908571608415824,
          0.2907296961304232,
          0.2887783845028089,
          0.2895179945552112,
          0.2910129510441092,
          0.2928068988307867,
          0.29516735644483605,
          0.2981730058067258,
          0.3024375658961085,
          0.31513682785969444,
          0.32166742725856456,
          0.32681322485719233,
          0.3291736824712418,
          0.33188034053535187,
          0.33760838434544516,
          0.3438872015988167,
          0.3497411364816593,
          0.35356507781641944,
          0.35729460084661746,
          0.3597966859175099,
          0.3632114812658348,
          0.369317198294176,
          0.3773427541819441,
          0.3873983036177948,
          0.394574094764505,
          0.4029773238705211,
          0.4190284356460574,
          0.43662171306277253,
          0.4489433018081106,
          0.45751963113915695,
          0.46434922183580674,
          0.47270524178954143,
          0.48422427494610276,
          0.49911089429870814,
          0.5089146615890601,
          0.5146112326309662,
          0.5155711520606796
         ]
        }
       ],
       "layout": {
        "margin": {
         "b": 0,
         "l": 0,
         "r": 0,
         "t": 0
        },
        "plot_bgcolor": "rgb(249,249,249)",
        "template": {
         "data": {
          "bar": [
           {
            "error_x": {
             "color": "#2a3f5f"
            },
            "error_y": {
             "color": "#2a3f5f"
            },
            "marker": {
             "line": {
              "color": "#E5ECF6",
              "width": 0.5
             },
             "pattern": {
              "fillmode": "overlay",
              "size": 10,
              "solidity": 0.2
             }
            },
            "type": "bar"
           }
          ],
          "barpolar": [
           {
            "marker": {
             "line": {
              "color": "#E5ECF6",
              "width": 0.5
             },
             "pattern": {
              "fillmode": "overlay",
              "size": 10,
              "solidity": 0.2
             }
            },
            "type": "barpolar"
           }
          ],
          "carpet": [
           {
            "aaxis": {
             "endlinecolor": "#2a3f5f",
             "gridcolor": "white",
             "linecolor": "white",
             "minorgridcolor": "white",
             "startlinecolor": "#2a3f5f"
            },
            "baxis": {
             "endlinecolor": "#2a3f5f",
             "gridcolor": "white",
             "linecolor": "white",
             "minorgridcolor": "white",
             "startlinecolor": "#2a3f5f"
            },
            "type": "carpet"
           }
          ],
          "choropleth": [
           {
            "colorbar": {
             "outlinewidth": 0,
             "ticks": ""
            },
            "type": "choropleth"
           }
          ],
          "contour": [
           {
            "colorbar": {
             "outlinewidth": 0,
             "ticks": ""
            },
            "colorscale": [
             [
              0,
              "#0d0887"
             ],
             [
              0.1111111111111111,
              "#46039f"
             ],
             [
              0.2222222222222222,
              "#7201a8"
             ],
             [
              0.3333333333333333,
              "#9c179e"
             ],
             [
              0.4444444444444444,
              "#bd3786"
             ],
             [
              0.5555555555555556,
              "#d8576b"
             ],
             [
              0.6666666666666666,
              "#ed7953"
             ],
             [
              0.7777777777777778,
              "#fb9f3a"
             ],
             [
              0.8888888888888888,
              "#fdca26"
             ],
             [
              1,
              "#f0f921"
             ]
            ],
            "type": "contour"
           }
          ],
          "contourcarpet": [
           {
            "colorbar": {
             "outlinewidth": 0,
             "ticks": ""
            },
            "type": "contourcarpet"
           }
          ],
          "heatmap": [
           {
            "colorbar": {
             "outlinewidth": 0,
             "ticks": ""
            },
            "colorscale": [
             [
              0,
              "#0d0887"
             ],
             [
              0.1111111111111111,
              "#46039f"
             ],
             [
              0.2222222222222222,
              "#7201a8"
             ],
             [
              0.3333333333333333,
              "#9c179e"
             ],
             [
              0.4444444444444444,
              "#bd3786"
             ],
             [
              0.5555555555555556,
              "#d8576b"
             ],
             [
              0.6666666666666666,
              "#ed7953"
             ],
             [
              0.7777777777777778,
              "#fb9f3a"
             ],
             [
              0.8888888888888888,
              "#fdca26"
             ],
             [
              1,
              "#f0f921"
             ]
            ],
            "type": "heatmap"
           }
          ],
          "heatmapgl": [
           {
            "colorbar": {
             "outlinewidth": 0,
             "ticks": ""
            },
            "colorscale": [
             [
              0,
              "#0d0887"
             ],
             [
              0.1111111111111111,
              "#46039f"
             ],
             [
              0.2222222222222222,
              "#7201a8"
             ],
             [
              0.3333333333333333,
              "#9c179e"
             ],
             [
              0.4444444444444444,
              "#bd3786"
             ],
             [
              0.5555555555555556,
              "#d8576b"
             ],
             [
              0.6666666666666666,
              "#ed7953"
             ],
             [
              0.7777777777777778,
              "#fb9f3a"
             ],
             [
              0.8888888888888888,
              "#fdca26"
             ],
             [
              1,
              "#f0f921"
             ]
            ],
            "type": "heatmapgl"
           }
          ],
          "histogram": [
           {
            "marker": {
             "pattern": {
              "fillmode": "overlay",
              "size": 10,
              "solidity": 0.2
             }
            },
            "type": "histogram"
           }
          ],
          "histogram2d": [
           {
            "colorbar": {
             "outlinewidth": 0,
             "ticks": ""
            },
            "colorscale": [
             [
              0,
              "#0d0887"
             ],
             [
              0.1111111111111111,
              "#46039f"
             ],
             [
              0.2222222222222222,
              "#7201a8"
             ],
             [
              0.3333333333333333,
              "#9c179e"
             ],
             [
              0.4444444444444444,
              "#bd3786"
             ],
             [
              0.5555555555555556,
              "#d8576b"
             ],
             [
              0.6666666666666666,
              "#ed7953"
             ],
             [
              0.7777777777777778,
              "#fb9f3a"
             ],
             [
              0.8888888888888888,
              "#fdca26"
             ],
             [
              1,
              "#f0f921"
             ]
            ],
            "type": "histogram2d"
           }
          ],
          "histogram2dcontour": [
           {
            "colorbar": {
             "outlinewidth": 0,
             "ticks": ""
            },
            "colorscale": [
             [
              0,
              "#0d0887"
             ],
             [
              0.1111111111111111,
              "#46039f"
             ],
             [
              0.2222222222222222,
              "#7201a8"
             ],
             [
              0.3333333333333333,
              "#9c179e"
             ],
             [
              0.4444444444444444,
              "#bd3786"
             ],
             [
              0.5555555555555556,
              "#d8576b"
             ],
             [
              0.6666666666666666,
              "#ed7953"
             ],
             [
              0.7777777777777778,
              "#fb9f3a"
             ],
             [
              0.8888888888888888,
              "#fdca26"
             ],
             [
              1,
              "#f0f921"
             ]
            ],
            "type": "histogram2dcontour"
           }
          ],
          "mesh3d": [
           {
            "colorbar": {
             "outlinewidth": 0,
             "ticks": ""
            },
            "type": "mesh3d"
           }
          ],
          "parcoords": [
           {
            "line": {
             "colorbar": {
              "outlinewidth": 0,
              "ticks": ""
             }
            },
            "type": "parcoords"
           }
          ],
          "pie": [
           {
            "automargin": true,
            "type": "pie"
           }
          ],
          "scatter": [
           {
            "fillpattern": {
             "fillmode": "overlay",
             "size": 10,
             "solidity": 0.2
            },
            "type": "scatter"
           }
          ],
          "scatter3d": [
           {
            "line": {
             "colorbar": {
              "outlinewidth": 0,
              "ticks": ""
             }
            },
            "marker": {
             "colorbar": {
              "outlinewidth": 0,
              "ticks": ""
             }
            },
            "type": "scatter3d"
           }
          ],
          "scattercarpet": [
           {
            "marker": {
             "colorbar": {
              "outlinewidth": 0,
              "ticks": ""
             }
            },
            "type": "scattercarpet"
           }
          ],
          "scattergeo": [
           {
            "marker": {
             "colorbar": {
              "outlinewidth": 0,
              "ticks": ""
             }
            },
            "type": "scattergeo"
           }
          ],
          "scattergl": [
           {
            "marker": {
             "colorbar": {
              "outlinewidth": 0,
              "ticks": ""
             }
            },
            "type": "scattergl"
           }
          ],
          "scattermapbox": [
           {
            "marker": {
             "colorbar": {
              "outlinewidth": 0,
              "ticks": ""
             }
            },
            "type": "scattermapbox"
           }
          ],
          "scatterpolar": [
           {
            "marker": {
             "colorbar": {
              "outlinewidth": 0,
              "ticks": ""
             }
            },
            "type": "scatterpolar"
           }
          ],
          "scatterpolargl": [
           {
            "marker": {
             "colorbar": {
              "outlinewidth": 0,
              "ticks": ""
             }
            },
            "type": "scatterpolargl"
           }
          ],
          "scatterternary": [
           {
            "marker": {
             "colorbar": {
              "outlinewidth": 0,
              "ticks": ""
             }
            },
            "type": "scatterternary"
           }
          ],
          "surface": [
           {
            "colorbar": {
             "outlinewidth": 0,
             "ticks": ""
            },
            "colorscale": [
             [
              0,
              "#0d0887"
             ],
             [
              0.1111111111111111,
              "#46039f"
             ],
             [
              0.2222222222222222,
              "#7201a8"
             ],
             [
              0.3333333333333333,
              "#9c179e"
             ],
             [
              0.4444444444444444,
              "#bd3786"
             ],
             [
              0.5555555555555556,
              "#d8576b"
             ],
             [
              0.6666666666666666,
              "#ed7953"
             ],
             [
              0.7777777777777778,
              "#fb9f3a"
             ],
             [
              0.8888888888888888,
              "#fdca26"
             ],
             [
              1,
              "#f0f921"
             ]
            ],
            "type": "surface"
           }
          ],
          "table": [
           {
            "cells": {
             "fill": {
              "color": "#EBF0F8"
             },
             "line": {
              "color": "white"
             }
            },
            "header": {
             "fill": {
              "color": "#C8D4E3"
             },
             "line": {
              "color": "white"
             }
            },
            "type": "table"
           }
          ]
         },
         "layout": {
          "annotationdefaults": {
           "arrowcolor": "#2a3f5f",
           "arrowhead": 0,
           "arrowwidth": 1
          },
          "autotypenumbers": "strict",
          "coloraxis": {
           "colorbar": {
            "outlinewidth": 0,
            "ticks": ""
           }
          },
          "colorscale": {
           "diverging": [
            [
             0,
             "#8e0152"
            ],
            [
             0.1,
             "#c51b7d"
            ],
            [
             0.2,
             "#de77ae"
            ],
            [
             0.3,
             "#f1b6da"
            ],
            [
             0.4,
             "#fde0ef"
            ],
            [
             0.5,
             "#f7f7f7"
            ],
            [
             0.6,
             "#e6f5d0"
            ],
            [
             0.7,
             "#b8e186"
            ],
            [
             0.8,
             "#7fbc41"
            ],
            [
             0.9,
             "#4d9221"
            ],
            [
             1,
             "#276419"
            ]
           ],
           "sequential": [
            [
             0,
             "#0d0887"
            ],
            [
             0.1111111111111111,
             "#46039f"
            ],
            [
             0.2222222222222222,
             "#7201a8"
            ],
            [
             0.3333333333333333,
             "#9c179e"
            ],
            [
             0.4444444444444444,
             "#bd3786"
            ],
            [
             0.5555555555555556,
             "#d8576b"
            ],
            [
             0.6666666666666666,
             "#ed7953"
            ],
            [
             0.7777777777777778,
             "#fb9f3a"
            ],
            [
             0.8888888888888888,
             "#fdca26"
            ],
            [
             1,
             "#f0f921"
            ]
           ],
           "sequentialminus": [
            [
             0,
             "#0d0887"
            ],
            [
             0.1111111111111111,
             "#46039f"
            ],
            [
             0.2222222222222222,
             "#7201a8"
            ],
            [
             0.3333333333333333,
             "#9c179e"
            ],
            [
             0.4444444444444444,
             "#bd3786"
            ],
            [
             0.5555555555555556,
             "#d8576b"
            ],
            [
             0.6666666666666666,
             "#ed7953"
            ],
            [
             0.7777777777777778,
             "#fb9f3a"
            ],
            [
             0.8888888888888888,
             "#fdca26"
            ],
            [
             1,
             "#f0f921"
            ]
           ]
          },
          "colorway": [
           "#636efa",
           "#EF553B",
           "#00cc96",
           "#ab63fa",
           "#FFA15A",
           "#19d3f3",
           "#FF6692",
           "#B6E880",
           "#FF97FF",
           "#FECB52"
          ],
          "font": {
           "color": "#2a3f5f"
          },
          "geo": {
           "bgcolor": "white",
           "lakecolor": "white",
           "landcolor": "#E5ECF6",
           "showlakes": true,
           "showland": true,
           "subunitcolor": "white"
          },
          "hoverlabel": {
           "align": "left"
          },
          "hovermode": "closest",
          "mapbox": {
           "style": "light"
          },
          "paper_bgcolor": "white",
          "plot_bgcolor": "#E5ECF6",
          "polar": {
           "angularaxis": {
            "gridcolor": "white",
            "linecolor": "white",
            "ticks": ""
           },
           "bgcolor": "#E5ECF6",
           "radialaxis": {
            "gridcolor": "white",
            "linecolor": "white",
            "ticks": ""
           }
          },
          "scene": {
           "xaxis": {
            "backgroundcolor": "#E5ECF6",
            "gridcolor": "white",
            "gridwidth": 2,
            "linecolor": "white",
            "showbackground": true,
            "ticks": "",
            "zerolinecolor": "white"
           },
           "yaxis": {
            "backgroundcolor": "#E5ECF6",
            "gridcolor": "white",
            "gridwidth": 2,
            "linecolor": "white",
            "showbackground": true,
            "ticks": "",
            "zerolinecolor": "white"
           },
           "zaxis": {
            "backgroundcolor": "#E5ECF6",
            "gridcolor": "white",
            "gridwidth": 2,
            "linecolor": "white",
            "showbackground": true,
            "ticks": "",
            "zerolinecolor": "white"
           }
          },
          "shapedefaults": {
           "line": {
            "color": "#2a3f5f"
           }
          },
          "ternary": {
           "aaxis": {
            "gridcolor": "white",
            "linecolor": "white",
            "ticks": ""
           },
           "baxis": {
            "gridcolor": "white",
            "linecolor": "white",
            "ticks": ""
           },
           "bgcolor": "#E5ECF6",
           "caxis": {
            "gridcolor": "white",
            "linecolor": "white",
            "ticks": ""
           }
          },
          "title": {
           "x": 0.05
          },
          "xaxis": {
           "automargin": true,
           "gridcolor": "white",
           "linecolor": "white",
           "ticks": "",
           "title": {
            "standoff": 15
           },
           "zerolinecolor": "white",
           "zerolinewidth": 2
          },
          "yaxis": {
           "automargin": true,
           "gridcolor": "white",
           "linecolor": "white",
           "ticks": "",
           "title": {
            "standoff": 15
           },
           "zerolinecolor": "white",
           "zerolinewidth": 2
          }
         }
        },
        "title": {
         "text": "일반화 이전 추이 그래프",
         "x": 0.5
        },
        "xaxis": {
         "rangeselector": {
          "buttons": [
           {
            "count": 1,
            "label": "한달",
            "step": "month",
            "stepmode": "backward"
           },
           {
            "count": 6,
            "label": "6개월",
            "step": "month",
            "stepmode": "backward"
           },
           {
            "count": 1,
            "label": "1년",
            "step": "year",
            "stepmode": "backward"
           },
           {
            "count": 1,
            "label": "올해",
            "step": "year",
            "stepmode": "todate"
           },
           {
            "label": "전체(2006.01~2012.01)",
            "step": "all"
           }
          ]
         },
         "rangeslider": {
          "visible": true
         },
         "type": "date"
        }
       }
      },
      "text/html": [
       "<div>                            <div id=\"42471e44-f4a4-42fa-8cc9-02371c99d47f\" class=\"plotly-graph-div\" style=\"height:525px; width:100%;\"></div>            <script type=\"text/javascript\">                require([\"plotly\"], function(Plotly) {                    window.PLOTLYENV=window.PLOTLYENV || {};                                    if (document.getElementById(\"42471e44-f4a4-42fa-8cc9-02371c99d47f\")) {                    Plotly.newPlot(                        \"42471e44-f4a4-42fa-8cc9-02371c99d47f\",                        [{\"line\":{\"color\":\"#ffeead\",\"width\":2},\"mode\":\"lines\",\"name\":\"\\uac00\\uacc4\\uc608\\uae08\\ucd1d\\uae08\\uc561\",\"x\":[\"2007-01-01\",\"2007-02-01\",\"2007-03-01\",\"2007-04-01\",\"2007-05-01\",\"2007-06-01\",\"2007-07-01\",\"2007-08-01\",\"2007-09-01\",\"2007-10-01\",\"2007-11-01\",\"2007-12-01\",\"2008-01-01\",\"2008-02-01\",\"2008-03-01\",\"2008-04-01\",\"2008-05-01\",\"2008-06-01\",\"2008-07-01\",\"2008-08-01\",\"2008-09-01\",\"2008-10-01\",\"2008-11-01\",\"2008-12-01\",\"2009-01-01\",\"2009-02-01\",\"2009-03-01\",\"2009-04-01\",\"2009-05-01\",\"2009-06-01\",\"2009-07-01\",\"2009-08-01\",\"2009-09-01\",\"2009-10-01\",\"2009-11-01\",\"2009-12-01\",\"2010-01-01\",\"2010-02-01\",\"2010-03-01\",\"2010-04-01\",\"2010-05-01\",\"2010-06-01\",\"2010-07-01\",\"2010-08-01\",\"2010-09-01\",\"2010-10-01\",\"2010-11-01\",\"2010-12-01\",\"2011-01-01\",\"2011-02-01\",\"2011-03-01\",\"2011-04-01\",\"2011-05-01\",\"2011-06-01\",\"2011-07-01\",\"2011-08-01\",\"2011-09-01\",\"2011-10-01\",\"2011-11-01\",\"2011-12-01\"],\"y\":[0.18121792339867754,0.18484096734120725,0.18293802043682122,0.18416532618297948,0.17699135029797997,0.17470837471077327,0.16679521188779567,0.16178724374541326,0.16476034519064364,0.15471341476330452,0.15162412422078553,0.15781687850669912,0.1629164273316629,0.16261863436381335,0.1629668901567588,0.1621242855772263,0.160187696789443,0.1577844826189833,0.15317881533222616,0.15311386780733427,0.16597472373160754,0.18292166674350313,0.18628149409834155,0.20604516609745438,0.21362720556810555,0.21663986737621976,0.20719506436190704,0.21274862286327323,0.2153937159453806,0.22305300714827725,0.225192381733205,0.23210142778645138,0.24334466981737446,0.24512582064390565,0.2473098953239029,0.2588733582449404,0.26428487323862937,0.2943099426717387,0.2958174416967472,0.30136866395621076,0.2993554464340227,0.31111437492757654,0.31986360085275956,0.3195511674356538,0.3274562312867024,0.3264016516918753,0.3290515730072481,0.3428811905737935,0.34659877443864784,0.34601705020490403,0.35198583676708983,0.3589226062242469,0.3565234415397517,0.36356113664710044,0.3626786602057638,0.35665909931956186,0.366438607923785,0.37235630866303426,0.37541818730056287,0.3911085436677877],\"type\":\"scatter\"},{\"line\":{\"color\":\"#96ceb4\",\"width\":2},\"mode\":\"lines\",\"name\":\"\\uc8fc\\ud0dd\\ub9e4\\ub9e4\\uac00\\uaca9\\uc9c0\\uc218\",\"x\":[\"2007-01-01\",\"2007-02-01\",\"2007-03-01\",\"2007-04-01\",\"2007-05-01\",\"2007-06-01\",\"2007-07-01\",\"2007-08-01\",\"2007-09-01\",\"2007-10-01\",\"2007-11-01\",\"2007-12-01\",\"2008-01-01\",\"2008-02-01\",\"2008-03-01\",\"2008-04-01\",\"2008-05-01\",\"2008-06-01\",\"2008-07-01\",\"2008-08-01\",\"2008-09-01\",\"2008-10-01\",\"2008-11-01\",\"2008-12-01\",\"2009-01-01\",\"2009-02-01\",\"2009-03-01\",\"2009-04-01\",\"2009-05-01\",\"2009-06-01\",\"2009-07-01\",\"2009-08-01\",\"2009-09-01\",\"2009-10-01\",\"2009-11-01\",\"2009-12-01\",\"2010-01-01\",\"2010-02-01\",\"2010-03-01\",\"2010-04-01\",\"2010-05-01\",\"2010-06-01\",\"2010-07-01\",\"2010-08-01\",\"2010-09-01\",\"2010-10-01\",\"2010-11-01\",\"2010-12-01\",\"2011-01-01\",\"2011-02-01\",\"2011-03-01\",\"2011-04-01\",\"2011-05-01\",\"2011-06-01\",\"2011-07-01\",\"2011-08-01\",\"2011-09-01\",\"2011-10-01\",\"2011-11-01\",\"2011-12-01\"],\"y\":[0.34833694281927796,0.35189255583928636,0.3537026861040179,0.3549794744157482,0.35530271196302166,0.3566441477842066,0.3592138862850308,0.3610725021818535,0.36369072631476873,0.3662443029382293,0.36894333645796296,0.3703494197886026,0.3730969389404273,0.3761838575168892,0.38386074926463465,0.3927174580599282,0.3989397808449431,0.4051621036299575,0.40920257297087614,0.4112712932734266,0.41367941300061406,0.4131299091702494,0.4089278210556939,0.40142870995894886,0.39570740537220805,0.39313766687138374,0.39134369848401596,0.39195784982383564,0.3930568574845654,0.39504476840029756,0.39784077318421307,0.4010893105343116,0.40845912661214734,0.4124026246888839,0.4150531725765265,0.4165400652939846,0.41788150111516953,0.4209360959369042,0.42353815819245555,0.4255745547402787,0.4260755729385526,0.4261887060800982,0.42518666968355046,0.42466948960791284,0.4256715260044608,0.42786954132592037,0.4319423344215665,0.4363060413097586,0.4413000614151339,0.44986585641788146,0.4604034004589974,0.4693732423958368,0.47703397226621846,0.4824805249377768,0.4870220124769695,0.49253321265798244,0.4986424023014513,0.503135404208553,0.5076122442382909,0.5095193457672045],\"type\":\"scatter\"},{\"line\":{\"color\":\"#88d8b0\",\"width\":2},\"mode\":\"lines\",\"name\":\"\\ucde8\\uc5c5\\uc790\\uc218\",\"x\":[\"2007-01-01\",\"2007-02-01\",\"2007-03-01\",\"2007-04-01\",\"2007-05-01\",\"2007-06-01\",\"2007-07-01\",\"2007-08-01\",\"2007-09-01\",\"2007-10-01\",\"2007-11-01\",\"2007-12-01\",\"2008-01-01\",\"2008-02-01\",\"2008-03-01\",\"2008-04-01\",\"2008-05-01\",\"2008-06-01\",\"2008-07-01\",\"2008-08-01\",\"2008-09-01\",\"2008-10-01\",\"2008-11-01\",\"2008-12-01\",\"2009-01-01\",\"2009-02-01\",\"2009-03-01\",\"2009-04-01\",\"2009-05-01\",\"2009-06-01\",\"2009-07-01\",\"2009-08-01\",\"2009-09-01\",\"2009-10-01\",\"2009-11-01\",\"2009-12-01\",\"2010-01-01\",\"2010-02-01\",\"2010-03-01\",\"2010-04-01\",\"2010-05-01\",\"2010-06-01\",\"2010-07-01\",\"2010-08-01\",\"2010-09-01\",\"2010-10-01\",\"2010-11-01\",\"2010-12-01\",\"2011-01-01\",\"2011-02-01\",\"2011-03-01\",\"2011-04-01\",\"2011-05-01\",\"2011-06-01\",\"2011-07-01\",\"2011-08-01\",\"2011-09-01\",\"2011-10-01\",\"2011-11-01\",\"2011-12-01\"],\"y\":[0.3611036339165543,0.36285329744279915,0.36675639300134577,0.36460296096904443,0.36554508748317627,0.3701211305518166,0.37025572005383545,0.3699865410497978,0.37321668909825023,0.3816958277254372,0.3899057873485865,0.3950201884253026,0.4028263795423954,0.4018842530282636,0.4014804845222071,0.4022880215343201,0.4022880215343201,0.40336473755047075,0.40471063257065953,0.4006729475100941,0.3962314939434721,0.4002691790040376,0.4044414535666214,0.3962314939434721,0.3916554508748318,0.38304172274562553,0.37456258411843857,0.37577388963660807,0.3707940780619112,0.4002691790040376,0.39017496635262416,0.3946164199192461,0.4028263795423954,0.4006729475100941,0.4006729475100941,0.3909825033647376,0.3890982503364735,0.39811574697173624,0.41144010767160166,0.43095558546433343,0.44966352624495265,0.4440107671601612,0.4551816958277253,0.4487213997308208,0.4411843876177657,0.4499327052489903,0.45006729475100915,0.46218034993270507,0.443337819650067,0.47146702557200504,0.48775235531628525,0.49434724091520854,0.5113055181695825,0.5218034993270524,0.5123822341857331,0.5227456258411842,0.4858681022880216,0.5266487213997308,0.5224764468371466,0.5278600269179003],\"type\":\"scatter\"},{\"line\":{\"color\":\"#ffcc5c\",\"width\":2},\"mode\":\"lines\",\"name\":\"\\uac00\\uacc4\\ub300\\ucd9c\\uae08\\ub9ac\",\"x\":[\"2007-01-01\",\"2007-02-01\",\"2007-03-01\",\"2007-04-01\",\"2007-05-01\",\"2007-06-01\",\"2007-07-01\",\"2007-08-01\",\"2007-09-01\",\"2007-10-01\",\"2007-11-01\",\"2007-12-01\",\"2008-01-01\",\"2008-02-01\",\"2008-03-01\",\"2008-04-01\",\"2008-05-01\",\"2008-06-01\",\"2008-07-01\",\"2008-08-01\",\"2008-09-01\",\"2008-10-01\",\"2008-11-01\",\"2008-12-01\",\"2009-01-01\",\"2009-02-01\",\"2009-03-01\",\"2009-04-01\",\"2009-05-01\",\"2009-06-01\",\"2009-07-01\",\"2009-08-01\",\"2009-09-01\",\"2009-10-01\",\"2009-11-01\",\"2009-12-01\",\"2010-01-01\",\"2010-02-01\",\"2010-03-01\",\"2010-04-01\",\"2010-05-01\",\"2010-06-01\",\"2010-07-01\",\"2010-08-01\",\"2010-09-01\",\"2010-10-01\",\"2010-11-01\",\"2010-12-01\",\"2011-01-01\",\"2011-02-01\",\"2011-03-01\",\"2011-04-01\",\"2011-05-01\",\"2011-06-01\",\"2011-07-01\",\"2011-08-01\",\"2011-09-01\",\"2011-10-01\",\"2011-11-01\",\"2011-12-01\"],\"y\":[0.4808959156785243,0.48748353096179176,0.4967061923583662,0.4940711462450592,0.5059288537549406,0.49802371541501966,0.5046113306982871,0.5217391304347825,0.541501976284585,0.5480895915678523,0.5533596837944663,0.5849802371541502,0.6139657444005269,0.5797101449275361,0.5718050065876151,0.5849802371541502,0.5797101449275361,0.5770750988142291,0.6021080368906455,0.6324110671936758,0.6455862977602107,0.6877470355731224,0.66798418972332,0.587615283267457,0.43346508563899855,0.4189723320158103,0.40447957839262183,0.3886693017127799,0.386034255599473,0.38471673254281946,0.3992094861660078,0.4057971014492753,0.44927536231884047,0.46113306982872193,0.4545454545454545,0.447957839262187,0.45718050065876137,0.44400527009222657,0.42819499341238465,0.3833992094861659,0.3438735177865613,0.3425559947299077,0.3399209486166007,0.3570487483530961,0.3517786561264822,0.3504611330698286,0.3425559947299077,0.33333333333333326,0.3623188405797101,0.3570487483530961,0.37681159420289856,0.378129117259552,0.38735177865612647,0.38471673254281946,0.3833992094861659,0.3992094861660078,0.40974967061923584,0.3965744400527008,0.4018445322793148,0.37154150197628455],\"type\":\"scatter\"},{\"line\":{\"color\":\"#ff6f69\",\"width\":6},\"mode\":\"lines\",\"name\":\"\\uc8fc\\ud0dd\\uc804\\uc138\\uac00\\uaca9\\uc9c0\\uc218\",\"x\":[\"2007-01-01\",\"2007-02-01\",\"2007-03-01\",\"2007-04-01\",\"2007-05-01\",\"2007-06-01\",\"2007-07-01\",\"2007-08-01\",\"2007-09-01\",\"2007-10-01\",\"2007-11-01\",\"2007-12-01\",\"2008-01-01\",\"2008-02-01\",\"2008-03-01\",\"2008-04-01\",\"2008-05-01\",\"2008-06-01\",\"2008-07-01\",\"2008-08-01\",\"2008-09-01\",\"2008-10-01\",\"2008-11-01\",\"2008-12-01\",\"2009-01-01\",\"2009-02-01\",\"2009-03-01\",\"2009-04-01\",\"2009-05-01\",\"2009-06-01\",\"2009-07-01\",\"2009-08-01\",\"2009-09-01\",\"2009-10-01\",\"2009-11-01\",\"2009-12-01\",\"2010-01-01\",\"2010-02-01\",\"2010-03-01\",\"2010-04-01\",\"2010-05-01\",\"2010-06-01\",\"2010-07-01\",\"2010-08-01\",\"2010-09-01\",\"2010-10-01\",\"2010-11-01\",\"2010-12-01\",\"2011-01-01\",\"2011-02-01\",\"2011-03-01\",\"2011-04-01\",\"2011-05-01\",\"2011-06-01\",\"2011-07-01\",\"2011-08-01\",\"2011-09-01\",\"2011-10-01\",\"2011-11-01\",\"2011-12-01\"],\"y\":[0.2663383007852457,0.2688875950084191,0.2723810722772121,0.2754339307913828,0.27595323146647366,0.27607912253922307,0.2768816781279998,0.2779517522463689,0.28056399200591686,0.2825939855539994,0.2838214235133052,0.2844036697247707,0.2857569987568257,0.2881961382913434,0.29384550018096844,0.29894408862731525,0.30147764646639497,0.3043416683714417,0.3062929799990558,0.3077249909515791,0.311045367995342,0.31220986041827314,0.3091884746722898,0.29908571608415824,0.2907296961304232,0.2887783845028089,0.2895179945552112,0.2910129510441092,0.2928068988307867,0.29516735644483605,0.2981730058067258,0.3024375658961085,0.31513682785969444,0.32166742725856456,0.32681322485719233,0.3291736824712418,0.33188034053535187,0.33760838434544516,0.3438872015988167,0.3497411364816593,0.35356507781641944,0.35729460084661746,0.3597966859175099,0.3632114812658348,0.369317198294176,0.3773427541819441,0.3873983036177948,0.394574094764505,0.4029773238705211,0.4190284356460574,0.43662171306277253,0.4489433018081106,0.45751963113915695,0.46434922183580674,0.47270524178954143,0.48422427494610276,0.49911089429870814,0.5089146615890601,0.5146112326309662,0.5155711520606796],\"type\":\"scatter\"}],                        {\"template\":{\"data\":{\"histogram2dcontour\":[{\"type\":\"histogram2dcontour\",\"colorbar\":{\"outlinewidth\":0,\"ticks\":\"\"},\"colorscale\":[[0.0,\"#0d0887\"],[0.1111111111111111,\"#46039f\"],[0.2222222222222222,\"#7201a8\"],[0.3333333333333333,\"#9c179e\"],[0.4444444444444444,\"#bd3786\"],[0.5555555555555556,\"#d8576b\"],[0.6666666666666666,\"#ed7953\"],[0.7777777777777778,\"#fb9f3a\"],[0.8888888888888888,\"#fdca26\"],[1.0,\"#f0f921\"]]}],\"choropleth\":[{\"type\":\"choropleth\",\"colorbar\":{\"outlinewidth\":0,\"ticks\":\"\"}}],\"histogram2d\":[{\"type\":\"histogram2d\",\"colorbar\":{\"outlinewidth\":0,\"ticks\":\"\"},\"colorscale\":[[0.0,\"#0d0887\"],[0.1111111111111111,\"#46039f\"],[0.2222222222222222,\"#7201a8\"],[0.3333333333333333,\"#9c179e\"],[0.4444444444444444,\"#bd3786\"],[0.5555555555555556,\"#d8576b\"],[0.6666666666666666,\"#ed7953\"],[0.7777777777777778,\"#fb9f3a\"],[0.8888888888888888,\"#fdca26\"],[1.0,\"#f0f921\"]]}],\"heatmap\":[{\"type\":\"heatmap\",\"colorbar\":{\"outlinewidth\":0,\"ticks\":\"\"},\"colorscale\":[[0.0,\"#0d0887\"],[0.1111111111111111,\"#46039f\"],[0.2222222222222222,\"#7201a8\"],[0.3333333333333333,\"#9c179e\"],[0.4444444444444444,\"#bd3786\"],[0.5555555555555556,\"#d8576b\"],[0.6666666666666666,\"#ed7953\"],[0.7777777777777778,\"#fb9f3a\"],[0.8888888888888888,\"#fdca26\"],[1.0,\"#f0f921\"]]}],\"heatmapgl\":[{\"type\":\"heatmapgl\",\"colorbar\":{\"outlinewidth\":0,\"ticks\":\"\"},\"colorscale\":[[0.0,\"#0d0887\"],[0.1111111111111111,\"#46039f\"],[0.2222222222222222,\"#7201a8\"],[0.3333333333333333,\"#9c179e\"],[0.4444444444444444,\"#bd3786\"],[0.5555555555555556,\"#d8576b\"],[0.6666666666666666,\"#ed7953\"],[0.7777777777777778,\"#fb9f3a\"],[0.8888888888888888,\"#fdca26\"],[1.0,\"#f0f921\"]]}],\"contourcarpet\":[{\"type\":\"contourcarpet\",\"colorbar\":{\"outlinewidth\":0,\"ticks\":\"\"}}],\"contour\":[{\"type\":\"contour\",\"colorbar\":{\"outlinewidth\":0,\"ticks\":\"\"},\"colorscale\":[[0.0,\"#0d0887\"],[0.1111111111111111,\"#46039f\"],[0.2222222222222222,\"#7201a8\"],[0.3333333333333333,\"#9c179e\"],[0.4444444444444444,\"#bd3786\"],[0.5555555555555556,\"#d8576b\"],[0.6666666666666666,\"#ed7953\"],[0.7777777777777778,\"#fb9f3a\"],[0.8888888888888888,\"#fdca26\"],[1.0,\"#f0f921\"]]}],\"surface\":[{\"type\":\"surface\",\"colorbar\":{\"outlinewidth\":0,\"ticks\":\"\"},\"colorscale\":[[0.0,\"#0d0887\"],[0.1111111111111111,\"#46039f\"],[0.2222222222222222,\"#7201a8\"],[0.3333333333333333,\"#9c179e\"],[0.4444444444444444,\"#bd3786\"],[0.5555555555555556,\"#d8576b\"],[0.6666666666666666,\"#ed7953\"],[0.7777777777777778,\"#fb9f3a\"],[0.8888888888888888,\"#fdca26\"],[1.0,\"#f0f921\"]]}],\"mesh3d\":[{\"type\":\"mesh3d\",\"colorbar\":{\"outlinewidth\":0,\"ticks\":\"\"}}],\"scatter\":[{\"fillpattern\":{\"fillmode\":\"overlay\",\"size\":10,\"solidity\":0.2},\"type\":\"scatter\"}],\"parcoords\":[{\"type\":\"parcoords\",\"line\":{\"colorbar\":{\"outlinewidth\":0,\"ticks\":\"\"}}}],\"scatterpolargl\":[{\"type\":\"scatterpolargl\",\"marker\":{\"colorbar\":{\"outlinewidth\":0,\"ticks\":\"\"}}}],\"bar\":[{\"error_x\":{\"color\":\"#2a3f5f\"},\"error_y\":{\"color\":\"#2a3f5f\"},\"marker\":{\"line\":{\"color\":\"#E5ECF6\",\"width\":0.5},\"pattern\":{\"fillmode\":\"overlay\",\"size\":10,\"solidity\":0.2}},\"type\":\"bar\"}],\"scattergeo\":[{\"type\":\"scattergeo\",\"marker\":{\"colorbar\":{\"outlinewidth\":0,\"ticks\":\"\"}}}],\"scatterpolar\":[{\"type\":\"scatterpolar\",\"marker\":{\"colorbar\":{\"outlinewidth\":0,\"ticks\":\"\"}}}],\"histogram\":[{\"marker\":{\"pattern\":{\"fillmode\":\"overlay\",\"size\":10,\"solidity\":0.2}},\"type\":\"histogram\"}],\"scattergl\":[{\"type\":\"scattergl\",\"marker\":{\"colorbar\":{\"outlinewidth\":0,\"ticks\":\"\"}}}],\"scatter3d\":[{\"type\":\"scatter3d\",\"line\":{\"colorbar\":{\"outlinewidth\":0,\"ticks\":\"\"}},\"marker\":{\"colorbar\":{\"outlinewidth\":0,\"ticks\":\"\"}}}],\"scattermapbox\":[{\"type\":\"scattermapbox\",\"marker\":{\"colorbar\":{\"outlinewidth\":0,\"ticks\":\"\"}}}],\"scatterternary\":[{\"type\":\"scatterternary\",\"marker\":{\"colorbar\":{\"outlinewidth\":0,\"ticks\":\"\"}}}],\"scattercarpet\":[{\"type\":\"scattercarpet\",\"marker\":{\"colorbar\":{\"outlinewidth\":0,\"ticks\":\"\"}}}],\"carpet\":[{\"aaxis\":{\"endlinecolor\":\"#2a3f5f\",\"gridcolor\":\"white\",\"linecolor\":\"white\",\"minorgridcolor\":\"white\",\"startlinecolor\":\"#2a3f5f\"},\"baxis\":{\"endlinecolor\":\"#2a3f5f\",\"gridcolor\":\"white\",\"linecolor\":\"white\",\"minorgridcolor\":\"white\",\"startlinecolor\":\"#2a3f5f\"},\"type\":\"carpet\"}],\"table\":[{\"cells\":{\"fill\":{\"color\":\"#EBF0F8\"},\"line\":{\"color\":\"white\"}},\"header\":{\"fill\":{\"color\":\"#C8D4E3\"},\"line\":{\"color\":\"white\"}},\"type\":\"table\"}],\"barpolar\":[{\"marker\":{\"line\":{\"color\":\"#E5ECF6\",\"width\":0.5},\"pattern\":{\"fillmode\":\"overlay\",\"size\":10,\"solidity\":0.2}},\"type\":\"barpolar\"}],\"pie\":[{\"automargin\":true,\"type\":\"pie\"}]},\"layout\":{\"autotypenumbers\":\"strict\",\"colorway\":[\"#636efa\",\"#EF553B\",\"#00cc96\",\"#ab63fa\",\"#FFA15A\",\"#19d3f3\",\"#FF6692\",\"#B6E880\",\"#FF97FF\",\"#FECB52\"],\"font\":{\"color\":\"#2a3f5f\"},\"hovermode\":\"closest\",\"hoverlabel\":{\"align\":\"left\"},\"paper_bgcolor\":\"white\",\"plot_bgcolor\":\"#E5ECF6\",\"polar\":{\"bgcolor\":\"#E5ECF6\",\"angularaxis\":{\"gridcolor\":\"white\",\"linecolor\":\"white\",\"ticks\":\"\"},\"radialaxis\":{\"gridcolor\":\"white\",\"linecolor\":\"white\",\"ticks\":\"\"}},\"ternary\":{\"bgcolor\":\"#E5ECF6\",\"aaxis\":{\"gridcolor\":\"white\",\"linecolor\":\"white\",\"ticks\":\"\"},\"baxis\":{\"gridcolor\":\"white\",\"linecolor\":\"white\",\"ticks\":\"\"},\"caxis\":{\"gridcolor\":\"white\",\"linecolor\":\"white\",\"ticks\":\"\"}},\"coloraxis\":{\"colorbar\":{\"outlinewidth\":0,\"ticks\":\"\"}},\"colorscale\":{\"sequential\":[[0.0,\"#0d0887\"],[0.1111111111111111,\"#46039f\"],[0.2222222222222222,\"#7201a8\"],[0.3333333333333333,\"#9c179e\"],[0.4444444444444444,\"#bd3786\"],[0.5555555555555556,\"#d8576b\"],[0.6666666666666666,\"#ed7953\"],[0.7777777777777778,\"#fb9f3a\"],[0.8888888888888888,\"#fdca26\"],[1.0,\"#f0f921\"]],\"sequentialminus\":[[0.0,\"#0d0887\"],[0.1111111111111111,\"#46039f\"],[0.2222222222222222,\"#7201a8\"],[0.3333333333333333,\"#9c179e\"],[0.4444444444444444,\"#bd3786\"],[0.5555555555555556,\"#d8576b\"],[0.6666666666666666,\"#ed7953\"],[0.7777777777777778,\"#fb9f3a\"],[0.8888888888888888,\"#fdca26\"],[1.0,\"#f0f921\"]],\"diverging\":[[0,\"#8e0152\"],[0.1,\"#c51b7d\"],[0.2,\"#de77ae\"],[0.3,\"#f1b6da\"],[0.4,\"#fde0ef\"],[0.5,\"#f7f7f7\"],[0.6,\"#e6f5d0\"],[0.7,\"#b8e186\"],[0.8,\"#7fbc41\"],[0.9,\"#4d9221\"],[1,\"#276419\"]]},\"xaxis\":{\"gridcolor\":\"white\",\"linecolor\":\"white\",\"ticks\":\"\",\"title\":{\"standoff\":15},\"zerolinecolor\":\"white\",\"automargin\":true,\"zerolinewidth\":2},\"yaxis\":{\"gridcolor\":\"white\",\"linecolor\":\"white\",\"ticks\":\"\",\"title\":{\"standoff\":15},\"zerolinecolor\":\"white\",\"automargin\":true,\"zerolinewidth\":2},\"scene\":{\"xaxis\":{\"backgroundcolor\":\"#E5ECF6\",\"gridcolor\":\"white\",\"linecolor\":\"white\",\"showbackground\":true,\"ticks\":\"\",\"zerolinecolor\":\"white\",\"gridwidth\":2},\"yaxis\":{\"backgroundcolor\":\"#E5ECF6\",\"gridcolor\":\"white\",\"linecolor\":\"white\",\"showbackground\":true,\"ticks\":\"\",\"zerolinecolor\":\"white\",\"gridwidth\":2},\"zaxis\":{\"backgroundcolor\":\"#E5ECF6\",\"gridcolor\":\"white\",\"linecolor\":\"white\",\"showbackground\":true,\"ticks\":\"\",\"zerolinecolor\":\"white\",\"gridwidth\":2}},\"shapedefaults\":{\"line\":{\"color\":\"#2a3f5f\"}},\"annotationdefaults\":{\"arrowcolor\":\"#2a3f5f\",\"arrowhead\":0,\"arrowwidth\":1},\"geo\":{\"bgcolor\":\"white\",\"landcolor\":\"#E5ECF6\",\"subunitcolor\":\"white\",\"showland\":true,\"showlakes\":true,\"lakecolor\":\"white\"},\"title\":{\"x\":0.05},\"mapbox\":{\"style\":\"light\"}}},\"margin\":{\"l\":0,\"r\":0,\"t\":0,\"b\":0},\"plot_bgcolor\":\"rgb(249,249,249)\",\"title\":{\"text\":\"\\uc77c\\ubc18\\ud654 \\uc774\\uc804 \\ucd94\\uc774 \\uadf8\\ub798\\ud504\",\"x\":0.5},\"xaxis\":{\"rangeslider\":{\"visible\":true},\"rangeselector\":{\"buttons\":[{\"count\":1,\"label\":\"\\ud55c\\ub2ec\",\"step\":\"month\",\"stepmode\":\"backward\"},{\"count\":6,\"label\":\"6\\uac1c\\uc6d4\",\"step\":\"month\",\"stepmode\":\"backward\"},{\"count\":1,\"label\":\"1\\ub144\",\"step\":\"year\",\"stepmode\":\"backward\"},{\"count\":1,\"label\":\"\\uc62c\\ud574\",\"step\":\"year\",\"stepmode\":\"todate\"},{\"label\":\"\\uc804\\uccb4(2006.01~2012.01)\",\"step\":\"all\"}]},\"type\":\"date\"}},                        {\"responsive\": true}                    ).then(function(){\n",
       "                            \n",
       "var gd = document.getElementById('42471e44-f4a4-42fa-8cc9-02371c99d47f');\n",
       "var x = new MutationObserver(function (mutations, observer) {{\n",
       "        var display = window.getComputedStyle(gd).display;\n",
       "        if (!display || display === 'none') {{\n",
       "            console.log([gd, 'removed!']);\n",
       "            Plotly.purge(gd);\n",
       "            observer.disconnect();\n",
       "        }}\n",
       "}});\n",
       "\n",
       "// Listen for the removal of the full notebook cells\n",
       "var notebookContainer = gd.closest('#notebook-container');\n",
       "if (notebookContainer) {{\n",
       "    x.observe(notebookContainer, {childList: true});\n",
       "}}\n",
       "\n",
       "// Listen for the clearing of the current output cell\n",
       "var outputEl = gd.closest('.output');\n",
       "if (outputEl) {{\n",
       "    x.observe(outputEl, {childList: true});\n",
       "}}\n",
       "\n",
       "                        })                };                });            </script>        </div>"
      ]
     },
     "metadata": {},
     "output_type": "display_data"
    }
   ],
   "source": [
    "# 데이터 그리기\n",
    "fig = go.Figure([\n",
    "    go.Scatter(name=\"가계예금총금액\",x=df_ex.index,y=df_ex['가계예금총금액'],mode='lines',line=dict(color='#ffeead',width=2)),\n",
    "    go.Scatter(name=\"주택매매가격지수\",x=df_ex.index,y=df_ex['주택매매가격지수'],mode='lines',line=dict(color='#96ceb4',width=2)),\n",
    "    go.Scatter(name=\"취업자수\",x=df_ex.index,y=df_ex['취업자수'],mode='lines',line=dict(color='#88d8b0',width=2)),\n",
    "    go.Scatter(name=\"가계대출금리\",x=df_ex.index,y=df_ex['가계대출금리'],mode='lines',line=dict(color='#ffcc5c',width=2)),\n",
    "    go.Scatter(name=\"주택전세가격지수\",x=df_ex.index,y=df_ex['주택전세가격지수'],mode='lines',line=dict(color='#ff6f69',width = 6))\n",
    "    ])\n",
    "\n",
    "# 배경 설정\n",
    "fig.update_layout(plot_bgcolor='rgb(249,249,249)', margin=dict(l=0, r=0, t=0, b=0))\n",
    "\n",
    "# 버튼 생성\n",
    "fig.update_layout(\n",
    "    title_text='일반화 이전 추이 그래프',\n",
    "    title_x=0.5,\n",
    "        xaxis=dict(\n",
    "            rangeselector=dict(\n",
    "                buttons=list([\n",
    "                    dict(count=1,\n",
    "                         label=\"한달\",\n",
    "                         step=\"month\",\n",
    "                         stepmode=\"backward\"),\n",
    "                    dict(count=6,\n",
    "                         label=\"6개월\",\n",
    "                         step=\"month\",\n",
    "                         stepmode=\"backward\"),\n",
    "                    dict(count=1,\n",
    "                         label=\"1년\",\n",
    "                         step=\"year\",\n",
    "                         stepmode=\"backward\"),\n",
    "                    dict(count=1,\n",
    "                         label=\"올해\",\n",
    "                         step=\"year\",\n",
    "                         stepmode=\"todate\"),\n",
    "                    dict(label=\"전체(2006.01~2012.01)\",\n",
    "                         step=\"all\")\n",
    "                ])\n",
    "            ),\n",
    "            rangeslider=dict(\n",
    "                visible=True\n",
    "            ),\n",
    "            type=\"date\"\n",
    "        )\n",
    "    )\n",
    "\n",
    "\n",
    "fig.show()"
   ]
  },
  {
   "cell_type": "markdown",
   "id": "e5be7071",
   "metadata": {
    "slideshow": {
     "slide_type": "slide"
    }
   },
   "source": [
    "# 일반화 이후"
   ]
  },
  {
   "cell_type": "code",
   "execution_count": 77,
   "id": "050b0210",
   "metadata": {
    "scrolled": false,
    "slideshow": {
     "slide_type": "slide"
    }
   },
   "outputs": [
    {
     "data": {
      "text/html": [
       "<div>\n",
       "<style scoped>\n",
       "    .dataframe tbody tr th:only-of-type {\n",
       "        vertical-align: middle;\n",
       "    }\n",
       "\n",
       "    .dataframe tbody tr th {\n",
       "        vertical-align: top;\n",
       "    }\n",
       "\n",
       "    .dataframe thead th {\n",
       "        text-align: right;\n",
       "    }\n",
       "</style>\n",
       "<table border=\"1\" class=\"dataframe\">\n",
       "  <thead>\n",
       "    <tr style=\"text-align: right;\">\n",
       "      <th></th>\n",
       "      <th>가계예금총금액</th>\n",
       "      <th>주택매매가격지수</th>\n",
       "      <th>취업자수</th>\n",
       "      <th>가계대출금리</th>\n",
       "      <th>주택전세가격지수</th>\n",
       "    </tr>\n",
       "    <tr>\n",
       "      <th>datetime</th>\n",
       "      <th></th>\n",
       "      <th></th>\n",
       "      <th></th>\n",
       "      <th></th>\n",
       "      <th></th>\n",
       "    </tr>\n",
       "  </thead>\n",
       "  <tbody>\n",
       "    <tr>\n",
       "      <th>2000-01-01</th>\n",
       "      <td>0.000000</td>\n",
       "      <td>0.000000</td>\n",
       "      <td>0.000000</td>\n",
       "      <td>1.000000</td>\n",
       "      <td>0.000000</td>\n",
       "    </tr>\n",
       "    <tr>\n",
       "      <th>2000-02-01</th>\n",
       "      <td>0.017360</td>\n",
       "      <td>0.002683</td>\n",
       "      <td>0.006999</td>\n",
       "      <td>0.986825</td>\n",
       "      <td>0.017043</td>\n",
       "    </tr>\n",
       "    <tr>\n",
       "      <th>2000-03-01</th>\n",
       "      <td>0.022016</td>\n",
       "      <td>0.005366</td>\n",
       "      <td>0.021803</td>\n",
       "      <td>0.988142</td>\n",
       "      <td>0.030686</td>\n",
       "    </tr>\n",
       "    <tr>\n",
       "      <th>2000-04-01</th>\n",
       "      <td>0.027705</td>\n",
       "      <td>0.006028</td>\n",
       "      <td>0.026649</td>\n",
       "      <td>0.976285</td>\n",
       "      <td>0.038649</td>\n",
       "    </tr>\n",
       "    <tr>\n",
       "      <th>2000-05-01</th>\n",
       "      <td>0.033414</td>\n",
       "      <td>0.005366</td>\n",
       "      <td>0.043876</td>\n",
       "      <td>0.976285</td>\n",
       "      <td>0.039215</td>\n",
       "    </tr>\n",
       "  </tbody>\n",
       "</table>\n",
       "</div>"
      ],
      "text/plain": [
       "             가계예금총금액  주택매매가격지수      취업자수    가계대출금리  주택전세가격지수\n",
       "datetime                                                    \n",
       "2000-01-01  0.000000  0.000000  0.000000  1.000000  0.000000\n",
       "2000-02-01  0.017360  0.002683  0.006999  0.986825  0.017043\n",
       "2000-03-01  0.022016  0.005366  0.021803  0.988142  0.030686\n",
       "2000-04-01  0.027705  0.006028  0.026649  0.976285  0.038649\n",
       "2000-05-01  0.033414  0.005366  0.043876  0.976285  0.039215"
      ]
     },
     "execution_count": 77,
     "metadata": {},
     "output_type": "execute_result"
    }
   ],
   "source": [
    "# 일반화 이전 그래프는 가계예금총금액이 너무 커서, 다른 지표들을 보기에 비율이 맞지 않았음\n",
    "# 이에 따라 모든 지표를 0~1의 비율로 맞춰서 비교하기 좋게 만들었음.\n",
    "# https://scikit-learn.org/stable/modules/generated/sklearn.preprocessing.MinMaxScaler.html\n",
    "from sklearn.preprocessing import MinMaxScaler\n",
    "scaler = MinMaxScaler()\n",
    "df[:] = scaler.fit_transform(df[:])\n",
    "df.head()"
   ]
  },
  {
   "cell_type": "markdown",
   "id": "d11d7d0c",
   "metadata": {
    "slideshow": {
     "slide_type": "slide"
    }
   },
   "source": [
    "## 시각화 with plotly"
   ]
  },
  {
   "cell_type": "code",
   "execution_count": 78,
   "id": "bf84a9a0",
   "metadata": {
    "code_folding": [
     9
    ],
    "scrolled": false,
    "slideshow": {
     "slide_type": "slide"
    }
   },
   "outputs": [
    {
     "data": {
      "application/vnd.plotly.v1+json": {
       "config": {
        "plotlyServerURL": "https://plot.ly"
       },
       "data": [
        {
         "line": {
          "color": "#ffeead",
          "width": 2
         },
         "mode": "lines",
         "name": "가계예금총금액",
         "type": "scatter",
         "x": [
          "2000-01-01",
          "2000-02-01",
          "2000-03-01",
          "2000-04-01",
          "2000-05-01",
          "2000-06-01",
          "2000-07-01",
          "2000-08-01",
          "2000-09-01",
          "2000-10-01",
          "2000-11-01",
          "2000-12-01",
          "2001-01-01",
          "2001-02-01",
          "2001-03-01",
          "2001-04-01",
          "2001-05-01",
          "2001-06-01",
          "2001-07-01",
          "2001-08-01",
          "2001-09-01",
          "2001-10-01",
          "2001-11-01",
          "2001-12-01",
          "2002-01-01",
          "2002-02-01",
          "2002-03-01",
          "2002-04-01",
          "2002-05-01",
          "2002-06-01",
          "2002-07-01",
          "2002-08-01",
          "2002-09-01",
          "2002-10-01",
          "2002-11-01",
          "2002-12-01",
          "2003-01-01",
          "2003-02-01",
          "2003-03-01",
          "2003-04-01",
          "2003-05-01",
          "2003-06-01",
          "2003-07-01",
          "2003-08-01",
          "2003-09-01",
          "2003-10-01",
          "2003-11-01",
          "2003-12-01",
          "2004-01-01",
          "2004-02-01",
          "2004-03-01",
          "2004-04-01",
          "2004-05-01",
          "2004-06-01",
          "2004-07-01",
          "2004-08-01",
          "2004-09-01",
          "2004-10-01",
          "2004-11-01",
          "2004-12-01",
          "2005-01-01",
          "2005-02-01",
          "2005-03-01",
          "2005-04-01",
          "2005-05-01",
          "2005-06-01",
          "2005-07-01",
          "2005-08-01",
          "2005-09-01",
          "2005-10-01",
          "2005-11-01",
          "2005-12-01",
          "2006-01-01",
          "2006-02-01",
          "2006-03-01",
          "2006-04-01",
          "2006-05-01",
          "2006-06-01",
          "2006-07-01",
          "2006-08-01",
          "2006-09-01",
          "2006-10-01",
          "2006-11-01",
          "2006-12-01",
          "2007-01-01",
          "2007-02-01",
          "2007-03-01",
          "2007-04-01",
          "2007-05-01",
          "2007-06-01",
          "2007-07-01",
          "2007-08-01",
          "2007-09-01",
          "2007-10-01",
          "2007-11-01",
          "2007-12-01",
          "2008-01-01",
          "2008-02-01",
          "2008-03-01",
          "2008-04-01",
          "2008-05-01",
          "2008-06-01",
          "2008-07-01",
          "2008-08-01",
          "2008-09-01",
          "2008-10-01",
          "2008-11-01",
          "2008-12-01",
          "2009-01-01",
          "2009-02-01",
          "2009-03-01",
          "2009-04-01",
          "2009-05-01",
          "2009-06-01",
          "2009-07-01",
          "2009-08-01",
          "2009-09-01",
          "2009-10-01",
          "2009-11-01",
          "2009-12-01",
          "2010-01-01",
          "2010-02-01",
          "2010-03-01",
          "2010-04-01",
          "2010-05-01",
          "2010-06-01",
          "2010-07-01",
          "2010-08-01",
          "2010-09-01",
          "2010-10-01",
          "2010-11-01",
          "2010-12-01",
          "2011-01-01",
          "2011-02-01",
          "2011-03-01",
          "2011-04-01",
          "2011-05-01",
          "2011-06-01",
          "2011-07-01",
          "2011-08-01",
          "2011-09-01",
          "2011-10-01",
          "2011-11-01",
          "2011-12-01",
          "2012-01-01",
          "2012-02-01",
          "2012-03-01",
          "2012-04-01",
          "2012-05-01",
          "2012-06-01",
          "2012-07-01",
          "2012-08-01",
          "2012-09-01",
          "2012-10-01",
          "2012-11-01",
          "2012-12-01",
          "2013-01-01",
          "2013-02-01",
          "2013-03-01",
          "2013-04-01",
          "2013-05-01",
          "2013-06-01",
          "2013-07-01",
          "2013-08-01",
          "2013-09-01",
          "2013-10-01",
          "2013-11-01",
          "2013-12-01",
          "2014-01-01",
          "2014-02-01",
          "2014-03-01",
          "2014-04-01",
          "2014-05-01",
          "2014-06-01",
          "2014-07-01",
          "2014-08-01",
          "2014-09-01",
          "2014-10-01",
          "2014-11-01",
          "2014-12-01",
          "2015-01-01",
          "2015-02-01",
          "2015-03-01",
          "2015-04-01",
          "2015-05-01",
          "2015-06-01",
          "2015-07-01",
          "2015-08-01",
          "2015-09-01",
          "2015-10-01",
          "2015-11-01",
          "2015-12-01",
          "2016-01-01",
          "2016-02-01",
          "2016-03-01",
          "2016-04-01",
          "2016-05-01",
          "2016-06-01",
          "2016-07-01",
          "2016-08-01",
          "2016-09-01",
          "2016-10-01",
          "2016-11-01",
          "2016-12-01",
          "2017-01-01",
          "2017-02-01",
          "2017-03-01",
          "2017-04-01",
          "2017-05-01",
          "2017-06-01",
          "2017-07-01",
          "2017-08-01",
          "2017-09-01",
          "2017-10-01",
          "2017-11-01",
          "2017-12-01",
          "2018-01-01",
          "2018-02-01",
          "2018-03-01",
          "2018-04-01",
          "2018-05-01",
          "2018-06-01",
          "2018-07-01",
          "2018-08-01",
          "2018-09-01",
          "2018-10-01",
          "2018-11-01",
          "2018-12-01",
          "2019-01-01",
          "2019-02-01",
          "2019-03-01",
          "2019-04-01",
          "2019-05-01",
          "2019-06-01",
          "2019-07-01",
          "2019-08-01",
          "2019-09-01",
          "2019-10-01",
          "2019-11-01",
          "2019-12-01",
          "2020-01-01",
          "2020-02-01",
          "2020-03-01",
          "2020-04-01",
          "2020-05-01",
          "2020-06-01",
          "2020-07-01",
          "2020-08-01",
          "2020-09-01",
          "2020-10-01",
          "2020-11-01",
          "2020-12-01",
          "2021-01-01",
          "2021-02-01",
          "2021-03-01",
          "2021-04-01",
          "2021-05-01",
          "2021-06-01",
          "2021-07-01",
          "2021-08-01",
          "2021-09-01",
          "2021-10-01",
          "2021-11-01",
          "2021-12-01",
          "2022-01-01",
          "2022-02-01",
          "2022-03-01",
          "2022-04-01",
          "2022-05-01",
          "2022-06-01",
          "2022-07-01",
          "2022-08-01"
         ],
         "y": [
          0,
          0.017360457828653197,
          0.022016432191046098,
          0.02770502547438175,
          0.033414021936999994,
          0.042069953935539695,
          0.03998415716491133,
          0.046171615969179125,
          0.057027353343193365,
          0.06457294744016423,
          0.06746007518337949,
          0.07405466307653785,
          0.07445260294727823,
          0.0754215203390105,
          0.07625291095741066,
          0.0845968767872251,
          0.08507175689129065,
          0.0905644173537295,
          0.096156134472838,
          0.09682367665913677,
          0.10746666027055551,
          0.10621163112048654,
          0.112383359229277,
          0.1195763365484176,
          0.11813985927724785,
          0.131920415763839,
          0.1313013116596538,
          0.1367530100140673,
          0.13683119624307383,
          0.1397303166947224,
          0.1393577639859901,
          0.14684713252783865,
          0.15497382786071273,
          0.15378031974741174,
          0.16172276346890185,
          0.16798139977646842,
          0.16897040884856296,
          0.17408381937548206,
          0.17529118919073827,
          0.1809624942839948,
          0.17794843073073918,
          0.18093523812846468,
          0.1775235462033889,
          0.17855460762972997,
          0.17707794699783574,
          0.17747775586209824,
          0.17791260835489953,
          0.18309844238079875,
          0.18908981261470953,
          0.19239185691982402,
          0.19847885732228054,
          0.19273653047518546,
          0.1877955346006771,
          0.18770862640190095,
          0.1855268879638064,
          0.17965824830451144,
          0.18544449649937517,
          0.1778267904023445,
          0.17763054608252732,
          0.18329281770709388,
          0.18283553729202784,
          0.18677210489788448,
          0.18374900787593879,
          0.18697956317883413,
          0.1844649881443512,
          0.19223610745965164,
          0.18943028093464637,
          0.18489516815334722,
          0.18761969346014257,
          0.18428260552648928,
          0.18273383289453526,
          0.19259838070401253,
          0.1887319003552334,
          0.18847024126214384,
          0.1852128970520988,
          0.1878307339786761,
          0.18562251813235214,
          0.1841533334745462,
          0.18265081843226333,
          0.17853108946124396,
          0.18315015120157602,
          0.1786662799926736,
          0.17932821519840614,
          0.1931140671666432,
          0.18121792339867754,
          0.18484096734120725,
          0.18293802043682122,
          0.18416532618297948,
          0.17699135029797997,
          0.17470837471077327,
          0.16679521188779567,
          0.16178724374541326,
          0.16476034519064364,
          0.15471341476330452,
          0.15162412422078553,
          0.15781687850669912,
          0.1629164273316629,
          0.16261863436381335,
          0.1629668901567588,
          0.1621242855772263,
          0.160187696789443,
          0.1577844826189833,
          0.15317881533222616,
          0.15311386780733427,
          0.16597472373160754,
          0.18292166674350313,
          0.18628149409834155,
          0.20604516609745438,
          0.21362720556810555,
          0.21663986737621976,
          0.20719506436190704,
          0.21274862286327323,
          0.2153937159453806,
          0.22305300714827725,
          0.225192381733205,
          0.23210142778645138,
          0.24334466981737446,
          0.24512582064390565,
          0.2473098953239029,
          0.2588733582449404,
          0.26428487323862937,
          0.2943099426717387,
          0.2958174416967472,
          0.30136866395621076,
          0.2993554464340227,
          0.31111437492757654,
          0.31986360085275956,
          0.3195511674356538,
          0.3274562312867024,
          0.3264016516918753,
          0.3290515730072481,
          0.3428811905737935,
          0.34659877443864784,
          0.34601705020490403,
          0.35198583676708983,
          0.3589226062242469,
          0.3565234415397517,
          0.36356113664710044,
          0.3626786602057638,
          0.35665909931956186,
          0.366438607923785,
          0.37235630866303426,
          0.37541818730056287,
          0.3911085436677877,
          0.390889248427865,
          0.4002106978697213,
          0.40343237545338684,
          0.4042070732682841,
          0.4037195774579446,
          0.41091068578356316,
          0.4083419099369402,
          0.41095071339482736,
          0.42165895603005854,
          0.41616395932571704,
          0.4177455950937675,
          0.43060504927289933,
          0.4292057961227107,
          0.4396871117944706,
          0.4461831102793399,
          0.4444469710467984,
          0.44050136997225176,
          0.44585229842593377,
          0.44192959252203234,
          0.44555403820970363,
          0.46275454134275973,
          0.46828738516592305,
          0.47237658724274867,
          0.4787419119305334,
          0.4873151409657215,
          0.49128052222171015,
          0.5002317551967366,
          0.5090921862364826,
          0.512724886645543,
          0.5137500295923975,
          0.515814177188062,
          0.5226360035436118,
          0.521898841348616,
          0.5215389043461576,
          0.5215519873008121,
          0.5236567855055816,
          0.5302568246298459,
          0.5414645557838498,
          0.5432796599926987,
          0.5504449139079286,
          0.5497114896999769,
          0.5507205904524336,
          0.554122002913138,
          0.5522195232571324,
          0.5584502804113282,
          0.5568795471054897,
          0.5556827682535254,
          0.5682942692920627,
          0.572733751904816,
          0.580623708058228,
          0.5866340797262798,
          0.5891991175858585,
          0.5842830416249779,
          0.5874857177745022,
          0.5854084872241834,
          0.5813756664519402,
          0.5851809372628716,
          0.5879451786820108,
          0.5858241825333835,
          0.601821521086608,
          0.6018061018900509,
          0.6067400890388515,
          0.6119594091986877,
          0.6176543882098905,
          0.6093834688768969,
          0.6165019979540751,
          0.6163414202606374,
          0.6201577492832411,
          0.6382773299807744,
          0.6219937239197529,
          0.6221541458637304,
          0.632014332688323,
          0.633925378564638,
          0.643153534079851,
          0.6541821533546566,
          0.6515317647909034,
          0.6467703480439737,
          0.6551038786599568,
          0.6506221879434968,
          0.6503563236149824,
          0.6574137989037732,
          0.6538091333975438,
          0.649693609661949,
          0.6605642989841397,
          0.667652145417664,
          0.6762467121288958,
          0.6877541052442713,
          0.69423141379392,
          0.6930489638922912,
          0.6991365872925885,
          0.6978382597925916,
          0.7055000429868512,
          0.7119091332729441,
          0.715947872524674,
          0.726572010451412,
          0.7392353760601866,
          0.7543091203145891,
          0.7716468387220572,
          0.7796610829446866,
          0.7941929748271495,
          0.8026051589205192,
          0.8125913470583912,
          0.8174653706650254,
          0.811801385796397,
          0.8295417165584107,
          0.8287807246960082,
          0.8306752611295449,
          0.8492479170067198,
          0.8536677751874913,
          0.867016749919945,
          0.8670433830776343,
          0.8513620601790994,
          0.8686136491350922,
          0.876585685254015,
          0.8750392488639636,
          0.8777463302312196,
          0.8897552366083501,
          0.902831805534962,
          0.9027031564808596,
          0.9242612180106184,
          0.9388678696339641,
          0.9440220865194482,
          0.9647308462428872,
          0.9767670087755478,
          0.9808607275867183,
          0.9905841663852795,
          0.9994319817187516,
          1
         ]
        },
        {
         "line": {
          "color": "#96ceb4",
          "width": 2
         },
         "mode": "lines",
         "name": "주택매매가격지수",
         "type": "scatter",
         "x": [
          "2000-01-01",
          "2000-02-01",
          "2000-03-01",
          "2000-04-01",
          "2000-05-01",
          "2000-06-01",
          "2000-07-01",
          "2000-08-01",
          "2000-09-01",
          "2000-10-01",
          "2000-11-01",
          "2000-12-01",
          "2001-01-01",
          "2001-02-01",
          "2001-03-01",
          "2001-04-01",
          "2001-05-01",
          "2001-06-01",
          "2001-07-01",
          "2001-08-01",
          "2001-09-01",
          "2001-10-01",
          "2001-11-01",
          "2001-12-01",
          "2002-01-01",
          "2002-02-01",
          "2002-03-01",
          "2002-04-01",
          "2002-05-01",
          "2002-06-01",
          "2002-07-01",
          "2002-08-01",
          "2002-09-01",
          "2002-10-01",
          "2002-11-01",
          "2002-12-01",
          "2003-01-01",
          "2003-02-01",
          "2003-03-01",
          "2003-04-01",
          "2003-05-01",
          "2003-06-01",
          "2003-07-01",
          "2003-08-01",
          "2003-09-01",
          "2003-10-01",
          "2003-11-01",
          "2003-12-01",
          "2004-01-01",
          "2004-02-01",
          "2004-03-01",
          "2004-04-01",
          "2004-05-01",
          "2004-06-01",
          "2004-07-01",
          "2004-08-01",
          "2004-09-01",
          "2004-10-01",
          "2004-11-01",
          "2004-12-01",
          "2005-01-01",
          "2005-02-01",
          "2005-03-01",
          "2005-04-01",
          "2005-05-01",
          "2005-06-01",
          "2005-07-01",
          "2005-08-01",
          "2005-09-01",
          "2005-10-01",
          "2005-11-01",
          "2005-12-01",
          "2006-01-01",
          "2006-02-01",
          "2006-03-01",
          "2006-04-01",
          "2006-05-01",
          "2006-06-01",
          "2006-07-01",
          "2006-08-01",
          "2006-09-01",
          "2006-10-01",
          "2006-11-01",
          "2006-12-01",
          "2007-01-01",
          "2007-02-01",
          "2007-03-01",
          "2007-04-01",
          "2007-05-01",
          "2007-06-01",
          "2007-07-01",
          "2007-08-01",
          "2007-09-01",
          "2007-10-01",
          "2007-11-01",
          "2007-12-01",
          "2008-01-01",
          "2008-02-01",
          "2008-03-01",
          "2008-04-01",
          "2008-05-01",
          "2008-06-01",
          "2008-07-01",
          "2008-08-01",
          "2008-09-01",
          "2008-10-01",
          "2008-11-01",
          "2008-12-01",
          "2009-01-01",
          "2009-02-01",
          "2009-03-01",
          "2009-04-01",
          "2009-05-01",
          "2009-06-01",
          "2009-07-01",
          "2009-08-01",
          "2009-09-01",
          "2009-10-01",
          "2009-11-01",
          "2009-12-01",
          "2010-01-01",
          "2010-02-01",
          "2010-03-01",
          "2010-04-01",
          "2010-05-01",
          "2010-06-01",
          "2010-07-01",
          "2010-08-01",
          "2010-09-01",
          "2010-10-01",
          "2010-11-01",
          "2010-12-01",
          "2011-01-01",
          "2011-02-01",
          "2011-03-01",
          "2011-04-01",
          "2011-05-01",
          "2011-06-01",
          "2011-07-01",
          "2011-08-01",
          "2011-09-01",
          "2011-10-01",
          "2011-11-01",
          "2011-12-01",
          "2012-01-01",
          "2012-02-01",
          "2012-03-01",
          "2012-04-01",
          "2012-05-01",
          "2012-06-01",
          "2012-07-01",
          "2012-08-01",
          "2012-09-01",
          "2012-10-01",
          "2012-11-01",
          "2012-12-01",
          "2013-01-01",
          "2013-02-01",
          "2013-03-01",
          "2013-04-01",
          "2013-05-01",
          "2013-06-01",
          "2013-07-01",
          "2013-08-01",
          "2013-09-01",
          "2013-10-01",
          "2013-11-01",
          "2013-12-01",
          "2014-01-01",
          "2014-02-01",
          "2014-03-01",
          "2014-04-01",
          "2014-05-01",
          "2014-06-01",
          "2014-07-01",
          "2014-08-01",
          "2014-09-01",
          "2014-10-01",
          "2014-11-01",
          "2014-12-01",
          "2015-01-01",
          "2015-02-01",
          "2015-03-01",
          "2015-04-01",
          "2015-05-01",
          "2015-06-01",
          "2015-07-01",
          "2015-08-01",
          "2015-09-01",
          "2015-10-01",
          "2015-11-01",
          "2015-12-01",
          "2016-01-01",
          "2016-02-01",
          "2016-03-01",
          "2016-04-01",
          "2016-05-01",
          "2016-06-01",
          "2016-07-01",
          "2016-08-01",
          "2016-09-01",
          "2016-10-01",
          "2016-11-01",
          "2016-12-01",
          "2017-01-01",
          "2017-02-01",
          "2017-03-01",
          "2017-04-01",
          "2017-05-01",
          "2017-06-01",
          "2017-07-01",
          "2017-08-01",
          "2017-09-01",
          "2017-10-01",
          "2017-11-01",
          "2017-12-01",
          "2018-01-01",
          "2018-02-01",
          "2018-03-01",
          "2018-04-01",
          "2018-05-01",
          "2018-06-01",
          "2018-07-01",
          "2018-08-01",
          "2018-09-01",
          "2018-10-01",
          "2018-11-01",
          "2018-12-01",
          "2019-01-01",
          "2019-02-01",
          "2019-03-01",
          "2019-04-01",
          "2019-05-01",
          "2019-06-01",
          "2019-07-01",
          "2019-08-01",
          "2019-09-01",
          "2019-10-01",
          "2019-11-01",
          "2019-12-01",
          "2020-01-01",
          "2020-02-01",
          "2020-03-01",
          "2020-04-01",
          "2020-05-01",
          "2020-06-01",
          "2020-07-01",
          "2020-08-01",
          "2020-09-01",
          "2020-10-01",
          "2020-11-01",
          "2020-12-01",
          "2021-01-01",
          "2021-02-01",
          "2021-03-01",
          "2021-04-01",
          "2021-05-01",
          "2021-06-01",
          "2021-07-01",
          "2021-08-01",
          "2021-09-01",
          "2021-10-01",
          "2021-11-01",
          "2021-12-01",
          "2022-01-01",
          "2022-02-01",
          "2022-03-01",
          "2022-04-01",
          "2022-05-01",
          "2022-06-01",
          "2022-07-01",
          "2022-08-01"
         ],
         "y": [
          0,
          0.0026828716423700216,
          0.005365743284739932,
          0.006028380256650645,
          0.005365743284739932,
          0.003361670491644375,
          0.003361670491644375,
          0.004686944435465579,
          0.006028380256650645,
          0.0067071791059248875,
          0.004686944435465579,
          0.0006787988492743535,
          0,
          0.002020234670459309,
          0.006028380256650645,
          0.010052687720205622,
          0.0147396321556712,
          0.020105375440411133,
          0.028137828490157446,
          0.04085722597536934,
          0.05157255066748556,
          0.054918059281766185,
          0.057600930924136096,
          0.06296667420887614,
          0.08105181497882796,
          0.09913695574877979,
          0.11588066069754666,
          0.1232343148980185,
          0.1279212593334842,
          0.13128292982512857,
          0.13865274590296406,
          0.15203478036008666,
          0.17079871997931284,
          0.17480686556550418,
          0.17548566441477853,
          0.17682710023596349,
          0.17614830138668913,
          0.1801726088502441,
          0.18620098910689464,
          0.19357080518473035,
          0.20695283964185274,
          0.2129812198985035,
          0.2148559976726897,
          0.21765200245660543,
          0.22479555225134962,
          0.2333290234993698,
          0.23024210492290786,
          0.22313087888289107,
          0.219656075249701,
          0.2213853961276142,
          0.22311471700552732,
          0.2245369622135307,
          0.2243915053172577,
          0.22219348999579802,
          0.21993082716488355,
          0.21655299479587553,
          0.21475902640850764,
          0.21272262986068458,
          0.2089892361896759,
          0.20549827067912219,
          0.20318712221611668,
          0.20585383198112295,
          0.20905388369913047,
          0.21388628503086926,
          0.21846009632478913,
          0.2253773798364418,
          0.23247244399909495,
          0.2356078482076478,
          0.23769273038756178,
          0.23741797847237944,
          0.2373694928402884,
          0.23903416620874685,
          0.24192714225684453,
          0.2458706403335812,
          0.25149497365613993,
          0.2592849985454311,
          0.26836797362381626,
          0.27266703300255357,
          0.27460645828619457,
          0.2767883117302906,
          0.28116818049584646,
          0.29343504541487553,
          0.3221062158580341,
          0.33986811908071246,
          0.34833694281927796,
          0.35189255583928636,
          0.3537026861040179,
          0.3549794744157482,
          0.35530271196302166,
          0.3566441477842066,
          0.3592138862850308,
          0.3610725021818535,
          0.36369072631476873,
          0.3662443029382293,
          0.36894333645796296,
          0.3703494197886026,
          0.3730969389404273,
          0.3761838575168892,
          0.38386074926463465,
          0.3927174580599282,
          0.3989397808449431,
          0.4051621036299575,
          0.40920257297087614,
          0.4112712932734266,
          0.41367941300061406,
          0.4131299091702494,
          0.4089278210556939,
          0.40142870995894886,
          0.39570740537220805,
          0.39313766687138374,
          0.39134369848401596,
          0.39195784982383564,
          0.3930568574845654,
          0.39504476840029756,
          0.39784077318421307,
          0.4010893105343116,
          0.40845912661214734,
          0.4124026246888839,
          0.4150531725765265,
          0.4165400652939846,
          0.41788150111516953,
          0.4209360959369042,
          0.42353815819245555,
          0.4255745547402787,
          0.4260755729385526,
          0.4261887060800982,
          0.42518666968355046,
          0.42466948960791284,
          0.4256715260044608,
          0.42786954132592037,
          0.4319423344215665,
          0.4363060413097586,
          0.4413000614151339,
          0.44986585641788146,
          0.4604034004589974,
          0.4693732423958368,
          0.47703397226621846,
          0.4824805249377768,
          0.4870220124769695,
          0.49253321265798244,
          0.4986424023014513,
          0.503135404208553,
          0.5076122442382909,
          0.5095193457672045,
          0.5112971522772085,
          0.5132042538061221,
          0.5149335746840353,
          0.5161618773636747,
          0.5167275430714031,
          0.5163073342599478,
          0.5150143840708539,
          0.5138668907780328,
          0.5121375699001198,
          0.5108446197110257,
          0.5099880402107508,
          0.509196108219931,
          0.5085657950027476,
          0.5079031580308371,
          0.5073859779551992,
          0.5074183017099267,
          0.5072566829362899,
          0.5068041503701068,
          0.5067718266153796,
          0.5063192940491967,
          0.5069172835116527,
          0.5092284319746583,
          0.5112163428903902,
          0.51341435821185,
          0.5147073084009439,
          0.5165659242977663,
          0.5197982997705013,
          0.5221740957429615,
          0.5229337039790543,
          0.5237417978472378,
          0.5247923198758768,
          0.5263438601027894,
          0.5295115880660697,
          0.5329379060671688,
          0.5352975401622653,
          0.5374470698516338,
          0.5389986100785467,
          0.5416491579661893,
          0.5464977211752917,
          0.5523159970262146,
          0.5567120276691342,
          0.5621585803406925,
          0.5672334098328862,
          0.5719041923909882,
          0.5775608494682742,
          0.5816498044412839,
          0.5868216051976598,
          0.5890357823964834,
          0.5900539806703948,
          0.5909267220480332,
          0.5913469308594888,
          0.5918479490577626,
          0.5926560429259464,
          0.5937712124640397,
          0.5953550764456799,
          0.5968904547952292,
          0.5985712900410514,
          0.6015450754759675,
          0.6046481559297927,
          0.6055532210621586,
          0.6058441348547046,
          0.6059734298736141,
          0.6062966674208876,
          0.6067653618644342,
          0.6074118369589812,
          0.6095613666483499,
          0.6124705045738115,
          0.6154281281313638,
          0.6164786501600026,
          0.6178847334906423,
          0.6195978924911918,
          0.6208746808029222,
          0.6232181530206549,
          0.6259171865403885,
          0.6290525907489415,
          0.6311859585609465,
          0.6324465849953129,
          0.6336748876749525,
          0.6351294566376833,
          0.6378284901574167,
          0.6503054594821736,
          0.6574974949090089,
          0.659469243947377,
          0.6604712803439248,
          0.6607298703817435,
          0.6598732908814688,
          0.6585156931829201,
          0.6567378866729159,
          0.6558813071726413,
          0.6547661376345475,
          0.6546691663703657,
          0.6553802889743674,
          0.6560752497010054,
          0.657287390503281,
          0.6590975207680123,
          0.663590522675114,
          0.668164333969034,
          0.6729644115460451,
          0.6802372563596988,
          0.6832433655493422,
          0.6850534958140739,
          0.6914212754953615,
          0.7030416653198437,
          0.7134175905873226,
          0.7241005915247116,
          0.7331674047257328,
          0.7527071144584154,
          0.7715680253418238,
          0.7882470827811359,
          0.807560526230727,
          0.8265184083783172,
          0.84196916313799,
          0.856078482076478,
          0.8755535442997058,
          0.8931215049940202,
          0.9159097520768011,
          0.9394576073956753,
          0.9558942366745322,
          0.9734137117367554,
          0.9814300029091378,
          0.9859553285709668,
          0.9893008371852474,
          0.9909008630442513,
          0.9943110191679865,
          0.9983676503862688,
          1,
          1,
          0.9977211752917219
         ]
        },
        {
         "line": {
          "color": "#88d8b0",
          "width": 2
         },
         "mode": "lines",
         "name": "취업자수",
         "type": "scatter",
         "x": [
          "2000-01-01",
          "2000-02-01",
          "2000-03-01",
          "2000-04-01",
          "2000-05-01",
          "2000-06-01",
          "2000-07-01",
          "2000-08-01",
          "2000-09-01",
          "2000-10-01",
          "2000-11-01",
          "2000-12-01",
          "2001-01-01",
          "2001-02-01",
          "2001-03-01",
          "2001-04-01",
          "2001-05-01",
          "2001-06-01",
          "2001-07-01",
          "2001-08-01",
          "2001-09-01",
          "2001-10-01",
          "2001-11-01",
          "2001-12-01",
          "2002-01-01",
          "2002-02-01",
          "2002-03-01",
          "2002-04-01",
          "2002-05-01",
          "2002-06-01",
          "2002-07-01",
          "2002-08-01",
          "2002-09-01",
          "2002-10-01",
          "2002-11-01",
          "2002-12-01",
          "2003-01-01",
          "2003-02-01",
          "2003-03-01",
          "2003-04-01",
          "2003-05-01",
          "2003-06-01",
          "2003-07-01",
          "2003-08-01",
          "2003-09-01",
          "2003-10-01",
          "2003-11-01",
          "2003-12-01",
          "2004-01-01",
          "2004-02-01",
          "2004-03-01",
          "2004-04-01",
          "2004-05-01",
          "2004-06-01",
          "2004-07-01",
          "2004-08-01",
          "2004-09-01",
          "2004-10-01",
          "2004-11-01",
          "2004-12-01",
          "2005-01-01",
          "2005-02-01",
          "2005-03-01",
          "2005-04-01",
          "2005-05-01",
          "2005-06-01",
          "2005-07-01",
          "2005-08-01",
          "2005-09-01",
          "2005-10-01",
          "2005-11-01",
          "2005-12-01",
          "2006-01-01",
          "2006-02-01",
          "2006-03-01",
          "2006-04-01",
          "2006-05-01",
          "2006-06-01",
          "2006-07-01",
          "2006-08-01",
          "2006-09-01",
          "2006-10-01",
          "2006-11-01",
          "2006-12-01",
          "2007-01-01",
          "2007-02-01",
          "2007-03-01",
          "2007-04-01",
          "2007-05-01",
          "2007-06-01",
          "2007-07-01",
          "2007-08-01",
          "2007-09-01",
          "2007-10-01",
          "2007-11-01",
          "2007-12-01",
          "2008-01-01",
          "2008-02-01",
          "2008-03-01",
          "2008-04-01",
          "2008-05-01",
          "2008-06-01",
          "2008-07-01",
          "2008-08-01",
          "2008-09-01",
          "2008-10-01",
          "2008-11-01",
          "2008-12-01",
          "2009-01-01",
          "2009-02-01",
          "2009-03-01",
          "2009-04-01",
          "2009-05-01",
          "2009-06-01",
          "2009-07-01",
          "2009-08-01",
          "2009-09-01",
          "2009-10-01",
          "2009-11-01",
          "2009-12-01",
          "2010-01-01",
          "2010-02-01",
          "2010-03-01",
          "2010-04-01",
          "2010-05-01",
          "2010-06-01",
          "2010-07-01",
          "2010-08-01",
          "2010-09-01",
          "2010-10-01",
          "2010-11-01",
          "2010-12-01",
          "2011-01-01",
          "2011-02-01",
          "2011-03-01",
          "2011-04-01",
          "2011-05-01",
          "2011-06-01",
          "2011-07-01",
          "2011-08-01",
          "2011-09-01",
          "2011-10-01",
          "2011-11-01",
          "2011-12-01",
          "2012-01-01",
          "2012-02-01",
          "2012-03-01",
          "2012-04-01",
          "2012-05-01",
          "2012-06-01",
          "2012-07-01",
          "2012-08-01",
          "2012-09-01",
          "2012-10-01",
          "2012-11-01",
          "2012-12-01",
          "2013-01-01",
          "2013-02-01",
          "2013-03-01",
          "2013-04-01",
          "2013-05-01",
          "2013-06-01",
          "2013-07-01",
          "2013-08-01",
          "2013-09-01",
          "2013-10-01",
          "2013-11-01",
          "2013-12-01",
          "2014-01-01",
          "2014-02-01",
          "2014-03-01",
          "2014-04-01",
          "2014-05-01",
          "2014-06-01",
          "2014-07-01",
          "2014-08-01",
          "2014-09-01",
          "2014-10-01",
          "2014-11-01",
          "2014-12-01",
          "2015-01-01",
          "2015-02-01",
          "2015-03-01",
          "2015-04-01",
          "2015-05-01",
          "2015-06-01",
          "2015-07-01",
          "2015-08-01",
          "2015-09-01",
          "2015-10-01",
          "2015-11-01",
          "2015-12-01",
          "2016-01-01",
          "2016-02-01",
          "2016-03-01",
          "2016-04-01",
          "2016-05-01",
          "2016-06-01",
          "2016-07-01",
          "2016-08-01",
          "2016-09-01",
          "2016-10-01",
          "2016-11-01",
          "2016-12-01",
          "2017-01-01",
          "2017-02-01",
          "2017-03-01",
          "2017-04-01",
          "2017-05-01",
          "2017-06-01",
          "2017-07-01",
          "2017-08-01",
          "2017-09-01",
          "2017-10-01",
          "2017-11-01",
          "2017-12-01",
          "2018-01-01",
          "2018-02-01",
          "2018-03-01",
          "2018-04-01",
          "2018-05-01",
          "2018-06-01",
          "2018-07-01",
          "2018-08-01",
          "2018-09-01",
          "2018-10-01",
          "2018-11-01",
          "2018-12-01",
          "2019-01-01",
          "2019-02-01",
          "2019-03-01",
          "2019-04-01",
          "2019-05-01",
          "2019-06-01",
          "2019-07-01",
          "2019-08-01",
          "2019-09-01",
          "2019-10-01",
          "2019-11-01",
          "2019-12-01",
          "2020-01-01",
          "2020-02-01",
          "2020-03-01",
          "2020-04-01",
          "2020-05-01",
          "2020-06-01",
          "2020-07-01",
          "2020-08-01",
          "2020-09-01",
          "2020-10-01",
          "2020-11-01",
          "2020-12-01",
          "2021-01-01",
          "2021-02-01",
          "2021-03-01",
          "2021-04-01",
          "2021-05-01",
          "2021-06-01",
          "2021-07-01",
          "2021-08-01",
          "2021-09-01",
          "2021-10-01",
          "2021-11-01",
          "2021-12-01",
          "2022-01-01",
          "2022-02-01",
          "2022-03-01",
          "2022-04-01",
          "2022-05-01",
          "2022-06-01",
          "2022-07-01",
          "2022-08-01"
         ],
         "y": [
          0,
          0.006998654104979796,
          0.02180349932705239,
          0.026648721399730846,
          0.043876177658142446,
          0.051009421265141075,
          0.07039030955585446,
          0.07860026917900376,
          0.07617765814266475,
          0.08815612382234184,
          0.07860026917900376,
          0.06944818304172262,
          0.04212651413189761,
          0.0397039030955586,
          0.057065948855989035,
          0.1048452220726781,
          0.11655450874831752,
          0.11790040376850586,
          0.12314939434724081,
          0.13324360699865379,
          0.14118438761776586,
          0.14279946164199186,
          0.15168236877523533,
          0.15222072678331067,
          0.16096904441453574,
          0.17698519515477784,
          0.17456258411843883,
          0.1944818304172271,
          0.1896366083445491,
          0.19717362045760423,
          0.2002691790040374,
          0.20134589502018807,
          0.21170928667563915,
          0.2064602960969042,
          0.1978465679676984,
          0.21251682368775215,
          0.19434724091520827,
          0.19098250336473743,
          0.1858681022880213,
          0.17779273216689084,
          0.18075370121130518,
          0.1822341857335128,
          0.19259757738896344,
          0.19030955585464326,
          0.18990578734858676,
          0.1982503364737549,
          0.2044414535666217,
          0.22247644683714674,
          0.24831763122476413,
          0.2655450874831762,
          0.2639300134589502,
          0.2537012113055179,
          0.2371467025572005,
          0.24791386271870763,
          0.24024226110363367,
          0.2321668909825032,
          0.2647375504710632,
          0.2643337819650067,
          0.25800807537012105,
          0.27954239569313577,
          0.265679676985195,
          0.2698519515477793,
          0.2788694481830416,
          0.2694481830417228,
          0.271736204576043,
          0.27079407806191114,
          0.267294751009421,
          0.2652759084791385,
          0.27160161507402414,
          0.27994616419919227,
          0.290578734858681,
          0.2925975773889635,
          0.3092866756392998,
          0.3096904441453563,
          0.3146702557200536,
          0.3135935397039029,
          0.31763122476446837,
          0.31803499327052487,
          0.3177658142664872,
          0.3222072678331087,
          0.32422611036339166,
          0.3318977119784656,
          0.34145356662180326,
          0.3491251682368772,
          0.3611036339165543,
          0.36285329744279915,
          0.36675639300134577,
          0.36460296096904443,
          0.36554508748317627,
          0.3701211305518166,
          0.37025572005383545,
          0.3699865410497978,
          0.37321668909825023,
          0.3816958277254372,
          0.3899057873485865,
          0.3950201884253026,
          0.4028263795423954,
          0.4018842530282636,
          0.4014804845222071,
          0.4022880215343201,
          0.4022880215343201,
          0.40336473755047075,
          0.40471063257065953,
          0.4006729475100941,
          0.3962314939434721,
          0.4002691790040376,
          0.4044414535666214,
          0.3962314939434721,
          0.3916554508748318,
          0.38304172274562553,
          0.37456258411843857,
          0.37577388963660807,
          0.3707940780619112,
          0.4002691790040376,
          0.39017496635262416,
          0.3946164199192461,
          0.4028263795423954,
          0.4006729475100941,
          0.4006729475100941,
          0.3909825033647376,
          0.3890982503364735,
          0.39811574697173624,
          0.41144010767160166,
          0.43095558546433343,
          0.44966352624495265,
          0.4440107671601612,
          0.4551816958277253,
          0.4487213997308208,
          0.4411843876177657,
          0.4499327052489903,
          0.45006729475100915,
          0.46218034993270507,
          0.443337819650067,
          0.47146702557200504,
          0.48775235531628525,
          0.49434724091520854,
          0.5113055181695825,
          0.5218034993270524,
          0.5123822341857331,
          0.5227456258411842,
          0.4858681022880216,
          0.5266487213997308,
          0.5224764468371466,
          0.5278600269179003,
          0.5235531628532972,
          0.5371467025572003,
          0.5491251682368774,
          0.5598923283983845,
          0.5765814266487213,
          0.5713324360699863,
          0.5706594885598921,
          0.5658142664872137,
          0.5729475100942123,
          0.5740242261103634,
          0.563122476446837,
          0.5563930013458949,
          0.559488559892328,
          0.5541049798115747,
          0.5713324360699863,
          0.59650067294751,
          0.6021534320323014,
          0.6098250336473754,
          0.6115746971736202,
          0.6168236877523552,
          0.632301480484522,
          0.6388963660834452,
          0.6453566621803497,
          0.6382234185733511,
          0.6641991924629878,
          0.6761776581426648,
          0.669179004037685,
          0.6872139973082096,
          0.6706594885598922,
          0.6771197846567967,
          0.6913862718707939,
          0.7045760430686405,
          0.7002691790040374,
          0.6998654104979809,
          0.7076716016150737,
          0.6958277254374159,
          0.7107671601615073,
          0.7231493943472409,
          0.7087483176312244,
          0.7115746971736203,
          0.7154777927321665,
          0.7137281292059217,
          0.7263795423956929,
          0.7283983849259754,
          0.7364737550471063,
          0.7372812920592193,
          0.7352624495289364,
          0.7520861372812919,
          0.7458950201884251,
          0.740780619111709,
          0.7353970390309552,
          0.7358008075370117,
          0.7421265141318973,
          0.7523553162853296,
          0.7576043068640645,
          0.7711978465679676,
          0.7644683714670255,
          0.7683714670255717,
          0.7734858681022878,
          0.7851951547779272,
          0.7772543741588156,
          0.7886944818304169,
          0.7955585464333779,
          0.7939434724091519,
          0.7948855989232837,
          0.7940780619111707,
          0.8004037685060563,
          0.798250336473755,
          0.8068640646029608,
          0.8064602960969043,
          0.8064602960969043,
          0.8193808882907132,
          0.822745625841184,
          0.8005383580080752,
          0.8080753701211303,
          0.8122476446837146,
          0.8063257065948854,
          0.809152086137281,
          0.8034993270524895,
          0.7981157469717362,
          0.8133243606998652,
          0.8154777927321666,
          0.827187079407806,
          0.8231493943472405,
          0.8246298788694482,
          0.8352624495289365,
          0.8399730820995961,
          0.8374158815612383,
          0.8422611036339163,
          0.8472409152086136,
          0.8448183041722745,
          0.8576043068640642,
          0.860565275908479,
          0.8716016150740242,
          0.8701211305518166,
          0.8930013458950201,
          0.9022880215343201,
          0.9020188425302824,
          0.8115746971736204,
          0.7745625841184385,
          0.7915208613728129,
          0.8009421265141317,
          0.8098250336473751,
          0.8205921938088827,
          0.8086137281292056,
          0.8153432032301478,
          0.8327052489905786,
          0.8069986541049796,
          0.765679676985195,
          0.835666218034993,
          0.8532974427994615,
          0.8636608344549122,
          0.8749663526244951,
          0.878600269179004,
          0.8827725437415879,
          0.8890982503364735,
          0.8986541049798116,
          0.9025572005383578,
          0.905921938088829,
          0.9125168236877523,
          0.9216689098250335,
          0.9777927321668907,
          0.9651413189771194,
          0.981157469717362,
          1,
          0.9907133243606996,
          0.9932705248990579,
          0.9962314939434722
         ]
        },
        {
         "line": {
          "color": "#ffcc5c",
          "width": 2
         },
         "mode": "lines",
         "name": "가계대출금리",
         "type": "scatter",
         "x": [
          "2000-01-01",
          "2000-02-01",
          "2000-03-01",
          "2000-04-01",
          "2000-05-01",
          "2000-06-01",
          "2000-07-01",
          "2000-08-01",
          "2000-09-01",
          "2000-10-01",
          "2000-11-01",
          "2000-12-01",
          "2001-01-01",
          "2001-02-01",
          "2001-03-01",
          "2001-04-01",
          "2001-05-01",
          "2001-06-01",
          "2001-07-01",
          "2001-08-01",
          "2001-09-01",
          "2001-10-01",
          "2001-11-01",
          "2001-12-01",
          "2002-01-01",
          "2002-02-01",
          "2002-03-01",
          "2002-04-01",
          "2002-05-01",
          "2002-06-01",
          "2002-07-01",
          "2002-08-01",
          "2002-09-01",
          "2002-10-01",
          "2002-11-01",
          "2002-12-01",
          "2003-01-01",
          "2003-02-01",
          "2003-03-01",
          "2003-04-01",
          "2003-05-01",
          "2003-06-01",
          "2003-07-01",
          "2003-08-01",
          "2003-09-01",
          "2003-10-01",
          "2003-11-01",
          "2003-12-01",
          "2004-01-01",
          "2004-02-01",
          "2004-03-01",
          "2004-04-01",
          "2004-05-01",
          "2004-06-01",
          "2004-07-01",
          "2004-08-01",
          "2004-09-01",
          "2004-10-01",
          "2004-11-01",
          "2004-12-01",
          "2005-01-01",
          "2005-02-01",
          "2005-03-01",
          "2005-04-01",
          "2005-05-01",
          "2005-06-01",
          "2005-07-01",
          "2005-08-01",
          "2005-09-01",
          "2005-10-01",
          "2005-11-01",
          "2005-12-01",
          "2006-01-01",
          "2006-02-01",
          "2006-03-01",
          "2006-04-01",
          "2006-05-01",
          "2006-06-01",
          "2006-07-01",
          "2006-08-01",
          "2006-09-01",
          "2006-10-01",
          "2006-11-01",
          "2006-12-01",
          "2007-01-01",
          "2007-02-01",
          "2007-03-01",
          "2007-04-01",
          "2007-05-01",
          "2007-06-01",
          "2007-07-01",
          "2007-08-01",
          "2007-09-01",
          "2007-10-01",
          "2007-11-01",
          "2007-12-01",
          "2008-01-01",
          "2008-02-01",
          "2008-03-01",
          "2008-04-01",
          "2008-05-01",
          "2008-06-01",
          "2008-07-01",
          "2008-08-01",
          "2008-09-01",
          "2008-10-01",
          "2008-11-01",
          "2008-12-01",
          "2009-01-01",
          "2009-02-01",
          "2009-03-01",
          "2009-04-01",
          "2009-05-01",
          "2009-06-01",
          "2009-07-01",
          "2009-08-01",
          "2009-09-01",
          "2009-10-01",
          "2009-11-01",
          "2009-12-01",
          "2010-01-01",
          "2010-02-01",
          "2010-03-01",
          "2010-04-01",
          "2010-05-01",
          "2010-06-01",
          "2010-07-01",
          "2010-08-01",
          "2010-09-01",
          "2010-10-01",
          "2010-11-01",
          "2010-12-01",
          "2011-01-01",
          "2011-02-01",
          "2011-03-01",
          "2011-04-01",
          "2011-05-01",
          "2011-06-01",
          "2011-07-01",
          "2011-08-01",
          "2011-09-01",
          "2011-10-01",
          "2011-11-01",
          "2011-12-01",
          "2012-01-01",
          "2012-02-01",
          "2012-03-01",
          "2012-04-01",
          "2012-05-01",
          "2012-06-01",
          "2012-07-01",
          "2012-08-01",
          "2012-09-01",
          "2012-10-01",
          "2012-11-01",
          "2012-12-01",
          "2013-01-01",
          "2013-02-01",
          "2013-03-01",
          "2013-04-01",
          "2013-05-01",
          "2013-06-01",
          "2013-07-01",
          "2013-08-01",
          "2013-09-01",
          "2013-10-01",
          "2013-11-01",
          "2013-12-01",
          "2014-01-01",
          "2014-02-01",
          "2014-03-01",
          "2014-04-01",
          "2014-05-01",
          "2014-06-01",
          "2014-07-01",
          "2014-08-01",
          "2014-09-01",
          "2014-10-01",
          "2014-11-01",
          "2014-12-01",
          "2015-01-01",
          "2015-02-01",
          "2015-03-01",
          "2015-04-01",
          "2015-05-01",
          "2015-06-01",
          "2015-07-01",
          "2015-08-01",
          "2015-09-01",
          "2015-10-01",
          "2015-11-01",
          "2015-12-01",
          "2016-01-01",
          "2016-02-01",
          "2016-03-01",
          "2016-04-01",
          "2016-05-01",
          "2016-06-01",
          "2016-07-01",
          "2016-08-01",
          "2016-09-01",
          "2016-10-01",
          "2016-11-01",
          "2016-12-01",
          "2017-01-01",
          "2017-02-01",
          "2017-03-01",
          "2017-04-01",
          "2017-05-01",
          "2017-06-01",
          "2017-07-01",
          "2017-08-01",
          "2017-09-01",
          "2017-10-01",
          "2017-11-01",
          "2017-12-01",
          "2018-01-01",
          "2018-02-01",
          "2018-03-01",
          "2018-04-01",
          "2018-05-01",
          "2018-06-01",
          "2018-07-01",
          "2018-08-01",
          "2018-09-01",
          "2018-10-01",
          "2018-11-01",
          "2018-12-01",
          "2019-01-01",
          "2019-02-01",
          "2019-03-01",
          "2019-04-01",
          "2019-05-01",
          "2019-06-01",
          "2019-07-01",
          "2019-08-01",
          "2019-09-01",
          "2019-10-01",
          "2019-11-01",
          "2019-12-01",
          "2020-01-01",
          "2020-02-01",
          "2020-03-01",
          "2020-04-01",
          "2020-05-01",
          "2020-06-01",
          "2020-07-01",
          "2020-08-01",
          "2020-09-01",
          "2020-10-01",
          "2020-11-01",
          "2020-12-01",
          "2021-01-01",
          "2021-02-01",
          "2021-03-01",
          "2021-04-01",
          "2021-05-01",
          "2021-06-01",
          "2021-07-01",
          "2021-08-01",
          "2021-09-01",
          "2021-10-01",
          "2021-11-01",
          "2021-12-01",
          "2022-01-01",
          "2022-02-01",
          "2022-03-01",
          "2022-04-01",
          "2022-05-01",
          "2022-06-01",
          "2022-07-01",
          "2022-08-01"
         ],
         "y": [
          0.9999999999999999,
          0.9868247694334648,
          0.9881422924901185,
          0.9762845849802372,
          0.9762845849802372,
          0.9644268774703554,
          0.971014492753623,
          0.9512516469038207,
          0.9499341238471671,
          0.9604743083003952,
          0.9433465085638998,
          0.9130434782608695,
          0.8774703557312252,
          0.8669301712779974,
          0.828722002635046,
          0.8102766798418971,
          0.7891963109354411,
          0.7931488801054017,
          0.769433465085639,
          0.7180500658761527,
          0.6587615283267456,
          0.6324110671936758,
          0.608695652173913,
          0.5770750988142291,
          0.5665349143610012,
          0.5401844532279314,
          0.5454545454545454,
          0.5678524374176548,
          0.5849802371541502,
          0.5836627140974967,
          0.5836627140974967,
          0.5718050065876151,
          0.5625823451910408,
          0.592885375494071,
          0.603425559947299,
          0.6021080368906455,
          0.5942028985507245,
          0.5731225296442687,
          0.5810276679841896,
          0.5652173913043477,
          0.5388669301712778,
          0.5164690382081686,
          0.5085638998682477,
          0.47430830039525684,
          0.4598155467720685,
          0.4558629776021079,
          0.48221343873517775,
          0.49538866930171266,
          0.4993412384716731,
          0.4650856389986824,
          0.46903820816864294,
          0.46376811594202894,
          0.45718050065876137,
          0.4545454545454545,
          0.44400527009222657,
          0.4137022397891963,
          0.40974967061923584,
          0.40447957839262183,
          0.3978919631093544,
          0.386034255599473,
          0.38998682476943336,
          0.3913043478260868,
          0.4018445322793148,
          0.37944664031620545,
          0.367588932806324,
          0.3596837944664031,
          0.367588932806324,
          0.372859025032938,
          0.3886693017127799,
          0.41501976284584974,
          0.4071146245059287,
          0.4057971014492753,
          0.4137022397891963,
          0.4163372859025032,
          0.41238471673254273,
          0.40447957839262183,
          0.4071146245059287,
          0.41765480895915674,
          0.447957839262187,
          0.4584980237154149,
          0.44137022397891956,
          0.43346508563899855,
          0.43083003952569165,
          0.450592885375494,
          0.4808959156785243,
          0.48748353096179176,
          0.4967061923583662,
          0.4940711462450592,
          0.5059288537549406,
          0.49802371541501966,
          0.5046113306982871,
          0.5217391304347825,
          0.541501976284585,
          0.5480895915678523,
          0.5533596837944663,
          0.5849802371541502,
          0.6139657444005269,
          0.5797101449275361,
          0.5718050065876151,
          0.5849802371541502,
          0.5797101449275361,
          0.5770750988142291,
          0.6021080368906455,
          0.6324110671936758,
          0.6455862977602107,
          0.6877470355731224,
          0.66798418972332,
          0.587615283267457,
          0.43346508563899855,
          0.4189723320158103,
          0.40447957839262183,
          0.3886693017127799,
          0.386034255599473,
          0.38471673254281946,
          0.3992094861660078,
          0.4057971014492753,
          0.44927536231884047,
          0.46113306982872193,
          0.4545454545454545,
          0.447957839262187,
          0.45718050065876137,
          0.44400527009222657,
          0.42819499341238465,
          0.3833992094861659,
          0.3438735177865613,
          0.3425559947299077,
          0.3399209486166007,
          0.3570487483530961,
          0.3517786561264822,
          0.3504611330698286,
          0.3425559947299077,
          0.33333333333333326,
          0.3623188405797101,
          0.3570487483530961,
          0.37681159420289856,
          0.378129117259552,
          0.38735177865612647,
          0.38471673254281946,
          0.3833992094861659,
          0.3992094861660078,
          0.40974967061923584,
          0.3965744400527008,
          0.4018445322793148,
          0.37154150197628455,
          0.42819499341238465,
          0.4110671936758893,
          0.40447957839262183,
          0.3939393939393939,
          0.38998682476943336,
          0.372859025032938,
          0.3491436100131752,
          0.30961791831357044,
          0.30434782608695654,
          0.3017127799736494,
          0.2885375494071146,
          0.2621870882740448,
          0.3017127799736494,
          0.27140974967061926,
          0.26350461133069825,
          0.24637681159420288,
          0.23056653491436097,
          0.2055335968379447,
          0.2318840579710144,
          0.23451910408432142,
          0.22529644268774696,
          0.2187088274044795,
          0.2160737812911726,
          0.20421607378129114,
          0.2108036890645586,
          0.19762845849802368,
          0.20289855072463758,
          0.19631093544137024,
          0.19367588932806312,
          0.18313570487483533,
          0.18181818181818177,
          0.1594202898550724,
          0.1594202898550724,
          0.14361001317523053,
          0.13175230566534912,
          0.13175230566534912,
          0.13702239789196308,
          0.12252964426877466,
          0.08695652173913043,
          0.05401844532279315,
          0.09486166007905139,
          0.08827404479578393,
          0.08168642951251642,
          0.07641633728590247,
          0.07378129117259552,
          0.06719367588932806,
          0.08036890645586298,
          0.08959156785243738,
          0.09617918313570484,
          0.08695652173913043,
          0.09090909090909094,
          0.08168642951251642,
          0.08036890645586298,
          0.06719367588932806,
          0.05401844532279315,
          0.05270092226613965,
          0.06324110671936756,
          0.06982872200263507,
          0.08563899868247693,
          0.09749670619235834,
          0.11067193675889325,
          0.10935441370223975,
          0.11594202898550726,
          0.11330698287220026,
          0.12121212121212122,
          0.11330698287220026,
          0.11989459815546771,
          0.11067193675889325,
          0.11330698287220026,
          0.1264822134387351,
          0.13702239789196308,
          0.13965744400527008,
          0.152832674571805,
          0.14492753623188404,
          0.150197628458498,
          0.150197628458498,
          0.15810276679841895,
          0.1541501976284585,
          0.15546772068511194,
          0.14624505928853754,
          0.14097496706192358,
          0.14361001317523053,
          0.14229249011857703,
          0.13965744400527008,
          0.13570487483530963,
          0.12516469038208167,
          0.12911725955204212,
          0.12252964426877466,
          0.12384716732542822,
          0.09222661396574439,
          0.07509881422924902,
          0.04874835309617914,
          0.06192358366271411,
          0.06060606060606055,
          0.05401844532279315,
          0.0566534914361001,
          0.05270092226613965,
          0.04611330698287219,
          0.04347826086956519,
          0.04479578392621869,
          0.03425559947299078,
          0.01581027667984186,
          0.00922266139657446,
          0,
          0.005270092226613954,
          0.01185770750988141,
          0.022397891963109373,
          0.03162055335968378,
          0.03689064558629779,
          0.03425559947299078,
          0.04347826086956519,
          0.047430830039525695,
          0.04479578392621869,
          0.04874835309617914,
          0.0566534914361001,
          0.07246376811594202,
          0.08300395256916998,
          0.11989459815546771,
          0.13965744400527008,
          0.14624505928853754,
          0.17918313570487487,
          0.18181818181818177,
          0.18840579710144922,
          0.19762845849802368,
          0.20948616600790504,
          0.22134387351778662,
          0.26086956521739124,
          0.2911725955204215
         ]
        },
        {
         "line": {
          "color": "#ff6f69",
          "width": 6
         },
         "mode": "lines",
         "name": "주택전세가격지수",
         "type": "scatter",
         "x": [
          "2000-01-01",
          "2000-02-01",
          "2000-03-01",
          "2000-04-01",
          "2000-05-01",
          "2000-06-01",
          "2000-07-01",
          "2000-08-01",
          "2000-09-01",
          "2000-10-01",
          "2000-11-01",
          "2000-12-01",
          "2001-01-01",
          "2001-02-01",
          "2001-03-01",
          "2001-04-01",
          "2001-05-01",
          "2001-06-01",
          "2001-07-01",
          "2001-08-01",
          "2001-09-01",
          "2001-10-01",
          "2001-11-01",
          "2001-12-01",
          "2002-01-01",
          "2002-02-01",
          "2002-03-01",
          "2002-04-01",
          "2002-05-01",
          "2002-06-01",
          "2002-07-01",
          "2002-08-01",
          "2002-09-01",
          "2002-10-01",
          "2002-11-01",
          "2002-12-01",
          "2003-01-01",
          "2003-02-01",
          "2003-03-01",
          "2003-04-01",
          "2003-05-01",
          "2003-06-01",
          "2003-07-01",
          "2003-08-01",
          "2003-09-01",
          "2003-10-01",
          "2003-11-01",
          "2003-12-01",
          "2004-01-01",
          "2004-02-01",
          "2004-03-01",
          "2004-04-01",
          "2004-05-01",
          "2004-06-01",
          "2004-07-01",
          "2004-08-01",
          "2004-09-01",
          "2004-10-01",
          "2004-11-01",
          "2004-12-01",
          "2005-01-01",
          "2005-02-01",
          "2005-03-01",
          "2005-04-01",
          "2005-05-01",
          "2005-06-01",
          "2005-07-01",
          "2005-08-01",
          "2005-09-01",
          "2005-10-01",
          "2005-11-01",
          "2005-12-01",
          "2006-01-01",
          "2006-02-01",
          "2006-03-01",
          "2006-04-01",
          "2006-05-01",
          "2006-06-01",
          "2006-07-01",
          "2006-08-01",
          "2006-09-01",
          "2006-10-01",
          "2006-11-01",
          "2006-12-01",
          "2007-01-01",
          "2007-02-01",
          "2007-03-01",
          "2007-04-01",
          "2007-05-01",
          "2007-06-01",
          "2007-07-01",
          "2007-08-01",
          "2007-09-01",
          "2007-10-01",
          "2007-11-01",
          "2007-12-01",
          "2008-01-01",
          "2008-02-01",
          "2008-03-01",
          "2008-04-01",
          "2008-05-01",
          "2008-06-01",
          "2008-07-01",
          "2008-08-01",
          "2008-09-01",
          "2008-10-01",
          "2008-11-01",
          "2008-12-01",
          "2009-01-01",
          "2009-02-01",
          "2009-03-01",
          "2009-04-01",
          "2009-05-01",
          "2009-06-01",
          "2009-07-01",
          "2009-08-01",
          "2009-09-01",
          "2009-10-01",
          "2009-11-01",
          "2009-12-01",
          "2010-01-01",
          "2010-02-01",
          "2010-03-01",
          "2010-04-01",
          "2010-05-01",
          "2010-06-01",
          "2010-07-01",
          "2010-08-01",
          "2010-09-01",
          "2010-10-01",
          "2010-11-01",
          "2010-12-01",
          "2011-01-01",
          "2011-02-01",
          "2011-03-01",
          "2011-04-01",
          "2011-05-01",
          "2011-06-01",
          "2011-07-01",
          "2011-08-01",
          "2011-09-01",
          "2011-10-01",
          "2011-11-01",
          "2011-12-01",
          "2012-01-01",
          "2012-02-01",
          "2012-03-01",
          "2012-04-01",
          "2012-05-01",
          "2012-06-01",
          "2012-07-01",
          "2012-08-01",
          "2012-09-01",
          "2012-10-01",
          "2012-11-01",
          "2012-12-01",
          "2013-01-01",
          "2013-02-01",
          "2013-03-01",
          "2013-04-01",
          "2013-05-01",
          "2013-06-01",
          "2013-07-01",
          "2013-08-01",
          "2013-09-01",
          "2013-10-01",
          "2013-11-01",
          "2013-12-01",
          "2014-01-01",
          "2014-02-01",
          "2014-03-01",
          "2014-04-01",
          "2014-05-01",
          "2014-06-01",
          "2014-07-01",
          "2014-08-01",
          "2014-09-01",
          "2014-10-01",
          "2014-11-01",
          "2014-12-01",
          "2015-01-01",
          "2015-02-01",
          "2015-03-01",
          "2015-04-01",
          "2015-05-01",
          "2015-06-01",
          "2015-07-01",
          "2015-08-01",
          "2015-09-01",
          "2015-10-01",
          "2015-11-01",
          "2015-12-01",
          "2016-01-01",
          "2016-02-01",
          "2016-03-01",
          "2016-04-01",
          "2016-05-01",
          "2016-06-01",
          "2016-07-01",
          "2016-08-01",
          "2016-09-01",
          "2016-10-01",
          "2016-11-01",
          "2016-12-01",
          "2017-01-01",
          "2017-02-01",
          "2017-03-01",
          "2017-04-01",
          "2017-05-01",
          "2017-06-01",
          "2017-07-01",
          "2017-08-01",
          "2017-09-01",
          "2017-10-01",
          "2017-11-01",
          "2017-12-01",
          "2018-01-01",
          "2018-02-01",
          "2018-03-01",
          "2018-04-01",
          "2018-05-01",
          "2018-06-01",
          "2018-07-01",
          "2018-08-01",
          "2018-09-01",
          "2018-10-01",
          "2018-11-01",
          "2018-12-01",
          "2019-01-01",
          "2019-02-01",
          "2019-03-01",
          "2019-04-01",
          "2019-05-01",
          "2019-06-01",
          "2019-07-01",
          "2019-08-01",
          "2019-09-01",
          "2019-10-01",
          "2019-11-01",
          "2019-12-01",
          "2020-01-01",
          "2020-02-01",
          "2020-03-01",
          "2020-04-01",
          "2020-05-01",
          "2020-06-01",
          "2020-07-01",
          "2020-08-01",
          "2020-09-01",
          "2020-10-01",
          "2020-11-01",
          "2020-12-01",
          "2021-01-01",
          "2021-02-01",
          "2021-03-01",
          "2021-04-01",
          "2021-05-01",
          "2021-06-01",
          "2021-07-01",
          "2021-08-01",
          "2021-09-01",
          "2021-10-01",
          "2021-11-01",
          "2021-12-01",
          "2022-01-01",
          "2022-02-01",
          "2022-03-01",
          "2022-04-01",
          "2022-05-01",
          "2022-06-01",
          "2022-07-01",
          "2022-08-01"
         ],
         "y": [
          0,
          0.017042503973436984,
          0.030685948982642874,
          0.038648559334036325,
          0.039215069161408045,
          0.038082049506664384,
          0.039215069161408045,
          0.04831069916754527,
          0.060238878310541866,
          0.06706846900719154,
          0.06478669331361042,
          0.05740632917368249,
          0.05797283900105432,
          0.0733158134923757,
          0.08922529781106903,
          0.09775441798983442,
          0.1045840086864841,
          0.11083135317166826,
          0.12162651265992097,
          0.1392512628448236,
          0.15572725699088863,
          0.16140809164870096,
          0.16140809164870096,
          0.16368986734228208,
          0.1795993516609754,
          0.20120540702157463,
          0.21881442082238345,
          0.22904307048326433,
          0.2318913560042174,
          0.2318913560042174,
          0.23472390514107677,
          0.24325302531984205,
          0.25348167498072305,
          0.2523486553259793,
          0.24438604497458583,
          0.23985396635561074,
          0.23927172014414533,
          0.24553480101342318,
          0.25178214549860733,
          0.2523486553259793,
          0.25064912584386356,
          0.24553480101342318,
          0.24106566793082296,
          0.23999559381245372,
          0.2428438793334068,
          0.24339465277668493,
          0.2377295545029663,
          0.2279887327489889,
          0.22411758226194778,
          0.22589579366453183,
          0.22882276110595312,
          0.22937353454923126,
          0.2274064865375235,
          0.2205768958408737,
          0.2143610241238768,
          0.2067131414543567,
          0.2029364092718775,
          0.19941145923489711,
          0.19349457881567977,
          0.18729444348277657,
          0.1836121296048594,
          0.18517003163013213,
          0.1886162997466443,
          0.19141737611531628,
          0.19229861362456135,
          0.19360473350433538,
          0.19445449824539318,
          0.1960124002706659,
          0.20235416306041198,
          0.20773600642044476,
          0.20960863612759062,
          0.2108675468550837,
          0.2137630415283177,
          0.21722504602892356,
          0.2232678175208901,
          0.22784710529214602,
          0.23075833634947363,
          0.23168678301099976,
          0.23215887453380968,
          0.23376398571136336,
          0.24070373109666865,
          0.24935874234818334,
          0.25785638975876135,
          0.2626717232914221,
          0.2663383007852457,
          0.2688875950084191,
          0.2723810722772121,
          0.2754339307913828,
          0.27595323146647366,
          0.27607912253922307,
          0.2768816781279998,
          0.2779517522463689,
          0.28056399200591686,
          0.2825939855539994,
          0.2838214235133052,
          0.2844036697247707,
          0.2857569987568257,
          0.2881961382913434,
          0.29384550018096844,
          0.29894408862731525,
          0.30147764646639497,
          0.3043416683714417,
          0.3062929799990558,
          0.3077249909515791,
          0.311045367995342,
          0.31220986041827314,
          0.3091884746722898,
          0.29908571608415824,
          0.2907296961304232,
          0.2887783845028089,
          0.2895179945552112,
          0.2910129510441092,
          0.2928068988307867,
          0.29516735644483605,
          0.2981730058067258,
          0.3024375658961085,
          0.31513682785969444,
          0.32166742725856456,
          0.32681322485719233,
          0.3291736824712418,
          0.33188034053535187,
          0.33760838434544516,
          0.3438872015988167,
          0.3497411364816593,
          0.35356507781641944,
          0.35729460084661746,
          0.3597966859175099,
          0.3632114812658348,
          0.369317198294176,
          0.3773427541819441,
          0.3873983036177948,
          0.394574094764505,
          0.4029773238705211,
          0.4190284356460574,
          0.43662171306277253,
          0.4489433018081106,
          0.45751963113915695,
          0.46434922183580674,
          0.47270524178954143,
          0.48422427494610276,
          0.49911089429870814,
          0.5089146615890601,
          0.5146112326309662,
          0.5155711520606796,
          0.518309282892977,
          0.5224636882937039,
          0.5276881678127998,
          0.5323461375045242,
          0.534376131052607,
          0.5357294600846618,
          0.5372244165735598,
          0.538373172612397,
          0.542118432026689,
          0.5477835303004075,
          0.5521425086943521,
          0.554487229924308,
          0.557099469683856,
          0.5601995373503077,
          0.56523518026028,
          0.5694210584291941,
          0.5715926794341197,
          0.5742049191936676,
          0.5784852156671441,
          0.5850787606023888,
          0.5945520638267741,
          0.6051269139377153,
          0.612853478527704,
          0.6198089602971031,
          0.624813130438888,
          0.6306198561694496,
          0.6370560372637575,
          0.6413678065054211,
          0.6431302815239115,
          0.6452861661447433,
          0.6474892599178561,
          0.6502588635183406,
          0.65450768722363,
          0.6585834107038886,
          0.6620296788204008,
          0.6660581931483784,
          0.6693785701921413,
          0.6736746030497112,
          0.6811493854942012,
          0.688954632004658,
          0.6942892662124096,
          0.701197538829528,
          0.7077753473806789,
          0.7134561820384913,
          0.7206634459533889,
          0.7259508710088596,
          0.732465734023636,
          0.735880529371961,
          0.7384298235951343,
          0.7409004358978395,
          0.7428674839095473,
          0.7443309676302581,
          0.7458416605032494,
          0.7471163076148362,
          0.7484696366468913,
          0.7497285473743844,
          0.7510504036382519,
          0.7534265976363952,
          0.7559444190913813,
          0.7568571293688136,
          0.7573292208916236,
          0.7576439485734967,
          0.7579429398712765,
          0.7582104584008686,
          0.758572395235023,
          0.7594693691283618,
          0.76049223409445,
          0.7612947896832267,
          0.7618612995105984,
          0.7625851731789071,
          0.762868428092593,
          0.7630257919335297,
          0.7632461013108409,
          0.7634034651517776,
          0.7632775740790281,
          0.7629943191653421,
          0.7622547091129401,
          0.7614836262923508,
          0.7609328528490724,
          0.7607597526240422,
          0.7629785827812487,
          0.7643319118133036,
          0.7648040033361136,
          0.7646623758792706,
          0.7641902843564607,
          0.7620501361197223,
          0.7598155695784223,
          0.7576439485734967,
          0.7564322469982847,
          0.7550789179662296,
          0.7542134168410783,
          0.7541504713047036,
          0.7539773710796733,
          0.7547169811320755,
          0.7557241097140699,
          0.7578327851826208,
          0.7600516153398273,
          0.762443545722064,
          0.7648040033361136,
          0.765858341070389,
          0.7667081058114467,
          0.7703904196893638,
          0.7763387728767683,
          0.783498827639385,
          0.7953797976301007,
          0.8068201488661935,
          0.8302988339339388,
          0.8459565361071333,
          0.8578847152501299,
          0.8687900294270383,
          0.8789557335515445,
          0.8877995814121831,
          0.8962500196704801,
          0.9093112184682204,
          0.9227028813319276,
          0.938234692432373,
          0.9529639479440415,
          0.9624529875525201,
          0.973814656868145,
          0.9805340928761388,
          0.9848143893496153,
          0.9882291846979401,
          0.990007396100524,
          0.9934379278329426,
          0.9972303963995155,
          0.9994177537885345,
          1,
          0.9985994618156642
         ]
        }
       ],
       "layout": {
        "margin": {
         "b": 0,
         "l": 0,
         "r": 0,
         "t": 0
        },
        "plot_bgcolor": "rgb(249,249,249)",
        "template": {
         "data": {
          "bar": [
           {
            "error_x": {
             "color": "#2a3f5f"
            },
            "error_y": {
             "color": "#2a3f5f"
            },
            "marker": {
             "line": {
              "color": "#E5ECF6",
              "width": 0.5
             },
             "pattern": {
              "fillmode": "overlay",
              "size": 10,
              "solidity": 0.2
             }
            },
            "type": "bar"
           }
          ],
          "barpolar": [
           {
            "marker": {
             "line": {
              "color": "#E5ECF6",
              "width": 0.5
             },
             "pattern": {
              "fillmode": "overlay",
              "size": 10,
              "solidity": 0.2
             }
            },
            "type": "barpolar"
           }
          ],
          "carpet": [
           {
            "aaxis": {
             "endlinecolor": "#2a3f5f",
             "gridcolor": "white",
             "linecolor": "white",
             "minorgridcolor": "white",
             "startlinecolor": "#2a3f5f"
            },
            "baxis": {
             "endlinecolor": "#2a3f5f",
             "gridcolor": "white",
             "linecolor": "white",
             "minorgridcolor": "white",
             "startlinecolor": "#2a3f5f"
            },
            "type": "carpet"
           }
          ],
          "choropleth": [
           {
            "colorbar": {
             "outlinewidth": 0,
             "ticks": ""
            },
            "type": "choropleth"
           }
          ],
          "contour": [
           {
            "colorbar": {
             "outlinewidth": 0,
             "ticks": ""
            },
            "colorscale": [
             [
              0,
              "#0d0887"
             ],
             [
              0.1111111111111111,
              "#46039f"
             ],
             [
              0.2222222222222222,
              "#7201a8"
             ],
             [
              0.3333333333333333,
              "#9c179e"
             ],
             [
              0.4444444444444444,
              "#bd3786"
             ],
             [
              0.5555555555555556,
              "#d8576b"
             ],
             [
              0.6666666666666666,
              "#ed7953"
             ],
             [
              0.7777777777777778,
              "#fb9f3a"
             ],
             [
              0.8888888888888888,
              "#fdca26"
             ],
             [
              1,
              "#f0f921"
             ]
            ],
            "type": "contour"
           }
          ],
          "contourcarpet": [
           {
            "colorbar": {
             "outlinewidth": 0,
             "ticks": ""
            },
            "type": "contourcarpet"
           }
          ],
          "heatmap": [
           {
            "colorbar": {
             "outlinewidth": 0,
             "ticks": ""
            },
            "colorscale": [
             [
              0,
              "#0d0887"
             ],
             [
              0.1111111111111111,
              "#46039f"
             ],
             [
              0.2222222222222222,
              "#7201a8"
             ],
             [
              0.3333333333333333,
              "#9c179e"
             ],
             [
              0.4444444444444444,
              "#bd3786"
             ],
             [
              0.5555555555555556,
              "#d8576b"
             ],
             [
              0.6666666666666666,
              "#ed7953"
             ],
             [
              0.7777777777777778,
              "#fb9f3a"
             ],
             [
              0.8888888888888888,
              "#fdca26"
             ],
             [
              1,
              "#f0f921"
             ]
            ],
            "type": "heatmap"
           }
          ],
          "heatmapgl": [
           {
            "colorbar": {
             "outlinewidth": 0,
             "ticks": ""
            },
            "colorscale": [
             [
              0,
              "#0d0887"
             ],
             [
              0.1111111111111111,
              "#46039f"
             ],
             [
              0.2222222222222222,
              "#7201a8"
             ],
             [
              0.3333333333333333,
              "#9c179e"
             ],
             [
              0.4444444444444444,
              "#bd3786"
             ],
             [
              0.5555555555555556,
              "#d8576b"
             ],
             [
              0.6666666666666666,
              "#ed7953"
             ],
             [
              0.7777777777777778,
              "#fb9f3a"
             ],
             [
              0.8888888888888888,
              "#fdca26"
             ],
             [
              1,
              "#f0f921"
             ]
            ],
            "type": "heatmapgl"
           }
          ],
          "histogram": [
           {
            "marker": {
             "pattern": {
              "fillmode": "overlay",
              "size": 10,
              "solidity": 0.2
             }
            },
            "type": "histogram"
           }
          ],
          "histogram2d": [
           {
            "colorbar": {
             "outlinewidth": 0,
             "ticks": ""
            },
            "colorscale": [
             [
              0,
              "#0d0887"
             ],
             [
              0.1111111111111111,
              "#46039f"
             ],
             [
              0.2222222222222222,
              "#7201a8"
             ],
             [
              0.3333333333333333,
              "#9c179e"
             ],
             [
              0.4444444444444444,
              "#bd3786"
             ],
             [
              0.5555555555555556,
              "#d8576b"
             ],
             [
              0.6666666666666666,
              "#ed7953"
             ],
             [
              0.7777777777777778,
              "#fb9f3a"
             ],
             [
              0.8888888888888888,
              "#fdca26"
             ],
             [
              1,
              "#f0f921"
             ]
            ],
            "type": "histogram2d"
           }
          ],
          "histogram2dcontour": [
           {
            "colorbar": {
             "outlinewidth": 0,
             "ticks": ""
            },
            "colorscale": [
             [
              0,
              "#0d0887"
             ],
             [
              0.1111111111111111,
              "#46039f"
             ],
             [
              0.2222222222222222,
              "#7201a8"
             ],
             [
              0.3333333333333333,
              "#9c179e"
             ],
             [
              0.4444444444444444,
              "#bd3786"
             ],
             [
              0.5555555555555556,
              "#d8576b"
             ],
             [
              0.6666666666666666,
              "#ed7953"
             ],
             [
              0.7777777777777778,
              "#fb9f3a"
             ],
             [
              0.8888888888888888,
              "#fdca26"
             ],
             [
              1,
              "#f0f921"
             ]
            ],
            "type": "histogram2dcontour"
           }
          ],
          "mesh3d": [
           {
            "colorbar": {
             "outlinewidth": 0,
             "ticks": ""
            },
            "type": "mesh3d"
           }
          ],
          "parcoords": [
           {
            "line": {
             "colorbar": {
              "outlinewidth": 0,
              "ticks": ""
             }
            },
            "type": "parcoords"
           }
          ],
          "pie": [
           {
            "automargin": true,
            "type": "pie"
           }
          ],
          "scatter": [
           {
            "fillpattern": {
             "fillmode": "overlay",
             "size": 10,
             "solidity": 0.2
            },
            "type": "scatter"
           }
          ],
          "scatter3d": [
           {
            "line": {
             "colorbar": {
              "outlinewidth": 0,
              "ticks": ""
             }
            },
            "marker": {
             "colorbar": {
              "outlinewidth": 0,
              "ticks": ""
             }
            },
            "type": "scatter3d"
           }
          ],
          "scattercarpet": [
           {
            "marker": {
             "colorbar": {
              "outlinewidth": 0,
              "ticks": ""
             }
            },
            "type": "scattercarpet"
           }
          ],
          "scattergeo": [
           {
            "marker": {
             "colorbar": {
              "outlinewidth": 0,
              "ticks": ""
             }
            },
            "type": "scattergeo"
           }
          ],
          "scattergl": [
           {
            "marker": {
             "colorbar": {
              "outlinewidth": 0,
              "ticks": ""
             }
            },
            "type": "scattergl"
           }
          ],
          "scattermapbox": [
           {
            "marker": {
             "colorbar": {
              "outlinewidth": 0,
              "ticks": ""
             }
            },
            "type": "scattermapbox"
           }
          ],
          "scatterpolar": [
           {
            "marker": {
             "colorbar": {
              "outlinewidth": 0,
              "ticks": ""
             }
            },
            "type": "scatterpolar"
           }
          ],
          "scatterpolargl": [
           {
            "marker": {
             "colorbar": {
              "outlinewidth": 0,
              "ticks": ""
             }
            },
            "type": "scatterpolargl"
           }
          ],
          "scatterternary": [
           {
            "marker": {
             "colorbar": {
              "outlinewidth": 0,
              "ticks": ""
             }
            },
            "type": "scatterternary"
           }
          ],
          "surface": [
           {
            "colorbar": {
             "outlinewidth": 0,
             "ticks": ""
            },
            "colorscale": [
             [
              0,
              "#0d0887"
             ],
             [
              0.1111111111111111,
              "#46039f"
             ],
             [
              0.2222222222222222,
              "#7201a8"
             ],
             [
              0.3333333333333333,
              "#9c179e"
             ],
             [
              0.4444444444444444,
              "#bd3786"
             ],
             [
              0.5555555555555556,
              "#d8576b"
             ],
             [
              0.6666666666666666,
              "#ed7953"
             ],
             [
              0.7777777777777778,
              "#fb9f3a"
             ],
             [
              0.8888888888888888,
              "#fdca26"
             ],
             [
              1,
              "#f0f921"
             ]
            ],
            "type": "surface"
           }
          ],
          "table": [
           {
            "cells": {
             "fill": {
              "color": "#EBF0F8"
             },
             "line": {
              "color": "white"
             }
            },
            "header": {
             "fill": {
              "color": "#C8D4E3"
             },
             "line": {
              "color": "white"
             }
            },
            "type": "table"
           }
          ]
         },
         "layout": {
          "annotationdefaults": {
           "arrowcolor": "#2a3f5f",
           "arrowhead": 0,
           "arrowwidth": 1
          },
          "autotypenumbers": "strict",
          "coloraxis": {
           "colorbar": {
            "outlinewidth": 0,
            "ticks": ""
           }
          },
          "colorscale": {
           "diverging": [
            [
             0,
             "#8e0152"
            ],
            [
             0.1,
             "#c51b7d"
            ],
            [
             0.2,
             "#de77ae"
            ],
            [
             0.3,
             "#f1b6da"
            ],
            [
             0.4,
             "#fde0ef"
            ],
            [
             0.5,
             "#f7f7f7"
            ],
            [
             0.6,
             "#e6f5d0"
            ],
            [
             0.7,
             "#b8e186"
            ],
            [
             0.8,
             "#7fbc41"
            ],
            [
             0.9,
             "#4d9221"
            ],
            [
             1,
             "#276419"
            ]
           ],
           "sequential": [
            [
             0,
             "#0d0887"
            ],
            [
             0.1111111111111111,
             "#46039f"
            ],
            [
             0.2222222222222222,
             "#7201a8"
            ],
            [
             0.3333333333333333,
             "#9c179e"
            ],
            [
             0.4444444444444444,
             "#bd3786"
            ],
            [
             0.5555555555555556,
             "#d8576b"
            ],
            [
             0.6666666666666666,
             "#ed7953"
            ],
            [
             0.7777777777777778,
             "#fb9f3a"
            ],
            [
             0.8888888888888888,
             "#fdca26"
            ],
            [
             1,
             "#f0f921"
            ]
           ],
           "sequentialminus": [
            [
             0,
             "#0d0887"
            ],
            [
             0.1111111111111111,
             "#46039f"
            ],
            [
             0.2222222222222222,
             "#7201a8"
            ],
            [
             0.3333333333333333,
             "#9c179e"
            ],
            [
             0.4444444444444444,
             "#bd3786"
            ],
            [
             0.5555555555555556,
             "#d8576b"
            ],
            [
             0.6666666666666666,
             "#ed7953"
            ],
            [
             0.7777777777777778,
             "#fb9f3a"
            ],
            [
             0.8888888888888888,
             "#fdca26"
            ],
            [
             1,
             "#f0f921"
            ]
           ]
          },
          "colorway": [
           "#636efa",
           "#EF553B",
           "#00cc96",
           "#ab63fa",
           "#FFA15A",
           "#19d3f3",
           "#FF6692",
           "#B6E880",
           "#FF97FF",
           "#FECB52"
          ],
          "font": {
           "color": "#2a3f5f"
          },
          "geo": {
           "bgcolor": "white",
           "lakecolor": "white",
           "landcolor": "#E5ECF6",
           "showlakes": true,
           "showland": true,
           "subunitcolor": "white"
          },
          "hoverlabel": {
           "align": "left"
          },
          "hovermode": "closest",
          "mapbox": {
           "style": "light"
          },
          "paper_bgcolor": "white",
          "plot_bgcolor": "#E5ECF6",
          "polar": {
           "angularaxis": {
            "gridcolor": "white",
            "linecolor": "white",
            "ticks": ""
           },
           "bgcolor": "#E5ECF6",
           "radialaxis": {
            "gridcolor": "white",
            "linecolor": "white",
            "ticks": ""
           }
          },
          "scene": {
           "xaxis": {
            "backgroundcolor": "#E5ECF6",
            "gridcolor": "white",
            "gridwidth": 2,
            "linecolor": "white",
            "showbackground": true,
            "ticks": "",
            "zerolinecolor": "white"
           },
           "yaxis": {
            "backgroundcolor": "#E5ECF6",
            "gridcolor": "white",
            "gridwidth": 2,
            "linecolor": "white",
            "showbackground": true,
            "ticks": "",
            "zerolinecolor": "white"
           },
           "zaxis": {
            "backgroundcolor": "#E5ECF6",
            "gridcolor": "white",
            "gridwidth": 2,
            "linecolor": "white",
            "showbackground": true,
            "ticks": "",
            "zerolinecolor": "white"
           }
          },
          "shapedefaults": {
           "line": {
            "color": "#2a3f5f"
           }
          },
          "ternary": {
           "aaxis": {
            "gridcolor": "white",
            "linecolor": "white",
            "ticks": ""
           },
           "baxis": {
            "gridcolor": "white",
            "linecolor": "white",
            "ticks": ""
           },
           "bgcolor": "#E5ECF6",
           "caxis": {
            "gridcolor": "white",
            "linecolor": "white",
            "ticks": ""
           }
          },
          "title": {
           "x": 0.05
          },
          "xaxis": {
           "automargin": true,
           "gridcolor": "white",
           "linecolor": "white",
           "ticks": "",
           "title": {
            "standoff": 15
           },
           "zerolinecolor": "white",
           "zerolinewidth": 2
          },
          "yaxis": {
           "automargin": true,
           "gridcolor": "white",
           "linecolor": "white",
           "ticks": "",
           "title": {
            "standoff": 15
           },
           "zerolinecolor": "white",
           "zerolinewidth": 2
          }
         }
        },
        "title": {
         "text": "일반화 이전 추이 그래프",
         "x": 0.5
        },
        "xaxis": {
         "rangeselector": {
          "buttons": [
           {
            "count": 1,
            "label": "한달",
            "step": "month",
            "stepmode": "backward"
           },
           {
            "count": 6,
            "label": "6개월",
            "step": "month",
            "stepmode": "backward"
           },
           {
            "count": 1,
            "label": "1년",
            "step": "year",
            "stepmode": "backward"
           },
           {
            "count": 1,
            "label": "올해",
            "step": "year",
            "stepmode": "todate"
           },
           {
            "label": "전체(2000.01~2022.08)",
            "step": "all"
           }
          ]
         },
         "rangeslider": {
          "visible": true
         },
         "type": "date"
        }
       }
      },
      "text/html": [
       "<div>                            <div id=\"eb24522b-c155-4f71-aeeb-70275652209f\" class=\"plotly-graph-div\" style=\"height:525px; width:100%;\"></div>            <script type=\"text/javascript\">                require([\"plotly\"], function(Plotly) {                    window.PLOTLYENV=window.PLOTLYENV || {};                                    if (document.getElementById(\"eb24522b-c155-4f71-aeeb-70275652209f\")) {                    Plotly.newPlot(                        \"eb24522b-c155-4f71-aeeb-70275652209f\",                        [{\"line\":{\"color\":\"#ffeead\",\"width\":2},\"mode\":\"lines\",\"name\":\"\\uac00\\uacc4\\uc608\\uae08\\ucd1d\\uae08\\uc561\",\"x\":[\"2000-01-01\",\"2000-02-01\",\"2000-03-01\",\"2000-04-01\",\"2000-05-01\",\"2000-06-01\",\"2000-07-01\",\"2000-08-01\",\"2000-09-01\",\"2000-10-01\",\"2000-11-01\",\"2000-12-01\",\"2001-01-01\",\"2001-02-01\",\"2001-03-01\",\"2001-04-01\",\"2001-05-01\",\"2001-06-01\",\"2001-07-01\",\"2001-08-01\",\"2001-09-01\",\"2001-10-01\",\"2001-11-01\",\"2001-12-01\",\"2002-01-01\",\"2002-02-01\",\"2002-03-01\",\"2002-04-01\",\"2002-05-01\",\"2002-06-01\",\"2002-07-01\",\"2002-08-01\",\"2002-09-01\",\"2002-10-01\",\"2002-11-01\",\"2002-12-01\",\"2003-01-01\",\"2003-02-01\",\"2003-03-01\",\"2003-04-01\",\"2003-05-01\",\"2003-06-01\",\"2003-07-01\",\"2003-08-01\",\"2003-09-01\",\"2003-10-01\",\"2003-11-01\",\"2003-12-01\",\"2004-01-01\",\"2004-02-01\",\"2004-03-01\",\"2004-04-01\",\"2004-05-01\",\"2004-06-01\",\"2004-07-01\",\"2004-08-01\",\"2004-09-01\",\"2004-10-01\",\"2004-11-01\",\"2004-12-01\",\"2005-01-01\",\"2005-02-01\",\"2005-03-01\",\"2005-04-01\",\"2005-05-01\",\"2005-06-01\",\"2005-07-01\",\"2005-08-01\",\"2005-09-01\",\"2005-10-01\",\"2005-11-01\",\"2005-12-01\",\"2006-01-01\",\"2006-02-01\",\"2006-03-01\",\"2006-04-01\",\"2006-05-01\",\"2006-06-01\",\"2006-07-01\",\"2006-08-01\",\"2006-09-01\",\"2006-10-01\",\"2006-11-01\",\"2006-12-01\",\"2007-01-01\",\"2007-02-01\",\"2007-03-01\",\"2007-04-01\",\"2007-05-01\",\"2007-06-01\",\"2007-07-01\",\"2007-08-01\",\"2007-09-01\",\"2007-10-01\",\"2007-11-01\",\"2007-12-01\",\"2008-01-01\",\"2008-02-01\",\"2008-03-01\",\"2008-04-01\",\"2008-05-01\",\"2008-06-01\",\"2008-07-01\",\"2008-08-01\",\"2008-09-01\",\"2008-10-01\",\"2008-11-01\",\"2008-12-01\",\"2009-01-01\",\"2009-02-01\",\"2009-03-01\",\"2009-04-01\",\"2009-05-01\",\"2009-06-01\",\"2009-07-01\",\"2009-08-01\",\"2009-09-01\",\"2009-10-01\",\"2009-11-01\",\"2009-12-01\",\"2010-01-01\",\"2010-02-01\",\"2010-03-01\",\"2010-04-01\",\"2010-05-01\",\"2010-06-01\",\"2010-07-01\",\"2010-08-01\",\"2010-09-01\",\"2010-10-01\",\"2010-11-01\",\"2010-12-01\",\"2011-01-01\",\"2011-02-01\",\"2011-03-01\",\"2011-04-01\",\"2011-05-01\",\"2011-06-01\",\"2011-07-01\",\"2011-08-01\",\"2011-09-01\",\"2011-10-01\",\"2011-11-01\",\"2011-12-01\",\"2012-01-01\",\"2012-02-01\",\"2012-03-01\",\"2012-04-01\",\"2012-05-01\",\"2012-06-01\",\"2012-07-01\",\"2012-08-01\",\"2012-09-01\",\"2012-10-01\",\"2012-11-01\",\"2012-12-01\",\"2013-01-01\",\"2013-02-01\",\"2013-03-01\",\"2013-04-01\",\"2013-05-01\",\"2013-06-01\",\"2013-07-01\",\"2013-08-01\",\"2013-09-01\",\"2013-10-01\",\"2013-11-01\",\"2013-12-01\",\"2014-01-01\",\"2014-02-01\",\"2014-03-01\",\"2014-04-01\",\"2014-05-01\",\"2014-06-01\",\"2014-07-01\",\"2014-08-01\",\"2014-09-01\",\"2014-10-01\",\"2014-11-01\",\"2014-12-01\",\"2015-01-01\",\"2015-02-01\",\"2015-03-01\",\"2015-04-01\",\"2015-05-01\",\"2015-06-01\",\"2015-07-01\",\"2015-08-01\",\"2015-09-01\",\"2015-10-01\",\"2015-11-01\",\"2015-12-01\",\"2016-01-01\",\"2016-02-01\",\"2016-03-01\",\"2016-04-01\",\"2016-05-01\",\"2016-06-01\",\"2016-07-01\",\"2016-08-01\",\"2016-09-01\",\"2016-10-01\",\"2016-11-01\",\"2016-12-01\",\"2017-01-01\",\"2017-02-01\",\"2017-03-01\",\"2017-04-01\",\"2017-05-01\",\"2017-06-01\",\"2017-07-01\",\"2017-08-01\",\"2017-09-01\",\"2017-10-01\",\"2017-11-01\",\"2017-12-01\",\"2018-01-01\",\"2018-02-01\",\"2018-03-01\",\"2018-04-01\",\"2018-05-01\",\"2018-06-01\",\"2018-07-01\",\"2018-08-01\",\"2018-09-01\",\"2018-10-01\",\"2018-11-01\",\"2018-12-01\",\"2019-01-01\",\"2019-02-01\",\"2019-03-01\",\"2019-04-01\",\"2019-05-01\",\"2019-06-01\",\"2019-07-01\",\"2019-08-01\",\"2019-09-01\",\"2019-10-01\",\"2019-11-01\",\"2019-12-01\",\"2020-01-01\",\"2020-02-01\",\"2020-03-01\",\"2020-04-01\",\"2020-05-01\",\"2020-06-01\",\"2020-07-01\",\"2020-08-01\",\"2020-09-01\",\"2020-10-01\",\"2020-11-01\",\"2020-12-01\",\"2021-01-01\",\"2021-02-01\",\"2021-03-01\",\"2021-04-01\",\"2021-05-01\",\"2021-06-01\",\"2021-07-01\",\"2021-08-01\",\"2021-09-01\",\"2021-10-01\",\"2021-11-01\",\"2021-12-01\",\"2022-01-01\",\"2022-02-01\",\"2022-03-01\",\"2022-04-01\",\"2022-05-01\",\"2022-06-01\",\"2022-07-01\",\"2022-08-01\"],\"y\":[0.0,0.017360457828653197,0.022016432191046098,0.02770502547438175,0.033414021936999994,0.042069953935539695,0.03998415716491133,0.046171615969179125,0.057027353343193365,0.06457294744016423,0.06746007518337949,0.07405466307653785,0.07445260294727823,0.0754215203390105,0.07625291095741066,0.0845968767872251,0.08507175689129065,0.0905644173537295,0.096156134472838,0.09682367665913677,0.10746666027055551,0.10621163112048654,0.112383359229277,0.1195763365484176,0.11813985927724785,0.131920415763839,0.1313013116596538,0.1367530100140673,0.13683119624307383,0.1397303166947224,0.1393577639859901,0.14684713252783865,0.15497382786071273,0.15378031974741174,0.16172276346890185,0.16798139977646842,0.16897040884856296,0.17408381937548206,0.17529118919073827,0.1809624942839948,0.17794843073073918,0.18093523812846468,0.1775235462033889,0.17855460762972997,0.17707794699783574,0.17747775586209824,0.17791260835489953,0.18309844238079875,0.18908981261470953,0.19239185691982402,0.19847885732228054,0.19273653047518546,0.1877955346006771,0.18770862640190095,0.1855268879638064,0.17965824830451144,0.18544449649937517,0.1778267904023445,0.17763054608252732,0.18329281770709388,0.18283553729202784,0.18677210489788448,0.18374900787593879,0.18697956317883413,0.1844649881443512,0.19223610745965164,0.18943028093464637,0.18489516815334722,0.18761969346014257,0.18428260552648928,0.18273383289453526,0.19259838070401253,0.1887319003552334,0.18847024126214384,0.1852128970520988,0.1878307339786761,0.18562251813235214,0.1841533334745462,0.18265081843226333,0.17853108946124396,0.18315015120157602,0.1786662799926736,0.17932821519840614,0.1931140671666432,0.18121792339867754,0.18484096734120725,0.18293802043682122,0.18416532618297948,0.17699135029797997,0.17470837471077327,0.16679521188779567,0.16178724374541326,0.16476034519064364,0.15471341476330452,0.15162412422078553,0.15781687850669912,0.1629164273316629,0.16261863436381335,0.1629668901567588,0.1621242855772263,0.160187696789443,0.1577844826189833,0.15317881533222616,0.15311386780733427,0.16597472373160754,0.18292166674350313,0.18628149409834155,0.20604516609745438,0.21362720556810555,0.21663986737621976,0.20719506436190704,0.21274862286327323,0.2153937159453806,0.22305300714827725,0.225192381733205,0.23210142778645138,0.24334466981737446,0.24512582064390565,0.2473098953239029,0.2588733582449404,0.26428487323862937,0.2943099426717387,0.2958174416967472,0.30136866395621076,0.2993554464340227,0.31111437492757654,0.31986360085275956,0.3195511674356538,0.3274562312867024,0.3264016516918753,0.3290515730072481,0.3428811905737935,0.34659877443864784,0.34601705020490403,0.35198583676708983,0.3589226062242469,0.3565234415397517,0.36356113664710044,0.3626786602057638,0.35665909931956186,0.366438607923785,0.37235630866303426,0.37541818730056287,0.3911085436677877,0.390889248427865,0.4002106978697213,0.40343237545338684,0.4042070732682841,0.4037195774579446,0.41091068578356316,0.4083419099369402,0.41095071339482736,0.42165895603005854,0.41616395932571704,0.4177455950937675,0.43060504927289933,0.4292057961227107,0.4396871117944706,0.4461831102793399,0.4444469710467984,0.44050136997225176,0.44585229842593377,0.44192959252203234,0.44555403820970363,0.46275454134275973,0.46828738516592305,0.47237658724274867,0.4787419119305334,0.4873151409657215,0.49128052222171015,0.5002317551967366,0.5090921862364826,0.512724886645543,0.5137500295923975,0.515814177188062,0.5226360035436118,0.521898841348616,0.5215389043461576,0.5215519873008121,0.5236567855055816,0.5302568246298459,0.5414645557838498,0.5432796599926987,0.5504449139079286,0.5497114896999769,0.5507205904524336,0.554122002913138,0.5522195232571324,0.5584502804113282,0.5568795471054897,0.5556827682535254,0.5682942692920627,0.572733751904816,0.580623708058228,0.5866340797262798,0.5891991175858585,0.5842830416249779,0.5874857177745022,0.5854084872241834,0.5813756664519402,0.5851809372628716,0.5879451786820108,0.5858241825333835,0.601821521086608,0.6018061018900509,0.6067400890388515,0.6119594091986877,0.6176543882098905,0.6093834688768969,0.6165019979540751,0.6163414202606374,0.6201577492832411,0.6382773299807744,0.6219937239197529,0.6221541458637304,0.632014332688323,0.633925378564638,0.643153534079851,0.6541821533546566,0.6515317647909034,0.6467703480439737,0.6551038786599568,0.6506221879434968,0.6503563236149824,0.6574137989037732,0.6538091333975438,0.649693609661949,0.6605642989841397,0.667652145417664,0.6762467121288958,0.6877541052442713,0.69423141379392,0.6930489638922912,0.6991365872925885,0.6978382597925916,0.7055000429868512,0.7119091332729441,0.715947872524674,0.726572010451412,0.7392353760601866,0.7543091203145891,0.7716468387220572,0.7796610829446866,0.7941929748271495,0.8026051589205192,0.8125913470583912,0.8174653706650254,0.811801385796397,0.8295417165584107,0.8287807246960082,0.8306752611295449,0.8492479170067198,0.8536677751874913,0.867016749919945,0.8670433830776343,0.8513620601790994,0.8686136491350922,0.876585685254015,0.8750392488639636,0.8777463302312196,0.8897552366083501,0.902831805534962,0.9027031564808596,0.9242612180106184,0.9388678696339641,0.9440220865194482,0.9647308462428872,0.9767670087755478,0.9808607275867183,0.9905841663852795,0.9994319817187516,1.0],\"type\":\"scatter\"},{\"line\":{\"color\":\"#96ceb4\",\"width\":2},\"mode\":\"lines\",\"name\":\"\\uc8fc\\ud0dd\\ub9e4\\ub9e4\\uac00\\uaca9\\uc9c0\\uc218\",\"x\":[\"2000-01-01\",\"2000-02-01\",\"2000-03-01\",\"2000-04-01\",\"2000-05-01\",\"2000-06-01\",\"2000-07-01\",\"2000-08-01\",\"2000-09-01\",\"2000-10-01\",\"2000-11-01\",\"2000-12-01\",\"2001-01-01\",\"2001-02-01\",\"2001-03-01\",\"2001-04-01\",\"2001-05-01\",\"2001-06-01\",\"2001-07-01\",\"2001-08-01\",\"2001-09-01\",\"2001-10-01\",\"2001-11-01\",\"2001-12-01\",\"2002-01-01\",\"2002-02-01\",\"2002-03-01\",\"2002-04-01\",\"2002-05-01\",\"2002-06-01\",\"2002-07-01\",\"2002-08-01\",\"2002-09-01\",\"2002-10-01\",\"2002-11-01\",\"2002-12-01\",\"2003-01-01\",\"2003-02-01\",\"2003-03-01\",\"2003-04-01\",\"2003-05-01\",\"2003-06-01\",\"2003-07-01\",\"2003-08-01\",\"2003-09-01\",\"2003-10-01\",\"2003-11-01\",\"2003-12-01\",\"2004-01-01\",\"2004-02-01\",\"2004-03-01\",\"2004-04-01\",\"2004-05-01\",\"2004-06-01\",\"2004-07-01\",\"2004-08-01\",\"2004-09-01\",\"2004-10-01\",\"2004-11-01\",\"2004-12-01\",\"2005-01-01\",\"2005-02-01\",\"2005-03-01\",\"2005-04-01\",\"2005-05-01\",\"2005-06-01\",\"2005-07-01\",\"2005-08-01\",\"2005-09-01\",\"2005-10-01\",\"2005-11-01\",\"2005-12-01\",\"2006-01-01\",\"2006-02-01\",\"2006-03-01\",\"2006-04-01\",\"2006-05-01\",\"2006-06-01\",\"2006-07-01\",\"2006-08-01\",\"2006-09-01\",\"2006-10-01\",\"2006-11-01\",\"2006-12-01\",\"2007-01-01\",\"2007-02-01\",\"2007-03-01\",\"2007-04-01\",\"2007-05-01\",\"2007-06-01\",\"2007-07-01\",\"2007-08-01\",\"2007-09-01\",\"2007-10-01\",\"2007-11-01\",\"2007-12-01\",\"2008-01-01\",\"2008-02-01\",\"2008-03-01\",\"2008-04-01\",\"2008-05-01\",\"2008-06-01\",\"2008-07-01\",\"2008-08-01\",\"2008-09-01\",\"2008-10-01\",\"2008-11-01\",\"2008-12-01\",\"2009-01-01\",\"2009-02-01\",\"2009-03-01\",\"2009-04-01\",\"2009-05-01\",\"2009-06-01\",\"2009-07-01\",\"2009-08-01\",\"2009-09-01\",\"2009-10-01\",\"2009-11-01\",\"2009-12-01\",\"2010-01-01\",\"2010-02-01\",\"2010-03-01\",\"2010-04-01\",\"2010-05-01\",\"2010-06-01\",\"2010-07-01\",\"2010-08-01\",\"2010-09-01\",\"2010-10-01\",\"2010-11-01\",\"2010-12-01\",\"2011-01-01\",\"2011-02-01\",\"2011-03-01\",\"2011-04-01\",\"2011-05-01\",\"2011-06-01\",\"2011-07-01\",\"2011-08-01\",\"2011-09-01\",\"2011-10-01\",\"2011-11-01\",\"2011-12-01\",\"2012-01-01\",\"2012-02-01\",\"2012-03-01\",\"2012-04-01\",\"2012-05-01\",\"2012-06-01\",\"2012-07-01\",\"2012-08-01\",\"2012-09-01\",\"2012-10-01\",\"2012-11-01\",\"2012-12-01\",\"2013-01-01\",\"2013-02-01\",\"2013-03-01\",\"2013-04-01\",\"2013-05-01\",\"2013-06-01\",\"2013-07-01\",\"2013-08-01\",\"2013-09-01\",\"2013-10-01\",\"2013-11-01\",\"2013-12-01\",\"2014-01-01\",\"2014-02-01\",\"2014-03-01\",\"2014-04-01\",\"2014-05-01\",\"2014-06-01\",\"2014-07-01\",\"2014-08-01\",\"2014-09-01\",\"2014-10-01\",\"2014-11-01\",\"2014-12-01\",\"2015-01-01\",\"2015-02-01\",\"2015-03-01\",\"2015-04-01\",\"2015-05-01\",\"2015-06-01\",\"2015-07-01\",\"2015-08-01\",\"2015-09-01\",\"2015-10-01\",\"2015-11-01\",\"2015-12-01\",\"2016-01-01\",\"2016-02-01\",\"2016-03-01\",\"2016-04-01\",\"2016-05-01\",\"2016-06-01\",\"2016-07-01\",\"2016-08-01\",\"2016-09-01\",\"2016-10-01\",\"2016-11-01\",\"2016-12-01\",\"2017-01-01\",\"2017-02-01\",\"2017-03-01\",\"2017-04-01\",\"2017-05-01\",\"2017-06-01\",\"2017-07-01\",\"2017-08-01\",\"2017-09-01\",\"2017-10-01\",\"2017-11-01\",\"2017-12-01\",\"2018-01-01\",\"2018-02-01\",\"2018-03-01\",\"2018-04-01\",\"2018-05-01\",\"2018-06-01\",\"2018-07-01\",\"2018-08-01\",\"2018-09-01\",\"2018-10-01\",\"2018-11-01\",\"2018-12-01\",\"2019-01-01\",\"2019-02-01\",\"2019-03-01\",\"2019-04-01\",\"2019-05-01\",\"2019-06-01\",\"2019-07-01\",\"2019-08-01\",\"2019-09-01\",\"2019-10-01\",\"2019-11-01\",\"2019-12-01\",\"2020-01-01\",\"2020-02-01\",\"2020-03-01\",\"2020-04-01\",\"2020-05-01\",\"2020-06-01\",\"2020-07-01\",\"2020-08-01\",\"2020-09-01\",\"2020-10-01\",\"2020-11-01\",\"2020-12-01\",\"2021-01-01\",\"2021-02-01\",\"2021-03-01\",\"2021-04-01\",\"2021-05-01\",\"2021-06-01\",\"2021-07-01\",\"2021-08-01\",\"2021-09-01\",\"2021-10-01\",\"2021-11-01\",\"2021-12-01\",\"2022-01-01\",\"2022-02-01\",\"2022-03-01\",\"2022-04-01\",\"2022-05-01\",\"2022-06-01\",\"2022-07-01\",\"2022-08-01\"],\"y\":[0.0,0.0026828716423700216,0.005365743284739932,0.006028380256650645,0.005365743284739932,0.003361670491644375,0.003361670491644375,0.004686944435465579,0.006028380256650645,0.0067071791059248875,0.004686944435465579,0.0006787988492743535,0.0,0.002020234670459309,0.006028380256650645,0.010052687720205622,0.0147396321556712,0.020105375440411133,0.028137828490157446,0.04085722597536934,0.05157255066748556,0.054918059281766185,0.057600930924136096,0.06296667420887614,0.08105181497882796,0.09913695574877979,0.11588066069754666,0.1232343148980185,0.1279212593334842,0.13128292982512857,0.13865274590296406,0.15203478036008666,0.17079871997931284,0.17480686556550418,0.17548566441477853,0.17682710023596349,0.17614830138668913,0.1801726088502441,0.18620098910689464,0.19357080518473035,0.20695283964185274,0.2129812198985035,0.2148559976726897,0.21765200245660543,0.22479555225134962,0.2333290234993698,0.23024210492290786,0.22313087888289107,0.219656075249701,0.2213853961276142,0.22311471700552732,0.2245369622135307,0.2243915053172577,0.22219348999579802,0.21993082716488355,0.21655299479587553,0.21475902640850764,0.21272262986068458,0.2089892361896759,0.20549827067912219,0.20318712221611668,0.20585383198112295,0.20905388369913047,0.21388628503086926,0.21846009632478913,0.2253773798364418,0.23247244399909495,0.2356078482076478,0.23769273038756178,0.23741797847237944,0.2373694928402884,0.23903416620874685,0.24192714225684453,0.2458706403335812,0.25149497365613993,0.2592849985454311,0.26836797362381626,0.27266703300255357,0.27460645828619457,0.2767883117302906,0.28116818049584646,0.29343504541487553,0.3221062158580341,0.33986811908071246,0.34833694281927796,0.35189255583928636,0.3537026861040179,0.3549794744157482,0.35530271196302166,0.3566441477842066,0.3592138862850308,0.3610725021818535,0.36369072631476873,0.3662443029382293,0.36894333645796296,0.3703494197886026,0.3730969389404273,0.3761838575168892,0.38386074926463465,0.3927174580599282,0.3989397808449431,0.4051621036299575,0.40920257297087614,0.4112712932734266,0.41367941300061406,0.4131299091702494,0.4089278210556939,0.40142870995894886,0.39570740537220805,0.39313766687138374,0.39134369848401596,0.39195784982383564,0.3930568574845654,0.39504476840029756,0.39784077318421307,0.4010893105343116,0.40845912661214734,0.4124026246888839,0.4150531725765265,0.4165400652939846,0.41788150111516953,0.4209360959369042,0.42353815819245555,0.4255745547402787,0.4260755729385526,0.4261887060800982,0.42518666968355046,0.42466948960791284,0.4256715260044608,0.42786954132592037,0.4319423344215665,0.4363060413097586,0.4413000614151339,0.44986585641788146,0.4604034004589974,0.4693732423958368,0.47703397226621846,0.4824805249377768,0.4870220124769695,0.49253321265798244,0.4986424023014513,0.503135404208553,0.5076122442382909,0.5095193457672045,0.5112971522772085,0.5132042538061221,0.5149335746840353,0.5161618773636747,0.5167275430714031,0.5163073342599478,0.5150143840708539,0.5138668907780328,0.5121375699001198,0.5108446197110257,0.5099880402107508,0.509196108219931,0.5085657950027476,0.5079031580308371,0.5073859779551992,0.5074183017099267,0.5072566829362899,0.5068041503701068,0.5067718266153796,0.5063192940491967,0.5069172835116527,0.5092284319746583,0.5112163428903902,0.51341435821185,0.5147073084009439,0.5165659242977663,0.5197982997705013,0.5221740957429615,0.5229337039790543,0.5237417978472378,0.5247923198758768,0.5263438601027894,0.5295115880660697,0.5329379060671688,0.5352975401622653,0.5374470698516338,0.5389986100785467,0.5416491579661893,0.5464977211752917,0.5523159970262146,0.5567120276691342,0.5621585803406925,0.5672334098328862,0.5719041923909882,0.5775608494682742,0.5816498044412839,0.5868216051976598,0.5890357823964834,0.5900539806703948,0.5909267220480332,0.5913469308594888,0.5918479490577626,0.5926560429259464,0.5937712124640397,0.5953550764456799,0.5968904547952292,0.5985712900410514,0.6015450754759675,0.6046481559297927,0.6055532210621586,0.6058441348547046,0.6059734298736141,0.6062966674208876,0.6067653618644342,0.6074118369589812,0.6095613666483499,0.6124705045738115,0.6154281281313638,0.6164786501600026,0.6178847334906423,0.6195978924911918,0.6208746808029222,0.6232181530206549,0.6259171865403885,0.6290525907489415,0.6311859585609465,0.6324465849953129,0.6336748876749525,0.6351294566376833,0.6378284901574167,0.6503054594821736,0.6574974949090089,0.659469243947377,0.6604712803439248,0.6607298703817435,0.6598732908814688,0.6585156931829201,0.6567378866729159,0.6558813071726413,0.6547661376345475,0.6546691663703657,0.6553802889743674,0.6560752497010054,0.657287390503281,0.6590975207680123,0.663590522675114,0.668164333969034,0.6729644115460451,0.6802372563596988,0.6832433655493422,0.6850534958140739,0.6914212754953615,0.7030416653198437,0.7134175905873226,0.7241005915247116,0.7331674047257328,0.7527071144584154,0.7715680253418238,0.7882470827811359,0.807560526230727,0.8265184083783172,0.84196916313799,0.856078482076478,0.8755535442997058,0.8931215049940202,0.9159097520768011,0.9394576073956753,0.9558942366745322,0.9734137117367554,0.9814300029091378,0.9859553285709668,0.9893008371852474,0.9909008630442513,0.9943110191679865,0.9983676503862688,1.0,1.0,0.9977211752917219],\"type\":\"scatter\"},{\"line\":{\"color\":\"#88d8b0\",\"width\":2},\"mode\":\"lines\",\"name\":\"\\ucde8\\uc5c5\\uc790\\uc218\",\"x\":[\"2000-01-01\",\"2000-02-01\",\"2000-03-01\",\"2000-04-01\",\"2000-05-01\",\"2000-06-01\",\"2000-07-01\",\"2000-08-01\",\"2000-09-01\",\"2000-10-01\",\"2000-11-01\",\"2000-12-01\",\"2001-01-01\",\"2001-02-01\",\"2001-03-01\",\"2001-04-01\",\"2001-05-01\",\"2001-06-01\",\"2001-07-01\",\"2001-08-01\",\"2001-09-01\",\"2001-10-01\",\"2001-11-01\",\"2001-12-01\",\"2002-01-01\",\"2002-02-01\",\"2002-03-01\",\"2002-04-01\",\"2002-05-01\",\"2002-06-01\",\"2002-07-01\",\"2002-08-01\",\"2002-09-01\",\"2002-10-01\",\"2002-11-01\",\"2002-12-01\",\"2003-01-01\",\"2003-02-01\",\"2003-03-01\",\"2003-04-01\",\"2003-05-01\",\"2003-06-01\",\"2003-07-01\",\"2003-08-01\",\"2003-09-01\",\"2003-10-01\",\"2003-11-01\",\"2003-12-01\",\"2004-01-01\",\"2004-02-01\",\"2004-03-01\",\"2004-04-01\",\"2004-05-01\",\"2004-06-01\",\"2004-07-01\",\"2004-08-01\",\"2004-09-01\",\"2004-10-01\",\"2004-11-01\",\"2004-12-01\",\"2005-01-01\",\"2005-02-01\",\"2005-03-01\",\"2005-04-01\",\"2005-05-01\",\"2005-06-01\",\"2005-07-01\",\"2005-08-01\",\"2005-09-01\",\"2005-10-01\",\"2005-11-01\",\"2005-12-01\",\"2006-01-01\",\"2006-02-01\",\"2006-03-01\",\"2006-04-01\",\"2006-05-01\",\"2006-06-01\",\"2006-07-01\",\"2006-08-01\",\"2006-09-01\",\"2006-10-01\",\"2006-11-01\",\"2006-12-01\",\"2007-01-01\",\"2007-02-01\",\"2007-03-01\",\"2007-04-01\",\"2007-05-01\",\"2007-06-01\",\"2007-07-01\",\"2007-08-01\",\"2007-09-01\",\"2007-10-01\",\"2007-11-01\",\"2007-12-01\",\"2008-01-01\",\"2008-02-01\",\"2008-03-01\",\"2008-04-01\",\"2008-05-01\",\"2008-06-01\",\"2008-07-01\",\"2008-08-01\",\"2008-09-01\",\"2008-10-01\",\"2008-11-01\",\"2008-12-01\",\"2009-01-01\",\"2009-02-01\",\"2009-03-01\",\"2009-04-01\",\"2009-05-01\",\"2009-06-01\",\"2009-07-01\",\"2009-08-01\",\"2009-09-01\",\"2009-10-01\",\"2009-11-01\",\"2009-12-01\",\"2010-01-01\",\"2010-02-01\",\"2010-03-01\",\"2010-04-01\",\"2010-05-01\",\"2010-06-01\",\"2010-07-01\",\"2010-08-01\",\"2010-09-01\",\"2010-10-01\",\"2010-11-01\",\"2010-12-01\",\"2011-01-01\",\"2011-02-01\",\"2011-03-01\",\"2011-04-01\",\"2011-05-01\",\"2011-06-01\",\"2011-07-01\",\"2011-08-01\",\"2011-09-01\",\"2011-10-01\",\"2011-11-01\",\"2011-12-01\",\"2012-01-01\",\"2012-02-01\",\"2012-03-01\",\"2012-04-01\",\"2012-05-01\",\"2012-06-01\",\"2012-07-01\",\"2012-08-01\",\"2012-09-01\",\"2012-10-01\",\"2012-11-01\",\"2012-12-01\",\"2013-01-01\",\"2013-02-01\",\"2013-03-01\",\"2013-04-01\",\"2013-05-01\",\"2013-06-01\",\"2013-07-01\",\"2013-08-01\",\"2013-09-01\",\"2013-10-01\",\"2013-11-01\",\"2013-12-01\",\"2014-01-01\",\"2014-02-01\",\"2014-03-01\",\"2014-04-01\",\"2014-05-01\",\"2014-06-01\",\"2014-07-01\",\"2014-08-01\",\"2014-09-01\",\"2014-10-01\",\"2014-11-01\",\"2014-12-01\",\"2015-01-01\",\"2015-02-01\",\"2015-03-01\",\"2015-04-01\",\"2015-05-01\",\"2015-06-01\",\"2015-07-01\",\"2015-08-01\",\"2015-09-01\",\"2015-10-01\",\"2015-11-01\",\"2015-12-01\",\"2016-01-01\",\"2016-02-01\",\"2016-03-01\",\"2016-04-01\",\"2016-05-01\",\"2016-06-01\",\"2016-07-01\",\"2016-08-01\",\"2016-09-01\",\"2016-10-01\",\"2016-11-01\",\"2016-12-01\",\"2017-01-01\",\"2017-02-01\",\"2017-03-01\",\"2017-04-01\",\"2017-05-01\",\"2017-06-01\",\"2017-07-01\",\"2017-08-01\",\"2017-09-01\",\"2017-10-01\",\"2017-11-01\",\"2017-12-01\",\"2018-01-01\",\"2018-02-01\",\"2018-03-01\",\"2018-04-01\",\"2018-05-01\",\"2018-06-01\",\"2018-07-01\",\"2018-08-01\",\"2018-09-01\",\"2018-10-01\",\"2018-11-01\",\"2018-12-01\",\"2019-01-01\",\"2019-02-01\",\"2019-03-01\",\"2019-04-01\",\"2019-05-01\",\"2019-06-01\",\"2019-07-01\",\"2019-08-01\",\"2019-09-01\",\"2019-10-01\",\"2019-11-01\",\"2019-12-01\",\"2020-01-01\",\"2020-02-01\",\"2020-03-01\",\"2020-04-01\",\"2020-05-01\",\"2020-06-01\",\"2020-07-01\",\"2020-08-01\",\"2020-09-01\",\"2020-10-01\",\"2020-11-01\",\"2020-12-01\",\"2021-01-01\",\"2021-02-01\",\"2021-03-01\",\"2021-04-01\",\"2021-05-01\",\"2021-06-01\",\"2021-07-01\",\"2021-08-01\",\"2021-09-01\",\"2021-10-01\",\"2021-11-01\",\"2021-12-01\",\"2022-01-01\",\"2022-02-01\",\"2022-03-01\",\"2022-04-01\",\"2022-05-01\",\"2022-06-01\",\"2022-07-01\",\"2022-08-01\"],\"y\":[0.0,0.006998654104979796,0.02180349932705239,0.026648721399730846,0.043876177658142446,0.051009421265141075,0.07039030955585446,0.07860026917900376,0.07617765814266475,0.08815612382234184,0.07860026917900376,0.06944818304172262,0.04212651413189761,0.0397039030955586,0.057065948855989035,0.1048452220726781,0.11655450874831752,0.11790040376850586,0.12314939434724081,0.13324360699865379,0.14118438761776586,0.14279946164199186,0.15168236877523533,0.15222072678331067,0.16096904441453574,0.17698519515477784,0.17456258411843883,0.1944818304172271,0.1896366083445491,0.19717362045760423,0.2002691790040374,0.20134589502018807,0.21170928667563915,0.2064602960969042,0.1978465679676984,0.21251682368775215,0.19434724091520827,0.19098250336473743,0.1858681022880213,0.17779273216689084,0.18075370121130518,0.1822341857335128,0.19259757738896344,0.19030955585464326,0.18990578734858676,0.1982503364737549,0.2044414535666217,0.22247644683714674,0.24831763122476413,0.2655450874831762,0.2639300134589502,0.2537012113055179,0.2371467025572005,0.24791386271870763,0.24024226110363367,0.2321668909825032,0.2647375504710632,0.2643337819650067,0.25800807537012105,0.27954239569313577,0.265679676985195,0.2698519515477793,0.2788694481830416,0.2694481830417228,0.271736204576043,0.27079407806191114,0.267294751009421,0.2652759084791385,0.27160161507402414,0.27994616419919227,0.290578734858681,0.2925975773889635,0.3092866756392998,0.3096904441453563,0.3146702557200536,0.3135935397039029,0.31763122476446837,0.31803499327052487,0.3177658142664872,0.3222072678331087,0.32422611036339166,0.3318977119784656,0.34145356662180326,0.3491251682368772,0.3611036339165543,0.36285329744279915,0.36675639300134577,0.36460296096904443,0.36554508748317627,0.3701211305518166,0.37025572005383545,0.3699865410497978,0.37321668909825023,0.3816958277254372,0.3899057873485865,0.3950201884253026,0.4028263795423954,0.4018842530282636,0.4014804845222071,0.4022880215343201,0.4022880215343201,0.40336473755047075,0.40471063257065953,0.4006729475100941,0.3962314939434721,0.4002691790040376,0.4044414535666214,0.3962314939434721,0.3916554508748318,0.38304172274562553,0.37456258411843857,0.37577388963660807,0.3707940780619112,0.4002691790040376,0.39017496635262416,0.3946164199192461,0.4028263795423954,0.4006729475100941,0.4006729475100941,0.3909825033647376,0.3890982503364735,0.39811574697173624,0.41144010767160166,0.43095558546433343,0.44966352624495265,0.4440107671601612,0.4551816958277253,0.4487213997308208,0.4411843876177657,0.4499327052489903,0.45006729475100915,0.46218034993270507,0.443337819650067,0.47146702557200504,0.48775235531628525,0.49434724091520854,0.5113055181695825,0.5218034993270524,0.5123822341857331,0.5227456258411842,0.4858681022880216,0.5266487213997308,0.5224764468371466,0.5278600269179003,0.5235531628532972,0.5371467025572003,0.5491251682368774,0.5598923283983845,0.5765814266487213,0.5713324360699863,0.5706594885598921,0.5658142664872137,0.5729475100942123,0.5740242261103634,0.563122476446837,0.5563930013458949,0.559488559892328,0.5541049798115747,0.5713324360699863,0.59650067294751,0.6021534320323014,0.6098250336473754,0.6115746971736202,0.6168236877523552,0.632301480484522,0.6388963660834452,0.6453566621803497,0.6382234185733511,0.6641991924629878,0.6761776581426648,0.669179004037685,0.6872139973082096,0.6706594885598922,0.6771197846567967,0.6913862718707939,0.7045760430686405,0.7002691790040374,0.6998654104979809,0.7076716016150737,0.6958277254374159,0.7107671601615073,0.7231493943472409,0.7087483176312244,0.7115746971736203,0.7154777927321665,0.7137281292059217,0.7263795423956929,0.7283983849259754,0.7364737550471063,0.7372812920592193,0.7352624495289364,0.7520861372812919,0.7458950201884251,0.740780619111709,0.7353970390309552,0.7358008075370117,0.7421265141318973,0.7523553162853296,0.7576043068640645,0.7711978465679676,0.7644683714670255,0.7683714670255717,0.7734858681022878,0.7851951547779272,0.7772543741588156,0.7886944818304169,0.7955585464333779,0.7939434724091519,0.7948855989232837,0.7940780619111707,0.8004037685060563,0.798250336473755,0.8068640646029608,0.8064602960969043,0.8064602960969043,0.8193808882907132,0.822745625841184,0.8005383580080752,0.8080753701211303,0.8122476446837146,0.8063257065948854,0.809152086137281,0.8034993270524895,0.7981157469717362,0.8133243606998652,0.8154777927321666,0.827187079407806,0.8231493943472405,0.8246298788694482,0.8352624495289365,0.8399730820995961,0.8374158815612383,0.8422611036339163,0.8472409152086136,0.8448183041722745,0.8576043068640642,0.860565275908479,0.8716016150740242,0.8701211305518166,0.8930013458950201,0.9022880215343201,0.9020188425302824,0.8115746971736204,0.7745625841184385,0.7915208613728129,0.8009421265141317,0.8098250336473751,0.8205921938088827,0.8086137281292056,0.8153432032301478,0.8327052489905786,0.8069986541049796,0.765679676985195,0.835666218034993,0.8532974427994615,0.8636608344549122,0.8749663526244951,0.878600269179004,0.8827725437415879,0.8890982503364735,0.8986541049798116,0.9025572005383578,0.905921938088829,0.9125168236877523,0.9216689098250335,0.9777927321668907,0.9651413189771194,0.981157469717362,1.0,0.9907133243606996,0.9932705248990579,0.9962314939434722],\"type\":\"scatter\"},{\"line\":{\"color\":\"#ffcc5c\",\"width\":2},\"mode\":\"lines\",\"name\":\"\\uac00\\uacc4\\ub300\\ucd9c\\uae08\\ub9ac\",\"x\":[\"2000-01-01\",\"2000-02-01\",\"2000-03-01\",\"2000-04-01\",\"2000-05-01\",\"2000-06-01\",\"2000-07-01\",\"2000-08-01\",\"2000-09-01\",\"2000-10-01\",\"2000-11-01\",\"2000-12-01\",\"2001-01-01\",\"2001-02-01\",\"2001-03-01\",\"2001-04-01\",\"2001-05-01\",\"2001-06-01\",\"2001-07-01\",\"2001-08-01\",\"2001-09-01\",\"2001-10-01\",\"2001-11-01\",\"2001-12-01\",\"2002-01-01\",\"2002-02-01\",\"2002-03-01\",\"2002-04-01\",\"2002-05-01\",\"2002-06-01\",\"2002-07-01\",\"2002-08-01\",\"2002-09-01\",\"2002-10-01\",\"2002-11-01\",\"2002-12-01\",\"2003-01-01\",\"2003-02-01\",\"2003-03-01\",\"2003-04-01\",\"2003-05-01\",\"2003-06-01\",\"2003-07-01\",\"2003-08-01\",\"2003-09-01\",\"2003-10-01\",\"2003-11-01\",\"2003-12-01\",\"2004-01-01\",\"2004-02-01\",\"2004-03-01\",\"2004-04-01\",\"2004-05-01\",\"2004-06-01\",\"2004-07-01\",\"2004-08-01\",\"2004-09-01\",\"2004-10-01\",\"2004-11-01\",\"2004-12-01\",\"2005-01-01\",\"2005-02-01\",\"2005-03-01\",\"2005-04-01\",\"2005-05-01\",\"2005-06-01\",\"2005-07-01\",\"2005-08-01\",\"2005-09-01\",\"2005-10-01\",\"2005-11-01\",\"2005-12-01\",\"2006-01-01\",\"2006-02-01\",\"2006-03-01\",\"2006-04-01\",\"2006-05-01\",\"2006-06-01\",\"2006-07-01\",\"2006-08-01\",\"2006-09-01\",\"2006-10-01\",\"2006-11-01\",\"2006-12-01\",\"2007-01-01\",\"2007-02-01\",\"2007-03-01\",\"2007-04-01\",\"2007-05-01\",\"2007-06-01\",\"2007-07-01\",\"2007-08-01\",\"2007-09-01\",\"2007-10-01\",\"2007-11-01\",\"2007-12-01\",\"2008-01-01\",\"2008-02-01\",\"2008-03-01\",\"2008-04-01\",\"2008-05-01\",\"2008-06-01\",\"2008-07-01\",\"2008-08-01\",\"2008-09-01\",\"2008-10-01\",\"2008-11-01\",\"2008-12-01\",\"2009-01-01\",\"2009-02-01\",\"2009-03-01\",\"2009-04-01\",\"2009-05-01\",\"2009-06-01\",\"2009-07-01\",\"2009-08-01\",\"2009-09-01\",\"2009-10-01\",\"2009-11-01\",\"2009-12-01\",\"2010-01-01\",\"2010-02-01\",\"2010-03-01\",\"2010-04-01\",\"2010-05-01\",\"2010-06-01\",\"2010-07-01\",\"2010-08-01\",\"2010-09-01\",\"2010-10-01\",\"2010-11-01\",\"2010-12-01\",\"2011-01-01\",\"2011-02-01\",\"2011-03-01\",\"2011-04-01\",\"2011-05-01\",\"2011-06-01\",\"2011-07-01\",\"2011-08-01\",\"2011-09-01\",\"2011-10-01\",\"2011-11-01\",\"2011-12-01\",\"2012-01-01\",\"2012-02-01\",\"2012-03-01\",\"2012-04-01\",\"2012-05-01\",\"2012-06-01\",\"2012-07-01\",\"2012-08-01\",\"2012-09-01\",\"2012-10-01\",\"2012-11-01\",\"2012-12-01\",\"2013-01-01\",\"2013-02-01\",\"2013-03-01\",\"2013-04-01\",\"2013-05-01\",\"2013-06-01\",\"2013-07-01\",\"2013-08-01\",\"2013-09-01\",\"2013-10-01\",\"2013-11-01\",\"2013-12-01\",\"2014-01-01\",\"2014-02-01\",\"2014-03-01\",\"2014-04-01\",\"2014-05-01\",\"2014-06-01\",\"2014-07-01\",\"2014-08-01\",\"2014-09-01\",\"2014-10-01\",\"2014-11-01\",\"2014-12-01\",\"2015-01-01\",\"2015-02-01\",\"2015-03-01\",\"2015-04-01\",\"2015-05-01\",\"2015-06-01\",\"2015-07-01\",\"2015-08-01\",\"2015-09-01\",\"2015-10-01\",\"2015-11-01\",\"2015-12-01\",\"2016-01-01\",\"2016-02-01\",\"2016-03-01\",\"2016-04-01\",\"2016-05-01\",\"2016-06-01\",\"2016-07-01\",\"2016-08-01\",\"2016-09-01\",\"2016-10-01\",\"2016-11-01\",\"2016-12-01\",\"2017-01-01\",\"2017-02-01\",\"2017-03-01\",\"2017-04-01\",\"2017-05-01\",\"2017-06-01\",\"2017-07-01\",\"2017-08-01\",\"2017-09-01\",\"2017-10-01\",\"2017-11-01\",\"2017-12-01\",\"2018-01-01\",\"2018-02-01\",\"2018-03-01\",\"2018-04-01\",\"2018-05-01\",\"2018-06-01\",\"2018-07-01\",\"2018-08-01\",\"2018-09-01\",\"2018-10-01\",\"2018-11-01\",\"2018-12-01\",\"2019-01-01\",\"2019-02-01\",\"2019-03-01\",\"2019-04-01\",\"2019-05-01\",\"2019-06-01\",\"2019-07-01\",\"2019-08-01\",\"2019-09-01\",\"2019-10-01\",\"2019-11-01\",\"2019-12-01\",\"2020-01-01\",\"2020-02-01\",\"2020-03-01\",\"2020-04-01\",\"2020-05-01\",\"2020-06-01\",\"2020-07-01\",\"2020-08-01\",\"2020-09-01\",\"2020-10-01\",\"2020-11-01\",\"2020-12-01\",\"2021-01-01\",\"2021-02-01\",\"2021-03-01\",\"2021-04-01\",\"2021-05-01\",\"2021-06-01\",\"2021-07-01\",\"2021-08-01\",\"2021-09-01\",\"2021-10-01\",\"2021-11-01\",\"2021-12-01\",\"2022-01-01\",\"2022-02-01\",\"2022-03-01\",\"2022-04-01\",\"2022-05-01\",\"2022-06-01\",\"2022-07-01\",\"2022-08-01\"],\"y\":[0.9999999999999999,0.9868247694334648,0.9881422924901185,0.9762845849802372,0.9762845849802372,0.9644268774703554,0.971014492753623,0.9512516469038207,0.9499341238471671,0.9604743083003952,0.9433465085638998,0.9130434782608695,0.8774703557312252,0.8669301712779974,0.828722002635046,0.8102766798418971,0.7891963109354411,0.7931488801054017,0.769433465085639,0.7180500658761527,0.6587615283267456,0.6324110671936758,0.608695652173913,0.5770750988142291,0.5665349143610012,0.5401844532279314,0.5454545454545454,0.5678524374176548,0.5849802371541502,0.5836627140974967,0.5836627140974967,0.5718050065876151,0.5625823451910408,0.592885375494071,0.603425559947299,0.6021080368906455,0.5942028985507245,0.5731225296442687,0.5810276679841896,0.5652173913043477,0.5388669301712778,0.5164690382081686,0.5085638998682477,0.47430830039525684,0.4598155467720685,0.4558629776021079,0.48221343873517775,0.49538866930171266,0.4993412384716731,0.4650856389986824,0.46903820816864294,0.46376811594202894,0.45718050065876137,0.4545454545454545,0.44400527009222657,0.4137022397891963,0.40974967061923584,0.40447957839262183,0.3978919631093544,0.386034255599473,0.38998682476943336,0.3913043478260868,0.4018445322793148,0.37944664031620545,0.367588932806324,0.3596837944664031,0.367588932806324,0.372859025032938,0.3886693017127799,0.41501976284584974,0.4071146245059287,0.4057971014492753,0.4137022397891963,0.4163372859025032,0.41238471673254273,0.40447957839262183,0.4071146245059287,0.41765480895915674,0.447957839262187,0.4584980237154149,0.44137022397891956,0.43346508563899855,0.43083003952569165,0.450592885375494,0.4808959156785243,0.48748353096179176,0.4967061923583662,0.4940711462450592,0.5059288537549406,0.49802371541501966,0.5046113306982871,0.5217391304347825,0.541501976284585,0.5480895915678523,0.5533596837944663,0.5849802371541502,0.6139657444005269,0.5797101449275361,0.5718050065876151,0.5849802371541502,0.5797101449275361,0.5770750988142291,0.6021080368906455,0.6324110671936758,0.6455862977602107,0.6877470355731224,0.66798418972332,0.587615283267457,0.43346508563899855,0.4189723320158103,0.40447957839262183,0.3886693017127799,0.386034255599473,0.38471673254281946,0.3992094861660078,0.4057971014492753,0.44927536231884047,0.46113306982872193,0.4545454545454545,0.447957839262187,0.45718050065876137,0.44400527009222657,0.42819499341238465,0.3833992094861659,0.3438735177865613,0.3425559947299077,0.3399209486166007,0.3570487483530961,0.3517786561264822,0.3504611330698286,0.3425559947299077,0.33333333333333326,0.3623188405797101,0.3570487483530961,0.37681159420289856,0.378129117259552,0.38735177865612647,0.38471673254281946,0.3833992094861659,0.3992094861660078,0.40974967061923584,0.3965744400527008,0.4018445322793148,0.37154150197628455,0.42819499341238465,0.4110671936758893,0.40447957839262183,0.3939393939393939,0.38998682476943336,0.372859025032938,0.3491436100131752,0.30961791831357044,0.30434782608695654,0.3017127799736494,0.2885375494071146,0.2621870882740448,0.3017127799736494,0.27140974967061926,0.26350461133069825,0.24637681159420288,0.23056653491436097,0.2055335968379447,0.2318840579710144,0.23451910408432142,0.22529644268774696,0.2187088274044795,0.2160737812911726,0.20421607378129114,0.2108036890645586,0.19762845849802368,0.20289855072463758,0.19631093544137024,0.19367588932806312,0.18313570487483533,0.18181818181818177,0.1594202898550724,0.1594202898550724,0.14361001317523053,0.13175230566534912,0.13175230566534912,0.13702239789196308,0.12252964426877466,0.08695652173913043,0.05401844532279315,0.09486166007905139,0.08827404479578393,0.08168642951251642,0.07641633728590247,0.07378129117259552,0.06719367588932806,0.08036890645586298,0.08959156785243738,0.09617918313570484,0.08695652173913043,0.09090909090909094,0.08168642951251642,0.08036890645586298,0.06719367588932806,0.05401844532279315,0.05270092226613965,0.06324110671936756,0.06982872200263507,0.08563899868247693,0.09749670619235834,0.11067193675889325,0.10935441370223975,0.11594202898550726,0.11330698287220026,0.12121212121212122,0.11330698287220026,0.11989459815546771,0.11067193675889325,0.11330698287220026,0.1264822134387351,0.13702239789196308,0.13965744400527008,0.152832674571805,0.14492753623188404,0.150197628458498,0.150197628458498,0.15810276679841895,0.1541501976284585,0.15546772068511194,0.14624505928853754,0.14097496706192358,0.14361001317523053,0.14229249011857703,0.13965744400527008,0.13570487483530963,0.12516469038208167,0.12911725955204212,0.12252964426877466,0.12384716732542822,0.09222661396574439,0.07509881422924902,0.04874835309617914,0.06192358366271411,0.06060606060606055,0.05401844532279315,0.0566534914361001,0.05270092226613965,0.04611330698287219,0.04347826086956519,0.04479578392621869,0.03425559947299078,0.01581027667984186,0.00922266139657446,0.0,0.005270092226613954,0.01185770750988141,0.022397891963109373,0.03162055335968378,0.03689064558629779,0.03425559947299078,0.04347826086956519,0.047430830039525695,0.04479578392621869,0.04874835309617914,0.0566534914361001,0.07246376811594202,0.08300395256916998,0.11989459815546771,0.13965744400527008,0.14624505928853754,0.17918313570487487,0.18181818181818177,0.18840579710144922,0.19762845849802368,0.20948616600790504,0.22134387351778662,0.26086956521739124,0.2911725955204215],\"type\":\"scatter\"},{\"line\":{\"color\":\"#ff6f69\",\"width\":6},\"mode\":\"lines\",\"name\":\"\\uc8fc\\ud0dd\\uc804\\uc138\\uac00\\uaca9\\uc9c0\\uc218\",\"x\":[\"2000-01-01\",\"2000-02-01\",\"2000-03-01\",\"2000-04-01\",\"2000-05-01\",\"2000-06-01\",\"2000-07-01\",\"2000-08-01\",\"2000-09-01\",\"2000-10-01\",\"2000-11-01\",\"2000-12-01\",\"2001-01-01\",\"2001-02-01\",\"2001-03-01\",\"2001-04-01\",\"2001-05-01\",\"2001-06-01\",\"2001-07-01\",\"2001-08-01\",\"2001-09-01\",\"2001-10-01\",\"2001-11-01\",\"2001-12-01\",\"2002-01-01\",\"2002-02-01\",\"2002-03-01\",\"2002-04-01\",\"2002-05-01\",\"2002-06-01\",\"2002-07-01\",\"2002-08-01\",\"2002-09-01\",\"2002-10-01\",\"2002-11-01\",\"2002-12-01\",\"2003-01-01\",\"2003-02-01\",\"2003-03-01\",\"2003-04-01\",\"2003-05-01\",\"2003-06-01\",\"2003-07-01\",\"2003-08-01\",\"2003-09-01\",\"2003-10-01\",\"2003-11-01\",\"2003-12-01\",\"2004-01-01\",\"2004-02-01\",\"2004-03-01\",\"2004-04-01\",\"2004-05-01\",\"2004-06-01\",\"2004-07-01\",\"2004-08-01\",\"2004-09-01\",\"2004-10-01\",\"2004-11-01\",\"2004-12-01\",\"2005-01-01\",\"2005-02-01\",\"2005-03-01\",\"2005-04-01\",\"2005-05-01\",\"2005-06-01\",\"2005-07-01\",\"2005-08-01\",\"2005-09-01\",\"2005-10-01\",\"2005-11-01\",\"2005-12-01\",\"2006-01-01\",\"2006-02-01\",\"2006-03-01\",\"2006-04-01\",\"2006-05-01\",\"2006-06-01\",\"2006-07-01\",\"2006-08-01\",\"2006-09-01\",\"2006-10-01\",\"2006-11-01\",\"2006-12-01\",\"2007-01-01\",\"2007-02-01\",\"2007-03-01\",\"2007-04-01\",\"2007-05-01\",\"2007-06-01\",\"2007-07-01\",\"2007-08-01\",\"2007-09-01\",\"2007-10-01\",\"2007-11-01\",\"2007-12-01\",\"2008-01-01\",\"2008-02-01\",\"2008-03-01\",\"2008-04-01\",\"2008-05-01\",\"2008-06-01\",\"2008-07-01\",\"2008-08-01\",\"2008-09-01\",\"2008-10-01\",\"2008-11-01\",\"2008-12-01\",\"2009-01-01\",\"2009-02-01\",\"2009-03-01\",\"2009-04-01\",\"2009-05-01\",\"2009-06-01\",\"2009-07-01\",\"2009-08-01\",\"2009-09-01\",\"2009-10-01\",\"2009-11-01\",\"2009-12-01\",\"2010-01-01\",\"2010-02-01\",\"2010-03-01\",\"2010-04-01\",\"2010-05-01\",\"2010-06-01\",\"2010-07-01\",\"2010-08-01\",\"2010-09-01\",\"2010-10-01\",\"2010-11-01\",\"2010-12-01\",\"2011-01-01\",\"2011-02-01\",\"2011-03-01\",\"2011-04-01\",\"2011-05-01\",\"2011-06-01\",\"2011-07-01\",\"2011-08-01\",\"2011-09-01\",\"2011-10-01\",\"2011-11-01\",\"2011-12-01\",\"2012-01-01\",\"2012-02-01\",\"2012-03-01\",\"2012-04-01\",\"2012-05-01\",\"2012-06-01\",\"2012-07-01\",\"2012-08-01\",\"2012-09-01\",\"2012-10-01\",\"2012-11-01\",\"2012-12-01\",\"2013-01-01\",\"2013-02-01\",\"2013-03-01\",\"2013-04-01\",\"2013-05-01\",\"2013-06-01\",\"2013-07-01\",\"2013-08-01\",\"2013-09-01\",\"2013-10-01\",\"2013-11-01\",\"2013-12-01\",\"2014-01-01\",\"2014-02-01\",\"2014-03-01\",\"2014-04-01\",\"2014-05-01\",\"2014-06-01\",\"2014-07-01\",\"2014-08-01\",\"2014-09-01\",\"2014-10-01\",\"2014-11-01\",\"2014-12-01\",\"2015-01-01\",\"2015-02-01\",\"2015-03-01\",\"2015-04-01\",\"2015-05-01\",\"2015-06-01\",\"2015-07-01\",\"2015-08-01\",\"2015-09-01\",\"2015-10-01\",\"2015-11-01\",\"2015-12-01\",\"2016-01-01\",\"2016-02-01\",\"2016-03-01\",\"2016-04-01\",\"2016-05-01\",\"2016-06-01\",\"2016-07-01\",\"2016-08-01\",\"2016-09-01\",\"2016-10-01\",\"2016-11-01\",\"2016-12-01\",\"2017-01-01\",\"2017-02-01\",\"2017-03-01\",\"2017-04-01\",\"2017-05-01\",\"2017-06-01\",\"2017-07-01\",\"2017-08-01\",\"2017-09-01\",\"2017-10-01\",\"2017-11-01\",\"2017-12-01\",\"2018-01-01\",\"2018-02-01\",\"2018-03-01\",\"2018-04-01\",\"2018-05-01\",\"2018-06-01\",\"2018-07-01\",\"2018-08-01\",\"2018-09-01\",\"2018-10-01\",\"2018-11-01\",\"2018-12-01\",\"2019-01-01\",\"2019-02-01\",\"2019-03-01\",\"2019-04-01\",\"2019-05-01\",\"2019-06-01\",\"2019-07-01\",\"2019-08-01\",\"2019-09-01\",\"2019-10-01\",\"2019-11-01\",\"2019-12-01\",\"2020-01-01\",\"2020-02-01\",\"2020-03-01\",\"2020-04-01\",\"2020-05-01\",\"2020-06-01\",\"2020-07-01\",\"2020-08-01\",\"2020-09-01\",\"2020-10-01\",\"2020-11-01\",\"2020-12-01\",\"2021-01-01\",\"2021-02-01\",\"2021-03-01\",\"2021-04-01\",\"2021-05-01\",\"2021-06-01\",\"2021-07-01\",\"2021-08-01\",\"2021-09-01\",\"2021-10-01\",\"2021-11-01\",\"2021-12-01\",\"2022-01-01\",\"2022-02-01\",\"2022-03-01\",\"2022-04-01\",\"2022-05-01\",\"2022-06-01\",\"2022-07-01\",\"2022-08-01\"],\"y\":[0.0,0.017042503973436984,0.030685948982642874,0.038648559334036325,0.039215069161408045,0.038082049506664384,0.039215069161408045,0.04831069916754527,0.060238878310541866,0.06706846900719154,0.06478669331361042,0.05740632917368249,0.05797283900105432,0.0733158134923757,0.08922529781106903,0.09775441798983442,0.1045840086864841,0.11083135317166826,0.12162651265992097,0.1392512628448236,0.15572725699088863,0.16140809164870096,0.16140809164870096,0.16368986734228208,0.1795993516609754,0.20120540702157463,0.21881442082238345,0.22904307048326433,0.2318913560042174,0.2318913560042174,0.23472390514107677,0.24325302531984205,0.25348167498072305,0.2523486553259793,0.24438604497458583,0.23985396635561074,0.23927172014414533,0.24553480101342318,0.25178214549860733,0.2523486553259793,0.25064912584386356,0.24553480101342318,0.24106566793082296,0.23999559381245372,0.2428438793334068,0.24339465277668493,0.2377295545029663,0.2279887327489889,0.22411758226194778,0.22589579366453183,0.22882276110595312,0.22937353454923126,0.2274064865375235,0.2205768958408737,0.2143610241238768,0.2067131414543567,0.2029364092718775,0.19941145923489711,0.19349457881567977,0.18729444348277657,0.1836121296048594,0.18517003163013213,0.1886162997466443,0.19141737611531628,0.19229861362456135,0.19360473350433538,0.19445449824539318,0.1960124002706659,0.20235416306041198,0.20773600642044476,0.20960863612759062,0.2108675468550837,0.2137630415283177,0.21722504602892356,0.2232678175208901,0.22784710529214602,0.23075833634947363,0.23168678301099976,0.23215887453380968,0.23376398571136336,0.24070373109666865,0.24935874234818334,0.25785638975876135,0.2626717232914221,0.2663383007852457,0.2688875950084191,0.2723810722772121,0.2754339307913828,0.27595323146647366,0.27607912253922307,0.2768816781279998,0.2779517522463689,0.28056399200591686,0.2825939855539994,0.2838214235133052,0.2844036697247707,0.2857569987568257,0.2881961382913434,0.29384550018096844,0.29894408862731525,0.30147764646639497,0.3043416683714417,0.3062929799990558,0.3077249909515791,0.311045367995342,0.31220986041827314,0.3091884746722898,0.29908571608415824,0.2907296961304232,0.2887783845028089,0.2895179945552112,0.2910129510441092,0.2928068988307867,0.29516735644483605,0.2981730058067258,0.3024375658961085,0.31513682785969444,0.32166742725856456,0.32681322485719233,0.3291736824712418,0.33188034053535187,0.33760838434544516,0.3438872015988167,0.3497411364816593,0.35356507781641944,0.35729460084661746,0.3597966859175099,0.3632114812658348,0.369317198294176,0.3773427541819441,0.3873983036177948,0.394574094764505,0.4029773238705211,0.4190284356460574,0.43662171306277253,0.4489433018081106,0.45751963113915695,0.46434922183580674,0.47270524178954143,0.48422427494610276,0.49911089429870814,0.5089146615890601,0.5146112326309662,0.5155711520606796,0.518309282892977,0.5224636882937039,0.5276881678127998,0.5323461375045242,0.534376131052607,0.5357294600846618,0.5372244165735598,0.538373172612397,0.542118432026689,0.5477835303004075,0.5521425086943521,0.554487229924308,0.557099469683856,0.5601995373503077,0.56523518026028,0.5694210584291941,0.5715926794341197,0.5742049191936676,0.5784852156671441,0.5850787606023888,0.5945520638267741,0.6051269139377153,0.612853478527704,0.6198089602971031,0.624813130438888,0.6306198561694496,0.6370560372637575,0.6413678065054211,0.6431302815239115,0.6452861661447433,0.6474892599178561,0.6502588635183406,0.65450768722363,0.6585834107038886,0.6620296788204008,0.6660581931483784,0.6693785701921413,0.6736746030497112,0.6811493854942012,0.688954632004658,0.6942892662124096,0.701197538829528,0.7077753473806789,0.7134561820384913,0.7206634459533889,0.7259508710088596,0.732465734023636,0.735880529371961,0.7384298235951343,0.7409004358978395,0.7428674839095473,0.7443309676302581,0.7458416605032494,0.7471163076148362,0.7484696366468913,0.7497285473743844,0.7510504036382519,0.7534265976363952,0.7559444190913813,0.7568571293688136,0.7573292208916236,0.7576439485734967,0.7579429398712765,0.7582104584008686,0.758572395235023,0.7594693691283618,0.76049223409445,0.7612947896832267,0.7618612995105984,0.7625851731789071,0.762868428092593,0.7630257919335297,0.7632461013108409,0.7634034651517776,0.7632775740790281,0.7629943191653421,0.7622547091129401,0.7614836262923508,0.7609328528490724,0.7607597526240422,0.7629785827812487,0.7643319118133036,0.7648040033361136,0.7646623758792706,0.7641902843564607,0.7620501361197223,0.7598155695784223,0.7576439485734967,0.7564322469982847,0.7550789179662296,0.7542134168410783,0.7541504713047036,0.7539773710796733,0.7547169811320755,0.7557241097140699,0.7578327851826208,0.7600516153398273,0.762443545722064,0.7648040033361136,0.765858341070389,0.7667081058114467,0.7703904196893638,0.7763387728767683,0.783498827639385,0.7953797976301007,0.8068201488661935,0.8302988339339388,0.8459565361071333,0.8578847152501299,0.8687900294270383,0.8789557335515445,0.8877995814121831,0.8962500196704801,0.9093112184682204,0.9227028813319276,0.938234692432373,0.9529639479440415,0.9624529875525201,0.973814656868145,0.9805340928761388,0.9848143893496153,0.9882291846979401,0.990007396100524,0.9934379278329426,0.9972303963995155,0.9994177537885345,1.0,0.9985994618156642],\"type\":\"scatter\"}],                        {\"template\":{\"data\":{\"histogram2dcontour\":[{\"type\":\"histogram2dcontour\",\"colorbar\":{\"outlinewidth\":0,\"ticks\":\"\"},\"colorscale\":[[0.0,\"#0d0887\"],[0.1111111111111111,\"#46039f\"],[0.2222222222222222,\"#7201a8\"],[0.3333333333333333,\"#9c179e\"],[0.4444444444444444,\"#bd3786\"],[0.5555555555555556,\"#d8576b\"],[0.6666666666666666,\"#ed7953\"],[0.7777777777777778,\"#fb9f3a\"],[0.8888888888888888,\"#fdca26\"],[1.0,\"#f0f921\"]]}],\"choropleth\":[{\"type\":\"choropleth\",\"colorbar\":{\"outlinewidth\":0,\"ticks\":\"\"}}],\"histogram2d\":[{\"type\":\"histogram2d\",\"colorbar\":{\"outlinewidth\":0,\"ticks\":\"\"},\"colorscale\":[[0.0,\"#0d0887\"],[0.1111111111111111,\"#46039f\"],[0.2222222222222222,\"#7201a8\"],[0.3333333333333333,\"#9c179e\"],[0.4444444444444444,\"#bd3786\"],[0.5555555555555556,\"#d8576b\"],[0.6666666666666666,\"#ed7953\"],[0.7777777777777778,\"#fb9f3a\"],[0.8888888888888888,\"#fdca26\"],[1.0,\"#f0f921\"]]}],\"heatmap\":[{\"type\":\"heatmap\",\"colorbar\":{\"outlinewidth\":0,\"ticks\":\"\"},\"colorscale\":[[0.0,\"#0d0887\"],[0.1111111111111111,\"#46039f\"],[0.2222222222222222,\"#7201a8\"],[0.3333333333333333,\"#9c179e\"],[0.4444444444444444,\"#bd3786\"],[0.5555555555555556,\"#d8576b\"],[0.6666666666666666,\"#ed7953\"],[0.7777777777777778,\"#fb9f3a\"],[0.8888888888888888,\"#fdca26\"],[1.0,\"#f0f921\"]]}],\"heatmapgl\":[{\"type\":\"heatmapgl\",\"colorbar\":{\"outlinewidth\":0,\"ticks\":\"\"},\"colorscale\":[[0.0,\"#0d0887\"],[0.1111111111111111,\"#46039f\"],[0.2222222222222222,\"#7201a8\"],[0.3333333333333333,\"#9c179e\"],[0.4444444444444444,\"#bd3786\"],[0.5555555555555556,\"#d8576b\"],[0.6666666666666666,\"#ed7953\"],[0.7777777777777778,\"#fb9f3a\"],[0.8888888888888888,\"#fdca26\"],[1.0,\"#f0f921\"]]}],\"contourcarpet\":[{\"type\":\"contourcarpet\",\"colorbar\":{\"outlinewidth\":0,\"ticks\":\"\"}}],\"contour\":[{\"type\":\"contour\",\"colorbar\":{\"outlinewidth\":0,\"ticks\":\"\"},\"colorscale\":[[0.0,\"#0d0887\"],[0.1111111111111111,\"#46039f\"],[0.2222222222222222,\"#7201a8\"],[0.3333333333333333,\"#9c179e\"],[0.4444444444444444,\"#bd3786\"],[0.5555555555555556,\"#d8576b\"],[0.6666666666666666,\"#ed7953\"],[0.7777777777777778,\"#fb9f3a\"],[0.8888888888888888,\"#fdca26\"],[1.0,\"#f0f921\"]]}],\"surface\":[{\"type\":\"surface\",\"colorbar\":{\"outlinewidth\":0,\"ticks\":\"\"},\"colorscale\":[[0.0,\"#0d0887\"],[0.1111111111111111,\"#46039f\"],[0.2222222222222222,\"#7201a8\"],[0.3333333333333333,\"#9c179e\"],[0.4444444444444444,\"#bd3786\"],[0.5555555555555556,\"#d8576b\"],[0.6666666666666666,\"#ed7953\"],[0.7777777777777778,\"#fb9f3a\"],[0.8888888888888888,\"#fdca26\"],[1.0,\"#f0f921\"]]}],\"mesh3d\":[{\"type\":\"mesh3d\",\"colorbar\":{\"outlinewidth\":0,\"ticks\":\"\"}}],\"scatter\":[{\"fillpattern\":{\"fillmode\":\"overlay\",\"size\":10,\"solidity\":0.2},\"type\":\"scatter\"}],\"parcoords\":[{\"type\":\"parcoords\",\"line\":{\"colorbar\":{\"outlinewidth\":0,\"ticks\":\"\"}}}],\"scatterpolargl\":[{\"type\":\"scatterpolargl\",\"marker\":{\"colorbar\":{\"outlinewidth\":0,\"ticks\":\"\"}}}],\"bar\":[{\"error_x\":{\"color\":\"#2a3f5f\"},\"error_y\":{\"color\":\"#2a3f5f\"},\"marker\":{\"line\":{\"color\":\"#E5ECF6\",\"width\":0.5},\"pattern\":{\"fillmode\":\"overlay\",\"size\":10,\"solidity\":0.2}},\"type\":\"bar\"}],\"scattergeo\":[{\"type\":\"scattergeo\",\"marker\":{\"colorbar\":{\"outlinewidth\":0,\"ticks\":\"\"}}}],\"scatterpolar\":[{\"type\":\"scatterpolar\",\"marker\":{\"colorbar\":{\"outlinewidth\":0,\"ticks\":\"\"}}}],\"histogram\":[{\"marker\":{\"pattern\":{\"fillmode\":\"overlay\",\"size\":10,\"solidity\":0.2}},\"type\":\"histogram\"}],\"scattergl\":[{\"type\":\"scattergl\",\"marker\":{\"colorbar\":{\"outlinewidth\":0,\"ticks\":\"\"}}}],\"scatter3d\":[{\"type\":\"scatter3d\",\"line\":{\"colorbar\":{\"outlinewidth\":0,\"ticks\":\"\"}},\"marker\":{\"colorbar\":{\"outlinewidth\":0,\"ticks\":\"\"}}}],\"scattermapbox\":[{\"type\":\"scattermapbox\",\"marker\":{\"colorbar\":{\"outlinewidth\":0,\"ticks\":\"\"}}}],\"scatterternary\":[{\"type\":\"scatterternary\",\"marker\":{\"colorbar\":{\"outlinewidth\":0,\"ticks\":\"\"}}}],\"scattercarpet\":[{\"type\":\"scattercarpet\",\"marker\":{\"colorbar\":{\"outlinewidth\":0,\"ticks\":\"\"}}}],\"carpet\":[{\"aaxis\":{\"endlinecolor\":\"#2a3f5f\",\"gridcolor\":\"white\",\"linecolor\":\"white\",\"minorgridcolor\":\"white\",\"startlinecolor\":\"#2a3f5f\"},\"baxis\":{\"endlinecolor\":\"#2a3f5f\",\"gridcolor\":\"white\",\"linecolor\":\"white\",\"minorgridcolor\":\"white\",\"startlinecolor\":\"#2a3f5f\"},\"type\":\"carpet\"}],\"table\":[{\"cells\":{\"fill\":{\"color\":\"#EBF0F8\"},\"line\":{\"color\":\"white\"}},\"header\":{\"fill\":{\"color\":\"#C8D4E3\"},\"line\":{\"color\":\"white\"}},\"type\":\"table\"}],\"barpolar\":[{\"marker\":{\"line\":{\"color\":\"#E5ECF6\",\"width\":0.5},\"pattern\":{\"fillmode\":\"overlay\",\"size\":10,\"solidity\":0.2}},\"type\":\"barpolar\"}],\"pie\":[{\"automargin\":true,\"type\":\"pie\"}]},\"layout\":{\"autotypenumbers\":\"strict\",\"colorway\":[\"#636efa\",\"#EF553B\",\"#00cc96\",\"#ab63fa\",\"#FFA15A\",\"#19d3f3\",\"#FF6692\",\"#B6E880\",\"#FF97FF\",\"#FECB52\"],\"font\":{\"color\":\"#2a3f5f\"},\"hovermode\":\"closest\",\"hoverlabel\":{\"align\":\"left\"},\"paper_bgcolor\":\"white\",\"plot_bgcolor\":\"#E5ECF6\",\"polar\":{\"bgcolor\":\"#E5ECF6\",\"angularaxis\":{\"gridcolor\":\"white\",\"linecolor\":\"white\",\"ticks\":\"\"},\"radialaxis\":{\"gridcolor\":\"white\",\"linecolor\":\"white\",\"ticks\":\"\"}},\"ternary\":{\"bgcolor\":\"#E5ECF6\",\"aaxis\":{\"gridcolor\":\"white\",\"linecolor\":\"white\",\"ticks\":\"\"},\"baxis\":{\"gridcolor\":\"white\",\"linecolor\":\"white\",\"ticks\":\"\"},\"caxis\":{\"gridcolor\":\"white\",\"linecolor\":\"white\",\"ticks\":\"\"}},\"coloraxis\":{\"colorbar\":{\"outlinewidth\":0,\"ticks\":\"\"}},\"colorscale\":{\"sequential\":[[0.0,\"#0d0887\"],[0.1111111111111111,\"#46039f\"],[0.2222222222222222,\"#7201a8\"],[0.3333333333333333,\"#9c179e\"],[0.4444444444444444,\"#bd3786\"],[0.5555555555555556,\"#d8576b\"],[0.6666666666666666,\"#ed7953\"],[0.7777777777777778,\"#fb9f3a\"],[0.8888888888888888,\"#fdca26\"],[1.0,\"#f0f921\"]],\"sequentialminus\":[[0.0,\"#0d0887\"],[0.1111111111111111,\"#46039f\"],[0.2222222222222222,\"#7201a8\"],[0.3333333333333333,\"#9c179e\"],[0.4444444444444444,\"#bd3786\"],[0.5555555555555556,\"#d8576b\"],[0.6666666666666666,\"#ed7953\"],[0.7777777777777778,\"#fb9f3a\"],[0.8888888888888888,\"#fdca26\"],[1.0,\"#f0f921\"]],\"diverging\":[[0,\"#8e0152\"],[0.1,\"#c51b7d\"],[0.2,\"#de77ae\"],[0.3,\"#f1b6da\"],[0.4,\"#fde0ef\"],[0.5,\"#f7f7f7\"],[0.6,\"#e6f5d0\"],[0.7,\"#b8e186\"],[0.8,\"#7fbc41\"],[0.9,\"#4d9221\"],[1,\"#276419\"]]},\"xaxis\":{\"gridcolor\":\"white\",\"linecolor\":\"white\",\"ticks\":\"\",\"title\":{\"standoff\":15},\"zerolinecolor\":\"white\",\"automargin\":true,\"zerolinewidth\":2},\"yaxis\":{\"gridcolor\":\"white\",\"linecolor\":\"white\",\"ticks\":\"\",\"title\":{\"standoff\":15},\"zerolinecolor\":\"white\",\"automargin\":true,\"zerolinewidth\":2},\"scene\":{\"xaxis\":{\"backgroundcolor\":\"#E5ECF6\",\"gridcolor\":\"white\",\"linecolor\":\"white\",\"showbackground\":true,\"ticks\":\"\",\"zerolinecolor\":\"white\",\"gridwidth\":2},\"yaxis\":{\"backgroundcolor\":\"#E5ECF6\",\"gridcolor\":\"white\",\"linecolor\":\"white\",\"showbackground\":true,\"ticks\":\"\",\"zerolinecolor\":\"white\",\"gridwidth\":2},\"zaxis\":{\"backgroundcolor\":\"#E5ECF6\",\"gridcolor\":\"white\",\"linecolor\":\"white\",\"showbackground\":true,\"ticks\":\"\",\"zerolinecolor\":\"white\",\"gridwidth\":2}},\"shapedefaults\":{\"line\":{\"color\":\"#2a3f5f\"}},\"annotationdefaults\":{\"arrowcolor\":\"#2a3f5f\",\"arrowhead\":0,\"arrowwidth\":1},\"geo\":{\"bgcolor\":\"white\",\"landcolor\":\"#E5ECF6\",\"subunitcolor\":\"white\",\"showland\":true,\"showlakes\":true,\"lakecolor\":\"white\"},\"title\":{\"x\":0.05},\"mapbox\":{\"style\":\"light\"}}},\"margin\":{\"l\":0,\"r\":0,\"t\":0,\"b\":0},\"plot_bgcolor\":\"rgb(249,249,249)\",\"title\":{\"text\":\"\\uc77c\\ubc18\\ud654 \\uc774\\uc804 \\ucd94\\uc774 \\uadf8\\ub798\\ud504\",\"x\":0.5},\"xaxis\":{\"rangeslider\":{\"visible\":true},\"rangeselector\":{\"buttons\":[{\"count\":1,\"label\":\"\\ud55c\\ub2ec\",\"step\":\"month\",\"stepmode\":\"backward\"},{\"count\":6,\"label\":\"6\\uac1c\\uc6d4\",\"step\":\"month\",\"stepmode\":\"backward\"},{\"count\":1,\"label\":\"1\\ub144\",\"step\":\"year\",\"stepmode\":\"backward\"},{\"count\":1,\"label\":\"\\uc62c\\ud574\",\"step\":\"year\",\"stepmode\":\"todate\"},{\"label\":\"\\uc804\\uccb4(2000.01~2022.08)\",\"step\":\"all\"}]},\"type\":\"date\"}},                        {\"responsive\": true}                    ).then(function(){\n",
       "                            \n",
       "var gd = document.getElementById('eb24522b-c155-4f71-aeeb-70275652209f');\n",
       "var x = new MutationObserver(function (mutations, observer) {{\n",
       "        var display = window.getComputedStyle(gd).display;\n",
       "        if (!display || display === 'none') {{\n",
       "            console.log([gd, 'removed!']);\n",
       "            Plotly.purge(gd);\n",
       "            observer.disconnect();\n",
       "        }}\n",
       "}});\n",
       "\n",
       "// Listen for the removal of the full notebook cells\n",
       "var notebookContainer = gd.closest('#notebook-container');\n",
       "if (notebookContainer) {{\n",
       "    x.observe(notebookContainer, {childList: true});\n",
       "}}\n",
       "\n",
       "// Listen for the clearing of the current output cell\n",
       "var outputEl = gd.closest('.output');\n",
       "if (outputEl) {{\n",
       "    x.observe(outputEl, {childList: true});\n",
       "}}\n",
       "\n",
       "                        })                };                });            </script>        </div>"
      ]
     },
     "metadata": {},
     "output_type": "display_data"
    }
   ],
   "source": [
    "fig = go.Figure([\n",
    "    go.Scatter(name=\"가계예금총금액\",x=df.index,y=df['가계예금총금액'],mode='lines',line=dict(color='#ffeead',width=2)),\n",
    "    go.Scatter(name=\"주택매매가격지수\",x=df.index,y=df['주택매매가격지수'],mode='lines',line=dict(color='#96ceb4',width=2)),\n",
    "    go.Scatter(name=\"취업자수\",x=df.index,y=df['취업자수'],mode='lines',line=dict(color='#88d8b0',width=2)),\n",
    "    go.Scatter(name=\"가계대출금리\",x=df.index,y=df['가계대출금리'],mode='lines',line=dict(color='#ffcc5c',width=2)),\n",
    "    go.Scatter(name=\"주택전세가격지수\",x=df.index,y=df['주택전세가격지수'],mode='lines',line=dict(color='#ff6f69',width = 6))\n",
    "    ])\n",
    "fig.update_layout(plot_bgcolor='rgb(249,249,249)', margin=dict(l=0, r=0, t=0, b=0))\n",
    "\n",
    "fig.update_layout(\n",
    "    title_text='일반화 이전 추이 그래프',\n",
    "    title_x=0.5,\n",
    "        xaxis=dict(\n",
    "            rangeselector=dict(\n",
    "                buttons=list([\n",
    "                    dict(count=1,\n",
    "                         label=\"한달\",\n",
    "                         step=\"month\",\n",
    "                         stepmode=\"backward\"),\n",
    "                    dict(count=6,\n",
    "                         label=\"6개월\",\n",
    "                         step=\"month\",\n",
    "                         stepmode=\"backward\"),\n",
    "                    dict(count=1,\n",
    "                         label=\"1년\",\n",
    "                         step=\"year\",\n",
    "                         stepmode=\"backward\"),\n",
    "                    dict(count=1,\n",
    "                         label=\"올해\",\n",
    "                         step=\"year\",\n",
    "                         stepmode=\"todate\"),\n",
    "                    dict(label=\"전체(2000.01~2022.08)\",\n",
    "                         step=\"all\")\n",
    "                ])\n",
    "            ),\n",
    "            rangeslider=dict(\n",
    "                visible=True\n",
    "            ),\n",
    "            type=\"date\"\n",
    "        )\n",
    "    )\n",
    "\n",
    "fig.show()"
   ]
  },
  {
   "cell_type": "markdown",
   "id": "f0ccb813",
   "metadata": {
    "slideshow": {
     "slide_type": "slide"
    }
   },
   "source": [
    "## 상관계수 with Heatmap"
   ]
  },
  {
   "cell_type": "code",
   "execution_count": 79,
   "id": "2d589e1b",
   "metadata": {
    "slideshow": {
     "slide_type": "slide"
    }
   },
   "outputs": [
    {
     "data": {
      "text/html": [
       "<div>\n",
       "<style scoped>\n",
       "    .dataframe tbody tr th:only-of-type {\n",
       "        vertical-align: middle;\n",
       "    }\n",
       "\n",
       "    .dataframe tbody tr th {\n",
       "        vertical-align: top;\n",
       "    }\n",
       "\n",
       "    .dataframe thead th {\n",
       "        text-align: right;\n",
       "    }\n",
       "</style>\n",
       "<table border=\"1\" class=\"dataframe\">\n",
       "  <thead>\n",
       "    <tr style=\"text-align: right;\">\n",
       "      <th></th>\n",
       "      <th>가계예금총금액</th>\n",
       "      <th>주택매매가격지수</th>\n",
       "      <th>취업자수</th>\n",
       "      <th>가계대출금리</th>\n",
       "      <th>주택전세가격지수</th>\n",
       "    </tr>\n",
       "  </thead>\n",
       "  <tbody>\n",
       "    <tr>\n",
       "      <th>가계예금총금액</th>\n",
       "      <td>1.000000</td>\n",
       "      <td>0.947513</td>\n",
       "      <td>0.960399</td>\n",
       "      <td>-0.860786</td>\n",
       "      <td>0.979447</td>\n",
       "    </tr>\n",
       "    <tr>\n",
       "      <th>주택매매가격지수</th>\n",
       "      <td>0.947513</td>\n",
       "      <td>1.000000</td>\n",
       "      <td>0.963824</td>\n",
       "      <td>-0.844617</td>\n",
       "      <td>0.957685</td>\n",
       "    </tr>\n",
       "    <tr>\n",
       "      <th>취업자수</th>\n",
       "      <td>0.960399</td>\n",
       "      <td>0.963824</td>\n",
       "      <td>1.000000</td>\n",
       "      <td>-0.901368</td>\n",
       "      <td>0.983995</td>\n",
       "    </tr>\n",
       "    <tr>\n",
       "      <th>가계대출금리</th>\n",
       "      <td>-0.860786</td>\n",
       "      <td>-0.844617</td>\n",
       "      <td>-0.901368</td>\n",
       "      <td>1.000000</td>\n",
       "      <td>-0.884745</td>\n",
       "    </tr>\n",
       "    <tr>\n",
       "      <th>주택전세가격지수</th>\n",
       "      <td>0.979447</td>\n",
       "      <td>0.957685</td>\n",
       "      <td>0.983995</td>\n",
       "      <td>-0.884745</td>\n",
       "      <td>1.000000</td>\n",
       "    </tr>\n",
       "  </tbody>\n",
       "</table>\n",
       "</div>"
      ],
      "text/plain": [
       "           가계예금총금액  주택매매가격지수      취업자수    가계대출금리  주택전세가격지수\n",
       "가계예금총금액   1.000000  0.947513  0.960399 -0.860786  0.979447\n",
       "주택매매가격지수  0.947513  1.000000  0.963824 -0.844617  0.957685\n",
       "취업자수      0.960399  0.963824  1.000000 -0.901368  0.983995\n",
       "가계대출금리   -0.860786 -0.844617 -0.901368  1.000000 -0.884745\n",
       "주택전세가격지수  0.979447  0.957685  0.983995 -0.884745  1.000000"
      ]
     },
     "execution_count": 79,
     "metadata": {},
     "output_type": "execute_result"
    }
   ],
   "source": [
    "df_corr_2 = df.corr()\n",
    "df_corr_2"
   ]
  },
  {
   "cell_type": "code",
   "execution_count": 80,
   "id": "3b47dc3b",
   "metadata": {
    "scrolled": false,
    "slideshow": {
     "slide_type": "slide"
    }
   },
   "outputs": [
    {
     "data": {
      "application/vnd.plotly.v1+json": {
       "config": {
        "plotlyServerURL": "https://plot.ly"
       },
       "data": [
        {
         "coloraxis": "coloraxis",
         "hovertemplate": "x: %{x}<br>y: %{y}<br>color: %{z}<extra></extra>",
         "name": "0",
         "texttemplate": "%{z}",
         "type": "heatmap",
         "x": [
          "가계예금총금액",
          "주택매매가격지수",
          "취업자수",
          "가계대출금리",
          "주택전세가격지수"
         ],
         "xaxis": "x",
         "y": [
          "가계예금총금액",
          "주택매매가격지수",
          "취업자수",
          "가계대출금리",
          "주택전세가격지수"
         ],
         "yaxis": "y",
         "z": [
          [
           1,
           0.947512723109345,
           0.9603993558912712,
           -0.860786492015706,
           0.9794473848594606
          ],
          [
           0.947512723109345,
           1,
           0.9638238397010304,
           -0.8446165667445625,
           0.9576850871023369
          ],
          [
           0.9603993558912712,
           0.9638238397010304,
           1,
           -0.9013681133207547,
           0.9839948982002003
          ],
          [
           -0.860786492015706,
           -0.8446165667445625,
           -0.9013681133207547,
           1,
           -0.884744983874221
          ],
          [
           0.9794473848594606,
           0.9576850871023369,
           0.9839948982002003,
           -0.884744983874221,
           1
          ]
         ]
        }
       ],
       "layout": {
        "coloraxis": {
         "colorscale": [
          [
           0,
           "rgb(5,48,97)"
          ],
          [
           0.1,
           "rgb(33,102,172)"
          ],
          [
           0.2,
           "rgb(67,147,195)"
          ],
          [
           0.3,
           "rgb(146,197,222)"
          ],
          [
           0.4,
           "rgb(209,229,240)"
          ],
          [
           0.5,
           "rgb(247,247,247)"
          ],
          [
           0.6,
           "rgb(253,219,199)"
          ],
          [
           0.7,
           "rgb(244,165,130)"
          ],
          [
           0.8,
           "rgb(214,96,77)"
          ],
          [
           0.9,
           "rgb(178,24,43)"
          ],
          [
           1,
           "rgb(103,0,31)"
          ]
         ]
        },
        "template": {
         "data": {
          "bar": [
           {
            "error_x": {
             "color": "#2a3f5f"
            },
            "error_y": {
             "color": "#2a3f5f"
            },
            "marker": {
             "line": {
              "color": "#E5ECF6",
              "width": 0.5
             },
             "pattern": {
              "fillmode": "overlay",
              "size": 10,
              "solidity": 0.2
             }
            },
            "type": "bar"
           }
          ],
          "barpolar": [
           {
            "marker": {
             "line": {
              "color": "#E5ECF6",
              "width": 0.5
             },
             "pattern": {
              "fillmode": "overlay",
              "size": 10,
              "solidity": 0.2
             }
            },
            "type": "barpolar"
           }
          ],
          "carpet": [
           {
            "aaxis": {
             "endlinecolor": "#2a3f5f",
             "gridcolor": "white",
             "linecolor": "white",
             "minorgridcolor": "white",
             "startlinecolor": "#2a3f5f"
            },
            "baxis": {
             "endlinecolor": "#2a3f5f",
             "gridcolor": "white",
             "linecolor": "white",
             "minorgridcolor": "white",
             "startlinecolor": "#2a3f5f"
            },
            "type": "carpet"
           }
          ],
          "choropleth": [
           {
            "colorbar": {
             "outlinewidth": 0,
             "ticks": ""
            },
            "type": "choropleth"
           }
          ],
          "contour": [
           {
            "colorbar": {
             "outlinewidth": 0,
             "ticks": ""
            },
            "colorscale": [
             [
              0,
              "#0d0887"
             ],
             [
              0.1111111111111111,
              "#46039f"
             ],
             [
              0.2222222222222222,
              "#7201a8"
             ],
             [
              0.3333333333333333,
              "#9c179e"
             ],
             [
              0.4444444444444444,
              "#bd3786"
             ],
             [
              0.5555555555555556,
              "#d8576b"
             ],
             [
              0.6666666666666666,
              "#ed7953"
             ],
             [
              0.7777777777777778,
              "#fb9f3a"
             ],
             [
              0.8888888888888888,
              "#fdca26"
             ],
             [
              1,
              "#f0f921"
             ]
            ],
            "type": "contour"
           }
          ],
          "contourcarpet": [
           {
            "colorbar": {
             "outlinewidth": 0,
             "ticks": ""
            },
            "type": "contourcarpet"
           }
          ],
          "heatmap": [
           {
            "colorbar": {
             "outlinewidth": 0,
             "ticks": ""
            },
            "colorscale": [
             [
              0,
              "#0d0887"
             ],
             [
              0.1111111111111111,
              "#46039f"
             ],
             [
              0.2222222222222222,
              "#7201a8"
             ],
             [
              0.3333333333333333,
              "#9c179e"
             ],
             [
              0.4444444444444444,
              "#bd3786"
             ],
             [
              0.5555555555555556,
              "#d8576b"
             ],
             [
              0.6666666666666666,
              "#ed7953"
             ],
             [
              0.7777777777777778,
              "#fb9f3a"
             ],
             [
              0.8888888888888888,
              "#fdca26"
             ],
             [
              1,
              "#f0f921"
             ]
            ],
            "type": "heatmap"
           }
          ],
          "heatmapgl": [
           {
            "colorbar": {
             "outlinewidth": 0,
             "ticks": ""
            },
            "colorscale": [
             [
              0,
              "#0d0887"
             ],
             [
              0.1111111111111111,
              "#46039f"
             ],
             [
              0.2222222222222222,
              "#7201a8"
             ],
             [
              0.3333333333333333,
              "#9c179e"
             ],
             [
              0.4444444444444444,
              "#bd3786"
             ],
             [
              0.5555555555555556,
              "#d8576b"
             ],
             [
              0.6666666666666666,
              "#ed7953"
             ],
             [
              0.7777777777777778,
              "#fb9f3a"
             ],
             [
              0.8888888888888888,
              "#fdca26"
             ],
             [
              1,
              "#f0f921"
             ]
            ],
            "type": "heatmapgl"
           }
          ],
          "histogram": [
           {
            "marker": {
             "pattern": {
              "fillmode": "overlay",
              "size": 10,
              "solidity": 0.2
             }
            },
            "type": "histogram"
           }
          ],
          "histogram2d": [
           {
            "colorbar": {
             "outlinewidth": 0,
             "ticks": ""
            },
            "colorscale": [
             [
              0,
              "#0d0887"
             ],
             [
              0.1111111111111111,
              "#46039f"
             ],
             [
              0.2222222222222222,
              "#7201a8"
             ],
             [
              0.3333333333333333,
              "#9c179e"
             ],
             [
              0.4444444444444444,
              "#bd3786"
             ],
             [
              0.5555555555555556,
              "#d8576b"
             ],
             [
              0.6666666666666666,
              "#ed7953"
             ],
             [
              0.7777777777777778,
              "#fb9f3a"
             ],
             [
              0.8888888888888888,
              "#fdca26"
             ],
             [
              1,
              "#f0f921"
             ]
            ],
            "type": "histogram2d"
           }
          ],
          "histogram2dcontour": [
           {
            "colorbar": {
             "outlinewidth": 0,
             "ticks": ""
            },
            "colorscale": [
             [
              0,
              "#0d0887"
             ],
             [
              0.1111111111111111,
              "#46039f"
             ],
             [
              0.2222222222222222,
              "#7201a8"
             ],
             [
              0.3333333333333333,
              "#9c179e"
             ],
             [
              0.4444444444444444,
              "#bd3786"
             ],
             [
              0.5555555555555556,
              "#d8576b"
             ],
             [
              0.6666666666666666,
              "#ed7953"
             ],
             [
              0.7777777777777778,
              "#fb9f3a"
             ],
             [
              0.8888888888888888,
              "#fdca26"
             ],
             [
              1,
              "#f0f921"
             ]
            ],
            "type": "histogram2dcontour"
           }
          ],
          "mesh3d": [
           {
            "colorbar": {
             "outlinewidth": 0,
             "ticks": ""
            },
            "type": "mesh3d"
           }
          ],
          "parcoords": [
           {
            "line": {
             "colorbar": {
              "outlinewidth": 0,
              "ticks": ""
             }
            },
            "type": "parcoords"
           }
          ],
          "pie": [
           {
            "automargin": true,
            "type": "pie"
           }
          ],
          "scatter": [
           {
            "fillpattern": {
             "fillmode": "overlay",
             "size": 10,
             "solidity": 0.2
            },
            "type": "scatter"
           }
          ],
          "scatter3d": [
           {
            "line": {
             "colorbar": {
              "outlinewidth": 0,
              "ticks": ""
             }
            },
            "marker": {
             "colorbar": {
              "outlinewidth": 0,
              "ticks": ""
             }
            },
            "type": "scatter3d"
           }
          ],
          "scattercarpet": [
           {
            "marker": {
             "colorbar": {
              "outlinewidth": 0,
              "ticks": ""
             }
            },
            "type": "scattercarpet"
           }
          ],
          "scattergeo": [
           {
            "marker": {
             "colorbar": {
              "outlinewidth": 0,
              "ticks": ""
             }
            },
            "type": "scattergeo"
           }
          ],
          "scattergl": [
           {
            "marker": {
             "colorbar": {
              "outlinewidth": 0,
              "ticks": ""
             }
            },
            "type": "scattergl"
           }
          ],
          "scattermapbox": [
           {
            "marker": {
             "colorbar": {
              "outlinewidth": 0,
              "ticks": ""
             }
            },
            "type": "scattermapbox"
           }
          ],
          "scatterpolar": [
           {
            "marker": {
             "colorbar": {
              "outlinewidth": 0,
              "ticks": ""
             }
            },
            "type": "scatterpolar"
           }
          ],
          "scatterpolargl": [
           {
            "marker": {
             "colorbar": {
              "outlinewidth": 0,
              "ticks": ""
             }
            },
            "type": "scatterpolargl"
           }
          ],
          "scatterternary": [
           {
            "marker": {
             "colorbar": {
              "outlinewidth": 0,
              "ticks": ""
             }
            },
            "type": "scatterternary"
           }
          ],
          "surface": [
           {
            "colorbar": {
             "outlinewidth": 0,
             "ticks": ""
            },
            "colorscale": [
             [
              0,
              "#0d0887"
             ],
             [
              0.1111111111111111,
              "#46039f"
             ],
             [
              0.2222222222222222,
              "#7201a8"
             ],
             [
              0.3333333333333333,
              "#9c179e"
             ],
             [
              0.4444444444444444,
              "#bd3786"
             ],
             [
              0.5555555555555556,
              "#d8576b"
             ],
             [
              0.6666666666666666,
              "#ed7953"
             ],
             [
              0.7777777777777778,
              "#fb9f3a"
             ],
             [
              0.8888888888888888,
              "#fdca26"
             ],
             [
              1,
              "#f0f921"
             ]
            ],
            "type": "surface"
           }
          ],
          "table": [
           {
            "cells": {
             "fill": {
              "color": "#EBF0F8"
             },
             "line": {
              "color": "white"
             }
            },
            "header": {
             "fill": {
              "color": "#C8D4E3"
             },
             "line": {
              "color": "white"
             }
            },
            "type": "table"
           }
          ]
         },
         "layout": {
          "annotationdefaults": {
           "arrowcolor": "#2a3f5f",
           "arrowhead": 0,
           "arrowwidth": 1
          },
          "autotypenumbers": "strict",
          "coloraxis": {
           "colorbar": {
            "outlinewidth": 0,
            "ticks": ""
           }
          },
          "colorscale": {
           "diverging": [
            [
             0,
             "#8e0152"
            ],
            [
             0.1,
             "#c51b7d"
            ],
            [
             0.2,
             "#de77ae"
            ],
            [
             0.3,
             "#f1b6da"
            ],
            [
             0.4,
             "#fde0ef"
            ],
            [
             0.5,
             "#f7f7f7"
            ],
            [
             0.6,
             "#e6f5d0"
            ],
            [
             0.7,
             "#b8e186"
            ],
            [
             0.8,
             "#7fbc41"
            ],
            [
             0.9,
             "#4d9221"
            ],
            [
             1,
             "#276419"
            ]
           ],
           "sequential": [
            [
             0,
             "#0d0887"
            ],
            [
             0.1111111111111111,
             "#46039f"
            ],
            [
             0.2222222222222222,
             "#7201a8"
            ],
            [
             0.3333333333333333,
             "#9c179e"
            ],
            [
             0.4444444444444444,
             "#bd3786"
            ],
            [
             0.5555555555555556,
             "#d8576b"
            ],
            [
             0.6666666666666666,
             "#ed7953"
            ],
            [
             0.7777777777777778,
             "#fb9f3a"
            ],
            [
             0.8888888888888888,
             "#fdca26"
            ],
            [
             1,
             "#f0f921"
            ]
           ],
           "sequentialminus": [
            [
             0,
             "#0d0887"
            ],
            [
             0.1111111111111111,
             "#46039f"
            ],
            [
             0.2222222222222222,
             "#7201a8"
            ],
            [
             0.3333333333333333,
             "#9c179e"
            ],
            [
             0.4444444444444444,
             "#bd3786"
            ],
            [
             0.5555555555555556,
             "#d8576b"
            ],
            [
             0.6666666666666666,
             "#ed7953"
            ],
            [
             0.7777777777777778,
             "#fb9f3a"
            ],
            [
             0.8888888888888888,
             "#fdca26"
            ],
            [
             1,
             "#f0f921"
            ]
           ]
          },
          "colorway": [
           "#636efa",
           "#EF553B",
           "#00cc96",
           "#ab63fa",
           "#FFA15A",
           "#19d3f3",
           "#FF6692",
           "#B6E880",
           "#FF97FF",
           "#FECB52"
          ],
          "font": {
           "color": "#2a3f5f"
          },
          "geo": {
           "bgcolor": "white",
           "lakecolor": "white",
           "landcolor": "#E5ECF6",
           "showlakes": true,
           "showland": true,
           "subunitcolor": "white"
          },
          "hoverlabel": {
           "align": "left"
          },
          "hovermode": "closest",
          "mapbox": {
           "style": "light"
          },
          "paper_bgcolor": "white",
          "plot_bgcolor": "#E5ECF6",
          "polar": {
           "angularaxis": {
            "gridcolor": "white",
            "linecolor": "white",
            "ticks": ""
           },
           "bgcolor": "#E5ECF6",
           "radialaxis": {
            "gridcolor": "white",
            "linecolor": "white",
            "ticks": ""
           }
          },
          "scene": {
           "xaxis": {
            "backgroundcolor": "#E5ECF6",
            "gridcolor": "white",
            "gridwidth": 2,
            "linecolor": "white",
            "showbackground": true,
            "ticks": "",
            "zerolinecolor": "white"
           },
           "yaxis": {
            "backgroundcolor": "#E5ECF6",
            "gridcolor": "white",
            "gridwidth": 2,
            "linecolor": "white",
            "showbackground": true,
            "ticks": "",
            "zerolinecolor": "white"
           },
           "zaxis": {
            "backgroundcolor": "#E5ECF6",
            "gridcolor": "white",
            "gridwidth": 2,
            "linecolor": "white",
            "showbackground": true,
            "ticks": "",
            "zerolinecolor": "white"
           }
          },
          "shapedefaults": {
           "line": {
            "color": "#2a3f5f"
           }
          },
          "ternary": {
           "aaxis": {
            "gridcolor": "white",
            "linecolor": "white",
            "ticks": ""
           },
           "baxis": {
            "gridcolor": "white",
            "linecolor": "white",
            "ticks": ""
           },
           "bgcolor": "#E5ECF6",
           "caxis": {
            "gridcolor": "white",
            "linecolor": "white",
            "ticks": ""
           }
          },
          "title": {
           "x": 0.05
          },
          "xaxis": {
           "automargin": true,
           "gridcolor": "white",
           "linecolor": "white",
           "ticks": "",
           "title": {
            "standoff": 15
           },
           "zerolinecolor": "white",
           "zerolinewidth": 2
          },
          "yaxis": {
           "automargin": true,
           "gridcolor": "white",
           "linecolor": "white",
           "ticks": "",
           "title": {
            "standoff": 15
           },
           "zerolinecolor": "white",
           "zerolinewidth": 2
          }
         }
        },
        "title": {
         "text": "일반화 이후_상관관계 히트맵"
        },
        "xaxis": {
         "anchor": "y",
         "constrain": "domain",
         "domain": [
          0,
          1
         ],
         "scaleanchor": "y"
        },
        "yaxis": {
         "anchor": "x",
         "autorange": "reversed",
         "constrain": "domain",
         "domain": [
          0,
          1
         ]
        }
       }
      },
      "text/html": [
       "<div>                            <div id=\"4aea6e18-0464-4662-94dd-e3e9f13c261b\" class=\"plotly-graph-div\" style=\"height:525px; width:100%;\"></div>            <script type=\"text/javascript\">                require([\"plotly\"], function(Plotly) {                    window.PLOTLYENV=window.PLOTLYENV || {};                                    if (document.getElementById(\"4aea6e18-0464-4662-94dd-e3e9f13c261b\")) {                    Plotly.newPlot(                        \"4aea6e18-0464-4662-94dd-e3e9f13c261b\",                        [{\"coloraxis\":\"coloraxis\",\"name\":\"0\",\"texttemplate\":\"%{z}\",\"x\":[\"\\uac00\\uacc4\\uc608\\uae08\\ucd1d\\uae08\\uc561\",\"\\uc8fc\\ud0dd\\ub9e4\\ub9e4\\uac00\\uaca9\\uc9c0\\uc218\",\"\\ucde8\\uc5c5\\uc790\\uc218\",\"\\uac00\\uacc4\\ub300\\ucd9c\\uae08\\ub9ac\",\"\\uc8fc\\ud0dd\\uc804\\uc138\\uac00\\uaca9\\uc9c0\\uc218\"],\"y\":[\"\\uac00\\uacc4\\uc608\\uae08\\ucd1d\\uae08\\uc561\",\"\\uc8fc\\ud0dd\\ub9e4\\ub9e4\\uac00\\uaca9\\uc9c0\\uc218\",\"\\ucde8\\uc5c5\\uc790\\uc218\",\"\\uac00\\uacc4\\ub300\\ucd9c\\uae08\\ub9ac\",\"\\uc8fc\\ud0dd\\uc804\\uc138\\uac00\\uaca9\\uc9c0\\uc218\"],\"z\":[[1.0,0.947512723109345,0.9603993558912712,-0.860786492015706,0.9794473848594606],[0.947512723109345,1.0,0.9638238397010304,-0.8446165667445625,0.9576850871023369],[0.9603993558912712,0.9638238397010304,1.0,-0.9013681133207547,0.9839948982002003],[-0.860786492015706,-0.8446165667445625,-0.9013681133207547,1.0,-0.884744983874221],[0.9794473848594606,0.9576850871023369,0.9839948982002003,-0.884744983874221,1.0]],\"type\":\"heatmap\",\"xaxis\":\"x\",\"yaxis\":\"y\",\"hovertemplate\":\"x: %{x}<br>y: %{y}<br>color: %{z}<extra></extra>\"}],                        {\"template\":{\"data\":{\"histogram2dcontour\":[{\"type\":\"histogram2dcontour\",\"colorbar\":{\"outlinewidth\":0,\"ticks\":\"\"},\"colorscale\":[[0.0,\"#0d0887\"],[0.1111111111111111,\"#46039f\"],[0.2222222222222222,\"#7201a8\"],[0.3333333333333333,\"#9c179e\"],[0.4444444444444444,\"#bd3786\"],[0.5555555555555556,\"#d8576b\"],[0.6666666666666666,\"#ed7953\"],[0.7777777777777778,\"#fb9f3a\"],[0.8888888888888888,\"#fdca26\"],[1.0,\"#f0f921\"]]}],\"choropleth\":[{\"type\":\"choropleth\",\"colorbar\":{\"outlinewidth\":0,\"ticks\":\"\"}}],\"histogram2d\":[{\"type\":\"histogram2d\",\"colorbar\":{\"outlinewidth\":0,\"ticks\":\"\"},\"colorscale\":[[0.0,\"#0d0887\"],[0.1111111111111111,\"#46039f\"],[0.2222222222222222,\"#7201a8\"],[0.3333333333333333,\"#9c179e\"],[0.4444444444444444,\"#bd3786\"],[0.5555555555555556,\"#d8576b\"],[0.6666666666666666,\"#ed7953\"],[0.7777777777777778,\"#fb9f3a\"],[0.8888888888888888,\"#fdca26\"],[1.0,\"#f0f921\"]]}],\"heatmap\":[{\"type\":\"heatmap\",\"colorbar\":{\"outlinewidth\":0,\"ticks\":\"\"},\"colorscale\":[[0.0,\"#0d0887\"],[0.1111111111111111,\"#46039f\"],[0.2222222222222222,\"#7201a8\"],[0.3333333333333333,\"#9c179e\"],[0.4444444444444444,\"#bd3786\"],[0.5555555555555556,\"#d8576b\"],[0.6666666666666666,\"#ed7953\"],[0.7777777777777778,\"#fb9f3a\"],[0.8888888888888888,\"#fdca26\"],[1.0,\"#f0f921\"]]}],\"heatmapgl\":[{\"type\":\"heatmapgl\",\"colorbar\":{\"outlinewidth\":0,\"ticks\":\"\"},\"colorscale\":[[0.0,\"#0d0887\"],[0.1111111111111111,\"#46039f\"],[0.2222222222222222,\"#7201a8\"],[0.3333333333333333,\"#9c179e\"],[0.4444444444444444,\"#bd3786\"],[0.5555555555555556,\"#d8576b\"],[0.6666666666666666,\"#ed7953\"],[0.7777777777777778,\"#fb9f3a\"],[0.8888888888888888,\"#fdca26\"],[1.0,\"#f0f921\"]]}],\"contourcarpet\":[{\"type\":\"contourcarpet\",\"colorbar\":{\"outlinewidth\":0,\"ticks\":\"\"}}],\"contour\":[{\"type\":\"contour\",\"colorbar\":{\"outlinewidth\":0,\"ticks\":\"\"},\"colorscale\":[[0.0,\"#0d0887\"],[0.1111111111111111,\"#46039f\"],[0.2222222222222222,\"#7201a8\"],[0.3333333333333333,\"#9c179e\"],[0.4444444444444444,\"#bd3786\"],[0.5555555555555556,\"#d8576b\"],[0.6666666666666666,\"#ed7953\"],[0.7777777777777778,\"#fb9f3a\"],[0.8888888888888888,\"#fdca26\"],[1.0,\"#f0f921\"]]}],\"surface\":[{\"type\":\"surface\",\"colorbar\":{\"outlinewidth\":0,\"ticks\":\"\"},\"colorscale\":[[0.0,\"#0d0887\"],[0.1111111111111111,\"#46039f\"],[0.2222222222222222,\"#7201a8\"],[0.3333333333333333,\"#9c179e\"],[0.4444444444444444,\"#bd3786\"],[0.5555555555555556,\"#d8576b\"],[0.6666666666666666,\"#ed7953\"],[0.7777777777777778,\"#fb9f3a\"],[0.8888888888888888,\"#fdca26\"],[1.0,\"#f0f921\"]]}],\"mesh3d\":[{\"type\":\"mesh3d\",\"colorbar\":{\"outlinewidth\":0,\"ticks\":\"\"}}],\"scatter\":[{\"fillpattern\":{\"fillmode\":\"overlay\",\"size\":10,\"solidity\":0.2},\"type\":\"scatter\"}],\"parcoords\":[{\"type\":\"parcoords\",\"line\":{\"colorbar\":{\"outlinewidth\":0,\"ticks\":\"\"}}}],\"scatterpolargl\":[{\"type\":\"scatterpolargl\",\"marker\":{\"colorbar\":{\"outlinewidth\":0,\"ticks\":\"\"}}}],\"bar\":[{\"error_x\":{\"color\":\"#2a3f5f\"},\"error_y\":{\"color\":\"#2a3f5f\"},\"marker\":{\"line\":{\"color\":\"#E5ECF6\",\"width\":0.5},\"pattern\":{\"fillmode\":\"overlay\",\"size\":10,\"solidity\":0.2}},\"type\":\"bar\"}],\"scattergeo\":[{\"type\":\"scattergeo\",\"marker\":{\"colorbar\":{\"outlinewidth\":0,\"ticks\":\"\"}}}],\"scatterpolar\":[{\"type\":\"scatterpolar\",\"marker\":{\"colorbar\":{\"outlinewidth\":0,\"ticks\":\"\"}}}],\"histogram\":[{\"marker\":{\"pattern\":{\"fillmode\":\"overlay\",\"size\":10,\"solidity\":0.2}},\"type\":\"histogram\"}],\"scattergl\":[{\"type\":\"scattergl\",\"marker\":{\"colorbar\":{\"outlinewidth\":0,\"ticks\":\"\"}}}],\"scatter3d\":[{\"type\":\"scatter3d\",\"line\":{\"colorbar\":{\"outlinewidth\":0,\"ticks\":\"\"}},\"marker\":{\"colorbar\":{\"outlinewidth\":0,\"ticks\":\"\"}}}],\"scattermapbox\":[{\"type\":\"scattermapbox\",\"marker\":{\"colorbar\":{\"outlinewidth\":0,\"ticks\":\"\"}}}],\"scatterternary\":[{\"type\":\"scatterternary\",\"marker\":{\"colorbar\":{\"outlinewidth\":0,\"ticks\":\"\"}}}],\"scattercarpet\":[{\"type\":\"scattercarpet\",\"marker\":{\"colorbar\":{\"outlinewidth\":0,\"ticks\":\"\"}}}],\"carpet\":[{\"aaxis\":{\"endlinecolor\":\"#2a3f5f\",\"gridcolor\":\"white\",\"linecolor\":\"white\",\"minorgridcolor\":\"white\",\"startlinecolor\":\"#2a3f5f\"},\"baxis\":{\"endlinecolor\":\"#2a3f5f\",\"gridcolor\":\"white\",\"linecolor\":\"white\",\"minorgridcolor\":\"white\",\"startlinecolor\":\"#2a3f5f\"},\"type\":\"carpet\"}],\"table\":[{\"cells\":{\"fill\":{\"color\":\"#EBF0F8\"},\"line\":{\"color\":\"white\"}},\"header\":{\"fill\":{\"color\":\"#C8D4E3\"},\"line\":{\"color\":\"white\"}},\"type\":\"table\"}],\"barpolar\":[{\"marker\":{\"line\":{\"color\":\"#E5ECF6\",\"width\":0.5},\"pattern\":{\"fillmode\":\"overlay\",\"size\":10,\"solidity\":0.2}},\"type\":\"barpolar\"}],\"pie\":[{\"automargin\":true,\"type\":\"pie\"}]},\"layout\":{\"autotypenumbers\":\"strict\",\"colorway\":[\"#636efa\",\"#EF553B\",\"#00cc96\",\"#ab63fa\",\"#FFA15A\",\"#19d3f3\",\"#FF6692\",\"#B6E880\",\"#FF97FF\",\"#FECB52\"],\"font\":{\"color\":\"#2a3f5f\"},\"hovermode\":\"closest\",\"hoverlabel\":{\"align\":\"left\"},\"paper_bgcolor\":\"white\",\"plot_bgcolor\":\"#E5ECF6\",\"polar\":{\"bgcolor\":\"#E5ECF6\",\"angularaxis\":{\"gridcolor\":\"white\",\"linecolor\":\"white\",\"ticks\":\"\"},\"radialaxis\":{\"gridcolor\":\"white\",\"linecolor\":\"white\",\"ticks\":\"\"}},\"ternary\":{\"bgcolor\":\"#E5ECF6\",\"aaxis\":{\"gridcolor\":\"white\",\"linecolor\":\"white\",\"ticks\":\"\"},\"baxis\":{\"gridcolor\":\"white\",\"linecolor\":\"white\",\"ticks\":\"\"},\"caxis\":{\"gridcolor\":\"white\",\"linecolor\":\"white\",\"ticks\":\"\"}},\"coloraxis\":{\"colorbar\":{\"outlinewidth\":0,\"ticks\":\"\"}},\"colorscale\":{\"sequential\":[[0.0,\"#0d0887\"],[0.1111111111111111,\"#46039f\"],[0.2222222222222222,\"#7201a8\"],[0.3333333333333333,\"#9c179e\"],[0.4444444444444444,\"#bd3786\"],[0.5555555555555556,\"#d8576b\"],[0.6666666666666666,\"#ed7953\"],[0.7777777777777778,\"#fb9f3a\"],[0.8888888888888888,\"#fdca26\"],[1.0,\"#f0f921\"]],\"sequentialminus\":[[0.0,\"#0d0887\"],[0.1111111111111111,\"#46039f\"],[0.2222222222222222,\"#7201a8\"],[0.3333333333333333,\"#9c179e\"],[0.4444444444444444,\"#bd3786\"],[0.5555555555555556,\"#d8576b\"],[0.6666666666666666,\"#ed7953\"],[0.7777777777777778,\"#fb9f3a\"],[0.8888888888888888,\"#fdca26\"],[1.0,\"#f0f921\"]],\"diverging\":[[0,\"#8e0152\"],[0.1,\"#c51b7d\"],[0.2,\"#de77ae\"],[0.3,\"#f1b6da\"],[0.4,\"#fde0ef\"],[0.5,\"#f7f7f7\"],[0.6,\"#e6f5d0\"],[0.7,\"#b8e186\"],[0.8,\"#7fbc41\"],[0.9,\"#4d9221\"],[1,\"#276419\"]]},\"xaxis\":{\"gridcolor\":\"white\",\"linecolor\":\"white\",\"ticks\":\"\",\"title\":{\"standoff\":15},\"zerolinecolor\":\"white\",\"automargin\":true,\"zerolinewidth\":2},\"yaxis\":{\"gridcolor\":\"white\",\"linecolor\":\"white\",\"ticks\":\"\",\"title\":{\"standoff\":15},\"zerolinecolor\":\"white\",\"automargin\":true,\"zerolinewidth\":2},\"scene\":{\"xaxis\":{\"backgroundcolor\":\"#E5ECF6\",\"gridcolor\":\"white\",\"linecolor\":\"white\",\"showbackground\":true,\"ticks\":\"\",\"zerolinecolor\":\"white\",\"gridwidth\":2},\"yaxis\":{\"backgroundcolor\":\"#E5ECF6\",\"gridcolor\":\"white\",\"linecolor\":\"white\",\"showbackground\":true,\"ticks\":\"\",\"zerolinecolor\":\"white\",\"gridwidth\":2},\"zaxis\":{\"backgroundcolor\":\"#E5ECF6\",\"gridcolor\":\"white\",\"linecolor\":\"white\",\"showbackground\":true,\"ticks\":\"\",\"zerolinecolor\":\"white\",\"gridwidth\":2}},\"shapedefaults\":{\"line\":{\"color\":\"#2a3f5f\"}},\"annotationdefaults\":{\"arrowcolor\":\"#2a3f5f\",\"arrowhead\":0,\"arrowwidth\":1},\"geo\":{\"bgcolor\":\"white\",\"landcolor\":\"#E5ECF6\",\"subunitcolor\":\"white\",\"showland\":true,\"showlakes\":true,\"lakecolor\":\"white\"},\"title\":{\"x\":0.05},\"mapbox\":{\"style\":\"light\"}}},\"xaxis\":{\"anchor\":\"y\",\"domain\":[0.0,1.0],\"scaleanchor\":\"y\",\"constrain\":\"domain\"},\"yaxis\":{\"anchor\":\"x\",\"domain\":[0.0,1.0],\"autorange\":\"reversed\",\"constrain\":\"domain\"},\"coloraxis\":{\"colorscale\":[[0.0,\"rgb(5,48,97)\"],[0.1,\"rgb(33,102,172)\"],[0.2,\"rgb(67,147,195)\"],[0.3,\"rgb(146,197,222)\"],[0.4,\"rgb(209,229,240)\"],[0.5,\"rgb(247,247,247)\"],[0.6,\"rgb(253,219,199)\"],[0.7,\"rgb(244,165,130)\"],[0.8,\"rgb(214,96,77)\"],[0.9,\"rgb(178,24,43)\"],[1.0,\"rgb(103,0,31)\"]]},\"title\":{\"text\":\"\\uc77c\\ubc18\\ud654 \\uc774\\ud6c4_\\uc0c1\\uad00\\uad00\\uacc4 \\ud788\\ud2b8\\ub9f5\"}},                        {\"responsive\": true}                    ).then(function(){\n",
       "                            \n",
       "var gd = document.getElementById('4aea6e18-0464-4662-94dd-e3e9f13c261b');\n",
       "var x = new MutationObserver(function (mutations, observer) {{\n",
       "        var display = window.getComputedStyle(gd).display;\n",
       "        if (!display || display === 'none') {{\n",
       "            console.log([gd, 'removed!']);\n",
       "            Plotly.purge(gd);\n",
       "            observer.disconnect();\n",
       "        }}\n",
       "}});\n",
       "\n",
       "// Listen for the removal of the full notebook cells\n",
       "var notebookContainer = gd.closest('#notebook-container');\n",
       "if (notebookContainer) {{\n",
       "    x.observe(notebookContainer, {childList: true});\n",
       "}}\n",
       "\n",
       "// Listen for the clearing of the current output cell\n",
       "var outputEl = gd.closest('.output');\n",
       "if (outputEl) {{\n",
       "    x.observe(outputEl, {childList: true});\n",
       "}}\n",
       "\n",
       "                        })                };                });            </script>        </div>"
      ]
     },
     "metadata": {},
     "output_type": "display_data"
    }
   ],
   "source": [
    "fig = px.imshow(df_corr_2,text_auto=True, color_continuous_scale='RdBu_r',title='일반화 이후_상관관계 히트맵')\n",
    "fig.show()"
   ]
  },
  {
   "attachments": {
    "image-3.png": {
     "image/png": "[encoded data removed]"
    },
    "image-4.png": {
     "image/png": "[encoded data removed]"
    }
   },
   "cell_type": "markdown",
   "id": "9e3172bd",
   "metadata": {
    "slideshow": {
     "slide_type": "slide"
    }
   },
   "source": [
    "- Min-MAX Scaling을 진행한다고 해서, 상관계수가 변하지 않음을 알 수 있음\n",
    "- 그래프와 같이, 가계대출금리만 y값인 주택 전세가격지수와 음의 상관관계를 가짐을 알 수 있다\n",
    "![image-3.png](attachment:image-3.png)<br>\n",
    "![image-4.png](attachment:image-4.png)"
   ]
  },
  {
   "cell_type": "markdown",
   "id": "e2e156d7",
   "metadata": {
    "slideshow": {
     "slide_type": "slide"
    }
   },
   "source": [
    "> # 감사합니다"
   ]
  }
 ],
 "metadata": {
  "celltoolbar": "Slideshow",
  "kernelspec": {
   "display_name": "Python 3 (ipykernel)",
   "language": "python",
   "name": "python3"
  },
  "language_info": {
   "codemirror_mode": {
    "name": "ipython",
    "version": 3
   },
   "file_extension": ".py",
   "mimetype": "text/x-python",
   "name": "python",
   "nbconvert_exporter": "python",
   "pygments_lexer": "ipython3",
   "version": "3.9.12"
  },
  "toc": {
   "base_numbering": 1,
   "nav_menu": {},
   "number_sections": true,
   "sideBar": true,
   "skip_h1_title": false,
   "title_cell": "Table of Contents",
   "title_sidebar": "Contents",
   "toc_cell": false,
   "toc_position": {},
   "toc_section_display": true,
   "toc_window_display": false
  },
  "varInspector": {
   "cols": {
    "lenName": 16,
    "lenType": 16,
    "lenVar": 40
   },
   "kernels_config": {
    "python": {
     "delete_cmd_postfix": "",
     "delete_cmd_prefix": "del ",
     "library": "var_list.py",
     "varRefreshCmd": "print(var_dic_list())"
    },
    "r": {
     "delete_cmd_postfix": ") ",
     "delete_cmd_prefix": "rm(",
     "library": "var_list.r",
     "varRefreshCmd": "cat(var_dic_list()) "
    }
   },
   "types_to_exclude": [
    "module",
    "function",
    "builtin_function_or_method",
    "instance",
    "_Feature"
   ],
   "window_display": false
  }
 },
 "nbformat": 4,
 "nbformat_minor": 5
}
